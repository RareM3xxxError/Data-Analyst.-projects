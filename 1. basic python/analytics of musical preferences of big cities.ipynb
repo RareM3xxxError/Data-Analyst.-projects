{
 "cells": [
  {
   "cell_type": "markdown",
   "metadata": {
    "id": "E0vqbgi9ay0H"
   },
   "source": [
    "# Яндекс.Музыка"
   ]
  },
  {
   "cell_type": "markdown",
   "metadata": {
    "id": "VUC88oWjTJw2"
   },
   "source": [
    "Сравнение Москвы и Петербурга окружено мифами. Например:\n",
    " * Москва — мегаполис, подчинённый жёсткому ритму рабочей недели;\n",
    " * Петербург — культурная столица, со своими вкусами.\n",
    "\n",
    "**Цель исследования** — проверьте три гипотезы:\n",
    "1. Активность пользователей зависит от дня недели. Причём в Москве и Петербурге это проявляется по-разному.\n",
    "2. В понедельник утром в Москве преобладают одни жанры, а в Петербурге — другие. Так же и вечером пятницы преобладают разные жанры — в зависимости от города. \n",
    "3. Москва и Петербург предпочитают разные жанры музыки. В Москве чаще слушают поп-музыку, в Петербурге — русский рэп.\n",
    "\n",
    "**Ход исследования**\n",
    "\n",
    " 1. Обзор данных.\n",
    " 2. Предобработка данных.\n",
    " 3. Проверка гипотез.\n",
    "\n"
   ]
  },
  {
   "cell_type": "markdown",
   "metadata": {
    "id": "Ml1hmfXC_Zcs"
   },
   "source": [
    "## Обзор данных\n",
    "\n",
    "Составим первое представление о данных Яндекс.Музыки."
   ]
  },
  {
   "cell_type": "markdown",
   "metadata": {
    "id": "57eAOGIz_Zcs"
   },
   "source": [
    "Импортируем библиотеку `pandas`:"
   ]
  },
  {
   "cell_type": "code",
   "execution_count": 1,
   "metadata": {
    "id": "AXN7PHPN_Zcs"
   },
   "outputs": [],
   "source": [
    "# импорт библиотеки pandas\n",
    "import pandas as pd"
   ]
  },
  {
   "cell_type": "markdown",
   "metadata": {
    "id": "SG23P8tt_Zcs"
   },
   "source": [
    "Прочитаем файл `yandex_music_project.csv` из папки `/datasets` и сохраним его в переменной `df`:"
   ]
  },
  {
   "cell_type": "code",
   "execution_count": 2,
   "metadata": {
    "id": "fFVu7vqh_Zct"
   },
   "outputs": [],
   "source": [
    "# чтение файла с данными и сохранение в df\n",
    "df = pd.read_csv('yandex_music_project.csv')"
   ]
  },
  {
   "cell_type": "markdown",
   "metadata": {
    "id": "rDoOMd3uTqnZ"
   },
   "source": [
    "Выведем на экран первые десять строк таблицы:"
   ]
  },
  {
   "cell_type": "code",
   "execution_count": 3,
   "metadata": {
    "id": "oWTVX3gW_Zct"
   },
   "outputs": [
    {
     "data": {
      "text/html": [
       "<div>\n",
       "<style scoped>\n",
       "    .dataframe tbody tr th:only-of-type {\n",
       "        vertical-align: middle;\n",
       "    }\n",
       "\n",
       "    .dataframe tbody tr th {\n",
       "        vertical-align: top;\n",
       "    }\n",
       "\n",
       "    .dataframe thead th {\n",
       "        text-align: right;\n",
       "    }\n",
       "</style>\n",
       "<table border=\"1\" class=\"dataframe\">\n",
       "  <thead>\n",
       "    <tr style=\"text-align: right;\">\n",
       "      <th></th>\n",
       "      <th>userID</th>\n",
       "      <th>Track</th>\n",
       "      <th>artist</th>\n",
       "      <th>genre</th>\n",
       "      <th>City</th>\n",
       "      <th>time</th>\n",
       "      <th>Day</th>\n",
       "    </tr>\n",
       "  </thead>\n",
       "  <tbody>\n",
       "    <tr>\n",
       "      <th>0</th>\n",
       "      <td>FFB692EC</td>\n",
       "      <td>Kamigata To Boots</td>\n",
       "      <td>The Mass Missile</td>\n",
       "      <td>rock</td>\n",
       "      <td>Saint-Petersburg</td>\n",
       "      <td>20:28:33</td>\n",
       "      <td>Wednesday</td>\n",
       "    </tr>\n",
       "    <tr>\n",
       "      <th>1</th>\n",
       "      <td>55204538</td>\n",
       "      <td>Delayed Because of Accident</td>\n",
       "      <td>Andreas Rönnberg</td>\n",
       "      <td>rock</td>\n",
       "      <td>Moscow</td>\n",
       "      <td>14:07:09</td>\n",
       "      <td>Friday</td>\n",
       "    </tr>\n",
       "    <tr>\n",
       "      <th>2</th>\n",
       "      <td>20EC38</td>\n",
       "      <td>Funiculì funiculà</td>\n",
       "      <td>Mario Lanza</td>\n",
       "      <td>pop</td>\n",
       "      <td>Saint-Petersburg</td>\n",
       "      <td>20:58:07</td>\n",
       "      <td>Wednesday</td>\n",
       "    </tr>\n",
       "    <tr>\n",
       "      <th>3</th>\n",
       "      <td>A3DD03C9</td>\n",
       "      <td>Dragons in the Sunset</td>\n",
       "      <td>Fire + Ice</td>\n",
       "      <td>folk</td>\n",
       "      <td>Saint-Petersburg</td>\n",
       "      <td>08:37:09</td>\n",
       "      <td>Monday</td>\n",
       "    </tr>\n",
       "    <tr>\n",
       "      <th>4</th>\n",
       "      <td>E2DC1FAE</td>\n",
       "      <td>Soul People</td>\n",
       "      <td>Space Echo</td>\n",
       "      <td>dance</td>\n",
       "      <td>Moscow</td>\n",
       "      <td>08:34:34</td>\n",
       "      <td>Monday</td>\n",
       "    </tr>\n",
       "    <tr>\n",
       "      <th>5</th>\n",
       "      <td>842029A1</td>\n",
       "      <td>Преданная</td>\n",
       "      <td>IMPERVTOR</td>\n",
       "      <td>rusrap</td>\n",
       "      <td>Saint-Petersburg</td>\n",
       "      <td>13:09:41</td>\n",
       "      <td>Friday</td>\n",
       "    </tr>\n",
       "    <tr>\n",
       "      <th>6</th>\n",
       "      <td>4CB90AA5</td>\n",
       "      <td>True</td>\n",
       "      <td>Roman Messer</td>\n",
       "      <td>dance</td>\n",
       "      <td>Moscow</td>\n",
       "      <td>13:00:07</td>\n",
       "      <td>Wednesday</td>\n",
       "    </tr>\n",
       "    <tr>\n",
       "      <th>7</th>\n",
       "      <td>F03E1C1F</td>\n",
       "      <td>Feeling This Way</td>\n",
       "      <td>Polina Griffith</td>\n",
       "      <td>dance</td>\n",
       "      <td>Moscow</td>\n",
       "      <td>20:47:49</td>\n",
       "      <td>Wednesday</td>\n",
       "    </tr>\n",
       "    <tr>\n",
       "      <th>8</th>\n",
       "      <td>8FA1D3BE</td>\n",
       "      <td>И вновь продолжается бой</td>\n",
       "      <td>NaN</td>\n",
       "      <td>ruspop</td>\n",
       "      <td>Moscow</td>\n",
       "      <td>09:17:40</td>\n",
       "      <td>Friday</td>\n",
       "    </tr>\n",
       "    <tr>\n",
       "      <th>9</th>\n",
       "      <td>E772D5C0</td>\n",
       "      <td>Pessimist</td>\n",
       "      <td>NaN</td>\n",
       "      <td>dance</td>\n",
       "      <td>Saint-Petersburg</td>\n",
       "      <td>21:20:49</td>\n",
       "      <td>Wednesday</td>\n",
       "    </tr>\n",
       "  </tbody>\n",
       "</table>\n",
       "</div>"
      ],
      "text/plain": [
       "     userID                        Track            artist   genre  \\\n",
       "0  FFB692EC            Kamigata To Boots  The Mass Missile    rock   \n",
       "1  55204538  Delayed Because of Accident  Andreas Rönnberg    rock   \n",
       "2    20EC38            Funiculì funiculà       Mario Lanza     pop   \n",
       "3  A3DD03C9        Dragons in the Sunset        Fire + Ice    folk   \n",
       "4  E2DC1FAE                  Soul People        Space Echo   dance   \n",
       "5  842029A1                    Преданная         IMPERVTOR  rusrap   \n",
       "6  4CB90AA5                         True      Roman Messer   dance   \n",
       "7  F03E1C1F             Feeling This Way   Polina Griffith   dance   \n",
       "8  8FA1D3BE     И вновь продолжается бой               NaN  ruspop   \n",
       "9  E772D5C0                    Pessimist               NaN   dance   \n",
       "\n",
       "             City        time        Day  \n",
       "0  Saint-Petersburg  20:28:33  Wednesday  \n",
       "1            Moscow  14:07:09     Friday  \n",
       "2  Saint-Petersburg  20:58:07  Wednesday  \n",
       "3  Saint-Petersburg  08:37:09     Monday  \n",
       "4            Moscow  08:34:34     Monday  \n",
       "5  Saint-Petersburg  13:09:41     Friday  \n",
       "6            Moscow  13:00:07  Wednesday  \n",
       "7            Moscow  20:47:49  Wednesday  \n",
       "8            Moscow  09:17:40     Friday  \n",
       "9  Saint-Petersburg  21:20:49  Wednesday  "
      ]
     },
     "metadata": {},
     "output_type": "display_data"
    }
   ],
   "source": [
    "# получение первых 10 строк таблицы df\n",
    "display(df.head(10))"
   ]
  },
  {
   "cell_type": "markdown",
   "metadata": {
    "id": "EO73Kwic_Zct"
   },
   "source": [
    "Изучим общую информацию о таблице:"
   ]
  },
  {
   "cell_type": "code",
   "execution_count": 4,
   "metadata": {
    "id": "DSf2kIb-_Zct"
   },
   "outputs": [
    {
     "name": "stdout",
     "output_type": "stream",
     "text": [
      "<class 'pandas.core.frame.DataFrame'>\n",
      "RangeIndex: 65079 entries, 0 to 65078\n",
      "Data columns (total 7 columns):\n",
      " #   Column    Non-Null Count  Dtype \n",
      "---  ------    --------------  ----- \n",
      " 0     userID  65079 non-null  object\n",
      " 1   Track     63848 non-null  object\n",
      " 2   artist    57876 non-null  object\n",
      " 3   genre     63881 non-null  object\n",
      " 4     City    65079 non-null  object\n",
      " 5   time      65079 non-null  object\n",
      " 6   Day       65079 non-null  object\n",
      "dtypes: object(7)\n",
      "memory usage: 3.5+ MB\n"
     ]
    }
   ],
   "source": [
    "# получение общей информации о данных в таблице df\n",
    "df.info()"
   ]
  },
  {
   "cell_type": "markdown",
   "metadata": {
    "id": "TaQ2Iwbr_Zct"
   },
   "source": [
    "Итак, в таблице семь столбцов. Тип данных во всех столбцах — `object`.\n",
    "\n",
    "Согласно документации к данным:\n",
    "* `userID` — идентификатор пользователя;\n",
    "* `Track` — название трека;  \n",
    "* `artist` — имя исполнителя;\n",
    "* `genre` — название жанра;\n",
    "* `City` — город пользователя;\n",
    "* `time` — время начала прослушивания;\n",
    "* `Day` — день недели.\n",
    "\n",
    "В названиях колонок видны три нарушения стиля:\n",
    "1. Строчные буквы сочетаются с прописными.\n",
    "2. Встречаются пробелы.\n",
    "3. Название написано слитно, а не в «змеином_регистре».\n",
    "\n",
    "\n",
    "\n",
    "Количество значений в столбцах различается. Значит, в данных есть пропущенные значения.\n"
   ]
  },
  {
   "cell_type": "markdown",
   "metadata": {
    "id": "MCB6-dXG_Zct"
   },
   "source": [
    "**Выводы**\n",
    "\n",
    "В каждой строке таблицы — данные о прослушанном треке. Часть колонок описывает саму композицию: название, исполнителя и жанр. Остальные данные рассказывают о пользователе: из какого он города, когда он слушал музыку. \n",
    "\n",
    "Предварительно можно утверждать, что, данных достаточно для проверки гипотез. Но встречаются пропуски в данных, а в названиях колонок — расхождения с хорошим стилем.\n",
    "\n",
    "Чтобы двигаться дальше, нужно устранить проблемы в данных."
   ]
  },
  {
   "cell_type": "markdown",
   "metadata": {
    "id": "SjYF6Ub9_Zct"
   },
   "source": [
    "## Предобработка данных\n",
    "Исправим стиль в заголовках столбцов, исключим пропуски. Затем проверим данные на дубликаты."
   ]
  },
  {
   "cell_type": "markdown",
   "metadata": {
    "id": "dIaKXr29_Zct"
   },
   "source": [
    "### Стиль заголовков\n",
    "Выведем на экран названия столбцов:"
   ]
  },
  {
   "cell_type": "code",
   "execution_count": 5,
   "metadata": {
    "id": "oKOTdF_Q_Zct",
    "scrolled": false
   },
   "outputs": [
    {
     "data": {
      "text/plain": [
       "Index(['  userID', 'Track', 'artist', 'genre', '  City  ', 'time', 'Day'], dtype='object')"
      ]
     },
     "execution_count": 5,
     "metadata": {},
     "output_type": "execute_result"
    }
   ],
   "source": [
    "# перечень названий столбцов таблицы df\n",
    "df.columns"
   ]
  },
  {
   "cell_type": "markdown",
   "metadata": {
    "id": "zj5534cv_Zct"
   },
   "source": [
    "Приведем названия в соответствие с хорошим стилем:\n",
    "* несколько слов в названии запишем в «змеином_регистре»,\n",
    "* все символы сделаем строчными,\n",
    "* устраним пробелы:"
   ]
  },
  {
   "cell_type": "code",
   "execution_count": 6,
   "metadata": {
    "id": "ISlFqs5y_Zct"
   },
   "outputs": [],
   "source": [
    "# переименование столбцов\n",
    "df = df.rename(columns={'  userID': 'user_id', 'Track': 'Track'.lower() ,'  City  ': 'City'.lower(), 'Day': 'Day'.lower()}) "
   ]
  },
  {
   "cell_type": "markdown",
   "metadata": {
    "id": "1dqbh00J_Zct"
   },
   "source": [
    "Проверим результат. Для этого ещё раз выедем на экран названия столбцов:"
   ]
  },
  {
   "cell_type": "code",
   "execution_count": 7,
   "metadata": {
    "id": "d4NOAmTW_Zct"
   },
   "outputs": [
    {
     "name": "stdout",
     "output_type": "stream",
     "text": [
      "Index(['user_id', 'track', 'artist', 'genre', 'city', 'time', 'day'], dtype='object')\n"
     ]
    }
   ],
   "source": [
    "print(df.columns)# проверка результатов - перечень названий столбцов"
   ]
  },
  {
   "cell_type": "markdown",
   "metadata": {
    "id": "5ISfbcfY_Zct"
   },
   "source": [
    "### Пропуски значений\n",
    "Подсчитаем сколько в таблице пропущенных значений:"
   ]
  },
  {
   "cell_type": "code",
   "execution_count": 8,
   "metadata": {
    "id": "RskX29qr_Zct"
   },
   "outputs": [
    {
     "data": {
      "text/plain": [
       "user_id       0\n",
       "track      1231\n",
       "artist     7203\n",
       "genre      1198\n",
       "city          0\n",
       "time          0\n",
       "day           0\n",
       "dtype: int64"
      ]
     },
     "execution_count": 8,
     "metadata": {},
     "output_type": "execute_result"
    }
   ],
   "source": [
    "# подсчёт пропусков\n",
    "df.isna().sum()"
   ]
  },
  {
   "cell_type": "markdown",
   "metadata": {
    "id": "qubhgnlO_Zct"
   },
   "source": [
    "Не все пропущенные значения влияют на исследование. Так в `track` и `artist` пропуски не важны для нашей работы. Достаточно заменить их явными обозначениями.\n",
    "\n",
    "Но пропуски в `genre` могут помешать сравнению музыкальных вкусов в Москве и Санкт-Петербурге. На практике было бы правильно установить причину пропусков и восстановить данные. Такой возможности нет в учебном проекте. Придётся:\n",
    "* заполнить и эти пропуски явными обозначениями,\n",
    "* оценить, насколько они повредят расчётам. "
   ]
  },
  {
   "cell_type": "markdown",
   "metadata": {
    "id": "fSv2laPA_Zct"
   },
   "source": [
    "Заменим пропущенные значения в столбцах `track`, `artist` и `genre` на строку `'unknown'`:"
   ]
  },
  {
   "cell_type": "code",
   "execution_count": 9,
   "metadata": {
    "id": "KplB5qWs_Zct"
   },
   "outputs": [],
   "source": [
    "#перебор названий столбцов в цикле и замена пропущенных значений на 'unknown'\n",
    "columns_to_replace = ['track', 'artist', 'genre']\n",
    "for column in columns_to_replace:\n",
    "    df[column] = df[column].fillna('unknown') "
   ]
  },
  {
   "cell_type": "markdown",
   "metadata": {
    "id": "Ilsm-MZo_Zct"
   },
   "source": [
    "Убедимся, что в таблице не осталось пропусков. Для этого ещё раз посчитаем пропущенные значения."
   ]
  },
  {
   "cell_type": "code",
   "execution_count": 10,
   "metadata": {
    "id": "Tq4nYRX4_Zct"
   },
   "outputs": [
    {
     "data": {
      "text/plain": [
       "user_id    0\n",
       "track      0\n",
       "artist     0\n",
       "genre      0\n",
       "city       0\n",
       "time       0\n",
       "day        0\n",
       "dtype: int64"
      ]
     },
     "execution_count": 10,
     "metadata": {},
     "output_type": "execute_result"
    }
   ],
   "source": [
    "# подсчёт пропусков\n",
    "df.isna().sum()"
   ]
  },
  {
   "cell_type": "markdown",
   "metadata": {
    "id": "BWKRtBJ3_Zct"
   },
   "source": [
    "### Дубликаты\n",
    "Посчитаем явные дубликаты в таблице одной командой:"
   ]
  },
  {
   "cell_type": "code",
   "execution_count": 11,
   "metadata": {
    "id": "36eES_S0_Zct"
   },
   "outputs": [
    {
     "data": {
      "text/plain": [
       "3826"
      ]
     },
     "execution_count": 11,
     "metadata": {},
     "output_type": "execute_result"
    }
   ],
   "source": [
    "# подсчёт явных дубликатов\n",
    "df.duplicated().sum()"
   ]
  },
  {
   "cell_type": "markdown",
   "metadata": {
    "id": "Ot25h6XR_Zct"
   },
   "source": [
    "Вызовим специальный метод `pandas`, чтобы удалить явные дубликаты:"
   ]
  },
  {
   "cell_type": "code",
   "execution_count": 12,
   "metadata": {
    "id": "exFHq6tt_Zct"
   },
   "outputs": [],
   "source": [
    "# удаление явных дубликатов (с удалением старых индексов и формированием новых)\n",
    "df = df.drop_duplicates().reset_index(drop=True) "
   ]
  },
  {
   "cell_type": "markdown",
   "metadata": {
    "id": "Im2YwBEG_Zct"
   },
   "source": [
    "Ещё раз посчитаем явные дубликаты в таблице — убедимся, что полностью от них избавились:"
   ]
  },
  {
   "cell_type": "code",
   "execution_count": 13,
   "metadata": {
    "id": "-8PuNWQ0_Zct"
   },
   "outputs": [
    {
     "data": {
      "text/plain": [
       "0"
      ]
     },
     "execution_count": 13,
     "metadata": {},
     "output_type": "execute_result"
    }
   ],
   "source": [
    "# проверка на отсутствие дубликатов\n",
    "df.duplicated().sum()"
   ]
  },
  {
   "cell_type": "markdown",
   "metadata": {
    "id": "QlFBsxAr_Zct"
   },
   "source": [
    "Теперь избавьтесь от неявных дубликатов в колонке `genre`. Например, название одного и того же жанра может быть записано немного по-разному. Такие ошибки тоже повлияют на результат исследования."
   ]
  },
  {
   "cell_type": "markdown",
   "metadata": {
    "id": "eSjWwsOh_Zct"
   },
   "source": [
    "Выведите на экран список уникальных названий жанров, отсортированный в алфавитном порядке. Для этого:\n",
    "* извлеките нужный столбец датафрейма, \n",
    "* примените к нему метод сортировки,\n",
    "* для отсортированного столбца вызовите метод, который вернёт уникальные значения из столбца."
   ]
  },
  {
   "cell_type": "code",
   "execution_count": 14,
   "metadata": {
    "id": "JIUcqzZN_Zct"
   },
   "outputs": [
    {
     "data": {
      "text/plain": [
       "array(['acid', 'acoustic', 'action', 'adult', 'africa', 'afrikaans',\n",
       "       'alternative', 'alternativepunk', 'ambient', 'americana',\n",
       "       'animated', 'anime', 'arabesk', 'arabic', 'arena',\n",
       "       'argentinetango', 'art', 'audiobook', 'author', 'avantgarde',\n",
       "       'axé', 'baile', 'balkan', 'beats', 'bigroom', 'black', 'bluegrass',\n",
       "       'blues', 'bollywood', 'bossa', 'brazilian', 'breakbeat', 'breaks',\n",
       "       'broadway', 'cantautori', 'cantopop', 'canzone', 'caribbean',\n",
       "       'caucasian', 'celtic', 'chamber', 'chanson', 'children', 'chill',\n",
       "       'chinese', 'choral', 'christian', 'christmas', 'classical',\n",
       "       'classicmetal', 'club', 'colombian', 'comedy', 'conjazz',\n",
       "       'contemporary', 'country', 'cuban', 'dance', 'dancehall',\n",
       "       'dancepop', 'dark', 'death', 'deep', 'deutschrock', 'deutschspr',\n",
       "       'dirty', 'disco', 'dnb', 'documentary', 'downbeat', 'downtempo',\n",
       "       'drum', 'dub', 'dubstep', 'eastern', 'easy', 'electronic',\n",
       "       'electropop', 'emo', 'entehno', 'epicmetal', 'estrada', 'ethnic',\n",
       "       'eurofolk', 'european', 'experimental', 'extrememetal', 'fado',\n",
       "       'fairytail', 'film', 'fitness', 'flamenco', 'folk', 'folklore',\n",
       "       'folkmetal', 'folkrock', 'folktronica', 'forró', 'frankreich',\n",
       "       'französisch', 'french', 'funk', 'future', 'gangsta', 'garage',\n",
       "       'german', 'ghazal', 'gitarre', 'glitch', 'gospel', 'gothic',\n",
       "       'grime', 'grunge', 'gypsy', 'handsup', \"hard'n'heavy\", 'hardcore',\n",
       "       'hardstyle', 'hardtechno', 'hip', 'hip-hop', 'hiphop',\n",
       "       'historisch', 'holiday', 'hop', 'horror', 'house', 'hymn', 'idm',\n",
       "       'independent', 'indian', 'indie', 'indipop', 'industrial',\n",
       "       'inspirational', 'instrumental', 'international', 'irish', 'jam',\n",
       "       'japanese', 'jazz', 'jewish', 'jpop', 'jungle', 'k-pop',\n",
       "       'karadeniz', 'karaoke', 'kayokyoku', 'korean', 'laiko', 'latin',\n",
       "       'latino', 'leftfield', 'local', 'lounge', 'loungeelectronic',\n",
       "       'lovers', 'malaysian', 'mandopop', 'marschmusik', 'meditative',\n",
       "       'mediterranean', 'melodic', 'metal', 'metalcore', 'mexican',\n",
       "       'middle', 'minimal', 'miscellaneous', 'modern', 'mood', 'mpb',\n",
       "       'muslim', 'native', 'neoklassik', 'neue', 'new', 'newage',\n",
       "       'newwave', 'nu', 'nujazz', 'numetal', 'oceania', 'old', 'opera',\n",
       "       'orchestral', 'other', 'piano', 'podcasts', 'pop', 'popdance',\n",
       "       'popelectronic', 'popeurodance', 'poprussian', 'post',\n",
       "       'posthardcore', 'postrock', 'power', 'progmetal', 'progressive',\n",
       "       'psychedelic', 'punjabi', 'punk', 'quebecois', 'ragga', 'ram',\n",
       "       'rancheras', 'rap', 'rave', 'reggae', 'reggaeton', 'regional',\n",
       "       'relax', 'religious', 'retro', 'rhythm', 'rnb', 'rnr', 'rock',\n",
       "       'rockabilly', 'rockalternative', 'rockindie', 'rockother',\n",
       "       'romance', 'roots', 'ruspop', 'rusrap', 'rusrock', 'russian',\n",
       "       'salsa', 'samba', 'scenic', 'schlager', 'self', 'sertanejo',\n",
       "       'shanson', 'shoegazing', 'showtunes', 'singer', 'ska', 'skarock',\n",
       "       'slow', 'smooth', 'soft', 'soul', 'soulful', 'sound', 'soundtrack',\n",
       "       'southern', 'specialty', 'speech', 'spiritual', 'sport',\n",
       "       'stonerrock', 'surf', 'swing', 'synthpop', 'synthrock',\n",
       "       'sängerportrait', 'tango', 'tanzorchester', 'taraftar', 'tatar',\n",
       "       'tech', 'techno', 'teen', 'thrash', 'top', 'traditional',\n",
       "       'tradjazz', 'trance', 'tribal', 'trip', 'triphop', 'tropical',\n",
       "       'türk', 'türkçe', 'ukrrock', 'unknown', 'urban', 'uzbek',\n",
       "       'variété', 'vi', 'videogame', 'vocal', 'western', 'world',\n",
       "       'worldbeat', 'ïîï', 'электроника'], dtype=object)"
      ]
     },
     "execution_count": 14,
     "metadata": {},
     "output_type": "execute_result"
    }
   ],
   "source": [
    "# Просмотр уникальных названий жанров\n",
    "df['genre'].sort_values().unique()"
   ]
  },
  {
   "cell_type": "markdown",
   "metadata": {
    "id": "qej-Qmuo_Zct"
   },
   "source": [
    "После изучения списка были обнаружены неявные дубликаты и недочеты:\n",
    "1. Неявные дубли других жанров, например:\n",
    "`'hiphop' - 'hop', 'hip','hip-hop'`\n",
    "\n",
    "`'africa' - 'afrikaans'`\n",
    "\n",
    "`'alternative' - 'alternativepunk'`\n",
    "\n",
    "`'animated' - 'anime'`\n",
    "\n",
    "`'electronic' - 'электроника'`\n",
    "\n",
    "и др.\n",
    "\n",
    "2. Неполные названия, неимеющие явные дубли, например: \n",
    "\n",
    "`'death'`, вероятнее всего 'deathcore' - направление экстремального метала\n",
    "\n",
    "3. Использование не латинских символов, например:\n",
    "\n",
    "`'türk'`, `'sängerportrait'` и др.\n",
    "\n",
    "4. Явно непонятные жанры, например:\n",
    "\n",
    "`ïîï`\n",
    "\n",
    "Чтобы очистить от них таблицу, напишем функцию `replace_wrong_genres()` с двумя параметрами: \n",
    "* `wrong_genres` — список дубликатов,\n",
    "* `correct_genre` — строка с правильным значением.\n"
   ]
  },
  {
   "cell_type": "code",
   "execution_count": 15,
   "metadata": {
    "id": "ErNDkmns_Zct"
   },
   "outputs": [],
   "source": [
    "# Функция для замены неявных дубликатов\n",
    "def replace_wrong_genres(wrong_genres, correct_genre):\n",
    "    for wrong_genres in wrong_genres:\n",
    "        df['genre'] = df['genre'].replace(wrong_genres, correct_genre)"
   ]
  },
  {
   "cell_type": "markdown",
   "metadata": {
    "id": "aDoBJxbA_Zct"
   },
   "source": [
    "Вызовиv `replace_wrong_genres()` и передадим ей такие аргументы, чтобы она устранила неявные дубликаты: вместо `hip`, `hop` и `hip-hop` в таблице должно быть значение `hiphop`:"
   ]
  },
  {
   "cell_type": "code",
   "execution_count": 16,
   "metadata": {
    "id": "YN5i2hpmSo09"
   },
   "outputs": [],
   "source": [
    "# Устранение неявных дубликатов\n",
    "duplicates = ['hip', 'hop', 'hip-hop']\n",
    "genre = 'hiphop'\n",
    "replace_wrong_genres(duplicates, genre)"
   ]
  },
  {
   "cell_type": "markdown",
   "metadata": {
    "id": "zQKF16_RG15m"
   },
   "source": [
    "Проверим, что заменили неправильные названия:\n",
    "*   hip\n",
    "*   hop\n",
    "*   hip-hop\n",
    "Выведите отсортированный список уникальных значений столбца `genre`:"
   ]
  },
  {
   "cell_type": "code",
   "execution_count": 17,
   "metadata": {
    "id": "wvixALnFG15m",
    "scrolled": true
   },
   "outputs": [
    {
     "data": {
      "text/plain": [
       "array(['acid', 'acoustic', 'action', 'adult', 'africa', 'afrikaans',\n",
       "       'alternative', 'alternativepunk', 'ambient', 'americana',\n",
       "       'animated', 'anime', 'arabesk', 'arabic', 'arena',\n",
       "       'argentinetango', 'art', 'audiobook', 'author', 'avantgarde',\n",
       "       'axé', 'baile', 'balkan', 'beats', 'bigroom', 'black', 'bluegrass',\n",
       "       'blues', 'bollywood', 'bossa', 'brazilian', 'breakbeat', 'breaks',\n",
       "       'broadway', 'cantautori', 'cantopop', 'canzone', 'caribbean',\n",
       "       'caucasian', 'celtic', 'chamber', 'chanson', 'children', 'chill',\n",
       "       'chinese', 'choral', 'christian', 'christmas', 'classical',\n",
       "       'classicmetal', 'club', 'colombian', 'comedy', 'conjazz',\n",
       "       'contemporary', 'country', 'cuban', 'dance', 'dancehall',\n",
       "       'dancepop', 'dark', 'death', 'deep', 'deutschrock', 'deutschspr',\n",
       "       'dirty', 'disco', 'dnb', 'documentary', 'downbeat', 'downtempo',\n",
       "       'drum', 'dub', 'dubstep', 'eastern', 'easy', 'electronic',\n",
       "       'electropop', 'emo', 'entehno', 'epicmetal', 'estrada', 'ethnic',\n",
       "       'eurofolk', 'european', 'experimental', 'extrememetal', 'fado',\n",
       "       'fairytail', 'film', 'fitness', 'flamenco', 'folk', 'folklore',\n",
       "       'folkmetal', 'folkrock', 'folktronica', 'forró', 'frankreich',\n",
       "       'französisch', 'french', 'funk', 'future', 'gangsta', 'garage',\n",
       "       'german', 'ghazal', 'gitarre', 'glitch', 'gospel', 'gothic',\n",
       "       'grime', 'grunge', 'gypsy', 'handsup', \"hard'n'heavy\", 'hardcore',\n",
       "       'hardstyle', 'hardtechno', 'hiphop', 'historisch', 'holiday',\n",
       "       'horror', 'house', 'hymn', 'idm', 'independent', 'indian', 'indie',\n",
       "       'indipop', 'industrial', 'inspirational', 'instrumental',\n",
       "       'international', 'irish', 'jam', 'japanese', 'jazz', 'jewish',\n",
       "       'jpop', 'jungle', 'k-pop', 'karadeniz', 'karaoke', 'kayokyoku',\n",
       "       'korean', 'laiko', 'latin', 'latino', 'leftfield', 'local',\n",
       "       'lounge', 'loungeelectronic', 'lovers', 'malaysian', 'mandopop',\n",
       "       'marschmusik', 'meditative', 'mediterranean', 'melodic', 'metal',\n",
       "       'metalcore', 'mexican', 'middle', 'minimal', 'miscellaneous',\n",
       "       'modern', 'mood', 'mpb', 'muslim', 'native', 'neoklassik', 'neue',\n",
       "       'new', 'newage', 'newwave', 'nu', 'nujazz', 'numetal', 'oceania',\n",
       "       'old', 'opera', 'orchestral', 'other', 'piano', 'podcasts', 'pop',\n",
       "       'popdance', 'popelectronic', 'popeurodance', 'poprussian', 'post',\n",
       "       'posthardcore', 'postrock', 'power', 'progmetal', 'progressive',\n",
       "       'psychedelic', 'punjabi', 'punk', 'quebecois', 'ragga', 'ram',\n",
       "       'rancheras', 'rap', 'rave', 'reggae', 'reggaeton', 'regional',\n",
       "       'relax', 'religious', 'retro', 'rhythm', 'rnb', 'rnr', 'rock',\n",
       "       'rockabilly', 'rockalternative', 'rockindie', 'rockother',\n",
       "       'romance', 'roots', 'ruspop', 'rusrap', 'rusrock', 'russian',\n",
       "       'salsa', 'samba', 'scenic', 'schlager', 'self', 'sertanejo',\n",
       "       'shanson', 'shoegazing', 'showtunes', 'singer', 'ska', 'skarock',\n",
       "       'slow', 'smooth', 'soft', 'soul', 'soulful', 'sound', 'soundtrack',\n",
       "       'southern', 'specialty', 'speech', 'spiritual', 'sport',\n",
       "       'stonerrock', 'surf', 'swing', 'synthpop', 'synthrock',\n",
       "       'sängerportrait', 'tango', 'tanzorchester', 'taraftar', 'tatar',\n",
       "       'tech', 'techno', 'teen', 'thrash', 'top', 'traditional',\n",
       "       'tradjazz', 'trance', 'tribal', 'trip', 'triphop', 'tropical',\n",
       "       'türk', 'türkçe', 'ukrrock', 'unknown', 'urban', 'uzbek',\n",
       "       'variété', 'vi', 'videogame', 'vocal', 'western', 'world',\n",
       "       'worldbeat', 'ïîï', 'электроника'], dtype=object)"
      ]
     },
     "execution_count": 17,
     "metadata": {},
     "output_type": "execute_result"
    }
   ],
   "source": [
    "# Проверка на неявные дубликаты\n",
    "df['genre'].sort_values().unique()"
   ]
  },
  {
   "cell_type": "code",
   "execution_count": 18,
   "metadata": {
    "scrolled": true
   },
   "outputs": [
    {
     "data": {
      "text/plain": [
       "0"
      ]
     },
     "execution_count": 18,
     "metadata": {},
     "output_type": "execute_result"
    }
   ],
   "source": [
    "df.duplicated().sum()"
   ]
  },
  {
   "cell_type": "markdown",
   "metadata": {},
   "source": [
    "По такому же принципу исправим оставшиеся недочёты в данных:"
   ]
  },
  {
   "cell_type": "code",
   "execution_count": 19,
   "metadata": {},
   "outputs": [],
   "source": [
    "#Неявные дубли других жанров\n",
    "duplicates = ['africa', 'afrikaans']\n",
    "genre = 'african'\n",
    "replace_wrong_genres(duplicates, genre)\n",
    "duplicates = ['animated']\n",
    "genre = 'anime'\n",
    "replace_wrong_genres(duplicates, genre)\n",
    "duplicates = ['latino']\n",
    "genre = 'latin'\n",
    "replace_wrong_genres(duplicates, genre)\n",
    "duplicates = ['электроника']\n",
    "genre = 'electronic'\n",
    "replace_wrong_genres(duplicates, genre)\n",
    "duplicates = ['türk', 'türkçe']\n",
    "genre = 'turksich'\n",
    "replace_wrong_genres(duplicates, genre)\n",
    "duplicates = ['neue'] # немецкое слово = new (англ.)\n",
    "genre = 'new'\n",
    "replace_wrong_genres(duplicates, genre) \n",
    "\n",
    "#Неполные названия, неимеющие явные дубли:\n",
    "df['genre'] = df['genre'].replace('death', 'deathcore')\n",
    "df['genre'] = df['genre'].replace('deep', 'deephouse') \n",
    "\n",
    "#Замена символов для соблюдения стиля:\n",
    "df['genre'] = df['genre'].replace('axé', 'axe')\n",
    "df['genre'] = df['genre'].replace('forró', 'forro') \n",
    "df['genre'] = df['genre'].replace('französisch', 'franzoisch') \n",
    "df['genre'] = df['genre'].replace('forró', 'forro') \n",
    "df['genre'] = df['genre'].replace( \"hard'n'heavy\", 'hardnheavy') #слитно, по-аналогии с уже существующим 'rnr' \n",
    "df['genre'] = df['genre'].replace('k-pop', 'kpop') #слитно, по-аналогии с hiphop\n",
    "df['genre'] = df['genre'].replace('sängerportrait', 'sangerportrait') \n",
    "df['genre'] = df['genre'].replace('variété', 'variete')\n",
    "\n",
    "\n",
    "#замена явно непонятных жанров\n",
    "unknown_genre = df[df['genre'] == 'ïîï'] \n",
    "#print(unknown_genre) #проверка что содержит\n",
    "duplicates = ['ïîï']\n",
    "genre = 'unknown' # добавим в уже существующую графу с неизветсными жанрами\n",
    "replace_wrong_genres(duplicates, genre)\n",
    "unknown_genre = df[df['genre'] == 'vi'] \n",
    "#print(unknown_genre) # проверка что содержит \n",
    "duplicates = ['vi']\n",
    "genre = 'other'\n",
    "replace_wrong_genres(duplicates, genre)  # содержит 3 трека  которые можно найти в интеренете, добавили в уже существующий жанр 'other'\n"
   ]
  },
  {
   "cell_type": "markdown",
   "metadata": {},
   "source": [
    "<div class=\"alert alert-success\">\n",
    "<b>🤌 Комментарий ревьюера  </b> \n",
    "    \n",
    "Браво! Вот это по-настоящему тщательный подход\n",
    "\n",
    "![](https://i.gifer.com/Be.gif)\n",
    "    \n",
    "</div>"
   ]
  },
  {
   "cell_type": "code",
   "execution_count": 20,
   "metadata": {},
   "outputs": [
    {
     "name": "stdout",
     "output_type": "stream",
     "text": [
      "['acid' 'acoustic' 'action' 'adult' 'african' 'alternative'\n",
      " 'alternativepunk' 'ambient' 'americana' 'anime' 'arabesk' 'arabic'\n",
      " 'arena' 'argentinetango' 'art' 'audiobook' 'author' 'avantgarde' 'axe'\n",
      " 'baile' 'balkan' 'beats' 'bigroom' 'black' 'bluegrass' 'blues'\n",
      " 'bollywood' 'bossa' 'brazilian' 'breakbeat' 'breaks' 'broadway'\n",
      " 'cantautori' 'cantopop' 'canzone' 'caribbean' 'caucasian' 'celtic'\n",
      " 'chamber' 'chanson' 'children' 'chill' 'chinese' 'choral' 'christian'\n",
      " 'christmas' 'classical' 'classicmetal' 'club' 'colombian' 'comedy'\n",
      " 'conjazz' 'contemporary' 'country' 'cuban' 'dance' 'dancehall' 'dancepop'\n",
      " 'dark' 'deathcore' 'deephouse' 'deutschrock' 'deutschspr' 'dirty' 'disco'\n",
      " 'dnb' 'documentary' 'downbeat' 'downtempo' 'drum' 'dub' 'dubstep'\n",
      " 'eastern' 'easy' 'electronic' 'electropop' 'emo' 'entehno' 'epicmetal'\n",
      " 'estrada' 'ethnic' 'eurofolk' 'european' 'experimental' 'extrememetal'\n",
      " 'fado' 'fairytail' 'film' 'fitness' 'flamenco' 'folk' 'folklore'\n",
      " 'folkmetal' 'folkrock' 'folktronica' 'forro' 'frankreich' 'franzoisch'\n",
      " 'french' 'funk' 'future' 'gangsta' 'garage' 'german' 'ghazal' 'gitarre'\n",
      " 'glitch' 'gospel' 'gothic' 'grime' 'grunge' 'gypsy' 'handsup' 'hardcore'\n",
      " 'hardnheavy' 'hardstyle' 'hardtechno' 'hiphop' 'historisch' 'holiday'\n",
      " 'horror' 'house' 'hymn' 'idm' 'independent' 'indian' 'indie' 'indipop'\n",
      " 'industrial' 'inspirational' 'instrumental' 'international' 'irish' 'jam'\n",
      " 'japanese' 'jazz' 'jewish' 'jpop' 'jungle' 'karadeniz' 'karaoke'\n",
      " 'kayokyoku' 'korean' 'kpop' 'laiko' 'latin' 'leftfield' 'local' 'lounge'\n",
      " 'loungeelectronic' 'lovers' 'malaysian' 'mandopop' 'marschmusik'\n",
      " 'meditative' 'mediterranean' 'melodic' 'metal' 'metalcore' 'mexican'\n",
      " 'middle' 'minimal' 'miscellaneous' 'modern' 'mood' 'mpb' 'muslim'\n",
      " 'native' 'neoklassik' 'new' 'newage' 'newwave' 'nu' 'nujazz' 'numetal'\n",
      " 'oceania' 'old' 'opera' 'orchestral' 'other' 'piano' 'podcasts' 'pop'\n",
      " 'popdance' 'popelectronic' 'popeurodance' 'poprussian' 'post'\n",
      " 'posthardcore' 'postrock' 'power' 'progmetal' 'progressive' 'psychedelic'\n",
      " 'punjabi' 'punk' 'quebecois' 'ragga' 'ram' 'rancheras' 'rap' 'rave'\n",
      " 'reggae' 'reggaeton' 'regional' 'relax' 'religious' 'retro' 'rhythm'\n",
      " 'rnb' 'rnr' 'rock' 'rockabilly' 'rockalternative' 'rockindie' 'rockother'\n",
      " 'romance' 'roots' 'ruspop' 'rusrap' 'rusrock' 'russian' 'salsa' 'samba'\n",
      " 'sangerportrait' 'scenic' 'schlager' 'self' 'sertanejo' 'shanson'\n",
      " 'shoegazing' 'showtunes' 'singer' 'ska' 'skarock' 'slow' 'smooth' 'soft'\n",
      " 'soul' 'soulful' 'sound' 'soundtrack' 'southern' 'specialty' 'speech'\n",
      " 'spiritual' 'sport' 'stonerrock' 'surf' 'swing' 'synthpop' 'synthrock'\n",
      " 'tango' 'tanzorchester' 'taraftar' 'tatar' 'tech' 'techno' 'teen'\n",
      " 'thrash' 'top' 'traditional' 'tradjazz' 'trance' 'tribal' 'trip'\n",
      " 'triphop' 'tropical' 'turksich' 'ukrrock' 'unknown' 'urban' 'uzbek'\n",
      " 'variete' 'videogame' 'vocal' 'western' 'world' 'worldbeat']\n"
     ]
    }
   ],
   "source": [
    "# Проверка на неявные дубликаты\n",
    "unique_genre = df['genre'].unique()\n",
    "unique_genre.sort()\n",
    "print(unique_genre)"
   ]
  },
  {
   "cell_type": "markdown",
   "metadata": {
    "id": "jz6a9-7HQUDd"
   },
   "source": [
    "**Выводы**\n",
    "\n",
    "Предобработка обнаружила три проблемы в данных:\n",
    "\n",
    "- нарушения в стиле заголовков,\n",
    "- пропущенные значения,\n",
    "- дубликаты — явные и неявные.\n",
    "\n",
    "Заголовки исправили, чтобы упростить работу с таблицей. Без дубликатов исследование станет более точным.\n",
    "\n",
    "Пропущенные значения заменили на `'unknown'`. Ещё предстоит увидеть, не повредят ли исследованию пропуски в колонке `genre`.\n",
    "\n",
    "Теперь можно перейти к проверке гипотез. "
   ]
  },
  {
   "cell_type": "markdown",
   "metadata": {
    "id": "WttZHXH0SqKk"
   },
   "source": [
    "## Проверка гипотез"
   ]
  },
  {
   "cell_type": "markdown",
   "metadata": {
    "id": "Im936VVi_Zcu"
   },
   "source": [
    "### Сравнение поведения пользователей двух столиц"
   ]
  },
  {
   "cell_type": "markdown",
   "metadata": {
    "id": "nwt_MuaL_Zcu"
   },
   "source": [
    "Первая гипотеза утверждает, что пользователи по-разному слушают музыку в Москве и Санкт-Петербурге. Проверим это предположение по данным о трёх днях недели — понедельнике, среде и пятнице. Для этого:\n",
    "\n",
    "* Разделим пользователей Москвы и Санкт-Петербурга\n",
    "* Сравним, сколько треков послушала каждая группа пользователей в понедельник, среду и пятницу.\n"
   ]
  },
  {
   "cell_type": "markdown",
   "metadata": {
    "id": "8Dw_YMmT_Zcu"
   },
   "source": [
    "Для тренировки сначала выполним каждый из расчётов по отдельности. \n",
    "\n",
    "Оценим активность пользователей в каждом городе. Сгруппируем данные по городу и посчитаем прослушивания в каждой группе.\n",
    "\n"
   ]
  },
  {
   "cell_type": "code",
   "execution_count": 21,
   "metadata": {
    "id": "0_Qs96oh_Zcu"
   },
   "outputs": [
    {
     "data": {
      "text/plain": [
       "city\n",
       "Moscow              42741\n",
       "Saint-Petersburg    18512\n",
       "Name: user_id, dtype: int64"
      ]
     },
     "execution_count": 21,
     "metadata": {},
     "output_type": "execute_result"
    }
   ],
   "source": [
    "# Подсчёт прослушиваний в каждом городе\n",
    "city_grouping = df.groupby('city')['user_id'].count()\n",
    "city_grouping"
   ]
  },
  {
   "cell_type": "markdown",
   "metadata": {
    "id": "dzli3w8o_Zcu"
   },
   "source": [
    "В Москве прослушиваний больше, чем в Петербурге. Из этого не следует, что московские пользователи чаще слушают музыку. Просто самих пользователей в Москве больше.\n",
    "\n",
    "Теперь сгруппируем данные по дню недели и подсчитаем прослушивания в понедельник, среду и пятницу."
   ]
  },
  {
   "cell_type": "code",
   "execution_count": 22,
   "metadata": {
    "id": "uZMKjiJz_Zcu"
   },
   "outputs": [
    {
     "data": {
      "text/plain": [
       "day\n",
       "Friday       21840\n",
       "Monday       21354\n",
       "Wednesday    18059\n",
       "Name: user_id, dtype: int64"
      ]
     },
     "execution_count": 22,
     "metadata": {},
     "output_type": "execute_result"
    }
   ],
   "source": [
    "# Подсчёт прослушиваний в каждый из трёх дней\n",
    "day_gruping = df.groupby('day')['user_id'].count()\n",
    "day_gruping"
   ]
  },
  {
   "cell_type": "markdown",
   "metadata": {
    "id": "cC2tNrlL_Zcu"
   },
   "source": [
    "В среднем пользователи из двух городов менее активны по средам. Но картина может измениться, если рассмотреть каждый город в отдельности."
   ]
  },
  {
   "cell_type": "markdown",
   "metadata": {
    "id": "POzs8bGa_Zcu"
   },
   "source": [
    "Мы видели, как работает группировка по городу и по дням недели. Теперь напишим функцию, которая объединит два эти расчёта.\n",
    "\n",
    "Создадим функцию `number_tracks()`, которая посчитает прослушивания для заданного дня и города. Ей понадобятся два параметра:\n",
    "* день недели,\n",
    "* название города.\n",
    "\n",
    "В функции сохраним в переменную строки исходной таблицы, у которых значение:\n",
    "  * в колонке `day` равно параметру `day`,\n",
    "  * в колонке `city` равно параметру `city`.\n",
    "\n",
    "Для этого применим последовательную фильтрацию с логической индексацией.\n",
    "\n",
    "Затем посчитаем значения в столбце `user_id` получившейся таблицы. Результат сохраним в новую переменную."
   ]
  },
  {
   "cell_type": "code",
   "execution_count": 23,
   "metadata": {
    "id": "Nz3GdQB1_Zcu"
   },
   "outputs": [],
   "source": [
    "# <создание функции number_tracks()>\n",
    "# Объявляется функция с двумя параметрами: day, city.\n",
    "# В переменной track_list сохраняются те строки таблицы df, для которых \n",
    "# значение в столбце 'day' равно параметру day и одновременно значение\n",
    "# в столбце 'city' равно параметру city (используйте последовательную фильтрацию\n",
    "# с помощью логической индексации).\n",
    "# В переменной track_list_count сохраняется число значений столбца 'user_id',\n",
    "# рассчитанное методом count() для таблицы track_list.\n",
    "# Функция возвращает число - значение track_list_count.\n",
    "\n",
    "# Функция для подсчёта прослушиваний для конкретного города и дня.\n",
    "# С помощью последовательной фильтрации с логической индексацией она \n",
    "# сначала получит из исходной таблицы строки с нужным днём,\n",
    "# затем из результата отфильтрует строки с нужным городом,\n",
    "# методом count() посчитает количество значений в колонке user_id. \n",
    "# Это количество функция вернёт в качестве результата\n",
    "def number_tracks(day, city):\n",
    "    track_list = df[(df['day'] == day) & (df['city'] == city)] \n",
    "    track_list_count = track_list['user_id'].count()\n",
    "    return track_list_count\n"
   ]
  },
  {
   "cell_type": "markdown",
   "metadata": {
    "id": "ytf7xFrFJQ2r"
   },
   "source": [
    "Вызовим `number_tracks()` шесть раз, меняя значение параметров — так, чтобы получить данные для каждого города в каждый из трёх дней."
   ]
  },
  {
   "cell_type": "code",
   "execution_count": 24,
   "metadata": {
    "id": "rJcRATNQ_Zcu"
   },
   "outputs": [
    {
     "data": {
      "text/plain": [
       "15740"
      ]
     },
     "execution_count": 24,
     "metadata": {},
     "output_type": "execute_result"
    }
   ],
   "source": [
    "# количество прослушиваний в Москве по понедельникам\n",
    "number_tracks('Monday', 'Moscow') "
   ]
  },
  {
   "cell_type": "code",
   "execution_count": 25,
   "metadata": {
    "id": "hq_ncZ5T_Zcu"
   },
   "outputs": [
    {
     "data": {
      "text/plain": [
       "5614"
      ]
     },
     "execution_count": 25,
     "metadata": {},
     "output_type": "execute_result"
    }
   ],
   "source": [
    "# количество прослушиваний в Санкт-Петербурге по понедельникам\n",
    "number_tracks('Monday', 'Saint-Petersburg') "
   ]
  },
  {
   "cell_type": "code",
   "execution_count": 26,
   "metadata": {
    "id": "_NTy2VPU_Zcu"
   },
   "outputs": [
    {
     "data": {
      "text/plain": [
       "11056"
      ]
     },
     "execution_count": 26,
     "metadata": {},
     "output_type": "execute_result"
    }
   ],
   "source": [
    "# количество прослушиваний в Москве по средам\n",
    "number_tracks('Wednesday', 'Moscow') "
   ]
  },
  {
   "cell_type": "code",
   "execution_count": 27,
   "metadata": {
    "id": "j2y3TAwo_Zcu"
   },
   "outputs": [
    {
     "data": {
      "text/plain": [
       "7003"
      ]
     },
     "execution_count": 27,
     "metadata": {},
     "output_type": "execute_result"
    }
   ],
   "source": [
    "# количество прослушиваний в Санкт-Петербурге по средам\n",
    "number_tracks('Wednesday', 'Saint-Petersburg') "
   ]
  },
  {
   "cell_type": "code",
   "execution_count": 28,
   "metadata": {
    "id": "vYDw5u_K_Zcu"
   },
   "outputs": [
    {
     "data": {
      "text/plain": [
       "15945"
      ]
     },
     "execution_count": 28,
     "metadata": {},
     "output_type": "execute_result"
    }
   ],
   "source": [
    "# количество прослушиваний в Москве по пятницам\n",
    "number_tracks('Friday', 'Moscow') "
   ]
  },
  {
   "cell_type": "code",
   "execution_count": 29,
   "metadata": {
    "id": "8_yzFtW3_Zcu"
   },
   "outputs": [
    {
     "data": {
      "text/plain": [
       "5895"
      ]
     },
     "execution_count": 29,
     "metadata": {},
     "output_type": "execute_result"
    }
   ],
   "source": [
    "# количество прослушиваний в Санкт-Петербурге по пятницам\n",
    "number_tracks('Friday', 'Saint-Petersburg')  "
   ]
  },
  {
   "cell_type": "markdown",
   "metadata": {},
   "source": [
    "<div class=\"alert alert-success\">\n",
    "<b>🤌 Комментарий ревьюера </b> \n",
    "    \n",
    "Супер, теперь мы знаем о слушателях куда больше! </div>"
   ]
  },
  {
   "cell_type": "markdown",
   "metadata": {
    "id": "7QXffbO-_Zcu"
   },
   "source": [
    "Создадим c помощью конструктора `pd.DataFrame` таблицу, где\n",
    "* названия колонок — `['city', 'monday', 'wednesday', 'friday']`;\n",
    "* данные — результаты, которые вы получили с помощью `number_tracks`."
   ]
  },
  {
   "cell_type": "code",
   "execution_count": 30,
   "metadata": {
    "id": "APAcLpOr_Zcu",
    "scrolled": false
   },
   "outputs": [
    {
     "data": {
      "text/html": [
       "<div>\n",
       "<style scoped>\n",
       "    .dataframe tbody tr th:only-of-type {\n",
       "        vertical-align: middle;\n",
       "    }\n",
       "\n",
       "    .dataframe tbody tr th {\n",
       "        vertical-align: top;\n",
       "    }\n",
       "\n",
       "    .dataframe thead th {\n",
       "        text-align: right;\n",
       "    }\n",
       "</style>\n",
       "<table border=\"1\" class=\"dataframe\">\n",
       "  <thead>\n",
       "    <tr style=\"text-align: right;\">\n",
       "      <th></th>\n",
       "      <th>city</th>\n",
       "      <th>monday</th>\n",
       "      <th>wednesday</th>\n",
       "      <th>friday</th>\n",
       "    </tr>\n",
       "  </thead>\n",
       "  <tbody>\n",
       "    <tr>\n",
       "      <th>0</th>\n",
       "      <td>Moscow</td>\n",
       "      <td>15740</td>\n",
       "      <td>11056</td>\n",
       "      <td>15945</td>\n",
       "    </tr>\n",
       "    <tr>\n",
       "      <th>1</th>\n",
       "      <td>Saint-Petersburg</td>\n",
       "      <td>5614</td>\n",
       "      <td>7003</td>\n",
       "      <td>5895</td>\n",
       "    </tr>\n",
       "  </tbody>\n",
       "</table>\n",
       "</div>"
      ],
      "text/plain": [
       "               city  monday  wednesday  friday\n",
       "0            Moscow   15740      11056   15945\n",
       "1  Saint-Petersburg    5614       7003    5895"
      ]
     },
     "execution_count": 30,
     "metadata": {},
     "output_type": "execute_result"
    }
   ],
   "source": [
    "# Таблица с результатами\n",
    "data = [['Moscow', number_tracks('Monday', 'Moscow'), number_tracks('Wednesday', 'Moscow'), number_tracks('Friday', 'Moscow')], \n",
    "        ['Saint-Petersburg', number_tracks('Monday', 'Saint-Petersburg'), number_tracks('Wednesday', 'Saint-Petersburg'),  number_tracks('Friday', 'Saint-Petersburg')]] \n",
    "columns = ['city', 'monday', 'wednesday', 'friday']\n",
    "        \n",
    "pd.DataFrame(data=data, columns = columns)   \n",
    "                   "
   ]
  },
  {
   "cell_type": "markdown",
   "metadata": {
    "id": "-EgPIHYu_Zcu"
   },
   "source": [
    "**Выводы**\n",
    "\n",
    "Данные показывают разницу поведения пользователей:\n",
    "\n",
    "- В Москве пик прослушиваний приходится на понедельник и пятницу, а в среду заметен спад.\n",
    "- В Петербурге, наоборот, больше слушают музыку по средам. Активность в понедельник и пятницу здесь почти в равной мере уступает среде.\n",
    "\n",
    "Значит, данные говорят в пользу первой гипотезы."
   ]
  },
  {
   "cell_type": "markdown",
   "metadata": {
    "id": "atZAxtq4_Zcu"
   },
   "source": [
    "### Музыка в начале и в конце недели"
   ]
  },
  {
   "cell_type": "markdown",
   "metadata": {
    "id": "eXrQqXFH_Zcu"
   },
   "source": [
    "Согласно второй гипотезе, утром в понедельник в Москве преобладают одни жанры, а в Петербурге — другие. Так же и вечером пятницы преобладают разные жанры — в зависимости от города."
   ]
  },
  {
   "cell_type": "markdown",
   "metadata": {
    "id": "S8UcW6Hw_Zcu"
   },
   "source": [
    "Сохраните таблицы с данными в две переменные:\n",
    "* по Москве — в `moscow_general`;\n",
    "* по Санкт-Петербургу — в `spb_general`."
   ]
  },
  {
   "cell_type": "code",
   "execution_count": 31,
   "metadata": {
    "id": "qeaFfM_P_Zcu"
   },
   "outputs": [
    {
     "data": {
      "text/html": [
       "<div>\n",
       "<style scoped>\n",
       "    .dataframe tbody tr th:only-of-type {\n",
       "        vertical-align: middle;\n",
       "    }\n",
       "\n",
       "    .dataframe tbody tr th {\n",
       "        vertical-align: top;\n",
       "    }\n",
       "\n",
       "    .dataframe thead th {\n",
       "        text-align: right;\n",
       "    }\n",
       "</style>\n",
       "<table border=\"1\" class=\"dataframe\">\n",
       "  <thead>\n",
       "    <tr style=\"text-align: right;\">\n",
       "      <th></th>\n",
       "      <th>user_id</th>\n",
       "      <th>track</th>\n",
       "      <th>artist</th>\n",
       "      <th>genre</th>\n",
       "      <th>city</th>\n",
       "      <th>time</th>\n",
       "      <th>day</th>\n",
       "    </tr>\n",
       "  </thead>\n",
       "  <tbody>\n",
       "    <tr>\n",
       "      <th>1</th>\n",
       "      <td>55204538</td>\n",
       "      <td>Delayed Because of Accident</td>\n",
       "      <td>Andreas Rönnberg</td>\n",
       "      <td>rock</td>\n",
       "      <td>Moscow</td>\n",
       "      <td>14:07:09</td>\n",
       "      <td>Friday</td>\n",
       "    </tr>\n",
       "    <tr>\n",
       "      <th>4</th>\n",
       "      <td>E2DC1FAE</td>\n",
       "      <td>Soul People</td>\n",
       "      <td>Space Echo</td>\n",
       "      <td>dance</td>\n",
       "      <td>Moscow</td>\n",
       "      <td>08:34:34</td>\n",
       "      <td>Monday</td>\n",
       "    </tr>\n",
       "    <tr>\n",
       "      <th>6</th>\n",
       "      <td>4CB90AA5</td>\n",
       "      <td>True</td>\n",
       "      <td>Roman Messer</td>\n",
       "      <td>dance</td>\n",
       "      <td>Moscow</td>\n",
       "      <td>13:00:07</td>\n",
       "      <td>Wednesday</td>\n",
       "    </tr>\n",
       "    <tr>\n",
       "      <th>7</th>\n",
       "      <td>F03E1C1F</td>\n",
       "      <td>Feeling This Way</td>\n",
       "      <td>Polina Griffith</td>\n",
       "      <td>dance</td>\n",
       "      <td>Moscow</td>\n",
       "      <td>20:47:49</td>\n",
       "      <td>Wednesday</td>\n",
       "    </tr>\n",
       "    <tr>\n",
       "      <th>8</th>\n",
       "      <td>8FA1D3BE</td>\n",
       "      <td>И вновь продолжается бой</td>\n",
       "      <td>unknown</td>\n",
       "      <td>ruspop</td>\n",
       "      <td>Moscow</td>\n",
       "      <td>09:17:40</td>\n",
       "      <td>Friday</td>\n",
       "    </tr>\n",
       "    <tr>\n",
       "      <th>...</th>\n",
       "      <td>...</td>\n",
       "      <td>...</td>\n",
       "      <td>...</td>\n",
       "      <td>...</td>\n",
       "      <td>...</td>\n",
       "      <td>...</td>\n",
       "      <td>...</td>\n",
       "    </tr>\n",
       "    <tr>\n",
       "      <th>61247</th>\n",
       "      <td>83A474E7</td>\n",
       "      <td>I Worship Only What You Bleed</td>\n",
       "      <td>The Black Dahlia Murder</td>\n",
       "      <td>extrememetal</td>\n",
       "      <td>Moscow</td>\n",
       "      <td>21:07:12</td>\n",
       "      <td>Monday</td>\n",
       "    </tr>\n",
       "    <tr>\n",
       "      <th>61248</th>\n",
       "      <td>729CBB09</td>\n",
       "      <td>My Name</td>\n",
       "      <td>McLean</td>\n",
       "      <td>rnb</td>\n",
       "      <td>Moscow</td>\n",
       "      <td>13:32:28</td>\n",
       "      <td>Wednesday</td>\n",
       "    </tr>\n",
       "    <tr>\n",
       "      <th>61250</th>\n",
       "      <td>C5E3A0D5</td>\n",
       "      <td>Jalopiina</td>\n",
       "      <td>unknown</td>\n",
       "      <td>industrial</td>\n",
       "      <td>Moscow</td>\n",
       "      <td>20:09:26</td>\n",
       "      <td>Friday</td>\n",
       "    </tr>\n",
       "    <tr>\n",
       "      <th>61251</th>\n",
       "      <td>321D0506</td>\n",
       "      <td>Freight Train</td>\n",
       "      <td>Chas McDevitt</td>\n",
       "      <td>rock</td>\n",
       "      <td>Moscow</td>\n",
       "      <td>21:43:59</td>\n",
       "      <td>Friday</td>\n",
       "    </tr>\n",
       "    <tr>\n",
       "      <th>61252</th>\n",
       "      <td>3A64EF84</td>\n",
       "      <td>Tell Me Sweet Little Lies</td>\n",
       "      <td>Monica Lopez</td>\n",
       "      <td>country</td>\n",
       "      <td>Moscow</td>\n",
       "      <td>21:59:46</td>\n",
       "      <td>Friday</td>\n",
       "    </tr>\n",
       "  </tbody>\n",
       "</table>\n",
       "<p>42741 rows × 7 columns</p>\n",
       "</div>"
      ],
      "text/plain": [
       "        user_id                          track                   artist  \\\n",
       "1      55204538    Delayed Because of Accident         Andreas Rönnberg   \n",
       "4      E2DC1FAE                    Soul People               Space Echo   \n",
       "6      4CB90AA5                           True             Roman Messer   \n",
       "7      F03E1C1F               Feeling This Way          Polina Griffith   \n",
       "8      8FA1D3BE       И вновь продолжается бой                  unknown   \n",
       "...         ...                            ...                      ...   \n",
       "61247  83A474E7  I Worship Only What You Bleed  The Black Dahlia Murder   \n",
       "61248  729CBB09                        My Name                   McLean   \n",
       "61250  C5E3A0D5                      Jalopiina                  unknown   \n",
       "61251  321D0506                  Freight Train            Chas McDevitt   \n",
       "61252  3A64EF84      Tell Me Sweet Little Lies             Monica Lopez   \n",
       "\n",
       "              genre    city      time        day  \n",
       "1              rock  Moscow  14:07:09     Friday  \n",
       "4             dance  Moscow  08:34:34     Monday  \n",
       "6             dance  Moscow  13:00:07  Wednesday  \n",
       "7             dance  Moscow  20:47:49  Wednesday  \n",
       "8            ruspop  Moscow  09:17:40     Friday  \n",
       "...             ...     ...       ...        ...  \n",
       "61247  extrememetal  Moscow  21:07:12     Monday  \n",
       "61248           rnb  Moscow  13:32:28  Wednesday  \n",
       "61250    industrial  Moscow  20:09:26     Friday  \n",
       "61251          rock  Moscow  21:43:59     Friday  \n",
       "61252       country  Moscow  21:59:46     Friday  \n",
       "\n",
       "[42741 rows x 7 columns]"
      ]
     },
     "metadata": {},
     "output_type": "display_data"
    }
   ],
   "source": [
    "# получение таблицы moscow_general из тех строк таблицы df,\n",
    "# для которых значение в столбце 'city' равно 'Moscow'\n",
    "moscow_general = df[df['city'] == 'Moscow']\n",
    "display(moscow_general)"
   ]
  },
  {
   "cell_type": "code",
   "execution_count": 32,
   "metadata": {
    "id": "ORaVRKto_Zcu"
   },
   "outputs": [
    {
     "data": {
      "text/html": [
       "<div>\n",
       "<style scoped>\n",
       "    .dataframe tbody tr th:only-of-type {\n",
       "        vertical-align: middle;\n",
       "    }\n",
       "\n",
       "    .dataframe tbody tr th {\n",
       "        vertical-align: top;\n",
       "    }\n",
       "\n",
       "    .dataframe thead th {\n",
       "        text-align: right;\n",
       "    }\n",
       "</style>\n",
       "<table border=\"1\" class=\"dataframe\">\n",
       "  <thead>\n",
       "    <tr style=\"text-align: right;\">\n",
       "      <th></th>\n",
       "      <th>user_id</th>\n",
       "      <th>track</th>\n",
       "      <th>artist</th>\n",
       "      <th>genre</th>\n",
       "      <th>city</th>\n",
       "      <th>time</th>\n",
       "      <th>day</th>\n",
       "    </tr>\n",
       "  </thead>\n",
       "  <tbody>\n",
       "    <tr>\n",
       "      <th>0</th>\n",
       "      <td>FFB692EC</td>\n",
       "      <td>Kamigata To Boots</td>\n",
       "      <td>The Mass Missile</td>\n",
       "      <td>rock</td>\n",
       "      <td>Saint-Petersburg</td>\n",
       "      <td>20:28:33</td>\n",
       "      <td>Wednesday</td>\n",
       "    </tr>\n",
       "    <tr>\n",
       "      <th>2</th>\n",
       "      <td>20EC38</td>\n",
       "      <td>Funiculì funiculà</td>\n",
       "      <td>Mario Lanza</td>\n",
       "      <td>pop</td>\n",
       "      <td>Saint-Petersburg</td>\n",
       "      <td>20:58:07</td>\n",
       "      <td>Wednesday</td>\n",
       "    </tr>\n",
       "    <tr>\n",
       "      <th>3</th>\n",
       "      <td>A3DD03C9</td>\n",
       "      <td>Dragons in the Sunset</td>\n",
       "      <td>Fire + Ice</td>\n",
       "      <td>folk</td>\n",
       "      <td>Saint-Petersburg</td>\n",
       "      <td>08:37:09</td>\n",
       "      <td>Monday</td>\n",
       "    </tr>\n",
       "    <tr>\n",
       "      <th>5</th>\n",
       "      <td>842029A1</td>\n",
       "      <td>Преданная</td>\n",
       "      <td>IMPERVTOR</td>\n",
       "      <td>rusrap</td>\n",
       "      <td>Saint-Petersburg</td>\n",
       "      <td>13:09:41</td>\n",
       "      <td>Friday</td>\n",
       "    </tr>\n",
       "    <tr>\n",
       "      <th>9</th>\n",
       "      <td>E772D5C0</td>\n",
       "      <td>Pessimist</td>\n",
       "      <td>unknown</td>\n",
       "      <td>dance</td>\n",
       "      <td>Saint-Petersburg</td>\n",
       "      <td>21:20:49</td>\n",
       "      <td>Wednesday</td>\n",
       "    </tr>\n",
       "    <tr>\n",
       "      <th>...</th>\n",
       "      <td>...</td>\n",
       "      <td>...</td>\n",
       "      <td>...</td>\n",
       "      <td>...</td>\n",
       "      <td>...</td>\n",
       "      <td>...</td>\n",
       "      <td>...</td>\n",
       "    </tr>\n",
       "    <tr>\n",
       "      <th>61239</th>\n",
       "      <td>D94F810B</td>\n",
       "      <td>Theme from the Walking Dead</td>\n",
       "      <td>Proyecto Halloween</td>\n",
       "      <td>film</td>\n",
       "      <td>Saint-Petersburg</td>\n",
       "      <td>21:14:40</td>\n",
       "      <td>Monday</td>\n",
       "    </tr>\n",
       "    <tr>\n",
       "      <th>61240</th>\n",
       "      <td>BC8EC5CF</td>\n",
       "      <td>Red Lips: Gta (Rover Rework)</td>\n",
       "      <td>Rover</td>\n",
       "      <td>electronic</td>\n",
       "      <td>Saint-Petersburg</td>\n",
       "      <td>21:06:50</td>\n",
       "      <td>Monday</td>\n",
       "    </tr>\n",
       "    <tr>\n",
       "      <th>61241</th>\n",
       "      <td>29E04611</td>\n",
       "      <td>Bre Petrunko</td>\n",
       "      <td>Perunika Trio</td>\n",
       "      <td>world</td>\n",
       "      <td>Saint-Petersburg</td>\n",
       "      <td>13:56:00</td>\n",
       "      <td>Monday</td>\n",
       "    </tr>\n",
       "    <tr>\n",
       "      <th>61242</th>\n",
       "      <td>1B91C621</td>\n",
       "      <td>(Hello) Cloud Mountain</td>\n",
       "      <td>sleepmakeswaves</td>\n",
       "      <td>postrock</td>\n",
       "      <td>Saint-Petersburg</td>\n",
       "      <td>09:22:13</td>\n",
       "      <td>Monday</td>\n",
       "    </tr>\n",
       "    <tr>\n",
       "      <th>61249</th>\n",
       "      <td>D08D4A55</td>\n",
       "      <td>Maybe One Day (feat. Black Spade)</td>\n",
       "      <td>Blu &amp; Exile</td>\n",
       "      <td>hiphop</td>\n",
       "      <td>Saint-Petersburg</td>\n",
       "      <td>10:00:00</td>\n",
       "      <td>Monday</td>\n",
       "    </tr>\n",
       "  </tbody>\n",
       "</table>\n",
       "<p>18512 rows × 7 columns</p>\n",
       "</div>"
      ],
      "text/plain": [
       "        user_id                              track              artist  \\\n",
       "0      FFB692EC                  Kamigata To Boots    The Mass Missile   \n",
       "2        20EC38                  Funiculì funiculà         Mario Lanza   \n",
       "3      A3DD03C9              Dragons in the Sunset          Fire + Ice   \n",
       "5      842029A1                          Преданная           IMPERVTOR   \n",
       "9      E772D5C0                          Pessimist             unknown   \n",
       "...         ...                                ...                 ...   \n",
       "61239  D94F810B        Theme from the Walking Dead  Proyecto Halloween   \n",
       "61240  BC8EC5CF       Red Lips: Gta (Rover Rework)               Rover   \n",
       "61241  29E04611                       Bre Petrunko       Perunika Trio   \n",
       "61242  1B91C621             (Hello) Cloud Mountain     sleepmakeswaves   \n",
       "61249  D08D4A55  Maybe One Day (feat. Black Spade)         Blu & Exile   \n",
       "\n",
       "            genre              city      time        day  \n",
       "0            rock  Saint-Petersburg  20:28:33  Wednesday  \n",
       "2             pop  Saint-Petersburg  20:58:07  Wednesday  \n",
       "3            folk  Saint-Petersburg  08:37:09     Monday  \n",
       "5          rusrap  Saint-Petersburg  13:09:41     Friday  \n",
       "9           dance  Saint-Petersburg  21:20:49  Wednesday  \n",
       "...           ...               ...       ...        ...  \n",
       "61239        film  Saint-Petersburg  21:14:40     Monday  \n",
       "61240  electronic  Saint-Petersburg  21:06:50     Monday  \n",
       "61241       world  Saint-Petersburg  13:56:00     Monday  \n",
       "61242    postrock  Saint-Petersburg  09:22:13     Monday  \n",
       "61249      hiphop  Saint-Petersburg  10:00:00     Monday  \n",
       "\n",
       "[18512 rows x 7 columns]"
      ]
     },
     "metadata": {},
     "output_type": "display_data"
    }
   ],
   "source": [
    "# получение таблицы spb_general из тех строк таблицы df,\n",
    "# для которых значение в столбце 'city' равно 'Saint-Petersburg'\n",
    "spb_general = df[df['city'] == 'Saint-Petersburg']\n",
    "display(spb_general)"
   ]
  },
  {
   "cell_type": "markdown",
   "metadata": {
    "id": "MEJV-CX2_Zcu"
   },
   "source": [
    "Создадим функцию `genre_weekday()` с четырьмя параметрами:\n",
    "* таблица (датафрейм) с данными,\n",
    "* день недели,\n",
    "* начальная временная метка в формате 'hh:mm', \n",
    "* последняя временная метка в формате 'hh:mm'.\n",
    "\n",
    "Функция должна вернуть информацию о топ-10 жанров тех треков, которые прослушивали в указанный день, в промежутке между двумя отметками времени."
   ]
  },
  {
   "cell_type": "code",
   "execution_count": 42,
   "metadata": {
    "id": "laJT9BYl_Zcu"
   },
   "outputs": [],
   "source": [
    "# Объявление функции genre_weekday() с параметрами table, day, time1, time2,\n",
    "# которая возвращает информацию о самых популярных жанрах в указанный день в\n",
    "# заданное время:\n",
    "# 1) в переменную genre_df сохраняются те строки переданного датафрейма table, для\n",
    "#    которых одновременно:\n",
    "#    - значение в столбце day равно значению аргумента day\n",
    "#    - значение в столбце time больше значения аргумента time1\n",
    "#    - значение в столбце time меньше значения аргумента time2\n",
    "#    Используйте последовательную фильтрацию с помощью логической индексации.\n",
    "# 2) сгруппировать датафрейм genre_df по столбцу genre, взять один из его\n",
    "#    столбцов и посчитать методом count() количество записей для каждого из\n",
    "#    присутствующих жанров, получившийся Series записать в переменную\n",
    "#    genre_df_count\n",
    "# 3) отсортировать genre_df_count по убыванию встречаемости и сохранить\n",
    "#    в переменную genre_df_sorted\n",
    "# 4) вернуть Series из 10 первых значений genre_df_sorted, это будут топ-10\n",
    "#    популярных жанров (в указанный день, в заданное время)\n",
    "def genre_weekday(table, day, time1, time2):\n",
    "    genre_df  = table[(table['day']==day) & (table['time'] > time1) & (table['time']< time2)]\n",
    "    genere_df_count = genre_df.groupby('genre')['user_id'].count()\n",
    "    genere_df_sorted = genere_df_count.sort_values(ascending = False)\n",
    "    return genere_df_sorted.head(10)"
   ]
  },
  {
   "cell_type": "markdown",
   "metadata": {},
   "source": [
    "<div class=\"alert alert-success\">\n",
    "<b>🤌 Комментарий ревьюера </b> \n",
    "    \n",
    "И снова хорошо написанная функция :) </div>"
   ]
  },
  {
   "cell_type": "markdown",
   "metadata": {
    "id": "la2s2_PF_Zcu"
   },
   "source": [
    "Cравните результаты функции `genre_weekday()` для Москвы и Санкт-Петербурга в понедельник утром (с 7:00 до 11:00) и в пятницу вечером (с 17:00 до 23:00):"
   ]
  },
  {
   "cell_type": "code",
   "execution_count": 34,
   "metadata": {
    "id": "yz7itPUQ_Zcu"
   },
   "outputs": [
    {
     "data": {
      "text/plain": [
       "genre\n",
       "pop            781\n",
       "dance          549\n",
       "electronic     480\n",
       "rock           474\n",
       "hiphop         286\n",
       "ruspop         186\n",
       "world          181\n",
       "rusrap         175\n",
       "alternative    164\n",
       "unknown        161\n",
       "Name: user_id, dtype: int64"
      ]
     },
     "execution_count": 34,
     "metadata": {},
     "output_type": "execute_result"
    }
   ],
   "source": [
    "# вызов функции для утра понедельника в Москве (вместо df — таблица moscow_general)\n",
    "# объекты, хранящие время, являются строками и сравниваются как строки\n",
    "# пример вызова: genre_weekday(moscow_general, 'Monday', '07:00', '11:00')\n",
    "genre_weekday(moscow_general, 'Monday', '07:00', '11:00')"
   ]
  },
  {
   "cell_type": "code",
   "execution_count": 35,
   "metadata": {
    "id": "kwUcHPdy_Zcu"
   },
   "outputs": [
    {
     "data": {
      "text/plain": [
       "genre\n",
       "pop            218\n",
       "dance          182\n",
       "rock           162\n",
       "electronic     147\n",
       "hiphop          80\n",
       "ruspop          64\n",
       "alternative     58\n",
       "rusrap          55\n",
       "jazz            44\n",
       "classical       40\n",
       "Name: user_id, dtype: int64"
      ]
     },
     "execution_count": 35,
     "metadata": {},
     "output_type": "execute_result"
    }
   ],
   "source": [
    "# вызов функции для утра понедельника в Петербурге (вместо df — таблица spb_general)\n",
    "genre_weekday(spb_general, 'Monday', '07:00', '11:00')  "
   ]
  },
  {
   "cell_type": "code",
   "execution_count": 36,
   "metadata": {
    "id": "EzXVRE1o_Zcu"
   },
   "outputs": [
    {
     "data": {
      "text/plain": [
       "genre\n",
       "pop            713\n",
       "rock           517\n",
       "dance          495\n",
       "electronic     482\n",
       "hiphop         273\n",
       "world          208\n",
       "ruspop         170\n",
       "alternative    163\n",
       "classical      163\n",
       "rusrap         142\n",
       "Name: user_id, dtype: int64"
      ]
     },
     "execution_count": 36,
     "metadata": {},
     "output_type": "execute_result"
    }
   ],
   "source": [
    "# вызов функции для вечера пятницы в Москве\n",
    "genre_weekday(moscow_general, 'Friday', '17:00', '23:00')  "
   ]
  },
  {
   "cell_type": "code",
   "execution_count": 37,
   "metadata": {
    "id": "JZaEKu5v_Zcu"
   },
   "outputs": [
    {
     "data": {
      "text/plain": [
       "genre\n",
       "pop            256\n",
       "electronic     216\n",
       "rock           216\n",
       "dance          210\n",
       "hiphop          97\n",
       "alternative     63\n",
       "jazz            61\n",
       "classical       60\n",
       "rusrap          59\n",
       "world           54\n",
       "Name: user_id, dtype: int64"
      ]
     },
     "execution_count": 37,
     "metadata": {},
     "output_type": "execute_result"
    }
   ],
   "source": [
    "# вызов функции для вечера пятницы в Петербурге\n",
    "genre_weekday(spb_general, 'Friday', '17:00', '23:00') "
   ]
  },
  {
   "cell_type": "markdown",
   "metadata": {
    "id": "wrCe4MNX_Zcu"
   },
   "source": [
    "**Выводы**\n",
    "\n",
    "Если сравнить топ-10 жанров в понедельник утром, можно сделать такие выводы:\n",
    "\n",
    "1. В Москве и Петербурге слушают похожую музыку. Единственное отличие — в московский рейтинг вошёл жанр “world”, а в петербургский — джаз и классика.\n",
    "\n",
    "2. В Москве пропущенных значений оказалось так много, что значение `'unknown'` заняло десятое место среди самых популярных жанров. Значит, пропущенные значения занимают существенную долю в данных и угрожают достоверности исследования.\n",
    "\n",
    "Вечер пятницы не меняет эту картину. Некоторые жанры поднимаются немного выше, другие спускаются, но в целом топ-10 остаётся тем же самым.\n",
    "\n",
    "Таким образом, вторая гипотеза подтвердилась лишь частично:\n",
    "* Пользователи слушают похожую музыку в начале недели и в конце.\n",
    "* Разница между Москвой и Петербургом не слишком выражена. В Москве чаще слушают русскую популярную музыку, в Петербурге — джаз.\n",
    "\n",
    "Однако пропуски в данных ставят под сомнение этот результат. В Москве их так много, что рейтинг топ-10 мог бы выглядеть иначе, если бы не утерянные  данные о жанрах."
   ]
  },
  {
   "cell_type": "markdown",
   "metadata": {
    "id": "JolODAqr_Zcu"
   },
   "source": [
    "### Жанровые предпочтения в Москве и Петербурге\n",
    "\n",
    "Гипотеза: Петербург — столица рэпа, музыку этого жанра там слушают чаще, чем в Москве.  А Москва — город контрастов, в котором, тем не менее, преобладает поп-музыка."
   ]
  },
  {
   "cell_type": "markdown",
   "metadata": {
    "id": "DlegSvaT_Zcu"
   },
   "source": [
    "Сгруппируем таблицу `moscow_general` по жанру и посчитаем прослушивания треков каждого жанра методом `count()`. Затем отсортируем результат в порядке убывания и сохраним его в таблице `moscow_genres`."
   ]
  },
  {
   "cell_type": "code",
   "execution_count": 38,
   "metadata": {
    "id": "r19lIPke_Zcu"
   },
   "outputs": [],
   "source": [
    "# одной строкой: группировка таблицы moscow_general по столбцу 'genre', \n",
    "# подсчёт числа значений 'genre' в этой группировке методом count(), \n",
    "# сортировка получившегося Series в порядке убывания и сохранение в moscow_genres\n",
    "moscow_genres = moscow_general.groupby('genre')['user_id'].count()\n",
    "moscow_genres = moscow_genres.sort_values(ascending = False)"
   ]
  },
  {
   "cell_type": "markdown",
   "metadata": {
    "id": "6kMuomxTiIr8"
   },
   "source": [
    "Выведим на экран первые десять строк `moscow_genres`:"
   ]
  },
  {
   "cell_type": "code",
   "execution_count": 39,
   "metadata": {
    "id": "WhCSooF8_Zcv"
   },
   "outputs": [
    {
     "data": {
      "text/plain": [
       "genre\n",
       "pop            5892\n",
       "dance          4435\n",
       "rock           3965\n",
       "electronic     3786\n",
       "hiphop         2096\n",
       "classical      1616\n",
       "world          1432\n",
       "alternative    1379\n",
       "ruspop         1372\n",
       "rusrap         1161\n",
       "Name: user_id, dtype: int64"
      ]
     },
     "execution_count": 39,
     "metadata": {},
     "output_type": "execute_result"
    }
   ],
   "source": [
    "# просмотр первых 10 строк moscow_genres\n",
    "moscow_genres.head(10)"
   ]
  },
  {
   "cell_type": "markdown",
   "metadata": {
    "id": "cnPG2vnN_Zcv"
   },
   "source": [
    "Теперь повторим то же и для Петербурга:"
   ]
  },
  {
   "cell_type": "code",
   "execution_count": 40,
   "metadata": {
    "id": "gluLIpE7_Zcv"
   },
   "outputs": [],
   "source": [
    "# одной строкой: группировка таблицы spb_general по столбцу 'genre', \n",
    "# подсчёт числа значений 'genre' в этой группировке методом count(), \n",
    "# сортировка получившегося Series в порядке убывания и сохранение в spb_genres\n",
    "spb_genres = spb_general.groupby('genre')['user_id'].count()\n",
    "spb_genres = spb_genres.sort_values(ascending = False) "
   ]
  },
  {
   "cell_type": "markdown",
   "metadata": {
    "id": "5Doha_ODgyQ8"
   },
   "source": [
    "Выведим на экран первые десять строк `spb_genres`:"
   ]
  },
  {
   "cell_type": "code",
   "execution_count": 41,
   "metadata": {
    "id": "uaGJHjVU_Zcv"
   },
   "outputs": [
    {
     "data": {
      "text/plain": [
       "genre\n",
       "pop            2431\n",
       "dance          1932\n",
       "rock           1879\n",
       "electronic     1737\n",
       "hiphop          960\n",
       "alternative     649\n",
       "classical       646\n",
       "rusrap          564\n",
       "ruspop          538\n",
       "world           515\n",
       "Name: user_id, dtype: int64"
      ]
     },
     "execution_count": 41,
     "metadata": {},
     "output_type": "execute_result"
    }
   ],
   "source": [
    "# просмотр первых 10 строк spb_genres\n",
    "spb_genres.head(10)"
   ]
  },
  {
   "cell_type": "markdown",
   "metadata": {
    "id": "RY51YJYu_Zcv"
   },
   "source": [
    "**Выводы**"
   ]
  },
  {
   "cell_type": "markdown",
   "metadata": {
    "id": "nVhnJEm__Zcv"
   },
   "source": [
    "Гипотеза частично подтвердилась:\n",
    "* Поп-музыка — самый популярный жанр в Москве, как и предполагала гипотеза. Более того, в топ-10 жанров встречается близкий жанр — русская популярная музыка.\n",
    "* Вопреки ожиданиям, рэп одинаково популярен в Москве и Петербурге. \n"
   ]
  },
  {
   "cell_type": "markdown",
   "metadata": {
    "id": "ykKQ0N65_Zcv"
   },
   "source": [
    "## Итоги исследования"
   ]
  },
  {
   "cell_type": "markdown",
   "metadata": {
    "id": "tjUwbHb3_Zcv"
   },
   "source": [
    "Вы ходе проверки гипотез установили:\n",
    "\n",
    "1. День недели по-разному влияет на активность пользователей в Москве и Петербурге. \n",
    "\n",
    "Первая гипотеза полностью подтвердилась.\n",
    "\n",
    "2. Музыкальные предпочтения не сильно меняются в течение недели — будь то Москва или Петербург. Небольшие различия заметны в начале недели, по понедельникам:\n",
    "* в Москве слушают музыку жанра “world”,\n",
    "* в Петербурге — джаз и классику.\n",
    "\n",
    "Таким образом, вторая гипотеза подтвердилась лишь отчасти. Этот результат мог оказаться иным, если бы не пропуски в данных.\n",
    "\n",
    "3. Во вкусах пользователей Москвы и Петербурга больше общего чем различий. Вопреки ожиданиям, предпочтения жанров в Петербурге напоминают московские.\n",
    "\n",
    "Третья гипотеза не подтвердилась. Если различия в предпочтениях и существуют, на основной массе пользователей они незаметны.\n"
   ]
  }
 ],
 "metadata": {
  "ExecuteTimeLog": [
   {
    "duration": 4,
    "start_time": "2022-04-04T09:37:23.657Z"
   },
   {
    "duration": 47,
    "start_time": "2022-04-04T09:42:34.081Z"
   },
   {
    "duration": 377,
    "start_time": "2022-04-04T09:42:52.816Z"
   },
   {
    "duration": 3,
    "start_time": "2022-04-04T09:42:54.639Z"
   },
   {
    "duration": 152,
    "start_time": "2022-04-04T09:42:56.991Z"
   },
   {
    "duration": 151,
    "start_time": "2022-04-04T09:43:02.927Z"
   },
   {
    "duration": 165,
    "start_time": "2022-04-04T09:43:10.841Z"
   },
   {
    "duration": 3,
    "start_time": "2022-04-04T09:43:15.432Z"
   },
   {
    "duration": 8,
    "start_time": "2022-04-04T09:43:43.396Z"
   },
   {
    "duration": 17,
    "start_time": "2022-04-04T09:44:24.569Z"
   },
   {
    "duration": 2,
    "start_time": "2022-04-04T09:44:33.749Z"
   },
   {
    "duration": 159,
    "start_time": "2022-04-04T09:44:36.186Z"
   },
   {
    "duration": 10,
    "start_time": "2022-04-04T09:44:39.311Z"
   },
   {
    "duration": 151,
    "start_time": "2022-04-04T09:44:45.298Z"
   },
   {
    "duration": 155,
    "start_time": "2022-04-04T09:44:48.410Z"
   },
   {
    "duration": 3,
    "start_time": "2022-04-04T09:44:50.289Z"
   },
   {
    "duration": 4,
    "start_time": "2022-04-04T09:46:45.161Z"
   },
   {
    "duration": 29,
    "start_time": "2022-04-04T09:47:39.657Z"
   },
   {
    "duration": 2,
    "start_time": "2022-04-04T09:49:45.068Z"
   },
   {
    "duration": 3,
    "start_time": "2022-04-04T09:50:00.173Z"
   },
   {
    "duration": 163,
    "start_time": "2022-04-04T09:54:46.365Z"
   },
   {
    "duration": 9,
    "start_time": "2022-04-04T09:57:12.127Z"
   },
   {
    "duration": 3,
    "start_time": "2022-04-04T09:57:40.474Z"
   },
   {
    "duration": 8,
    "start_time": "2022-04-04T09:59:06.058Z"
   },
   {
    "duration": 3,
    "start_time": "2022-04-04T09:59:08.043Z"
   },
   {
    "duration": 8,
    "start_time": "2022-04-04T10:00:08.584Z"
   },
   {
    "duration": 3,
    "start_time": "2022-04-04T10:00:11.123Z"
   },
   {
    "duration": 7,
    "start_time": "2022-04-04T10:00:48.530Z"
   },
   {
    "duration": 3,
    "start_time": "2022-04-04T10:00:50.825Z"
   },
   {
    "duration": 23,
    "start_time": "2022-04-04T10:03:41.548Z"
   },
   {
    "duration": 19,
    "start_time": "2022-04-04T10:17:20.149Z"
   },
   {
    "duration": 26,
    "start_time": "2022-04-04T10:17:22.920Z"
   },
   {
    "duration": 59,
    "start_time": "2022-04-04T10:22:46.660Z"
   },
   {
    "duration": 3,
    "start_time": "2022-04-04T10:22:53.567Z"
   },
   {
    "duration": 56,
    "start_time": "2022-04-04T10:22:57.127Z"
   },
   {
    "duration": 2,
    "start_time": "2022-04-04T10:25:07.409Z"
   },
   {
    "duration": 31,
    "start_time": "2022-04-04T10:25:11.040Z"
   },
   {
    "duration": 66,
    "start_time": "2022-04-04T10:25:28.238Z"
   },
   {
    "duration": 65,
    "start_time": "2022-04-04T10:25:31.033Z"
   },
   {
    "duration": 52,
    "start_time": "2022-04-04T10:25:45.459Z"
   },
   {
    "duration": 7,
    "start_time": "2022-04-04T10:29:14.871Z"
   },
   {
    "duration": 8,
    "start_time": "2022-04-04T10:30:02.174Z"
   },
   {
    "duration": 24,
    "start_time": "2022-04-04T10:30:12.593Z"
   },
   {
    "duration": 26,
    "start_time": "2022-04-04T10:30:18.763Z"
   },
   {
    "duration": 5,
    "start_time": "2022-04-04T10:36:35.211Z"
   },
   {
    "duration": 5,
    "start_time": "2022-04-04T10:36:37.878Z"
   },
   {
    "duration": 7,
    "start_time": "2022-04-04T10:36:47.173Z"
   },
   {
    "duration": 9,
    "start_time": "2022-04-04T10:36:52.896Z"
   },
   {
    "duration": 6,
    "start_time": "2022-04-04T10:37:43.249Z"
   },
   {
    "duration": 6,
    "start_time": "2022-04-04T10:37:46.029Z"
   },
   {
    "duration": 6,
    "start_time": "2022-04-04T10:37:52.627Z"
   },
   {
    "duration": 8,
    "start_time": "2022-04-04T10:37:58.599Z"
   },
   {
    "duration": 6,
    "start_time": "2022-04-04T10:39:16.160Z"
   },
   {
    "duration": 7,
    "start_time": "2022-04-04T10:39:18.608Z"
   },
   {
    "duration": 7,
    "start_time": "2022-04-04T10:39:56.611Z"
   },
   {
    "duration": 8,
    "start_time": "2022-04-04T10:49:21.605Z"
   },
   {
    "duration": 8,
    "start_time": "2022-04-04T10:50:17.644Z"
   },
   {
    "duration": 8,
    "start_time": "2022-04-04T10:50:18.343Z"
   },
   {
    "duration": 2,
    "start_time": "2022-04-04T10:51:05.732Z"
   },
   {
    "duration": 8,
    "start_time": "2022-04-04T10:51:11.003Z"
   },
   {
    "duration": 3,
    "start_time": "2022-04-04T10:51:21.357Z"
   },
   {
    "duration": 2,
    "start_time": "2022-04-04T10:51:25.647Z"
   },
   {
    "duration": 4,
    "start_time": "2022-04-04T10:55:11.223Z"
   },
   {
    "duration": 3,
    "start_time": "2022-04-04T10:55:15.572Z"
   },
   {
    "duration": 3,
    "start_time": "2022-04-04T10:55:20.108Z"
   },
   {
    "duration": 10,
    "start_time": "2022-04-04T10:58:56.035Z"
   },
   {
    "duration": 8,
    "start_time": "2022-04-04T10:59:31.967Z"
   },
   {
    "duration": 2,
    "start_time": "2022-04-04T12:00:55.039Z"
   },
   {
    "duration": 146,
    "start_time": "2022-04-04T12:00:55.043Z"
   },
   {
    "duration": 12,
    "start_time": "2022-04-04T12:00:55.191Z"
   },
   {
    "duration": 49,
    "start_time": "2022-04-04T12:00:55.205Z"
   },
   {
    "duration": 3,
    "start_time": "2022-04-04T12:00:55.256Z"
   },
   {
    "duration": 10,
    "start_time": "2022-04-04T12:00:55.260Z"
   },
   {
    "duration": 30,
    "start_time": "2022-04-04T12:00:55.272Z"
   },
   {
    "duration": 24,
    "start_time": "2022-04-04T12:00:55.303Z"
   },
   {
    "duration": 2590,
    "start_time": "2022-04-04T12:00:55.329Z"
   },
   {
    "duration": 0,
    "start_time": "2022-04-04T12:00:57.927Z"
   },
   {
    "duration": 0,
    "start_time": "2022-04-04T12:00:57.928Z"
   },
   {
    "duration": 0,
    "start_time": "2022-04-04T12:00:57.929Z"
   },
   {
    "duration": 0,
    "start_time": "2022-04-04T12:00:57.931Z"
   },
   {
    "duration": 0,
    "start_time": "2022-04-04T12:00:57.932Z"
   },
   {
    "duration": 0,
    "start_time": "2022-04-04T12:00:57.933Z"
   },
   {
    "duration": 0,
    "start_time": "2022-04-04T12:00:57.934Z"
   },
   {
    "duration": 0,
    "start_time": "2022-04-04T12:00:57.935Z"
   },
   {
    "duration": 0,
    "start_time": "2022-04-04T12:00:57.936Z"
   },
   {
    "duration": 0,
    "start_time": "2022-04-04T12:00:57.937Z"
   },
   {
    "duration": 0,
    "start_time": "2022-04-04T12:00:57.938Z"
   },
   {
    "duration": 0,
    "start_time": "2022-04-04T12:00:57.939Z"
   },
   {
    "duration": 0,
    "start_time": "2022-04-04T12:00:57.940Z"
   },
   {
    "duration": 0,
    "start_time": "2022-04-04T12:00:57.941Z"
   },
   {
    "duration": 0,
    "start_time": "2022-04-04T12:00:57.942Z"
   },
   {
    "duration": 0,
    "start_time": "2022-04-04T12:00:57.943Z"
   },
   {
    "duration": 0,
    "start_time": "2022-04-04T12:00:57.944Z"
   },
   {
    "duration": 0,
    "start_time": "2022-04-04T12:00:57.945Z"
   },
   {
    "duration": 0,
    "start_time": "2022-04-04T12:00:57.946Z"
   },
   {
    "duration": 0,
    "start_time": "2022-04-04T12:00:57.947Z"
   },
   {
    "duration": 0,
    "start_time": "2022-04-04T12:00:57.949Z"
   },
   {
    "duration": 0,
    "start_time": "2022-04-04T12:00:57.950Z"
   },
   {
    "duration": 0,
    "start_time": "2022-04-04T12:00:57.951Z"
   },
   {
    "duration": 0,
    "start_time": "2022-04-04T12:00:57.952Z"
   },
   {
    "duration": 0,
    "start_time": "2022-04-04T12:00:57.953Z"
   },
   {
    "duration": 0,
    "start_time": "2022-04-04T12:00:57.954Z"
   },
   {
    "duration": 0,
    "start_time": "2022-04-04T12:00:57.956Z"
   },
   {
    "duration": 0,
    "start_time": "2022-04-04T12:00:57.957Z"
   },
   {
    "duration": 0,
    "start_time": "2022-04-04T12:00:57.958Z"
   },
   {
    "duration": 26,
    "start_time": "2022-04-04T12:02:12.198Z"
   },
   {
    "duration": 2614,
    "start_time": "2022-04-04T12:07:52.678Z"
   },
   {
    "duration": 2638,
    "start_time": "2022-04-04T12:07:55.565Z"
   },
   {
    "duration": 17,
    "start_time": "2022-04-04T12:08:43.234Z"
   },
   {
    "duration": 18,
    "start_time": "2022-04-04T12:08:45.330Z"
   },
   {
    "duration": 17,
    "start_time": "2022-04-04T12:08:47.901Z"
   },
   {
    "duration": 26,
    "start_time": "2022-04-04T12:08:50.141Z"
   },
   {
    "duration": 206,
    "start_time": "2022-04-04T12:09:35.112Z"
   },
   {
    "duration": 172,
    "start_time": "2022-04-04T12:09:58.011Z"
   },
   {
    "duration": 7,
    "start_time": "2022-04-04T12:10:30.019Z"
   },
   {
    "duration": 4,
    "start_time": "2022-04-04T12:10:32.288Z"
   },
   {
    "duration": 3,
    "start_time": "2022-04-04T12:10:40.016Z"
   },
   {
    "duration": 8,
    "start_time": "2022-04-04T12:10:42.371Z"
   },
   {
    "duration": 4,
    "start_time": "2022-04-04T12:10:44.491Z"
   },
   {
    "duration": 8,
    "start_time": "2022-04-04T12:11:06.859Z"
   },
   {
    "duration": 3,
    "start_time": "2022-04-04T12:11:08.817Z"
   },
   {
    "duration": 8,
    "start_time": "2022-04-04T12:11:37.254Z"
   },
   {
    "duration": 4,
    "start_time": "2022-04-04T12:11:38.926Z"
   },
   {
    "duration": 8,
    "start_time": "2022-04-04T12:12:11.710Z"
   },
   {
    "duration": 3,
    "start_time": "2022-04-04T12:12:14.233Z"
   },
   {
    "duration": 3,
    "start_time": "2022-04-04T12:12:22.315Z"
   },
   {
    "duration": 152,
    "start_time": "2022-04-04T12:12:22.320Z"
   },
   {
    "duration": 10,
    "start_time": "2022-04-04T12:12:22.474Z"
   },
   {
    "duration": 42,
    "start_time": "2022-04-04T12:12:22.486Z"
   },
   {
    "duration": 3,
    "start_time": "2022-04-04T12:12:22.530Z"
   },
   {
    "duration": 11,
    "start_time": "2022-04-04T12:12:22.535Z"
   },
   {
    "duration": 4,
    "start_time": "2022-04-04T12:12:22.548Z"
   },
   {
    "duration": 52,
    "start_time": "2022-04-04T12:12:22.554Z"
   },
   {
    "duration": 2699,
    "start_time": "2022-04-04T12:12:22.609Z"
   },
   {
    "duration": 0,
    "start_time": "2022-04-04T12:12:25.311Z"
   },
   {
    "duration": 0,
    "start_time": "2022-04-04T12:12:25.312Z"
   },
   {
    "duration": 0,
    "start_time": "2022-04-04T12:12:25.313Z"
   },
   {
    "duration": 0,
    "start_time": "2022-04-04T12:12:25.314Z"
   },
   {
    "duration": 0,
    "start_time": "2022-04-04T12:12:25.315Z"
   },
   {
    "duration": 0,
    "start_time": "2022-04-04T12:12:25.316Z"
   },
   {
    "duration": 0,
    "start_time": "2022-04-04T12:12:25.317Z"
   },
   {
    "duration": 0,
    "start_time": "2022-04-04T12:12:25.318Z"
   },
   {
    "duration": 0,
    "start_time": "2022-04-04T12:12:25.319Z"
   },
   {
    "duration": 0,
    "start_time": "2022-04-04T12:12:25.320Z"
   },
   {
    "duration": 0,
    "start_time": "2022-04-04T12:12:25.322Z"
   },
   {
    "duration": 0,
    "start_time": "2022-04-04T12:12:25.323Z"
   },
   {
    "duration": 0,
    "start_time": "2022-04-04T12:12:25.324Z"
   },
   {
    "duration": 0,
    "start_time": "2022-04-04T12:12:25.325Z"
   },
   {
    "duration": 0,
    "start_time": "2022-04-04T12:12:25.326Z"
   },
   {
    "duration": 0,
    "start_time": "2022-04-04T12:12:25.327Z"
   },
   {
    "duration": 0,
    "start_time": "2022-04-04T12:12:25.328Z"
   },
   {
    "duration": 0,
    "start_time": "2022-04-04T12:12:25.329Z"
   },
   {
    "duration": 0,
    "start_time": "2022-04-04T12:12:25.330Z"
   },
   {
    "duration": 0,
    "start_time": "2022-04-04T12:12:25.331Z"
   },
   {
    "duration": 0,
    "start_time": "2022-04-04T12:12:25.332Z"
   },
   {
    "duration": 0,
    "start_time": "2022-04-04T12:12:25.333Z"
   },
   {
    "duration": 0,
    "start_time": "2022-04-04T12:12:25.334Z"
   },
   {
    "duration": 0,
    "start_time": "2022-04-04T12:12:25.335Z"
   },
   {
    "duration": 0,
    "start_time": "2022-04-04T12:12:25.336Z"
   },
   {
    "duration": 0,
    "start_time": "2022-04-04T12:12:25.337Z"
   },
   {
    "duration": 0,
    "start_time": "2022-04-04T12:12:25.338Z"
   },
   {
    "duration": 0,
    "start_time": "2022-04-04T12:12:25.339Z"
   },
   {
    "duration": 0,
    "start_time": "2022-04-04T12:12:25.340Z"
   },
   {
    "duration": 3,
    "start_time": "2022-04-04T12:13:30.405Z"
   },
   {
    "duration": 179,
    "start_time": "2022-04-04T12:13:30.410Z"
   },
   {
    "duration": 12,
    "start_time": "2022-04-04T12:13:30.591Z"
   },
   {
    "duration": 35,
    "start_time": "2022-04-04T12:13:30.605Z"
   },
   {
    "duration": 13,
    "start_time": "2022-04-04T12:13:30.643Z"
   },
   {
    "duration": 19,
    "start_time": "2022-04-04T12:13:30.658Z"
   },
   {
    "duration": 5,
    "start_time": "2022-04-04T12:13:30.679Z"
   },
   {
    "duration": 39,
    "start_time": "2022-04-04T12:13:30.686Z"
   },
   {
    "duration": 30,
    "start_time": "2022-04-04T12:13:30.727Z"
   },
   {
    "duration": 31,
    "start_time": "2022-04-04T12:13:30.759Z"
   },
   {
    "duration": 71,
    "start_time": "2022-04-04T12:13:30.792Z"
   },
   {
    "duration": 78,
    "start_time": "2022-04-04T12:13:30.865Z"
   },
   {
    "duration": 66,
    "start_time": "2022-04-04T12:13:30.946Z"
   },
   {
    "duration": 8,
    "start_time": "2022-04-04T12:13:31.013Z"
   },
   {
    "duration": 4,
    "start_time": "2022-04-04T12:13:31.022Z"
   },
   {
    "duration": 15,
    "start_time": "2022-04-04T12:13:31.028Z"
   },
   {
    "duration": 7,
    "start_time": "2022-04-04T12:13:31.045Z"
   },
   {
    "duration": 9,
    "start_time": "2022-04-04T12:13:31.054Z"
   },
   {
    "duration": 6,
    "start_time": "2022-04-04T12:13:31.064Z"
   },
   {
    "duration": 15,
    "start_time": "2022-04-04T12:13:31.071Z"
   },
   {
    "duration": 9,
    "start_time": "2022-04-04T12:13:31.088Z"
   },
   {
    "duration": 16,
    "start_time": "2022-04-04T12:13:31.101Z"
   },
   {
    "duration": 8,
    "start_time": "2022-04-04T12:13:31.118Z"
   },
   {
    "duration": 8,
    "start_time": "2022-04-04T12:13:31.128Z"
   },
   {
    "duration": 7,
    "start_time": "2022-04-04T12:13:31.138Z"
   },
   {
    "duration": 10,
    "start_time": "2022-04-04T12:13:31.147Z"
   },
   {
    "duration": 13,
    "start_time": "2022-04-04T12:13:31.159Z"
   },
   {
    "duration": 8,
    "start_time": "2022-04-04T12:13:31.173Z"
   },
   {
    "duration": 12,
    "start_time": "2022-04-04T12:13:31.183Z"
   },
   {
    "duration": 9,
    "start_time": "2022-04-04T12:13:31.197Z"
   },
   {
    "duration": 19,
    "start_time": "2022-04-04T12:13:31.207Z"
   },
   {
    "duration": 9,
    "start_time": "2022-04-04T12:13:31.228Z"
   },
   {
    "duration": 12,
    "start_time": "2022-04-04T12:13:31.239Z"
   },
   {
    "duration": 9,
    "start_time": "2022-04-04T12:13:31.252Z"
   },
   {
    "duration": 8,
    "start_time": "2022-04-04T12:13:31.262Z"
   },
   {
    "duration": 8,
    "start_time": "2022-04-04T12:13:31.271Z"
   },
   {
    "duration": 6,
    "start_time": "2022-04-04T12:13:31.282Z"
   },
   {
    "duration": 13,
    "start_time": "2022-04-04T12:13:31.290Z"
   },
   {
    "duration": 4,
    "start_time": "2022-04-06T14:30:17.256Z"
   },
   {
    "duration": 45,
    "start_time": "2022-04-06T14:35:25.552Z"
   },
   {
    "duration": 6,
    "start_time": "2022-04-06T14:42:40.830Z"
   },
   {
    "duration": 4,
    "start_time": "2022-04-06T14:42:56.984Z"
   },
   {
    "duration": 435,
    "start_time": "2022-04-06T14:43:23.455Z"
   },
   {
    "duration": 149,
    "start_time": "2022-04-06T14:43:23.891Z"
   },
   {
    "duration": 18,
    "start_time": "2022-04-06T14:43:24.042Z"
   },
   {
    "duration": 30,
    "start_time": "2022-04-06T14:43:24.062Z"
   },
   {
    "duration": 4,
    "start_time": "2022-04-06T14:43:24.095Z"
   },
   {
    "duration": 40,
    "start_time": "2022-04-06T14:43:24.101Z"
   },
   {
    "duration": 5,
    "start_time": "2022-04-06T14:43:24.143Z"
   },
   {
    "duration": 26,
    "start_time": "2022-04-06T14:43:24.150Z"
   },
   {
    "duration": 19,
    "start_time": "2022-04-06T14:43:24.178Z"
   },
   {
    "duration": 59,
    "start_time": "2022-04-06T14:43:24.199Z"
   },
   {
    "duration": 78,
    "start_time": "2022-04-06T14:43:24.260Z"
   },
   {
    "duration": 73,
    "start_time": "2022-04-06T14:43:24.340Z"
   },
   {
    "duration": 73,
    "start_time": "2022-04-06T14:43:24.415Z"
   },
   {
    "duration": 7,
    "start_time": "2022-04-06T14:43:24.493Z"
   },
   {
    "duration": 3,
    "start_time": "2022-04-06T14:43:24.502Z"
   },
   {
    "duration": 30,
    "start_time": "2022-04-06T14:43:24.507Z"
   },
   {
    "duration": 7,
    "start_time": "2022-04-06T14:43:24.538Z"
   },
   {
    "duration": 9,
    "start_time": "2022-04-06T14:43:24.547Z"
   },
   {
    "duration": 3,
    "start_time": "2022-04-06T14:43:24.558Z"
   },
   {
    "duration": 3,
    "start_time": "2022-04-06T14:43:24.563Z"
   },
   {
    "duration": 4,
    "start_time": "2022-04-06T14:43:24.568Z"
   },
   {
    "duration": 7,
    "start_time": "2022-04-06T14:43:24.574Z"
   },
   {
    "duration": 5,
    "start_time": "2022-04-06T14:43:24.583Z"
   },
   {
    "duration": 5,
    "start_time": "2022-04-06T14:43:24.590Z"
   },
   {
    "duration": 5,
    "start_time": "2022-04-06T14:43:24.596Z"
   },
   {
    "duration": 7,
    "start_time": "2022-04-06T14:43:24.633Z"
   },
   {
    "duration": 13,
    "start_time": "2022-04-06T14:43:24.641Z"
   },
   {
    "duration": 5,
    "start_time": "2022-04-06T14:43:24.656Z"
   },
   {
    "duration": 5,
    "start_time": "2022-04-06T14:43:24.663Z"
   },
   {
    "duration": 5,
    "start_time": "2022-04-06T14:43:24.669Z"
   },
   {
    "duration": 9,
    "start_time": "2022-04-06T14:43:24.675Z"
   },
   {
    "duration": 6,
    "start_time": "2022-04-06T14:43:24.686Z"
   },
   {
    "duration": 5,
    "start_time": "2022-04-06T14:43:24.694Z"
   },
   {
    "duration": 7,
    "start_time": "2022-04-06T14:43:24.700Z"
   },
   {
    "duration": 4,
    "start_time": "2022-04-06T14:43:24.709Z"
   },
   {
    "duration": 4,
    "start_time": "2022-04-06T14:43:24.714Z"
   },
   {
    "duration": 6,
    "start_time": "2022-04-06T14:43:24.733Z"
   },
   {
    "duration": 11,
    "start_time": "2022-04-06T14:43:24.740Z"
   },
   {
    "duration": 4,
    "start_time": "2022-04-06T14:43:24.753Z"
   },
   {
    "duration": 14,
    "start_time": "2022-04-06T14:44:21.773Z"
   },
   {
    "duration": 12,
    "start_time": "2022-04-06T14:44:44.230Z"
   },
   {
    "duration": 12,
    "start_time": "2022-04-06T14:44:55.117Z"
   },
   {
    "duration": 7,
    "start_time": "2022-04-06T14:45:33.918Z"
   },
   {
    "duration": 3,
    "start_time": "2022-04-06T14:46:10.590Z"
   },
   {
    "duration": 169,
    "start_time": "2022-04-06T14:46:10.595Z"
   },
   {
    "duration": 12,
    "start_time": "2022-04-06T14:46:10.765Z"
   },
   {
    "duration": 30,
    "start_time": "2022-04-06T14:46:10.779Z"
   },
   {
    "duration": 3,
    "start_time": "2022-04-06T14:46:10.811Z"
   },
   {
    "duration": 10,
    "start_time": "2022-04-06T14:46:10.832Z"
   },
   {
    "duration": 3,
    "start_time": "2022-04-06T14:46:10.844Z"
   },
   {
    "duration": 27,
    "start_time": "2022-04-06T14:46:10.849Z"
   },
   {
    "duration": 19,
    "start_time": "2022-04-06T14:46:10.878Z"
   },
   {
    "duration": 51,
    "start_time": "2022-04-06T14:46:10.899Z"
   },
   {
    "duration": 62,
    "start_time": "2022-04-06T14:46:10.952Z"
   },
   {
    "duration": 92,
    "start_time": "2022-04-06T14:46:11.016Z"
   },
   {
    "duration": 68,
    "start_time": "2022-04-06T14:46:11.110Z"
   },
   {
    "duration": 8,
    "start_time": "2022-04-06T14:46:11.179Z"
   },
   {
    "duration": 6,
    "start_time": "2022-04-06T14:46:11.189Z"
   },
   {
    "duration": 25,
    "start_time": "2022-04-06T14:46:11.196Z"
   },
   {
    "duration": 17,
    "start_time": "2022-04-06T14:46:11.223Z"
   },
   {
    "duration": 12,
    "start_time": "2022-04-06T14:46:11.242Z"
   },
   {
    "duration": 5,
    "start_time": "2022-04-06T14:46:11.256Z"
   },
   {
    "duration": 4,
    "start_time": "2022-04-06T14:46:11.263Z"
   },
   {
    "duration": 5,
    "start_time": "2022-04-06T14:46:11.268Z"
   },
   {
    "duration": 4,
    "start_time": "2022-04-06T14:46:11.275Z"
   },
   {
    "duration": 7,
    "start_time": "2022-04-06T14:46:11.281Z"
   },
   {
    "duration": 4,
    "start_time": "2022-04-06T14:46:11.290Z"
   },
   {
    "duration": 5,
    "start_time": "2022-04-06T14:46:11.295Z"
   },
   {
    "duration": 5,
    "start_time": "2022-04-06T14:46:11.301Z"
   },
   {
    "duration": 2,
    "start_time": "2022-04-06T14:46:11.333Z"
   },
   {
    "duration": 3,
    "start_time": "2022-04-06T14:46:11.339Z"
   },
   {
    "duration": 5,
    "start_time": "2022-04-06T14:46:11.343Z"
   },
   {
    "duration": 4,
    "start_time": "2022-04-06T14:46:11.350Z"
   },
   {
    "duration": 8,
    "start_time": "2022-04-06T14:46:11.356Z"
   },
   {
    "duration": 5,
    "start_time": "2022-04-06T14:46:11.366Z"
   },
   {
    "duration": 8,
    "start_time": "2022-04-06T14:46:11.372Z"
   },
   {
    "duration": 7,
    "start_time": "2022-04-06T14:46:11.382Z"
   },
   {
    "duration": 3,
    "start_time": "2022-04-06T14:46:11.391Z"
   },
   {
    "duration": 4,
    "start_time": "2022-04-06T14:46:11.396Z"
   },
   {
    "duration": 5,
    "start_time": "2022-04-06T14:46:11.401Z"
   },
   {
    "duration": 26,
    "start_time": "2022-04-06T14:46:11.407Z"
   },
   {
    "duration": 12,
    "start_time": "2022-04-06T14:47:32.240Z"
   },
   {
    "duration": 9,
    "start_time": "2022-04-06T14:51:20.772Z"
   },
   {
    "duration": 123,
    "start_time": "2022-04-06T15:06:49.028Z"
   },
   {
    "duration": 15,
    "start_time": "2022-04-06T15:06:59.653Z"
   },
   {
    "duration": 9,
    "start_time": "2022-04-06T15:07:11.197Z"
   },
   {
    "duration": 14,
    "start_time": "2022-04-06T15:07:42.867Z"
   },
   {
    "duration": 8,
    "start_time": "2022-04-06T15:07:44.544Z"
   },
   {
    "duration": 20,
    "start_time": "2022-04-06T15:08:14.209Z"
   },
   {
    "duration": 11,
    "start_time": "2022-04-06T15:08:15.868Z"
   },
   {
    "duration": 3,
    "start_time": "2022-04-06T15:08:36.503Z"
   },
   {
    "duration": 186,
    "start_time": "2022-04-06T15:08:36.508Z"
   },
   {
    "duration": 12,
    "start_time": "2022-04-06T15:08:36.696Z"
   },
   {
    "duration": 74,
    "start_time": "2022-04-06T15:08:36.710Z"
   },
   {
    "duration": 4,
    "start_time": "2022-04-06T15:08:36.787Z"
   },
   {
    "duration": 21,
    "start_time": "2022-04-06T15:08:36.793Z"
   },
   {
    "duration": 6,
    "start_time": "2022-04-06T15:08:36.832Z"
   },
   {
    "duration": 35,
    "start_time": "2022-04-06T15:08:36.840Z"
   },
   {
    "duration": 24,
    "start_time": "2022-04-06T15:08:36.876Z"
   },
   {
    "duration": 48,
    "start_time": "2022-04-06T15:08:36.901Z"
   },
   {
    "duration": 88,
    "start_time": "2022-04-06T15:08:36.950Z"
   },
   {
    "duration": 94,
    "start_time": "2022-04-06T15:08:37.040Z"
   },
   {
    "duration": 64,
    "start_time": "2022-04-06T15:08:37.137Z"
   },
   {
    "duration": 8,
    "start_time": "2022-04-06T15:08:37.202Z"
   },
   {
    "duration": 3,
    "start_time": "2022-04-06T15:08:37.233Z"
   },
   {
    "duration": 13,
    "start_time": "2022-04-06T15:08:37.238Z"
   },
   {
    "duration": 8,
    "start_time": "2022-04-06T15:08:37.252Z"
   },
   {
    "duration": 22,
    "start_time": "2022-04-06T15:08:37.262Z"
   },
   {
    "duration": 10,
    "start_time": "2022-04-06T15:08:37.286Z"
   },
   {
    "duration": 3,
    "start_time": "2022-04-06T15:08:37.334Z"
   },
   {
    "duration": 7,
    "start_time": "2022-04-06T15:08:37.339Z"
   },
   {
    "duration": 7,
    "start_time": "2022-04-06T15:08:37.348Z"
   },
   {
    "duration": 6,
    "start_time": "2022-04-06T15:08:37.357Z"
   },
   {
    "duration": 5,
    "start_time": "2022-04-06T15:08:37.365Z"
   },
   {
    "duration": 7,
    "start_time": "2022-04-06T15:08:37.372Z"
   },
   {
    "duration": 8,
    "start_time": "2022-04-06T15:08:37.381Z"
   },
   {
    "duration": 49,
    "start_time": "2022-04-06T15:08:37.390Z"
   },
   {
    "duration": 7,
    "start_time": "2022-04-06T15:08:37.441Z"
   },
   {
    "duration": 9,
    "start_time": "2022-04-06T15:08:37.450Z"
   },
   {
    "duration": 9,
    "start_time": "2022-04-06T15:08:37.461Z"
   },
   {
    "duration": 5,
    "start_time": "2022-04-06T15:08:37.472Z"
   },
   {
    "duration": 6,
    "start_time": "2022-04-06T15:08:37.479Z"
   },
   {
    "duration": 6,
    "start_time": "2022-04-06T15:08:37.488Z"
   },
   {
    "duration": 4,
    "start_time": "2022-04-06T15:08:37.496Z"
   },
   {
    "duration": 2,
    "start_time": "2022-04-06T15:08:37.534Z"
   },
   {
    "duration": 5,
    "start_time": "2022-04-06T15:08:37.538Z"
   },
   {
    "duration": 3,
    "start_time": "2022-04-06T15:08:37.547Z"
   },
   {
    "duration": 5,
    "start_time": "2022-04-06T15:08:37.552Z"
   },
   {
    "duration": 6,
    "start_time": "2022-04-06T15:08:37.560Z"
   },
   {
    "duration": 5,
    "start_time": "2022-04-06T15:08:37.568Z"
   },
   {
    "duration": 3,
    "start_time": "2022-04-06T15:09:36.835Z"
   },
   {
    "duration": 206,
    "start_time": "2022-04-06T15:09:36.841Z"
   },
   {
    "duration": 12,
    "start_time": "2022-04-06T15:09:37.050Z"
   },
   {
    "duration": 51,
    "start_time": "2022-04-06T15:09:37.064Z"
   },
   {
    "duration": 15,
    "start_time": "2022-04-06T15:09:37.119Z"
   },
   {
    "duration": 17,
    "start_time": "2022-04-06T15:09:37.136Z"
   },
   {
    "duration": 4,
    "start_time": "2022-04-06T15:09:37.154Z"
   },
   {
    "duration": 44,
    "start_time": "2022-04-06T15:09:37.160Z"
   },
   {
    "duration": 48,
    "start_time": "2022-04-06T15:09:37.206Z"
   },
   {
    "duration": 28,
    "start_time": "2022-04-06T15:09:37.256Z"
   },
   {
    "duration": 97,
    "start_time": "2022-04-06T15:09:37.286Z"
   },
   {
    "duration": 96,
    "start_time": "2022-04-06T15:09:37.384Z"
   },
   {
    "duration": 84,
    "start_time": "2022-04-06T15:09:37.484Z"
   },
   {
    "duration": 10,
    "start_time": "2022-04-06T15:09:37.570Z"
   },
   {
    "duration": 3,
    "start_time": "2022-04-06T15:09:37.583Z"
   },
   {
    "duration": 20,
    "start_time": "2022-04-06T15:09:37.588Z"
   },
   {
    "duration": 32,
    "start_time": "2022-04-06T15:09:37.610Z"
   },
   {
    "duration": 22,
    "start_time": "2022-04-06T15:09:37.644Z"
   },
   {
    "duration": 11,
    "start_time": "2022-04-06T15:09:37.668Z"
   },
   {
    "duration": 3,
    "start_time": "2022-04-06T15:09:37.681Z"
   },
   {
    "duration": 5,
    "start_time": "2022-04-06T15:09:37.686Z"
   },
   {
    "duration": 3,
    "start_time": "2022-04-06T15:09:37.734Z"
   },
   {
    "duration": 9,
    "start_time": "2022-04-06T15:09:37.739Z"
   },
   {
    "duration": 5,
    "start_time": "2022-04-06T15:09:37.750Z"
   },
   {
    "duration": 11,
    "start_time": "2022-04-06T15:09:37.757Z"
   },
   {
    "duration": 6,
    "start_time": "2022-04-06T15:09:37.770Z"
   },
   {
    "duration": 7,
    "start_time": "2022-04-06T15:09:37.779Z"
   },
   {
    "duration": 17,
    "start_time": "2022-04-06T15:09:37.788Z"
   },
   {
    "duration": 26,
    "start_time": "2022-04-06T15:09:37.807Z"
   },
   {
    "duration": 8,
    "start_time": "2022-04-06T15:09:37.835Z"
   },
   {
    "duration": 8,
    "start_time": "2022-04-06T15:09:37.846Z"
   },
   {
    "duration": 5,
    "start_time": "2022-04-06T15:09:37.857Z"
   },
   {
    "duration": 7,
    "start_time": "2022-04-06T15:09:37.865Z"
   },
   {
    "duration": 5,
    "start_time": "2022-04-06T15:09:37.874Z"
   },
   {
    "duration": 10,
    "start_time": "2022-04-06T15:09:37.881Z"
   },
   {
    "duration": 15,
    "start_time": "2022-04-06T15:09:37.894Z"
   },
   {
    "duration": 3,
    "start_time": "2022-04-06T15:09:37.934Z"
   },
   {
    "duration": 7,
    "start_time": "2022-04-06T15:09:37.939Z"
   },
   {
    "duration": 5,
    "start_time": "2022-04-06T15:09:37.948Z"
   },
   {
    "duration": 5,
    "start_time": "2022-04-06T15:09:37.955Z"
   },
   {
    "duration": 3,
    "start_time": "2022-04-06T15:18:44.205Z"
   },
   {
    "duration": 196,
    "start_time": "2022-04-06T15:18:44.210Z"
   },
   {
    "duration": 10,
    "start_time": "2022-04-06T15:18:44.408Z"
   },
   {
    "duration": 42,
    "start_time": "2022-04-06T15:18:44.438Z"
   },
   {
    "duration": 3,
    "start_time": "2022-04-06T15:18:44.482Z"
   },
   {
    "duration": 9,
    "start_time": "2022-04-06T15:18:44.487Z"
   },
   {
    "duration": 36,
    "start_time": "2022-04-06T15:18:44.498Z"
   },
   {
    "duration": 40,
    "start_time": "2022-04-06T15:18:44.536Z"
   },
   {
    "duration": 20,
    "start_time": "2022-04-06T15:18:44.578Z"
   },
   {
    "duration": 71,
    "start_time": "2022-04-06T15:18:44.600Z"
   },
   {
    "duration": 102,
    "start_time": "2022-04-06T15:18:44.673Z"
   },
   {
    "duration": 99,
    "start_time": "2022-04-06T15:18:44.776Z"
   },
   {
    "duration": 83,
    "start_time": "2022-04-06T15:18:44.877Z"
   },
   {
    "duration": 7,
    "start_time": "2022-04-06T15:18:44.964Z"
   },
   {
    "duration": 4,
    "start_time": "2022-04-06T15:18:44.973Z"
   },
   {
    "duration": 12,
    "start_time": "2022-04-06T15:18:44.979Z"
   },
   {
    "duration": 7,
    "start_time": "2022-04-06T15:18:44.993Z"
   },
   {
    "duration": 1713,
    "start_time": "2022-04-06T15:18:45.002Z"
   },
   {
    "duration": 0,
    "start_time": "2022-04-06T15:18:46.718Z"
   },
   {
    "duration": 0,
    "start_time": "2022-04-06T15:18:46.720Z"
   },
   {
    "duration": 0,
    "start_time": "2022-04-06T15:18:46.721Z"
   },
   {
    "duration": 0,
    "start_time": "2022-04-06T15:18:46.722Z"
   },
   {
    "duration": 0,
    "start_time": "2022-04-06T15:18:46.724Z"
   },
   {
    "duration": 0,
    "start_time": "2022-04-06T15:18:46.725Z"
   },
   {
    "duration": 0,
    "start_time": "2022-04-06T15:18:46.727Z"
   },
   {
    "duration": 0,
    "start_time": "2022-04-06T15:18:46.728Z"
   },
   {
    "duration": 0,
    "start_time": "2022-04-06T15:18:46.729Z"
   },
   {
    "duration": 0,
    "start_time": "2022-04-06T15:18:46.731Z"
   },
   {
    "duration": 0,
    "start_time": "2022-04-06T15:18:46.736Z"
   },
   {
    "duration": 0,
    "start_time": "2022-04-06T15:18:46.742Z"
   },
   {
    "duration": 0,
    "start_time": "2022-04-06T15:18:46.743Z"
   },
   {
    "duration": 0,
    "start_time": "2022-04-06T15:18:46.744Z"
   },
   {
    "duration": 0,
    "start_time": "2022-04-06T15:18:46.746Z"
   },
   {
    "duration": 0,
    "start_time": "2022-04-06T15:18:46.747Z"
   },
   {
    "duration": 0,
    "start_time": "2022-04-06T15:18:46.749Z"
   },
   {
    "duration": 0,
    "start_time": "2022-04-06T15:18:46.750Z"
   },
   {
    "duration": 0,
    "start_time": "2022-04-06T15:18:46.752Z"
   },
   {
    "duration": 0,
    "start_time": "2022-04-06T15:18:46.753Z"
   },
   {
    "duration": 0,
    "start_time": "2022-04-06T15:18:46.754Z"
   },
   {
    "duration": 0,
    "start_time": "2022-04-06T15:18:46.757Z"
   },
   {
    "duration": 1691,
    "start_time": "2022-04-06T15:19:10.810Z"
   },
   {
    "duration": 1,
    "start_time": "2022-04-06T15:19:12.502Z"
   },
   {
    "duration": 17,
    "start_time": "2022-04-06T15:19:22.248Z"
   },
   {
    "duration": 18,
    "start_time": "2022-04-06T15:19:24.055Z"
   },
   {
    "duration": 7,
    "start_time": "2022-04-06T15:19:25.789Z"
   },
   {
    "duration": 2,
    "start_time": "2022-04-06T15:31:15.185Z"
   },
   {
    "duration": 176,
    "start_time": "2022-04-06T15:31:15.189Z"
   },
   {
    "duration": 11,
    "start_time": "2022-04-06T15:31:15.367Z"
   },
   {
    "duration": 32,
    "start_time": "2022-04-06T15:31:15.380Z"
   },
   {
    "duration": 6,
    "start_time": "2022-04-06T15:31:15.432Z"
   },
   {
    "duration": 22,
    "start_time": "2022-04-06T15:31:15.443Z"
   },
   {
    "duration": 5,
    "start_time": "2022-04-06T15:31:15.467Z"
   },
   {
    "duration": 30,
    "start_time": "2022-04-06T15:31:15.474Z"
   },
   {
    "duration": 52,
    "start_time": "2022-04-06T15:31:15.506Z"
   },
   {
    "duration": 27,
    "start_time": "2022-04-06T15:31:15.561Z"
   },
   {
    "duration": 89,
    "start_time": "2022-04-06T15:31:15.590Z"
   },
   {
    "duration": 93,
    "start_time": "2022-04-06T15:31:15.681Z"
   },
   {
    "duration": 75,
    "start_time": "2022-04-06T15:31:15.777Z"
   },
   {
    "duration": 7,
    "start_time": "2022-04-06T15:31:15.854Z"
   },
   {
    "duration": 5,
    "start_time": "2022-04-06T15:31:15.863Z"
   },
   {
    "duration": 12,
    "start_time": "2022-04-06T15:31:15.870Z"
   },
   {
    "duration": 7,
    "start_time": "2022-04-06T15:31:15.884Z"
   },
   {
    "duration": 74,
    "start_time": "2022-04-06T15:31:15.893Z"
   },
   {
    "duration": 8,
    "start_time": "2022-04-06T15:31:15.969Z"
   },
   {
    "duration": 5,
    "start_time": "2022-04-06T15:31:15.978Z"
   },
   {
    "duration": 7,
    "start_time": "2022-04-06T15:31:15.985Z"
   },
   {
    "duration": 8,
    "start_time": "2022-04-06T15:31:15.993Z"
   },
   {
    "duration": 50,
    "start_time": "2022-04-06T15:31:16.003Z"
   },
   {
    "duration": 10,
    "start_time": "2022-04-06T15:31:16.056Z"
   },
   {
    "duration": 4,
    "start_time": "2022-04-06T15:31:16.069Z"
   },
   {
    "duration": 9,
    "start_time": "2022-04-06T15:31:16.075Z"
   },
   {
    "duration": 7,
    "start_time": "2022-04-06T15:31:16.086Z"
   },
   {
    "duration": 10,
    "start_time": "2022-04-06T15:31:16.095Z"
   },
   {
    "duration": 5,
    "start_time": "2022-04-06T15:31:16.107Z"
   },
   {
    "duration": 4,
    "start_time": "2022-04-06T15:31:16.114Z"
   },
   {
    "duration": 4,
    "start_time": "2022-04-06T15:31:16.120Z"
   },
   {
    "duration": 15,
    "start_time": "2022-04-06T15:31:16.126Z"
   },
   {
    "duration": 17,
    "start_time": "2022-04-06T15:31:16.143Z"
   },
   {
    "duration": 7,
    "start_time": "2022-04-06T15:31:16.162Z"
   },
   {
    "duration": 6,
    "start_time": "2022-04-06T15:31:16.171Z"
   },
   {
    "duration": 5,
    "start_time": "2022-04-06T15:31:16.179Z"
   },
   {
    "duration": 5,
    "start_time": "2022-04-06T15:31:16.187Z"
   },
   {
    "duration": 4,
    "start_time": "2022-04-06T15:31:16.194Z"
   },
   {
    "duration": 4,
    "start_time": "2022-04-06T15:31:16.200Z"
   },
   {
    "duration": 4,
    "start_time": "2022-04-06T15:31:16.206Z"
   },
   {
    "duration": 7,
    "start_time": "2022-04-06T15:34:36.561Z"
   },
   {
    "duration": 2,
    "start_time": "2022-04-06T15:34:53.666Z"
   },
   {
    "duration": 158,
    "start_time": "2022-04-06T15:34:53.670Z"
   },
   {
    "duration": 11,
    "start_time": "2022-04-06T15:34:53.832Z"
   },
   {
    "duration": 31,
    "start_time": "2022-04-06T15:34:53.844Z"
   },
   {
    "duration": 3,
    "start_time": "2022-04-06T15:34:53.877Z"
   },
   {
    "duration": 10,
    "start_time": "2022-04-06T15:34:53.882Z"
   },
   {
    "duration": 4,
    "start_time": "2022-04-06T15:34:53.933Z"
   },
   {
    "duration": 31,
    "start_time": "2022-04-06T15:34:53.938Z"
   },
   {
    "duration": 19,
    "start_time": "2022-04-06T15:34:53.971Z"
   },
   {
    "duration": 61,
    "start_time": "2022-04-06T15:34:53.992Z"
   },
   {
    "duration": 87,
    "start_time": "2022-04-06T15:34:54.055Z"
   },
   {
    "duration": 70,
    "start_time": "2022-04-06T15:34:54.144Z"
   },
   {
    "duration": 61,
    "start_time": "2022-04-06T15:34:54.234Z"
   },
   {
    "duration": 7,
    "start_time": "2022-04-06T15:34:54.297Z"
   },
   {
    "duration": 27,
    "start_time": "2022-04-06T15:34:54.306Z"
   },
   {
    "duration": 11,
    "start_time": "2022-04-06T15:34:54.335Z"
   },
   {
    "duration": 7,
    "start_time": "2022-04-06T15:34:54.348Z"
   },
   {
    "duration": 77,
    "start_time": "2022-04-06T15:34:54.356Z"
   },
   {
    "duration": 8,
    "start_time": "2022-04-06T15:34:54.435Z"
   },
   {
    "duration": 3,
    "start_time": "2022-04-06T15:34:54.444Z"
   },
   {
    "duration": 6,
    "start_time": "2022-04-06T15:34:54.449Z"
   },
   {
    "duration": 4,
    "start_time": "2022-04-06T15:34:54.457Z"
   },
   {
    "duration": 5,
    "start_time": "2022-04-06T15:34:54.464Z"
   },
   {
    "duration": 4,
    "start_time": "2022-04-06T15:34:54.471Z"
   },
   {
    "duration": 3,
    "start_time": "2022-04-06T15:34:54.477Z"
   },
   {
    "duration": 4,
    "start_time": "2022-04-06T15:34:54.482Z"
   },
   {
    "duration": 48,
    "start_time": "2022-04-06T15:34:54.488Z"
   },
   {
    "duration": 6,
    "start_time": "2022-04-06T15:34:54.538Z"
   },
   {
    "duration": 5,
    "start_time": "2022-04-06T15:34:54.546Z"
   },
   {
    "duration": 4,
    "start_time": "2022-04-06T15:34:54.552Z"
   },
   {
    "duration": 4,
    "start_time": "2022-04-06T15:34:54.558Z"
   },
   {
    "duration": 5,
    "start_time": "2022-04-06T15:34:54.564Z"
   },
   {
    "duration": 6,
    "start_time": "2022-04-06T15:34:54.571Z"
   },
   {
    "duration": 5,
    "start_time": "2022-04-06T15:34:54.578Z"
   },
   {
    "duration": 10,
    "start_time": "2022-04-06T15:34:54.585Z"
   },
   {
    "duration": 36,
    "start_time": "2022-04-06T15:34:54.597Z"
   },
   {
    "duration": 3,
    "start_time": "2022-04-06T15:34:54.636Z"
   },
   {
    "duration": 6,
    "start_time": "2022-04-06T15:34:54.641Z"
   },
   {
    "duration": 4,
    "start_time": "2022-04-06T15:34:54.649Z"
   },
   {
    "duration": 5,
    "start_time": "2022-04-06T15:34:54.654Z"
   },
   {
    "duration": 7,
    "start_time": "2022-04-06T15:38:23.406Z"
   },
   {
    "duration": 6,
    "start_time": "2022-04-06T15:39:43.458Z"
   },
   {
    "duration": 12,
    "start_time": "2022-04-06T15:41:49.433Z"
   },
   {
    "duration": 14,
    "start_time": "2022-04-06T15:41:58.614Z"
   },
   {
    "duration": 10,
    "start_time": "2022-04-06T15:42:28.149Z"
   },
   {
    "duration": 16,
    "start_time": "2022-04-06T15:42:57.123Z"
   },
   {
    "duration": 15,
    "start_time": "2022-04-06T15:43:13.297Z"
   },
   {
    "duration": 12,
    "start_time": "2022-04-06T15:43:40.113Z"
   },
   {
    "duration": 40,
    "start_time": "2022-04-06T15:44:27.128Z"
   },
   {
    "duration": 16,
    "start_time": "2022-04-06T15:45:48.877Z"
   },
   {
    "duration": 11,
    "start_time": "2022-04-06T15:47:40.994Z"
   },
   {
    "duration": 50,
    "start_time": "2022-04-06T15:49:58.196Z"
   },
   {
    "duration": 49,
    "start_time": "2022-04-06T15:53:33.510Z"
   },
   {
    "duration": 1352,
    "start_time": "2022-04-06T15:59:16.281Z"
   },
   {
    "duration": 48,
    "start_time": "2022-04-06T15:59:25.267Z"
   },
   {
    "duration": 52,
    "start_time": "2022-04-06T15:59:33.886Z"
   },
   {
    "duration": 3,
    "start_time": "2022-04-06T16:09:07.576Z"
   },
   {
    "duration": 158,
    "start_time": "2022-04-06T16:09:07.581Z"
   },
   {
    "duration": 11,
    "start_time": "2022-04-06T16:09:07.740Z"
   },
   {
    "duration": 35,
    "start_time": "2022-04-06T16:09:07.753Z"
   },
   {
    "duration": 3,
    "start_time": "2022-04-06T16:09:07.789Z"
   },
   {
    "duration": 15,
    "start_time": "2022-04-06T16:09:07.794Z"
   },
   {
    "duration": 4,
    "start_time": "2022-04-06T16:09:07.810Z"
   },
   {
    "duration": 41,
    "start_time": "2022-04-06T16:09:07.815Z"
   },
   {
    "duration": 18,
    "start_time": "2022-04-06T16:09:07.858Z"
   },
   {
    "duration": 54,
    "start_time": "2022-04-06T16:09:07.879Z"
   },
   {
    "duration": 63,
    "start_time": "2022-04-06T16:09:07.935Z"
   },
   {
    "duration": 92,
    "start_time": "2022-04-06T16:09:08.000Z"
   },
   {
    "duration": 66,
    "start_time": "2022-04-06T16:09:08.094Z"
   },
   {
    "duration": 8,
    "start_time": "2022-04-06T16:09:08.161Z"
   },
   {
    "duration": 3,
    "start_time": "2022-04-06T16:09:08.170Z"
   },
   {
    "duration": 12,
    "start_time": "2022-04-06T16:09:08.175Z"
   },
   {
    "duration": 8,
    "start_time": "2022-04-06T16:09:08.188Z"
   },
   {
    "duration": 120,
    "start_time": "2022-04-06T16:09:08.198Z"
   },
   {
    "duration": 15,
    "start_time": "2022-04-06T16:09:08.320Z"
   },
   {
    "duration": 5,
    "start_time": "2022-04-06T16:09:08.337Z"
   },
   {
    "duration": 5,
    "start_time": "2022-04-06T16:09:08.344Z"
   },
   {
    "duration": 4,
    "start_time": "2022-04-06T16:09:08.351Z"
   },
   {
    "duration": 7,
    "start_time": "2022-04-06T16:09:08.357Z"
   },
   {
    "duration": 5,
    "start_time": "2022-04-06T16:09:08.365Z"
   },
   {
    "duration": 6,
    "start_time": "2022-04-06T16:09:08.371Z"
   },
   {
    "duration": 5,
    "start_time": "2022-04-06T16:09:08.378Z"
   },
   {
    "duration": 5,
    "start_time": "2022-04-06T16:09:08.384Z"
   },
   {
    "duration": 4,
    "start_time": "2022-04-06T16:09:08.393Z"
   },
   {
    "duration": 6,
    "start_time": "2022-04-06T16:09:08.398Z"
   },
   {
    "duration": 27,
    "start_time": "2022-04-06T16:09:08.406Z"
   },
   {
    "duration": 3,
    "start_time": "2022-04-06T16:09:08.435Z"
   },
   {
    "duration": 5,
    "start_time": "2022-04-06T16:09:08.440Z"
   },
   {
    "duration": 11,
    "start_time": "2022-04-06T16:09:08.446Z"
   },
   {
    "duration": 4,
    "start_time": "2022-04-06T16:09:08.459Z"
   },
   {
    "duration": 6,
    "start_time": "2022-04-06T16:09:08.465Z"
   },
   {
    "duration": 7,
    "start_time": "2022-04-06T16:09:08.472Z"
   },
   {
    "duration": 7,
    "start_time": "2022-04-06T16:09:08.481Z"
   },
   {
    "duration": 6,
    "start_time": "2022-04-06T16:09:08.490Z"
   },
   {
    "duration": 7,
    "start_time": "2022-04-06T16:09:08.498Z"
   },
   {
    "duration": 8,
    "start_time": "2022-04-06T16:09:08.507Z"
   },
   {
    "duration": 6,
    "start_time": "2022-04-06T16:11:56.944Z"
   },
   {
    "duration": 409,
    "start_time": "2022-04-06T16:12:51.017Z"
   },
   {
    "duration": 386,
    "start_time": "2022-04-06T16:18:22.014Z"
   },
   {
    "duration": 10,
    "start_time": "2022-04-06T16:18:34.934Z"
   },
   {
    "duration": 4,
    "start_time": "2022-04-06T16:19:08.918Z"
   },
   {
    "duration": 3,
    "start_time": "2022-04-06T16:23:19.247Z"
   },
   {
    "duration": 192,
    "start_time": "2022-04-06T16:23:19.253Z"
   },
   {
    "duration": 11,
    "start_time": "2022-04-06T16:23:19.447Z"
   },
   {
    "duration": 33,
    "start_time": "2022-04-06T16:23:19.460Z"
   },
   {
    "duration": 3,
    "start_time": "2022-04-06T16:23:19.495Z"
   },
   {
    "duration": 11,
    "start_time": "2022-04-06T16:23:19.500Z"
   },
   {
    "duration": 27,
    "start_time": "2022-04-06T16:23:19.512Z"
   },
   {
    "duration": 39,
    "start_time": "2022-04-06T16:23:19.542Z"
   },
   {
    "duration": 19,
    "start_time": "2022-04-06T16:23:19.583Z"
   },
   {
    "duration": 46,
    "start_time": "2022-04-06T16:23:19.604Z"
   },
   {
    "duration": 66,
    "start_time": "2022-04-06T16:23:19.652Z"
   },
   {
    "duration": 96,
    "start_time": "2022-04-06T16:23:19.719Z"
   },
   {
    "duration": 76,
    "start_time": "2022-04-06T16:23:19.817Z"
   },
   {
    "duration": 7,
    "start_time": "2022-04-06T16:23:19.896Z"
   },
   {
    "duration": 4,
    "start_time": "2022-04-06T16:23:19.905Z"
   },
   {
    "duration": 28,
    "start_time": "2022-04-06T16:23:19.910Z"
   },
   {
    "duration": 11,
    "start_time": "2022-04-06T16:23:19.940Z"
   },
   {
    "duration": 51,
    "start_time": "2022-04-06T16:23:19.952Z"
   },
   {
    "duration": 7,
    "start_time": "2022-04-06T16:23:20.005Z"
   },
   {
    "duration": 12,
    "start_time": "2022-04-06T16:23:20.037Z"
   },
   {
    "duration": 14,
    "start_time": "2022-04-06T16:23:20.051Z"
   },
   {
    "duration": 11,
    "start_time": "2022-04-06T16:23:20.067Z"
   },
   {
    "duration": 10,
    "start_time": "2022-04-06T16:23:20.080Z"
   },
   {
    "duration": 11,
    "start_time": "2022-04-06T16:23:20.091Z"
   },
   {
    "duration": 6,
    "start_time": "2022-04-06T16:23:20.104Z"
   },
   {
    "duration": 8,
    "start_time": "2022-04-06T16:23:20.112Z"
   },
   {
    "duration": 7,
    "start_time": "2022-04-06T16:23:20.121Z"
   },
   {
    "duration": 21,
    "start_time": "2022-04-06T16:23:20.130Z"
   },
   {
    "duration": 4,
    "start_time": "2022-04-06T16:23:20.152Z"
   },
   {
    "duration": 6,
    "start_time": "2022-04-06T16:23:20.158Z"
   },
   {
    "duration": 5,
    "start_time": "2022-04-06T16:23:20.165Z"
   },
   {
    "duration": 5,
    "start_time": "2022-04-06T16:23:20.172Z"
   },
   {
    "duration": 8,
    "start_time": "2022-04-06T16:23:20.179Z"
   },
   {
    "duration": 5,
    "start_time": "2022-04-06T16:23:20.188Z"
   },
   {
    "duration": 8,
    "start_time": "2022-04-06T16:23:20.194Z"
   },
   {
    "duration": 3,
    "start_time": "2022-04-06T16:23:20.204Z"
   },
   {
    "duration": 4,
    "start_time": "2022-04-06T16:23:20.209Z"
   },
   {
    "duration": 4,
    "start_time": "2022-04-06T16:23:20.214Z"
   },
   {
    "duration": 17,
    "start_time": "2022-04-06T16:23:20.220Z"
   },
   {
    "duration": 12,
    "start_time": "2022-04-06T16:23:20.239Z"
   },
   {
    "duration": 49,
    "start_time": "2022-04-06T16:36:51.097Z"
   },
   {
    "duration": 9,
    "start_time": "2022-04-06T16:39:09.546Z"
   },
   {
    "duration": 50,
    "start_time": "2022-04-06T16:40:06.390Z"
   },
   {
    "duration": 57,
    "start_time": "2022-04-06T16:48:09.359Z"
   },
   {
    "duration": 476,
    "start_time": "2022-04-06T16:48:44.355Z"
   },
   {
    "duration": 175,
    "start_time": "2022-04-06T16:48:44.833Z"
   },
   {
    "duration": 20,
    "start_time": "2022-04-06T16:48:45.010Z"
   },
   {
    "duration": 36,
    "start_time": "2022-04-06T16:48:45.033Z"
   },
   {
    "duration": 4,
    "start_time": "2022-04-06T16:48:45.070Z"
   },
   {
    "duration": 34,
    "start_time": "2022-04-06T16:48:45.075Z"
   },
   {
    "duration": 11,
    "start_time": "2022-04-06T16:48:45.112Z"
   },
   {
    "duration": 29,
    "start_time": "2022-04-06T16:48:45.125Z"
   },
   {
    "duration": 23,
    "start_time": "2022-04-06T16:48:45.156Z"
   },
   {
    "duration": 42,
    "start_time": "2022-04-06T16:48:45.183Z"
   },
   {
    "duration": 82,
    "start_time": "2022-04-06T16:48:45.227Z"
   },
   {
    "duration": 96,
    "start_time": "2022-04-06T16:48:45.311Z"
   },
   {
    "duration": 65,
    "start_time": "2022-04-06T16:48:45.409Z"
   },
   {
    "duration": 7,
    "start_time": "2022-04-06T16:48:45.476Z"
   },
   {
    "duration": 4,
    "start_time": "2022-04-06T16:48:45.502Z"
   },
   {
    "duration": 38,
    "start_time": "2022-04-06T16:48:45.508Z"
   },
   {
    "duration": 9,
    "start_time": "2022-04-06T16:48:45.548Z"
   },
   {
    "duration": 57,
    "start_time": "2022-04-06T16:48:45.559Z"
   },
   {
    "duration": 8,
    "start_time": "2022-04-06T16:48:45.618Z"
   },
   {
    "duration": 36,
    "start_time": "2022-04-06T16:48:45.628Z"
   },
   {
    "duration": 0,
    "start_time": "2022-04-06T16:48:45.667Z"
   },
   {
    "duration": 0,
    "start_time": "2022-04-06T16:48:45.668Z"
   },
   {
    "duration": 0,
    "start_time": "2022-04-06T16:48:45.669Z"
   },
   {
    "duration": 0,
    "start_time": "2022-04-06T16:48:45.670Z"
   },
   {
    "duration": 0,
    "start_time": "2022-04-06T16:48:45.671Z"
   },
   {
    "duration": 0,
    "start_time": "2022-04-06T16:48:45.672Z"
   },
   {
    "duration": 0,
    "start_time": "2022-04-06T16:48:45.673Z"
   },
   {
    "duration": 0,
    "start_time": "2022-04-06T16:48:45.674Z"
   },
   {
    "duration": 0,
    "start_time": "2022-04-06T16:48:45.701Z"
   },
   {
    "duration": 0,
    "start_time": "2022-04-06T16:48:45.703Z"
   },
   {
    "duration": 0,
    "start_time": "2022-04-06T16:48:45.704Z"
   },
   {
    "duration": 0,
    "start_time": "2022-04-06T16:48:45.705Z"
   },
   {
    "duration": 0,
    "start_time": "2022-04-06T16:48:45.706Z"
   },
   {
    "duration": 0,
    "start_time": "2022-04-06T16:48:45.708Z"
   },
   {
    "duration": 0,
    "start_time": "2022-04-06T16:48:45.709Z"
   },
   {
    "duration": 0,
    "start_time": "2022-04-06T16:48:45.710Z"
   },
   {
    "duration": 0,
    "start_time": "2022-04-06T16:48:45.711Z"
   },
   {
    "duration": 0,
    "start_time": "2022-04-06T16:48:45.712Z"
   },
   {
    "duration": 0,
    "start_time": "2022-04-06T16:48:45.713Z"
   },
   {
    "duration": 0,
    "start_time": "2022-04-06T16:48:45.714Z"
   },
   {
    "duration": 8,
    "start_time": "2022-04-06T16:49:05.629Z"
   },
   {
    "duration": 96,
    "start_time": "2022-04-06T16:49:10.449Z"
   },
   {
    "duration": 121,
    "start_time": "2022-04-06T16:49:40.788Z"
   },
   {
    "duration": 106,
    "start_time": "2022-04-06T16:49:53.644Z"
   },
   {
    "duration": 52,
    "start_time": "2022-04-06T16:49:57.353Z"
   },
   {
    "duration": 49,
    "start_time": "2022-04-06T16:53:23.059Z"
   },
   {
    "duration": 4,
    "start_time": "2022-04-06T16:56:24.769Z"
   },
   {
    "duration": 18,
    "start_time": "2022-04-06T16:58:59.482Z"
   },
   {
    "duration": 62,
    "start_time": "2022-04-06T16:59:10.631Z"
   },
   {
    "duration": 11,
    "start_time": "2022-04-06T17:02:10.771Z"
   },
   {
    "duration": 12,
    "start_time": "2022-04-06T17:02:12.834Z"
   },
   {
    "duration": 3,
    "start_time": "2022-04-06T17:02:26.431Z"
   },
   {
    "duration": 184,
    "start_time": "2022-04-06T17:02:26.436Z"
   },
   {
    "duration": 10,
    "start_time": "2022-04-06T17:02:26.623Z"
   },
   {
    "duration": 34,
    "start_time": "2022-04-06T17:02:26.635Z"
   },
   {
    "duration": 3,
    "start_time": "2022-04-06T17:02:26.672Z"
   },
   {
    "duration": 44,
    "start_time": "2022-04-06T17:02:26.677Z"
   },
   {
    "duration": 4,
    "start_time": "2022-04-06T17:02:26.723Z"
   },
   {
    "duration": 33,
    "start_time": "2022-04-06T17:02:26.729Z"
   },
   {
    "duration": 23,
    "start_time": "2022-04-06T17:02:26.763Z"
   },
   {
    "duration": 38,
    "start_time": "2022-04-06T17:02:26.788Z"
   },
   {
    "duration": 82,
    "start_time": "2022-04-06T17:02:26.828Z"
   },
   {
    "duration": 89,
    "start_time": "2022-04-06T17:02:26.913Z"
   },
   {
    "duration": 69,
    "start_time": "2022-04-06T17:02:27.007Z"
   },
   {
    "duration": 24,
    "start_time": "2022-04-06T17:02:27.078Z"
   },
   {
    "duration": 4,
    "start_time": "2022-04-06T17:02:27.105Z"
   },
   {
    "duration": 19,
    "start_time": "2022-04-06T17:02:27.112Z"
   },
   {
    "duration": 12,
    "start_time": "2022-04-06T17:02:27.133Z"
   },
   {
    "duration": 92,
    "start_time": "2022-04-06T17:02:27.148Z"
   },
   {
    "duration": 7,
    "start_time": "2022-04-06T17:02:27.243Z"
   },
   {
    "duration": 14,
    "start_time": "2022-04-06T17:02:27.251Z"
   },
   {
    "duration": 9,
    "start_time": "2022-04-06T17:02:27.267Z"
   },
   {
    "duration": 5,
    "start_time": "2022-04-06T17:02:27.278Z"
   },
   {
    "duration": 11,
    "start_time": "2022-04-06T17:02:27.285Z"
   },
   {
    "duration": 28,
    "start_time": "2022-04-06T17:02:27.302Z"
   },
   {
    "duration": 6,
    "start_time": "2022-04-06T17:02:27.332Z"
   },
   {
    "duration": 6,
    "start_time": "2022-04-06T17:02:27.339Z"
   },
   {
    "duration": 10,
    "start_time": "2022-04-06T17:02:27.347Z"
   },
   {
    "duration": 15,
    "start_time": "2022-04-06T17:02:27.359Z"
   },
   {
    "duration": 9,
    "start_time": "2022-04-06T17:02:27.376Z"
   },
   {
    "duration": 10,
    "start_time": "2022-04-06T17:02:27.387Z"
   },
   {
    "duration": 19,
    "start_time": "2022-04-06T17:02:27.399Z"
   },
   {
    "duration": 9,
    "start_time": "2022-04-06T17:02:27.420Z"
   },
   {
    "duration": 17,
    "start_time": "2022-04-06T17:02:27.430Z"
   },
   {
    "duration": 9,
    "start_time": "2022-04-06T17:02:27.449Z"
   },
   {
    "duration": 11,
    "start_time": "2022-04-06T17:02:27.460Z"
   },
   {
    "duration": 10,
    "start_time": "2022-04-06T17:02:27.473Z"
   },
   {
    "duration": 8,
    "start_time": "2022-04-06T17:02:27.487Z"
   },
   {
    "duration": 17,
    "start_time": "2022-04-06T17:02:27.498Z"
   },
   {
    "duration": 8,
    "start_time": "2022-04-06T17:02:27.518Z"
   },
   {
    "duration": 11,
    "start_time": "2022-04-06T17:02:27.528Z"
   },
   {
    "duration": 13,
    "start_time": "2022-04-06T17:02:41.027Z"
   },
   {
    "duration": 354,
    "start_time": "2022-04-06T17:04:22.131Z"
   },
   {
    "duration": 33,
    "start_time": "2022-04-06T17:06:47.035Z"
   },
   {
    "duration": 118,
    "start_time": "2022-04-06T17:10:17.782Z"
   },
   {
    "duration": 35,
    "start_time": "2022-04-06T17:10:27.317Z"
   },
   {
    "duration": 33,
    "start_time": "2022-04-06T17:10:29.366Z"
   },
   {
    "duration": 4,
    "start_time": "2022-04-06T17:10:33.499Z"
   },
   {
    "duration": 199,
    "start_time": "2022-04-06T17:10:33.505Z"
   },
   {
    "duration": 11,
    "start_time": "2022-04-06T17:10:33.706Z"
   },
   {
    "duration": 61,
    "start_time": "2022-04-06T17:10:33.719Z"
   },
   {
    "duration": 9,
    "start_time": "2022-04-06T17:10:33.783Z"
   },
   {
    "duration": 23,
    "start_time": "2022-04-06T17:10:33.794Z"
   },
   {
    "duration": 16,
    "start_time": "2022-04-06T17:10:33.819Z"
   },
   {
    "duration": 38,
    "start_time": "2022-04-06T17:10:33.837Z"
   },
   {
    "duration": 47,
    "start_time": "2022-04-06T17:10:33.877Z"
   },
   {
    "duration": 51,
    "start_time": "2022-04-06T17:10:33.926Z"
   },
   {
    "duration": 80,
    "start_time": "2022-04-06T17:10:33.979Z"
   },
   {
    "duration": 83,
    "start_time": "2022-04-06T17:10:34.061Z"
   },
   {
    "duration": 71,
    "start_time": "2022-04-06T17:10:34.146Z"
   },
   {
    "duration": 8,
    "start_time": "2022-04-06T17:10:34.220Z"
   },
   {
    "duration": 7,
    "start_time": "2022-04-06T17:10:34.230Z"
   },
   {
    "duration": 15,
    "start_time": "2022-04-06T17:10:34.239Z"
   },
   {
    "duration": 10,
    "start_time": "2022-04-06T17:10:34.256Z"
   },
   {
    "duration": 79,
    "start_time": "2022-04-06T17:10:34.268Z"
   },
   {
    "duration": 8,
    "start_time": "2022-04-06T17:10:34.349Z"
   },
   {
    "duration": 48,
    "start_time": "2022-04-06T17:10:34.358Z"
   },
   {
    "duration": 3,
    "start_time": "2022-04-06T17:10:34.407Z"
   },
   {
    "duration": 12,
    "start_time": "2022-04-06T17:10:34.412Z"
   },
   {
    "duration": 15,
    "start_time": "2022-04-06T17:10:34.426Z"
   },
   {
    "duration": 14,
    "start_time": "2022-04-06T17:10:34.443Z"
   },
   {
    "duration": 7,
    "start_time": "2022-04-06T17:10:34.459Z"
   },
   {
    "duration": 12,
    "start_time": "2022-04-06T17:10:34.468Z"
   },
   {
    "duration": 12,
    "start_time": "2022-04-06T17:10:34.482Z"
   },
   {
    "duration": 14,
    "start_time": "2022-04-06T17:10:34.496Z"
   },
   {
    "duration": 12,
    "start_time": "2022-04-06T17:10:34.512Z"
   },
   {
    "duration": 10,
    "start_time": "2022-04-06T17:10:34.526Z"
   },
   {
    "duration": 8,
    "start_time": "2022-04-06T17:10:34.538Z"
   },
   {
    "duration": 21,
    "start_time": "2022-04-06T17:10:34.548Z"
   },
   {
    "duration": 19,
    "start_time": "2022-04-06T17:10:34.571Z"
   },
   {
    "duration": 32,
    "start_time": "2022-04-06T17:10:34.592Z"
   },
   {
    "duration": 13,
    "start_time": "2022-04-06T17:10:34.626Z"
   },
   {
    "duration": 10,
    "start_time": "2022-04-06T17:10:34.641Z"
   },
   {
    "duration": 11,
    "start_time": "2022-04-06T17:10:34.653Z"
   },
   {
    "duration": 10,
    "start_time": "2022-04-06T17:10:34.667Z"
   },
   {
    "duration": 10,
    "start_time": "2022-04-06T17:10:34.678Z"
   },
   {
    "duration": 11,
    "start_time": "2022-04-06T17:10:34.689Z"
   },
   {
    "duration": 3,
    "start_time": "2022-04-06T17:14:51.239Z"
   },
   {
    "duration": 4,
    "start_time": "2022-04-06T17:15:01.696Z"
   },
   {
    "duration": 4,
    "start_time": "2022-04-06T17:16:43.009Z"
   },
   {
    "duration": 4,
    "start_time": "2022-04-06T17:16:45.313Z"
   },
   {
    "duration": 3,
    "start_time": "2022-04-06T17:16:49.655Z"
   },
   {
    "duration": 226,
    "start_time": "2022-04-06T17:16:49.661Z"
   },
   {
    "duration": 18,
    "start_time": "2022-04-06T17:16:49.890Z"
   },
   {
    "duration": 60,
    "start_time": "2022-04-06T17:16:49.911Z"
   },
   {
    "duration": 5,
    "start_time": "2022-04-06T17:16:49.974Z"
   },
   {
    "duration": 28,
    "start_time": "2022-04-06T17:16:49.981Z"
   },
   {
    "duration": 15,
    "start_time": "2022-04-06T17:16:50.012Z"
   },
   {
    "duration": 39,
    "start_time": "2022-04-06T17:16:50.030Z"
   },
   {
    "duration": 39,
    "start_time": "2022-04-06T17:16:50.071Z"
   },
   {
    "duration": 36,
    "start_time": "2022-04-06T17:16:50.114Z"
   },
   {
    "duration": 103,
    "start_time": "2022-04-06T17:16:50.152Z"
   },
   {
    "duration": 99,
    "start_time": "2022-04-06T17:16:50.257Z"
   },
   {
    "duration": 99,
    "start_time": "2022-04-06T17:16:50.358Z"
   },
   {
    "duration": 9,
    "start_time": "2022-04-06T17:16:50.460Z"
   },
   {
    "duration": 8,
    "start_time": "2022-04-06T17:16:50.470Z"
   },
   {
    "duration": 32,
    "start_time": "2022-04-06T17:16:50.480Z"
   },
   {
    "duration": 23,
    "start_time": "2022-04-06T17:16:50.515Z"
   },
   {
    "duration": 62,
    "start_time": "2022-04-06T17:16:50.540Z"
   },
   {
    "duration": 9,
    "start_time": "2022-04-06T17:16:50.604Z"
   },
   {
    "duration": 25,
    "start_time": "2022-04-06T17:16:50.616Z"
   },
   {
    "duration": 30,
    "start_time": "2022-04-06T17:16:50.643Z"
   },
   {
    "duration": 19,
    "start_time": "2022-04-06T17:16:50.675Z"
   },
   {
    "duration": 20,
    "start_time": "2022-04-06T17:16:50.697Z"
   },
   {
    "duration": 12,
    "start_time": "2022-04-06T17:16:50.719Z"
   },
   {
    "duration": 9,
    "start_time": "2022-04-06T17:16:50.733Z"
   },
   {
    "duration": 10,
    "start_time": "2022-04-06T17:16:50.744Z"
   },
   {
    "duration": 9,
    "start_time": "2022-04-06T17:16:50.757Z"
   },
   {
    "duration": 8,
    "start_time": "2022-04-06T17:16:50.772Z"
   },
   {
    "duration": 8,
    "start_time": "2022-04-06T17:16:50.782Z"
   },
   {
    "duration": 18,
    "start_time": "2022-04-06T17:16:50.792Z"
   },
   {
    "duration": 26,
    "start_time": "2022-04-06T17:16:50.812Z"
   },
   {
    "duration": 11,
    "start_time": "2022-04-06T17:16:50.840Z"
   },
   {
    "duration": 12,
    "start_time": "2022-04-06T17:16:50.853Z"
   },
   {
    "duration": 10,
    "start_time": "2022-04-06T17:16:50.867Z"
   },
   {
    "duration": 39,
    "start_time": "2022-04-06T17:16:50.879Z"
   },
   {
    "duration": 11,
    "start_time": "2022-04-06T17:16:50.921Z"
   },
   {
    "duration": 18,
    "start_time": "2022-04-06T17:16:50.935Z"
   },
   {
    "duration": 14,
    "start_time": "2022-04-06T17:16:50.955Z"
   },
   {
    "duration": 11,
    "start_time": "2022-04-06T17:16:50.972Z"
   },
   {
    "duration": 11,
    "start_time": "2022-04-06T17:16:50.985Z"
   },
   {
    "duration": 5,
    "start_time": "2022-04-06T17:19:01.313Z"
   },
   {
    "duration": 13,
    "start_time": "2022-04-06T17:19:25.297Z"
   },
   {
    "duration": 18,
    "start_time": "2022-04-06T17:20:02.424Z"
   },
   {
    "duration": 38,
    "start_time": "2022-04-06T17:21:18.396Z"
   },
   {
    "duration": 60,
    "start_time": "2022-04-06T17:24:08.107Z"
   },
   {
    "duration": 62,
    "start_time": "2022-04-06T17:25:09.333Z"
   },
   {
    "duration": 15,
    "start_time": "2022-04-06T17:26:01.030Z"
   },
   {
    "duration": 27,
    "start_time": "2022-04-06T17:28:00.449Z"
   },
   {
    "duration": 11,
    "start_time": "2022-04-06T17:28:08.794Z"
   },
   {
    "duration": 40,
    "start_time": "2022-04-06T17:29:11.368Z"
   },
   {
    "duration": 60,
    "start_time": "2022-04-06T17:30:45.095Z"
   },
   {
    "duration": 18,
    "start_time": "2022-04-06T17:31:06.601Z"
   },
   {
    "duration": 15,
    "start_time": "2022-04-06T17:33:28.709Z"
   },
   {
    "duration": 23,
    "start_time": "2022-04-06T17:34:35.095Z"
   },
   {
    "duration": 15,
    "start_time": "2022-04-06T17:34:45.929Z"
   },
   {
    "duration": 11,
    "start_time": "2022-04-06T17:34:56.437Z"
   },
   {
    "duration": 12,
    "start_time": "2022-04-06T17:34:58.765Z"
   },
   {
    "duration": 15,
    "start_time": "2022-04-06T17:35:10.745Z"
   },
   {
    "duration": 16,
    "start_time": "2022-04-06T17:40:05.537Z"
   },
   {
    "duration": 3,
    "start_time": "2022-04-06T17:43:36.119Z"
   },
   {
    "duration": 4,
    "start_time": "2022-04-06T17:44:18.658Z"
   },
   {
    "duration": 37,
    "start_time": "2022-04-06T17:44:28.324Z"
   },
   {
    "duration": 12,
    "start_time": "2022-04-06T17:47:28.776Z"
   },
   {
    "duration": 8,
    "start_time": "2022-04-06T17:47:42.241Z"
   },
   {
    "duration": 38,
    "start_time": "2022-04-06T17:48:27.868Z"
   },
   {
    "duration": 12,
    "start_time": "2022-04-06T17:48:53.136Z"
   },
   {
    "duration": 38,
    "start_time": "2022-04-06T17:50:10.091Z"
   },
   {
    "duration": 36,
    "start_time": "2022-04-06T17:50:24.962Z"
   },
   {
    "duration": 36,
    "start_time": "2022-04-06T17:52:07.517Z"
   },
   {
    "duration": 13,
    "start_time": "2022-04-06T17:53:27.283Z"
   },
   {
    "duration": 14,
    "start_time": "2022-04-06T17:53:44.494Z"
   },
   {
    "duration": 40,
    "start_time": "2022-04-06T18:02:32.221Z"
   },
   {
    "duration": 8,
    "start_time": "2022-04-06T18:03:07.137Z"
   },
   {
    "duration": 7,
    "start_time": "2022-04-06T18:04:15.864Z"
   },
   {
    "duration": 36,
    "start_time": "2022-04-06T18:06:37.153Z"
   },
   {
    "duration": 3,
    "start_time": "2022-04-06T18:07:17.240Z"
   },
   {
    "duration": 35,
    "start_time": "2022-04-06T18:07:26.986Z"
   },
   {
    "duration": 5,
    "start_time": "2022-04-06T18:16:31.659Z"
   },
   {
    "duration": 36,
    "start_time": "2022-04-06T18:16:39.754Z"
   },
   {
    "duration": 13,
    "start_time": "2022-04-06T18:17:05.974Z"
   },
   {
    "duration": 168,
    "start_time": "2022-04-06T18:18:01.903Z"
   },
   {
    "duration": 17,
    "start_time": "2022-04-06T18:18:09.690Z"
   },
   {
    "duration": 12,
    "start_time": "2022-04-06T18:18:12.083Z"
   },
   {
    "duration": 58,
    "start_time": "2022-04-06T18:19:11.718Z"
   },
   {
    "duration": 52,
    "start_time": "2022-04-06T18:19:13.616Z"
   },
   {
    "duration": 37,
    "start_time": "2022-04-06T18:19:26.610Z"
   },
   {
    "duration": 39,
    "start_time": "2022-04-06T18:19:44.902Z"
   },
   {
    "duration": 542,
    "start_time": "2022-04-06T18:42:49.373Z"
   },
   {
    "duration": 210,
    "start_time": "2022-04-06T18:42:49.918Z"
   },
   {
    "duration": 31,
    "start_time": "2022-04-06T18:42:50.130Z"
   },
   {
    "duration": 58,
    "start_time": "2022-04-06T18:42:50.163Z"
   },
   {
    "duration": 4,
    "start_time": "2022-04-06T18:42:50.224Z"
   },
   {
    "duration": 21,
    "start_time": "2022-04-06T18:42:50.230Z"
   },
   {
    "duration": 31,
    "start_time": "2022-04-06T18:42:50.253Z"
   },
   {
    "duration": 37,
    "start_time": "2022-04-06T18:42:50.287Z"
   },
   {
    "duration": 26,
    "start_time": "2022-04-06T18:42:50.327Z"
   },
   {
    "duration": 57,
    "start_time": "2022-04-06T18:42:50.357Z"
   },
   {
    "duration": 121,
    "start_time": "2022-04-06T18:42:50.417Z"
   },
   {
    "duration": 127,
    "start_time": "2022-04-06T18:42:50.540Z"
   },
   {
    "duration": 97,
    "start_time": "2022-04-06T18:42:50.669Z"
   },
   {
    "duration": 18,
    "start_time": "2022-04-06T18:42:50.768Z"
   },
   {
    "duration": 4,
    "start_time": "2022-04-06T18:42:50.788Z"
   },
   {
    "duration": 16,
    "start_time": "2022-04-06T18:42:50.794Z"
   },
   {
    "duration": 11,
    "start_time": "2022-04-06T18:42:50.812Z"
   },
   {
    "duration": 114,
    "start_time": "2022-04-06T18:42:50.825Z"
   },
   {
    "duration": 10,
    "start_time": "2022-04-06T18:42:50.942Z"
   },
   {
    "duration": 63,
    "start_time": "2022-04-06T18:42:50.954Z"
   },
   {
    "duration": 46,
    "start_time": "2022-04-06T18:42:51.019Z"
   },
   {
    "duration": 6,
    "start_time": "2022-04-06T18:42:51.083Z"
   },
   {
    "duration": 11,
    "start_time": "2022-04-06T18:42:51.091Z"
   },
   {
    "duration": 5,
    "start_time": "2022-04-06T18:42:51.104Z"
   },
   {
    "duration": 6,
    "start_time": "2022-04-06T18:42:51.111Z"
   },
   {
    "duration": 10,
    "start_time": "2022-04-06T18:42:51.119Z"
   },
   {
    "duration": 5,
    "start_time": "2022-04-06T18:42:51.132Z"
   },
   {
    "duration": 4,
    "start_time": "2022-04-06T18:42:51.143Z"
   },
   {
    "duration": 36,
    "start_time": "2022-04-06T18:42:51.150Z"
   },
   {
    "duration": 8,
    "start_time": "2022-04-06T18:42:51.189Z"
   },
   {
    "duration": 9,
    "start_time": "2022-04-06T18:42:51.200Z"
   },
   {
    "duration": 6,
    "start_time": "2022-04-06T18:42:51.211Z"
   },
   {
    "duration": 19,
    "start_time": "2022-04-06T18:42:51.220Z"
   },
   {
    "duration": 7,
    "start_time": "2022-04-06T18:42:51.241Z"
   },
   {
    "duration": 10,
    "start_time": "2022-04-06T18:42:51.250Z"
   },
   {
    "duration": 30,
    "start_time": "2022-04-06T18:42:51.262Z"
   },
   {
    "duration": 7,
    "start_time": "2022-04-06T18:42:51.294Z"
   },
   {
    "duration": 8,
    "start_time": "2022-04-06T18:42:51.303Z"
   },
   {
    "duration": 8,
    "start_time": "2022-04-06T18:42:51.314Z"
   },
   {
    "duration": 12,
    "start_time": "2022-04-06T18:42:51.324Z"
   },
   {
    "duration": 113,
    "start_time": "2022-04-06T18:46:37.682Z"
   },
   {
    "duration": 5,
    "start_time": "2022-04-06T18:47:16.185Z"
   },
   {
    "duration": 19,
    "start_time": "2022-04-06T18:47:18.414Z"
   },
   {
    "duration": 17,
    "start_time": "2022-04-06T18:47:36.492Z"
   },
   {
    "duration": 10,
    "start_time": "2022-04-06T18:47:49.763Z"
   },
   {
    "duration": 18,
    "start_time": "2022-04-06T18:51:38.101Z"
   },
   {
    "duration": 6,
    "start_time": "2022-04-06T18:52:07.978Z"
   },
   {
    "duration": 18,
    "start_time": "2022-04-06T18:52:09.982Z"
   },
   {
    "duration": 25,
    "start_time": "2022-04-06T18:53:14.539Z"
   },
   {
    "duration": 23,
    "start_time": "2022-04-06T18:54:44.620Z"
   },
   {
    "duration": 20,
    "start_time": "2022-04-06T18:54:46.844Z"
   },
   {
    "duration": 21,
    "start_time": "2022-04-06T18:55:13.766Z"
   },
   {
    "duration": 16,
    "start_time": "2022-04-06T18:55:15.709Z"
   },
   {
    "duration": 4,
    "start_time": "2022-04-06T18:55:43.939Z"
   },
   {
    "duration": 220,
    "start_time": "2022-04-06T18:55:43.947Z"
   },
   {
    "duration": 17,
    "start_time": "2022-04-06T18:55:44.169Z"
   },
   {
    "duration": 45,
    "start_time": "2022-04-06T18:55:44.190Z"
   },
   {
    "duration": 6,
    "start_time": "2022-04-06T18:55:44.238Z"
   },
   {
    "duration": 45,
    "start_time": "2022-04-06T18:55:44.247Z"
   },
   {
    "duration": 5,
    "start_time": "2022-04-06T18:55:44.294Z"
   },
   {
    "duration": 61,
    "start_time": "2022-04-06T18:55:44.301Z"
   },
   {
    "duration": 26,
    "start_time": "2022-04-06T18:55:44.384Z"
   },
   {
    "duration": 41,
    "start_time": "2022-04-06T18:55:44.414Z"
   },
   {
    "duration": 132,
    "start_time": "2022-04-06T18:55:44.458Z"
   },
   {
    "duration": 121,
    "start_time": "2022-04-06T18:55:44.593Z"
   },
   {
    "duration": 102,
    "start_time": "2022-04-06T18:55:44.716Z"
   },
   {
    "duration": 11,
    "start_time": "2022-04-06T18:55:44.820Z"
   },
   {
    "duration": 17,
    "start_time": "2022-04-06T18:55:44.834Z"
   },
   {
    "duration": 36,
    "start_time": "2022-04-06T18:55:44.854Z"
   },
   {
    "duration": 14,
    "start_time": "2022-04-06T18:55:44.893Z"
   },
   {
    "duration": 106,
    "start_time": "2022-04-06T18:55:44.910Z"
   },
   {
    "duration": 13,
    "start_time": "2022-04-06T18:55:45.018Z"
   },
   {
    "duration": 71,
    "start_time": "2022-04-06T18:55:45.033Z"
   },
   {
    "duration": 49,
    "start_time": "2022-04-06T18:55:45.106Z"
   },
   {
    "duration": 27,
    "start_time": "2022-04-06T18:55:45.158Z"
   },
   {
    "duration": 27,
    "start_time": "2022-04-06T18:55:45.188Z"
   },
   {
    "duration": 20,
    "start_time": "2022-04-06T18:55:45.217Z"
   },
   {
    "duration": 56,
    "start_time": "2022-04-06T18:55:45.240Z"
   },
   {
    "duration": 17,
    "start_time": "2022-04-06T18:55:45.298Z"
   },
   {
    "duration": 43,
    "start_time": "2022-04-06T18:55:45.317Z"
   },
   {
    "duration": 21,
    "start_time": "2022-04-06T18:55:45.384Z"
   },
   {
    "duration": 4,
    "start_time": "2022-04-06T18:55:45.407Z"
   },
   {
    "duration": 10,
    "start_time": "2022-04-06T18:55:45.413Z"
   },
   {
    "duration": 7,
    "start_time": "2022-04-06T18:55:45.425Z"
   },
   {
    "duration": 7,
    "start_time": "2022-04-06T18:55:45.435Z"
   },
   {
    "duration": 47,
    "start_time": "2022-04-06T18:55:45.445Z"
   },
   {
    "duration": 17,
    "start_time": "2022-04-06T18:55:45.494Z"
   },
   {
    "duration": 9,
    "start_time": "2022-04-06T18:55:45.513Z"
   },
   {
    "duration": 11,
    "start_time": "2022-04-06T18:55:45.524Z"
   },
   {
    "duration": 11,
    "start_time": "2022-04-06T18:55:45.537Z"
   },
   {
    "duration": 6,
    "start_time": "2022-04-06T18:55:45.550Z"
   },
   {
    "duration": 6,
    "start_time": "2022-04-06T18:55:45.559Z"
   },
   {
    "duration": 21,
    "start_time": "2022-04-06T18:55:45.567Z"
   },
   {
    "duration": 21,
    "start_time": "2022-04-06T18:56:38.162Z"
   },
   {
    "duration": 132,
    "start_time": "2022-04-06T19:16:52.243Z"
   },
   {
    "duration": 157,
    "start_time": "2022-04-06T19:16:57.306Z"
   },
   {
    "duration": 135,
    "start_time": "2022-04-06T19:22:22.011Z"
   },
   {
    "duration": 131,
    "start_time": "2022-04-06T19:23:33.204Z"
   },
   {
    "duration": 94,
    "start_time": "2022-04-06T19:24:00.991Z"
   },
   {
    "duration": 4,
    "start_time": "2022-04-06T19:24:25.879Z"
   },
   {
    "duration": 244,
    "start_time": "2022-04-06T19:24:25.886Z"
   },
   {
    "duration": 16,
    "start_time": "2022-04-06T19:24:26.132Z"
   },
   {
    "duration": 60,
    "start_time": "2022-04-06T19:24:26.151Z"
   },
   {
    "duration": 4,
    "start_time": "2022-04-06T19:24:26.213Z"
   },
   {
    "duration": 15,
    "start_time": "2022-04-06T19:24:26.219Z"
   },
   {
    "duration": 4,
    "start_time": "2022-04-06T19:24:26.236Z"
   },
   {
    "duration": 68,
    "start_time": "2022-04-06T19:24:26.242Z"
   },
   {
    "duration": 24,
    "start_time": "2022-04-06T19:24:26.314Z"
   },
   {
    "duration": 56,
    "start_time": "2022-04-06T19:24:26.340Z"
   },
   {
    "duration": 112,
    "start_time": "2022-04-06T19:24:26.398Z"
   },
   {
    "duration": 127,
    "start_time": "2022-04-06T19:24:26.512Z"
   },
   {
    "duration": 103,
    "start_time": "2022-04-06T19:24:26.641Z"
   },
   {
    "duration": 10,
    "start_time": "2022-04-06T19:24:26.747Z"
   },
   {
    "duration": 24,
    "start_time": "2022-04-06T19:24:26.760Z"
   },
   {
    "duration": 25,
    "start_time": "2022-04-06T19:24:26.786Z"
   },
   {
    "duration": 25,
    "start_time": "2022-04-06T19:24:26.813Z"
   },
   {
    "duration": 88,
    "start_time": "2022-04-06T19:24:26.840Z"
   },
   {
    "duration": 10,
    "start_time": "2022-04-06T19:24:26.930Z"
   },
   {
    "duration": 65,
    "start_time": "2022-04-06T19:24:26.943Z"
   },
   {
    "duration": 46,
    "start_time": "2022-04-06T19:24:27.010Z"
   },
   {
    "duration": 5,
    "start_time": "2022-04-06T19:24:27.058Z"
   },
   {
    "duration": 43,
    "start_time": "2022-04-06T19:24:27.065Z"
   },
   {
    "duration": 22,
    "start_time": "2022-04-06T19:24:27.113Z"
   },
   {
    "duration": 26,
    "start_time": "2022-04-06T19:24:27.137Z"
   },
   {
    "duration": 36,
    "start_time": "2022-04-06T19:24:27.165Z"
   },
   {
    "duration": 23,
    "start_time": "2022-04-06T19:24:27.203Z"
   },
   {
    "duration": 19,
    "start_time": "2022-04-06T19:24:27.228Z"
   },
   {
    "duration": 136,
    "start_time": "2022-04-06T19:24:27.250Z"
   },
   {
    "duration": 3,
    "start_time": "2022-04-06T19:24:27.388Z"
   },
   {
    "duration": 12,
    "start_time": "2022-04-06T19:24:27.393Z"
   },
   {
    "duration": 13,
    "start_time": "2022-04-06T19:24:27.407Z"
   },
   {
    "duration": 17,
    "start_time": "2022-04-06T19:24:27.422Z"
   },
   {
    "duration": 8,
    "start_time": "2022-04-06T19:24:27.441Z"
   },
   {
    "duration": 15,
    "start_time": "2022-04-06T19:24:27.451Z"
   },
   {
    "duration": 10,
    "start_time": "2022-04-06T19:24:27.468Z"
   },
   {
    "duration": 7,
    "start_time": "2022-04-06T19:24:27.481Z"
   },
   {
    "duration": 11,
    "start_time": "2022-04-06T19:24:27.490Z"
   },
   {
    "duration": 17,
    "start_time": "2022-04-06T19:24:27.503Z"
   },
   {
    "duration": 12,
    "start_time": "2022-04-06T19:24:27.522Z"
   },
   {
    "duration": 93,
    "start_time": "2022-04-06T19:24:58.595Z"
   },
   {
    "duration": 100,
    "start_time": "2022-04-06T19:25:23.805Z"
   },
   {
    "duration": 96,
    "start_time": "2022-04-06T19:41:58.272Z"
   },
   {
    "duration": 10,
    "start_time": "2022-04-06T19:44:25.108Z"
   },
   {
    "duration": 95,
    "start_time": "2022-04-06T19:45:39.513Z"
   },
   {
    "duration": 32,
    "start_time": "2022-04-06T19:51:05.022Z"
   },
   {
    "duration": 17,
    "start_time": "2022-04-06T19:51:17.133Z"
   },
   {
    "duration": 27,
    "start_time": "2022-04-06T19:51:34.095Z"
   },
   {
    "duration": 124,
    "start_time": "2022-04-06T19:53:55.360Z"
   },
   {
    "duration": 182,
    "start_time": "2022-04-06T19:54:06.502Z"
   },
   {
    "duration": 131,
    "start_time": "2022-04-06T19:54:15.517Z"
   },
   {
    "duration": 11,
    "start_time": "2022-04-06T19:56:29.664Z"
   },
   {
    "duration": 25,
    "start_time": "2022-04-06T19:56:50.051Z"
   },
   {
    "duration": 29,
    "start_time": "2022-04-06T19:57:11.183Z"
   },
   {
    "duration": 90,
    "start_time": "2022-04-06T19:58:36.756Z"
   },
   {
    "duration": 108,
    "start_time": "2022-04-06T19:58:39.061Z"
   },
   {
    "duration": 3,
    "start_time": "2022-04-06T19:58:56.190Z"
   },
   {
    "duration": 226,
    "start_time": "2022-04-06T19:58:56.196Z"
   },
   {
    "duration": 22,
    "start_time": "2022-04-06T19:58:56.425Z"
   },
   {
    "duration": 57,
    "start_time": "2022-04-06T19:58:56.449Z"
   },
   {
    "duration": 5,
    "start_time": "2022-04-06T19:58:56.509Z"
   },
   {
    "duration": 15,
    "start_time": "2022-04-06T19:58:56.516Z"
   },
   {
    "duration": 5,
    "start_time": "2022-04-06T19:58:56.533Z"
   },
   {
    "duration": 69,
    "start_time": "2022-04-06T19:58:56.541Z"
   },
   {
    "duration": 24,
    "start_time": "2022-04-06T19:58:56.613Z"
   },
   {
    "duration": 50,
    "start_time": "2022-04-06T19:58:56.640Z"
   },
   {
    "duration": 118,
    "start_time": "2022-04-06T19:58:56.692Z"
   },
   {
    "duration": 129,
    "start_time": "2022-04-06T19:58:56.813Z"
   },
   {
    "duration": 108,
    "start_time": "2022-04-06T19:58:56.945Z"
   },
   {
    "duration": 27,
    "start_time": "2022-04-06T19:58:57.058Z"
   },
   {
    "duration": 4,
    "start_time": "2022-04-06T19:58:57.088Z"
   },
   {
    "duration": 16,
    "start_time": "2022-04-06T19:58:57.094Z"
   },
   {
    "duration": 12,
    "start_time": "2022-04-06T19:58:57.112Z"
   },
   {
    "duration": 110,
    "start_time": "2022-04-06T19:58:57.126Z"
   },
   {
    "duration": 11,
    "start_time": "2022-04-06T19:58:57.239Z"
   },
   {
    "duration": 62,
    "start_time": "2022-04-06T19:58:57.252Z"
   },
   {
    "duration": 46,
    "start_time": "2022-04-06T19:58:57.316Z"
   },
   {
    "duration": 22,
    "start_time": "2022-04-06T19:58:57.365Z"
   },
   {
    "duration": 25,
    "start_time": "2022-04-06T19:58:57.389Z"
   },
   {
    "duration": 19,
    "start_time": "2022-04-06T19:58:57.416Z"
   },
   {
    "duration": 49,
    "start_time": "2022-04-06T19:58:57.437Z"
   },
   {
    "duration": 19,
    "start_time": "2022-04-06T19:58:57.488Z"
   },
   {
    "duration": 21,
    "start_time": "2022-04-06T19:58:57.509Z"
   },
   {
    "duration": 19,
    "start_time": "2022-04-06T19:58:57.533Z"
   },
   {
    "duration": 99,
    "start_time": "2022-04-06T19:58:57.585Z"
   },
   {
    "duration": 4,
    "start_time": "2022-04-06T19:58:57.686Z"
   },
   {
    "duration": 7,
    "start_time": "2022-04-06T19:58:57.692Z"
   },
   {
    "duration": 10,
    "start_time": "2022-04-06T19:58:57.701Z"
   },
   {
    "duration": 7,
    "start_time": "2022-04-06T19:58:57.713Z"
   },
   {
    "duration": 10,
    "start_time": "2022-04-06T19:58:57.722Z"
   },
   {
    "duration": 6,
    "start_time": "2022-04-06T19:58:57.734Z"
   },
   {
    "duration": 5,
    "start_time": "2022-04-06T19:58:57.742Z"
   },
   {
    "duration": 35,
    "start_time": "2022-04-06T19:58:57.750Z"
   },
   {
    "duration": 15,
    "start_time": "2022-04-06T19:58:57.788Z"
   },
   {
    "duration": 11,
    "start_time": "2022-04-06T19:58:57.806Z"
   },
   {
    "duration": 91,
    "start_time": "2022-04-06T19:59:14.791Z"
   },
   {
    "duration": 94,
    "start_time": "2022-04-06T19:59:27.075Z"
   },
   {
    "duration": 10,
    "start_time": "2022-04-06T20:02:58.487Z"
   },
   {
    "duration": 98,
    "start_time": "2022-04-06T20:03:07.831Z"
   },
   {
    "duration": 4,
    "start_time": "2022-04-06T20:03:14.032Z"
   },
   {
    "duration": 215,
    "start_time": "2022-04-06T20:03:14.039Z"
   },
   {
    "duration": 16,
    "start_time": "2022-04-06T20:03:14.257Z"
   },
   {
    "duration": 43,
    "start_time": "2022-04-06T20:03:14.285Z"
   },
   {
    "duration": 5,
    "start_time": "2022-04-06T20:03:14.330Z"
   },
   {
    "duration": 13,
    "start_time": "2022-04-06T20:03:14.337Z"
   },
   {
    "duration": 35,
    "start_time": "2022-04-06T20:03:14.352Z"
   },
   {
    "duration": 46,
    "start_time": "2022-04-06T20:03:14.389Z"
   },
   {
    "duration": 55,
    "start_time": "2022-04-06T20:03:14.438Z"
   },
   {
    "duration": 39,
    "start_time": "2022-04-06T20:03:14.498Z"
   },
   {
    "duration": 140,
    "start_time": "2022-04-06T20:03:14.539Z"
   },
   {
    "duration": 134,
    "start_time": "2022-04-06T20:03:14.684Z"
   },
   {
    "duration": 118,
    "start_time": "2022-04-06T20:03:14.820Z"
   },
   {
    "duration": 11,
    "start_time": "2022-04-06T20:03:14.940Z"
   },
   {
    "duration": 8,
    "start_time": "2022-04-06T20:03:14.953Z"
   },
   {
    "duration": 29,
    "start_time": "2022-04-06T20:03:14.963Z"
   },
   {
    "duration": 12,
    "start_time": "2022-04-06T20:03:14.994Z"
   },
   {
    "duration": 108,
    "start_time": "2022-04-06T20:03:15.008Z"
   },
   {
    "duration": 11,
    "start_time": "2022-04-06T20:03:15.118Z"
   },
   {
    "duration": 70,
    "start_time": "2022-04-06T20:03:15.132Z"
   },
   {
    "duration": 50,
    "start_time": "2022-04-06T20:03:15.205Z"
   },
   {
    "duration": 5,
    "start_time": "2022-04-06T20:03:15.257Z"
   },
   {
    "duration": 23,
    "start_time": "2022-04-06T20:03:15.284Z"
   },
   {
    "duration": 20,
    "start_time": "2022-04-06T20:03:15.309Z"
   },
   {
    "duration": 21,
    "start_time": "2022-04-06T20:03:15.331Z"
   },
   {
    "duration": 19,
    "start_time": "2022-04-06T20:03:15.385Z"
   },
   {
    "duration": 22,
    "start_time": "2022-04-06T20:03:15.407Z"
   },
   {
    "duration": 20,
    "start_time": "2022-04-06T20:03:15.434Z"
   },
   {
    "duration": 110,
    "start_time": "2022-04-06T20:03:15.485Z"
   },
   {
    "duration": 9,
    "start_time": "2022-04-06T20:03:15.597Z"
   },
   {
    "duration": 5,
    "start_time": "2022-04-06T20:03:15.608Z"
   },
   {
    "duration": 7,
    "start_time": "2022-04-06T20:03:15.615Z"
   },
   {
    "duration": 17,
    "start_time": "2022-04-06T20:03:15.623Z"
   },
   {
    "duration": 7,
    "start_time": "2022-04-06T20:03:15.642Z"
   },
   {
    "duration": 7,
    "start_time": "2022-04-06T20:03:15.651Z"
   },
   {
    "duration": 3,
    "start_time": "2022-04-06T20:03:15.685Z"
   },
   {
    "duration": 5,
    "start_time": "2022-04-06T20:03:15.691Z"
   },
   {
    "duration": 5,
    "start_time": "2022-04-06T20:03:15.699Z"
   },
   {
    "duration": 6,
    "start_time": "2022-04-06T20:03:15.706Z"
   },
   {
    "duration": 10,
    "start_time": "2022-04-06T20:03:15.715Z"
   },
   {
    "duration": 12,
    "start_time": "2022-04-06T20:03:34.730Z"
   },
   {
    "duration": 11,
    "start_time": "2022-04-06T20:04:15.588Z"
   },
   {
    "duration": 12,
    "start_time": "2022-04-06T20:04:42.577Z"
   },
   {
    "duration": 12,
    "start_time": "2022-04-06T20:21:07.774Z"
   },
   {
    "duration": 32,
    "start_time": "2022-04-06T20:21:17.749Z"
   },
   {
    "duration": 108,
    "start_time": "2022-04-06T20:21:32.701Z"
   },
   {
    "duration": 2160,
    "start_time": "2022-04-06T20:21:35.870Z"
   },
   {
    "duration": 2591,
    "start_time": "2022-04-06T20:21:40.160Z"
   },
   {
    "duration": 3,
    "start_time": "2022-04-06T20:22:04.818Z"
   },
   {
    "duration": 242,
    "start_time": "2022-04-06T20:22:04.824Z"
   },
   {
    "duration": 18,
    "start_time": "2022-04-06T20:22:05.068Z"
   },
   {
    "duration": 88,
    "start_time": "2022-04-06T20:22:05.088Z"
   },
   {
    "duration": 19,
    "start_time": "2022-04-06T20:22:05.179Z"
   },
   {
    "duration": 56,
    "start_time": "2022-04-06T20:22:05.201Z"
   },
   {
    "duration": 14,
    "start_time": "2022-04-06T20:22:05.260Z"
   },
   {
    "duration": 63,
    "start_time": "2022-04-06T20:22:05.276Z"
   },
   {
    "duration": 37,
    "start_time": "2022-04-06T20:22:05.341Z"
   },
   {
    "duration": 79,
    "start_time": "2022-04-06T20:22:05.381Z"
   },
   {
    "duration": 163,
    "start_time": "2022-04-06T20:22:05.462Z"
   },
   {
    "duration": 139,
    "start_time": "2022-04-06T20:22:05.627Z"
   },
   {
    "duration": 122,
    "start_time": "2022-04-06T20:22:05.770Z"
   },
   {
    "duration": 11,
    "start_time": "2022-04-06T20:22:05.894Z"
   },
   {
    "duration": 39,
    "start_time": "2022-04-06T20:22:05.907Z"
   },
   {
    "duration": 39,
    "start_time": "2022-04-06T20:22:05.949Z"
   },
   {
    "duration": 50,
    "start_time": "2022-04-06T20:22:05.991Z"
   },
   {
    "duration": 94,
    "start_time": "2022-04-06T20:22:06.044Z"
   },
   {
    "duration": 11,
    "start_time": "2022-04-06T20:22:06.141Z"
   },
   {
    "duration": 75,
    "start_time": "2022-04-06T20:22:06.155Z"
   },
   {
    "duration": 63,
    "start_time": "2022-04-06T20:22:06.233Z"
   },
   {
    "duration": 6,
    "start_time": "2022-04-06T20:22:06.298Z"
   },
   {
    "duration": 54,
    "start_time": "2022-04-06T20:22:06.306Z"
   },
   {
    "duration": 36,
    "start_time": "2022-04-06T20:22:06.362Z"
   },
   {
    "duration": 32,
    "start_time": "2022-04-06T20:22:06.400Z"
   },
   {
    "duration": 36,
    "start_time": "2022-04-06T20:22:06.434Z"
   },
   {
    "duration": 30,
    "start_time": "2022-04-06T20:22:06.473Z"
   },
   {
    "duration": 19,
    "start_time": "2022-04-06T20:22:06.505Z"
   },
   {
    "duration": 111,
    "start_time": "2022-04-06T20:22:06.527Z"
   },
   {
    "duration": 18,
    "start_time": "2022-04-06T20:22:06.640Z"
   },
   {
    "duration": 28,
    "start_time": "2022-04-06T20:22:06.660Z"
   },
   {
    "duration": 123,
    "start_time": "2022-04-06T20:22:06.691Z"
   },
   {
    "duration": 0,
    "start_time": "2022-04-06T20:22:06.816Z"
   },
   {
    "duration": 0,
    "start_time": "2022-04-06T20:22:06.819Z"
   },
   {
    "duration": 0,
    "start_time": "2022-04-06T20:22:06.821Z"
   },
   {
    "duration": 0,
    "start_time": "2022-04-06T20:22:06.822Z"
   },
   {
    "duration": 0,
    "start_time": "2022-04-06T20:22:06.824Z"
   },
   {
    "duration": 0,
    "start_time": "2022-04-06T20:22:06.825Z"
   },
   {
    "duration": 0,
    "start_time": "2022-04-06T20:22:06.827Z"
   },
   {
    "duration": 0,
    "start_time": "2022-04-06T20:22:06.828Z"
   },
   {
    "duration": 72,
    "start_time": "2022-04-06T20:27:02.422Z"
   },
   {
    "duration": 8,
    "start_time": "2022-04-06T20:27:07.470Z"
   },
   {
    "duration": 9,
    "start_time": "2022-04-06T20:27:40.670Z"
   },
   {
    "duration": 8,
    "start_time": "2022-04-06T20:27:43.106Z"
   },
   {
    "duration": 615,
    "start_time": "2022-04-06T20:27:50.444Z"
   },
   {
    "duration": 207,
    "start_time": "2022-04-06T20:27:51.063Z"
   },
   {
    "duration": 28,
    "start_time": "2022-04-06T20:27:51.273Z"
   },
   {
    "duration": 41,
    "start_time": "2022-04-06T20:27:51.303Z"
   },
   {
    "duration": 4,
    "start_time": "2022-04-06T20:27:51.370Z"
   },
   {
    "duration": 23,
    "start_time": "2022-04-06T20:27:51.377Z"
   },
   {
    "duration": 6,
    "start_time": "2022-04-06T20:27:51.404Z"
   },
   {
    "duration": 58,
    "start_time": "2022-04-06T20:27:51.469Z"
   },
   {
    "duration": 69,
    "start_time": "2022-04-06T20:27:51.530Z"
   },
   {
    "duration": 66,
    "start_time": "2022-04-06T20:27:51.602Z"
   },
   {
    "duration": 243,
    "start_time": "2022-04-06T20:27:51.670Z"
   },
   {
    "duration": 142,
    "start_time": "2022-04-06T20:27:51.916Z"
   },
   {
    "duration": 86,
    "start_time": "2022-04-06T20:27:52.061Z"
   },
   {
    "duration": 11,
    "start_time": "2022-04-06T20:27:52.170Z"
   },
   {
    "duration": 6,
    "start_time": "2022-04-06T20:27:52.184Z"
   },
   {
    "duration": 15,
    "start_time": "2022-04-06T20:27:52.192Z"
   },
   {
    "duration": 10,
    "start_time": "2022-04-06T20:27:52.209Z"
   },
   {
    "duration": 114,
    "start_time": "2022-04-06T20:27:52.221Z"
   },
   {
    "duration": 11,
    "start_time": "2022-04-06T20:27:52.338Z"
   },
   {
    "duration": 49,
    "start_time": "2022-04-06T20:27:52.368Z"
   },
   {
    "duration": 71,
    "start_time": "2022-04-06T20:27:52.420Z"
   },
   {
    "duration": 5,
    "start_time": "2022-04-06T20:27:52.494Z"
   },
   {
    "duration": 25,
    "start_time": "2022-04-06T20:27:52.502Z"
   },
   {
    "duration": 44,
    "start_time": "2022-04-06T20:27:52.530Z"
   },
   {
    "duration": 23,
    "start_time": "2022-04-06T20:27:52.577Z"
   },
   {
    "duration": 22,
    "start_time": "2022-04-06T20:27:52.602Z"
   },
   {
    "duration": 61,
    "start_time": "2022-04-06T20:27:52.627Z"
   },
   {
    "duration": 21,
    "start_time": "2022-04-06T20:27:52.691Z"
   },
   {
    "duration": 122,
    "start_time": "2022-04-06T20:27:52.715Z"
   },
   {
    "duration": 13,
    "start_time": "2022-04-06T20:27:52.839Z"
   },
   {
    "duration": 21,
    "start_time": "2022-04-06T20:27:52.855Z"
   },
   {
    "duration": 118,
    "start_time": "2022-04-06T20:27:52.879Z"
   },
   {
    "duration": 0,
    "start_time": "2022-04-06T20:27:52.999Z"
   },
   {
    "duration": 0,
    "start_time": "2022-04-06T20:27:53.001Z"
   },
   {
    "duration": 0,
    "start_time": "2022-04-06T20:27:53.003Z"
   },
   {
    "duration": 0,
    "start_time": "2022-04-06T20:27:53.004Z"
   },
   {
    "duration": 0,
    "start_time": "2022-04-06T20:27:53.005Z"
   },
   {
    "duration": 0,
    "start_time": "2022-04-06T20:27:53.007Z"
   },
   {
    "duration": 0,
    "start_time": "2022-04-06T20:27:53.009Z"
   },
   {
    "duration": 1,
    "start_time": "2022-04-06T20:27:53.010Z"
   },
   {
    "duration": 7,
    "start_time": "2022-04-06T20:44:50.126Z"
   },
   {
    "duration": 10,
    "start_time": "2022-04-07T08:32:35.642Z"
   },
   {
    "duration": 454,
    "start_time": "2022-04-07T08:32:43.319Z"
   },
   {
    "duration": 141,
    "start_time": "2022-04-07T08:32:43.775Z"
   },
   {
    "duration": 16,
    "start_time": "2022-04-07T08:32:43.918Z"
   },
   {
    "duration": 33,
    "start_time": "2022-04-07T08:32:43.936Z"
   },
   {
    "duration": 3,
    "start_time": "2022-04-07T08:32:43.970Z"
   },
   {
    "duration": 15,
    "start_time": "2022-04-07T08:32:43.975Z"
   },
   {
    "duration": 6,
    "start_time": "2022-04-07T08:32:43.991Z"
   },
   {
    "duration": 27,
    "start_time": "2022-04-07T08:32:43.998Z"
   },
   {
    "duration": 37,
    "start_time": "2022-04-07T08:32:44.026Z"
   },
   {
    "duration": 23,
    "start_time": "2022-04-07T08:32:44.066Z"
   },
   {
    "duration": 76,
    "start_time": "2022-04-07T08:32:44.091Z"
   },
   {
    "duration": 68,
    "start_time": "2022-04-07T08:32:44.169Z"
   },
   {
    "duration": 68,
    "start_time": "2022-04-07T08:32:44.239Z"
   },
   {
    "duration": 6,
    "start_time": "2022-04-07T08:32:44.309Z"
   },
   {
    "duration": 9,
    "start_time": "2022-04-07T08:32:44.316Z"
   },
   {
    "duration": 23,
    "start_time": "2022-04-07T08:32:44.326Z"
   },
   {
    "duration": 7,
    "start_time": "2022-04-07T08:32:44.350Z"
   },
   {
    "duration": 47,
    "start_time": "2022-04-07T08:32:44.362Z"
   },
   {
    "duration": 6,
    "start_time": "2022-04-07T08:32:44.411Z"
   },
   {
    "duration": 45,
    "start_time": "2022-04-07T08:32:44.419Z"
   },
   {
    "duration": 29,
    "start_time": "2022-04-07T08:32:44.466Z"
   },
   {
    "duration": 3,
    "start_time": "2022-04-07T08:32:44.496Z"
   },
   {
    "duration": 20,
    "start_time": "2022-04-07T08:32:44.501Z"
   },
   {
    "duration": 13,
    "start_time": "2022-04-07T08:32:44.522Z"
   },
   {
    "duration": 32,
    "start_time": "2022-04-07T08:32:44.537Z"
   },
   {
    "duration": 13,
    "start_time": "2022-04-07T08:32:44.571Z"
   },
   {
    "duration": 15,
    "start_time": "2022-04-07T08:32:44.585Z"
   },
   {
    "duration": 13,
    "start_time": "2022-04-07T08:32:44.604Z"
   },
   {
    "duration": 97,
    "start_time": "2022-04-07T08:32:44.619Z"
   },
   {
    "duration": 8,
    "start_time": "2022-04-07T08:32:44.718Z"
   },
   {
    "duration": 9,
    "start_time": "2022-04-07T08:32:44.727Z"
   },
   {
    "duration": 4,
    "start_time": "2022-04-07T08:32:44.738Z"
   },
   {
    "duration": 2,
    "start_time": "2022-04-07T08:32:44.763Z"
   },
   {
    "duration": 7,
    "start_time": "2022-04-07T08:32:44.767Z"
   },
   {
    "duration": 4,
    "start_time": "2022-04-07T08:32:44.776Z"
   },
   {
    "duration": 5,
    "start_time": "2022-04-07T08:32:44.781Z"
   },
   {
    "duration": 6,
    "start_time": "2022-04-07T08:32:44.787Z"
   },
   {
    "duration": 5,
    "start_time": "2022-04-07T08:32:44.794Z"
   },
   {
    "duration": 7,
    "start_time": "2022-04-07T08:32:44.800Z"
   },
   {
    "duration": 5,
    "start_time": "2022-04-07T08:32:44.808Z"
   },
   {
    "duration": 4,
    "start_time": "2022-04-07T08:33:34.040Z"
   },
   {
    "duration": 1786,
    "start_time": "2022-04-07T08:35:44.339Z"
   },
   {
    "duration": 4,
    "start_time": "2022-04-07T08:38:29.504Z"
   },
   {
    "duration": 2,
    "start_time": "2022-04-07T08:40:17.556Z"
   },
   {
    "duration": 150,
    "start_time": "2022-04-07T08:40:17.560Z"
   },
   {
    "duration": 10,
    "start_time": "2022-04-07T08:40:17.711Z"
   },
   {
    "duration": 41,
    "start_time": "2022-04-07T08:40:17.722Z"
   },
   {
    "duration": 4,
    "start_time": "2022-04-07T08:40:17.765Z"
   },
   {
    "duration": 14,
    "start_time": "2022-04-07T08:40:17.770Z"
   },
   {
    "duration": 3,
    "start_time": "2022-04-07T08:40:17.785Z"
   },
   {
    "duration": 24,
    "start_time": "2022-04-07T08:40:17.790Z"
   },
   {
    "duration": 17,
    "start_time": "2022-04-07T08:40:17.816Z"
   },
   {
    "duration": 45,
    "start_time": "2022-04-07T08:40:17.834Z"
   },
   {
    "duration": 58,
    "start_time": "2022-04-07T08:40:17.881Z"
   },
   {
    "duration": 76,
    "start_time": "2022-04-07T08:40:17.941Z"
   },
   {
    "duration": 65,
    "start_time": "2022-04-07T08:40:18.020Z"
   },
   {
    "duration": 6,
    "start_time": "2022-04-07T08:40:18.087Z"
   },
   {
    "duration": 4,
    "start_time": "2022-04-07T08:40:18.095Z"
   },
   {
    "duration": 10,
    "start_time": "2022-04-07T08:40:18.100Z"
   },
   {
    "duration": 6,
    "start_time": "2022-04-07T08:40:18.112Z"
   },
   {
    "duration": 67,
    "start_time": "2022-04-07T08:40:18.120Z"
   },
   {
    "duration": 7,
    "start_time": "2022-04-07T08:40:18.188Z"
   },
   {
    "duration": 32,
    "start_time": "2022-04-07T08:40:18.196Z"
   },
   {
    "duration": 47,
    "start_time": "2022-04-07T08:40:18.230Z"
   },
   {
    "duration": 3,
    "start_time": "2022-04-07T08:40:18.279Z"
   },
   {
    "duration": 21,
    "start_time": "2022-04-07T08:40:18.284Z"
   },
   {
    "duration": 14,
    "start_time": "2022-04-07T08:40:18.306Z"
   },
   {
    "duration": 14,
    "start_time": "2022-04-07T08:40:18.322Z"
   },
   {
    "duration": 14,
    "start_time": "2022-04-07T08:40:18.363Z"
   },
   {
    "duration": 17,
    "start_time": "2022-04-07T08:40:18.378Z"
   },
   {
    "duration": 14,
    "start_time": "2022-04-07T08:40:18.397Z"
   },
   {
    "duration": 88,
    "start_time": "2022-04-07T08:40:18.412Z"
   },
   {
    "duration": 19,
    "start_time": "2022-04-07T08:40:18.502Z"
   },
   {
    "duration": 17,
    "start_time": "2022-04-07T08:40:18.523Z"
   },
   {
    "duration": 26,
    "start_time": "2022-04-07T08:40:18.542Z"
   },
   {
    "duration": 4,
    "start_time": "2022-04-07T08:40:18.570Z"
   },
   {
    "duration": 30,
    "start_time": "2022-04-07T08:40:18.575Z"
   },
   {
    "duration": 2,
    "start_time": "2022-04-07T08:40:18.607Z"
   },
   {
    "duration": 4,
    "start_time": "2022-04-07T08:40:18.611Z"
   },
   {
    "duration": 5,
    "start_time": "2022-04-07T08:40:18.618Z"
   },
   {
    "duration": 10,
    "start_time": "2022-04-07T08:40:18.624Z"
   },
   {
    "duration": 6,
    "start_time": "2022-04-07T08:40:18.636Z"
   },
   {
    "duration": 5,
    "start_time": "2022-04-07T08:40:18.643Z"
   },
   {
    "duration": 8,
    "start_time": "2022-04-07T08:40:18.663Z"
   },
   {
    "duration": 2,
    "start_time": "2022-04-07T08:43:26.831Z"
   },
   {
    "duration": 166,
    "start_time": "2022-04-07T08:43:26.836Z"
   },
   {
    "duration": 11,
    "start_time": "2022-04-07T08:43:27.004Z"
   },
   {
    "duration": 45,
    "start_time": "2022-04-07T08:43:27.018Z"
   },
   {
    "duration": 10,
    "start_time": "2022-04-07T08:43:27.065Z"
   },
   {
    "duration": 25,
    "start_time": "2022-04-07T08:43:27.076Z"
   },
   {
    "duration": 7,
    "start_time": "2022-04-07T08:43:27.103Z"
   },
   {
    "duration": 44,
    "start_time": "2022-04-07T08:43:27.111Z"
   },
   {
    "duration": 31,
    "start_time": "2022-04-07T08:43:27.157Z"
   },
   {
    "duration": 28,
    "start_time": "2022-04-07T08:43:27.191Z"
   },
   {
    "duration": 74,
    "start_time": "2022-04-07T08:43:27.221Z"
   },
   {
    "duration": 73,
    "start_time": "2022-04-07T08:43:27.297Z"
   },
   {
    "duration": 52,
    "start_time": "2022-04-07T08:43:27.371Z"
   },
   {
    "duration": 7,
    "start_time": "2022-04-07T08:43:27.424Z"
   },
   {
    "duration": 12,
    "start_time": "2022-04-07T08:43:27.432Z"
   },
   {
    "duration": 22,
    "start_time": "2022-04-07T08:43:27.446Z"
   },
   {
    "duration": 11,
    "start_time": "2022-04-07T08:43:27.469Z"
   },
   {
    "duration": 51,
    "start_time": "2022-04-07T08:43:27.481Z"
   },
   {
    "duration": 6,
    "start_time": "2022-04-07T08:43:27.534Z"
   },
   {
    "duration": 41,
    "start_time": "2022-04-07T08:43:27.542Z"
   },
   {
    "duration": 28,
    "start_time": "2022-04-07T08:43:27.585Z"
   },
   {
    "duration": 3,
    "start_time": "2022-04-07T08:43:27.614Z"
   },
   {
    "duration": 36,
    "start_time": "2022-04-07T08:43:27.619Z"
   },
   {
    "duration": 25,
    "start_time": "2022-04-07T08:43:27.657Z"
   },
   {
    "duration": 24,
    "start_time": "2022-04-07T08:43:27.684Z"
   },
   {
    "duration": 25,
    "start_time": "2022-04-07T08:43:27.709Z"
   },
   {
    "duration": 15,
    "start_time": "2022-04-07T08:43:27.736Z"
   },
   {
    "duration": 14,
    "start_time": "2022-04-07T08:43:27.754Z"
   },
   {
    "duration": 65,
    "start_time": "2022-04-07T08:43:27.770Z"
   },
   {
    "duration": 41,
    "start_time": "2022-04-07T08:43:27.837Z"
   },
   {
    "duration": 21,
    "start_time": "2022-04-07T08:43:27.880Z"
   },
   {
    "duration": 6,
    "start_time": "2022-04-07T08:43:27.903Z"
   },
   {
    "duration": 5,
    "start_time": "2022-04-07T08:43:27.911Z"
   },
   {
    "duration": 27,
    "start_time": "2022-04-07T08:43:27.917Z"
   },
   {
    "duration": 23,
    "start_time": "2022-04-07T08:43:27.946Z"
   },
   {
    "duration": 16,
    "start_time": "2022-04-07T08:43:27.970Z"
   },
   {
    "duration": 11,
    "start_time": "2022-04-07T08:43:27.987Z"
   },
   {
    "duration": 2,
    "start_time": "2022-04-07T08:43:28.000Z"
   },
   {
    "duration": 5,
    "start_time": "2022-04-07T08:43:28.003Z"
   },
   {
    "duration": 5,
    "start_time": "2022-04-07T08:43:28.009Z"
   },
   {
    "duration": 10,
    "start_time": "2022-04-07T08:43:28.016Z"
   },
   {
    "duration": 17,
    "start_time": "2022-04-07T08:43:48.498Z"
   },
   {
    "duration": 15,
    "start_time": "2022-04-07T08:43:52.565Z"
   },
   {
    "duration": 6,
    "start_time": "2022-04-07T08:53:01.760Z"
   },
   {
    "duration": 23,
    "start_time": "2022-04-07T08:53:40.136Z"
   },
   {
    "duration": 5,
    "start_time": "2022-04-07T08:54:16.308Z"
   },
   {
    "duration": 8,
    "start_time": "2022-04-07T08:55:05.196Z"
   },
   {
    "duration": 3,
    "start_time": "2022-04-07T08:55:07.188Z"
   },
   {
    "duration": 3,
    "start_time": "2022-04-07T08:55:22.361Z"
   },
   {
    "duration": 7,
    "start_time": "2022-04-07T08:56:18.311Z"
   },
   {
    "duration": 23,
    "start_time": "2022-04-07T08:57:24.570Z"
   },
   {
    "duration": 5,
    "start_time": "2022-04-07T08:57:26.335Z"
   },
   {
    "duration": 26,
    "start_time": "2022-04-07T09:00:22.114Z"
   },
   {
    "duration": 5,
    "start_time": "2022-04-07T09:00:25.209Z"
   },
   {
    "duration": 10,
    "start_time": "2022-04-07T09:01:32.589Z"
   },
   {
    "duration": 4,
    "start_time": "2022-04-07T09:01:34.150Z"
   },
   {
    "duration": 7,
    "start_time": "2022-04-07T09:02:56.522Z"
   },
   {
    "duration": 3,
    "start_time": "2022-04-07T09:03:19.041Z"
   },
   {
    "duration": 160,
    "start_time": "2022-04-07T09:03:19.046Z"
   },
   {
    "duration": 10,
    "start_time": "2022-04-07T09:03:19.208Z"
   },
   {
    "duration": 43,
    "start_time": "2022-04-07T09:03:19.220Z"
   },
   {
    "duration": 3,
    "start_time": "2022-04-07T09:03:19.265Z"
   },
   {
    "duration": 12,
    "start_time": "2022-04-07T09:03:19.270Z"
   },
   {
    "duration": 12,
    "start_time": "2022-04-07T09:03:19.283Z"
   },
   {
    "duration": 32,
    "start_time": "2022-04-07T09:03:19.297Z"
   },
   {
    "duration": 18,
    "start_time": "2022-04-07T09:03:19.331Z"
   },
   {
    "duration": 27,
    "start_time": "2022-04-07T09:03:19.351Z"
   },
   {
    "duration": 56,
    "start_time": "2022-04-07T09:03:19.380Z"
   },
   {
    "duration": 80,
    "start_time": "2022-04-07T09:03:19.438Z"
   },
   {
    "duration": 62,
    "start_time": "2022-04-07T09:03:19.521Z"
   },
   {
    "duration": 6,
    "start_time": "2022-04-07T09:03:19.585Z"
   },
   {
    "duration": 4,
    "start_time": "2022-04-07T09:03:19.593Z"
   },
   {
    "duration": 11,
    "start_time": "2022-04-07T09:03:19.598Z"
   },
   {
    "duration": 6,
    "start_time": "2022-04-07T09:03:19.611Z"
   },
   {
    "duration": 74,
    "start_time": "2022-04-07T09:03:19.619Z"
   },
   {
    "duration": 8,
    "start_time": "2022-04-07T09:03:19.694Z"
   },
   {
    "duration": 41,
    "start_time": "2022-04-07T09:03:19.703Z"
   },
   {
    "duration": 48,
    "start_time": "2022-04-07T09:03:19.746Z"
   },
   {
    "duration": 4,
    "start_time": "2022-04-07T09:03:19.795Z"
   },
   {
    "duration": 21,
    "start_time": "2022-04-07T09:03:19.801Z"
   },
   {
    "duration": 14,
    "start_time": "2022-04-07T09:03:19.824Z"
   },
   {
    "duration": 36,
    "start_time": "2022-04-07T09:03:19.839Z"
   },
   {
    "duration": 13,
    "start_time": "2022-04-07T09:03:19.877Z"
   },
   {
    "duration": 15,
    "start_time": "2022-04-07T09:03:19.891Z"
   },
   {
    "duration": 13,
    "start_time": "2022-04-07T09:03:19.908Z"
   },
   {
    "duration": 90,
    "start_time": "2022-04-07T09:03:19.922Z"
   },
   {
    "duration": 25,
    "start_time": "2022-04-07T09:03:20.013Z"
   },
   {
    "duration": 38,
    "start_time": "2022-04-07T09:03:20.039Z"
   },
   {
    "duration": 4,
    "start_time": "2022-04-07T09:03:20.078Z"
   },
   {
    "duration": 20,
    "start_time": "2022-04-07T09:03:20.083Z"
   },
   {
    "duration": 21,
    "start_time": "2022-04-07T09:03:20.105Z"
   },
   {
    "duration": 29,
    "start_time": "2022-04-07T09:03:20.127Z"
   },
   {
    "duration": 10,
    "start_time": "2022-04-07T09:03:20.158Z"
   },
   {
    "duration": 9,
    "start_time": "2022-04-07T09:03:20.172Z"
   },
   {
    "duration": 4,
    "start_time": "2022-04-07T09:03:20.182Z"
   },
   {
    "duration": 9,
    "start_time": "2022-04-07T09:03:20.187Z"
   },
   {
    "duration": 3,
    "start_time": "2022-04-07T09:03:20.198Z"
   },
   {
    "duration": 562,
    "start_time": "2022-04-17T15:27:49.705Z"
   },
   {
    "duration": 233,
    "start_time": "2022-04-17T15:27:50.270Z"
   },
   {
    "duration": 32,
    "start_time": "2022-04-17T15:27:50.505Z"
   },
   {
    "duration": 42,
    "start_time": "2022-04-17T15:27:50.541Z"
   },
   {
    "duration": 6,
    "start_time": "2022-04-17T15:27:50.585Z"
   },
   {
    "duration": 50,
    "start_time": "2022-04-17T15:27:50.593Z"
   },
   {
    "duration": 12,
    "start_time": "2022-04-17T15:27:50.646Z"
   },
   {
    "duration": 40,
    "start_time": "2022-04-17T15:27:50.662Z"
   },
   {
    "duration": 42,
    "start_time": "2022-04-17T15:27:50.705Z"
   },
   {
    "duration": 35,
    "start_time": "2022-04-17T15:27:50.750Z"
   },
   {
    "duration": 127,
    "start_time": "2022-04-17T15:27:50.787Z"
   },
   {
    "duration": 122,
    "start_time": "2022-04-17T15:27:50.924Z"
   },
   {
    "duration": 101,
    "start_time": "2022-04-17T15:27:51.048Z"
   },
   {
    "duration": 11,
    "start_time": "2022-04-17T15:27:51.151Z"
   },
   {
    "duration": 3,
    "start_time": "2022-04-17T15:27:51.165Z"
   },
   {
    "duration": 16,
    "start_time": "2022-04-17T15:27:51.170Z"
   },
   {
    "duration": 40,
    "start_time": "2022-04-17T15:27:51.188Z"
   },
   {
    "duration": 100,
    "start_time": "2022-04-17T15:27:51.230Z"
   },
   {
    "duration": 14,
    "start_time": "2022-04-17T15:27:51.333Z"
   },
   {
    "duration": 95,
    "start_time": "2022-04-17T15:27:51.350Z"
   },
   {
    "duration": 94,
    "start_time": "2022-04-17T15:27:51.447Z"
   },
   {
    "duration": 4,
    "start_time": "2022-04-17T15:27:51.544Z"
   },
   {
    "duration": 77,
    "start_time": "2022-04-17T15:27:51.550Z"
   },
   {
    "duration": 19,
    "start_time": "2022-04-17T15:27:51.629Z"
   },
   {
    "duration": 75,
    "start_time": "2022-04-17T15:27:51.650Z"
   },
   {
    "duration": 18,
    "start_time": "2022-04-17T15:27:51.728Z"
   },
   {
    "duration": 78,
    "start_time": "2022-04-17T15:27:51.748Z"
   },
   {
    "duration": 21,
    "start_time": "2022-04-17T15:27:51.830Z"
   },
   {
    "duration": 203,
    "start_time": "2022-04-17T15:27:51.853Z"
   },
   {
    "duration": 83,
    "start_time": "2022-04-17T15:27:52.058Z"
   },
   {
    "duration": 81,
    "start_time": "2022-04-17T15:27:52.144Z"
   },
   {
    "duration": 6,
    "start_time": "2022-04-17T15:27:52.227Z"
   },
   {
    "duration": 28,
    "start_time": "2022-04-17T15:27:52.235Z"
   },
   {
    "duration": 66,
    "start_time": "2022-04-17T15:27:52.265Z"
   },
   {
    "duration": 23,
    "start_time": "2022-04-17T15:27:52.333Z"
   },
   {
    "duration": 67,
    "start_time": "2022-04-17T15:27:52.358Z"
   },
   {
    "duration": 13,
    "start_time": "2022-04-17T15:27:52.428Z"
   },
   {
    "duration": 4,
    "start_time": "2022-04-17T15:27:52.444Z"
   },
   {
    "duration": 11,
    "start_time": "2022-04-17T15:27:52.450Z"
   },
   {
    "duration": 61,
    "start_time": "2022-04-17T15:27:52.464Z"
   },
   {
    "duration": 6,
    "start_time": "2022-04-17T15:33:07.718Z"
   },
   {
    "duration": 97,
    "start_time": "2022-04-17T15:33:42.409Z"
   },
   {
    "duration": 487,
    "start_time": "2022-04-17T15:36:29.763Z"
   },
   {
    "duration": 209,
    "start_time": "2022-04-17T15:36:30.253Z"
   },
   {
    "duration": 27,
    "start_time": "2022-04-17T15:36:30.464Z"
   },
   {
    "duration": 57,
    "start_time": "2022-04-17T15:36:30.494Z"
   },
   {
    "duration": 5,
    "start_time": "2022-04-17T15:36:30.553Z"
   },
   {
    "duration": 29,
    "start_time": "2022-04-17T15:36:30.560Z"
   },
   {
    "duration": 21,
    "start_time": "2022-04-17T15:36:30.592Z"
   },
   {
    "duration": 42,
    "start_time": "2022-04-17T15:36:30.615Z"
   },
   {
    "duration": 29,
    "start_time": "2022-04-17T15:36:30.659Z"
   },
   {
    "duration": 45,
    "start_time": "2022-04-17T15:36:30.692Z"
   },
   {
    "duration": 122,
    "start_time": "2022-04-17T15:36:30.740Z"
   },
   {
    "duration": 139,
    "start_time": "2022-04-17T15:36:30.865Z"
   },
   {
    "duration": 104,
    "start_time": "2022-04-17T15:36:31.006Z"
   },
   {
    "duration": 15,
    "start_time": "2022-04-17T15:36:31.112Z"
   },
   {
    "duration": 15,
    "start_time": "2022-04-17T15:36:31.129Z"
   },
   {
    "duration": 28,
    "start_time": "2022-04-17T15:36:31.146Z"
   },
   {
    "duration": 25,
    "start_time": "2022-04-17T15:36:31.177Z"
   },
   {
    "duration": 90,
    "start_time": "2022-04-17T15:36:31.205Z"
   },
   {
    "duration": 10,
    "start_time": "2022-04-17T15:36:31.298Z"
   },
   {
    "duration": 65,
    "start_time": "2022-04-17T15:36:31.310Z"
   },
   {
    "duration": 60,
    "start_time": "2022-04-17T15:36:31.377Z"
   },
   {
    "duration": 6,
    "start_time": "2022-04-17T15:36:31.439Z"
   },
   {
    "duration": 37,
    "start_time": "2022-04-17T15:36:31.447Z"
   },
   {
    "duration": 19,
    "start_time": "2022-04-17T15:36:31.487Z"
   },
   {
    "duration": 22,
    "start_time": "2022-04-17T15:36:31.525Z"
   },
   {
    "duration": 33,
    "start_time": "2022-04-17T15:36:31.549Z"
   },
   {
    "duration": 40,
    "start_time": "2022-04-17T15:36:31.584Z"
   },
   {
    "duration": 19,
    "start_time": "2022-04-17T15:36:31.630Z"
   },
   {
    "duration": 115,
    "start_time": "2022-04-17T15:36:31.652Z"
   },
   {
    "duration": 31,
    "start_time": "2022-04-17T15:36:31.769Z"
   },
   {
    "duration": 48,
    "start_time": "2022-04-17T15:36:31.802Z"
   },
   {
    "duration": 6,
    "start_time": "2022-04-17T15:36:31.852Z"
   },
   {
    "duration": 34,
    "start_time": "2022-04-17T15:36:31.860Z"
   },
   {
    "duration": 32,
    "start_time": "2022-04-17T15:36:31.896Z"
   },
   {
    "duration": 26,
    "start_time": "2022-04-17T15:36:31.930Z"
   },
   {
    "duration": 17,
    "start_time": "2022-04-17T15:36:31.958Z"
   },
   {
    "duration": 18,
    "start_time": "2022-04-17T15:36:31.977Z"
   },
   {
    "duration": 5,
    "start_time": "2022-04-17T15:36:32.026Z"
   },
   {
    "duration": 13,
    "start_time": "2022-04-17T15:36:32.033Z"
   },
   {
    "duration": 5,
    "start_time": "2022-04-17T15:36:32.049Z"
   },
   {
    "duration": 180,
    "start_time": "2022-04-19T11:21:34.460Z"
   },
   {
    "duration": 65,
    "start_time": "2022-04-19T11:22:17.225Z"
   },
   {
    "duration": 504,
    "start_time": "2022-04-19T11:22:31.641Z"
   },
   {
    "duration": 216,
    "start_time": "2022-04-19T11:22:32.148Z"
   },
   {
    "duration": 30,
    "start_time": "2022-04-19T11:22:32.366Z"
   },
   {
    "duration": 41,
    "start_time": "2022-04-19T11:22:32.399Z"
   },
   {
    "duration": 7,
    "start_time": "2022-04-19T11:22:32.443Z"
   },
   {
    "duration": 51,
    "start_time": "2022-04-19T11:22:32.452Z"
   },
   {
    "duration": 9,
    "start_time": "2022-04-19T11:22:32.506Z"
   },
   {
    "duration": 43,
    "start_time": "2022-04-19T11:22:32.517Z"
   },
   {
    "duration": 45,
    "start_time": "2022-04-19T11:22:32.562Z"
   },
   {
    "duration": 33,
    "start_time": "2022-04-19T11:22:32.611Z"
   },
   {
    "duration": 114,
    "start_time": "2022-04-19T11:22:32.646Z"
   },
   {
    "duration": 123,
    "start_time": "2022-04-19T11:22:32.762Z"
   },
   {
    "duration": 88,
    "start_time": "2022-04-19T11:22:32.888Z"
   },
   {
    "duration": 22,
    "start_time": "2022-04-19T11:22:32.978Z"
   },
   {
    "duration": 4,
    "start_time": "2022-04-19T11:22:33.003Z"
   },
   {
    "duration": 18,
    "start_time": "2022-04-19T11:22:33.010Z"
   },
   {
    "duration": 10,
    "start_time": "2022-04-19T11:22:33.031Z"
   },
   {
    "duration": 113,
    "start_time": "2022-04-19T11:22:33.044Z"
   },
   {
    "duration": 11,
    "start_time": "2022-04-19T11:22:33.159Z"
   },
   {
    "duration": 62,
    "start_time": "2022-04-19T11:22:33.173Z"
   },
   {
    "duration": 65,
    "start_time": "2022-04-19T11:22:33.237Z"
   },
   {
    "duration": 5,
    "start_time": "2022-04-19T11:22:33.304Z"
   },
   {
    "duration": 27,
    "start_time": "2022-04-19T11:22:33.311Z"
   },
   {
    "duration": 19,
    "start_time": "2022-04-19T11:22:33.341Z"
   },
   {
    "duration": 47,
    "start_time": "2022-04-19T11:22:33.362Z"
   },
   {
    "duration": 18,
    "start_time": "2022-04-19T11:22:33.411Z"
   },
   {
    "duration": 22,
    "start_time": "2022-04-19T11:22:33.431Z"
   },
   {
    "duration": 51,
    "start_time": "2022-04-19T11:22:33.458Z"
   },
   {
    "duration": 111,
    "start_time": "2022-04-19T11:22:33.511Z"
   },
   {
    "duration": 30,
    "start_time": "2022-04-19T11:22:33.624Z"
   },
   {
    "duration": 52,
    "start_time": "2022-04-19T11:22:33.656Z"
   },
   {
    "duration": 6,
    "start_time": "2022-04-19T11:22:33.710Z"
   },
   {
    "duration": 33,
    "start_time": "2022-04-19T11:22:33.718Z"
   },
   {
    "duration": 16,
    "start_time": "2022-04-19T11:22:33.754Z"
   },
   {
    "duration": 40,
    "start_time": "2022-04-19T11:22:33.773Z"
   },
   {
    "duration": 18,
    "start_time": "2022-04-19T11:22:33.815Z"
   },
   {
    "duration": 14,
    "start_time": "2022-04-19T11:22:33.835Z"
   },
   {
    "duration": 46,
    "start_time": "2022-04-19T11:22:33.851Z"
   },
   {
    "duration": 16,
    "start_time": "2022-04-19T11:22:33.900Z"
   },
   {
    "duration": 8,
    "start_time": "2022-04-19T11:22:33.919Z"
   },
   {
    "duration": 182,
    "start_time": "2022-04-19T11:23:21.680Z"
   },
   {
    "duration": 53,
    "start_time": "2022-04-19T11:24:17.371Z"
   },
   {
    "duration": 4,
    "start_time": "2022-04-19T11:24:20.418Z"
   },
   {
    "duration": 204,
    "start_time": "2022-04-19T11:24:20.424Z"
   },
   {
    "duration": 16,
    "start_time": "2022-04-19T11:24:20.630Z"
   },
   {
    "duration": 61,
    "start_time": "2022-04-19T11:24:20.649Z"
   },
   {
    "duration": 7,
    "start_time": "2022-04-19T11:24:20.712Z"
   },
   {
    "duration": 22,
    "start_time": "2022-04-19T11:24:20.721Z"
   },
   {
    "duration": 6,
    "start_time": "2022-04-19T11:24:20.745Z"
   },
   {
    "duration": 57,
    "start_time": "2022-04-19T11:24:20.753Z"
   },
   {
    "duration": 28,
    "start_time": "2022-04-19T11:24:20.814Z"
   },
   {
    "duration": 50,
    "start_time": "2022-04-19T11:24:20.844Z"
   },
   {
    "duration": 108,
    "start_time": "2022-04-19T11:24:20.896Z"
   },
   {
    "duration": 120,
    "start_time": "2022-04-19T11:24:21.006Z"
   },
   {
    "duration": 90,
    "start_time": "2022-04-19T11:24:21.128Z"
   },
   {
    "duration": 51,
    "start_time": "2022-04-19T11:24:21.220Z"
   },
   {
    "duration": 21,
    "start_time": "2022-04-19T11:24:21.273Z"
   },
   {
    "duration": 18,
    "start_time": "2022-04-19T11:24:21.296Z"
   },
   {
    "duration": 11,
    "start_time": "2022-04-19T11:24:21.316Z"
   },
   {
    "duration": 103,
    "start_time": "2022-04-19T11:24:21.329Z"
   },
   {
    "duration": 10,
    "start_time": "2022-04-19T11:24:21.434Z"
   },
   {
    "duration": 60,
    "start_time": "2022-04-19T11:24:21.446Z"
   },
   {
    "duration": 46,
    "start_time": "2022-04-19T11:24:21.509Z"
   },
   {
    "duration": 5,
    "start_time": "2022-04-19T11:24:21.557Z"
   },
   {
    "duration": 42,
    "start_time": "2022-04-19T11:24:21.564Z"
   },
   {
    "duration": 19,
    "start_time": "2022-04-19T11:24:21.611Z"
   },
   {
    "duration": 24,
    "start_time": "2022-04-19T11:24:21.633Z"
   },
   {
    "duration": 48,
    "start_time": "2022-04-19T11:24:21.659Z"
   },
   {
    "duration": 33,
    "start_time": "2022-04-19T11:24:21.710Z"
   },
   {
    "duration": 20,
    "start_time": "2022-04-19T11:24:21.745Z"
   },
   {
    "duration": 109,
    "start_time": "2022-04-19T11:24:21.767Z"
   },
   {
    "duration": 42,
    "start_time": "2022-04-19T11:24:21.879Z"
   },
   {
    "duration": 31,
    "start_time": "2022-04-19T11:24:21.923Z"
   },
   {
    "duration": 5,
    "start_time": "2022-04-19T11:24:21.956Z"
   },
   {
    "duration": 24,
    "start_time": "2022-04-19T11:24:21.993Z"
   },
   {
    "duration": 18,
    "start_time": "2022-04-19T11:24:22.020Z"
   },
   {
    "duration": 61,
    "start_time": "2022-04-19T11:24:22.040Z"
   },
   {
    "duration": 17,
    "start_time": "2022-04-19T11:24:22.103Z"
   },
   {
    "duration": 14,
    "start_time": "2022-04-19T11:24:22.123Z"
   },
   {
    "duration": 5,
    "start_time": "2022-04-19T11:24:22.139Z"
   },
   {
    "duration": 46,
    "start_time": "2022-04-19T11:24:22.147Z"
   },
   {
    "duration": 6,
    "start_time": "2022-04-19T11:24:22.195Z"
   },
   {
    "duration": 86,
    "start_time": "2022-04-19T11:27:20.955Z"
   },
   {
    "duration": 88,
    "start_time": "2022-04-19T11:27:25.598Z"
   },
   {
    "duration": 55,
    "start_time": "2022-04-19T11:27:29.864Z"
   },
   {
    "duration": 165,
    "start_time": "2022-04-19T11:28:33.155Z"
   },
   {
    "duration": 25,
    "start_time": "2022-04-19T11:30:11.336Z"
   },
   {
    "duration": 16,
    "start_time": "2022-04-19T11:30:46.946Z"
   },
   {
    "duration": 15,
    "start_time": "2022-04-19T11:30:51.164Z"
   },
   {
    "duration": 19,
    "start_time": "2022-04-19T11:30:56.348Z"
   },
   {
    "duration": 27,
    "start_time": "2022-04-19T11:33:31.962Z"
   },
   {
    "duration": 26,
    "start_time": "2022-04-19T11:33:37.804Z"
   },
   {
    "duration": 17,
    "start_time": "2022-04-19T11:34:24.492Z"
   },
   {
    "duration": 15,
    "start_time": "2022-04-19T11:34:56.265Z"
   },
   {
    "duration": 17,
    "start_time": "2022-04-19T11:35:14.371Z"
   },
   {
    "duration": 20,
    "start_time": "2022-04-19T11:35:14.391Z"
   },
   {
    "duration": 4,
    "start_time": "2022-04-19T11:35:59.006Z"
   },
   {
    "duration": 5,
    "start_time": "2022-04-19T11:36:04.538Z"
   },
   {
    "duration": 99,
    "start_time": "2022-04-19T11:41:19.961Z"
   },
   {
    "duration": 103,
    "start_time": "2022-04-19T11:42:02.491Z"
   },
   {
    "duration": 36,
    "start_time": "2022-04-19T11:45:47.810Z"
   },
   {
    "duration": 17,
    "start_time": "2022-04-19T11:45:49.930Z"
   },
   {
    "duration": 3,
    "start_time": "2022-04-19T11:45:53.332Z"
   },
   {
    "duration": 354,
    "start_time": "2022-04-19T11:45:53.339Z"
   },
   {
    "duration": 22,
    "start_time": "2022-04-19T11:45:53.696Z"
   },
   {
    "duration": 50,
    "start_time": "2022-04-19T11:45:53.722Z"
   },
   {
    "duration": 27,
    "start_time": "2022-04-19T11:45:53.774Z"
   },
   {
    "duration": 21,
    "start_time": "2022-04-19T11:45:53.805Z"
   },
   {
    "duration": 6,
    "start_time": "2022-04-19T11:45:53.829Z"
   },
   {
    "duration": 80,
    "start_time": "2022-04-19T11:45:53.839Z"
   },
   {
    "duration": 28,
    "start_time": "2022-04-19T11:45:53.926Z"
   },
   {
    "duration": 54,
    "start_time": "2022-04-19T11:45:53.957Z"
   },
   {
    "duration": 161,
    "start_time": "2022-04-19T11:45:54.014Z"
   },
   {
    "duration": 165,
    "start_time": "2022-04-19T11:45:54.178Z"
   },
   {
    "duration": 149,
    "start_time": "2022-04-19T11:45:54.347Z"
   },
   {
    "duration": 107,
    "start_time": "2022-04-19T11:45:54.501Z"
   },
   {
    "duration": 5,
    "start_time": "2022-04-19T11:45:54.611Z"
   },
   {
    "duration": 22,
    "start_time": "2022-04-19T11:45:54.619Z"
   },
   {
    "duration": 98,
    "start_time": "2022-04-19T11:45:54.645Z"
   },
   {
    "duration": 126,
    "start_time": "2022-04-19T11:45:54.746Z"
   },
   {
    "duration": 26,
    "start_time": "2022-04-19T11:45:54.874Z"
   },
   {
    "duration": 27,
    "start_time": "2022-04-19T11:45:54.904Z"
   },
   {
    "duration": 64,
    "start_time": "2022-04-19T11:45:54.934Z"
   },
   {
    "duration": 15,
    "start_time": "2022-04-19T11:45:55.001Z"
   },
   {
    "duration": 41,
    "start_time": "2022-04-19T11:45:55.019Z"
   },
   {
    "duration": 37,
    "start_time": "2022-04-19T11:45:55.067Z"
   },
   {
    "duration": 39,
    "start_time": "2022-04-19T11:45:55.108Z"
   },
   {
    "duration": 47,
    "start_time": "2022-04-19T11:45:55.150Z"
   },
   {
    "duration": 33,
    "start_time": "2022-04-19T11:45:55.200Z"
   },
   {
    "duration": 21,
    "start_time": "2022-04-19T11:45:55.237Z"
   },
   {
    "duration": 113,
    "start_time": "2022-04-19T11:45:55.293Z"
   },
   {
    "duration": 46,
    "start_time": "2022-04-19T11:45:55.409Z"
   },
   {
    "duration": 54,
    "start_time": "2022-04-19T11:45:55.458Z"
   },
   {
    "duration": 7,
    "start_time": "2022-04-19T11:45:55.515Z"
   },
   {
    "duration": 43,
    "start_time": "2022-04-19T11:45:55.525Z"
   },
   {
    "duration": 33,
    "start_time": "2022-04-19T11:45:55.570Z"
   },
   {
    "duration": 30,
    "start_time": "2022-04-19T11:45:55.606Z"
   },
   {
    "duration": 55,
    "start_time": "2022-04-19T11:45:55.640Z"
   },
   {
    "duration": 18,
    "start_time": "2022-04-19T11:45:55.698Z"
   },
   {
    "duration": 10,
    "start_time": "2022-04-19T11:45:55.718Z"
   },
   {
    "duration": 13,
    "start_time": "2022-04-19T11:45:55.731Z"
   },
   {
    "duration": 5,
    "start_time": "2022-04-19T11:45:55.747Z"
   },
   {
    "duration": 9,
    "start_time": "2022-04-19T11:46:54.104Z"
   },
   {
    "duration": 17,
    "start_time": "2022-04-19T11:47:56.033Z"
   },
   {
    "duration": 23,
    "start_time": "2022-04-19T11:48:01.037Z"
   },
   {
    "duration": 174,
    "start_time": "2022-04-19T11:48:10.078Z"
   },
   {
    "duration": 6,
    "start_time": "2022-04-19T11:48:36.523Z"
   },
   {
    "duration": 8,
    "start_time": "2022-04-19T11:48:39.188Z"
   },
   {
    "duration": 179,
    "start_time": "2022-04-19T11:53:04.839Z"
   },
   {
    "duration": 732,
    "start_time": "2022-04-19T11:53:53.256Z"
   },
   {
    "duration": 222,
    "start_time": "2022-04-19T11:53:53.992Z"
   },
   {
    "duration": 38,
    "start_time": "2022-04-19T11:53:54.216Z"
   },
   {
    "duration": 54,
    "start_time": "2022-04-19T11:53:54.260Z"
   },
   {
    "duration": 7,
    "start_time": "2022-04-19T11:53:54.317Z"
   },
   {
    "duration": 19,
    "start_time": "2022-04-19T11:53:54.327Z"
   },
   {
    "duration": 49,
    "start_time": "2022-04-19T11:53:54.349Z"
   },
   {
    "duration": 51,
    "start_time": "2022-04-19T11:53:54.401Z"
   },
   {
    "duration": 38,
    "start_time": "2022-04-19T11:53:54.455Z"
   },
   {
    "duration": 36,
    "start_time": "2022-04-19T11:53:54.497Z"
   },
   {
    "duration": 124,
    "start_time": "2022-04-19T11:53:54.536Z"
   },
   {
    "duration": 181,
    "start_time": "2022-04-19T11:53:54.662Z"
   },
   {
    "duration": 141,
    "start_time": "2022-04-19T11:53:54.845Z"
   },
   {
    "duration": 108,
    "start_time": "2022-04-19T11:53:54.988Z"
   },
   {
    "duration": 6,
    "start_time": "2022-04-19T11:53:55.099Z"
   },
   {
    "duration": 26,
    "start_time": "2022-04-19T11:53:55.107Z"
   },
   {
    "duration": 112,
    "start_time": "2022-04-19T11:53:55.136Z"
   },
   {
    "duration": 109,
    "start_time": "2022-04-19T11:53:55.251Z"
   },
   {
    "duration": 14,
    "start_time": "2022-04-19T11:53:55.363Z"
   },
   {
    "duration": 40,
    "start_time": "2022-04-19T11:53:55.379Z"
   },
   {
    "duration": 22,
    "start_time": "2022-04-19T11:53:55.422Z"
   },
   {
    "duration": 7,
    "start_time": "2022-04-19T11:53:55.447Z"
   },
   {
    "duration": 62,
    "start_time": "2022-04-19T11:53:55.457Z"
   },
   {
    "duration": 21,
    "start_time": "2022-04-19T11:53:55.522Z"
   },
   {
    "duration": 56,
    "start_time": "2022-04-19T11:53:55.546Z"
   },
   {
    "duration": 29,
    "start_time": "2022-04-19T11:53:55.605Z"
   },
   {
    "duration": 59,
    "start_time": "2022-04-19T11:53:55.636Z"
   },
   {
    "duration": 30,
    "start_time": "2022-04-19T11:53:55.703Z"
   },
   {
    "duration": 125,
    "start_time": "2022-04-19T11:53:55.735Z"
   },
   {
    "duration": 45,
    "start_time": "2022-04-19T11:53:55.863Z"
   },
   {
    "duration": 31,
    "start_time": "2022-04-19T11:53:55.911Z"
   },
   {
    "duration": 8,
    "start_time": "2022-04-19T11:53:55.944Z"
   },
   {
    "duration": 24,
    "start_time": "2022-04-19T11:53:55.992Z"
   },
   {
    "duration": 17,
    "start_time": "2022-04-19T11:53:56.018Z"
   },
   {
    "duration": 26,
    "start_time": "2022-04-19T11:53:56.038Z"
   },
   {
    "duration": 44,
    "start_time": "2022-04-19T11:53:56.066Z"
   },
   {
    "duration": 13,
    "start_time": "2022-04-19T11:53:56.113Z"
   },
   {
    "duration": 8,
    "start_time": "2022-04-19T11:53:56.128Z"
   },
   {
    "duration": 57,
    "start_time": "2022-04-19T11:53:56.139Z"
   },
   {
    "duration": 9,
    "start_time": "2022-04-19T11:53:56.198Z"
   },
   {
    "duration": 236,
    "start_time": "2022-04-19T11:55:02.695Z"
   },
   {
    "duration": 99,
    "start_time": "2022-04-19T12:12:15.867Z"
   },
   {
    "duration": 19,
    "start_time": "2022-04-19T12:12:20.523Z"
   },
   {
    "duration": 17,
    "start_time": "2022-04-19T12:12:42.633Z"
   },
   {
    "duration": 17,
    "start_time": "2022-04-19T12:12:47.797Z"
   },
   {
    "duration": 17,
    "start_time": "2022-04-19T12:16:24.462Z"
   },
   {
    "duration": 19,
    "start_time": "2022-04-19T12:18:29.233Z"
   },
   {
    "duration": 6,
    "start_time": "2022-04-19T12:28:38.477Z"
   },
   {
    "duration": 4,
    "start_time": "2022-04-19T12:29:33.342Z"
   },
   {
    "duration": 275,
    "start_time": "2022-04-19T12:29:33.360Z"
   },
   {
    "duration": 17,
    "start_time": "2022-04-19T12:29:33.638Z"
   },
   {
    "duration": 69,
    "start_time": "2022-04-19T12:29:33.658Z"
   },
   {
    "duration": 8,
    "start_time": "2022-04-19T12:29:33.730Z"
   },
   {
    "duration": 21,
    "start_time": "2022-04-19T12:29:33.740Z"
   },
   {
    "duration": 5,
    "start_time": "2022-04-19T12:29:33.764Z"
   },
   {
    "duration": 59,
    "start_time": "2022-04-19T12:29:33.794Z"
   },
   {
    "duration": 40,
    "start_time": "2022-04-19T12:29:33.857Z"
   },
   {
    "duration": 38,
    "start_time": "2022-04-19T12:29:33.900Z"
   },
   {
    "duration": 171,
    "start_time": "2022-04-19T12:29:33.944Z"
   },
   {
    "duration": 193,
    "start_time": "2022-04-19T12:29:34.118Z"
   },
   {
    "duration": 160,
    "start_time": "2022-04-19T12:29:34.314Z"
   },
   {
    "duration": 102,
    "start_time": "2022-04-19T12:29:34.478Z"
   },
   {
    "duration": 13,
    "start_time": "2022-04-19T12:29:34.583Z"
   },
   {
    "duration": 19,
    "start_time": "2022-04-19T12:29:34.599Z"
   },
   {
    "duration": 78,
    "start_time": "2022-04-19T12:29:34.621Z"
   },
   {
    "duration": 142,
    "start_time": "2022-04-19T12:29:34.703Z"
   },
   {
    "duration": 15,
    "start_time": "2022-04-19T12:29:34.848Z"
   },
   {
    "duration": 37,
    "start_time": "2022-04-19T12:29:34.866Z"
   },
   {
    "duration": 23,
    "start_time": "2022-04-19T12:29:34.906Z"
   },
   {
    "duration": 8,
    "start_time": "2022-04-19T12:29:34.931Z"
   },
   {
    "duration": 51,
    "start_time": "2022-04-19T12:29:34.943Z"
   },
   {
    "duration": 23,
    "start_time": "2022-04-19T12:29:34.997Z"
   },
   {
    "duration": 21,
    "start_time": "2022-04-19T12:29:35.023Z"
   },
   {
    "duration": 54,
    "start_time": "2022-04-19T12:29:35.046Z"
   },
   {
    "duration": 24,
    "start_time": "2022-04-19T12:29:35.102Z"
   },
   {
    "duration": 21,
    "start_time": "2022-04-19T12:29:35.128Z"
   },
   {
    "duration": 115,
    "start_time": "2022-04-19T12:29:35.194Z"
   },
   {
    "duration": 35,
    "start_time": "2022-04-19T12:29:35.311Z"
   },
   {
    "duration": 68,
    "start_time": "2022-04-19T12:29:35.349Z"
   },
   {
    "duration": 6,
    "start_time": "2022-04-19T12:29:35.419Z"
   },
   {
    "duration": 34,
    "start_time": "2022-04-19T12:29:35.427Z"
   },
   {
    "duration": 41,
    "start_time": "2022-04-19T12:29:35.464Z"
   },
   {
    "duration": 39,
    "start_time": "2022-04-19T12:29:35.507Z"
   },
   {
    "duration": 49,
    "start_time": "2022-04-19T12:29:35.548Z"
   },
   {
    "duration": 14,
    "start_time": "2022-04-19T12:29:35.599Z"
   },
   {
    "duration": 9,
    "start_time": "2022-04-19T12:29:35.615Z"
   },
   {
    "duration": 20,
    "start_time": "2022-04-19T12:29:35.627Z"
   },
   {
    "duration": 8,
    "start_time": "2022-04-19T12:29:35.650Z"
   },
   {
    "duration": 747,
    "start_time": "2022-04-19T12:31:55.859Z"
   },
   {
    "duration": 352,
    "start_time": "2022-04-19T12:31:56.610Z"
   },
   {
    "duration": 52,
    "start_time": "2022-04-19T12:31:56.966Z"
   },
   {
    "duration": 49,
    "start_time": "2022-04-19T12:31:57.021Z"
   },
   {
    "duration": 8,
    "start_time": "2022-04-19T12:31:57.092Z"
   },
   {
    "duration": 22,
    "start_time": "2022-04-19T12:31:57.103Z"
   },
   {
    "duration": 13,
    "start_time": "2022-04-19T12:31:57.128Z"
   },
   {
    "duration": 74,
    "start_time": "2022-04-19T12:31:57.143Z"
   },
   {
    "duration": 60,
    "start_time": "2022-04-19T12:31:57.221Z"
   },
   {
    "duration": 64,
    "start_time": "2022-04-19T12:31:57.287Z"
   },
   {
    "duration": 165,
    "start_time": "2022-04-19T12:31:57.355Z"
   },
   {
    "duration": 206,
    "start_time": "2022-04-19T12:31:57.523Z"
   },
   {
    "duration": 127,
    "start_time": "2022-04-19T12:31:57.732Z"
   },
   {
    "duration": 71,
    "start_time": "2022-04-19T12:31:57.862Z"
   },
   {
    "duration": 6,
    "start_time": "2022-04-19T12:31:57.935Z"
   },
   {
    "duration": 21,
    "start_time": "2022-04-19T12:31:57.944Z"
   },
   {
    "duration": 62,
    "start_time": "2022-04-19T12:31:57.992Z"
   },
   {
    "duration": 122,
    "start_time": "2022-04-19T12:31:58.057Z"
   },
   {
    "duration": 18,
    "start_time": "2022-04-19T12:31:58.182Z"
   },
   {
    "duration": 30,
    "start_time": "2022-04-19T12:31:58.203Z"
   },
   {
    "duration": 21,
    "start_time": "2022-04-19T12:31:58.236Z"
   },
   {
    "duration": 34,
    "start_time": "2022-04-19T12:31:58.260Z"
   },
   {
    "duration": 38,
    "start_time": "2022-04-19T12:31:58.297Z"
   },
   {
    "duration": 56,
    "start_time": "2022-04-19T12:31:58.339Z"
   },
   {
    "duration": 28,
    "start_time": "2022-04-19T12:31:58.398Z"
   },
   {
    "duration": 26,
    "start_time": "2022-04-19T12:31:58.429Z"
   },
   {
    "duration": 54,
    "start_time": "2022-04-19T12:31:58.459Z"
   },
   {
    "duration": 24,
    "start_time": "2022-04-19T12:31:58.521Z"
   },
   {
    "duration": 200,
    "start_time": "2022-04-19T12:31:58.548Z"
   },
   {
    "duration": 62,
    "start_time": "2022-04-19T12:31:58.752Z"
   },
   {
    "duration": 51,
    "start_time": "2022-04-19T12:31:58.818Z"
   },
   {
    "duration": 25,
    "start_time": "2022-04-19T12:31:58.873Z"
   },
   {
    "duration": 49,
    "start_time": "2022-04-19T12:31:58.902Z"
   },
   {
    "duration": 46,
    "start_time": "2022-04-19T12:31:58.954Z"
   },
   {
    "duration": 41,
    "start_time": "2022-04-19T12:31:59.004Z"
   },
   {
    "duration": 50,
    "start_time": "2022-04-19T12:31:59.048Z"
   },
   {
    "duration": 21,
    "start_time": "2022-04-19T12:31:59.101Z"
   },
   {
    "duration": 8,
    "start_time": "2022-04-19T12:31:59.126Z"
   },
   {
    "duration": 19,
    "start_time": "2022-04-19T12:31:59.138Z"
   },
   {
    "duration": 33,
    "start_time": "2022-04-19T12:31:59.165Z"
   },
   {
    "duration": 696,
    "start_time": "2022-04-19T12:44:56.089Z"
   },
   {
    "duration": 312,
    "start_time": "2022-04-19T12:44:56.788Z"
   },
   {
    "duration": 36,
    "start_time": "2022-04-19T12:44:57.103Z"
   },
   {
    "duration": 69,
    "start_time": "2022-04-19T12:44:57.144Z"
   },
   {
    "duration": 6,
    "start_time": "2022-04-19T12:44:57.215Z"
   },
   {
    "duration": 26,
    "start_time": "2022-04-19T12:44:57.222Z"
   },
   {
    "duration": 9,
    "start_time": "2022-04-19T12:44:57.250Z"
   },
   {
    "duration": 35,
    "start_time": "2022-04-19T12:44:57.295Z"
   },
   {
    "duration": 61,
    "start_time": "2022-04-19T12:44:57.332Z"
   },
   {
    "duration": 56,
    "start_time": "2022-04-19T12:44:57.399Z"
   },
   {
    "duration": 129,
    "start_time": "2022-04-19T12:44:57.457Z"
   },
   {
    "duration": 180,
    "start_time": "2022-04-19T12:44:57.589Z"
   },
   {
    "duration": 142,
    "start_time": "2022-04-19T12:44:57.772Z"
   },
   {
    "duration": 108,
    "start_time": "2022-04-19T12:44:57.917Z"
   },
   {
    "duration": 6,
    "start_time": "2022-04-19T12:44:58.028Z"
   },
   {
    "duration": 27,
    "start_time": "2022-04-19T12:44:58.037Z"
   },
   {
    "duration": 105,
    "start_time": "2022-04-19T12:44:58.068Z"
   },
   {
    "duration": 95,
    "start_time": "2022-04-19T12:44:58.176Z"
   },
   {
    "duration": 24,
    "start_time": "2022-04-19T12:44:58.274Z"
   },
   {
    "duration": 23,
    "start_time": "2022-04-19T12:44:58.300Z"
   },
   {
    "duration": 20,
    "start_time": "2022-04-19T12:44:58.325Z"
   },
   {
    "duration": 46,
    "start_time": "2022-04-19T12:44:58.348Z"
   },
   {
    "duration": 32,
    "start_time": "2022-04-19T12:44:58.396Z"
   },
   {
    "duration": 19,
    "start_time": "2022-04-19T12:44:58.431Z"
   },
   {
    "duration": 41,
    "start_time": "2022-04-19T12:44:58.453Z"
   },
   {
    "duration": 24,
    "start_time": "2022-04-19T12:44:58.497Z"
   },
   {
    "duration": 26,
    "start_time": "2022-04-19T12:44:58.523Z"
   },
   {
    "duration": 46,
    "start_time": "2022-04-19T12:44:58.554Z"
   },
   {
    "duration": 119,
    "start_time": "2022-04-19T12:44:58.603Z"
   },
   {
    "duration": 30,
    "start_time": "2022-04-19T12:44:58.725Z"
   },
   {
    "duration": 53,
    "start_time": "2022-04-19T12:44:58.758Z"
   },
   {
    "duration": 6,
    "start_time": "2022-04-19T12:44:58.814Z"
   },
   {
    "duration": 41,
    "start_time": "2022-04-19T12:44:58.823Z"
   },
   {
    "duration": 42,
    "start_time": "2022-04-19T12:44:58.866Z"
   },
   {
    "duration": 26,
    "start_time": "2022-04-19T12:44:58.911Z"
   },
   {
    "duration": 17,
    "start_time": "2022-04-19T12:44:58.939Z"
   },
   {
    "duration": 15,
    "start_time": "2022-04-19T12:44:58.994Z"
   },
   {
    "duration": 10,
    "start_time": "2022-04-19T12:44:59.011Z"
   },
   {
    "duration": 15,
    "start_time": "2022-04-19T12:44:59.024Z"
   },
   {
    "duration": 8,
    "start_time": "2022-04-19T12:44:59.041Z"
   },
   {
    "duration": 533,
    "start_time": "2022-04-19T12:46:28.085Z"
   },
   {
    "duration": 218,
    "start_time": "2022-04-19T12:46:28.621Z"
   },
   {
    "duration": 29,
    "start_time": "2022-04-19T12:46:28.841Z"
   },
   {
    "duration": 61,
    "start_time": "2022-04-19T12:46:28.874Z"
   },
   {
    "duration": 8,
    "start_time": "2022-04-19T12:46:28.937Z"
   },
   {
    "duration": 52,
    "start_time": "2022-04-19T12:46:28.947Z"
   },
   {
    "duration": 8,
    "start_time": "2022-04-19T12:46:29.003Z"
   },
   {
    "duration": 41,
    "start_time": "2022-04-19T12:46:29.014Z"
   },
   {
    "duration": 52,
    "start_time": "2022-04-19T12:46:29.057Z"
   },
   {
    "duration": 37,
    "start_time": "2022-04-19T12:46:29.114Z"
   },
   {
    "duration": 123,
    "start_time": "2022-04-19T12:46:29.154Z"
   },
   {
    "duration": 140,
    "start_time": "2022-04-19T12:46:29.280Z"
   },
   {
    "duration": 113,
    "start_time": "2022-04-19T12:46:29.422Z"
   },
   {
    "duration": 73,
    "start_time": "2022-04-19T12:46:29.538Z"
   },
   {
    "duration": 5,
    "start_time": "2022-04-19T12:46:29.614Z"
   },
   {
    "duration": 23,
    "start_time": "2022-04-19T12:46:29.621Z"
   },
   {
    "duration": 119,
    "start_time": "2022-04-19T12:46:29.646Z"
   },
   {
    "duration": 144,
    "start_time": "2022-04-19T12:46:29.768Z"
   },
   {
    "duration": 17,
    "start_time": "2022-04-19T12:46:29.916Z"
   },
   {
    "duration": 32,
    "start_time": "2022-04-19T12:46:29.936Z"
   },
   {
    "duration": 29,
    "start_time": "2022-04-19T12:46:29.992Z"
   },
   {
    "duration": 7,
    "start_time": "2022-04-19T12:46:30.023Z"
   },
   {
    "duration": 47,
    "start_time": "2022-04-19T12:46:30.033Z"
   },
   {
    "duration": 20,
    "start_time": "2022-04-19T12:46:30.094Z"
   },
   {
    "duration": 28,
    "start_time": "2022-04-19T12:46:30.117Z"
   },
   {
    "duration": 49,
    "start_time": "2022-04-19T12:46:30.148Z"
   },
   {
    "duration": 35,
    "start_time": "2022-04-19T12:46:30.200Z"
   },
   {
    "duration": 56,
    "start_time": "2022-04-19T12:46:30.244Z"
   },
   {
    "duration": 168,
    "start_time": "2022-04-19T12:46:30.303Z"
   },
   {
    "duration": 48,
    "start_time": "2022-04-19T12:46:30.474Z"
   },
   {
    "duration": 39,
    "start_time": "2022-04-19T12:46:30.525Z"
   },
   {
    "duration": 8,
    "start_time": "2022-04-19T12:46:30.592Z"
   },
   {
    "duration": 52,
    "start_time": "2022-04-19T12:46:30.603Z"
   },
   {
    "duration": 20,
    "start_time": "2022-04-19T12:46:30.657Z"
   },
   {
    "duration": 28,
    "start_time": "2022-04-19T12:46:30.694Z"
   },
   {
    "duration": 34,
    "start_time": "2022-04-19T12:46:30.725Z"
   },
   {
    "duration": 28,
    "start_time": "2022-04-19T12:46:30.762Z"
   },
   {
    "duration": 10,
    "start_time": "2022-04-19T12:46:30.793Z"
   },
   {
    "duration": 30,
    "start_time": "2022-04-19T12:46:30.806Z"
   },
   {
    "duration": 19,
    "start_time": "2022-04-19T12:46:30.838Z"
   },
   {
    "duration": 212,
    "start_time": "2022-04-19T15:13:33.078Z"
   },
   {
    "duration": 459,
    "start_time": "2022-05-02T08:50:00.634Z"
   },
   {
    "duration": 234,
    "start_time": "2022-05-02T08:50:01.095Z"
   },
   {
    "duration": 28,
    "start_time": "2022-05-02T08:50:01.331Z"
   },
   {
    "duration": 49,
    "start_time": "2022-05-02T08:50:01.362Z"
   },
   {
    "duration": 5,
    "start_time": "2022-05-02T08:50:01.414Z"
   },
   {
    "duration": 41,
    "start_time": "2022-05-02T08:50:01.422Z"
   },
   {
    "duration": 22,
    "start_time": "2022-05-02T08:50:01.465Z"
   },
   {
    "duration": 48,
    "start_time": "2022-05-02T08:50:01.489Z"
   },
   {
    "duration": 33,
    "start_time": "2022-05-02T08:50:01.539Z"
   },
   {
    "duration": 41,
    "start_time": "2022-05-02T08:50:01.574Z"
   },
   {
    "duration": 131,
    "start_time": "2022-05-02T08:50:01.618Z"
   },
   {
    "duration": 134,
    "start_time": "2022-05-02T08:50:01.751Z"
   },
   {
    "duration": 104,
    "start_time": "2022-05-02T08:50:01.887Z"
   },
   {
    "duration": 72,
    "start_time": "2022-05-02T08:50:01.997Z"
   },
   {
    "duration": 3,
    "start_time": "2022-05-02T08:50:02.072Z"
   },
   {
    "duration": 18,
    "start_time": "2022-05-02T08:50:02.077Z"
   },
   {
    "duration": 76,
    "start_time": "2022-05-02T08:50:02.097Z"
   },
   {
    "duration": 104,
    "start_time": "2022-05-02T08:50:02.175Z"
   },
   {
    "duration": 88,
    "start_time": "2022-05-02T08:50:02.281Z"
   },
   {
    "duration": 10,
    "start_time": "2022-05-02T08:50:02.371Z"
   },
   {
    "duration": 20,
    "start_time": "2022-05-02T08:50:02.383Z"
   },
   {
    "duration": 44,
    "start_time": "2022-05-02T08:50:02.405Z"
   },
   {
    "duration": 5,
    "start_time": "2022-05-02T08:50:02.451Z"
   },
   {
    "duration": 31,
    "start_time": "2022-05-02T08:50:02.458Z"
   },
   {
    "duration": 15,
    "start_time": "2022-05-02T08:50:02.491Z"
   },
   {
    "duration": 44,
    "start_time": "2022-05-02T08:50:02.508Z"
   },
   {
    "duration": 14,
    "start_time": "2022-05-02T08:50:02.554Z"
   },
   {
    "duration": 24,
    "start_time": "2022-05-02T08:50:02.569Z"
   },
   {
    "duration": 14,
    "start_time": "2022-05-02T08:50:02.595Z"
   },
   {
    "duration": 97,
    "start_time": "2022-05-02T08:50:02.611Z"
   },
   {
    "duration": 21,
    "start_time": "2022-05-02T08:50:02.709Z"
   },
   {
    "duration": 19,
    "start_time": "2022-05-02T08:50:02.748Z"
   },
   {
    "duration": 4,
    "start_time": "2022-05-02T08:50:02.769Z"
   },
   {
    "duration": 30,
    "start_time": "2022-05-02T08:50:02.775Z"
   },
   {
    "duration": 47,
    "start_time": "2022-05-02T08:50:02.807Z"
   },
   {
    "duration": 29,
    "start_time": "2022-05-02T08:50:02.856Z"
   },
   {
    "duration": 18,
    "start_time": "2022-05-02T08:50:02.888Z"
   },
   {
    "duration": 15,
    "start_time": "2022-05-02T08:50:02.908Z"
   },
   {
    "duration": 28,
    "start_time": "2022-05-02T08:50:02.925Z"
   },
   {
    "duration": 13,
    "start_time": "2022-05-02T08:50:02.955Z"
   },
   {
    "duration": 7,
    "start_time": "2022-05-02T08:50:02.973Z"
   }
  ],
  "colab": {
   "collapsed_sections": [
    "E0vqbgi9ay0H",
    "VUC88oWjTJw2"
   ],
   "name": "yandex_music_project.ipynb",
   "provenance": []
  },
  "kernelspec": {
   "display_name": "Python 3 (ipykernel)",
   "language": "python",
   "name": "python3"
  },
  "language_info": {
   "codemirror_mode": {
    "name": "ipython",
    "version": 3
   },
   "file_extension": ".py",
   "mimetype": "text/x-python",
   "name": "python",
   "nbconvert_exporter": "python",
   "pygments_lexer": "ipython3",
   "version": "3.9.7"
  },
  "toc": {
   "base_numbering": 1,
   "nav_menu": {},
   "number_sections": true,
   "sideBar": true,
   "skip_h1_title": true,
   "title_cell": "Table of Contents",
   "title_sidebar": "Contents",
   "toc_cell": false,
   "toc_position": {
    "height": "calc(100% - 180px)",
    "left": "10px",
    "top": "150px",
    "width": "165px"
   },
   "toc_section_display": true,
   "toc_window_display": false
  }
 },
 "nbformat": 4,
 "nbformat_minor": 1
}
