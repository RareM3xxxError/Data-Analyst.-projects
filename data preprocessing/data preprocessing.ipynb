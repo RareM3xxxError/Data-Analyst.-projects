{
 "cells": [
  {
   "cell_type": "markdown",
   "id": "7eba75f6",
   "metadata": {},
   "source": [
    "\n",
    "Привет, меня зовут Головатский Николай, я буду проверять твой проект.\n",
    "\n",
    "В Практикуме принято общаться на \"ты\", однако если это неудобно - дай знать, и можем перейти на более официальное общение.\n",
    "\n",
    "Ниже ты найдешь мои комментарии - **пожалуйста, не перемещай, не изменяй и не удаляй их,** это может усложнить и затянуть повторную проверку. \n",
    "\n",
    "Я буду использовать цветовую разметку: \n",
    "\n",
    "<div class=\"alert alert-block alert-success\">\n",
    "<b>Комментарий ревьюера✅:</b> Если все сделано хорошо.</div>\n",
    "\n",
    "<div class=\"alert alert-block alert-warning\">\n",
    "<b>Комментарий ревьюера⚠️:</b> Некритичное замечание, реккомендация на будущее. Для принятия проекта исправление не обязательно.</div>\n",
    "\n",
    "<div class=\"alert alert-block alert-danger\">\n",
    "<b>Комментарий ревьюера❌:</b> Критичная ошибка, необходимо исправить, иначе проект не будет принят.\n",
    "</div>\n",
    "\n",
    "Давай работать над проектом в диалоге: если ты что-то меняешь в проекте или отвечаешь на мои комменатри — пиши об этом. Мне будет легче отследить изменения, если ты выделишь свои комментарии:\n",
    "Например так:\n",
    "<div class=\"alert alert-block alert-info\">\n",
    "<b>Комментарий студента:</b> \n",
    "Hello World!\n",
    "</div>\n",
    "\n",
    "Если писать особо нечего, просто оставляй комментарий с галочкой \n",
    "\n",
    "<div class=\"alert alert-block alert-info\">\n",
    "<b>Комментарий студента:</b> \n",
    "☑️\n",
    "</div>\n",
    "\n",
    "<div class=\"alert alert-block alert-success\">\n",
    "<b>Общее впечатление:</b> \n",
    "    \n",
    "- Спасибо за работу :)\n",
    "- Определенно могу сказать, что проект очень сильный;\n",
    "- Мне очень понравилось, как ты детально погружаешься в данные и не упускаешь никаких мелочей;\n",
    "- В проекте осталось пара моментов, после правки которых, я смогу принять работу😉\n",
    "    \n",
    "</div>"
   ]
  },
  {
   "cell_type": "markdown",
   "id": "098cd11c",
   "metadata": {},
   "source": [
    "<div class=\"alert alert-block alert-info\">\n",
    "Привет, хорошо, сейчас доработаю 👌"
   ]
  },
  {
   "cell_type": "markdown",
   "id": "0532e116",
   "metadata": {},
   "source": [
    "# Исследование надёжности заёмщиков\n",
    "\n",
    "**Цель исследования:** установить какие факторы влияют на факт погашения кредита в срок, дать ответы на следующие вопросы:\n",
    "* Есть ли зависимость между количеством детей и возвратом кредита в срок?\n",
    "* Есть ли зависимость между семейным положением и возвратом кредита в срок?\n",
    "* Есть ли зависимость между уровнем дохода и возвратом кредита в срок?\n",
    "* Как разные цели кредита влияют на его возврат в срок?\n",
    "\n",
    "**Ход исследованя**: \n",
    "1. Обзор данных\n",
    "2. Предабработка данных\n",
    "3. Ответ на поставленные вопросы\n",
    "\n",
    "\n"
   ]
  },
  {
   "cell_type": "markdown",
   "id": "21e63982",
   "metadata": {},
   "source": [
    "<div class=\"alert alert-block alert-success\">\n",
    "<b>Комментарий ревьюера✅:</b> Хорошая практика начинать проект с контекста, описания задачи, возможного хода\\плана исследования, а также описания имеющихся данных. Очень надеюсь, что ты будешь уделять этому внимание и в последующих проектах</div>"
   ]
  },
  {
   "cell_type": "markdown",
   "id": "ee71d52a",
   "metadata": {},
   "source": [
    "##  Обзор данных"
   ]
  },
  {
   "cell_type": "markdown",
   "id": "5047112c",
   "metadata": {},
   "source": [
    "Импортируем библиотеку `pandas` и прочитаем файл от заказачика:"
   ]
  },
  {
   "cell_type": "code",
   "execution_count": 1,
   "id": "fe1e94fd",
   "metadata": {},
   "outputs": [],
   "source": [
    "#файл сохраним в переменной 'bank_df'\n",
    "#применим конструкцию try-except для отработки ошибок при открытия файла\n",
    "import pandas as pd\n",
    "try:\n",
    "    bank_df = pd.read_csv('/datasets/data.csv')\n",
    "except:\n",
    "    bank_df =pd.read_csv('data.csv')"
   ]
  },
  {
   "cell_type": "markdown",
   "id": "1e753cf6",
   "metadata": {},
   "source": [
    "Выведем на экран первые 15 строк таблицы  `bank_df`:\n"
   ]
  },
  {
   "cell_type": "code",
   "execution_count": 2,
   "id": "425aebaa",
   "metadata": {},
   "outputs": [
    {
     "data": {
      "text/html": [
       "<div>\n",
       "<style scoped>\n",
       "    .dataframe tbody tr th:only-of-type {\n",
       "        vertical-align: middle;\n",
       "    }\n",
       "\n",
       "    .dataframe tbody tr th {\n",
       "        vertical-align: top;\n",
       "    }\n",
       "\n",
       "    .dataframe thead th {\n",
       "        text-align: right;\n",
       "    }\n",
       "</style>\n",
       "<table border=\"1\" class=\"dataframe\">\n",
       "  <thead>\n",
       "    <tr style=\"text-align: right;\">\n",
       "      <th></th>\n",
       "      <th>children</th>\n",
       "      <th>days_employed</th>\n",
       "      <th>dob_years</th>\n",
       "      <th>education</th>\n",
       "      <th>education_id</th>\n",
       "      <th>family_status</th>\n",
       "      <th>family_status_id</th>\n",
       "      <th>gender</th>\n",
       "      <th>income_type</th>\n",
       "      <th>debt</th>\n",
       "      <th>total_income</th>\n",
       "      <th>purpose</th>\n",
       "    </tr>\n",
       "  </thead>\n",
       "  <tbody>\n",
       "    <tr>\n",
       "      <th>0</th>\n",
       "      <td>1</td>\n",
       "      <td>-8437.673028</td>\n",
       "      <td>42</td>\n",
       "      <td>высшее</td>\n",
       "      <td>0</td>\n",
       "      <td>женат / замужем</td>\n",
       "      <td>0</td>\n",
       "      <td>F</td>\n",
       "      <td>сотрудник</td>\n",
       "      <td>0</td>\n",
       "      <td>253875.639453</td>\n",
       "      <td>покупка жилья</td>\n",
       "    </tr>\n",
       "    <tr>\n",
       "      <th>1</th>\n",
       "      <td>1</td>\n",
       "      <td>-4024.803754</td>\n",
       "      <td>36</td>\n",
       "      <td>среднее</td>\n",
       "      <td>1</td>\n",
       "      <td>женат / замужем</td>\n",
       "      <td>0</td>\n",
       "      <td>F</td>\n",
       "      <td>сотрудник</td>\n",
       "      <td>0</td>\n",
       "      <td>112080.014102</td>\n",
       "      <td>приобретение автомобиля</td>\n",
       "    </tr>\n",
       "    <tr>\n",
       "      <th>2</th>\n",
       "      <td>0</td>\n",
       "      <td>-5623.422610</td>\n",
       "      <td>33</td>\n",
       "      <td>Среднее</td>\n",
       "      <td>1</td>\n",
       "      <td>женат / замужем</td>\n",
       "      <td>0</td>\n",
       "      <td>M</td>\n",
       "      <td>сотрудник</td>\n",
       "      <td>0</td>\n",
       "      <td>145885.952297</td>\n",
       "      <td>покупка жилья</td>\n",
       "    </tr>\n",
       "    <tr>\n",
       "      <th>3</th>\n",
       "      <td>3</td>\n",
       "      <td>-4124.747207</td>\n",
       "      <td>32</td>\n",
       "      <td>среднее</td>\n",
       "      <td>1</td>\n",
       "      <td>женат / замужем</td>\n",
       "      <td>0</td>\n",
       "      <td>M</td>\n",
       "      <td>сотрудник</td>\n",
       "      <td>0</td>\n",
       "      <td>267628.550329</td>\n",
       "      <td>дополнительное образование</td>\n",
       "    </tr>\n",
       "    <tr>\n",
       "      <th>4</th>\n",
       "      <td>0</td>\n",
       "      <td>340266.072047</td>\n",
       "      <td>53</td>\n",
       "      <td>среднее</td>\n",
       "      <td>1</td>\n",
       "      <td>гражданский брак</td>\n",
       "      <td>1</td>\n",
       "      <td>F</td>\n",
       "      <td>пенсионер</td>\n",
       "      <td>0</td>\n",
       "      <td>158616.077870</td>\n",
       "      <td>сыграть свадьбу</td>\n",
       "    </tr>\n",
       "    <tr>\n",
       "      <th>5</th>\n",
       "      <td>0</td>\n",
       "      <td>-926.185831</td>\n",
       "      <td>27</td>\n",
       "      <td>высшее</td>\n",
       "      <td>0</td>\n",
       "      <td>гражданский брак</td>\n",
       "      <td>1</td>\n",
       "      <td>M</td>\n",
       "      <td>компаньон</td>\n",
       "      <td>0</td>\n",
       "      <td>255763.565419</td>\n",
       "      <td>покупка жилья</td>\n",
       "    </tr>\n",
       "    <tr>\n",
       "      <th>6</th>\n",
       "      <td>0</td>\n",
       "      <td>-2879.202052</td>\n",
       "      <td>43</td>\n",
       "      <td>высшее</td>\n",
       "      <td>0</td>\n",
       "      <td>женат / замужем</td>\n",
       "      <td>0</td>\n",
       "      <td>F</td>\n",
       "      <td>компаньон</td>\n",
       "      <td>0</td>\n",
       "      <td>240525.971920</td>\n",
       "      <td>операции с жильем</td>\n",
       "    </tr>\n",
       "    <tr>\n",
       "      <th>7</th>\n",
       "      <td>0</td>\n",
       "      <td>-152.779569</td>\n",
       "      <td>50</td>\n",
       "      <td>СРЕДНЕЕ</td>\n",
       "      <td>1</td>\n",
       "      <td>женат / замужем</td>\n",
       "      <td>0</td>\n",
       "      <td>M</td>\n",
       "      <td>сотрудник</td>\n",
       "      <td>0</td>\n",
       "      <td>135823.934197</td>\n",
       "      <td>образование</td>\n",
       "    </tr>\n",
       "    <tr>\n",
       "      <th>8</th>\n",
       "      <td>2</td>\n",
       "      <td>-6929.865299</td>\n",
       "      <td>35</td>\n",
       "      <td>ВЫСШЕЕ</td>\n",
       "      <td>0</td>\n",
       "      <td>гражданский брак</td>\n",
       "      <td>1</td>\n",
       "      <td>F</td>\n",
       "      <td>сотрудник</td>\n",
       "      <td>0</td>\n",
       "      <td>95856.832424</td>\n",
       "      <td>на проведение свадьбы</td>\n",
       "    </tr>\n",
       "    <tr>\n",
       "      <th>9</th>\n",
       "      <td>0</td>\n",
       "      <td>-2188.756445</td>\n",
       "      <td>41</td>\n",
       "      <td>среднее</td>\n",
       "      <td>1</td>\n",
       "      <td>женат / замужем</td>\n",
       "      <td>0</td>\n",
       "      <td>M</td>\n",
       "      <td>сотрудник</td>\n",
       "      <td>0</td>\n",
       "      <td>144425.938277</td>\n",
       "      <td>покупка жилья для семьи</td>\n",
       "    </tr>\n",
       "    <tr>\n",
       "      <th>10</th>\n",
       "      <td>2</td>\n",
       "      <td>-4171.483647</td>\n",
       "      <td>36</td>\n",
       "      <td>высшее</td>\n",
       "      <td>0</td>\n",
       "      <td>женат / замужем</td>\n",
       "      <td>0</td>\n",
       "      <td>M</td>\n",
       "      <td>компаньон</td>\n",
       "      <td>0</td>\n",
       "      <td>113943.491460</td>\n",
       "      <td>покупка недвижимости</td>\n",
       "    </tr>\n",
       "    <tr>\n",
       "      <th>11</th>\n",
       "      <td>0</td>\n",
       "      <td>-792.701887</td>\n",
       "      <td>40</td>\n",
       "      <td>среднее</td>\n",
       "      <td>1</td>\n",
       "      <td>женат / замужем</td>\n",
       "      <td>0</td>\n",
       "      <td>F</td>\n",
       "      <td>сотрудник</td>\n",
       "      <td>0</td>\n",
       "      <td>77069.234271</td>\n",
       "      <td>покупка коммерческой недвижимости</td>\n",
       "    </tr>\n",
       "    <tr>\n",
       "      <th>12</th>\n",
       "      <td>0</td>\n",
       "      <td>NaN</td>\n",
       "      <td>65</td>\n",
       "      <td>среднее</td>\n",
       "      <td>1</td>\n",
       "      <td>гражданский брак</td>\n",
       "      <td>1</td>\n",
       "      <td>M</td>\n",
       "      <td>пенсионер</td>\n",
       "      <td>0</td>\n",
       "      <td>NaN</td>\n",
       "      <td>сыграть свадьбу</td>\n",
       "    </tr>\n",
       "    <tr>\n",
       "      <th>13</th>\n",
       "      <td>0</td>\n",
       "      <td>-1846.641941</td>\n",
       "      <td>54</td>\n",
       "      <td>неоконченное высшее</td>\n",
       "      <td>2</td>\n",
       "      <td>женат / замужем</td>\n",
       "      <td>0</td>\n",
       "      <td>F</td>\n",
       "      <td>сотрудник</td>\n",
       "      <td>0</td>\n",
       "      <td>130458.228857</td>\n",
       "      <td>приобретение автомобиля</td>\n",
       "    </tr>\n",
       "    <tr>\n",
       "      <th>14</th>\n",
       "      <td>0</td>\n",
       "      <td>-1844.956182</td>\n",
       "      <td>56</td>\n",
       "      <td>высшее</td>\n",
       "      <td>0</td>\n",
       "      <td>гражданский брак</td>\n",
       "      <td>1</td>\n",
       "      <td>F</td>\n",
       "      <td>компаньон</td>\n",
       "      <td>1</td>\n",
       "      <td>165127.911772</td>\n",
       "      <td>покупка жилой недвижимости</td>\n",
       "    </tr>\n",
       "  </tbody>\n",
       "</table>\n",
       "</div>"
      ],
      "text/plain": [
       "    children  days_employed  dob_years            education  education_id  \\\n",
       "0          1   -8437.673028         42               высшее             0   \n",
       "1          1   -4024.803754         36              среднее             1   \n",
       "2          0   -5623.422610         33              Среднее             1   \n",
       "3          3   -4124.747207         32              среднее             1   \n",
       "4          0  340266.072047         53              среднее             1   \n",
       "5          0    -926.185831         27               высшее             0   \n",
       "6          0   -2879.202052         43               высшее             0   \n",
       "7          0    -152.779569         50              СРЕДНЕЕ             1   \n",
       "8          2   -6929.865299         35               ВЫСШЕЕ             0   \n",
       "9          0   -2188.756445         41              среднее             1   \n",
       "10         2   -4171.483647         36               высшее             0   \n",
       "11         0    -792.701887         40              среднее             1   \n",
       "12         0            NaN         65              среднее             1   \n",
       "13         0   -1846.641941         54  неоконченное высшее             2   \n",
       "14         0   -1844.956182         56               высшее             0   \n",
       "\n",
       "       family_status  family_status_id gender income_type  debt  \\\n",
       "0    женат / замужем                 0      F   сотрудник     0   \n",
       "1    женат / замужем                 0      F   сотрудник     0   \n",
       "2    женат / замужем                 0      M   сотрудник     0   \n",
       "3    женат / замужем                 0      M   сотрудник     0   \n",
       "4   гражданский брак                 1      F   пенсионер     0   \n",
       "5   гражданский брак                 1      M   компаньон     0   \n",
       "6    женат / замужем                 0      F   компаньон     0   \n",
       "7    женат / замужем                 0      M   сотрудник     0   \n",
       "8   гражданский брак                 1      F   сотрудник     0   \n",
       "9    женат / замужем                 0      M   сотрудник     0   \n",
       "10   женат / замужем                 0      M   компаньон     0   \n",
       "11   женат / замужем                 0      F   сотрудник     0   \n",
       "12  гражданский брак                 1      M   пенсионер     0   \n",
       "13   женат / замужем                 0      F   сотрудник     0   \n",
       "14  гражданский брак                 1      F   компаньон     1   \n",
       "\n",
       "     total_income                            purpose  \n",
       "0   253875.639453                      покупка жилья  \n",
       "1   112080.014102            приобретение автомобиля  \n",
       "2   145885.952297                      покупка жилья  \n",
       "3   267628.550329         дополнительное образование  \n",
       "4   158616.077870                    сыграть свадьбу  \n",
       "5   255763.565419                      покупка жилья  \n",
       "6   240525.971920                  операции с жильем  \n",
       "7   135823.934197                        образование  \n",
       "8    95856.832424              на проведение свадьбы  \n",
       "9   144425.938277            покупка жилья для семьи  \n",
       "10  113943.491460               покупка недвижимости  \n",
       "11   77069.234271  покупка коммерческой недвижимости  \n",
       "12            NaN                    сыграть свадьбу  \n",
       "13  130458.228857            приобретение автомобиля  \n",
       "14  165127.911772         покупка жилой недвижимости  "
      ]
     },
     "metadata": {},
     "output_type": "display_data"
    }
   ],
   "source": [
    "display(bank_df.head(15))"
   ]
  },
  {
   "cell_type": "markdown",
   "id": "40e43f79",
   "metadata": {},
   "source": [
    "Изучим общую информацию о таблице:"
   ]
  },
  {
   "cell_type": "code",
   "execution_count": 3,
   "id": "1504db02",
   "metadata": {
    "scrolled": true
   },
   "outputs": [
    {
     "name": "stdout",
     "output_type": "stream",
     "text": [
      "<class 'pandas.core.frame.DataFrame'>\n",
      "RangeIndex: 21525 entries, 0 to 21524\n",
      "Data columns (total 12 columns):\n",
      " #   Column            Non-Null Count  Dtype  \n",
      "---  ------            --------------  -----  \n",
      " 0   children          21525 non-null  int64  \n",
      " 1   days_employed     19351 non-null  float64\n",
      " 2   dob_years         21525 non-null  int64  \n",
      " 3   education         21525 non-null  object \n",
      " 4   education_id      21525 non-null  int64  \n",
      " 5   family_status     21525 non-null  object \n",
      " 6   family_status_id  21525 non-null  int64  \n",
      " 7   gender            21525 non-null  object \n",
      " 8   income_type       21525 non-null  object \n",
      " 9   debt              21525 non-null  int64  \n",
      " 10  total_income      19351 non-null  float64\n",
      " 11  purpose           21525 non-null  object \n",
      "dtypes: float64(2), int64(5), object(5)\n",
      "memory usage: 2.0+ MB\n"
     ]
    }
   ],
   "source": [
    "bank_df.info()"
   ]
  },
  {
   "cell_type": "markdown",
   "id": "5f1213e0",
   "metadata": {},
   "source": [
    "Первичный обзор данных показал, то что в таблице 12 стоблцов и более 2000 строк, типы данных: \n",
    "* `int64` \n",
    "* `float64` \n",
    "* `object`\n",
    "\n",
    "Согласно документации:\n",
    "* `children`  — количество детей в семье\n",
    "* `days_employed` — общий трудовой стаж в днях\n",
    "* `dob_years` —  возраст клиента в годах\n",
    "* `education` — возраст клиента в годах \n",
    "* `education_id` — уровень образования клиента\n",
    "* `family_status` — семейное положение\n",
    "* `family_status_id` — идентификатор семейного положения\n",
    "* `gender` — пол клиента\n",
    "* `income_type` — тип занятости\n",
    "* `debt` — имел ли задолженность по возврату кредитов\n",
    "* `total_income` — ежемесячный доход\n",
    "* `purpose` — цель получения кредита\n",
    "\n",
    "В таблце есть недочёты:\n",
    "1. В столбцых `days_employed` и `total_income` есть пропущенные значения `NaN`\n",
    "2. В столбце `days_employed` пристуствует аномалия в виде отрицательных и неправдаподобных значений\n",
    "3. В столбце `education` есть неявные дубликаты, например: `высшее` - `ВЫСШЕЕ` и др.\n",
    "4. В столбцах `total_income` и `days_employed` используется не самый удачный тип данных, с нецелыми числами, `debt` - некорретный тип               "
   ]
  },
  {
   "cell_type": "markdown",
   "id": "07a0b3fa",
   "metadata": {},
   "source": [
    "### Выводы:  <a class=\"tocSkip\">\n",
    "В исходной таблице есть недочёты в виде пропущенных значений, дубликатов и аномалий и т.п., для ответов на поставленные вопросы в цели задачи данным требуется предобработка"
   ]
  },
  {
   "cell_type": "markdown",
   "id": "a7761a42",
   "metadata": {},
   "source": [
    "<div class=\"alert alert-block alert-success\">\n",
    "<b>Комментарий ревьюера✅:</b> Хорошее начало, информация о данных изучена👍</div>"
   ]
  },
  {
   "cell_type": "markdown",
   "id": "51d49da9",
   "metadata": {},
   "source": [
    "## Предобработка данных"
   ]
  },
  {
   "cell_type": "markdown",
   "id": "0d42a34a",
   "metadata": {},
   "source": [
    "###  Обработка проущенных значений\n",
    "Откроем первые 10 строк с пропeщенными значениями в столбце `days_employed`:\n"
   ]
  },
  {
   "cell_type": "code",
   "execution_count": 4,
   "id": "458c45d0",
   "metadata": {},
   "outputs": [
    {
     "data": {
      "text/html": [
       "<div>\n",
       "<style scoped>\n",
       "    .dataframe tbody tr th:only-of-type {\n",
       "        vertical-align: middle;\n",
       "    }\n",
       "\n",
       "    .dataframe tbody tr th {\n",
       "        vertical-align: top;\n",
       "    }\n",
       "\n",
       "    .dataframe thead th {\n",
       "        text-align: right;\n",
       "    }\n",
       "</style>\n",
       "<table border=\"1\" class=\"dataframe\">\n",
       "  <thead>\n",
       "    <tr style=\"text-align: right;\">\n",
       "      <th></th>\n",
       "      <th>children</th>\n",
       "      <th>days_employed</th>\n",
       "      <th>dob_years</th>\n",
       "      <th>education</th>\n",
       "      <th>education_id</th>\n",
       "      <th>family_status</th>\n",
       "      <th>family_status_id</th>\n",
       "      <th>gender</th>\n",
       "      <th>income_type</th>\n",
       "      <th>debt</th>\n",
       "      <th>total_income</th>\n",
       "      <th>purpose</th>\n",
       "    </tr>\n",
       "  </thead>\n",
       "  <tbody>\n",
       "    <tr>\n",
       "      <th>12</th>\n",
       "      <td>0</td>\n",
       "      <td>NaN</td>\n",
       "      <td>65</td>\n",
       "      <td>среднее</td>\n",
       "      <td>1</td>\n",
       "      <td>гражданский брак</td>\n",
       "      <td>1</td>\n",
       "      <td>M</td>\n",
       "      <td>пенсионер</td>\n",
       "      <td>0</td>\n",
       "      <td>NaN</td>\n",
       "      <td>сыграть свадьбу</td>\n",
       "    </tr>\n",
       "    <tr>\n",
       "      <th>26</th>\n",
       "      <td>0</td>\n",
       "      <td>NaN</td>\n",
       "      <td>41</td>\n",
       "      <td>среднее</td>\n",
       "      <td>1</td>\n",
       "      <td>женат / замужем</td>\n",
       "      <td>0</td>\n",
       "      <td>M</td>\n",
       "      <td>госслужащий</td>\n",
       "      <td>0</td>\n",
       "      <td>NaN</td>\n",
       "      <td>образование</td>\n",
       "    </tr>\n",
       "    <tr>\n",
       "      <th>29</th>\n",
       "      <td>0</td>\n",
       "      <td>NaN</td>\n",
       "      <td>63</td>\n",
       "      <td>среднее</td>\n",
       "      <td>1</td>\n",
       "      <td>Не женат / не замужем</td>\n",
       "      <td>4</td>\n",
       "      <td>F</td>\n",
       "      <td>пенсионер</td>\n",
       "      <td>0</td>\n",
       "      <td>NaN</td>\n",
       "      <td>строительство жилой недвижимости</td>\n",
       "    </tr>\n",
       "    <tr>\n",
       "      <th>41</th>\n",
       "      <td>0</td>\n",
       "      <td>NaN</td>\n",
       "      <td>50</td>\n",
       "      <td>среднее</td>\n",
       "      <td>1</td>\n",
       "      <td>женат / замужем</td>\n",
       "      <td>0</td>\n",
       "      <td>F</td>\n",
       "      <td>госслужащий</td>\n",
       "      <td>0</td>\n",
       "      <td>NaN</td>\n",
       "      <td>сделка с подержанным автомобилем</td>\n",
       "    </tr>\n",
       "    <tr>\n",
       "      <th>55</th>\n",
       "      <td>0</td>\n",
       "      <td>NaN</td>\n",
       "      <td>54</td>\n",
       "      <td>среднее</td>\n",
       "      <td>1</td>\n",
       "      <td>гражданский брак</td>\n",
       "      <td>1</td>\n",
       "      <td>F</td>\n",
       "      <td>пенсионер</td>\n",
       "      <td>1</td>\n",
       "      <td>NaN</td>\n",
       "      <td>сыграть свадьбу</td>\n",
       "    </tr>\n",
       "    <tr>\n",
       "      <th>65</th>\n",
       "      <td>0</td>\n",
       "      <td>NaN</td>\n",
       "      <td>21</td>\n",
       "      <td>среднее</td>\n",
       "      <td>1</td>\n",
       "      <td>Не женат / не замужем</td>\n",
       "      <td>4</td>\n",
       "      <td>M</td>\n",
       "      <td>компаньон</td>\n",
       "      <td>0</td>\n",
       "      <td>NaN</td>\n",
       "      <td>операции с коммерческой недвижимостью</td>\n",
       "    </tr>\n",
       "    <tr>\n",
       "      <th>67</th>\n",
       "      <td>0</td>\n",
       "      <td>NaN</td>\n",
       "      <td>52</td>\n",
       "      <td>высшее</td>\n",
       "      <td>0</td>\n",
       "      <td>женат / замужем</td>\n",
       "      <td>0</td>\n",
       "      <td>F</td>\n",
       "      <td>пенсионер</td>\n",
       "      <td>0</td>\n",
       "      <td>NaN</td>\n",
       "      <td>покупка жилья для семьи</td>\n",
       "    </tr>\n",
       "    <tr>\n",
       "      <th>72</th>\n",
       "      <td>1</td>\n",
       "      <td>NaN</td>\n",
       "      <td>32</td>\n",
       "      <td>высшее</td>\n",
       "      <td>0</td>\n",
       "      <td>женат / замужем</td>\n",
       "      <td>0</td>\n",
       "      <td>M</td>\n",
       "      <td>госслужащий</td>\n",
       "      <td>0</td>\n",
       "      <td>NaN</td>\n",
       "      <td>операции с коммерческой недвижимостью</td>\n",
       "    </tr>\n",
       "    <tr>\n",
       "      <th>82</th>\n",
       "      <td>2</td>\n",
       "      <td>NaN</td>\n",
       "      <td>50</td>\n",
       "      <td>высшее</td>\n",
       "      <td>0</td>\n",
       "      <td>женат / замужем</td>\n",
       "      <td>0</td>\n",
       "      <td>F</td>\n",
       "      <td>сотрудник</td>\n",
       "      <td>0</td>\n",
       "      <td>NaN</td>\n",
       "      <td>жилье</td>\n",
       "    </tr>\n",
       "    <tr>\n",
       "      <th>83</th>\n",
       "      <td>0</td>\n",
       "      <td>NaN</td>\n",
       "      <td>52</td>\n",
       "      <td>среднее</td>\n",
       "      <td>1</td>\n",
       "      <td>женат / замужем</td>\n",
       "      <td>0</td>\n",
       "      <td>M</td>\n",
       "      <td>сотрудник</td>\n",
       "      <td>0</td>\n",
       "      <td>NaN</td>\n",
       "      <td>жилье</td>\n",
       "    </tr>\n",
       "  </tbody>\n",
       "</table>\n",
       "</div>"
      ],
      "text/plain": [
       "    children  days_employed  dob_years education  education_id  \\\n",
       "12         0            NaN         65   среднее             1   \n",
       "26         0            NaN         41   среднее             1   \n",
       "29         0            NaN         63   среднее             1   \n",
       "41         0            NaN         50   среднее             1   \n",
       "55         0            NaN         54   среднее             1   \n",
       "65         0            NaN         21   среднее             1   \n",
       "67         0            NaN         52    высшее             0   \n",
       "72         1            NaN         32    высшее             0   \n",
       "82         2            NaN         50    высшее             0   \n",
       "83         0            NaN         52   среднее             1   \n",
       "\n",
       "            family_status  family_status_id gender  income_type  debt  \\\n",
       "12       гражданский брак                 1      M    пенсионер     0   \n",
       "26        женат / замужем                 0      M  госслужащий     0   \n",
       "29  Не женат / не замужем                 4      F    пенсионер     0   \n",
       "41        женат / замужем                 0      F  госслужащий     0   \n",
       "55       гражданский брак                 1      F    пенсионер     1   \n",
       "65  Не женат / не замужем                 4      M    компаньон     0   \n",
       "67        женат / замужем                 0      F    пенсионер     0   \n",
       "72        женат / замужем                 0      M  госслужащий     0   \n",
       "82        женат / замужем                 0      F    сотрудник     0   \n",
       "83        женат / замужем                 0      M    сотрудник     0   \n",
       "\n",
       "    total_income                                purpose  \n",
       "12           NaN                        сыграть свадьбу  \n",
       "26           NaN                            образование  \n",
       "29           NaN       строительство жилой недвижимости  \n",
       "41           NaN       сделка с подержанным автомобилем  \n",
       "55           NaN                        сыграть свадьбу  \n",
       "65           NaN  операции с коммерческой недвижимостью  \n",
       "67           NaN                покупка жилья для семьи  \n",
       "72           NaN  операции с коммерческой недвижимостью  \n",
       "82           NaN                                  жилье  \n",
       "83           NaN                                  жилье  "
      ]
     },
     "execution_count": 4,
     "metadata": {},
     "output_type": "execute_result"
    }
   ],
   "source": [
    "# для выбора строк с пропущенными значениями примерним метода isna()\n",
    "bank_df[bank_df['days_employed'].isna()].head(10)"
   ]
  },
  {
   "cell_type": "markdown",
   "id": "be0d9828",
   "metadata": {},
   "source": [
    "Посчитаем колличесвто пропущенных значений в столбце `days_employed`: "
   ]
  },
  {
   "cell_type": "code",
   "execution_count": 5,
   "id": "58c18d06",
   "metadata": {},
   "outputs": [
    {
     "data": {
      "text/plain": [
       "2174"
      ]
     },
     "execution_count": 5,
     "metadata": {},
     "output_type": "execute_result"
    }
   ],
   "source": [
    "# для подсчёта колличеств пропущенных значений воспользуемся функцией len()\n",
    "len(bank_df[bank_df['days_employed'].isna()]) "
   ]
  },
  {
   "cell_type": "markdown",
   "id": "d829a2a8",
   "metadata": {},
   "source": [
    "При просмотре таблицы с пропущенными значениями обнаружена закономерность: если есть пропуск, в строке `days_employed`, то и в  `total_income` значение также отсутсвует. проверм эту *гипотезу* повторив аналагичные действия для `total_income`, но выведем последнии 10 строк:"
   ]
  },
  {
   "cell_type": "code",
   "execution_count": 6,
   "id": "35629fb6",
   "metadata": {},
   "outputs": [
    {
     "data": {
      "text/html": [
       "<div>\n",
       "<style scoped>\n",
       "    .dataframe tbody tr th:only-of-type {\n",
       "        vertical-align: middle;\n",
       "    }\n",
       "\n",
       "    .dataframe tbody tr th {\n",
       "        vertical-align: top;\n",
       "    }\n",
       "\n",
       "    .dataframe thead th {\n",
       "        text-align: right;\n",
       "    }\n",
       "</style>\n",
       "<table border=\"1\" class=\"dataframe\">\n",
       "  <thead>\n",
       "    <tr style=\"text-align: right;\">\n",
       "      <th></th>\n",
       "      <th>children</th>\n",
       "      <th>days_employed</th>\n",
       "      <th>dob_years</th>\n",
       "      <th>education</th>\n",
       "      <th>education_id</th>\n",
       "      <th>family_status</th>\n",
       "      <th>family_status_id</th>\n",
       "      <th>gender</th>\n",
       "      <th>income_type</th>\n",
       "      <th>debt</th>\n",
       "      <th>total_income</th>\n",
       "      <th>purpose</th>\n",
       "    </tr>\n",
       "  </thead>\n",
       "  <tbody>\n",
       "    <tr>\n",
       "      <th>21415</th>\n",
       "      <td>0</td>\n",
       "      <td>NaN</td>\n",
       "      <td>54</td>\n",
       "      <td>среднее</td>\n",
       "      <td>1</td>\n",
       "      <td>женат / замужем</td>\n",
       "      <td>0</td>\n",
       "      <td>F</td>\n",
       "      <td>пенсионер</td>\n",
       "      <td>0</td>\n",
       "      <td>NaN</td>\n",
       "      <td>операции с жильем</td>\n",
       "    </tr>\n",
       "    <tr>\n",
       "      <th>21423</th>\n",
       "      <td>0</td>\n",
       "      <td>NaN</td>\n",
       "      <td>63</td>\n",
       "      <td>среднее</td>\n",
       "      <td>1</td>\n",
       "      <td>женат / замужем</td>\n",
       "      <td>0</td>\n",
       "      <td>M</td>\n",
       "      <td>пенсионер</td>\n",
       "      <td>0</td>\n",
       "      <td>NaN</td>\n",
       "      <td>сделка с автомобилем</td>\n",
       "    </tr>\n",
       "    <tr>\n",
       "      <th>21426</th>\n",
       "      <td>0</td>\n",
       "      <td>NaN</td>\n",
       "      <td>49</td>\n",
       "      <td>среднее</td>\n",
       "      <td>1</td>\n",
       "      <td>женат / замужем</td>\n",
       "      <td>0</td>\n",
       "      <td>F</td>\n",
       "      <td>сотрудник</td>\n",
       "      <td>1</td>\n",
       "      <td>NaN</td>\n",
       "      <td>недвижимость</td>\n",
       "    </tr>\n",
       "    <tr>\n",
       "      <th>21432</th>\n",
       "      <td>1</td>\n",
       "      <td>NaN</td>\n",
       "      <td>38</td>\n",
       "      <td>неоконченное высшее</td>\n",
       "      <td>2</td>\n",
       "      <td>Не женат / не замужем</td>\n",
       "      <td>4</td>\n",
       "      <td>F</td>\n",
       "      <td>сотрудник</td>\n",
       "      <td>0</td>\n",
       "      <td>NaN</td>\n",
       "      <td>операции с жильем</td>\n",
       "    </tr>\n",
       "    <tr>\n",
       "      <th>21463</th>\n",
       "      <td>1</td>\n",
       "      <td>NaN</td>\n",
       "      <td>35</td>\n",
       "      <td>высшее</td>\n",
       "      <td>0</td>\n",
       "      <td>гражданский брак</td>\n",
       "      <td>1</td>\n",
       "      <td>M</td>\n",
       "      <td>сотрудник</td>\n",
       "      <td>0</td>\n",
       "      <td>NaN</td>\n",
       "      <td>на проведение свадьбы</td>\n",
       "    </tr>\n",
       "    <tr>\n",
       "      <th>21489</th>\n",
       "      <td>2</td>\n",
       "      <td>NaN</td>\n",
       "      <td>47</td>\n",
       "      <td>Среднее</td>\n",
       "      <td>1</td>\n",
       "      <td>женат / замужем</td>\n",
       "      <td>0</td>\n",
       "      <td>M</td>\n",
       "      <td>компаньон</td>\n",
       "      <td>0</td>\n",
       "      <td>NaN</td>\n",
       "      <td>сделка с автомобилем</td>\n",
       "    </tr>\n",
       "    <tr>\n",
       "      <th>21495</th>\n",
       "      <td>1</td>\n",
       "      <td>NaN</td>\n",
       "      <td>50</td>\n",
       "      <td>среднее</td>\n",
       "      <td>1</td>\n",
       "      <td>гражданский брак</td>\n",
       "      <td>1</td>\n",
       "      <td>F</td>\n",
       "      <td>сотрудник</td>\n",
       "      <td>0</td>\n",
       "      <td>NaN</td>\n",
       "      <td>свадьба</td>\n",
       "    </tr>\n",
       "    <tr>\n",
       "      <th>21497</th>\n",
       "      <td>0</td>\n",
       "      <td>NaN</td>\n",
       "      <td>48</td>\n",
       "      <td>ВЫСШЕЕ</td>\n",
       "      <td>0</td>\n",
       "      <td>женат / замужем</td>\n",
       "      <td>0</td>\n",
       "      <td>F</td>\n",
       "      <td>компаньон</td>\n",
       "      <td>0</td>\n",
       "      <td>NaN</td>\n",
       "      <td>строительство недвижимости</td>\n",
       "    </tr>\n",
       "    <tr>\n",
       "      <th>21502</th>\n",
       "      <td>1</td>\n",
       "      <td>NaN</td>\n",
       "      <td>42</td>\n",
       "      <td>среднее</td>\n",
       "      <td>1</td>\n",
       "      <td>женат / замужем</td>\n",
       "      <td>0</td>\n",
       "      <td>F</td>\n",
       "      <td>сотрудник</td>\n",
       "      <td>0</td>\n",
       "      <td>NaN</td>\n",
       "      <td>строительство жилой недвижимости</td>\n",
       "    </tr>\n",
       "    <tr>\n",
       "      <th>21510</th>\n",
       "      <td>2</td>\n",
       "      <td>NaN</td>\n",
       "      <td>28</td>\n",
       "      <td>среднее</td>\n",
       "      <td>1</td>\n",
       "      <td>женат / замужем</td>\n",
       "      <td>0</td>\n",
       "      <td>F</td>\n",
       "      <td>сотрудник</td>\n",
       "      <td>0</td>\n",
       "      <td>NaN</td>\n",
       "      <td>приобретение автомобиля</td>\n",
       "    </tr>\n",
       "  </tbody>\n",
       "</table>\n",
       "</div>"
      ],
      "text/plain": [
       "       children  days_employed  dob_years            education  education_id  \\\n",
       "21415         0            NaN         54              среднее             1   \n",
       "21423         0            NaN         63              среднее             1   \n",
       "21426         0            NaN         49              среднее             1   \n",
       "21432         1            NaN         38  неоконченное высшее             2   \n",
       "21463         1            NaN         35               высшее             0   \n",
       "21489         2            NaN         47              Среднее             1   \n",
       "21495         1            NaN         50              среднее             1   \n",
       "21497         0            NaN         48               ВЫСШЕЕ             0   \n",
       "21502         1            NaN         42              среднее             1   \n",
       "21510         2            NaN         28              среднее             1   \n",
       "\n",
       "               family_status  family_status_id gender income_type  debt  \\\n",
       "21415        женат / замужем                 0      F   пенсионер     0   \n",
       "21423        женат / замужем                 0      M   пенсионер     0   \n",
       "21426        женат / замужем                 0      F   сотрудник     1   \n",
       "21432  Не женат / не замужем                 4      F   сотрудник     0   \n",
       "21463       гражданский брак                 1      M   сотрудник     0   \n",
       "21489        женат / замужем                 0      M   компаньон     0   \n",
       "21495       гражданский брак                 1      F   сотрудник     0   \n",
       "21497        женат / замужем                 0      F   компаньон     0   \n",
       "21502        женат / замужем                 0      F   сотрудник     0   \n",
       "21510        женат / замужем                 0      F   сотрудник     0   \n",
       "\n",
       "       total_income                           purpose  \n",
       "21415           NaN                 операции с жильем  \n",
       "21423           NaN              сделка с автомобилем  \n",
       "21426           NaN                      недвижимость  \n",
       "21432           NaN                 операции с жильем  \n",
       "21463           NaN             на проведение свадьбы  \n",
       "21489           NaN              сделка с автомобилем  \n",
       "21495           NaN                           свадьба  \n",
       "21497           NaN        строительство недвижимости  \n",
       "21502           NaN  строительство жилой недвижимости  \n",
       "21510           NaN           приобретение автомобиля  "
      ]
     },
     "execution_count": 6,
     "metadata": {},
     "output_type": "execute_result"
    }
   ],
   "source": [
    "# последние строки выведем методом tail()\n",
    "bank_df[bank_df['total_income'].isna()].tail(10)"
   ]
  },
  {
   "cell_type": "markdown",
   "id": "108e5447",
   "metadata": {},
   "source": [
    "В этой выборке данная закономерность подтверждается, убедимся в этом, подсчитав колличество пропущенных значений для `total_income`"
   ]
  },
  {
   "cell_type": "code",
   "execution_count": 7,
   "id": "c7533001",
   "metadata": {},
   "outputs": [
    {
     "data": {
      "text/plain": [
       "2174"
      ]
     },
     "execution_count": 7,
     "metadata": {},
     "output_type": "execute_result"
    }
   ],
   "source": [
    "len(bank_df[bank_df['total_income'].isna()])  "
   ]
  },
  {
   "cell_type": "markdown",
   "id": "cefef393",
   "metadata": {},
   "source": [
    "Значения равны, поэтому можем подтвердить гипотезу о том, что строки с проущенными значениями `days_employed` и `total_income` соответсвуют друг другу.\n",
    "\n",
    "*Данная закономерность объясняется зависимостью ежемесячного дохохода от трудового стажа. Посольку в банковской базе данных используется только официальная информация о доходах, то у человека не имеющего трудового стажа не будет и дохода. (искл. 'пенсионеры', 'предприниматели')*\n",
    "\n",
    "    "
   ]
  },
  {
   "cell_type": "markdown",
   "id": "39487e65",
   "metadata": {},
   "source": [
    "Посчитаем отношение строк с пропущенными значениями к общему колличеству строк: "
   ]
  },
  {
   "cell_type": "code",
   "execution_count": 8,
   "id": "70bc5160",
   "metadata": {
    "scrolled": false
   },
   "outputs": [
    {
     "data": {
      "text/plain": [
       "9.901103955841766"
      ]
     },
     "execution_count": 8,
     "metadata": {},
     "output_type": "execute_result"
    }
   ],
   "source": [
    "# используем фкнкцию len() в числителе и знаменателе для подсчета колличества значений\n",
    "len(bank_df['days_employed']) / len(bank_df[bank_df['total_income'].isna()])  "
   ]
  },
  {
   "cell_type": "markdown",
   "id": "194ab799",
   "metadata": {},
   "source": [
    "<div class=\"alert alert-block alert-success\">\n",
    "<b>Комментарий ревьюера✅:</b> Молодец👍 Долю пропусков можно посмотреть так - df.isna().mean() 😉</div>"
   ]
  },
  {
   "cell_type": "markdown",
   "id": "d14576ae",
   "metadata": {},
   "source": [
    "Строки с пропущенными значениями составляют почти 10% от всего датафрейма, что бы не терять 1/10 части данных удалением, выберем оптимальный способ замены:\n",
    "* для `days_employed`\t- 0, т.к. согласно выдвинутой гипотезе пропущены значения у людей не имеющих трудового стажа\n",
    "* для `total_income` - медианное значение, т.к. доходы у людей могут сильно различаться\n",
    "\n",
    "Выведем медиану на экран:"
   ]
  },
  {
   "cell_type": "code",
   "execution_count": 9,
   "id": "3f55f398",
   "metadata": {
    "scrolled": true
   },
   "outputs": [
    {
     "name": "stdout",
     "output_type": "stream",
     "text": [
      "145017.93753253992\n"
     ]
    }
   ],
   "source": [
    "# медиану подчитаем методом .median()\n",
    "total_income_median = bank_df['total_income'].median()\n",
    "print(total_income_median)"
   ]
  },
  {
   "cell_type": "markdown",
   "id": "dc0cde83",
   "metadata": {},
   "source": [
    "Заполним пропущенные значения, для `days_employed` и `total_income`:"
   ]
  },
  {
   "cell_type": "code",
   "execution_count": 10,
   "id": "1d544189",
   "metadata": {},
   "outputs": [],
   "source": [
    "# заменим значения с помощью функции fillna в скобках которой укажем соответствующии для замены значений\n",
    "bank_df['days_employed'] =  bank_df['days_employed'].fillna(0)\n",
    "bank_df['total_income'] =  bank_df['total_income'].fillna(total_income_median)\n"
   ]
  },
  {
   "cell_type": "markdown",
   "id": "54cc49a4",
   "metadata": {},
   "source": [
    "Проверим, на пропуски:"
   ]
  },
  {
   "cell_type": "code",
   "execution_count": 11,
   "id": "0d75ec1b",
   "metadata": {
    "scrolled": true
   },
   "outputs": [
    {
     "name": "stdout",
     "output_type": "stream",
     "text": [
      "0\n",
      "0\n"
     ]
    }
   ],
   "source": [
    "print(len(bank_df[bank_df['days_employed'].isna()]))  \n",
    "print(len(bank_df[bank_df['total_income'].isna()]))  "
   ]
  },
  {
   "cell_type": "markdown",
   "id": "a12faf11",
   "metadata": {},
   "source": [
    "<div class=\"alert alert-block alert-warning\">\n",
    "<b>Комментарий ревьюера⚠️:</b> Заполнить пропуски медианами - хорошее решение. Но я бы советовал сначала вывести медиану (значение которым будешь заполнять) на экран, вдруг медиана равна 1000000000000000?)\n",
    "    \n",
    "Есть еще один, более интересный способ заполнения пропусков. Например, доход клиента (total_income) можно заполнить медианными значениями в разрезе income_type - для каждого income_type посчитать медианный total_income и заполнить пропуски ими. Так мы не усредним данные и меньше повлияем на распределение)"
   ]
  },
  {
   "cell_type": "markdown",
   "id": "430cf578",
   "metadata": {},
   "source": [
    "<div class=\"alert alert-block alert-info\">\n",
    "Значение медианы я изначально выводил на экран, в 9 блоке кода, добавил подпись о том, что \"выведем мединноое значение\" над этой ячейкой\n",
    "\n",
    "По поводу заполнения пропусков согласен, применю в следующей работе 🕵️‍♂️"
   ]
  },
  {
   "cell_type": "markdown",
   "id": "13cd3821",
   "metadata": {},
   "source": [
    "<div class=\"alert alert-block alert-success\">\n",
    "<b>Комментарий ревьюера_v2✅:</b> Понял, принял👍 </div>"
   ]
  },
  {
   "cell_type": "markdown",
   "id": "b43dfb83",
   "metadata": {},
   "source": [
    "<div class=\"alert alert-block alert-success\">\n",
    "<b>Комментарий ревьюера✅:</b> С заполнением days_employed согласен, сделано аргументировано👍"
   ]
  },
  {
   "cell_type": "markdown",
   "id": "649fd66b",
   "metadata": {},
   "source": [
    "### Обработка анамалий "
   ]
  },
  {
   "cell_type": "markdown",
   "id": "0611bc86",
   "metadata": {},
   "source": [
    "#### Обработка анамалий в стобце общего трудового стажа "
   ]
  },
  {
   "cell_type": "markdown",
   "id": "eb688a68",
   "metadata": {},
   "source": [
    "Во время предварительного обзора данных обнаружена анамалия в виде отрицательных и неправдоподобно больших значений в столбце хранящим информацию об общем трудовом стаже, постараемся выяснить причину данной анамалии и скорретировать данные\n",
    "\n",
    "Для начала выясним сколько строк содержат отрицательное значение:"
   ]
  },
  {
   "cell_type": "code",
   "execution_count": 12,
   "id": "7e1f24d9",
   "metadata": {
    "scrolled": false
   },
   "outputs": [
    {
     "data": {
      "text/plain": [
       "15906"
      ]
     },
     "execution_count": 12,
     "metadata": {},
     "output_type": "execute_result"
    }
   ],
   "source": [
    "len(bank_df.loc[bank_df['days_employed'] < 0 ,'days_employed'])"
   ]
  },
  {
   "cell_type": "markdown",
   "id": "e93aa253",
   "metadata": {},
   "source": [
    "Посчитаем процент строк с отрицательными значениями:"
   ]
  },
  {
   "cell_type": "code",
   "execution_count": 13,
   "id": "a492dc1c",
   "metadata": {
    "scrolled": false
   },
   "outputs": [
    {
     "data": {
      "text/plain": [
       "73.89547038327527"
      ]
     },
     "execution_count": 13,
     "metadata": {},
     "output_type": "execute_result"
    }
   ],
   "source": [
    "(len(bank_df.loc[bank_df['days_employed'] < 0 ,'days_employed']) * 100) / len(bank_df['days_employed'])"
   ]
  },
  {
   "cell_type": "markdown",
   "id": "84b7e153",
   "metadata": {},
   "source": [
    "Имеем почти 74 процента строк с отрицательными значениями, выдвеним предположение о том, что возможна ошибка в занесении данных, попробуем найти закоомерность изучив некоторые из строк:"
   ]
  },
  {
   "cell_type": "code",
   "execution_count": 14,
   "id": "df43c1da",
   "metadata": {
    "scrolled": false
   },
   "outputs": [
    {
     "data": {
      "text/html": [
       "<div>\n",
       "<style scoped>\n",
       "    .dataframe tbody tr th:only-of-type {\n",
       "        vertical-align: middle;\n",
       "    }\n",
       "\n",
       "    .dataframe tbody tr th {\n",
       "        vertical-align: top;\n",
       "    }\n",
       "\n",
       "    .dataframe thead th {\n",
       "        text-align: right;\n",
       "    }\n",
       "</style>\n",
       "<table border=\"1\" class=\"dataframe\">\n",
       "  <thead>\n",
       "    <tr style=\"text-align: right;\">\n",
       "      <th></th>\n",
       "      <th>children</th>\n",
       "      <th>days_employed</th>\n",
       "      <th>dob_years</th>\n",
       "      <th>education</th>\n",
       "      <th>education_id</th>\n",
       "      <th>family_status</th>\n",
       "      <th>family_status_id</th>\n",
       "      <th>gender</th>\n",
       "      <th>income_type</th>\n",
       "      <th>debt</th>\n",
       "      <th>total_income</th>\n",
       "      <th>purpose</th>\n",
       "    </tr>\n",
       "  </thead>\n",
       "  <tbody>\n",
       "    <tr>\n",
       "      <th>21519</th>\n",
       "      <td>1</td>\n",
       "      <td>-2351.431934</td>\n",
       "      <td>37</td>\n",
       "      <td>ученая степень</td>\n",
       "      <td>4</td>\n",
       "      <td>в разводе</td>\n",
       "      <td>3</td>\n",
       "      <td>M</td>\n",
       "      <td>сотрудник</td>\n",
       "      <td>0</td>\n",
       "      <td>115949.039788</td>\n",
       "      <td>покупка коммерческой недвижимости</td>\n",
       "    </tr>\n",
       "    <tr>\n",
       "      <th>21520</th>\n",
       "      <td>1</td>\n",
       "      <td>-4529.316663</td>\n",
       "      <td>43</td>\n",
       "      <td>среднее</td>\n",
       "      <td>1</td>\n",
       "      <td>гражданский брак</td>\n",
       "      <td>1</td>\n",
       "      <td>F</td>\n",
       "      <td>компаньон</td>\n",
       "      <td>0</td>\n",
       "      <td>224791.862382</td>\n",
       "      <td>операции с жильем</td>\n",
       "    </tr>\n",
       "    <tr>\n",
       "      <th>21522</th>\n",
       "      <td>1</td>\n",
       "      <td>-2113.346888</td>\n",
       "      <td>38</td>\n",
       "      <td>среднее</td>\n",
       "      <td>1</td>\n",
       "      <td>гражданский брак</td>\n",
       "      <td>1</td>\n",
       "      <td>M</td>\n",
       "      <td>сотрудник</td>\n",
       "      <td>1</td>\n",
       "      <td>89672.561153</td>\n",
       "      <td>недвижимость</td>\n",
       "    </tr>\n",
       "    <tr>\n",
       "      <th>21523</th>\n",
       "      <td>3</td>\n",
       "      <td>-3112.481705</td>\n",
       "      <td>38</td>\n",
       "      <td>среднее</td>\n",
       "      <td>1</td>\n",
       "      <td>женат / замужем</td>\n",
       "      <td>0</td>\n",
       "      <td>M</td>\n",
       "      <td>сотрудник</td>\n",
       "      <td>1</td>\n",
       "      <td>244093.050500</td>\n",
       "      <td>на покупку своего автомобиля</td>\n",
       "    </tr>\n",
       "    <tr>\n",
       "      <th>21524</th>\n",
       "      <td>2</td>\n",
       "      <td>-1984.507589</td>\n",
       "      <td>40</td>\n",
       "      <td>среднее</td>\n",
       "      <td>1</td>\n",
       "      <td>женат / замужем</td>\n",
       "      <td>0</td>\n",
       "      <td>F</td>\n",
       "      <td>сотрудник</td>\n",
       "      <td>0</td>\n",
       "      <td>82047.418899</td>\n",
       "      <td>на покупку автомобиля</td>\n",
       "    </tr>\n",
       "  </tbody>\n",
       "</table>\n",
       "</div>"
      ],
      "text/plain": [
       "       children  days_employed  dob_years       education  education_id  \\\n",
       "21519         1   -2351.431934         37  ученая степень             4   \n",
       "21520         1   -4529.316663         43         среднее             1   \n",
       "21522         1   -2113.346888         38         среднее             1   \n",
       "21523         3   -3112.481705         38         среднее             1   \n",
       "21524         2   -1984.507589         40         среднее             1   \n",
       "\n",
       "          family_status  family_status_id gender income_type  debt  \\\n",
       "21519         в разводе                 3      M   сотрудник     0   \n",
       "21520  гражданский брак                 1      F   компаньон     0   \n",
       "21522  гражданский брак                 1      M   сотрудник     1   \n",
       "21523   женат / замужем                 0      M   сотрудник     1   \n",
       "21524   женат / замужем                 0      F   сотрудник     0   \n",
       "\n",
       "        total_income                            purpose  \n",
       "21519  115949.039788  покупка коммерческой недвижимости  \n",
       "21520  224791.862382                  операции с жильем  \n",
       "21522   89672.561153                       недвижимость  \n",
       "21523  244093.050500       на покупку своего автомобиля  \n",
       "21524   82047.418899              на покупку автомобиля  "
      ]
     },
     "metadata": {},
     "output_type": "display_data"
    }
   ],
   "source": [
    "#display(bank_df.loc[bank_df['days_employed'] < 0].head())\n",
    "display(bank_df.loc[bank_df['days_employed'] < 0].tail())"
   ]
  },
  {
   "cell_type": "markdown",
   "id": "8916d563",
   "metadata": {},
   "source": [
    "Закономерности от других столбцов не было обнаружено, поэтому делаем вывод о том, что это ошибка занесения данных, которая заключается в том, что минус был добавлен ошибочно, проверим по среднему значению, корректность предоложения:"
   ]
  },
  {
   "cell_type": "code",
   "execution_count": 15,
   "id": "57c4af4a",
   "metadata": {},
   "outputs": [
    {
     "data": {
      "text/plain": [
       "-6.446618991777744"
      ]
     },
     "execution_count": 15,
     "metadata": {},
     "output_type": "execute_result"
    }
   ],
   "source": [
    "(bank_df.loc[bank_df['days_employed'] <0, 'days_employed'].mean() / 365)  "
   ]
  },
  {
   "cell_type": "markdown",
   "id": "84ae1d18",
   "metadata": {},
   "source": [
    "Средний стаж работы 6,5 лет - адекватная цифра которая может соответствовть дейстительности. \n",
    "\n",
    "Рассмотрим выборку с положительными значениями:"
   ]
  },
  {
   "cell_type": "code",
   "execution_count": 16,
   "id": "00045b72",
   "metadata": {
    "scrolled": false
   },
   "outputs": [
    {
     "name": "stdout",
     "output_type": "stream",
     "text": [
      "3445\n"
     ]
    }
   ],
   "source": [
    "print(len(bank_df.loc[bank_df['days_employed'] > 0 ,'income_type']))"
   ]
  },
  {
   "cell_type": "markdown",
   "id": "4d7925df",
   "metadata": {},
   "source": [
    "Посчитаем процент с полдожительными значениями:"
   ]
  },
  {
   "cell_type": "code",
   "execution_count": 17,
   "id": "aca8d431",
   "metadata": {
    "scrolled": true
   },
   "outputs": [
    {
     "name": "stdout",
     "output_type": "stream",
     "text": [
      "16.004645760743323\n"
     ]
    }
   ],
   "source": [
    "print((len(bank_df.loc[bank_df['days_employed'] > 0 ,'days_employed']) * 100) / len(bank_df['days_employed']))"
   ]
  },
  {
   "cell_type": "markdown",
   "id": "059f34f0",
   "metadata": {},
   "source": [
    "Значения с положительным знаком гораздо меньше, постаремся найти закономерность, изучим строки:"
   ]
  },
  {
   "cell_type": "code",
   "execution_count": 18,
   "id": "c8ea961a",
   "metadata": {
    "scrolled": true
   },
   "outputs": [
    {
     "data": {
      "text/html": [
       "<div>\n",
       "<style scoped>\n",
       "    .dataframe tbody tr th:only-of-type {\n",
       "        vertical-align: middle;\n",
       "    }\n",
       "\n",
       "    .dataframe tbody tr th {\n",
       "        vertical-align: top;\n",
       "    }\n",
       "\n",
       "    .dataframe thead th {\n",
       "        text-align: right;\n",
       "    }\n",
       "</style>\n",
       "<table border=\"1\" class=\"dataframe\">\n",
       "  <thead>\n",
       "    <tr style=\"text-align: right;\">\n",
       "      <th></th>\n",
       "      <th>children</th>\n",
       "      <th>days_employed</th>\n",
       "      <th>dob_years</th>\n",
       "      <th>education</th>\n",
       "      <th>education_id</th>\n",
       "      <th>family_status</th>\n",
       "      <th>family_status_id</th>\n",
       "      <th>gender</th>\n",
       "      <th>income_type</th>\n",
       "      <th>debt</th>\n",
       "      <th>total_income</th>\n",
       "      <th>purpose</th>\n",
       "    </tr>\n",
       "  </thead>\n",
       "  <tbody>\n",
       "    <tr>\n",
       "      <th>21505</th>\n",
       "      <td>0</td>\n",
       "      <td>338904.866406</td>\n",
       "      <td>53</td>\n",
       "      <td>среднее</td>\n",
       "      <td>1</td>\n",
       "      <td>гражданский брак</td>\n",
       "      <td>1</td>\n",
       "      <td>M</td>\n",
       "      <td>пенсионер</td>\n",
       "      <td>0</td>\n",
       "      <td>75439.993167</td>\n",
       "      <td>сыграть свадьбу</td>\n",
       "    </tr>\n",
       "    <tr>\n",
       "      <th>21508</th>\n",
       "      <td>0</td>\n",
       "      <td>386497.714078</td>\n",
       "      <td>62</td>\n",
       "      <td>среднее</td>\n",
       "      <td>1</td>\n",
       "      <td>женат / замужем</td>\n",
       "      <td>0</td>\n",
       "      <td>M</td>\n",
       "      <td>пенсионер</td>\n",
       "      <td>0</td>\n",
       "      <td>72638.590915</td>\n",
       "      <td>недвижимость</td>\n",
       "    </tr>\n",
       "    <tr>\n",
       "      <th>21509</th>\n",
       "      <td>0</td>\n",
       "      <td>362161.054124</td>\n",
       "      <td>59</td>\n",
       "      <td>высшее</td>\n",
       "      <td>0</td>\n",
       "      <td>женат / замужем</td>\n",
       "      <td>0</td>\n",
       "      <td>M</td>\n",
       "      <td>пенсионер</td>\n",
       "      <td>0</td>\n",
       "      <td>73029.059379</td>\n",
       "      <td>операции с недвижимостью</td>\n",
       "    </tr>\n",
       "    <tr>\n",
       "      <th>21518</th>\n",
       "      <td>0</td>\n",
       "      <td>373995.710838</td>\n",
       "      <td>59</td>\n",
       "      <td>СРЕДНЕЕ</td>\n",
       "      <td>1</td>\n",
       "      <td>женат / замужем</td>\n",
       "      <td>0</td>\n",
       "      <td>F</td>\n",
       "      <td>пенсионер</td>\n",
       "      <td>0</td>\n",
       "      <td>153864.650328</td>\n",
       "      <td>сделка с автомобилем</td>\n",
       "    </tr>\n",
       "    <tr>\n",
       "      <th>21521</th>\n",
       "      <td>0</td>\n",
       "      <td>343937.404131</td>\n",
       "      <td>67</td>\n",
       "      <td>среднее</td>\n",
       "      <td>1</td>\n",
       "      <td>женат / замужем</td>\n",
       "      <td>0</td>\n",
       "      <td>F</td>\n",
       "      <td>пенсионер</td>\n",
       "      <td>0</td>\n",
       "      <td>155999.806512</td>\n",
       "      <td>сделка с автомобилем</td>\n",
       "    </tr>\n",
       "  </tbody>\n",
       "</table>\n",
       "</div>"
      ],
      "text/plain": [
       "       children  days_employed  dob_years education  education_id  \\\n",
       "21505         0  338904.866406         53   среднее             1   \n",
       "21508         0  386497.714078         62   среднее             1   \n",
       "21509         0  362161.054124         59    высшее             0   \n",
       "21518         0  373995.710838         59   СРЕДНЕЕ             1   \n",
       "21521         0  343937.404131         67   среднее             1   \n",
       "\n",
       "          family_status  family_status_id gender income_type  debt  \\\n",
       "21505  гражданский брак                 1      M   пенсионер     0   \n",
       "21508   женат / замужем                 0      M   пенсионер     0   \n",
       "21509   женат / замужем                 0      M   пенсионер     0   \n",
       "21518   женат / замужем                 0      F   пенсионер     0   \n",
       "21521   женат / замужем                 0      F   пенсионер     0   \n",
       "\n",
       "        total_income                   purpose  \n",
       "21505   75439.993167           сыграть свадьбу  \n",
       "21508   72638.590915              недвижимость  \n",
       "21509   73029.059379  операции с недвижимостью  \n",
       "21518  153864.650328      сделка с автомобилем  \n",
       "21521  155999.806512      сделка с автомобилем  "
      ]
     },
     "metadata": {},
     "output_type": "display_data"
    }
   ],
   "source": [
    "#display(bank_df.loc[bank_df['days_employed'] > 0].head())\n",
    "display(bank_df.loc[bank_df['days_employed'] > 0].tail())"
   ]
  },
  {
   "cell_type": "markdown",
   "id": "037b7a12",
   "metadata": {},
   "source": [
    "Обнаружена закономерность в том что положительные значения содержаться только у людей с опредленным типом занятости, убедимся в этом выведя таблицу с уникальными значениями `income_type`:"
   ]
  },
  {
   "cell_type": "code",
   "execution_count": 19,
   "id": "cb6a13c8",
   "metadata": {},
   "outputs": [
    {
     "data": {
      "text/plain": [
       "пенсионер      3443\n",
       "безработный       2\n",
       "Name: income_type, dtype: int64"
      ]
     },
     "execution_count": 19,
     "metadata": {},
     "output_type": "execute_result"
    }
   ],
   "source": [
    "bank_df.loc[bank_df['days_employed'] > 0, 'income_type'].value_counts() "
   ]
  },
  {
   "cell_type": "markdown",
   "id": "28b48a24",
   "metadata": {},
   "source": [
    "Действительно, почти все положительные значения отходят к определенному типу занятости: `пенсионер` и 2 к статусу `безработный`, подсчитаем средний трудовой стаж в годах: "
   ]
  },
  {
   "cell_type": "code",
   "execution_count": 20,
   "id": "77288729",
   "metadata": {
    "scrolled": false
   },
   "outputs": [
    {
     "data": {
      "text/plain": [
       "1000.011807989777"
      ]
     },
     "execution_count": 20,
     "metadata": {},
     "output_type": "execute_result"
    }
   ],
   "source": [
    "bank_df.loc[bank_df['days_employed'] >0, 'days_employed'].mean() / 365"
   ]
  },
  {
   "cell_type": "markdown",
   "id": "a9044c7e",
   "metadata": {},
   "source": [
    "1000 лет - значение явно не соответствует действительности. \n",
    "Сделаем предположение о том, что трудовой стаж содержит значение в другой системе исчестелния, например, в часах. Проверим предположение, преобразова дни в часы:"
   ]
  },
  {
   "cell_type": "code",
   "execution_count": 21,
   "id": "c32e86e7",
   "metadata": {
    "scrolled": true
   },
   "outputs": [
    {
     "data": {
      "text/plain": [
       "41.66715866624071"
      ]
     },
     "execution_count": 21,
     "metadata": {},
     "output_type": "execute_result"
    }
   ],
   "source": [
    "(bank_df.loc[bank_df['days_employed'] >0, 'days_employed'].mean() / 24) / 365 "
   ]
  },
  {
   "cell_type": "markdown",
   "id": "fd4aca00",
   "metadata": {},
   "source": [
    "Средний стаж для пенсионеров 41 год, вполне удвлитворительное значение учитывая, то что люди в России выходят на пенсию в среднем в 60-63 года"
   ]
  },
  {
   "cell_type": "markdown",
   "id": "7f611646",
   "metadata": {},
   "source": [
    "*Выдвнем предположение об ошибках в значениях общего трудового стажа: вероятнее всего данные бьли собраны из двух и более разных источников и не были приведену к общему виду*"
   ]
  },
  {
   "cell_type": "markdown",
   "id": "0fd93103",
   "metadata": {},
   "source": [
    "Заменим некорретный значения в датафрейме, согласно выдвинутым предположениям:\n",
    "* отрицательные значения заменим на положительные\n",
    "* положительные преобразуем в сутки, разделив на 24"
   ]
  },
  {
   "cell_type": "code",
   "execution_count": 22,
   "id": "e81eb6ec",
   "metadata": {},
   "outputs": [],
   "source": [
    "#сначала разделим положительные значения\n",
    "bank_df.loc[bank_df['days_employed'] > 0 ,'days_employed'] /= 24"
   ]
  },
  {
   "cell_type": "code",
   "execution_count": 23,
   "id": "464d205c",
   "metadata": {},
   "outputs": [],
   "source": [
    "#затем поменяем все отрицательные значения на положительные\n",
    "bank_df.loc[bank_df['days_employed'] < 0 ,'days_employed'] *= (-1)"
   ]
  },
  {
   "cell_type": "markdown",
   "id": "674cefa9",
   "metadata": {},
   "source": [
    "Проверим значения по первым 5ти строкам кода:"
   ]
  },
  {
   "cell_type": "code",
   "execution_count": 24,
   "id": "c5d8eb63",
   "metadata": {
    "scrolled": false
   },
   "outputs": [
    {
     "data": {
      "text/html": [
       "<div>\n",
       "<style scoped>\n",
       "    .dataframe tbody tr th:only-of-type {\n",
       "        vertical-align: middle;\n",
       "    }\n",
       "\n",
       "    .dataframe tbody tr th {\n",
       "        vertical-align: top;\n",
       "    }\n",
       "\n",
       "    .dataframe thead th {\n",
       "        text-align: right;\n",
       "    }\n",
       "</style>\n",
       "<table border=\"1\" class=\"dataframe\">\n",
       "  <thead>\n",
       "    <tr style=\"text-align: right;\">\n",
       "      <th></th>\n",
       "      <th>children</th>\n",
       "      <th>days_employed</th>\n",
       "      <th>dob_years</th>\n",
       "      <th>education</th>\n",
       "      <th>education_id</th>\n",
       "      <th>family_status</th>\n",
       "      <th>family_status_id</th>\n",
       "      <th>gender</th>\n",
       "      <th>income_type</th>\n",
       "      <th>debt</th>\n",
       "      <th>total_income</th>\n",
       "      <th>purpose</th>\n",
       "    </tr>\n",
       "  </thead>\n",
       "  <tbody>\n",
       "    <tr>\n",
       "      <th>0</th>\n",
       "      <td>1</td>\n",
       "      <td>8437.673028</td>\n",
       "      <td>42</td>\n",
       "      <td>высшее</td>\n",
       "      <td>0</td>\n",
       "      <td>женат / замужем</td>\n",
       "      <td>0</td>\n",
       "      <td>F</td>\n",
       "      <td>сотрудник</td>\n",
       "      <td>0</td>\n",
       "      <td>253875.639453</td>\n",
       "      <td>покупка жилья</td>\n",
       "    </tr>\n",
       "    <tr>\n",
       "      <th>1</th>\n",
       "      <td>1</td>\n",
       "      <td>4024.803754</td>\n",
       "      <td>36</td>\n",
       "      <td>среднее</td>\n",
       "      <td>1</td>\n",
       "      <td>женат / замужем</td>\n",
       "      <td>0</td>\n",
       "      <td>F</td>\n",
       "      <td>сотрудник</td>\n",
       "      <td>0</td>\n",
       "      <td>112080.014102</td>\n",
       "      <td>приобретение автомобиля</td>\n",
       "    </tr>\n",
       "    <tr>\n",
       "      <th>2</th>\n",
       "      <td>0</td>\n",
       "      <td>5623.422610</td>\n",
       "      <td>33</td>\n",
       "      <td>Среднее</td>\n",
       "      <td>1</td>\n",
       "      <td>женат / замужем</td>\n",
       "      <td>0</td>\n",
       "      <td>M</td>\n",
       "      <td>сотрудник</td>\n",
       "      <td>0</td>\n",
       "      <td>145885.952297</td>\n",
       "      <td>покупка жилья</td>\n",
       "    </tr>\n",
       "    <tr>\n",
       "      <th>3</th>\n",
       "      <td>3</td>\n",
       "      <td>4124.747207</td>\n",
       "      <td>32</td>\n",
       "      <td>среднее</td>\n",
       "      <td>1</td>\n",
       "      <td>женат / замужем</td>\n",
       "      <td>0</td>\n",
       "      <td>M</td>\n",
       "      <td>сотрудник</td>\n",
       "      <td>0</td>\n",
       "      <td>267628.550329</td>\n",
       "      <td>дополнительное образование</td>\n",
       "    </tr>\n",
       "    <tr>\n",
       "      <th>4</th>\n",
       "      <td>0</td>\n",
       "      <td>14177.753002</td>\n",
       "      <td>53</td>\n",
       "      <td>среднее</td>\n",
       "      <td>1</td>\n",
       "      <td>гражданский брак</td>\n",
       "      <td>1</td>\n",
       "      <td>F</td>\n",
       "      <td>пенсионер</td>\n",
       "      <td>0</td>\n",
       "      <td>158616.077870</td>\n",
       "      <td>сыграть свадьбу</td>\n",
       "    </tr>\n",
       "  </tbody>\n",
       "</table>\n",
       "</div>"
      ],
      "text/plain": [
       "   children  days_employed  dob_years education  education_id  \\\n",
       "0         1    8437.673028         42    высшее             0   \n",
       "1         1    4024.803754         36   среднее             1   \n",
       "2         0    5623.422610         33   Среднее             1   \n",
       "3         3    4124.747207         32   среднее             1   \n",
       "4         0   14177.753002         53   среднее             1   \n",
       "\n",
       "      family_status  family_status_id gender income_type  debt   total_income  \\\n",
       "0   женат / замужем                 0      F   сотрудник     0  253875.639453   \n",
       "1   женат / замужем                 0      F   сотрудник     0  112080.014102   \n",
       "2   женат / замужем                 0      M   сотрудник     0  145885.952297   \n",
       "3   женат / замужем                 0      M   сотрудник     0  267628.550329   \n",
       "4  гражданский брак                 1      F   пенсионер     0  158616.077870   \n",
       "\n",
       "                      purpose  \n",
       "0               покупка жилья  \n",
       "1     приобретение автомобиля  \n",
       "2               покупка жилья  \n",
       "3  дополнительное образование  \n",
       "4             сыграть свадьбу  "
      ]
     },
     "execution_count": 24,
     "metadata": {},
     "output_type": "execute_result"
    }
   ],
   "source": [
    "bank_df.head()"
   ]
  },
  {
   "cell_type": "markdown",
   "id": "4e4b6a9d",
   "metadata": {},
   "source": [
    "<div class=\"alert alert-block alert-success\">\n",
    "<b>Комментарий ревьюера✅:</b> Ты проделал большую работу над столбцом, но он не участвует в исследовании, так что его можно было оставить в исходном виде"
   ]
  },
  {
   "cell_type": "markdown",
   "id": "5e2a4395",
   "metadata": {},
   "source": [
    "<div class=\"alert alert-block alert-info\">\n",
    " OKAY... 😥"
   ]
  },
  {
   "cell_type": "markdown",
   "id": "48e0c0f9",
   "metadata": {},
   "source": [
    "<div class=\"alert alert-block alert-success\">\n",
    "<b>Комментарий ревьюера_v2✅:</b> Ага, в реальной работе лучше избегать излишних затрат времени, но у нас учебный проект, пракатика никогда не будет лишней👍 </div>"
   ]
  },
  {
   "cell_type": "markdown",
   "id": "0e2156d4",
   "metadata": {},
   "source": [
    "#### Обработка анамалий в столбце дети"
   ]
  },
  {
   "cell_type": "markdown",
   "id": "9c675683",
   "metadata": {},
   "source": [
    "Проверим какие уникальные значения создержит столбец с детьми:"
   ]
  },
  {
   "cell_type": "code",
   "execution_count": 25,
   "id": "44f0460e",
   "metadata": {
    "scrolled": true
   },
   "outputs": [
    {
     "data": {
      "text/plain": [
       " 0     14149\n",
       " 1      4818\n",
       " 2      2055\n",
       " 3       330\n",
       " 20       76\n",
       "-1        47\n",
       " 4        41\n",
       " 5         9\n",
       "Name: children, dtype: int64"
      ]
     },
     "execution_count": 25,
     "metadata": {},
     "output_type": "execute_result"
    }
   ],
   "source": [
    "# к столбцу 'children' применим функцию value_counts()\n",
    "bank_df['children'].value_counts()"
   ]
  },
  {
   "cell_type": "markdown",
   "id": "f6427c0a",
   "metadata": {},
   "source": [
    "Обнаружили 2 анамалии: отрицательное значение и сильно выдающеесе значение в колличестве 20 детей.\n",
    "\n",
    "*По аналогии со столбцом `days_employed` выдвигаем гипотезу о том, что знаения были занесены изначально некорретно, отрицательное значение было добавлено по ошибке, а в колличесте 20 детей - лишний ноль.*\n",
    "\n",
    "Заменим данные значение:"
   ]
  },
  {
   "cell_type": "code",
   "execution_count": 26,
   "id": "5e7461d5",
   "metadata": {},
   "outputs": [],
   "source": [
    "# применив, атрибут .loc выполним арифметическую опеарцию по замене значений\n",
    "bank_df.loc[bank_df['children'] == -1 ,'children'] *= (-1)\n",
    "bank_df.loc[bank_df['children'] == 20 ,'children'] = 2"
   ]
  },
  {
   "cell_type": "markdown",
   "id": "af7e790a",
   "metadata": {},
   "source": [
    "Проверим, произвелась ли замена:"
   ]
  },
  {
   "cell_type": "code",
   "execution_count": 27,
   "id": "3bd1ad24",
   "metadata": {
    "scrolled": true
   },
   "outputs": [
    {
     "data": {
      "text/plain": [
       "0    14149\n",
       "1     4865\n",
       "2     2131\n",
       "3      330\n",
       "4       41\n",
       "5        9\n",
       "Name: children, dtype: int64"
      ]
     },
     "execution_count": 27,
     "metadata": {},
     "output_type": "execute_result"
    }
   ],
   "source": [
    "bank_df['children'].value_counts()"
   ]
  },
  {
   "cell_type": "markdown",
   "id": "de4b1d8f",
   "metadata": {},
   "source": [
    "<div class=\"alert alert-block alert-success\">\n",
    "<b>Комментарий ревьюера✅:</b> Согласен😉</div>"
   ]
  },
  {
   "cell_type": "markdown",
   "id": "6ee9d518",
   "metadata": {},
   "source": [
    "#### Обработка анамалий в столбце  возраст клиента"
   ]
  },
  {
   "cell_type": "markdown",
   "id": "6cb3bc0e",
   "metadata": {},
   "source": [
    "Проверим распределение значений по возрасту:"
   ]
  },
  {
   "cell_type": "code",
   "execution_count": 28,
   "id": "4cdc6b09",
   "metadata": {
    "scrolled": true
   },
   "outputs": [
    {
     "data": {
      "text/plain": [
       "count    21525.000000\n",
       "mean        43.293380\n",
       "std         12.574584\n",
       "min          0.000000\n",
       "25%         33.000000\n",
       "50%         42.000000\n",
       "75%         53.000000\n",
       "max         75.000000\n",
       "Name: dob_years, dtype: float64"
      ]
     },
     "execution_count": 28,
     "metadata": {},
     "output_type": "execute_result"
    }
   ],
   "source": [
    "# для проверки распредления используем метод describe()\n",
    "bank_df['dob_years'].describe()"
   ]
  },
  {
   "cell_type": "markdown",
   "id": "0f43fa54",
   "metadata": {},
   "source": [
    "Обнаружена анамалия в виде минимально значения. Очевидно возраст не может быть равен нулю, а также в данных о задолженностях по кредиту не могут быть люди младше 18 лет \n",
    "\n",
    "Вывдем колличество строк для двух условий:"
   ]
  },
  {
   "cell_type": "code",
   "execution_count": 29,
   "id": "e7ee9537",
   "metadata": {
    "scrolled": true
   },
   "outputs": [
    {
     "name": "stdout",
     "output_type": "stream",
     "text": [
      "101\n",
      "101\n"
     ]
    }
   ],
   "source": [
    "# методом .loc выберем нужный столбец и соответствующие условия\n",
    "print(len(bank_df.loc[bank_df['dob_years'] == 0]))\n",
    "print(len(bank_df.loc[bank_df['dob_years'] < 18]))"
   ]
  },
  {
   "cell_type": "markdown",
   "id": "80d7e0fd",
   "metadata": {},
   "source": [
    "Значения равны, поэтому анамалия в виде минимальных значений носит однородный характер, проверим взаимосвязь с другими элементами таблицы:"
   ]
  },
  {
   "cell_type": "code",
   "execution_count": 30,
   "id": "4dc17906",
   "metadata": {},
   "outputs": [],
   "source": [
    "#bank_df.loc[bank_df['dob_years'] == 0].head(15)"
   ]
  },
  {
   "cell_type": "markdown",
   "id": "b96f68a8",
   "metadata": {},
   "source": [
    "Взаимосвязи с дургими элемнтами не было обнаружено, *выдвинем следющую гипотезу о появление нулевых значений: \"Ноль был поставлен намерено, что бы обозначить, то что данных о возрасте либо нет, либо они были утеряны\"*\n",
    "\n",
    "Заменим нулевые значения на среднее для соответствующей группы. Выведем среднее значение возраста для группы 'пенсионеры' и для всех остальных:"
   ]
  },
  {
   "cell_type": "code",
   "execution_count": 31,
   "id": "207e3552",
   "metadata": {
    "scrolled": false
   },
   "outputs": [
    {
     "name": "stdout",
     "output_type": "stream",
     "text": [
      "Средний возраст для пенсионеров: 59.06301867219917\n",
      "Средний возраст для всех остальных клиентов: 39.85188748655838\n"
     ]
    }
   ],
   "source": [
    "# методом .loc отсортируем значения для двух групп и применим к группам метож .mean() \n",
    "retiree_mean = bank_df.loc[bank_df['income_type'] == 'пенсионер', 'dob_years'].mean()\n",
    "print('Средний возраст для пенсионеров:', retiree_mean)\n",
    "not_retiree_mean = bank_df.loc[bank_df['income_type'] != 'пенсионер', 'dob_years'].mean()\n",
    "print('Средний возраст для всех остальных клиентов:', not_retiree_mean)\n"
   ]
  },
  {
   "cell_type": "markdown",
   "id": "54d08071",
   "metadata": {},
   "source": [
    "Заменим нулевые значения для соответствующих групп:"
   ]
  },
  {
   "cell_type": "code",
   "execution_count": 32,
   "id": "821f5874",
   "metadata": {},
   "outputs": [],
   "source": [
    "# в методе .loc применим два условия и заменим на соответствующие средние значения\n",
    "bank_df.loc[(bank_df['income_type']=='пенсионер') & (bank_df['dob_years'] ==0), 'dob_years'] = retiree_mean\n",
    "\n",
    "bank_df.loc[(bank_df['income_type']!='пенсионер') & (bank_df['dob_years'] ==0), 'dob_years']= not_retiree_mean"
   ]
  },
  {
   "cell_type": "markdown",
   "id": "ef80e286",
   "metadata": {},
   "source": [
    "Проверим выполнилась ли замена:"
   ]
  },
  {
   "cell_type": "code",
   "execution_count": 33,
   "id": "a2da29d4",
   "metadata": {},
   "outputs": [
    {
     "data": {
      "text/plain": [
       "0"
      ]
     },
     "execution_count": 33,
     "metadata": {},
     "output_type": "execute_result"
    }
   ],
   "source": [
    "len(bank_df.loc[bank_df['dob_years'] == 0])"
   ]
  },
  {
   "cell_type": "markdown",
   "id": "682814af",
   "metadata": {},
   "source": [
    "#### Обработка анамалий в столбце  пол клиента"
   ]
  },
  {
   "cell_type": "markdown",
   "id": "05a9fa5c",
   "metadata": {},
   "source": [
    "Для поиска возможных аномалий вывдем уникальные значения для пола клиенты:"
   ]
  },
  {
   "cell_type": "code",
   "execution_count": 34,
   "id": "b87e9c0c",
   "metadata": {
    "scrolled": true
   },
   "outputs": [
    {
     "data": {
      "text/plain": [
       "F      14236\n",
       "M       7288\n",
       "XNA        1\n",
       "Name: gender, dtype: int64"
      ]
     },
     "execution_count": 34,
     "metadata": {},
     "output_type": "execute_result"
    }
   ],
   "source": [
    "bank_df['gender'].value_counts()"
   ]
  },
  {
   "cell_type": "markdown",
   "id": "8deff308",
   "metadata": {},
   "source": [
    "Обнаружена анамалия в 1й строке, в виде неопредленного пола:"
   ]
  },
  {
   "cell_type": "code",
   "execution_count": 35,
   "id": "ab7651b1",
   "metadata": {
    "scrolled": true
   },
   "outputs": [
    {
     "data": {
      "text/html": [
       "<div>\n",
       "<style scoped>\n",
       "    .dataframe tbody tr th:only-of-type {\n",
       "        vertical-align: middle;\n",
       "    }\n",
       "\n",
       "    .dataframe tbody tr th {\n",
       "        vertical-align: top;\n",
       "    }\n",
       "\n",
       "    .dataframe thead th {\n",
       "        text-align: right;\n",
       "    }\n",
       "</style>\n",
       "<table border=\"1\" class=\"dataframe\">\n",
       "  <thead>\n",
       "    <tr style=\"text-align: right;\">\n",
       "      <th></th>\n",
       "      <th>children</th>\n",
       "      <th>days_employed</th>\n",
       "      <th>dob_years</th>\n",
       "      <th>education</th>\n",
       "      <th>education_id</th>\n",
       "      <th>family_status</th>\n",
       "      <th>family_status_id</th>\n",
       "      <th>gender</th>\n",
       "      <th>income_type</th>\n",
       "      <th>debt</th>\n",
       "      <th>total_income</th>\n",
       "      <th>purpose</th>\n",
       "    </tr>\n",
       "  </thead>\n",
       "  <tbody>\n",
       "    <tr>\n",
       "      <th>10701</th>\n",
       "      <td>0</td>\n",
       "      <td>2358.600502</td>\n",
       "      <td>24.0</td>\n",
       "      <td>неоконченное высшее</td>\n",
       "      <td>2</td>\n",
       "      <td>гражданский брак</td>\n",
       "      <td>1</td>\n",
       "      <td>XNA</td>\n",
       "      <td>компаньон</td>\n",
       "      <td>0</td>\n",
       "      <td>203905.157261</td>\n",
       "      <td>покупка недвижимости</td>\n",
       "    </tr>\n",
       "  </tbody>\n",
       "</table>\n",
       "</div>"
      ],
      "text/plain": [
       "       children  days_employed  dob_years            education  education_id  \\\n",
       "10701         0    2358.600502       24.0  неоконченное высшее             2   \n",
       "\n",
       "          family_status  family_status_id gender income_type  debt  \\\n",
       "10701  гражданский брак                 1    XNA   компаньон     0   \n",
       "\n",
       "        total_income               purpose  \n",
       "10701  203905.157261  покупка недвижимости  "
      ]
     },
     "execution_count": 35,
     "metadata": {},
     "output_type": "execute_result"
    }
   ],
   "source": [
    "bank_df.loc[bank_df['gender'] == 'XNA']"
   ]
  },
  {
   "cell_type": "markdown",
   "id": "a6cb7274",
   "metadata": {},
   "source": [
    "*Значение `XNA` мы не может отнести к какому либо полу, данные были занесены некорркектно, т.к. такая строка всего лишь одна - удалим её:*"
   ]
  },
  {
   "cell_type": "code",
   "execution_count": 36,
   "id": "03f10a7c",
   "metadata": {},
   "outputs": [],
   "source": [
    "# Методом drop.() удалим нужную строку по номеру индекса\n",
    "bank_df.drop(labels = [10701], axis=0, inplace = True)"
   ]
  },
  {
   "cell_type": "markdown",
   "id": "5845162f",
   "metadata": {},
   "source": [
    "Проверим осталась ли анамалия в столбце `gender`"
   ]
  },
  {
   "cell_type": "code",
   "execution_count": 37,
   "id": "417e8d03",
   "metadata": {
    "scrolled": true
   },
   "outputs": [
    {
     "data": {
      "text/plain": [
       "F    14236\n",
       "M     7288\n",
       "Name: gender, dtype: int64"
      ]
     },
     "execution_count": 37,
     "metadata": {},
     "output_type": "execute_result"
    }
   ],
   "source": [
    "bank_df['gender'].value_counts()"
   ]
  },
  {
   "cell_type": "markdown",
   "id": "2881dadc",
   "metadata": {},
   "source": [
    "### Выводы:  <a class=\"tocSkip\">\n",
    "    \n",
    "1. Обнаружили анамалии в столбцах `children`, `days_employed` `dob_years` и `gender`\n",
    "2. Выдвинули гипотезы их происхождения - для всех столбцов - это ошибки в занесении данных\n",
    "3. Устронили ошибки в данных"
   ]
  },
  {
   "cell_type": "markdown",
   "id": "70dca074",
   "metadata": {},
   "source": [
    "<div class=\"alert alert-block alert-danger\">\n",
    "<b>Комментарий ревьюера❌:</b> Нехватает изучения аномалий в столбцах:\n",
    "    \n",
    "- dob_years\n",
    "    \n",
    "- gender\n",
    "\n",
    "Если столбец не участвует в дальнейшей работе, аномалии можно не исправлять, но упомянуть о них стоит \n",
    "\n",
    "Добавь пожалуйста😉</div>"
   ]
  },
  {
   "cell_type": "markdown",
   "id": "d9586eb4",
   "metadata": {},
   "source": [
    "<div class=\"alert alert-block alert-info\">\n",
    "Изучил и обработал анамалии, добавил в работу пункты 2.2.3 и 2.2.4 ✌"
   ]
  },
  {
   "cell_type": "markdown",
   "id": "9678b6d0",
   "metadata": {},
   "source": [
    "<div class=\"alert alert-block alert-success\">\n",
    "<b>Комментарий ревьюера_v2✅:</b> Теперь согласен👍 </div>"
   ]
  },
  {
   "cell_type": "markdown",
   "id": "45c4f8f5",
   "metadata": {},
   "source": [
    "### Замена типа данных "
   ]
  },
  {
   "cell_type": "markdown",
   "id": "2e7c19de",
   "metadata": {},
   "source": [
    "В стобцах `days_employed` и `total_income`  используются значения float64, которые содержат значения после запятой, для удобства чтения таблицы и дальнейших операций, заменим на целочисленные значения "
   ]
  },
  {
   "cell_type": "code",
   "execution_count": 38,
   "id": "fe49544b",
   "metadata": {},
   "outputs": [],
   "source": [
    "bank_df['total_income'] = bank_df['total_income'].astype('int')\n",
    "bank_df['days_employed'] = bank_df['days_employed'].astype('int')\n"
   ]
  },
  {
   "cell_type": "markdown",
   "id": "45577b09",
   "metadata": {},
   "source": [
    "Столбец с значением о данных кредитах, заменим на булевое значение, после чего:\n",
    "* 0 - будет возвращать значение `False` - нет задолженности,\n",
    "* 1 - будет возвращать значение `True`- есть задолженность"
   ]
  },
  {
   "cell_type": "code",
   "execution_count": 39,
   "id": "f22edace",
   "metadata": {},
   "outputs": [],
   "source": [
    "bank_df['debt'] = bank_df['debt'].astype('bool')"
   ]
  },
  {
   "cell_type": "markdown",
   "id": "9a7b2e1a",
   "metadata": {},
   "source": [
    "Проверим, заменились ли значения:"
   ]
  },
  {
   "cell_type": "code",
   "execution_count": 40,
   "id": "7a81ff36",
   "metadata": {
    "scrolled": false
   },
   "outputs": [
    {
     "data": {
      "text/plain": [
       "children              int64\n",
       "days_employed         int64\n",
       "dob_years           float64\n",
       "education            object\n",
       "education_id          int64\n",
       "family_status        object\n",
       "family_status_id      int64\n",
       "gender               object\n",
       "income_type          object\n",
       "debt                   bool\n",
       "total_income          int64\n",
       "purpose              object\n",
       "dtype: object"
      ]
     },
     "execution_count": 40,
     "metadata": {},
     "output_type": "execute_result"
    }
   ],
   "source": [
    "bank_df.dtypes"
   ]
  },
  {
   "cell_type": "markdown",
   "id": "ad61fa2c",
   "metadata": {},
   "source": [
    "### Выводы:  <a class=\"tocSkip\">\n",
    "Заменили типы значения для 3х столбцов, таблицу стало читать проще благодаря убранным знакам после запятой, не несущих в себе особо важной информации, а замена значение о задолженности в таблице теперь показывает её наличае в виде переменной True и False"
   ]
  },
  {
   "cell_type": "markdown",
   "id": "05148084",
   "metadata": {},
   "source": [
    "<div class=\"alert alert-block alert-warning\">\n",
    "<b>Комментарий ревьюера⚠️:</b> Типы данных исправлены верно, но для их проверки лучше использовать методы info() или dtypes😉</div>"
   ]
  },
  {
   "cell_type": "markdown",
   "id": "6aeefe2c",
   "metadata": {},
   "source": [
    "<div class=\"alert alert-block alert-info\">\n",
    "Хорошо, исправил ☑️"
   ]
  },
  {
   "cell_type": "markdown",
   "id": "f6394bd7",
   "metadata": {},
   "source": [
    "<div class=\"alert alert-block alert-success\">\n",
    "<b>Комментарий ревьюера_v2✅:</b> 👍 </div>"
   ]
  },
  {
   "cell_type": "markdown",
   "id": "8d65fa16",
   "metadata": {},
   "source": [
    "### Обработка дубликатов"
   ]
  },
  {
   "cell_type": "markdown",
   "id": "a6b09fba",
   "metadata": {},
   "source": [
    "Для начала обработаем таблицу на налчие неявныхых дубликатов.\n",
    "\n",
    "В столбце `education` встречаются дубликаты которые содержат одну информацию но записаны в разных регистрах, посмотрим на все уникальные значения:"
   ]
  },
  {
   "cell_type": "code",
   "execution_count": 41,
   "id": "59d50009",
   "metadata": {
    "scrolled": false
   },
   "outputs": [
    {
     "data": {
      "text/plain": [
       "среднее                13750\n",
       "высшее                  4718\n",
       "СРЕДНЕЕ                  772\n",
       "Среднее                  711\n",
       "неоконченное высшее      667\n",
       "ВЫСШЕЕ                   274\n",
       "Высшее                   268\n",
       "начальное                250\n",
       "Неоконченное высшее       47\n",
       "НЕОКОНЧЕННОЕ ВЫСШЕЕ       29\n",
       "НАЧАЛЬНОЕ                 17\n",
       "Начальное                 15\n",
       "ученая степень             4\n",
       "УЧЕНАЯ СТЕПЕНЬ             1\n",
       "Ученая степень             1\n",
       "Name: education, dtype: int64"
      ]
     },
     "execution_count": 41,
     "metadata": {},
     "output_type": "execute_result"
    }
   ],
   "source": [
    "bank_df['education'].value_counts()"
   ]
  },
  {
   "cell_type": "markdown",
   "id": "f781cda2",
   "metadata": {},
   "source": [
    "Приведем все значения к нижнему регистру:"
   ]
  },
  {
   "cell_type": "code",
   "execution_count": 42,
   "id": "b3913d45",
   "metadata": {
    "scrolled": false
   },
   "outputs": [
    {
     "data": {
      "text/plain": [
       "среднее                15233\n",
       "высшее                  5260\n",
       "неоконченное высшее      743\n",
       "начальное                282\n",
       "ученая степень             6\n",
       "Name: education, dtype: int64"
      ]
     },
     "execution_count": 42,
     "metadata": {},
     "output_type": "execute_result"
    }
   ],
   "source": [
    "# применим. str.lower() что бы привести к нижнему регистру все значения в столбце\n",
    "bank_df['education'] = bank_df['education'].str.lower()\n",
    "bank_df['education'].value_counts()                     "
   ]
  },
  {
   "cell_type": "markdown",
   "id": "6ed44d1a",
   "metadata": {},
   "source": [
    "Повторим такую же операцию, для столбца `family_status`, в нём нет, неявных будликатов, но значение `Не женат / не замужем` написано с большой буквы, что нарушает общий стиль:"
   ]
  },
  {
   "cell_type": "code",
   "execution_count": 43,
   "id": "33abe95e",
   "metadata": {
    "scrolled": false
   },
   "outputs": [
    {
     "data": {
      "text/plain": [
       "женат / замужем          12380\n",
       "гражданский брак          4176\n",
       "Не женат / не замужем     2813\n",
       "в разводе                 1195\n",
       "вдовец / вдова             960\n",
       "Name: family_status, dtype: int64"
      ]
     },
     "execution_count": 43,
     "metadata": {},
     "output_type": "execute_result"
    }
   ],
   "source": [
    "bank_df['family_status'].value_counts()      "
   ]
  },
  {
   "cell_type": "markdown",
   "id": "a3c2d02b",
   "metadata": {},
   "source": [
    "Исправим это:"
   ]
  },
  {
   "cell_type": "code",
   "execution_count": 44,
   "id": "d5f1ddc9",
   "metadata": {},
   "outputs": [
    {
     "data": {
      "text/plain": [
       "женат / замужем          12380\n",
       "гражданский брак          4176\n",
       "не женат / не замужем     2813\n",
       "в разводе                 1195\n",
       "вдовец / вдова             960\n",
       "Name: family_status, dtype: int64"
      ]
     },
     "execution_count": 44,
     "metadata": {},
     "output_type": "execute_result"
    }
   ],
   "source": [
    "bank_df['family_status'] = bank_df['family_status'].str.lower()\n",
    "bank_df['family_status'].value_counts()     "
   ]
  },
  {
   "cell_type": "markdown",
   "id": "398418ca",
   "metadata": {},
   "source": [
    "После приведния к нижнему регистру посчитаем колличество явных дубликатов в таблице:"
   ]
  },
  {
   "cell_type": "code",
   "execution_count": 45,
   "id": "6f31b8cf",
   "metadata": {},
   "outputs": [
    {
     "data": {
      "text/plain": [
       "71"
      ]
     },
     "execution_count": 45,
     "metadata": {},
     "output_type": "execute_result"
    }
   ],
   "source": [
    "# для всего датафреймв вызовим последовательно функции duplicated(). и sum()\n",
    "bank_df.duplicated().sum()"
   ]
  },
  {
   "cell_type": "markdown",
   "id": "48076edb",
   "metadata": {},
   "source": [
    "*Приведение к нижнему регистру полностью очистило столбец от неявных дубликатов, здесь явная ошибка при записи данных: если данные указывает сам человек, например на сайте, форма \"разрешает\" заполнить её в любом виде и дальше данные не обрабатываются и попадают в датафрейм в таком виде, также сотрудники банка сами могут заполнять в неверном виде, самое простое решение проблемы обратиться в отдел разработки, для создания фильтра который будет обрабатывать такие значения до того как они попабудт в датафрейм*"
   ]
  },
  {
   "cell_type": "markdown",
   "id": "5deb10cc",
   "metadata": {},
   "source": [
    "Обработаем явные дублиаты в таблице:"
   ]
  },
  {
   "cell_type": "code",
   "execution_count": 46,
   "id": "9b2a26d9",
   "metadata": {},
   "outputs": [],
   "source": [
    "bank_df = bank_df.drop_duplicates().reset_index(drop=True) "
   ]
  },
  {
   "cell_type": "markdown",
   "id": "fdbc6027",
   "metadata": {},
   "source": [
    "Проверим таблицу на наличие дубликатов:"
   ]
  },
  {
   "cell_type": "code",
   "execution_count": 47,
   "id": "5990b78c",
   "metadata": {},
   "outputs": [
    {
     "data": {
      "text/plain": [
       "0"
      ]
     },
     "execution_count": 47,
     "metadata": {},
     "output_type": "execute_result"
    }
   ],
   "source": [
    "bank_df.duplicated().sum()"
   ]
  },
  {
   "cell_type": "markdown",
   "id": "c14239bb",
   "metadata": {},
   "source": [
    "### Выводы:  <a class=\"tocSkip\">\n",
    "В таблице устранили дубликаты: теперь наглядно видны 5 групп в столбце об образовании, выдвинули гипотезу о проихождении дубликатов, предложили варианты решения будующих проблем "
   ]
  },
  {
   "cell_type": "markdown",
   "id": "b7038e06",
   "metadata": {},
   "source": [
    "<div class=\"alert alert-block alert-danger\">\n",
    "<b>Комментарий ревьюера❌:</b> Суть неявных дубликатов немного в другом. В таблице могут содержаться абсолютно одинаковые строки, но с значениями education в разных регистрах (например СРЕДНЕЕ и среднее). В таком случае методы duplicated() и drop_duplicates() не найдут дубликат. Чтобы корректно избавиться от дубликатов необходимо:\n",
    "\n",
    "1. Исправить неявные дубликаты в столбце education \n",
    "\n",
    "2. Посчитать общее число дубликатов в таблице\n",
    "\n",
    "3. Удалить дубликаты из данных\n",
    "\n",
    "4. Провести проверку и убедиться, что дубликаты удалены</div>"
   ]
  },
  {
   "cell_type": "markdown",
   "id": "20723f5b",
   "metadata": {},
   "source": [
    "<div class=\"alert alert-block alert-info\">\n",
    "Понял, сначала обрабатываем неявные дубликаты, потом удаляем явные\n",
    "\n",
    "Исправил ☑️"
   ]
  },
  {
   "cell_type": "markdown",
   "id": "6572214b",
   "metadata": {},
   "source": [
    "<div class=\"alert alert-block alert-success\">\n",
    "<b>Комментарий ревьюера_v2✅:</b> Другое дело🔥 </div>"
   ]
  },
  {
   "cell_type": "markdown",
   "id": "15c88465",
   "metadata": {},
   "source": [
    "### Оптимизация таблицы"
   ]
  },
  {
   "cell_type": "markdown",
   "id": "f596fb3f",
   "metadata": {},
   "source": [
    "Для упращения визуальной работы с таблицей и уменьшения размера общего файла классифицируем данные в столлбцах об образовании и семеном положении\n",
    "Для начала разделим таблицу на две части:"
   ]
  },
  {
   "cell_type": "code",
   "execution_count": 48,
   "id": "8a58fe46",
   "metadata": {
    "scrolled": false
   },
   "outputs": [
    {
     "data": {
      "text/html": [
       "<div>\n",
       "<style scoped>\n",
       "    .dataframe tbody tr th:only-of-type {\n",
       "        vertical-align: middle;\n",
       "    }\n",
       "\n",
       "    .dataframe tbody tr th {\n",
       "        vertical-align: top;\n",
       "    }\n",
       "\n",
       "    .dataframe thead th {\n",
       "        text-align: right;\n",
       "    }\n",
       "</style>\n",
       "<table border=\"1\" class=\"dataframe\">\n",
       "  <thead>\n",
       "    <tr style=\"text-align: right;\">\n",
       "      <th></th>\n",
       "      <th>education_id</th>\n",
       "      <th>education</th>\n",
       "    </tr>\n",
       "  </thead>\n",
       "  <tbody>\n",
       "    <tr>\n",
       "      <th>0</th>\n",
       "      <td>0</td>\n",
       "      <td>высшее</td>\n",
       "    </tr>\n",
       "    <tr>\n",
       "      <th>1</th>\n",
       "      <td>1</td>\n",
       "      <td>среднее</td>\n",
       "    </tr>\n",
       "    <tr>\n",
       "      <th>2</th>\n",
       "      <td>1</td>\n",
       "      <td>среднее</td>\n",
       "    </tr>\n",
       "    <tr>\n",
       "      <th>3</th>\n",
       "      <td>1</td>\n",
       "      <td>среднее</td>\n",
       "    </tr>\n",
       "    <tr>\n",
       "      <th>4</th>\n",
       "      <td>1</td>\n",
       "      <td>среднее</td>\n",
       "    </tr>\n",
       "  </tbody>\n",
       "</table>\n",
       "</div>"
      ],
      "text/plain": [
       "   education_id education\n",
       "0             0    высшее\n",
       "1             1   среднее\n",
       "2             1   среднее\n",
       "3             1   среднее\n",
       "4             1   среднее"
      ]
     },
     "execution_count": 48,
     "metadata": {},
     "output_type": "execute_result"
    }
   ],
   "source": [
    "# создадим новый датфрейм с названием education_glossary\n",
    "# выведем на экран первые 5 строк \n",
    "education_glossary = bank_df[['education_id', 'education']]\n",
    "education_glossary.head()\n"
   ]
  },
  {
   "cell_type": "markdown",
   "id": "ce938e44",
   "metadata": {},
   "source": [
    "Выше полуили таблицу для значений об образовании, повтроим аналогичное действие для столбца о семейном положении:"
   ]
  },
  {
   "cell_type": "code",
   "execution_count": 49,
   "id": "aecc3e89",
   "metadata": {
    "scrolled": false
   },
   "outputs": [
    {
     "data": {
      "text/html": [
       "<div>\n",
       "<style scoped>\n",
       "    .dataframe tbody tr th:only-of-type {\n",
       "        vertical-align: middle;\n",
       "    }\n",
       "\n",
       "    .dataframe tbody tr th {\n",
       "        vertical-align: top;\n",
       "    }\n",
       "\n",
       "    .dataframe thead th {\n",
       "        text-align: right;\n",
       "    }\n",
       "</style>\n",
       "<table border=\"1\" class=\"dataframe\">\n",
       "  <thead>\n",
       "    <tr style=\"text-align: right;\">\n",
       "      <th></th>\n",
       "      <th>family_status_id</th>\n",
       "      <th>family_status</th>\n",
       "    </tr>\n",
       "  </thead>\n",
       "  <tbody>\n",
       "    <tr>\n",
       "      <th>0</th>\n",
       "      <td>0</td>\n",
       "      <td>женат / замужем</td>\n",
       "    </tr>\n",
       "    <tr>\n",
       "      <th>1</th>\n",
       "      <td>0</td>\n",
       "      <td>женат / замужем</td>\n",
       "    </tr>\n",
       "    <tr>\n",
       "      <th>2</th>\n",
       "      <td>0</td>\n",
       "      <td>женат / замужем</td>\n",
       "    </tr>\n",
       "    <tr>\n",
       "      <th>3</th>\n",
       "      <td>0</td>\n",
       "      <td>женат / замужем</td>\n",
       "    </tr>\n",
       "    <tr>\n",
       "      <th>4</th>\n",
       "      <td>1</td>\n",
       "      <td>гражданский брак</td>\n",
       "    </tr>\n",
       "  </tbody>\n",
       "</table>\n",
       "</div>"
      ],
      "text/plain": [
       "   family_status_id     family_status\n",
       "0                 0   женат / замужем\n",
       "1                 0   женат / замужем\n",
       "2                 0   женат / замужем\n",
       "3                 0   женат / замужем\n",
       "4                 1  гражданский брак"
      ]
     },
     "execution_count": 49,
     "metadata": {},
     "output_type": "execute_result"
    }
   ],
   "source": [
    "# создадим новый датфрейм с названием family_glossary\n",
    "# выведем на экран первые 5 строк \n",
    "family_glossary = bank_df[['family_status_id', 'family_status']]\n",
    "family_glossary.head()"
   ]
  },
  {
   "cell_type": "markdown",
   "id": "cc284ef9",
   "metadata": {},
   "source": [
    "Получили 2 датафрейма, что бы завершить создания из них словарей для общей таблицы, удалим из них дубликаты\n",
    "Для данных об образовании:"
   ]
  },
  {
   "cell_type": "code",
   "execution_count": 50,
   "id": "d2177d7e",
   "metadata": {
    "scrolled": true
   },
   "outputs": [
    {
     "data": {
      "text/html": [
       "<div>\n",
       "<style scoped>\n",
       "    .dataframe tbody tr th:only-of-type {\n",
       "        vertical-align: middle;\n",
       "    }\n",
       "\n",
       "    .dataframe tbody tr th {\n",
       "        vertical-align: top;\n",
       "    }\n",
       "\n",
       "    .dataframe thead th {\n",
       "        text-align: right;\n",
       "    }\n",
       "</style>\n",
       "<table border=\"1\" class=\"dataframe\">\n",
       "  <thead>\n",
       "    <tr style=\"text-align: right;\">\n",
       "      <th></th>\n",
       "      <th>education_id</th>\n",
       "      <th>education</th>\n",
       "    </tr>\n",
       "  </thead>\n",
       "  <tbody>\n",
       "    <tr>\n",
       "      <th>0</th>\n",
       "      <td>0</td>\n",
       "      <td>высшее</td>\n",
       "    </tr>\n",
       "    <tr>\n",
       "      <th>1</th>\n",
       "      <td>1</td>\n",
       "      <td>среднее</td>\n",
       "    </tr>\n",
       "    <tr>\n",
       "      <th>2</th>\n",
       "      <td>2</td>\n",
       "      <td>неоконченное высшее</td>\n",
       "    </tr>\n",
       "    <tr>\n",
       "      <th>3</th>\n",
       "      <td>3</td>\n",
       "      <td>начальное</td>\n",
       "    </tr>\n",
       "    <tr>\n",
       "      <th>4</th>\n",
       "      <td>4</td>\n",
       "      <td>ученая степень</td>\n",
       "    </tr>\n",
       "  </tbody>\n",
       "</table>\n",
       "</div>"
      ],
      "text/plain": [
       "   education_id            education\n",
       "0             0               высшее\n",
       "1             1              среднее\n",
       "2             2  неоконченное высшее\n",
       "3             3            начальное\n",
       "4             4       ученая степень"
      ]
     },
     "execution_count": 50,
     "metadata": {},
     "output_type": "execute_result"
    }
   ],
   "source": [
    "education_glossary = education_glossary.drop_duplicates().reset_index(drop=True)\n",
    "education_glossary"
   ]
  },
  {
   "cell_type": "markdown",
   "id": "99e54e3f",
   "metadata": {},
   "source": [
    "Для данных о семейном положении:"
   ]
  },
  {
   "cell_type": "code",
   "execution_count": 51,
   "id": "5ed6d68e",
   "metadata": {
    "scrolled": true
   },
   "outputs": [
    {
     "data": {
      "text/html": [
       "<div>\n",
       "<style scoped>\n",
       "    .dataframe tbody tr th:only-of-type {\n",
       "        vertical-align: middle;\n",
       "    }\n",
       "\n",
       "    .dataframe tbody tr th {\n",
       "        vertical-align: top;\n",
       "    }\n",
       "\n",
       "    .dataframe thead th {\n",
       "        text-align: right;\n",
       "    }\n",
       "</style>\n",
       "<table border=\"1\" class=\"dataframe\">\n",
       "  <thead>\n",
       "    <tr style=\"text-align: right;\">\n",
       "      <th></th>\n",
       "      <th>family_status_id</th>\n",
       "      <th>family_status</th>\n",
       "    </tr>\n",
       "  </thead>\n",
       "  <tbody>\n",
       "    <tr>\n",
       "      <th>0</th>\n",
       "      <td>0</td>\n",
       "      <td>женат / замужем</td>\n",
       "    </tr>\n",
       "    <tr>\n",
       "      <th>1</th>\n",
       "      <td>1</td>\n",
       "      <td>гражданский брак</td>\n",
       "    </tr>\n",
       "    <tr>\n",
       "      <th>2</th>\n",
       "      <td>2</td>\n",
       "      <td>вдовец / вдова</td>\n",
       "    </tr>\n",
       "    <tr>\n",
       "      <th>3</th>\n",
       "      <td>3</td>\n",
       "      <td>в разводе</td>\n",
       "    </tr>\n",
       "    <tr>\n",
       "      <th>4</th>\n",
       "      <td>4</td>\n",
       "      <td>не женат / не замужем</td>\n",
       "    </tr>\n",
       "  </tbody>\n",
       "</table>\n",
       "</div>"
      ],
      "text/plain": [
       "   family_status_id          family_status\n",
       "0                 0        женат / замужем\n",
       "1                 1       гражданский брак\n",
       "2                 2         вдовец / вдова\n",
       "3                 3              в разводе\n",
       "4                 4  не женат / не замужем"
      ]
     },
     "execution_count": 51,
     "metadata": {},
     "output_type": "execute_result"
    }
   ],
   "source": [
    "family_glossary = family_glossary.drop_duplicates().reset_index(drop=True)\n",
    "family_glossary"
   ]
  },
  {
   "cell_type": "markdown",
   "id": "1ef62a32",
   "metadata": {},
   "source": [
    "Получили 2 'словаря', содержащие по 4 значения, что значительно сокращает объём занимаемой памяти в таблице, из исходной таблицы удалим значения `education` и `family_status`, оставив только их иденнтификаторы"
   ]
  },
  {
   "cell_type": "code",
   "execution_count": 52,
   "id": "21cb0568",
   "metadata": {},
   "outputs": [],
   "source": [
    "# применим метод drop, для axis установим знаечние - 1 для удаления всего столбцы\n",
    "bank_df = bank_df.drop('education', 1)\n",
    "bank_df = bank_df.drop('family_status', 1)"
   ]
  },
  {
   "cell_type": "markdown",
   "id": "367adae7",
   "metadata": {},
   "source": [
    "Проверим, какие колонки остались в таблице после удаления и колличество занимаемой памяти: "
   ]
  },
  {
   "cell_type": "code",
   "execution_count": 53,
   "id": "c77bb4c5",
   "metadata": {
    "scrolled": true
   },
   "outputs": [
    {
     "name": "stdout",
     "output_type": "stream",
     "text": [
      "<class 'pandas.core.frame.DataFrame'>\n",
      "RangeIndex: 21453 entries, 0 to 21452\n",
      "Data columns (total 10 columns):\n",
      " #   Column            Non-Null Count  Dtype  \n",
      "---  ------            --------------  -----  \n",
      " 0   children          21453 non-null  int64  \n",
      " 1   days_employed     21453 non-null  int64  \n",
      " 2   dob_years         21453 non-null  float64\n",
      " 3   education_id      21453 non-null  int64  \n",
      " 4   family_status_id  21453 non-null  int64  \n",
      " 5   gender            21453 non-null  object \n",
      " 6   income_type       21453 non-null  object \n",
      " 7   debt              21453 non-null  bool   \n",
      " 8   total_income      21453 non-null  int64  \n",
      " 9   purpose           21453 non-null  object \n",
      "dtypes: bool(1), float64(1), int64(5), object(3)\n",
      "memory usage: 1.5+ MB\n"
     ]
    }
   ],
   "source": [
    "bank_df.info()"
   ]
  },
  {
   "cell_type": "markdown",
   "id": "bb45fb80",
   "metadata": {},
   "source": [
    "Проверим, как теперь отображается таблица:"
   ]
  },
  {
   "cell_type": "code",
   "execution_count": 54,
   "id": "9b49db5f",
   "metadata": {
    "scrolled": true
   },
   "outputs": [
    {
     "data": {
      "text/html": [
       "<div>\n",
       "<style scoped>\n",
       "    .dataframe tbody tr th:only-of-type {\n",
       "        vertical-align: middle;\n",
       "    }\n",
       "\n",
       "    .dataframe tbody tr th {\n",
       "        vertical-align: top;\n",
       "    }\n",
       "\n",
       "    .dataframe thead th {\n",
       "        text-align: right;\n",
       "    }\n",
       "</style>\n",
       "<table border=\"1\" class=\"dataframe\">\n",
       "  <thead>\n",
       "    <tr style=\"text-align: right;\">\n",
       "      <th></th>\n",
       "      <th>children</th>\n",
       "      <th>days_employed</th>\n",
       "      <th>dob_years</th>\n",
       "      <th>education_id</th>\n",
       "      <th>family_status_id</th>\n",
       "      <th>gender</th>\n",
       "      <th>income_type</th>\n",
       "      <th>debt</th>\n",
       "      <th>total_income</th>\n",
       "      <th>purpose</th>\n",
       "    </tr>\n",
       "  </thead>\n",
       "  <tbody>\n",
       "    <tr>\n",
       "      <th>0</th>\n",
       "      <td>1</td>\n",
       "      <td>8437</td>\n",
       "      <td>42.0</td>\n",
       "      <td>0</td>\n",
       "      <td>0</td>\n",
       "      <td>F</td>\n",
       "      <td>сотрудник</td>\n",
       "      <td>False</td>\n",
       "      <td>253875</td>\n",
       "      <td>покупка жилья</td>\n",
       "    </tr>\n",
       "    <tr>\n",
       "      <th>1</th>\n",
       "      <td>1</td>\n",
       "      <td>4024</td>\n",
       "      <td>36.0</td>\n",
       "      <td>1</td>\n",
       "      <td>0</td>\n",
       "      <td>F</td>\n",
       "      <td>сотрудник</td>\n",
       "      <td>False</td>\n",
       "      <td>112080</td>\n",
       "      <td>приобретение автомобиля</td>\n",
       "    </tr>\n",
       "    <tr>\n",
       "      <th>2</th>\n",
       "      <td>0</td>\n",
       "      <td>5623</td>\n",
       "      <td>33.0</td>\n",
       "      <td>1</td>\n",
       "      <td>0</td>\n",
       "      <td>M</td>\n",
       "      <td>сотрудник</td>\n",
       "      <td>False</td>\n",
       "      <td>145885</td>\n",
       "      <td>покупка жилья</td>\n",
       "    </tr>\n",
       "    <tr>\n",
       "      <th>3</th>\n",
       "      <td>3</td>\n",
       "      <td>4124</td>\n",
       "      <td>32.0</td>\n",
       "      <td>1</td>\n",
       "      <td>0</td>\n",
       "      <td>M</td>\n",
       "      <td>сотрудник</td>\n",
       "      <td>False</td>\n",
       "      <td>267628</td>\n",
       "      <td>дополнительное образование</td>\n",
       "    </tr>\n",
       "    <tr>\n",
       "      <th>4</th>\n",
       "      <td>0</td>\n",
       "      <td>14177</td>\n",
       "      <td>53.0</td>\n",
       "      <td>1</td>\n",
       "      <td>1</td>\n",
       "      <td>F</td>\n",
       "      <td>пенсионер</td>\n",
       "      <td>False</td>\n",
       "      <td>158616</td>\n",
       "      <td>сыграть свадьбу</td>\n",
       "    </tr>\n",
       "  </tbody>\n",
       "</table>\n",
       "</div>"
      ],
      "text/plain": [
       "   children  days_employed  dob_years  education_id  family_status_id gender  \\\n",
       "0         1           8437       42.0             0                 0      F   \n",
       "1         1           4024       36.0             1                 0      F   \n",
       "2         0           5623       33.0             1                 0      M   \n",
       "3         3           4124       32.0             1                 0      M   \n",
       "4         0          14177       53.0             1                 1      F   \n",
       "\n",
       "  income_type   debt  total_income                     purpose  \n",
       "0   сотрудник  False        253875               покупка жилья  \n",
       "1   сотрудник  False        112080     приобретение автомобиля  \n",
       "2   сотрудник  False        145885               покупка жилья  \n",
       "3   сотрудник  False        267628  дополнительное образование  \n",
       "4   пенсионер  False        158616             сыграть свадьбу  "
      ]
     },
     "metadata": {},
     "output_type": "display_data"
    }
   ],
   "source": [
    "display(bank_df.head())"
   ]
  },
  {
   "cell_type": "markdown",
   "id": "16a08047",
   "metadata": {},
   "source": [
    "### Выводы:  <a class=\"tocSkip\">\n",
    "Оптимизировали таблицу:\n",
    "1. Таблица стала \"компактнее\", данные об образовании и семейном статусе, теперь содержат только номера id, при необходимости соотвтствие номеру можно найти в созданных словарях \n",
    "2. Сокращён объём занимаемой памяти, т.к. были удален строковые значения "
   ]
  },
  {
   "cell_type": "markdown",
   "id": "ac4156b2",
   "metadata": {},
   "source": [
    "<div class=\"alert alert-block alert-danger\">\n",
    "<b>Комментарий ревьюера❌:</b> Словари сформированы верно, в задании нас просили удалить лишние столбцы, это мы тоже сделали. Я не совсем понял, зачем мы обратно присоединили столбцы с значенями к таблице. Суть словаря в том, чтобы в главной таблице хранить числа (занимают меньше памяти чем строки), и при надобности обрашаться к строковым значениям из словаря."
   ]
  },
  {
   "cell_type": "markdown",
   "id": "64d1b1cc",
   "metadata": {},
   "source": [
    "<div class=\"alert alert-block alert-info\">\n",
    "Исправил, но я немного не понял практического применения. Получается еднситвенная функция это сокращение объёма занимаемой памяти? Мне таблицу, например, только сложнее стало читать. Например, я точно, не помню, что означает цифра 3 в столбце `family_status_id` и мне приходится тратить лишнее время, что бы найти свой \"словарь\" вместо того, что бы сразу в таблице это увидеть? 👀"
   ]
  },
  {
   "cell_type": "markdown",
   "id": "30843a68",
   "metadata": {},
   "source": [
    "<div class=\"alert alert-block alert-success\">\n",
    "<b>Комментарий ревьюера_v2✅:</b> В нашем случае эта операция и правда не имеет особого смысла, но мы всего лишь тренируемся) В реальной работе нам придется работать с большими таблицами, когда мы будем обрабатывать 10 млн строк, такие словари очень хорошо себя покажут в плане производительности) </div>"
   ]
  },
  {
   "cell_type": "markdown",
   "id": "ba9b6855",
   "metadata": {},
   "source": [
    "### Категоризация данных"
   ]
  },
  {
   "cell_type": "markdown",
   "id": "c5f490cb",
   "metadata": {},
   "source": [
    "#### Категоризация по ежемесячному доходу"
   ]
  },
  {
   "cell_type": "markdown",
   "id": "402622b1",
   "metadata": {},
   "source": [
    "Для удобства анализа данных по статье ежемесячного дохода установим следующие группы:\n",
    "* 0–30000 — `E`;\n",
    "* 30001–50000 — `D`;\n",
    "* 50001–200000 — `C`;\n",
    "* 200001–1000000 — `B`;\n",
    "* 1000001 и выше — `A`."
   ]
  },
  {
   "cell_type": "code",
   "execution_count": 55,
   "id": "ba051062",
   "metadata": {},
   "outputs": [],
   "source": [
    "# объвили функцию total_income_group, которая содержит значиния total_income\n",
    "# в теле функции 4 условия, согласно которым возвращается соответствующее значение\n",
    "def total_income_group(total_income):\n",
    "    if total_income <= 30000:\n",
    "        return 'E'\n",
    "    if 30001 <= total_income <= 50000:\n",
    "        return 'D'\n",
    "    if 50001 <= total_income <= 200000:\n",
    "        return 'C'\n",
    "    if 200001 <= total_income <= 1000000:\n",
    "        return 'B'\n",
    "    else:\n",
    "        return 'A'"
   ]
  },
  {
   "cell_type": "markdown",
   "id": "dd943024",
   "metadata": {},
   "source": [
    "Проверим роботоспрособность функции для каждого дипазон"
   ]
  },
  {
   "cell_type": "code",
   "execution_count": 56,
   "id": "f33b9763",
   "metadata": {},
   "outputs": [
    {
     "name": "stdout",
     "output_type": "stream",
     "text": [
      "E\n",
      "D\n",
      "C\n",
      "B\n",
      "A\n"
     ]
    }
   ],
   "source": [
    "print(total_income_group(100))\n",
    "print(total_income_group(35000)) \n",
    "print(total_income_group(55500)) \n",
    "print(total_income_group(500000)) \n",
    "print(total_income_group(2000000)) "
   ]
  },
  {
   "cell_type": "markdown",
   "id": "3a473d0a",
   "metadata": {},
   "source": [
    "Функция работает корретно для всех значений, добавим столбец с значениями в таблицу:"
   ]
  },
  {
   "cell_type": "code",
   "execution_count": 57,
   "id": "5f51b5e1",
   "metadata": {},
   "outputs": [],
   "source": [
    "bank_df['total_income_group'] = bank_df['total_income'].apply(total_income_group)"
   ]
  },
  {
   "cell_type": "code",
   "execution_count": 58,
   "id": "38105773",
   "metadata": {
    "scrolled": false
   },
   "outputs": [
    {
     "data": {
      "text/html": [
       "<div>\n",
       "<style scoped>\n",
       "    .dataframe tbody tr th:only-of-type {\n",
       "        vertical-align: middle;\n",
       "    }\n",
       "\n",
       "    .dataframe tbody tr th {\n",
       "        vertical-align: top;\n",
       "    }\n",
       "\n",
       "    .dataframe thead th {\n",
       "        text-align: right;\n",
       "    }\n",
       "</style>\n",
       "<table border=\"1\" class=\"dataframe\">\n",
       "  <thead>\n",
       "    <tr style=\"text-align: right;\">\n",
       "      <th></th>\n",
       "      <th>children</th>\n",
       "      <th>days_employed</th>\n",
       "      <th>dob_years</th>\n",
       "      <th>education_id</th>\n",
       "      <th>family_status_id</th>\n",
       "      <th>gender</th>\n",
       "      <th>income_type</th>\n",
       "      <th>debt</th>\n",
       "      <th>total_income</th>\n",
       "      <th>purpose</th>\n",
       "      <th>total_income_group</th>\n",
       "    </tr>\n",
       "  </thead>\n",
       "  <tbody>\n",
       "    <tr>\n",
       "      <th>0</th>\n",
       "      <td>1</td>\n",
       "      <td>8437</td>\n",
       "      <td>42.0</td>\n",
       "      <td>0</td>\n",
       "      <td>0</td>\n",
       "      <td>F</td>\n",
       "      <td>сотрудник</td>\n",
       "      <td>False</td>\n",
       "      <td>253875</td>\n",
       "      <td>покупка жилья</td>\n",
       "      <td>B</td>\n",
       "    </tr>\n",
       "    <tr>\n",
       "      <th>1</th>\n",
       "      <td>1</td>\n",
       "      <td>4024</td>\n",
       "      <td>36.0</td>\n",
       "      <td>1</td>\n",
       "      <td>0</td>\n",
       "      <td>F</td>\n",
       "      <td>сотрудник</td>\n",
       "      <td>False</td>\n",
       "      <td>112080</td>\n",
       "      <td>приобретение автомобиля</td>\n",
       "      <td>C</td>\n",
       "    </tr>\n",
       "    <tr>\n",
       "      <th>2</th>\n",
       "      <td>0</td>\n",
       "      <td>5623</td>\n",
       "      <td>33.0</td>\n",
       "      <td>1</td>\n",
       "      <td>0</td>\n",
       "      <td>M</td>\n",
       "      <td>сотрудник</td>\n",
       "      <td>False</td>\n",
       "      <td>145885</td>\n",
       "      <td>покупка жилья</td>\n",
       "      <td>C</td>\n",
       "    </tr>\n",
       "    <tr>\n",
       "      <th>3</th>\n",
       "      <td>3</td>\n",
       "      <td>4124</td>\n",
       "      <td>32.0</td>\n",
       "      <td>1</td>\n",
       "      <td>0</td>\n",
       "      <td>M</td>\n",
       "      <td>сотрудник</td>\n",
       "      <td>False</td>\n",
       "      <td>267628</td>\n",
       "      <td>дополнительное образование</td>\n",
       "      <td>B</td>\n",
       "    </tr>\n",
       "    <tr>\n",
       "      <th>4</th>\n",
       "      <td>0</td>\n",
       "      <td>14177</td>\n",
       "      <td>53.0</td>\n",
       "      <td>1</td>\n",
       "      <td>1</td>\n",
       "      <td>F</td>\n",
       "      <td>пенсионер</td>\n",
       "      <td>False</td>\n",
       "      <td>158616</td>\n",
       "      <td>сыграть свадьбу</td>\n",
       "      <td>C</td>\n",
       "    </tr>\n",
       "  </tbody>\n",
       "</table>\n",
       "</div>"
      ],
      "text/plain": [
       "   children  days_employed  dob_years  education_id  family_status_id gender  \\\n",
       "0         1           8437       42.0             0                 0      F   \n",
       "1         1           4024       36.0             1                 0      F   \n",
       "2         0           5623       33.0             1                 0      M   \n",
       "3         3           4124       32.0             1                 0      M   \n",
       "4         0          14177       53.0             1                 1      F   \n",
       "\n",
       "  income_type   debt  total_income                     purpose  \\\n",
       "0   сотрудник  False        253875               покупка жилья   \n",
       "1   сотрудник  False        112080     приобретение автомобиля   \n",
       "2   сотрудник  False        145885               покупка жилья   \n",
       "3   сотрудник  False        267628  дополнительное образование   \n",
       "4   пенсионер  False        158616             сыграть свадьбу   \n",
       "\n",
       "  total_income_group  \n",
       "0                  B  \n",
       "1                  C  \n",
       "2                  C  \n",
       "3                  B  \n",
       "4                  C  "
      ]
     },
     "metadata": {},
     "output_type": "display_data"
    }
   ],
   "source": [
    "display(bank_df.head()) "
   ]
  },
  {
   "cell_type": "markdown",
   "id": "5d881a00",
   "metadata": {},
   "source": [
    "<div class=\"alert alert-block alert-success\">\n",
    "<b>Комментарий ревьюера✅:</b> Функция написана верно, круто что результат ее выполнения проверен👍"
   ]
  },
  {
   "cell_type": "markdown",
   "id": "c2a524d9",
   "metadata": {},
   "source": [
    "#### Категоризация по целям кредита"
   ]
  },
  {
   "cell_type": "markdown",
   "id": "c11737fc",
   "metadata": {},
   "source": [
    "В столбце цели кредита есть множество значений, которые содержат значения которые можно отнести к дубликатам, их можно разделить на 4 категории: \n",
    "* `операции с автомобилем`;\n",
    "* `операции с недвижимостью`;\n",
    "* `проведение свадьбы`; \n",
    "* `получение образования`.\n",
    "\n",
    "Посмотрим какие уникальные значение содержит столбец `purpose`: "
   ]
  },
  {
   "cell_type": "code",
   "execution_count": 59,
   "id": "f84b4cc5",
   "metadata": {},
   "outputs": [
    {
     "data": {
      "text/plain": [
       "свадьба                                   791\n",
       "на проведение свадьбы                     768\n",
       "сыграть свадьбу                           765\n",
       "операции с недвижимостью                  675\n",
       "покупка коммерческой недвижимости         661\n",
       "операции с жильем                         652\n",
       "покупка жилья для сдачи                   651\n",
       "операции с коммерческой недвижимостью     650\n",
       "жилье                                     646\n",
       "покупка жилья                             646\n",
       "покупка жилья для семьи                   638\n",
       "строительство собственной недвижимости    635\n",
       "недвижимость                              633\n",
       "операции со своей недвижимостью           627\n",
       "строительство жилой недвижимости          624\n",
       "покупка своего жилья                      620\n",
       "покупка недвижимости                      620\n",
       "строительство недвижимости                619\n",
       "ремонт жилью                              607\n",
       "покупка жилой недвижимости                606\n",
       "на покупку своего автомобиля              505\n",
       "заняться высшим образованием              496\n",
       "автомобиль                                494\n",
       "сделка с подержанным автомобилем          486\n",
       "свой автомобиль                           478\n",
       "на покупку подержанного автомобиля        478\n",
       "автомобили                                478\n",
       "на покупку автомобиля                     471\n",
       "приобретение автомобиля                   461\n",
       "дополнительное образование                460\n",
       "сделка с автомобилем                      455\n",
       "высшее образование                        452\n",
       "образование                               447\n",
       "получение дополнительного образования     446\n",
       "получение образования                     442\n",
       "профильное образование                    436\n",
       "получение высшего образования             426\n",
       "заняться образованием                     408\n",
       "Name: purpose, dtype: int64"
      ]
     },
     "execution_count": 59,
     "metadata": {},
     "output_type": "execute_result"
    }
   ],
   "source": [
    "bank_df['purpose'].value_counts()"
   ]
  },
  {
   "cell_type": "markdown",
   "id": "2fb8f2ed",
   "metadata": {},
   "source": [
    "Созадим функцию которая будет возвращать значения в отдельный столбец с категориями:"
   ]
  },
  {
   "cell_type": "code",
   "execution_count": 60,
   "id": "7fe35423",
   "metadata": {},
   "outputs": [],
   "source": [
    "# объявяили функцию \"purpose_category\" которая содержит значения \"purpose\"\n",
    "# в теле функции 4 услвоия которые проверют значения по корню слова\n",
    "# и 5е значение для неопределенных значений \n",
    "def purpose_category(purpose): \n",
    "    if ('вадьба' in purpose or\n",
    "        'ыграть' in purpose or\n",
    "        'ровести'in purpose or\n",
    "       'свадьбы' in purpose):\n",
    "        return 'сыграть свадьбу'\n",
    "    if ('авто' in purpose or\n",
    "       'машин' in purpose):\n",
    "        return 'операции с автомобилем'\n",
    "    if ('образ' in purpose or\n",
    "       'обуч' in purpose or\n",
    "       'учёб' in purpose or\n",
    "       'учеб' in purpose):\n",
    "        return 'получение образования'\n",
    "    if ('ремонт' in purpose or\n",
    "       'недвиж' in purpose or\n",
    "       'дом' in purpose or\n",
    "       'квартира' in purpose or\n",
    "       'жил' in purpose):\n",
    "        return 'операции с недвижимостью'\n",
    "    else:\n",
    "        return 'категория не опредлена'\n",
    "  \n",
    "        \n",
    "    "
   ]
  },
  {
   "cell_type": "markdown",
   "id": "1fc86ab9",
   "metadata": {},
   "source": [
    "Проверим работы функции для некоторых значение:"
   ]
  },
  {
   "cell_type": "code",
   "execution_count": 61,
   "id": "a6a7e9a6",
   "metadata": {
    "scrolled": true
   },
   "outputs": [
    {
     "name": "stdout",
     "output_type": "stream",
     "text": [
      "сыграть свадьбу\n",
      "операции с автомобилем\n",
      "получение образования\n",
      "категория не опредлена\n"
     ]
    }
   ],
   "source": [
    "print(purpose_category('на проведение свадьбы ')) \n",
    "print(purpose_category('сделка с подержанным автомобилем'))  \n",
    "print(purpose_category('обучение в Яндекс.Практикуме')) \n",
    "print(purpose_category('полёт в космос')) "
   ]
  },
  {
   "cell_type": "markdown",
   "id": "268bfe41",
   "metadata": {},
   "source": [
    "По анаалогии с категоризацией по ежемесячному доходу, добавим новый столбец `purpose_category`:"
   ]
  },
  {
   "cell_type": "code",
   "execution_count": 62,
   "id": "42a54cba",
   "metadata": {},
   "outputs": [],
   "source": [
    "bank_df['purpose_category'] = bank_df['purpose'].apply(purpose_category)"
   ]
  },
  {
   "cell_type": "markdown",
   "id": "54430a70",
   "metadata": {},
   "source": [
    "Проверим есть ли строки с неопределенной категорией: "
   ]
  },
  {
   "cell_type": "code",
   "execution_count": 63,
   "id": "64056f08",
   "metadata": {
    "scrolled": false
   },
   "outputs": [
    {
     "data": {
      "text/plain": [
       "Series([], Name: purpose, dtype: object)"
      ]
     },
     "execution_count": 63,
     "metadata": {},
     "output_type": "execute_result"
    }
   ],
   "source": [
    "bank_df.loc[bank_df['purpose_category'] == 'категория не опредлена', 'purpose']"
   ]
  },
  {
   "cell_type": "markdown",
   "id": "6a6fd980",
   "metadata": {},
   "source": [
    "Все указаные цели были отнесены к заданным категориям, т.к. нет значний с непоределенной категорией,  выведем итоговую таблицу на экран:"
   ]
  },
  {
   "cell_type": "code",
   "execution_count": 64,
   "id": "7fbdcad1",
   "metadata": {
    "scrolled": true
   },
   "outputs": [
    {
     "data": {
      "text/html": [
       "<div>\n",
       "<style scoped>\n",
       "    .dataframe tbody tr th:only-of-type {\n",
       "        vertical-align: middle;\n",
       "    }\n",
       "\n",
       "    .dataframe tbody tr th {\n",
       "        vertical-align: top;\n",
       "    }\n",
       "\n",
       "    .dataframe thead th {\n",
       "        text-align: right;\n",
       "    }\n",
       "</style>\n",
       "<table border=\"1\" class=\"dataframe\">\n",
       "  <thead>\n",
       "    <tr style=\"text-align: right;\">\n",
       "      <th></th>\n",
       "      <th>children</th>\n",
       "      <th>days_employed</th>\n",
       "      <th>dob_years</th>\n",
       "      <th>education_id</th>\n",
       "      <th>family_status_id</th>\n",
       "      <th>gender</th>\n",
       "      <th>income_type</th>\n",
       "      <th>debt</th>\n",
       "      <th>total_income</th>\n",
       "      <th>purpose</th>\n",
       "      <th>total_income_group</th>\n",
       "      <th>purpose_category</th>\n",
       "    </tr>\n",
       "  </thead>\n",
       "  <tbody>\n",
       "    <tr>\n",
       "      <th>0</th>\n",
       "      <td>1</td>\n",
       "      <td>8437</td>\n",
       "      <td>42.0</td>\n",
       "      <td>0</td>\n",
       "      <td>0</td>\n",
       "      <td>F</td>\n",
       "      <td>сотрудник</td>\n",
       "      <td>False</td>\n",
       "      <td>253875</td>\n",
       "      <td>покупка жилья</td>\n",
       "      <td>B</td>\n",
       "      <td>операции с недвижимостью</td>\n",
       "    </tr>\n",
       "    <tr>\n",
       "      <th>1</th>\n",
       "      <td>1</td>\n",
       "      <td>4024</td>\n",
       "      <td>36.0</td>\n",
       "      <td>1</td>\n",
       "      <td>0</td>\n",
       "      <td>F</td>\n",
       "      <td>сотрудник</td>\n",
       "      <td>False</td>\n",
       "      <td>112080</td>\n",
       "      <td>приобретение автомобиля</td>\n",
       "      <td>C</td>\n",
       "      <td>операции с автомобилем</td>\n",
       "    </tr>\n",
       "    <tr>\n",
       "      <th>2</th>\n",
       "      <td>0</td>\n",
       "      <td>5623</td>\n",
       "      <td>33.0</td>\n",
       "      <td>1</td>\n",
       "      <td>0</td>\n",
       "      <td>M</td>\n",
       "      <td>сотрудник</td>\n",
       "      <td>False</td>\n",
       "      <td>145885</td>\n",
       "      <td>покупка жилья</td>\n",
       "      <td>C</td>\n",
       "      <td>операции с недвижимостью</td>\n",
       "    </tr>\n",
       "    <tr>\n",
       "      <th>3</th>\n",
       "      <td>3</td>\n",
       "      <td>4124</td>\n",
       "      <td>32.0</td>\n",
       "      <td>1</td>\n",
       "      <td>0</td>\n",
       "      <td>M</td>\n",
       "      <td>сотрудник</td>\n",
       "      <td>False</td>\n",
       "      <td>267628</td>\n",
       "      <td>дополнительное образование</td>\n",
       "      <td>B</td>\n",
       "      <td>получение образования</td>\n",
       "    </tr>\n",
       "    <tr>\n",
       "      <th>4</th>\n",
       "      <td>0</td>\n",
       "      <td>14177</td>\n",
       "      <td>53.0</td>\n",
       "      <td>1</td>\n",
       "      <td>1</td>\n",
       "      <td>F</td>\n",
       "      <td>пенсионер</td>\n",
       "      <td>False</td>\n",
       "      <td>158616</td>\n",
       "      <td>сыграть свадьбу</td>\n",
       "      <td>C</td>\n",
       "      <td>сыграть свадьбу</td>\n",
       "    </tr>\n",
       "  </tbody>\n",
       "</table>\n",
       "</div>"
      ],
      "text/plain": [
       "   children  days_employed  dob_years  education_id  family_status_id gender  \\\n",
       "0         1           8437       42.0             0                 0      F   \n",
       "1         1           4024       36.0             1                 0      F   \n",
       "2         0           5623       33.0             1                 0      M   \n",
       "3         3           4124       32.0             1                 0      M   \n",
       "4         0          14177       53.0             1                 1      F   \n",
       "\n",
       "  income_type   debt  total_income                     purpose  \\\n",
       "0   сотрудник  False        253875               покупка жилья   \n",
       "1   сотрудник  False        112080     приобретение автомобиля   \n",
       "2   сотрудник  False        145885               покупка жилья   \n",
       "3   сотрудник  False        267628  дополнительное образование   \n",
       "4   пенсионер  False        158616             сыграть свадьбу   \n",
       "\n",
       "  total_income_group          purpose_category  \n",
       "0                  B  операции с недвижимостью  \n",
       "1                  C    операции с автомобилем  \n",
       "2                  C  операции с недвижимостью  \n",
       "3                  B     получение образования  \n",
       "4                  C           сыграть свадьбу  "
      ]
     },
     "metadata": {},
     "output_type": "display_data"
    }
   ],
   "source": [
    "display(bank_df.head()) "
   ]
  },
  {
   "cell_type": "markdown",
   "id": "0927cb46",
   "metadata": {},
   "source": [
    "### Выводы:  <a class=\"tocSkip\">\n",
    "Добавили в таблицу 2 столбца, которые относят каждого клиента к определнной категори: таблица стала более информативна, а также пояивилась возможнсоть сравнивать данные по опредленным группам, находить закономерности в них и проч. возможности "
   ]
  },
  {
   "cell_type": "markdown",
   "id": "644dbcb2",
   "metadata": {},
   "source": [
    "<div class=\"alert alert-block alert-success\">\n",
    "<b>Комментарий ревьюера✅:</b> Отличная функция, результат ее выполнения проверен, молодец👍"
   ]
  },
  {
   "cell_type": "markdown",
   "id": "08f3de8f",
   "metadata": {},
   "source": [
    "### Вывод по разделу:  <a class=\"tocSkip\">\n",
    "    \n",
    "Данные успешно обработны, можно приступать к ответам на вопросы"
   ]
  },
  {
   "cell_type": "markdown",
   "id": "f4d697f0",
   "metadata": {},
   "source": [
    "## Ответы на вопросы:"
   ]
  },
  {
   "cell_type": "markdown",
   "id": "80e5af5a",
   "metadata": {},
   "source": [
    "### Есть ли зависимость между количеством детей и возвратом кредита в срок?"
   ]
  },
  {
   "cell_type": "markdown",
   "id": "18cf3dfe",
   "metadata": {},
   "source": [
    "Для наглядной демонстрации значений создадим сводные таблицы"
   ]
  },
  {
   "cell_type": "code",
   "execution_count": 65,
   "id": "e699230c",
   "metadata": {
    "scrolled": true
   },
   "outputs": [
    {
     "data": {
      "text/html": [
       "<div>\n",
       "<style scoped>\n",
       "    .dataframe tbody tr th:only-of-type {\n",
       "        vertical-align: middle;\n",
       "    }\n",
       "\n",
       "    .dataframe tbody tr th {\n",
       "        vertical-align: top;\n",
       "    }\n",
       "\n",
       "    .dataframe thead tr th {\n",
       "        text-align: left;\n",
       "    }\n",
       "\n",
       "    .dataframe thead tr:last-of-type th {\n",
       "        text-align: right;\n",
       "    }\n",
       "</style>\n",
       "<table border=\"1\" class=\"dataframe\">\n",
       "  <thead>\n",
       "    <tr>\n",
       "      <th></th>\n",
       "      <th>count</th>\n",
       "      <th>mean</th>\n",
       "    </tr>\n",
       "    <tr>\n",
       "      <th></th>\n",
       "      <th>debt</th>\n",
       "      <th>debt</th>\n",
       "    </tr>\n",
       "    <tr>\n",
       "      <th>children</th>\n",
       "      <th></th>\n",
       "      <th></th>\n",
       "    </tr>\n",
       "  </thead>\n",
       "  <tbody>\n",
       "    <tr>\n",
       "      <th>0</th>\n",
       "      <td>14090</td>\n",
       "      <td>0.075444</td>\n",
       "    </tr>\n",
       "    <tr>\n",
       "      <th>1</th>\n",
       "      <td>4855</td>\n",
       "      <td>0.091658</td>\n",
       "    </tr>\n",
       "    <tr>\n",
       "      <th>2</th>\n",
       "      <td>2128</td>\n",
       "      <td>0.094925</td>\n",
       "    </tr>\n",
       "    <tr>\n",
       "      <th>3</th>\n",
       "      <td>330</td>\n",
       "      <td>0.081818</td>\n",
       "    </tr>\n",
       "    <tr>\n",
       "      <th>4</th>\n",
       "      <td>41</td>\n",
       "      <td>0.097561</td>\n",
       "    </tr>\n",
       "    <tr>\n",
       "      <th>5</th>\n",
       "      <td>9</td>\n",
       "      <td>0.000000</td>\n",
       "    </tr>\n",
       "  </tbody>\n",
       "</table>\n",
       "</div>"
      ],
      "text/plain": [
       "          count      mean\n",
       "           debt      debt\n",
       "children                 \n",
       "0         14090  0.075444\n",
       "1          4855  0.091658\n",
       "2          2128  0.094925\n",
       "3           330  0.081818\n",
       "4            41  0.097561\n",
       "5             9  0.000000"
      ]
     },
     "execution_count": 65,
     "metadata": {},
     "output_type": "execute_result"
    }
   ],
   "source": [
    "#создадим сводную таблицу методом pivot_table() \n",
    "#выведем таблицу на экран\n",
    "pivot_children = bank_df.pivot_table(index='children', values= 'debt',  aggfunc=['count', 'mean'])\n",
    "pivot_children"
   ]
  },
  {
   "cell_type": "markdown",
   "id": "b9d7ef85",
   "metadata": {},
   "source": [
    "**Ответ:**\n",
    "\n",
    "Исходя, из сводной таблицы прослеживается следующая закономерность: клиенты не имеющие детей -  реже имеют задолженности, чем клиенты с хотя бы одним ребёнком"
   ]
  },
  {
   "cell_type": "markdown",
   "id": "f88e0446",
   "metadata": {},
   "source": [
    "<div class=\"alert alert-block alert-danger\">\n",
    "<b>Комментарий ревьюера❌:</b> Ответ на вопрос неверный, так как ты не совсем верно рассчитал долю должников. На самом деле в этом пункте нет ничего сложного. Для ответа на вопрос достаточно сформировать сводную таблицу, в которой в строках будет количество детей, а втолбцах count debt (количество клиентов) и mean debt (доля должников от общего количества клиентов).\n",
    "    \n",
    "При ответе на вопросы учитывай количество записей в той или иной группе😉 Категория клиентов с пятью детьми слишком мала - всего 9 клиентов. Это нерепрезентативная выборка, так что мы не можем утверждать, что клиенты с пятью детьми всегда возвращают долги. \n",
    "    \n",
    "Приведу пример таблицы в следующей ячейке"
   ]
  },
  {
   "cell_type": "markdown",
   "id": "701d78f3",
   "metadata": {},
   "source": [
    "<div class=\"alert alert-block alert-info\">\n",
    "Спасибо, исправил таблицы тут и далее, по-аналогии, попроавил ответы на вопросы и вывод по разделу ☑️"
   ]
  },
  {
   "cell_type": "markdown",
   "id": "012eaf33",
   "metadata": {},
   "source": [
    "<div class=\"alert alert-block alert-success\">\n",
    "<b>Комментарий ревьюера_v2✅:</b> 👍 </div>"
   ]
  },
  {
   "cell_type": "code",
   "execution_count": 66,
   "id": "df0ab0cc",
   "metadata": {
    "scrolled": false
   },
   "outputs": [
    {
     "data": {
      "text/html": [
       "<div>\n",
       "<style scoped>\n",
       "    .dataframe tbody tr th:only-of-type {\n",
       "        vertical-align: middle;\n",
       "    }\n",
       "\n",
       "    .dataframe tbody tr th {\n",
       "        vertical-align: top;\n",
       "    }\n",
       "\n",
       "    .dataframe thead tr th {\n",
       "        text-align: left;\n",
       "    }\n",
       "\n",
       "    .dataframe thead tr:last-of-type th {\n",
       "        text-align: right;\n",
       "    }\n",
       "</style>\n",
       "<table border=\"1\" class=\"dataframe\">\n",
       "  <thead>\n",
       "    <tr>\n",
       "      <th></th>\n",
       "      <th>count</th>\n",
       "      <th>mean</th>\n",
       "    </tr>\n",
       "    <tr>\n",
       "      <th></th>\n",
       "      <th>debt</th>\n",
       "      <th>debt</th>\n",
       "    </tr>\n",
       "    <tr>\n",
       "      <th>children</th>\n",
       "      <th></th>\n",
       "      <th></th>\n",
       "    </tr>\n",
       "  </thead>\n",
       "  <tbody>\n",
       "    <tr>\n",
       "      <th>0</th>\n",
       "      <td>14090</td>\n",
       "      <td>0.075444</td>\n",
       "    </tr>\n",
       "    <tr>\n",
       "      <th>1</th>\n",
       "      <td>4855</td>\n",
       "      <td>0.091658</td>\n",
       "    </tr>\n",
       "    <tr>\n",
       "      <th>2</th>\n",
       "      <td>2128</td>\n",
       "      <td>0.094925</td>\n",
       "    </tr>\n",
       "    <tr>\n",
       "      <th>3</th>\n",
       "      <td>330</td>\n",
       "      <td>0.081818</td>\n",
       "    </tr>\n",
       "    <tr>\n",
       "      <th>4</th>\n",
       "      <td>41</td>\n",
       "      <td>0.097561</td>\n",
       "    </tr>\n",
       "    <tr>\n",
       "      <th>5</th>\n",
       "      <td>9</td>\n",
       "      <td>0.000000</td>\n",
       "    </tr>\n",
       "  </tbody>\n",
       "</table>\n",
       "</div>"
      ],
      "text/plain": [
       "          count      mean\n",
       "           debt      debt\n",
       "children                 \n",
       "0         14090  0.075444\n",
       "1          4855  0.091658\n",
       "2          2128  0.094925\n",
       "3           330  0.081818\n",
       "4            41  0.097561\n",
       "5             9  0.000000"
      ]
     },
     "execution_count": 66,
     "metadata": {},
     "output_type": "execute_result"
    }
   ],
   "source": [
    "# Код ревьюера\n",
    "bank_df.pivot_table(index='children', values= 'debt',  aggfunc=['count', 'mean'])"
   ]
  },
  {
   "cell_type": "markdown",
   "id": "090c253a",
   "metadata": {},
   "source": [
    "### Есть ли зависимость между семейным положением и возвратом кредита в срок?"
   ]
  },
  {
   "cell_type": "code",
   "execution_count": 67,
   "id": "150dc6a2",
   "metadata": {
    "scrolled": true
   },
   "outputs": [
    {
     "name": "stderr",
     "output_type": "stream",
     "text": [
      "/opt/conda/lib/python3.9/site-packages/pandas/core/reshape/merge.py:648: UserWarning: merging between different levels can give an unintended result (2 levels on the left,1 on the right)\n",
      "  warnings.warn(msg, UserWarning)\n"
     ]
    },
    {
     "data": {
      "text/html": [
       "<div>\n",
       "<style scoped>\n",
       "    .dataframe tbody tr th:only-of-type {\n",
       "        vertical-align: middle;\n",
       "    }\n",
       "\n",
       "    .dataframe tbody tr th {\n",
       "        vertical-align: top;\n",
       "    }\n",
       "\n",
       "    .dataframe thead th {\n",
       "        text-align: right;\n",
       "    }\n",
       "</style>\n",
       "<table border=\"1\" class=\"dataframe\">\n",
       "  <thead>\n",
       "    <tr style=\"text-align: right;\">\n",
       "      <th></th>\n",
       "      <th>(count, debt)</th>\n",
       "      <th>(mean, debt)</th>\n",
       "      <th>family_status</th>\n",
       "    </tr>\n",
       "  </thead>\n",
       "  <tbody>\n",
       "    <tr>\n",
       "      <th>0</th>\n",
       "      <td>12339</td>\n",
       "      <td>0.075452</td>\n",
       "      <td>женат / замужем</td>\n",
       "    </tr>\n",
       "    <tr>\n",
       "      <th>1</th>\n",
       "      <td>4150</td>\n",
       "      <td>0.093494</td>\n",
       "      <td>гражданский брак</td>\n",
       "    </tr>\n",
       "    <tr>\n",
       "      <th>2</th>\n",
       "      <td>959</td>\n",
       "      <td>0.065693</td>\n",
       "      <td>вдовец / вдова</td>\n",
       "    </tr>\n",
       "    <tr>\n",
       "      <th>3</th>\n",
       "      <td>1195</td>\n",
       "      <td>0.071130</td>\n",
       "      <td>в разводе</td>\n",
       "    </tr>\n",
       "    <tr>\n",
       "      <th>4</th>\n",
       "      <td>2810</td>\n",
       "      <td>0.097509</td>\n",
       "      <td>не женат / не замужем</td>\n",
       "    </tr>\n",
       "  </tbody>\n",
       "</table>\n",
       "</div>"
      ],
      "text/plain": [
       "   (count, debt)  (mean, debt)          family_status\n",
       "0          12339      0.075452        женат / замужем\n",
       "1           4150      0.093494       гражданский брак\n",
       "2            959      0.065693         вдовец / вдова\n",
       "3           1195      0.071130              в разводе\n",
       "4           2810      0.097509  не женат / не замужем"
      ]
     },
     "execution_count": 67,
     "metadata": {},
     "output_type": "execute_result"
    }
   ],
   "source": [
    "# по аналогии со свдной таблицей df_pivot_children\n",
    "pivot_family_status = bank_df.pivot_table(index='family_status_id', values= 'debt',  aggfunc=['count', 'mean'])\n",
    "pivot_family_status =  pivot_family_status.merge(family_glossary, on='family_status_id', how='left')\n",
    "pivot_family_status = pivot_family_status.drop('family_status_id', 1)\n",
    "pivot_family_status"
   ]
  },
  {
   "cell_type": "markdown",
   "id": "b5154101",
   "metadata": {},
   "source": [
    "**Ответ:**\n",
    "\n",
    "Данные из полученной таблицы говорят о том, что люди с семейным статусом `вдовец / вдова` менее часто имеют задолженности по кредитным обязательствам, немного надёжнее клиенты состоящие или некогда состоявшие в браке(`женат/замужем` , `в разводе`), а в большей мере сталкиваются с задолженностью - клиенты с официально не зарегстрированом семейным положением(`гражданский брак`, `не женат / не замужем`)  "
   ]
  },
  {
   "cell_type": "markdown",
   "id": "e7685a66",
   "metadata": {},
   "source": [
    "### Есть ли зависимость между уровнем дохода и возвратом кредита в срок?"
   ]
  },
  {
   "cell_type": "code",
   "execution_count": 68,
   "id": "c5651601",
   "metadata": {},
   "outputs": [
    {
     "data": {
      "text/html": [
       "<div>\n",
       "<style scoped>\n",
       "    .dataframe tbody tr th:only-of-type {\n",
       "        vertical-align: middle;\n",
       "    }\n",
       "\n",
       "    .dataframe tbody tr th {\n",
       "        vertical-align: top;\n",
       "    }\n",
       "\n",
       "    .dataframe thead tr th {\n",
       "        text-align: left;\n",
       "    }\n",
       "\n",
       "    .dataframe thead tr:last-of-type th {\n",
       "        text-align: right;\n",
       "    }\n",
       "</style>\n",
       "<table border=\"1\" class=\"dataframe\">\n",
       "  <thead>\n",
       "    <tr>\n",
       "      <th></th>\n",
       "      <th>count</th>\n",
       "      <th>mean</th>\n",
       "    </tr>\n",
       "    <tr>\n",
       "      <th></th>\n",
       "      <th>debt</th>\n",
       "      <th>debt</th>\n",
       "    </tr>\n",
       "    <tr>\n",
       "      <th>total_income_group</th>\n",
       "      <th></th>\n",
       "      <th></th>\n",
       "    </tr>\n",
       "  </thead>\n",
       "  <tbody>\n",
       "    <tr>\n",
       "      <th>A</th>\n",
       "      <td>25</td>\n",
       "      <td>0.080000</td>\n",
       "    </tr>\n",
       "    <tr>\n",
       "      <th>B</th>\n",
       "      <td>5040</td>\n",
       "      <td>0.070635</td>\n",
       "    </tr>\n",
       "    <tr>\n",
       "      <th>C</th>\n",
       "      <td>16016</td>\n",
       "      <td>0.084915</td>\n",
       "    </tr>\n",
       "    <tr>\n",
       "      <th>D</th>\n",
       "      <td>350</td>\n",
       "      <td>0.060000</td>\n",
       "    </tr>\n",
       "    <tr>\n",
       "      <th>E</th>\n",
       "      <td>22</td>\n",
       "      <td>0.090909</td>\n",
       "    </tr>\n",
       "  </tbody>\n",
       "</table>\n",
       "</div>"
      ],
      "text/plain": [
       "                    count      mean\n",
       "                     debt      debt\n",
       "total_income_group                 \n",
       "A                      25  0.080000\n",
       "B                    5040  0.070635\n",
       "C                   16016  0.084915\n",
       "D                     350  0.060000\n",
       "E                      22  0.090909"
      ]
     },
     "execution_count": 68,
     "metadata": {},
     "output_type": "execute_result"
    }
   ],
   "source": [
    "# по аналогии со свдной таблицей df_pivot_children\n",
    "bank_df.pivot_table(index='total_income_group', values= 'debt',  aggfunc=['count', 'mean']) "
   ]
  },
  {
   "cell_type": "markdown",
   "id": "317e21ea",
   "metadata": {},
   "source": [
    "**Ответ:**\n",
    "\n",
    "Исходя из сводной таблицы основная масса заёмщиков, имеет доходы:\n",
    "* `B`— 200000–1000000 \n",
    "* `C`  — 50000–200000\n",
    "\n",
    "Клиенты из категории `B` менее часто сталкиваются с задолженностью по кредиту, соответствуенно делаем вывод о том, что люди с большим доходом более ответственно относятся к соблюдению выплат по кредитным обязетельствам"
   ]
  },
  {
   "cell_type": "markdown",
   "id": "da1a410e",
   "metadata": {},
   "source": [
    "### Как разные цели кредита влияют на его возврат в срок?"
   ]
  },
  {
   "cell_type": "code",
   "execution_count": 69,
   "id": "b2d7aa87",
   "metadata": {},
   "outputs": [
    {
     "data": {
      "text/html": [
       "<div>\n",
       "<style scoped>\n",
       "    .dataframe tbody tr th:only-of-type {\n",
       "        vertical-align: middle;\n",
       "    }\n",
       "\n",
       "    .dataframe tbody tr th {\n",
       "        vertical-align: top;\n",
       "    }\n",
       "\n",
       "    .dataframe thead tr th {\n",
       "        text-align: left;\n",
       "    }\n",
       "\n",
       "    .dataframe thead tr:last-of-type th {\n",
       "        text-align: right;\n",
       "    }\n",
       "</style>\n",
       "<table border=\"1\" class=\"dataframe\">\n",
       "  <thead>\n",
       "    <tr>\n",
       "      <th></th>\n",
       "      <th>count</th>\n",
       "      <th>mean</th>\n",
       "    </tr>\n",
       "    <tr>\n",
       "      <th></th>\n",
       "      <th>debt</th>\n",
       "      <th>debt</th>\n",
       "    </tr>\n",
       "    <tr>\n",
       "      <th>purpose_category</th>\n",
       "      <th></th>\n",
       "      <th></th>\n",
       "    </tr>\n",
       "  </thead>\n",
       "  <tbody>\n",
       "    <tr>\n",
       "      <th>операции с автомобилем</th>\n",
       "      <td>4306</td>\n",
       "      <td>0.093590</td>\n",
       "    </tr>\n",
       "    <tr>\n",
       "      <th>операции с недвижимостью</th>\n",
       "      <td>10810</td>\n",
       "      <td>0.072340</td>\n",
       "    </tr>\n",
       "    <tr>\n",
       "      <th>получение образования</th>\n",
       "      <td>4013</td>\n",
       "      <td>0.092200</td>\n",
       "    </tr>\n",
       "    <tr>\n",
       "      <th>сыграть свадьбу</th>\n",
       "      <td>2324</td>\n",
       "      <td>0.080034</td>\n",
       "    </tr>\n",
       "  </tbody>\n",
       "</table>\n",
       "</div>"
      ],
      "text/plain": [
       "                          count      mean\n",
       "                           debt      debt\n",
       "purpose_category                         \n",
       "операции с автомобилем     4306  0.093590\n",
       "операции с недвижимостью  10810  0.072340\n",
       "получение образования      4013  0.092200\n",
       "сыграть свадьбу            2324  0.080034"
      ]
     },
     "execution_count": 69,
     "metadata": {},
     "output_type": "execute_result"
    }
   ],
   "source": [
    "# по аналогии со свдной таблицей df_pivot_children\n",
    "bank_df.pivot_table(index='purpose_category', values= 'debt',  aggfunc=['count', 'mean'])  "
   ]
  },
  {
   "cell_type": "markdown",
   "id": "fa0cab0d",
   "metadata": {},
   "source": [
    "**Ответ:** \n",
    "\n",
    "Клиенты, берущие кредит на цели `операции с автомобилем` и \t`получение образования` имеют задолженности чаще чем остальные.\n",
    "\n",
    "Среднее значение занимают люди, берущие кредит с целью `сыграть свадьбу`.\n",
    "\n",
    "Группа клиентов, берущая кредит для `операций с недвижимостью` самая многоичесленная, а также составляет меньшую часть по наличию задолженностей\t"
   ]
  },
  {
   "cell_type": "markdown",
   "id": "d9d14d22",
   "metadata": {},
   "source": [
    "### Вывод по разделу:  <a class=\"tocSkip\">\n",
    "\n",
    "В построенных сводных таблицах нет анамально выделяющихся значений, поэтому можем сделать вывод о том, что данные были обработаны корректно. \n",
    "    \n",
    "На факт возрата кредита в срок влияеют: колличество детей у клиента, его семейное положение, доход и цель с которой он его берет, по-мимио этого, на основе таблиц можно выделить группы по их колличеству, например:\n",
    "* клиентов, не имеющих детей намного больше чем с хотя бы одним ребенком;\n",
    "* женатых/замужних клиентов намного больше чем всех остальных;\n",
    "* клиенты имеют доходы от 50 до 200 тыс. и от 200 до 1 млн.;\n",
    "* чаще всего клиенты берут кредит на операции с недвжимиостью.   "
   ]
  },
  {
   "cell_type": "markdown",
   "id": "42547e38",
   "metadata": {},
   "source": [
    "<div class=\"alert alert-block alert-danger\">\n",
    "<b>Комментарий ревьюера❌:</b> Пересмотри пожалуйста этот блок с учетом замечания выше"
   ]
  },
  {
   "cell_type": "markdown",
   "id": "8480dd77",
   "metadata": {},
   "source": [
    "<div class=\"alert alert-block alert-info\">\n",
    "Исправил данный раздел: переписал выводы и ответы ¯\\_(ツ)_/¯\n",
    "Если это зачтено, то можно пару советов по оформлению сводных таблиц? 🥺 Например, как красиво и наглядно сделать `pivot_family_status`"
   ]
  },
  {
   "cell_type": "markdown",
   "id": "2a717f2b",
   "metadata": {},
   "source": [
    "<div class=\"alert alert-block alert-success\">\n",
    "<b>Комментарий ревьюера_v2✅:</b> Блок принят👍 \n",
    "\n",
    "Твоя таблица отлично оформлена, я даже не знаю что можно в нее добавить кроме того, что можно поменять названия столбцов) Можно было бы ее раскрасить как в экселе, но я считаю это лишнее)</div>"
   ]
  },
  {
   "cell_type": "markdown",
   "id": "f19be123",
   "metadata": {},
   "source": [
    "## Итоги исследования"
   ]
  },
  {
   "cell_type": "markdown",
   "id": "4f9a7339",
   "metadata": {},
   "source": [
    "В данном проекте было выполнена:\n",
    "\n",
    "Работа по предобработке данных: \n",
    "* в ней были заполнены пропущенный значения в таблице на основании гипотезы о том, что данные были утеряны или некорретно зансены\n",
    "* обработаны анамалии в виде неправдоподобных значений, выдвинуты гипотезы об их происхождении\n",
    "* таблица была оптимизирована и готова для хранения больших объёмов данных\n",
    "* были опредлены категории по доходам и целям, для формирования больших групп внутри таблицы, написанные функции автомтически оперделят новые записи к той или иной группе \n",
    "\n",
    "Ответы на поставленные вопросы:\n",
    "* для ответа на поставленные вопрсы были построены сводные таблицы\n",
    "* на основе данных таблицах был выполнил анализ по зависимости того или иного фактора на факт выплаты кредита в срок\n",
    "* для каждой группы были обнаружены закономерности и сделаны подробные выводы\n",
    "\n",
    "По вопросам зависосмоти от того или иного фактора можно выявить следующий тенденции:\n",
    "* люди не имеющие детей менее часто имеют задолженности;\n",
    "* клиенты не состощие в официально зарегестрированных отношениях чаще всех имеют задолженности;\n",
    "* чем больше доход у клиента, тем меньше вероятность у него появления задолженности;\n",
    "* менее часто имеют задолженности клиенты, взявшие его с целью покупки/строительства и прочих операций с неждвижимостью."
   ]
  },
  {
   "cell_type": "markdown",
   "id": "91488e01",
   "metadata": {},
   "source": [
    "<div class=\"alert alert-block alert-danger\">\n",
    "<b>Комментарий ревьюера❌:</b> В конце проекта принято кратко описывать все проделанные шаги и полученные результаты. Зачем это нужно - когда проект захочет посмотреть будущий работодатель, у него может не быть времени на подробный разбор кода. Вероятнее всего он бегло просмотрит код, но захочет изучить результат, который будет в общем выводе. Будет круто, если ты более подробно распишешь общий вывод)"
   ]
  },
  {
   "cell_type": "markdown",
   "id": "61857692",
   "metadata": {},
   "source": [
    "<div class=\"alert alert-block alert-info\">\n",
    "Написало более развернуто. Так пойдёт? 😊✌ "
   ]
  },
  {
   "cell_type": "markdown",
   "id": "f530c2a5",
   "metadata": {},
   "source": [
    "<div class=\"alert alert-block alert-success\">\n",
    "<b>Комментарий ревьюера_v2✅:</b> Ага, отличный вывод, теперь работа логчески завершена и мы можем понять суть исследования🔥 </div>"
   ]
  },
  {
   "cell_type": "markdown",
   "id": "73b8b89a",
   "metadata": {},
   "source": [
    "<div class=\"alert alert-block alert-success\">\n",
    "<b>Комментарий ревьюера✅:</b>Мне очень понравилась твоя работа. Все рассуждения верные, очень логичные и осмысленные. Ничего лишнего, всё по полкам. Ты подробно разбираешься в деталях, для будущего аналитика это очень важная черта😊\n",
    "\n",
    "Проект еще нужно немного доработать, а именно:\n",
    "    \n",
    "- исправить блок обработки аномалий\n",
    "    \n",
    "- исправить блок удаления дубликатов\n",
    "    \n",
    "- исправить блок формирования таблиц-словарей\n",
    "    \n",
    "- исправить блок ответов на вопросы\n",
    "    \n",
    "- исправить общий вывод\n",
    "    \n",
    "Остальные замечания оставляю на твое усмотрение😉\n",
    "\n",
    "Жду твою работу на повторное ревью.\n",
    "    \n",
    "[Тут есть полезные приемы Markdown](https://paulradzkov.com/2014/markdown_cheatsheet/)\n",
    "\n",
    "</div>"
   ]
  },
  {
   "cell_type": "markdown",
   "id": "9dc1f303",
   "metadata": {},
   "source": [
    "<div class=\"alert alert-block alert-success\">\n",
    "<b>Комментарий ревьюера_v2✅:</b> Отличная работа, проект принимаю. Могу с уверенностью сказать - ты хорошо владеешь пройденным материалом. Мне понравилась твоя реакция на обратную связь, комментарии даже к желтым замечаниям. Желаю удачи в дальнейшей учебе🔥 </div>"
   ]
  }
 ],
 "metadata": {
  "ExecuteTimeLog": [
   {
    "duration": 580,
    "start_time": "2022-04-12T07:44:10.329Z"
   },
   {
    "duration": 169,
    "start_time": "2022-04-12T09:26:53.251Z"
   },
   {
    "duration": 9,
    "start_time": "2022-04-12T09:30:24.086Z"
   },
   {
    "duration": 17,
    "start_time": "2022-04-12T09:30:33.077Z"
   },
   {
    "duration": 14,
    "start_time": "2022-04-12T09:30:45.365Z"
   },
   {
    "duration": 13,
    "start_time": "2022-04-12T09:36:46.165Z"
   },
   {
    "duration": 195,
    "start_time": "2022-04-12T09:38:20.878Z"
   },
   {
    "duration": 13,
    "start_time": "2022-04-12T09:38:21.074Z"
   },
   {
    "duration": 15,
    "start_time": "2022-04-12T09:38:21.088Z"
   },
   {
    "duration": 3,
    "start_time": "2022-04-12T10:59:12.869Z"
   },
   {
    "duration": 361,
    "start_time": "2022-04-12T11:09:49.061Z"
   },
   {
    "duration": 12,
    "start_time": "2022-04-12T11:09:49.424Z"
   },
   {
    "duration": 15,
    "start_time": "2022-04-12T11:09:49.437Z"
   },
   {
    "duration": 9,
    "start_time": "2022-04-12T12:21:54.764Z"
   },
   {
    "duration": 13,
    "start_time": "2022-04-12T12:22:44.376Z"
   },
   {
    "duration": 19,
    "start_time": "2022-04-12T12:23:45.721Z"
   },
   {
    "duration": 19,
    "start_time": "2022-04-12T12:23:51.681Z"
   },
   {
    "duration": 19,
    "start_time": "2022-04-12T12:24:24.872Z"
   },
   {
    "duration": 189,
    "start_time": "2022-04-12T12:24:28.714Z"
   },
   {
    "duration": 13,
    "start_time": "2022-04-12T12:24:28.905Z"
   },
   {
    "duration": 15,
    "start_time": "2022-04-12T12:24:28.920Z"
   },
   {
    "duration": 18,
    "start_time": "2022-04-12T12:24:28.937Z"
   },
   {
    "duration": 13,
    "start_time": "2022-04-12T12:26:20.113Z"
   },
   {
    "duration": 14,
    "start_time": "2022-04-12T12:28:14.720Z"
   },
   {
    "duration": 20,
    "start_time": "2022-04-12T12:28:42.479Z"
   },
   {
    "duration": 16,
    "start_time": "2022-04-12T12:35:53.775Z"
   },
   {
    "duration": 12,
    "start_time": "2022-04-12T12:36:01.511Z"
   },
   {
    "duration": 6,
    "start_time": "2022-04-12T12:36:44.311Z"
   },
   {
    "duration": 6,
    "start_time": "2022-04-12T12:37:22.007Z"
   },
   {
    "duration": 13,
    "start_time": "2022-04-12T13:09:54.366Z"
   },
   {
    "duration": 13,
    "start_time": "2022-04-12T13:09:56.567Z"
   },
   {
    "duration": 3,
    "start_time": "2022-04-12T15:29:47.936Z"
   },
   {
    "duration": 2,
    "start_time": "2022-04-12T15:29:58.336Z"
   },
   {
    "duration": 3,
    "start_time": "2022-04-12T15:30:35.776Z"
   },
   {
    "duration": 3,
    "start_time": "2022-04-12T15:30:37.433Z"
   },
   {
    "duration": 2,
    "start_time": "2022-04-12T15:33:46.632Z"
   },
   {
    "duration": 3,
    "start_time": "2022-04-12T15:33:53.495Z"
   },
   {
    "duration": 17,
    "start_time": "2022-04-12T15:40:34.108Z"
   },
   {
    "duration": 16,
    "start_time": "2022-04-12T15:41:11.607Z"
   },
   {
    "duration": 5,
    "start_time": "2022-04-12T15:43:24.509Z"
   },
   {
    "duration": 63,
    "start_time": "2022-04-12T15:44:47.141Z"
   },
   {
    "duration": 7,
    "start_time": "2022-04-12T15:45:12.404Z"
   },
   {
    "duration": 7,
    "start_time": "2022-04-12T15:46:21.949Z"
   },
   {
    "duration": 13,
    "start_time": "2022-04-12T15:52:56.252Z"
   },
   {
    "duration": 4,
    "start_time": "2022-04-12T15:56:14.379Z"
   },
   {
    "duration": 4,
    "start_time": "2022-04-12T15:56:35.307Z"
   },
   {
    "duration": 6,
    "start_time": "2022-04-12T15:57:32.955Z"
   },
   {
    "duration": 101,
    "start_time": "2022-04-12T16:00:19.531Z"
   },
   {
    "duration": 5,
    "start_time": "2022-04-12T16:01:12.050Z"
   },
   {
    "duration": 13,
    "start_time": "2022-04-12T16:12:22.573Z"
   },
   {
    "duration": 110,
    "start_time": "2022-04-12T16:19:30.174Z"
   },
   {
    "duration": 6,
    "start_time": "2022-04-12T16:20:16.493Z"
   },
   {
    "duration": 213,
    "start_time": "2022-04-12T16:33:18.916Z"
   },
   {
    "duration": 12,
    "start_time": "2022-04-12T16:33:19.134Z"
   },
   {
    "duration": 14,
    "start_time": "2022-04-12T16:33:19.147Z"
   },
   {
    "duration": 12,
    "start_time": "2022-04-12T16:33:19.163Z"
   },
   {
    "duration": 5,
    "start_time": "2022-04-12T16:33:19.176Z"
   },
   {
    "duration": 44,
    "start_time": "2022-04-12T16:33:19.183Z"
   },
   {
    "duration": 5,
    "start_time": "2022-04-12T16:33:19.229Z"
   },
   {
    "duration": 8,
    "start_time": "2022-04-13T13:08:56.534Z"
   },
   {
    "duration": 9,
    "start_time": "2022-04-13T13:10:37.022Z"
   },
   {
    "duration": 169,
    "start_time": "2022-04-13T13:15:01.061Z"
   },
   {
    "duration": 161,
    "start_time": "2022-04-13T13:22:31.326Z"
   },
   {
    "duration": 161,
    "start_time": "2022-04-13T13:22:40.387Z"
   },
   {
    "duration": 147,
    "start_time": "2022-04-13T13:22:46.204Z"
   },
   {
    "duration": 324,
    "start_time": "2022-04-13T13:23:03.877Z"
   },
   {
    "duration": 14,
    "start_time": "2022-04-13T13:23:04.203Z"
   },
   {
    "duration": 33,
    "start_time": "2022-04-13T13:23:04.218Z"
   },
   {
    "duration": 13,
    "start_time": "2022-04-13T13:23:04.253Z"
   },
   {
    "duration": 5,
    "start_time": "2022-04-13T13:23:04.267Z"
   },
   {
    "duration": 19,
    "start_time": "2022-04-13T13:23:04.274Z"
   },
   {
    "duration": 5,
    "start_time": "2022-04-13T13:23:04.294Z"
   },
   {
    "duration": 151,
    "start_time": "2022-04-13T13:23:04.300Z"
   },
   {
    "duration": 164,
    "start_time": "2022-04-13T13:23:10.083Z"
   },
   {
    "duration": 7,
    "start_time": "2022-04-13T13:23:17.179Z"
   },
   {
    "duration": 6,
    "start_time": "2022-04-13T13:23:34.707Z"
   },
   {
    "duration": 6,
    "start_time": "2022-04-13T13:24:08.291Z"
   },
   {
    "duration": 5,
    "start_time": "2022-04-13T15:58:01.746Z"
   },
   {
    "duration": 288,
    "start_time": "2022-04-13T15:58:05.244Z"
   },
   {
    "duration": 23,
    "start_time": "2022-04-13T15:58:05.535Z"
   },
   {
    "duration": 16,
    "start_time": "2022-04-13T15:58:05.560Z"
   },
   {
    "duration": 13,
    "start_time": "2022-04-13T15:58:05.578Z"
   },
   {
    "duration": 6,
    "start_time": "2022-04-13T15:58:05.592Z"
   },
   {
    "duration": 43,
    "start_time": "2022-04-13T15:58:05.599Z"
   },
   {
    "duration": 5,
    "start_time": "2022-04-13T15:58:05.647Z"
   },
   {
    "duration": 6,
    "start_time": "2022-04-13T15:58:05.654Z"
   },
   {
    "duration": 5,
    "start_time": "2022-04-13T15:58:05.661Z"
   },
   {
    "duration": 5,
    "start_time": "2022-04-13T15:58:15.402Z"
   },
   {
    "duration": 157,
    "start_time": "2022-04-13T15:59:18.227Z"
   },
   {
    "duration": 2604,
    "start_time": "2022-04-13T15:59:48.185Z"
   },
   {
    "duration": 5,
    "start_time": "2022-04-13T16:00:13.618Z"
   },
   {
    "duration": 4,
    "start_time": "2022-04-13T16:01:14.177Z"
   },
   {
    "duration": 63,
    "start_time": "2022-04-14T16:28:30.079Z"
   },
   {
    "duration": 1167,
    "start_time": "2022-04-14T16:28:36.426Z"
   },
   {
    "duration": 25,
    "start_time": "2022-04-14T16:28:37.596Z"
   },
   {
    "duration": 54,
    "start_time": "2022-04-14T16:28:37.630Z"
   },
   {
    "duration": 18,
    "start_time": "2022-04-14T16:28:37.686Z"
   },
   {
    "duration": 61,
    "start_time": "2022-04-14T16:28:37.706Z"
   },
   {
    "duration": 23,
    "start_time": "2022-04-14T16:28:37.769Z"
   },
   {
    "duration": 11,
    "start_time": "2022-04-14T16:28:37.794Z"
   },
   {
    "duration": 49,
    "start_time": "2022-04-14T16:28:37.807Z"
   },
   {
    "duration": 14,
    "start_time": "2022-04-14T16:28:37.858Z"
   },
   {
    "duration": 15,
    "start_time": "2022-04-14T16:28:37.874Z"
   },
   {
    "duration": 32,
    "start_time": "2022-04-14T16:28:37.890Z"
   },
   {
    "duration": 4,
    "start_time": "2022-04-14T16:29:53.873Z"
   },
   {
    "duration": 5,
    "start_time": "2022-04-14T16:30:25.568Z"
   },
   {
    "duration": 179,
    "start_time": "2022-04-14T16:35:38.194Z"
   },
   {
    "duration": 4,
    "start_time": "2022-04-14T16:36:47.302Z"
   },
   {
    "duration": 7,
    "start_time": "2022-04-14T16:37:44.947Z"
   },
   {
    "duration": 5,
    "start_time": "2022-04-14T16:39:31.043Z"
   },
   {
    "duration": 5,
    "start_time": "2022-04-14T16:39:34.206Z"
   },
   {
    "duration": 7,
    "start_time": "2022-04-14T16:40:43.718Z"
   },
   {
    "duration": 134,
    "start_time": "2022-04-14T16:41:46.925Z"
   },
   {
    "duration": 148,
    "start_time": "2022-04-14T16:42:01.510Z"
   },
   {
    "duration": 16,
    "start_time": "2022-04-14T16:42:23.828Z"
   },
   {
    "duration": 138,
    "start_time": "2022-04-14T16:43:30.983Z"
   },
   {
    "duration": 7,
    "start_time": "2022-04-14T16:44:55.696Z"
   },
   {
    "duration": 8,
    "start_time": "2022-04-14T16:45:18.570Z"
   },
   {
    "duration": 37,
    "start_time": "2022-04-14T16:47:40.215Z"
   },
   {
    "duration": 5,
    "start_time": "2022-04-14T17:03:26.076Z"
   },
   {
    "duration": 7,
    "start_time": "2022-04-14T17:03:30.160Z"
   },
   {
    "duration": 5,
    "start_time": "2022-04-14T17:03:34.853Z"
   },
   {
    "duration": 40,
    "start_time": "2022-04-14T17:05:40.301Z"
   },
   {
    "duration": 25,
    "start_time": "2022-04-14T17:07:14.241Z"
   },
   {
    "duration": 7,
    "start_time": "2022-04-14T17:07:23.025Z"
   },
   {
    "duration": 9,
    "start_time": "2022-04-14T17:07:52.216Z"
   },
   {
    "duration": 11,
    "start_time": "2022-04-14T17:08:42.132Z"
   },
   {
    "duration": 17,
    "start_time": "2022-04-14T17:09:02.529Z"
   },
   {
    "duration": 8,
    "start_time": "2022-04-14T17:09:08.942Z"
   },
   {
    "duration": 14,
    "start_time": "2022-04-14T17:09:12.246Z"
   },
   {
    "duration": 32,
    "start_time": "2022-04-14T17:09:16.921Z"
   },
   {
    "duration": 17,
    "start_time": "2022-04-14T17:09:32.847Z"
   },
   {
    "duration": 7,
    "start_time": "2022-04-14T17:20:12.043Z"
   },
   {
    "duration": 20,
    "start_time": "2022-04-14T17:20:58.637Z"
   },
   {
    "duration": 5,
    "start_time": "2022-04-14T17:23:45.102Z"
   },
   {
    "duration": 18,
    "start_time": "2022-04-14T17:23:49.068Z"
   },
   {
    "duration": 47,
    "start_time": "2022-04-14T17:24:15.839Z"
   },
   {
    "duration": 22,
    "start_time": "2022-04-14T17:24:26.960Z"
   },
   {
    "duration": 10,
    "start_time": "2022-04-14T17:24:45.912Z"
   },
   {
    "duration": 167,
    "start_time": "2022-04-14T17:26:24.271Z"
   },
   {
    "duration": 117,
    "start_time": "2022-04-14T17:26:43.037Z"
   },
   {
    "duration": 145,
    "start_time": "2022-04-14T17:27:00.842Z"
   },
   {
    "duration": 13,
    "start_time": "2022-04-14T17:27:04.911Z"
   },
   {
    "duration": 7,
    "start_time": "2022-04-14T17:41:46.519Z"
   },
   {
    "duration": 6,
    "start_time": "2022-04-14T17:43:24.443Z"
   },
   {
    "duration": 127,
    "start_time": "2022-04-14T17:44:29.554Z"
   },
   {
    "duration": 6,
    "start_time": "2022-04-14T17:44:37.461Z"
   },
   {
    "duration": 6,
    "start_time": "2022-04-14T17:45:34.434Z"
   },
   {
    "duration": 119,
    "start_time": "2022-04-14T17:46:20.196Z"
   },
   {
    "duration": 5,
    "start_time": "2022-04-14T17:46:46.550Z"
   },
   {
    "duration": 8,
    "start_time": "2022-04-14T17:53:47.841Z"
   },
   {
    "duration": 7,
    "start_time": "2022-04-14T17:55:42.256Z"
   },
   {
    "duration": 7,
    "start_time": "2022-04-14T17:55:55.668Z"
   },
   {
    "duration": 6,
    "start_time": "2022-04-14T17:56:09.258Z"
   },
   {
    "duration": 340,
    "start_time": "2022-04-14T17:56:50.511Z"
   },
   {
    "duration": 25,
    "start_time": "2022-04-14T17:56:50.853Z"
   },
   {
    "duration": 26,
    "start_time": "2022-04-14T17:56:50.880Z"
   },
   {
    "duration": 31,
    "start_time": "2022-04-14T17:56:50.909Z"
   },
   {
    "duration": 24,
    "start_time": "2022-04-14T17:56:50.942Z"
   },
   {
    "duration": 26,
    "start_time": "2022-04-14T17:56:50.969Z"
   },
   {
    "duration": 29,
    "start_time": "2022-04-14T17:56:50.997Z"
   },
   {
    "duration": 9,
    "start_time": "2022-04-14T17:56:51.030Z"
   },
   {
    "duration": 14,
    "start_time": "2022-04-14T17:56:51.042Z"
   },
   {
    "duration": 15,
    "start_time": "2022-04-14T17:56:51.059Z"
   },
   {
    "duration": 9,
    "start_time": "2022-04-14T17:56:51.075Z"
   },
   {
    "duration": 15,
    "start_time": "2022-04-14T17:56:51.086Z"
   },
   {
    "duration": 34,
    "start_time": "2022-04-14T17:56:51.103Z"
   },
   {
    "duration": 18,
    "start_time": "2022-04-14T17:56:51.140Z"
   },
   {
    "duration": 9,
    "start_time": "2022-04-14T17:56:51.160Z"
   },
   {
    "duration": 11,
    "start_time": "2022-04-14T17:56:51.171Z"
   },
   {
    "duration": 123,
    "start_time": "2022-04-14T17:57:38.589Z"
   },
   {
    "duration": 8,
    "start_time": "2022-04-14T18:01:08.241Z"
   },
   {
    "duration": 5,
    "start_time": "2022-04-14T18:01:13.047Z"
   },
   {
    "duration": 196,
    "start_time": "2022-04-14T18:01:16.655Z"
   },
   {
    "duration": 15,
    "start_time": "2022-04-14T18:01:16.853Z"
   },
   {
    "duration": 20,
    "start_time": "2022-04-14T18:01:16.870Z"
   },
   {
    "duration": 40,
    "start_time": "2022-04-14T18:01:16.891Z"
   },
   {
    "duration": 8,
    "start_time": "2022-04-14T18:01:16.935Z"
   },
   {
    "duration": 29,
    "start_time": "2022-04-14T18:01:16.946Z"
   },
   {
    "duration": 12,
    "start_time": "2022-04-14T18:01:16.978Z"
   },
   {
    "duration": 14,
    "start_time": "2022-04-14T18:01:16.992Z"
   },
   {
    "duration": 21,
    "start_time": "2022-04-14T18:01:17.008Z"
   },
   {
    "duration": 30,
    "start_time": "2022-04-14T18:01:17.032Z"
   },
   {
    "duration": 11,
    "start_time": "2022-04-14T18:01:17.065Z"
   },
   {
    "duration": 29,
    "start_time": "2022-04-14T18:01:17.078Z"
   },
   {
    "duration": 16,
    "start_time": "2022-04-14T18:01:17.110Z"
   },
   {
    "duration": 31,
    "start_time": "2022-04-14T18:01:17.129Z"
   },
   {
    "duration": 10,
    "start_time": "2022-04-14T18:01:17.162Z"
   },
   {
    "duration": 24,
    "start_time": "2022-04-14T18:03:33.643Z"
   },
   {
    "duration": 395,
    "start_time": "2022-04-14T18:03:58.744Z"
   },
   {
    "duration": 22,
    "start_time": "2022-04-14T18:03:59.142Z"
   },
   {
    "duration": 20,
    "start_time": "2022-04-14T18:03:59.166Z"
   },
   {
    "duration": 15,
    "start_time": "2022-04-14T18:03:59.188Z"
   },
   {
    "duration": 9,
    "start_time": "2022-04-14T18:03:59.206Z"
   },
   {
    "duration": 34,
    "start_time": "2022-04-14T18:03:59.226Z"
   },
   {
    "duration": 6,
    "start_time": "2022-04-14T18:03:59.262Z"
   },
   {
    "duration": 12,
    "start_time": "2022-04-14T18:03:59.270Z"
   },
   {
    "duration": 8,
    "start_time": "2022-04-14T18:03:59.284Z"
   },
   {
    "duration": 13,
    "start_time": "2022-04-14T18:03:59.294Z"
   },
   {
    "duration": 40,
    "start_time": "2022-04-14T18:03:59.309Z"
   },
   {
    "duration": 12,
    "start_time": "2022-04-14T18:03:59.351Z"
   },
   {
    "duration": 9,
    "start_time": "2022-04-14T18:03:59.364Z"
   },
   {
    "duration": 10,
    "start_time": "2022-04-14T18:03:59.376Z"
   },
   {
    "duration": 8,
    "start_time": "2022-04-14T18:06:35.467Z"
   },
   {
    "duration": 7,
    "start_time": "2022-04-14T18:06:49.168Z"
   },
   {
    "duration": 17,
    "start_time": "2022-04-14T18:06:56.649Z"
   },
   {
    "duration": 7,
    "start_time": "2022-04-14T18:11:50.899Z"
   },
   {
    "duration": 18,
    "start_time": "2022-04-14T18:12:19.070Z"
   },
   {
    "duration": 7,
    "start_time": "2022-04-14T18:12:38.126Z"
   },
   {
    "duration": 20,
    "start_time": "2022-04-14T18:13:21.295Z"
   },
   {
    "duration": 31,
    "start_time": "2022-04-14T18:13:36.756Z"
   },
   {
    "duration": 5,
    "start_time": "2022-04-14T18:13:57.566Z"
   },
   {
    "duration": 9,
    "start_time": "2022-04-14T18:14:15.897Z"
   },
   {
    "duration": 9,
    "start_time": "2022-04-14T18:14:19.939Z"
   },
   {
    "duration": 125,
    "start_time": "2022-04-14T18:16:07.217Z"
   },
   {
    "duration": 11,
    "start_time": "2022-04-14T18:16:10.637Z"
   },
   {
    "duration": 7,
    "start_time": "2022-04-14T18:16:55.273Z"
   },
   {
    "duration": 17,
    "start_time": "2022-04-14T18:19:06.680Z"
   },
   {
    "duration": 23,
    "start_time": "2022-04-14T18:19:23.714Z"
   },
   {
    "duration": 7,
    "start_time": "2022-04-14T18:19:50.774Z"
   },
   {
    "duration": 5,
    "start_time": "2022-04-14T18:19:59.007Z"
   },
   {
    "duration": 6,
    "start_time": "2022-04-14T18:24:38.230Z"
   },
   {
    "duration": 4,
    "start_time": "2022-04-14T18:50:14.198Z"
   },
   {
    "duration": 4,
    "start_time": "2022-04-14T18:50:41.330Z"
   },
   {
    "duration": 121,
    "start_time": "2022-04-14T18:51:14.603Z"
   },
   {
    "duration": 4,
    "start_time": "2022-04-14T18:51:24.857Z"
   },
   {
    "duration": 4,
    "start_time": "2022-04-14T18:51:33.944Z"
   },
   {
    "duration": 6,
    "start_time": "2022-04-14T18:51:58.489Z"
   },
   {
    "duration": 307,
    "start_time": "2022-04-14T18:52:12.865Z"
   },
   {
    "duration": 18,
    "start_time": "2022-04-14T18:52:13.174Z"
   },
   {
    "duration": 30,
    "start_time": "2022-04-14T18:52:13.194Z"
   },
   {
    "duration": 28,
    "start_time": "2022-04-14T18:52:13.226Z"
   },
   {
    "duration": 13,
    "start_time": "2022-04-14T18:52:13.256Z"
   },
   {
    "duration": 26,
    "start_time": "2022-04-14T18:52:13.272Z"
   },
   {
    "duration": 30,
    "start_time": "2022-04-14T18:52:13.300Z"
   },
   {
    "duration": 21,
    "start_time": "2022-04-14T18:52:13.332Z"
   },
   {
    "duration": 12,
    "start_time": "2022-04-14T18:52:13.356Z"
   },
   {
    "duration": 9,
    "start_time": "2022-04-14T18:52:13.371Z"
   },
   {
    "duration": 14,
    "start_time": "2022-04-14T18:52:13.383Z"
   },
   {
    "duration": 12,
    "start_time": "2022-04-14T18:52:13.400Z"
   },
   {
    "duration": 28,
    "start_time": "2022-04-14T18:52:13.418Z"
   },
   {
    "duration": 14,
    "start_time": "2022-04-14T18:52:13.449Z"
   },
   {
    "duration": 24,
    "start_time": "2022-04-14T18:52:13.465Z"
   },
   {
    "duration": 10,
    "start_time": "2022-04-14T18:52:13.491Z"
   },
   {
    "duration": 27,
    "start_time": "2022-04-14T18:52:13.503Z"
   },
   {
    "duration": 8,
    "start_time": "2022-04-14T18:52:45.171Z"
   },
   {
    "duration": 10,
    "start_time": "2022-04-14T18:52:46.512Z"
   },
   {
    "duration": 5,
    "start_time": "2022-04-14T18:52:55.351Z"
   },
   {
    "duration": 5,
    "start_time": "2022-04-14T18:53:22.229Z"
   },
   {
    "duration": 7,
    "start_time": "2022-04-14T18:53:23.887Z"
   },
   {
    "duration": 191,
    "start_time": "2022-04-14T18:53:27.831Z"
   },
   {
    "duration": 18,
    "start_time": "2022-04-14T18:53:28.024Z"
   },
   {
    "duration": 20,
    "start_time": "2022-04-14T18:53:28.044Z"
   },
   {
    "duration": 16,
    "start_time": "2022-04-14T18:53:28.066Z"
   },
   {
    "duration": 5,
    "start_time": "2022-04-14T18:53:28.084Z"
   },
   {
    "duration": 39,
    "start_time": "2022-04-14T18:53:28.091Z"
   },
   {
    "duration": 8,
    "start_time": "2022-04-14T18:53:28.132Z"
   },
   {
    "duration": 20,
    "start_time": "2022-04-14T18:53:28.142Z"
   },
   {
    "duration": 9,
    "start_time": "2022-04-14T18:53:28.164Z"
   },
   {
    "duration": 8,
    "start_time": "2022-04-14T18:53:28.175Z"
   },
   {
    "duration": 16,
    "start_time": "2022-04-14T18:53:28.185Z"
   },
   {
    "duration": 7,
    "start_time": "2022-04-14T18:53:28.231Z"
   },
   {
    "duration": 22,
    "start_time": "2022-04-14T18:53:28.240Z"
   },
   {
    "duration": 9,
    "start_time": "2022-04-14T18:53:28.264Z"
   },
   {
    "duration": 17,
    "start_time": "2022-04-14T18:53:28.274Z"
   },
   {
    "duration": 13,
    "start_time": "2022-04-14T18:53:28.293Z"
   },
   {
    "duration": 14,
    "start_time": "2022-04-14T18:53:28.308Z"
   },
   {
    "duration": 4,
    "start_time": "2022-04-14T19:00:51.681Z"
   },
   {
    "duration": 119,
    "start_time": "2022-04-14T19:01:01.998Z"
   },
   {
    "duration": 4,
    "start_time": "2022-04-14T19:01:11.843Z"
   },
   {
    "duration": 6,
    "start_time": "2022-04-14T19:01:40.099Z"
   },
   {
    "duration": 253,
    "start_time": "2022-04-14T19:02:08.883Z"
   },
   {
    "duration": 21,
    "start_time": "2022-04-14T19:02:09.139Z"
   },
   {
    "duration": 21,
    "start_time": "2022-04-14T19:02:09.162Z"
   },
   {
    "duration": 18,
    "start_time": "2022-04-14T19:02:09.185Z"
   },
   {
    "duration": 13,
    "start_time": "2022-04-14T19:02:09.218Z"
   },
   {
    "duration": 34,
    "start_time": "2022-04-14T19:02:09.234Z"
   },
   {
    "duration": 7,
    "start_time": "2022-04-14T19:02:09.271Z"
   },
   {
    "duration": 14,
    "start_time": "2022-04-14T19:02:09.279Z"
   },
   {
    "duration": 9,
    "start_time": "2022-04-14T19:02:09.295Z"
   },
   {
    "duration": 11,
    "start_time": "2022-04-14T19:02:09.307Z"
   },
   {
    "duration": 34,
    "start_time": "2022-04-14T19:02:09.320Z"
   },
   {
    "duration": 10,
    "start_time": "2022-04-14T19:02:09.356Z"
   },
   {
    "duration": 14,
    "start_time": "2022-04-14T19:02:09.368Z"
   },
   {
    "duration": 27,
    "start_time": "2022-04-14T19:02:09.384Z"
   },
   {
    "duration": 8,
    "start_time": "2022-04-14T19:02:09.413Z"
   },
   {
    "duration": 25,
    "start_time": "2022-04-14T19:02:09.423Z"
   },
   {
    "duration": 18,
    "start_time": "2022-04-14T19:02:09.450Z"
   },
   {
    "duration": 11,
    "start_time": "2022-04-14T19:02:09.469Z"
   },
   {
    "duration": 6,
    "start_time": "2022-04-14T19:05:26.101Z"
   },
   {
    "duration": 23,
    "start_time": "2022-04-14T19:12:43.113Z"
   },
   {
    "duration": 18,
    "start_time": "2022-04-14T19:13:09.483Z"
   },
   {
    "duration": 18,
    "start_time": "2022-04-14T19:15:52.698Z"
   },
   {
    "duration": 8,
    "start_time": "2022-04-14T19:24:10.440Z"
   },
   {
    "duration": 13,
    "start_time": "2022-04-14T19:24:43.832Z"
   },
   {
    "duration": 11,
    "start_time": "2022-04-14T19:24:52.593Z"
   },
   {
    "duration": 14,
    "start_time": "2022-04-14T19:24:56.441Z"
   },
   {
    "duration": 235,
    "start_time": "2022-04-14T19:25:13.557Z"
   },
   {
    "duration": 15,
    "start_time": "2022-04-14T19:25:13.795Z"
   },
   {
    "duration": 63,
    "start_time": "2022-04-14T19:25:13.812Z"
   },
   {
    "duration": 21,
    "start_time": "2022-04-14T19:25:13.877Z"
   },
   {
    "duration": 9,
    "start_time": "2022-04-14T19:25:13.902Z"
   },
   {
    "duration": 56,
    "start_time": "2022-04-14T19:25:13.913Z"
   },
   {
    "duration": 10,
    "start_time": "2022-04-14T19:25:13.971Z"
   },
   {
    "duration": 11,
    "start_time": "2022-04-14T19:25:13.983Z"
   },
   {
    "duration": 10,
    "start_time": "2022-04-14T19:25:13.996Z"
   },
   {
    "duration": 12,
    "start_time": "2022-04-14T19:25:14.008Z"
   },
   {
    "duration": 49,
    "start_time": "2022-04-14T19:25:14.022Z"
   },
   {
    "duration": 18,
    "start_time": "2022-04-14T19:25:14.072Z"
   },
   {
    "duration": 14,
    "start_time": "2022-04-14T19:25:14.092Z"
   },
   {
    "duration": 58,
    "start_time": "2022-04-14T19:25:14.109Z"
   },
   {
    "duration": 7,
    "start_time": "2022-04-14T19:25:14.169Z"
   },
   {
    "duration": 10,
    "start_time": "2022-04-14T19:25:14.178Z"
   },
   {
    "duration": 13,
    "start_time": "2022-04-14T19:25:14.191Z"
   },
   {
    "duration": 7,
    "start_time": "2022-04-14T19:25:43.849Z"
   },
   {
    "duration": 18,
    "start_time": "2022-04-14T19:25:55.841Z"
   },
   {
    "duration": 8,
    "start_time": "2022-04-14T19:26:11.760Z"
   },
   {
    "duration": 9,
    "start_time": "2022-04-14T19:26:32.045Z"
   },
   {
    "duration": 6,
    "start_time": "2022-04-14T19:29:22.848Z"
   },
   {
    "duration": 8,
    "start_time": "2022-04-14T19:29:32.271Z"
   },
   {
    "duration": 6,
    "start_time": "2022-04-14T19:31:29.886Z"
   },
   {
    "duration": 305,
    "start_time": "2022-04-14T19:31:36.360Z"
   },
   {
    "duration": 24,
    "start_time": "2022-04-14T19:31:36.668Z"
   },
   {
    "duration": 34,
    "start_time": "2022-04-14T19:31:36.694Z"
   },
   {
    "duration": 24,
    "start_time": "2022-04-14T19:31:36.731Z"
   },
   {
    "duration": 7,
    "start_time": "2022-04-14T19:31:36.757Z"
   },
   {
    "duration": 51,
    "start_time": "2022-04-14T19:31:36.767Z"
   },
   {
    "duration": 11,
    "start_time": "2022-04-14T19:31:36.823Z"
   },
   {
    "duration": 11,
    "start_time": "2022-04-14T19:31:36.837Z"
   },
   {
    "duration": 6,
    "start_time": "2022-04-14T19:31:36.851Z"
   },
   {
    "duration": 6,
    "start_time": "2022-04-14T19:31:36.860Z"
   },
   {
    "duration": 14,
    "start_time": "2022-04-14T19:31:36.869Z"
   },
   {
    "duration": 34,
    "start_time": "2022-04-14T19:31:36.885Z"
   },
   {
    "duration": 6,
    "start_time": "2022-04-14T19:31:36.921Z"
   },
   {
    "duration": 44,
    "start_time": "2022-04-14T19:31:36.928Z"
   },
   {
    "duration": 7,
    "start_time": "2022-04-14T19:31:36.974Z"
   },
   {
    "duration": 140,
    "start_time": "2022-04-14T19:31:36.983Z"
   },
   {
    "duration": 0,
    "start_time": "2022-04-14T19:31:37.125Z"
   },
   {
    "duration": 0,
    "start_time": "2022-04-14T19:31:37.130Z"
   },
   {
    "duration": 6,
    "start_time": "2022-04-14T19:31:42.373Z"
   },
   {
    "duration": 224,
    "start_time": "2022-04-14T19:31:52.591Z"
   },
   {
    "duration": 26,
    "start_time": "2022-04-14T19:31:52.819Z"
   },
   {
    "duration": 89,
    "start_time": "2022-04-14T19:31:52.848Z"
   },
   {
    "duration": 30,
    "start_time": "2022-04-14T19:31:52.940Z"
   },
   {
    "duration": 7,
    "start_time": "2022-04-14T19:31:52.972Z"
   },
   {
    "duration": 22,
    "start_time": "2022-04-14T19:31:52.981Z"
   },
   {
    "duration": 21,
    "start_time": "2022-04-14T19:31:53.005Z"
   },
   {
    "duration": 18,
    "start_time": "2022-04-14T19:31:53.028Z"
   },
   {
    "duration": 24,
    "start_time": "2022-04-14T19:31:53.048Z"
   },
   {
    "duration": 14,
    "start_time": "2022-04-14T19:31:53.076Z"
   },
   {
    "duration": 30,
    "start_time": "2022-04-14T19:31:53.092Z"
   },
   {
    "duration": 28,
    "start_time": "2022-04-14T19:31:53.123Z"
   },
   {
    "duration": 23,
    "start_time": "2022-04-14T19:31:53.153Z"
   },
   {
    "duration": 38,
    "start_time": "2022-04-14T19:31:53.178Z"
   },
   {
    "duration": 8,
    "start_time": "2022-04-14T19:31:53.220Z"
   },
   {
    "duration": 26,
    "start_time": "2022-04-14T19:31:53.230Z"
   },
   {
    "duration": 13,
    "start_time": "2022-04-14T19:31:53.259Z"
   },
   {
    "duration": 15,
    "start_time": "2022-04-14T19:31:53.274Z"
   },
   {
    "duration": 7,
    "start_time": "2022-04-14T19:32:37.970Z"
   },
   {
    "duration": 118,
    "start_time": "2022-04-14T19:33:39.036Z"
   },
   {
    "duration": 20,
    "start_time": "2022-04-14T19:34:34.546Z"
   },
   {
    "duration": 17,
    "start_time": "2022-04-14T19:34:46.688Z"
   },
   {
    "duration": 17,
    "start_time": "2022-04-14T19:34:53.234Z"
   },
   {
    "duration": 132,
    "start_time": "2022-04-14T19:39:28.766Z"
   },
   {
    "duration": 7,
    "start_time": "2022-04-14T19:40:54.162Z"
   },
   {
    "duration": 111,
    "start_time": "2022-04-14T19:46:28.783Z"
   },
   {
    "duration": 5,
    "start_time": "2022-04-14T19:46:33.162Z"
   },
   {
    "duration": 6,
    "start_time": "2022-04-14T19:51:50.041Z"
   },
   {
    "duration": 44,
    "start_time": "2022-04-15T08:49:10.527Z"
   },
   {
    "duration": 630,
    "start_time": "2022-04-15T08:49:18.296Z"
   },
   {
    "duration": 18,
    "start_time": "2022-04-15T08:49:18.928Z"
   },
   {
    "duration": 13,
    "start_time": "2022-04-15T08:49:18.948Z"
   },
   {
    "duration": 13,
    "start_time": "2022-04-15T08:49:18.963Z"
   },
   {
    "duration": 5,
    "start_time": "2022-04-15T08:49:18.977Z"
   },
   {
    "duration": 13,
    "start_time": "2022-04-15T08:49:19.000Z"
   },
   {
    "duration": 5,
    "start_time": "2022-04-15T08:49:19.014Z"
   },
   {
    "duration": 9,
    "start_time": "2022-04-15T08:49:19.021Z"
   },
   {
    "duration": 8,
    "start_time": "2022-04-15T08:49:19.031Z"
   },
   {
    "duration": 29,
    "start_time": "2022-04-15T08:49:19.042Z"
   },
   {
    "duration": 0,
    "start_time": "2022-04-15T08:49:19.073Z"
   },
   {
    "duration": 0,
    "start_time": "2022-04-15T08:49:19.100Z"
   },
   {
    "duration": 0,
    "start_time": "2022-04-15T08:49:19.101Z"
   },
   {
    "duration": 0,
    "start_time": "2022-04-15T08:49:19.102Z"
   },
   {
    "duration": 0,
    "start_time": "2022-04-15T08:49:19.103Z"
   },
   {
    "duration": 0,
    "start_time": "2022-04-15T08:49:19.104Z"
   },
   {
    "duration": 0,
    "start_time": "2022-04-15T08:49:19.105Z"
   },
   {
    "duration": 0,
    "start_time": "2022-04-15T08:49:19.106Z"
   },
   {
    "duration": 0,
    "start_time": "2022-04-15T08:49:19.107Z"
   },
   {
    "duration": 0,
    "start_time": "2022-04-15T08:49:19.108Z"
   },
   {
    "duration": 226,
    "start_time": "2022-04-15T08:49:23.622Z"
   },
   {
    "duration": 11,
    "start_time": "2022-04-15T08:49:23.850Z"
   },
   {
    "duration": 17,
    "start_time": "2022-04-15T08:49:23.863Z"
   },
   {
    "duration": 12,
    "start_time": "2022-04-15T08:49:23.881Z"
   },
   {
    "duration": 7,
    "start_time": "2022-04-15T08:49:23.894Z"
   },
   {
    "duration": 12,
    "start_time": "2022-04-15T08:49:23.902Z"
   },
   {
    "duration": 4,
    "start_time": "2022-04-15T08:49:23.915Z"
   },
   {
    "duration": 9,
    "start_time": "2022-04-15T08:49:23.921Z"
   },
   {
    "duration": 5,
    "start_time": "2022-04-15T08:49:23.931Z"
   },
   {
    "duration": 6,
    "start_time": "2022-04-15T08:49:23.938Z"
   },
   {
    "duration": 0,
    "start_time": "2022-04-15T08:49:23.945Z"
   },
   {
    "duration": 0,
    "start_time": "2022-04-15T08:49:23.946Z"
   },
   {
    "duration": 0,
    "start_time": "2022-04-15T08:49:23.947Z"
   },
   {
    "duration": 0,
    "start_time": "2022-04-15T08:49:23.948Z"
   },
   {
    "duration": 0,
    "start_time": "2022-04-15T08:49:23.949Z"
   },
   {
    "duration": 0,
    "start_time": "2022-04-15T08:49:23.950Z"
   },
   {
    "duration": 0,
    "start_time": "2022-04-15T08:49:23.951Z"
   },
   {
    "duration": 0,
    "start_time": "2022-04-15T08:49:23.952Z"
   },
   {
    "duration": 0,
    "start_time": "2022-04-15T08:49:23.953Z"
   },
   {
    "duration": 0,
    "start_time": "2022-04-15T08:49:23.953Z"
   },
   {
    "duration": 4,
    "start_time": "2022-04-15T08:50:15.428Z"
   },
   {
    "duration": 198,
    "start_time": "2022-04-15T08:50:19.234Z"
   },
   {
    "duration": 12,
    "start_time": "2022-04-15T08:50:19.433Z"
   },
   {
    "duration": 15,
    "start_time": "2022-04-15T08:50:19.446Z"
   },
   {
    "duration": 11,
    "start_time": "2022-04-15T08:50:19.463Z"
   },
   {
    "duration": 4,
    "start_time": "2022-04-15T08:50:19.476Z"
   },
   {
    "duration": 30,
    "start_time": "2022-04-15T08:50:19.481Z"
   },
   {
    "duration": 5,
    "start_time": "2022-04-15T08:50:19.512Z"
   },
   {
    "duration": 6,
    "start_time": "2022-04-15T08:50:19.518Z"
   },
   {
    "duration": 3,
    "start_time": "2022-04-15T08:50:19.526Z"
   },
   {
    "duration": 3,
    "start_time": "2022-04-15T08:50:19.532Z"
   },
   {
    "duration": 8,
    "start_time": "2022-04-15T08:50:19.536Z"
   },
   {
    "duration": 7,
    "start_time": "2022-04-15T08:50:19.546Z"
   },
   {
    "duration": 4,
    "start_time": "2022-04-15T08:50:19.554Z"
   },
   {
    "duration": 46,
    "start_time": "2022-04-15T08:50:19.560Z"
   },
   {
    "duration": 4,
    "start_time": "2022-04-15T08:50:19.608Z"
   },
   {
    "duration": 6,
    "start_time": "2022-04-15T08:50:19.614Z"
   },
   {
    "duration": 7,
    "start_time": "2022-04-15T08:50:19.621Z"
   },
   {
    "duration": 12,
    "start_time": "2022-04-15T08:50:19.629Z"
   },
   {
    "duration": 5,
    "start_time": "2022-04-15T08:50:19.643Z"
   },
   {
    "duration": 8,
    "start_time": "2022-04-15T08:50:19.649Z"
   },
   {
    "duration": 5,
    "start_time": "2022-04-15T08:51:32.107Z"
   },
   {
    "duration": 5,
    "start_time": "2022-04-15T08:51:38.466Z"
   },
   {
    "duration": 12,
    "start_time": "2022-04-15T08:53:34.478Z"
   },
   {
    "duration": 185,
    "start_time": "2022-04-15T08:54:33.156Z"
   },
   {
    "duration": 4,
    "start_time": "2022-04-15T08:54:42.345Z"
   },
   {
    "duration": 7,
    "start_time": "2022-04-15T08:55:28.195Z"
   },
   {
    "duration": 6,
    "start_time": "2022-04-15T08:58:45.171Z"
   },
   {
    "duration": 8,
    "start_time": "2022-04-15T09:01:53.161Z"
   },
   {
    "duration": 11,
    "start_time": "2022-04-15T09:06:15.148Z"
   },
   {
    "duration": 5,
    "start_time": "2022-04-15T09:17:30.783Z"
   },
   {
    "duration": 4,
    "start_time": "2022-04-15T09:37:51.269Z"
   },
   {
    "duration": 11,
    "start_time": "2022-04-15T09:38:09.388Z"
   },
   {
    "duration": 11,
    "start_time": "2022-04-15T09:42:29.412Z"
   },
   {
    "duration": 164,
    "start_time": "2022-04-15T09:43:56.827Z"
   },
   {
    "duration": 13,
    "start_time": "2022-04-15T09:52:33.725Z"
   },
   {
    "duration": 16,
    "start_time": "2022-04-15T10:00:07.073Z"
   },
   {
    "duration": 19,
    "start_time": "2022-04-15T10:02:22.723Z"
   },
   {
    "duration": 17,
    "start_time": "2022-04-15T10:03:27.352Z"
   },
   {
    "duration": 2,
    "start_time": "2022-04-15T10:05:34.899Z"
   },
   {
    "duration": 217,
    "start_time": "2022-04-15T10:06:47.197Z"
   },
   {
    "duration": 12,
    "start_time": "2022-04-15T10:06:47.417Z"
   },
   {
    "duration": 17,
    "start_time": "2022-04-15T10:06:47.431Z"
   },
   {
    "duration": 13,
    "start_time": "2022-04-15T10:06:47.449Z"
   },
   {
    "duration": 4,
    "start_time": "2022-04-15T10:06:47.464Z"
   },
   {
    "duration": 32,
    "start_time": "2022-04-15T10:06:47.469Z"
   },
   {
    "duration": 5,
    "start_time": "2022-04-15T10:06:47.502Z"
   },
   {
    "duration": 6,
    "start_time": "2022-04-15T10:06:47.509Z"
   },
   {
    "duration": 5,
    "start_time": "2022-04-15T10:06:47.516Z"
   },
   {
    "duration": 4,
    "start_time": "2022-04-15T10:06:47.524Z"
   },
   {
    "duration": 11,
    "start_time": "2022-04-15T10:06:47.529Z"
   },
   {
    "duration": 7,
    "start_time": "2022-04-15T10:06:47.542Z"
   },
   {
    "duration": 7,
    "start_time": "2022-04-15T10:06:47.551Z"
   },
   {
    "duration": 42,
    "start_time": "2022-04-15T10:06:47.559Z"
   },
   {
    "duration": 5,
    "start_time": "2022-04-15T10:06:47.602Z"
   },
   {
    "duration": 8,
    "start_time": "2022-04-15T10:06:47.609Z"
   },
   {
    "duration": 5,
    "start_time": "2022-04-15T10:06:47.619Z"
   },
   {
    "duration": 16,
    "start_time": "2022-04-15T10:06:47.626Z"
   },
   {
    "duration": 6,
    "start_time": "2022-04-15T10:06:47.644Z"
   },
   {
    "duration": 9,
    "start_time": "2022-04-15T10:06:47.651Z"
   },
   {
    "duration": 6,
    "start_time": "2022-04-15T10:06:47.661Z"
   },
   {
    "duration": 11,
    "start_time": "2022-04-15T10:06:47.700Z"
   },
   {
    "duration": 13,
    "start_time": "2022-04-15T10:06:47.712Z"
   },
   {
    "duration": 6,
    "start_time": "2022-04-15T10:06:47.727Z"
   },
   {
    "duration": 13,
    "start_time": "2022-04-15T10:06:47.734Z"
   },
   {
    "duration": 27,
    "start_time": "2022-04-15T10:06:47.749Z"
   },
   {
    "duration": 30,
    "start_time": "2022-04-15T10:06:47.777Z"
   },
   {
    "duration": 16,
    "start_time": "2022-04-15T10:06:47.810Z"
   },
   {
    "duration": 2,
    "start_time": "2022-04-15T10:06:47.828Z"
   },
   {
    "duration": 2,
    "start_time": "2022-04-15T10:06:51.488Z"
   },
   {
    "duration": 6,
    "start_time": "2022-04-15T10:13:29.158Z"
   },
   {
    "duration": 184,
    "start_time": "2022-04-15T10:18:51.109Z"
   },
   {
    "duration": 15,
    "start_time": "2022-04-15T10:19:09.021Z"
   },
   {
    "duration": 11,
    "start_time": "2022-04-15T10:22:10.849Z"
   },
   {
    "duration": 6,
    "start_time": "2022-04-15T10:22:39.018Z"
   },
   {
    "duration": 7,
    "start_time": "2022-04-15T10:23:20.454Z"
   },
   {
    "duration": 7,
    "start_time": "2022-04-15T10:23:35.957Z"
   },
   {
    "duration": 7,
    "start_time": "2022-04-16T06:38:40.500Z"
   },
   {
    "duration": 706,
    "start_time": "2022-04-16T06:38:57.950Z"
   },
   {
    "duration": 18,
    "start_time": "2022-04-16T06:38:58.658Z"
   },
   {
    "duration": 12,
    "start_time": "2022-04-16T06:38:58.677Z"
   },
   {
    "duration": 11,
    "start_time": "2022-04-16T06:38:58.691Z"
   },
   {
    "duration": 20,
    "start_time": "2022-04-16T06:38:58.703Z"
   },
   {
    "duration": 16,
    "start_time": "2022-04-16T06:38:58.725Z"
   },
   {
    "duration": 7,
    "start_time": "2022-04-16T06:38:58.743Z"
   },
   {
    "duration": 5,
    "start_time": "2022-04-16T06:38:58.751Z"
   },
   {
    "duration": 4,
    "start_time": "2022-04-16T06:38:58.757Z"
   },
   {
    "duration": 5,
    "start_time": "2022-04-16T06:38:58.763Z"
   },
   {
    "duration": 5,
    "start_time": "2022-04-16T06:38:58.769Z"
   },
   {
    "duration": 5,
    "start_time": "2022-04-16T06:38:58.776Z"
   },
   {
    "duration": 4,
    "start_time": "2022-04-16T06:38:58.782Z"
   },
   {
    "duration": 13,
    "start_time": "2022-04-16T06:38:58.825Z"
   },
   {
    "duration": 5,
    "start_time": "2022-04-16T06:38:58.840Z"
   },
   {
    "duration": 8,
    "start_time": "2022-04-16T06:38:58.847Z"
   },
   {
    "duration": 5,
    "start_time": "2022-04-16T06:38:58.856Z"
   },
   {
    "duration": 12,
    "start_time": "2022-04-16T06:38:58.863Z"
   },
   {
    "duration": 6,
    "start_time": "2022-04-16T06:38:58.876Z"
   },
   {
    "duration": 41,
    "start_time": "2022-04-16T06:38:58.883Z"
   },
   {
    "duration": 6,
    "start_time": "2022-04-16T06:38:58.926Z"
   },
   {
    "duration": 14,
    "start_time": "2022-04-16T06:38:58.934Z"
   },
   {
    "duration": 11,
    "start_time": "2022-04-16T06:38:58.950Z"
   },
   {
    "duration": 4,
    "start_time": "2022-04-16T06:38:58.963Z"
   },
   {
    "duration": 13,
    "start_time": "2022-04-16T06:38:58.968Z"
   },
   {
    "duration": 16,
    "start_time": "2022-04-16T06:38:58.982Z"
   },
   {
    "duration": 39,
    "start_time": "2022-04-16T06:38:59.000Z"
   },
   {
    "duration": 16,
    "start_time": "2022-04-16T06:38:59.042Z"
   },
   {
    "duration": 6,
    "start_time": "2022-04-16T06:38:59.060Z"
   },
   {
    "duration": 14,
    "start_time": "2022-04-16T06:38:59.067Z"
   },
   {
    "duration": 6,
    "start_time": "2022-04-16T06:38:59.083Z"
   },
   {
    "duration": 4,
    "start_time": "2022-04-16T06:38:59.091Z"
   },
   {
    "duration": 63,
    "start_time": "2022-04-16T06:50:51.338Z"
   },
   {
    "duration": 7,
    "start_time": "2022-04-16T06:52:01.560Z"
   },
   {
    "duration": 255,
    "start_time": "2022-04-16T06:52:29.339Z"
   },
   {
    "duration": 14,
    "start_time": "2022-04-16T06:52:29.596Z"
   },
   {
    "duration": 15,
    "start_time": "2022-04-16T06:52:29.612Z"
   },
   {
    "duration": 16,
    "start_time": "2022-04-16T06:52:29.629Z"
   },
   {
    "duration": 10,
    "start_time": "2022-04-16T06:52:29.647Z"
   },
   {
    "duration": 13,
    "start_time": "2022-04-16T06:52:29.658Z"
   },
   {
    "duration": 5,
    "start_time": "2022-04-16T06:52:29.673Z"
   },
   {
    "duration": 5,
    "start_time": "2022-04-16T06:52:29.680Z"
   },
   {
    "duration": 3,
    "start_time": "2022-04-16T06:52:29.687Z"
   },
   {
    "duration": 32,
    "start_time": "2022-04-16T06:52:29.693Z"
   },
   {
    "duration": 6,
    "start_time": "2022-04-16T06:52:29.727Z"
   },
   {
    "duration": 16,
    "start_time": "2022-04-16T06:52:29.735Z"
   },
   {
    "duration": 4,
    "start_time": "2022-04-16T06:52:29.753Z"
   },
   {
    "duration": 11,
    "start_time": "2022-04-16T06:52:29.758Z"
   },
   {
    "duration": 4,
    "start_time": "2022-04-16T06:52:29.771Z"
   },
   {
    "duration": 9,
    "start_time": "2022-04-16T06:52:29.776Z"
   },
   {
    "duration": 6,
    "start_time": "2022-04-16T06:52:29.786Z"
   },
   {
    "duration": 33,
    "start_time": "2022-04-16T06:52:29.793Z"
   },
   {
    "duration": 18,
    "start_time": "2022-04-16T06:52:29.828Z"
   },
   {
    "duration": 6,
    "start_time": "2022-04-16T06:52:29.848Z"
   },
   {
    "duration": 6,
    "start_time": "2022-04-16T06:52:29.855Z"
   },
   {
    "duration": 8,
    "start_time": "2022-04-16T06:52:29.862Z"
   },
   {
    "duration": 11,
    "start_time": "2022-04-16T06:52:29.872Z"
   },
   {
    "duration": 4,
    "start_time": "2022-04-16T06:52:29.885Z"
   },
   {
    "duration": 43,
    "start_time": "2022-04-16T06:52:29.890Z"
   },
   {
    "duration": 20,
    "start_time": "2022-04-16T06:52:29.934Z"
   },
   {
    "duration": 16,
    "start_time": "2022-04-16T06:52:29.956Z"
   },
   {
    "duration": 13,
    "start_time": "2022-04-16T06:52:29.975Z"
   },
   {
    "duration": 6,
    "start_time": "2022-04-16T06:52:29.990Z"
   },
   {
    "duration": 44,
    "start_time": "2022-04-16T06:52:29.997Z"
   },
   {
    "duration": 9,
    "start_time": "2022-04-16T06:52:30.043Z"
   },
   {
    "duration": 13,
    "start_time": "2022-04-16T06:52:30.053Z"
   },
   {
    "duration": 11,
    "start_time": "2022-04-16T06:52:30.068Z"
   },
   {
    "duration": 7,
    "start_time": "2022-04-16T06:52:43.112Z"
   },
   {
    "duration": 7,
    "start_time": "2022-04-16T06:52:52.049Z"
   },
   {
    "duration": 6,
    "start_time": "2022-04-16T06:53:12.575Z"
   },
   {
    "duration": 147,
    "start_time": "2022-04-16T07:30:33.093Z"
   },
   {
    "duration": 106,
    "start_time": "2022-04-16T07:33:15.478Z"
   },
   {
    "duration": 98,
    "start_time": "2022-04-16T07:33:38.062Z"
   },
   {
    "duration": 527,
    "start_time": "2022-04-16T07:53:26.826Z"
   },
   {
    "duration": 6,
    "start_time": "2022-04-16T07:53:36.849Z"
   },
   {
    "duration": 9,
    "start_time": "2022-04-16T07:53:45.337Z"
   },
   {
    "duration": 487,
    "start_time": "2022-04-16T07:53:59.961Z"
   },
   {
    "duration": 10,
    "start_time": "2022-04-16T07:54:02.216Z"
   },
   {
    "duration": 906,
    "start_time": "2022-04-16T07:55:14.345Z"
   },
   {
    "duration": 22,
    "start_time": "2022-04-16T07:55:15.253Z"
   },
   {
    "duration": 3,
    "start_time": "2022-04-16T07:55:52.720Z"
   },
   {
    "duration": 59,
    "start_time": "2022-04-16T07:59:25.334Z"
   },
   {
    "duration": 0,
    "start_time": "2022-04-16T07:59:25.394Z"
   },
   {
    "duration": 685,
    "start_time": "2022-04-16T07:59:32.725Z"
   },
   {
    "duration": 21,
    "start_time": "2022-04-16T07:59:33.412Z"
   },
   {
    "duration": 15,
    "start_time": "2022-04-16T07:59:33.434Z"
   },
   {
    "duration": 14,
    "start_time": "2022-04-16T07:59:33.451Z"
   },
   {
    "duration": 5,
    "start_time": "2022-04-16T07:59:33.466Z"
   },
   {
    "duration": 15,
    "start_time": "2022-04-16T07:59:33.472Z"
   },
   {
    "duration": 38,
    "start_time": "2022-04-16T07:59:33.489Z"
   },
   {
    "duration": 6,
    "start_time": "2022-04-16T07:59:33.529Z"
   },
   {
    "duration": 4,
    "start_time": "2022-04-16T07:59:33.537Z"
   },
   {
    "duration": 4,
    "start_time": "2022-04-16T07:59:33.545Z"
   },
   {
    "duration": 5,
    "start_time": "2022-04-16T07:59:33.550Z"
   },
   {
    "duration": 6,
    "start_time": "2022-04-16T07:59:33.557Z"
   },
   {
    "duration": 5,
    "start_time": "2022-04-16T07:59:33.564Z"
   },
   {
    "duration": 61,
    "start_time": "2022-04-16T07:59:33.570Z"
   },
   {
    "duration": 6,
    "start_time": "2022-04-16T07:59:33.632Z"
   },
   {
    "duration": 5,
    "start_time": "2022-04-16T07:59:33.640Z"
   },
   {
    "duration": 5,
    "start_time": "2022-04-16T07:59:33.647Z"
   },
   {
    "duration": 12,
    "start_time": "2022-04-16T07:59:33.654Z"
   },
   {
    "duration": 7,
    "start_time": "2022-04-16T07:59:33.667Z"
   },
   {
    "duration": 4,
    "start_time": "2022-04-16T07:59:33.676Z"
   },
   {
    "duration": 42,
    "start_time": "2022-04-16T07:59:33.682Z"
   },
   {
    "duration": 7,
    "start_time": "2022-04-16T07:59:33.726Z"
   },
   {
    "duration": 14,
    "start_time": "2022-04-16T07:59:33.735Z"
   },
   {
    "duration": 7,
    "start_time": "2022-04-16T07:59:33.750Z"
   },
   {
    "duration": 12,
    "start_time": "2022-04-16T07:59:33.758Z"
   },
   {
    "duration": 18,
    "start_time": "2022-04-16T07:59:33.772Z"
   },
   {
    "duration": 43,
    "start_time": "2022-04-16T07:59:33.792Z"
   },
   {
    "duration": 16,
    "start_time": "2022-04-16T07:59:33.838Z"
   },
   {
    "duration": 6,
    "start_time": "2022-04-16T07:59:33.855Z"
   },
   {
    "duration": 15,
    "start_time": "2022-04-16T07:59:33.863Z"
   },
   {
    "duration": 981,
    "start_time": "2022-04-16T07:59:33.879Z"
   },
   {
    "duration": 26,
    "start_time": "2022-04-16T07:59:34.862Z"
   },
   {
    "duration": 604,
    "start_time": "2022-04-16T08:00:18.740Z"
   },
   {
    "duration": 26,
    "start_time": "2022-04-16T08:00:20.066Z"
   },
   {
    "duration": 41,
    "start_time": "2022-04-16T08:01:11.344Z"
   },
   {
    "duration": 21,
    "start_time": "2022-04-16T08:01:14.343Z"
   },
   {
    "duration": 13,
    "start_time": "2022-04-16T09:00:16.011Z"
   },
   {
    "duration": 11,
    "start_time": "2022-04-16T09:00:43.099Z"
   },
   {
    "duration": 8,
    "start_time": "2022-04-16T09:14:01.804Z"
   },
   {
    "duration": 206,
    "start_time": "2022-04-16T09:14:15.099Z"
   },
   {
    "duration": 12,
    "start_time": "2022-04-16T09:14:15.307Z"
   },
   {
    "duration": 17,
    "start_time": "2022-04-16T09:14:15.321Z"
   },
   {
    "duration": 11,
    "start_time": "2022-04-16T09:14:15.340Z"
   },
   {
    "duration": 4,
    "start_time": "2022-04-16T09:14:15.353Z"
   },
   {
    "duration": 14,
    "start_time": "2022-04-16T09:14:15.358Z"
   },
   {
    "duration": 4,
    "start_time": "2022-04-16T09:14:15.373Z"
   },
   {
    "duration": 6,
    "start_time": "2022-04-16T09:14:15.379Z"
   },
   {
    "duration": 4,
    "start_time": "2022-04-16T09:14:15.387Z"
   },
   {
    "duration": 31,
    "start_time": "2022-04-16T09:14:15.393Z"
   },
   {
    "duration": 9,
    "start_time": "2022-04-16T09:14:15.425Z"
   },
   {
    "duration": 7,
    "start_time": "2022-04-16T09:14:15.435Z"
   },
   {
    "duration": 7,
    "start_time": "2022-04-16T09:14:15.443Z"
   },
   {
    "duration": 12,
    "start_time": "2022-04-16T09:14:15.451Z"
   },
   {
    "duration": 4,
    "start_time": "2022-04-16T09:14:15.465Z"
   },
   {
    "duration": 7,
    "start_time": "2022-04-16T09:14:15.471Z"
   },
   {
    "duration": 5,
    "start_time": "2022-04-16T09:14:15.479Z"
   },
   {
    "duration": 46,
    "start_time": "2022-04-16T09:14:15.485Z"
   },
   {
    "duration": 6,
    "start_time": "2022-04-16T09:14:15.532Z"
   },
   {
    "duration": 6,
    "start_time": "2022-04-16T09:14:15.539Z"
   },
   {
    "duration": 5,
    "start_time": "2022-04-16T09:14:15.547Z"
   },
   {
    "duration": 8,
    "start_time": "2022-04-16T09:14:15.553Z"
   },
   {
    "duration": 11,
    "start_time": "2022-04-16T09:14:15.563Z"
   },
   {
    "duration": 20,
    "start_time": "2022-04-16T09:14:15.575Z"
   },
   {
    "duration": 19,
    "start_time": "2022-04-16T09:14:15.596Z"
   },
   {
    "duration": 16,
    "start_time": "2022-04-16T09:14:15.624Z"
   },
   {
    "duration": 16,
    "start_time": "2022-04-16T09:14:15.642Z"
   },
   {
    "duration": 15,
    "start_time": "2022-04-16T09:14:15.661Z"
   },
   {
    "duration": 6,
    "start_time": "2022-04-16T09:14:15.677Z"
   },
   {
    "duration": 44,
    "start_time": "2022-04-16T09:14:15.685Z"
   },
   {
    "duration": 7,
    "start_time": "2022-04-16T09:14:15.730Z"
   },
   {
    "duration": 9,
    "start_time": "2022-04-16T09:15:15.376Z"
   },
   {
    "duration": 9,
    "start_time": "2022-04-16T09:15:23.928Z"
   },
   {
    "duration": 108,
    "start_time": "2022-04-16T09:15:58.471Z"
   },
   {
    "duration": 9,
    "start_time": "2022-04-16T09:18:37.263Z"
   },
   {
    "duration": 887,
    "start_time": "2022-04-16T09:19:07.863Z"
   },
   {
    "duration": 828,
    "start_time": "2022-04-16T09:19:43.503Z"
   },
   {
    "duration": 124,
    "start_time": "2022-04-16T09:24:20.004Z"
   },
   {
    "duration": 9,
    "start_time": "2022-04-16T09:24:25.989Z"
   },
   {
    "duration": 118,
    "start_time": "2022-04-16T09:26:28.853Z"
   },
   {
    "duration": 108,
    "start_time": "2022-04-16T09:26:39.421Z"
   },
   {
    "duration": 99,
    "start_time": "2022-04-16T09:27:01.645Z"
   },
   {
    "duration": 104,
    "start_time": "2022-04-16T09:27:06.756Z"
   },
   {
    "duration": 114,
    "start_time": "2022-04-16T09:30:12.123Z"
   },
   {
    "duration": 136,
    "start_time": "2022-04-16T09:30:21.988Z"
   },
   {
    "duration": 112,
    "start_time": "2022-04-16T09:30:36.436Z"
   },
   {
    "duration": 108,
    "start_time": "2022-04-16T09:30:48.595Z"
   },
   {
    "duration": 117,
    "start_time": "2022-04-16T09:31:04.123Z"
   },
   {
    "duration": 7,
    "start_time": "2022-04-16T09:31:14.027Z"
   },
   {
    "duration": 11,
    "start_time": "2022-04-16T09:31:23.820Z"
   },
   {
    "duration": 973,
    "start_time": "2022-04-16T09:32:58.555Z"
   },
   {
    "duration": 9,
    "start_time": "2022-04-16T09:33:07.324Z"
   },
   {
    "duration": 11,
    "start_time": "2022-04-16T09:34:37.395Z"
   },
   {
    "duration": 5,
    "start_time": "2022-04-16T09:35:15.658Z"
   },
   {
    "duration": 5,
    "start_time": "2022-04-16T09:36:50.779Z"
   },
   {
    "duration": 5,
    "start_time": "2022-04-16T09:37:21.458Z"
   },
   {
    "duration": 8,
    "start_time": "2022-04-16T09:37:23.282Z"
   },
   {
    "duration": 6,
    "start_time": "2022-04-16T09:37:25.290Z"
   },
   {
    "duration": 11,
    "start_time": "2022-04-16T09:38:58.298Z"
   },
   {
    "duration": 105,
    "start_time": "2022-04-16T09:39:09.379Z"
   },
   {
    "duration": 4,
    "start_time": "2022-04-16T09:41:20.186Z"
   },
   {
    "duration": 6,
    "start_time": "2022-04-16T09:41:22.785Z"
   },
   {
    "duration": 12,
    "start_time": "2022-04-16T09:42:04.075Z"
   },
   {
    "duration": 9,
    "start_time": "2022-04-16T09:42:18.850Z"
   },
   {
    "duration": 6,
    "start_time": "2022-04-16T09:43:16.738Z"
   },
   {
    "duration": 7,
    "start_time": "2022-04-16T09:43:17.865Z"
   },
   {
    "duration": 4,
    "start_time": "2022-04-16T09:43:29.402Z"
   },
   {
    "duration": 3,
    "start_time": "2022-04-16T09:44:16.498Z"
   },
   {
    "duration": 8,
    "start_time": "2022-04-16T09:44:31.778Z"
   },
   {
    "duration": 357,
    "start_time": "2022-04-16T09:44:39.812Z"
   },
   {
    "duration": 14,
    "start_time": "2022-04-16T09:44:40.171Z"
   },
   {
    "duration": 14,
    "start_time": "2022-04-16T09:44:40.186Z"
   },
   {
    "duration": 12,
    "start_time": "2022-04-16T09:44:40.202Z"
   },
   {
    "duration": 11,
    "start_time": "2022-04-16T09:44:40.215Z"
   },
   {
    "duration": 12,
    "start_time": "2022-04-16T09:44:40.227Z"
   },
   {
    "duration": 5,
    "start_time": "2022-04-16T09:44:40.240Z"
   },
   {
    "duration": 5,
    "start_time": "2022-04-16T09:44:40.246Z"
   },
   {
    "duration": 4,
    "start_time": "2022-04-16T09:44:40.252Z"
   },
   {
    "duration": 4,
    "start_time": "2022-04-16T09:44:40.258Z"
   },
   {
    "duration": 5,
    "start_time": "2022-04-16T09:44:40.263Z"
   },
   {
    "duration": 12,
    "start_time": "2022-04-16T09:44:40.270Z"
   },
   {
    "duration": 5,
    "start_time": "2022-04-16T09:44:40.283Z"
   },
   {
    "duration": 45,
    "start_time": "2022-04-16T09:44:40.289Z"
   },
   {
    "duration": 4,
    "start_time": "2022-04-16T09:44:40.335Z"
   },
   {
    "duration": 5,
    "start_time": "2022-04-16T09:44:40.341Z"
   },
   {
    "duration": 5,
    "start_time": "2022-04-16T09:44:40.348Z"
   },
   {
    "duration": 12,
    "start_time": "2022-04-16T09:44:40.355Z"
   },
   {
    "duration": 7,
    "start_time": "2022-04-16T09:44:40.368Z"
   },
   {
    "duration": 8,
    "start_time": "2022-04-16T09:44:40.376Z"
   },
   {
    "duration": 40,
    "start_time": "2022-04-16T09:44:40.385Z"
   },
   {
    "duration": 9,
    "start_time": "2022-04-16T09:44:40.426Z"
   },
   {
    "duration": 13,
    "start_time": "2022-04-16T09:44:40.437Z"
   },
   {
    "duration": 9,
    "start_time": "2022-04-16T09:44:40.451Z"
   },
   {
    "duration": 12,
    "start_time": "2022-04-16T09:44:40.461Z"
   },
   {
    "duration": 18,
    "start_time": "2022-04-16T09:44:40.474Z"
   },
   {
    "duration": 32,
    "start_time": "2022-04-16T09:44:40.494Z"
   },
   {
    "duration": 15,
    "start_time": "2022-04-16T09:44:40.530Z"
   },
   {
    "duration": 6,
    "start_time": "2022-04-16T09:44:40.546Z"
   },
   {
    "duration": 15,
    "start_time": "2022-04-16T09:44:40.553Z"
   },
   {
    "duration": 3,
    "start_time": "2022-04-16T09:44:40.570Z"
   },
   {
    "duration": 9,
    "start_time": "2022-04-16T09:44:40.574Z"
   },
   {
    "duration": 9,
    "start_time": "2022-04-16T09:44:40.584Z"
   },
   {
    "duration": 7,
    "start_time": "2022-04-16T09:44:55.921Z"
   },
   {
    "duration": 7,
    "start_time": "2022-04-16T09:45:48.706Z"
   },
   {
    "duration": 8,
    "start_time": "2022-04-16T09:46:16.873Z"
   },
   {
    "duration": 8,
    "start_time": "2022-04-16T09:46:18.937Z"
   },
   {
    "duration": 8,
    "start_time": "2022-04-16T09:47:12.730Z"
   },
   {
    "duration": 7,
    "start_time": "2022-04-16T09:47:14.665Z"
   },
   {
    "duration": 201,
    "start_time": "2022-04-16T09:47:26.100Z"
   },
   {
    "duration": 12,
    "start_time": "2022-04-16T09:47:26.302Z"
   },
   {
    "duration": 14,
    "start_time": "2022-04-16T09:47:26.316Z"
   },
   {
    "duration": 12,
    "start_time": "2022-04-16T09:47:26.332Z"
   },
   {
    "duration": 5,
    "start_time": "2022-04-16T09:47:26.345Z"
   },
   {
    "duration": 13,
    "start_time": "2022-04-16T09:47:26.351Z"
   },
   {
    "duration": 4,
    "start_time": "2022-04-16T09:47:26.366Z"
   },
   {
    "duration": 6,
    "start_time": "2022-04-16T09:47:26.371Z"
   },
   {
    "duration": 4,
    "start_time": "2022-04-16T09:47:26.378Z"
   },
   {
    "duration": 4,
    "start_time": "2022-04-16T09:47:26.426Z"
   },
   {
    "duration": 6,
    "start_time": "2022-04-16T09:47:26.432Z"
   },
   {
    "duration": 5,
    "start_time": "2022-04-16T09:47:26.439Z"
   },
   {
    "duration": 4,
    "start_time": "2022-04-16T09:47:26.445Z"
   },
   {
    "duration": 13,
    "start_time": "2022-04-16T09:47:26.451Z"
   },
   {
    "duration": 4,
    "start_time": "2022-04-16T09:47:26.465Z"
   },
   {
    "duration": 6,
    "start_time": "2022-04-16T09:47:26.471Z"
   },
   {
    "duration": 5,
    "start_time": "2022-04-16T09:47:26.523Z"
   },
   {
    "duration": 16,
    "start_time": "2022-04-16T09:47:26.529Z"
   },
   {
    "duration": 6,
    "start_time": "2022-04-16T09:47:26.546Z"
   },
   {
    "duration": 8,
    "start_time": "2022-04-16T09:47:26.553Z"
   },
   {
    "duration": 8,
    "start_time": "2022-04-16T09:47:26.562Z"
   },
   {
    "duration": 8,
    "start_time": "2022-04-16T09:47:26.572Z"
   },
   {
    "duration": 45,
    "start_time": "2022-04-16T09:47:26.582Z"
   },
   {
    "duration": 5,
    "start_time": "2022-04-16T09:47:26.629Z"
   },
   {
    "duration": 16,
    "start_time": "2022-04-16T09:47:26.636Z"
   },
   {
    "duration": 23,
    "start_time": "2022-04-16T09:47:26.654Z"
   },
   {
    "duration": 17,
    "start_time": "2022-04-16T09:47:26.679Z"
   },
   {
    "duration": 43,
    "start_time": "2022-04-16T09:47:26.698Z"
   },
   {
    "duration": 8,
    "start_time": "2022-04-16T09:47:26.742Z"
   },
   {
    "duration": 24,
    "start_time": "2022-04-16T09:47:26.752Z"
   },
   {
    "duration": 9,
    "start_time": "2022-04-16T09:47:26.778Z"
   },
   {
    "duration": 36,
    "start_time": "2022-04-16T09:47:26.789Z"
   },
   {
    "duration": 207,
    "start_time": "2022-04-16T10:30:19.151Z"
   },
   {
    "duration": 13,
    "start_time": "2022-04-16T10:30:19.359Z"
   },
   {
    "duration": 15,
    "start_time": "2022-04-16T10:30:19.374Z"
   },
   {
    "duration": 13,
    "start_time": "2022-04-16T10:30:19.391Z"
   },
   {
    "duration": 4,
    "start_time": "2022-04-16T10:30:19.406Z"
   },
   {
    "duration": 14,
    "start_time": "2022-04-16T10:30:19.424Z"
   },
   {
    "duration": 5,
    "start_time": "2022-04-16T10:30:19.440Z"
   },
   {
    "duration": 6,
    "start_time": "2022-04-16T10:30:19.447Z"
   },
   {
    "duration": 4,
    "start_time": "2022-04-16T10:30:19.454Z"
   },
   {
    "duration": 4,
    "start_time": "2022-04-16T10:30:19.461Z"
   },
   {
    "duration": 8,
    "start_time": "2022-04-16T10:30:19.466Z"
   },
   {
    "duration": 7,
    "start_time": "2022-04-16T10:30:19.475Z"
   },
   {
    "duration": 40,
    "start_time": "2022-04-16T10:30:19.484Z"
   },
   {
    "duration": 13,
    "start_time": "2022-04-16T10:30:19.526Z"
   },
   {
    "duration": 4,
    "start_time": "2022-04-16T10:30:19.541Z"
   },
   {
    "duration": 5,
    "start_time": "2022-04-16T10:30:19.547Z"
   },
   {
    "duration": 9,
    "start_time": "2022-04-16T10:30:19.554Z"
   },
   {
    "duration": 18,
    "start_time": "2022-04-16T10:30:19.565Z"
   },
   {
    "duration": 6,
    "start_time": "2022-04-16T10:30:19.584Z"
   },
   {
    "duration": 33,
    "start_time": "2022-04-16T10:30:19.592Z"
   },
   {
    "duration": 6,
    "start_time": "2022-04-16T10:30:19.626Z"
   },
   {
    "duration": 9,
    "start_time": "2022-04-16T10:30:19.633Z"
   },
   {
    "duration": 11,
    "start_time": "2022-04-16T10:30:19.644Z"
   },
   {
    "duration": 4,
    "start_time": "2022-04-16T10:30:19.657Z"
   },
   {
    "duration": 13,
    "start_time": "2022-04-16T10:30:19.663Z"
   },
   {
    "duration": 46,
    "start_time": "2022-04-16T10:30:19.677Z"
   },
   {
    "duration": 18,
    "start_time": "2022-04-16T10:30:19.725Z"
   },
   {
    "duration": 16,
    "start_time": "2022-04-16T10:30:19.746Z"
   },
   {
    "duration": 6,
    "start_time": "2022-04-16T10:30:19.764Z"
   },
   {
    "duration": 15,
    "start_time": "2022-04-16T10:30:19.771Z"
   },
   {
    "duration": 8,
    "start_time": "2022-04-16T10:30:19.788Z"
   },
   {
    "duration": 11,
    "start_time": "2022-04-16T10:30:19.824Z"
   },
   {
    "duration": 13,
    "start_time": "2022-04-16T10:38:49.366Z"
   },
   {
    "duration": 12,
    "start_time": "2022-04-16T10:39:02.775Z"
   },
   {
    "duration": 9,
    "start_time": "2022-04-16T10:39:10.328Z"
   },
   {
    "duration": 10,
    "start_time": "2022-04-16T10:39:17.431Z"
   },
   {
    "duration": 167,
    "start_time": "2022-04-16T10:39:21.858Z"
   },
   {
    "duration": 12,
    "start_time": "2022-04-16T10:39:22.027Z"
   },
   {
    "duration": 15,
    "start_time": "2022-04-16T10:39:22.041Z"
   },
   {
    "duration": 13,
    "start_time": "2022-04-16T10:39:22.058Z"
   },
   {
    "duration": 5,
    "start_time": "2022-04-16T10:39:22.073Z"
   },
   {
    "duration": 12,
    "start_time": "2022-04-16T10:39:22.080Z"
   },
   {
    "duration": 30,
    "start_time": "2022-04-16T10:39:22.094Z"
   },
   {
    "duration": 6,
    "start_time": "2022-04-16T10:39:22.125Z"
   },
   {
    "duration": 6,
    "start_time": "2022-04-16T10:39:22.133Z"
   },
   {
    "duration": 4,
    "start_time": "2022-04-16T10:39:22.142Z"
   },
   {
    "duration": 6,
    "start_time": "2022-04-16T10:39:22.148Z"
   },
   {
    "duration": 6,
    "start_time": "2022-04-16T10:39:22.156Z"
   },
   {
    "duration": 5,
    "start_time": "2022-04-16T10:39:22.163Z"
   },
   {
    "duration": 12,
    "start_time": "2022-04-16T10:39:22.170Z"
   },
   {
    "duration": 42,
    "start_time": "2022-04-16T10:39:22.184Z"
   },
   {
    "duration": 7,
    "start_time": "2022-04-16T10:39:22.228Z"
   },
   {
    "duration": 8,
    "start_time": "2022-04-16T10:39:22.237Z"
   },
   {
    "duration": 12,
    "start_time": "2022-04-16T10:39:22.247Z"
   },
   {
    "duration": 6,
    "start_time": "2022-04-16T10:39:22.261Z"
   },
   {
    "duration": 5,
    "start_time": "2022-04-16T10:39:22.269Z"
   },
   {
    "duration": 7,
    "start_time": "2022-04-16T10:39:22.275Z"
   },
   {
    "duration": 45,
    "start_time": "2022-04-16T10:39:22.284Z"
   },
   {
    "duration": 12,
    "start_time": "2022-04-16T10:39:22.330Z"
   },
   {
    "duration": 7,
    "start_time": "2022-04-16T10:39:22.343Z"
   },
   {
    "duration": 11,
    "start_time": "2022-04-16T10:39:22.352Z"
   },
   {
    "duration": 17,
    "start_time": "2022-04-16T10:39:22.365Z"
   },
   {
    "duration": 41,
    "start_time": "2022-04-16T10:39:22.384Z"
   },
   {
    "duration": 16,
    "start_time": "2022-04-16T10:39:22.428Z"
   },
   {
    "duration": 6,
    "start_time": "2022-04-16T10:39:22.445Z"
   },
   {
    "duration": 16,
    "start_time": "2022-04-16T10:39:22.452Z"
   },
   {
    "duration": 9,
    "start_time": "2022-04-16T10:39:22.470Z"
   },
   {
    "duration": 10,
    "start_time": "2022-04-16T10:39:22.480Z"
   },
   {
    "duration": 10,
    "start_time": "2022-04-16T10:39:22.491Z"
   },
   {
    "duration": 13,
    "start_time": "2022-04-16T10:39:35.199Z"
   },
   {
    "duration": 23,
    "start_time": "2022-04-16T10:39:43.143Z"
   },
   {
    "duration": 9,
    "start_time": "2022-04-16T10:40:40.007Z"
   },
   {
    "duration": 10,
    "start_time": "2022-04-16T10:40:59.711Z"
   },
   {
    "duration": 18,
    "start_time": "2022-04-16T10:41:02.358Z"
   },
   {
    "duration": 196,
    "start_time": "2022-04-16T10:41:08.698Z"
   },
   {
    "duration": 12,
    "start_time": "2022-04-16T10:41:08.896Z"
   },
   {
    "duration": 20,
    "start_time": "2022-04-16T10:41:08.910Z"
   },
   {
    "duration": 12,
    "start_time": "2022-04-16T10:41:08.932Z"
   },
   {
    "duration": 5,
    "start_time": "2022-04-16T10:41:08.945Z"
   },
   {
    "duration": 13,
    "start_time": "2022-04-16T10:41:08.951Z"
   },
   {
    "duration": 6,
    "start_time": "2022-04-16T10:41:08.966Z"
   },
   {
    "duration": 6,
    "start_time": "2022-04-16T10:41:08.973Z"
   },
   {
    "duration": 5,
    "start_time": "2022-04-16T10:41:08.981Z"
   },
   {
    "duration": 37,
    "start_time": "2022-04-16T10:41:08.989Z"
   },
   {
    "duration": 5,
    "start_time": "2022-04-16T10:41:09.027Z"
   },
   {
    "duration": 8,
    "start_time": "2022-04-16T10:41:09.033Z"
   },
   {
    "duration": 7,
    "start_time": "2022-04-16T10:41:09.043Z"
   },
   {
    "duration": 21,
    "start_time": "2022-04-16T10:41:09.052Z"
   },
   {
    "duration": 5,
    "start_time": "2022-04-16T10:41:09.074Z"
   },
   {
    "duration": 9,
    "start_time": "2022-04-16T10:41:09.080Z"
   },
   {
    "duration": 5,
    "start_time": "2022-04-16T10:41:09.090Z"
   },
   {
    "duration": 42,
    "start_time": "2022-04-16T10:41:09.096Z"
   },
   {
    "duration": 7,
    "start_time": "2022-04-16T10:41:09.140Z"
   },
   {
    "duration": 10,
    "start_time": "2022-04-16T10:41:09.149Z"
   },
   {
    "duration": 7,
    "start_time": "2022-04-16T10:41:09.160Z"
   },
   {
    "duration": 8,
    "start_time": "2022-04-16T10:41:09.168Z"
   },
   {
    "duration": 14,
    "start_time": "2022-04-16T10:41:09.177Z"
   },
   {
    "duration": 5,
    "start_time": "2022-04-16T10:41:09.192Z"
   },
   {
    "duration": 33,
    "start_time": "2022-04-16T10:41:09.198Z"
   },
   {
    "duration": 22,
    "start_time": "2022-04-16T10:41:09.232Z"
   },
   {
    "duration": 17,
    "start_time": "2022-04-16T10:41:09.256Z"
   },
   {
    "duration": 16,
    "start_time": "2022-04-16T10:41:09.276Z"
   },
   {
    "duration": 6,
    "start_time": "2022-04-16T10:41:09.293Z"
   },
   {
    "duration": 18,
    "start_time": "2022-04-16T10:41:09.323Z"
   },
   {
    "duration": 12,
    "start_time": "2022-04-16T10:41:09.343Z"
   },
   {
    "duration": 10,
    "start_time": "2022-04-16T10:41:09.357Z"
   },
   {
    "duration": 25,
    "start_time": "2022-04-16T10:41:09.368Z"
   },
   {
    "duration": 35,
    "start_time": "2022-04-16T10:41:09.395Z"
   },
   {
    "duration": 10,
    "start_time": "2022-04-16T10:41:30.680Z"
   },
   {
    "duration": 218,
    "start_time": "2022-04-16T11:55:00.714Z"
   },
   {
    "duration": 11,
    "start_time": "2022-04-16T11:55:00.934Z"
   },
   {
    "duration": 17,
    "start_time": "2022-04-16T11:55:00.947Z"
   },
   {
    "duration": 16,
    "start_time": "2022-04-16T11:55:00.966Z"
   },
   {
    "duration": 5,
    "start_time": "2022-04-16T11:55:00.983Z"
   },
   {
    "duration": 15,
    "start_time": "2022-04-16T11:55:00.989Z"
   },
   {
    "duration": 18,
    "start_time": "2022-04-16T11:55:01.006Z"
   },
   {
    "duration": 5,
    "start_time": "2022-04-16T11:55:01.025Z"
   },
   {
    "duration": 4,
    "start_time": "2022-04-16T11:55:01.031Z"
   },
   {
    "duration": 8,
    "start_time": "2022-04-16T11:55:01.037Z"
   },
   {
    "duration": 11,
    "start_time": "2022-04-16T11:55:01.046Z"
   },
   {
    "duration": 9,
    "start_time": "2022-04-16T11:55:01.058Z"
   },
   {
    "duration": 14,
    "start_time": "2022-04-16T11:55:01.068Z"
   },
   {
    "duration": 18,
    "start_time": "2022-04-16T11:55:01.084Z"
   },
   {
    "duration": 4,
    "start_time": "2022-04-16T11:55:01.103Z"
   },
   {
    "duration": 16,
    "start_time": "2022-04-16T11:55:01.108Z"
   },
   {
    "duration": 6,
    "start_time": "2022-04-16T11:55:01.126Z"
   },
   {
    "duration": 32,
    "start_time": "2022-04-16T11:55:01.133Z"
   },
   {
    "duration": 6,
    "start_time": "2022-04-16T11:55:01.166Z"
   },
   {
    "duration": 7,
    "start_time": "2022-04-16T11:55:01.173Z"
   },
   {
    "duration": 9,
    "start_time": "2022-04-16T11:55:01.182Z"
   },
   {
    "duration": 18,
    "start_time": "2022-04-16T11:55:01.193Z"
   },
   {
    "duration": 12,
    "start_time": "2022-04-16T11:55:01.212Z"
   },
   {
    "duration": 19,
    "start_time": "2022-04-16T11:55:01.225Z"
   },
   {
    "duration": 20,
    "start_time": "2022-04-16T11:55:01.246Z"
   },
   {
    "duration": 17,
    "start_time": "2022-04-16T11:55:01.268Z"
   },
   {
    "duration": 16,
    "start_time": "2022-04-16T11:55:01.287Z"
   },
   {
    "duration": 17,
    "start_time": "2022-04-16T11:55:01.307Z"
   },
   {
    "duration": 6,
    "start_time": "2022-04-16T11:55:01.326Z"
   },
   {
    "duration": 16,
    "start_time": "2022-04-16T11:55:01.333Z"
   },
   {
    "duration": 8,
    "start_time": "2022-04-16T11:55:01.350Z"
   },
   {
    "duration": 13,
    "start_time": "2022-04-16T11:55:01.359Z"
   },
   {
    "duration": 14,
    "start_time": "2022-04-16T11:55:01.374Z"
   },
   {
    "duration": 16,
    "start_time": "2022-04-16T11:55:01.389Z"
   },
   {
    "duration": 11,
    "start_time": "2022-04-16T11:58:24.470Z"
   },
   {
    "duration": 281,
    "start_time": "2022-04-16T11:58:32.649Z"
   },
   {
    "duration": 12,
    "start_time": "2022-04-16T11:58:32.932Z"
   },
   {
    "duration": 28,
    "start_time": "2022-04-16T11:58:32.946Z"
   },
   {
    "duration": 15,
    "start_time": "2022-04-16T11:58:32.976Z"
   },
   {
    "duration": 11,
    "start_time": "2022-04-16T11:58:32.992Z"
   },
   {
    "duration": 12,
    "start_time": "2022-04-16T11:58:33.005Z"
   },
   {
    "duration": 5,
    "start_time": "2022-04-16T11:58:33.019Z"
   },
   {
    "duration": 18,
    "start_time": "2022-04-16T11:58:33.025Z"
   },
   {
    "duration": 11,
    "start_time": "2022-04-16T11:58:33.045Z"
   },
   {
    "duration": 9,
    "start_time": "2022-04-16T11:58:33.059Z"
   },
   {
    "duration": 16,
    "start_time": "2022-04-16T11:58:33.069Z"
   },
   {
    "duration": 13,
    "start_time": "2022-04-16T11:58:33.086Z"
   },
   {
    "duration": 14,
    "start_time": "2022-04-16T11:58:33.100Z"
   },
   {
    "duration": 21,
    "start_time": "2022-04-16T11:58:33.116Z"
   },
   {
    "duration": 5,
    "start_time": "2022-04-16T11:58:33.138Z"
   },
   {
    "duration": 8,
    "start_time": "2022-04-16T11:58:33.145Z"
   },
   {
    "duration": 14,
    "start_time": "2022-04-16T11:58:33.154Z"
   },
   {
    "duration": 16,
    "start_time": "2022-04-16T11:58:33.170Z"
   },
   {
    "duration": 13,
    "start_time": "2022-04-16T11:58:33.187Z"
   },
   {
    "duration": 22,
    "start_time": "2022-04-16T11:58:33.202Z"
   },
   {
    "duration": 10,
    "start_time": "2022-04-16T11:58:33.225Z"
   },
   {
    "duration": 22,
    "start_time": "2022-04-16T11:58:33.237Z"
   },
   {
    "duration": 21,
    "start_time": "2022-04-16T11:58:33.261Z"
   },
   {
    "duration": 15,
    "start_time": "2022-04-16T11:58:33.284Z"
   },
   {
    "duration": 18,
    "start_time": "2022-04-16T11:58:33.300Z"
   },
   {
    "duration": 21,
    "start_time": "2022-04-16T11:58:33.320Z"
   },
   {
    "duration": 18,
    "start_time": "2022-04-16T11:58:33.343Z"
   },
   {
    "duration": 16,
    "start_time": "2022-04-16T11:58:33.364Z"
   },
   {
    "duration": 12,
    "start_time": "2022-04-16T11:58:33.382Z"
   },
   {
    "duration": 29,
    "start_time": "2022-04-16T11:58:33.395Z"
   },
   {
    "duration": 24,
    "start_time": "2022-04-16T11:58:33.427Z"
   },
   {
    "duration": 0,
    "start_time": "2022-04-16T11:58:33.452Z"
   },
   {
    "duration": 0,
    "start_time": "2022-04-16T11:58:33.454Z"
   },
   {
    "duration": 0,
    "start_time": "2022-04-16T11:58:33.455Z"
   },
   {
    "duration": 222,
    "start_time": "2022-04-16T11:58:45.042Z"
   },
   {
    "duration": 12,
    "start_time": "2022-04-16T11:58:45.265Z"
   },
   {
    "duration": 15,
    "start_time": "2022-04-16T11:58:45.278Z"
   },
   {
    "duration": 12,
    "start_time": "2022-04-16T11:58:45.295Z"
   },
   {
    "duration": 15,
    "start_time": "2022-04-16T11:58:45.308Z"
   },
   {
    "duration": 13,
    "start_time": "2022-04-16T11:58:45.324Z"
   },
   {
    "duration": 7,
    "start_time": "2022-04-16T11:58:45.338Z"
   },
   {
    "duration": 4,
    "start_time": "2022-04-16T11:58:45.346Z"
   },
   {
    "duration": 4,
    "start_time": "2022-04-16T11:58:45.352Z"
   },
   {
    "duration": 4,
    "start_time": "2022-04-16T11:58:45.359Z"
   },
   {
    "duration": 5,
    "start_time": "2022-04-16T11:58:45.364Z"
   },
   {
    "duration": 5,
    "start_time": "2022-04-16T11:58:45.370Z"
   },
   {
    "duration": 5,
    "start_time": "2022-04-16T11:58:45.376Z"
   },
   {
    "duration": 50,
    "start_time": "2022-04-16T11:58:45.382Z"
   },
   {
    "duration": 5,
    "start_time": "2022-04-16T11:58:45.434Z"
   },
   {
    "duration": 5,
    "start_time": "2022-04-16T11:58:45.440Z"
   },
   {
    "duration": 5,
    "start_time": "2022-04-16T11:58:45.447Z"
   },
   {
    "duration": 11,
    "start_time": "2022-04-16T11:58:45.453Z"
   },
   {
    "duration": 6,
    "start_time": "2022-04-16T11:58:45.466Z"
   },
   {
    "duration": 9,
    "start_time": "2022-04-16T11:58:45.473Z"
   },
   {
    "duration": 40,
    "start_time": "2022-04-16T11:58:45.484Z"
   },
   {
    "duration": 9,
    "start_time": "2022-04-16T11:58:45.526Z"
   },
   {
    "duration": 11,
    "start_time": "2022-04-16T11:58:45.536Z"
   },
   {
    "duration": 6,
    "start_time": "2022-04-16T11:58:45.548Z"
   },
   {
    "duration": 13,
    "start_time": "2022-04-16T11:58:45.555Z"
   },
   {
    "duration": 16,
    "start_time": "2022-04-16T11:58:45.570Z"
   },
   {
    "duration": 35,
    "start_time": "2022-04-16T11:58:45.588Z"
   },
   {
    "duration": 15,
    "start_time": "2022-04-16T11:58:45.626Z"
   },
   {
    "duration": 6,
    "start_time": "2022-04-16T11:58:45.642Z"
   },
   {
    "duration": 13,
    "start_time": "2022-04-16T11:58:45.650Z"
   },
   {
    "duration": 6,
    "start_time": "2022-04-16T11:58:45.665Z"
   },
   {
    "duration": 8,
    "start_time": "2022-04-16T11:58:45.673Z"
   },
   {
    "duration": 6,
    "start_time": "2022-04-16T11:58:45.683Z"
   },
   {
    "duration": 38,
    "start_time": "2022-04-16T11:58:45.690Z"
   },
   {
    "duration": 3,
    "start_time": "2022-04-16T12:22:51.228Z"
   },
   {
    "duration": 8,
    "start_time": "2022-04-16T12:23:31.658Z"
   },
   {
    "duration": 2,
    "start_time": "2022-04-16T12:23:36.178Z"
   },
   {
    "duration": 3,
    "start_time": "2022-04-16T12:23:37.202Z"
   },
   {
    "duration": 4,
    "start_time": "2022-04-16T12:23:51.891Z"
   },
   {
    "duration": 112,
    "start_time": "2022-04-16T12:29:22.032Z"
   },
   {
    "duration": 114,
    "start_time": "2022-04-16T12:29:34.178Z"
   },
   {
    "duration": 3,
    "start_time": "2022-04-16T12:30:09.149Z"
   },
   {
    "duration": 3,
    "start_time": "2022-04-16T12:30:15.777Z"
   },
   {
    "duration": 13,
    "start_time": "2022-04-16T12:35:17.118Z"
   },
   {
    "duration": 10,
    "start_time": "2022-04-16T12:35:55.494Z"
   },
   {
    "duration": 354,
    "start_time": "2022-04-16T12:43:15.965Z"
   },
   {
    "duration": 13,
    "start_time": "2022-04-16T12:43:16.321Z"
   },
   {
    "duration": 16,
    "start_time": "2022-04-16T12:43:16.336Z"
   },
   {
    "duration": 11,
    "start_time": "2022-04-16T12:43:16.354Z"
   },
   {
    "duration": 5,
    "start_time": "2022-04-16T12:43:16.366Z"
   },
   {
    "duration": 12,
    "start_time": "2022-04-16T12:43:16.372Z"
   },
   {
    "duration": 5,
    "start_time": "2022-04-16T12:43:16.385Z"
   },
   {
    "duration": 5,
    "start_time": "2022-04-16T12:43:16.423Z"
   },
   {
    "duration": 11,
    "start_time": "2022-04-16T12:43:16.429Z"
   },
   {
    "duration": 14,
    "start_time": "2022-04-16T12:43:16.443Z"
   },
   {
    "duration": 12,
    "start_time": "2022-04-16T12:43:16.458Z"
   },
   {
    "duration": 5,
    "start_time": "2022-04-16T12:43:16.472Z"
   },
   {
    "duration": 7,
    "start_time": "2022-04-16T12:43:16.479Z"
   },
   {
    "duration": 12,
    "start_time": "2022-04-16T12:43:16.488Z"
   },
   {
    "duration": 4,
    "start_time": "2022-04-16T12:43:16.501Z"
   },
   {
    "duration": 19,
    "start_time": "2022-04-16T12:43:16.507Z"
   },
   {
    "duration": 4,
    "start_time": "2022-04-16T12:43:16.528Z"
   },
   {
    "duration": 15,
    "start_time": "2022-04-16T12:43:16.533Z"
   },
   {
    "duration": 6,
    "start_time": "2022-04-16T12:43:16.550Z"
   },
   {
    "duration": 6,
    "start_time": "2022-04-16T12:43:16.557Z"
   },
   {
    "duration": 8,
    "start_time": "2022-04-16T12:43:16.565Z"
   },
   {
    "duration": 10,
    "start_time": "2022-04-16T12:43:16.574Z"
   },
   {
    "duration": 47,
    "start_time": "2022-04-16T12:43:16.586Z"
   },
   {
    "duration": 5,
    "start_time": "2022-04-16T12:43:16.634Z"
   },
   {
    "duration": 16,
    "start_time": "2022-04-16T12:43:16.640Z"
   },
   {
    "duration": 16,
    "start_time": "2022-04-16T12:43:16.657Z"
   },
   {
    "duration": 15,
    "start_time": "2022-04-16T12:43:16.675Z"
   },
   {
    "duration": 31,
    "start_time": "2022-04-16T12:43:16.693Z"
   },
   {
    "duration": 6,
    "start_time": "2022-04-16T12:43:16.726Z"
   },
   {
    "duration": 16,
    "start_time": "2022-04-16T12:43:16.733Z"
   },
   {
    "duration": 7,
    "start_time": "2022-04-16T12:43:16.751Z"
   },
   {
    "duration": 8,
    "start_time": "2022-04-16T12:43:16.760Z"
   },
   {
    "duration": 6,
    "start_time": "2022-04-16T12:43:16.769Z"
   },
   {
    "duration": 12,
    "start_time": "2022-04-16T12:43:16.777Z"
   },
   {
    "duration": 33,
    "start_time": "2022-04-16T12:43:16.790Z"
   },
   {
    "duration": 3,
    "start_time": "2022-04-16T12:43:16.825Z"
   },
   {
    "duration": 10,
    "start_time": "2022-04-16T12:43:16.829Z"
   },
   {
    "duration": 10,
    "start_time": "2022-04-16T12:43:16.840Z"
   },
   {
    "duration": 8,
    "start_time": "2022-04-16T15:02:50.174Z"
   },
   {
    "duration": 1738,
    "start_time": "2022-04-16T15:03:14.222Z"
   },
   {
    "duration": 263,
    "start_time": "2022-04-16T15:03:21.107Z"
   },
   {
    "duration": 13,
    "start_time": "2022-04-16T15:03:21.372Z"
   },
   {
    "duration": 15,
    "start_time": "2022-04-16T15:03:21.386Z"
   },
   {
    "duration": 22,
    "start_time": "2022-04-16T15:03:21.402Z"
   },
   {
    "duration": 5,
    "start_time": "2022-04-16T15:03:21.427Z"
   },
   {
    "duration": 14,
    "start_time": "2022-04-16T15:03:21.434Z"
   },
   {
    "duration": 6,
    "start_time": "2022-04-16T15:03:21.449Z"
   },
   {
    "duration": 10,
    "start_time": "2022-04-16T15:03:21.456Z"
   },
   {
    "duration": 3,
    "start_time": "2022-04-16T15:03:21.468Z"
   },
   {
    "duration": 4,
    "start_time": "2022-04-16T15:03:21.473Z"
   },
   {
    "duration": 6,
    "start_time": "2022-04-16T15:03:21.478Z"
   },
   {
    "duration": 41,
    "start_time": "2022-04-16T15:03:21.485Z"
   },
   {
    "duration": 5,
    "start_time": "2022-04-16T15:03:21.527Z"
   },
   {
    "duration": 19,
    "start_time": "2022-04-16T15:03:21.535Z"
   },
   {
    "duration": 5,
    "start_time": "2022-04-16T15:03:21.555Z"
   },
   {
    "duration": 5,
    "start_time": "2022-04-16T15:03:21.561Z"
   },
   {
    "duration": 5,
    "start_time": "2022-04-16T15:03:21.567Z"
   },
   {
    "duration": 11,
    "start_time": "2022-04-16T15:03:21.573Z"
   },
   {
    "duration": 5,
    "start_time": "2022-04-16T15:03:21.585Z"
   },
   {
    "duration": 5,
    "start_time": "2022-04-16T15:03:21.624Z"
   },
   {
    "duration": 5,
    "start_time": "2022-04-16T15:03:21.631Z"
   },
   {
    "duration": 9,
    "start_time": "2022-04-16T15:03:21.638Z"
   },
   {
    "duration": 12,
    "start_time": "2022-04-16T15:03:21.648Z"
   },
   {
    "duration": 5,
    "start_time": "2022-04-16T15:03:21.662Z"
   },
   {
    "duration": 12,
    "start_time": "2022-04-16T15:03:21.668Z"
   },
   {
    "duration": 47,
    "start_time": "2022-04-16T15:03:21.681Z"
   },
   {
    "duration": 19,
    "start_time": "2022-04-16T15:03:21.730Z"
   },
   {
    "duration": 15,
    "start_time": "2022-04-16T15:03:21.750Z"
   },
   {
    "duration": 6,
    "start_time": "2022-04-16T15:03:21.766Z"
   },
   {
    "duration": 14,
    "start_time": "2022-04-16T15:03:21.774Z"
   },
   {
    "duration": 8,
    "start_time": "2022-04-16T15:03:21.789Z"
   },
   {
    "duration": 9,
    "start_time": "2022-04-16T15:03:21.824Z"
   },
   {
    "duration": 7,
    "start_time": "2022-04-16T15:03:21.835Z"
   },
   {
    "duration": 11,
    "start_time": "2022-04-16T15:03:21.843Z"
   },
   {
    "duration": 3,
    "start_time": "2022-04-16T15:03:21.856Z"
   },
   {
    "duration": 6,
    "start_time": "2022-04-16T15:03:21.861Z"
   },
   {
    "duration": 9,
    "start_time": "2022-04-16T15:03:21.868Z"
   },
   {
    "duration": 9,
    "start_time": "2022-04-16T15:03:21.879Z"
   },
   {
    "duration": 1778,
    "start_time": "2022-04-16T15:03:21.889Z"
   },
   {
    "duration": 6,
    "start_time": "2022-04-16T15:03:40.774Z"
   },
   {
    "duration": 112,
    "start_time": "2022-04-16T15:07:14.283Z"
   },
   {
    "duration": 106,
    "start_time": "2022-04-16T15:07:36.716Z"
   },
   {
    "duration": 9,
    "start_time": "2022-04-16T15:08:16.765Z"
   },
   {
    "duration": 6,
    "start_time": "2022-04-16T15:08:28.021Z"
   },
   {
    "duration": 236,
    "start_time": "2022-04-16T15:08:30.912Z"
   },
   {
    "duration": 13,
    "start_time": "2022-04-16T15:08:31.150Z"
   },
   {
    "duration": 22,
    "start_time": "2022-04-16T15:08:31.165Z"
   },
   {
    "duration": 13,
    "start_time": "2022-04-16T15:08:31.189Z"
   },
   {
    "duration": 5,
    "start_time": "2022-04-16T15:08:31.203Z"
   },
   {
    "duration": 22,
    "start_time": "2022-04-16T15:08:31.209Z"
   },
   {
    "duration": 5,
    "start_time": "2022-04-16T15:08:31.232Z"
   },
   {
    "duration": 13,
    "start_time": "2022-04-16T15:08:31.238Z"
   },
   {
    "duration": 15,
    "start_time": "2022-04-16T15:08:31.253Z"
   },
   {
    "duration": 4,
    "start_time": "2022-04-16T15:08:31.271Z"
   },
   {
    "duration": 14,
    "start_time": "2022-04-16T15:08:31.276Z"
   },
   {
    "duration": 13,
    "start_time": "2022-04-16T15:08:31.291Z"
   },
   {
    "duration": 31,
    "start_time": "2022-04-16T15:08:31.305Z"
   },
   {
    "duration": 25,
    "start_time": "2022-04-16T15:08:31.338Z"
   },
   {
    "duration": 13,
    "start_time": "2022-04-16T15:08:31.365Z"
   },
   {
    "duration": 37,
    "start_time": "2022-04-16T15:08:31.379Z"
   },
   {
    "duration": 25,
    "start_time": "2022-04-16T15:08:31.418Z"
   },
   {
    "duration": 21,
    "start_time": "2022-04-16T15:08:31.444Z"
   },
   {
    "duration": 15,
    "start_time": "2022-04-16T15:08:31.466Z"
   },
   {
    "duration": 11,
    "start_time": "2022-04-16T15:08:31.482Z"
   },
   {
    "duration": 14,
    "start_time": "2022-04-16T15:08:31.494Z"
   },
   {
    "duration": 9,
    "start_time": "2022-04-16T15:08:31.509Z"
   },
   {
    "duration": 16,
    "start_time": "2022-04-16T15:08:31.519Z"
   },
   {
    "duration": 6,
    "start_time": "2022-04-16T15:08:31.536Z"
   },
   {
    "duration": 17,
    "start_time": "2022-04-16T15:08:31.543Z"
   },
   {
    "duration": 18,
    "start_time": "2022-04-16T15:08:31.562Z"
   },
   {
    "duration": 16,
    "start_time": "2022-04-16T15:08:31.581Z"
   },
   {
    "duration": 24,
    "start_time": "2022-04-16T15:08:31.600Z"
   },
   {
    "duration": 7,
    "start_time": "2022-04-16T15:08:31.626Z"
   },
   {
    "duration": 17,
    "start_time": "2022-04-16T15:08:31.634Z"
   },
   {
    "duration": 14,
    "start_time": "2022-04-16T15:08:31.653Z"
   },
   {
    "duration": 14,
    "start_time": "2022-04-16T15:08:31.668Z"
   },
   {
    "duration": 6,
    "start_time": "2022-04-16T15:08:31.683Z"
   },
   {
    "duration": 13,
    "start_time": "2022-04-16T15:08:31.691Z"
   },
   {
    "duration": 17,
    "start_time": "2022-04-16T15:08:31.706Z"
   },
   {
    "duration": 3,
    "start_time": "2022-04-16T15:08:31.725Z"
   },
   {
    "duration": 9,
    "start_time": "2022-04-16T15:08:31.729Z"
   },
   {
    "duration": 8,
    "start_time": "2022-04-16T15:08:31.740Z"
   },
   {
    "duration": 7,
    "start_time": "2022-04-16T15:08:31.750Z"
   },
   {
    "duration": 7,
    "start_time": "2022-04-16T15:08:31.759Z"
   },
   {
    "duration": 5,
    "start_time": "2022-04-16T15:08:31.767Z"
   },
   {
    "duration": 3,
    "start_time": "2022-04-16T15:08:40.901Z"
   },
   {
    "duration": 2,
    "start_time": "2022-04-16T15:14:03.289Z"
   },
   {
    "duration": 3,
    "start_time": "2022-04-16T15:14:05.464Z"
   },
   {
    "duration": 3,
    "start_time": "2022-04-16T15:14:06.600Z"
   },
   {
    "duration": 3,
    "start_time": "2022-04-16T15:14:11.336Z"
   },
   {
    "duration": 2,
    "start_time": "2022-04-16T15:14:13.545Z"
   },
   {
    "duration": 3,
    "start_time": "2022-04-16T15:14:13.896Z"
   },
   {
    "duration": 252,
    "start_time": "2022-04-16T15:14:21.021Z"
   },
   {
    "duration": 13,
    "start_time": "2022-04-16T15:14:21.275Z"
   },
   {
    "duration": 14,
    "start_time": "2022-04-16T15:14:21.289Z"
   },
   {
    "duration": 25,
    "start_time": "2022-04-16T15:14:21.305Z"
   },
   {
    "duration": 5,
    "start_time": "2022-04-16T15:14:21.332Z"
   },
   {
    "duration": 13,
    "start_time": "2022-04-16T15:14:21.339Z"
   },
   {
    "duration": 5,
    "start_time": "2022-04-16T15:14:21.353Z"
   },
   {
    "duration": 5,
    "start_time": "2022-04-16T15:14:21.360Z"
   },
   {
    "duration": 5,
    "start_time": "2022-04-16T15:14:21.367Z"
   },
   {
    "duration": 5,
    "start_time": "2022-04-16T15:14:21.373Z"
   },
   {
    "duration": 47,
    "start_time": "2022-04-16T15:14:21.380Z"
   },
   {
    "duration": 7,
    "start_time": "2022-04-16T15:14:21.429Z"
   },
   {
    "duration": 7,
    "start_time": "2022-04-16T15:14:21.438Z"
   },
   {
    "duration": 12,
    "start_time": "2022-04-16T15:14:21.449Z"
   },
   {
    "duration": 5,
    "start_time": "2022-04-16T15:14:21.463Z"
   },
   {
    "duration": 5,
    "start_time": "2022-04-16T15:14:21.469Z"
   },
   {
    "duration": 4,
    "start_time": "2022-04-16T15:14:21.476Z"
   },
   {
    "duration": 50,
    "start_time": "2022-04-16T15:14:21.481Z"
   },
   {
    "duration": 6,
    "start_time": "2022-04-16T15:14:21.532Z"
   },
   {
    "duration": 6,
    "start_time": "2022-04-16T15:14:21.540Z"
   },
   {
    "duration": 7,
    "start_time": "2022-04-16T15:14:21.547Z"
   },
   {
    "duration": 9,
    "start_time": "2022-04-16T15:14:21.555Z"
   },
   {
    "duration": 12,
    "start_time": "2022-04-16T15:14:21.566Z"
   },
   {
    "duration": 7,
    "start_time": "2022-04-16T15:14:21.580Z"
   },
   {
    "duration": 37,
    "start_time": "2022-04-16T15:14:21.589Z"
   },
   {
    "duration": 22,
    "start_time": "2022-04-16T15:14:21.628Z"
   },
   {
    "duration": 18,
    "start_time": "2022-04-16T15:14:21.651Z"
   },
   {
    "duration": 16,
    "start_time": "2022-04-16T15:14:21.671Z"
   },
   {
    "duration": 7,
    "start_time": "2022-04-16T15:14:21.688Z"
   },
   {
    "duration": 13,
    "start_time": "2022-04-16T15:14:21.723Z"
   },
   {
    "duration": 10,
    "start_time": "2022-04-16T15:14:21.738Z"
   },
   {
    "duration": 9,
    "start_time": "2022-04-16T15:14:21.750Z"
   },
   {
    "duration": 7,
    "start_time": "2022-04-16T15:14:21.760Z"
   },
   {
    "duration": 11,
    "start_time": "2022-04-16T15:14:21.768Z"
   },
   {
    "duration": 5,
    "start_time": "2022-04-16T15:14:21.781Z"
   },
   {
    "duration": 11,
    "start_time": "2022-04-16T15:14:21.787Z"
   },
   {
    "duration": 30,
    "start_time": "2022-04-16T15:14:21.799Z"
   },
   {
    "duration": 13,
    "start_time": "2022-04-16T15:14:21.831Z"
   },
   {
    "duration": 9,
    "start_time": "2022-04-16T15:14:21.845Z"
   },
   {
    "duration": 4,
    "start_time": "2022-04-16T15:14:21.856Z"
   },
   {
    "duration": 3,
    "start_time": "2022-04-16T15:14:21.864Z"
   },
   {
    "duration": 3,
    "start_time": "2022-04-16T15:14:44.729Z"
   },
   {
    "duration": 3,
    "start_time": "2022-04-16T15:14:46.544Z"
   },
   {
    "duration": 3,
    "start_time": "2022-04-16T15:14:46.873Z"
   },
   {
    "duration": 2,
    "start_time": "2022-04-16T15:14:54.888Z"
   },
   {
    "duration": 3,
    "start_time": "2022-04-16T15:16:07.328Z"
   },
   {
    "duration": 4,
    "start_time": "2022-04-16T15:16:07.712Z"
   },
   {
    "duration": 2,
    "start_time": "2022-04-16T15:16:11.169Z"
   },
   {
    "duration": 3,
    "start_time": "2022-04-16T15:16:11.545Z"
   },
   {
    "duration": 2,
    "start_time": "2022-04-16T15:16:16.657Z"
   },
   {
    "duration": 3,
    "start_time": "2022-04-16T15:16:16.865Z"
   },
   {
    "duration": 2,
    "start_time": "2022-04-16T15:41:27.422Z"
   },
   {
    "duration": 3,
    "start_time": "2022-04-16T15:41:27.788Z"
   },
   {
    "duration": 2,
    "start_time": "2022-04-16T15:41:32.877Z"
   },
   {
    "duration": 3,
    "start_time": "2022-04-16T15:41:33.525Z"
   },
   {
    "duration": 367,
    "start_time": "2022-04-16T15:41:38.497Z"
   },
   {
    "duration": 14,
    "start_time": "2022-04-16T15:41:38.865Z"
   },
   {
    "duration": 17,
    "start_time": "2022-04-16T15:41:38.880Z"
   },
   {
    "duration": 13,
    "start_time": "2022-04-16T15:41:38.899Z"
   },
   {
    "duration": 5,
    "start_time": "2022-04-16T15:41:38.914Z"
   },
   {
    "duration": 13,
    "start_time": "2022-04-16T15:41:38.924Z"
   },
   {
    "duration": 6,
    "start_time": "2022-04-16T15:41:38.939Z"
   },
   {
    "duration": 6,
    "start_time": "2022-04-16T15:41:38.946Z"
   },
   {
    "duration": 8,
    "start_time": "2022-04-16T15:41:38.953Z"
   },
   {
    "duration": 4,
    "start_time": "2022-04-16T15:41:38.964Z"
   },
   {
    "duration": 5,
    "start_time": "2022-04-16T15:41:38.970Z"
   },
   {
    "duration": 5,
    "start_time": "2022-04-16T15:41:38.977Z"
   },
   {
    "duration": 6,
    "start_time": "2022-04-16T15:41:39.024Z"
   },
   {
    "duration": 18,
    "start_time": "2022-04-16T15:41:39.031Z"
   },
   {
    "duration": 5,
    "start_time": "2022-04-16T15:41:39.050Z"
   },
   {
    "duration": 4,
    "start_time": "2022-04-16T15:41:39.057Z"
   },
   {
    "duration": 4,
    "start_time": "2022-04-16T15:41:39.062Z"
   },
   {
    "duration": 13,
    "start_time": "2022-04-16T15:41:39.067Z"
   },
   {
    "duration": 5,
    "start_time": "2022-04-16T15:41:39.082Z"
   },
   {
    "duration": 38,
    "start_time": "2022-04-16T15:41:39.088Z"
   },
   {
    "duration": 6,
    "start_time": "2022-04-16T15:41:39.128Z"
   },
   {
    "duration": 8,
    "start_time": "2022-04-16T15:41:39.135Z"
   },
   {
    "duration": 10,
    "start_time": "2022-04-16T15:41:39.144Z"
   },
   {
    "duration": 6,
    "start_time": "2022-04-16T15:41:39.155Z"
   },
   {
    "duration": 13,
    "start_time": "2022-04-16T15:41:39.162Z"
   },
   {
    "duration": 16,
    "start_time": "2022-04-16T15:41:39.177Z"
   },
   {
    "duration": 42,
    "start_time": "2022-04-16T15:41:39.194Z"
   },
   {
    "duration": 15,
    "start_time": "2022-04-16T15:41:39.239Z"
   },
   {
    "duration": 6,
    "start_time": "2022-04-16T15:41:39.255Z"
   },
   {
    "duration": 14,
    "start_time": "2022-04-16T15:41:39.262Z"
   },
   {
    "duration": 7,
    "start_time": "2022-04-16T15:41:39.277Z"
   },
   {
    "duration": 7,
    "start_time": "2022-04-16T15:41:39.286Z"
   },
   {
    "duration": 33,
    "start_time": "2022-04-16T15:41:39.294Z"
   },
   {
    "duration": 10,
    "start_time": "2022-04-16T15:41:39.329Z"
   },
   {
    "duration": 4,
    "start_time": "2022-04-16T15:41:39.340Z"
   },
   {
    "duration": 4,
    "start_time": "2022-04-16T15:41:39.345Z"
   },
   {
    "duration": 10,
    "start_time": "2022-04-16T15:41:39.350Z"
   },
   {
    "duration": 9,
    "start_time": "2022-04-16T15:41:39.361Z"
   },
   {
    "duration": 7,
    "start_time": "2022-04-16T15:41:39.372Z"
   },
   {
    "duration": 4,
    "start_time": "2022-04-16T15:41:39.381Z"
   },
   {
    "duration": 3,
    "start_time": "2022-04-16T15:41:39.424Z"
   },
   {
    "duration": 4,
    "start_time": "2022-04-16T16:10:49.055Z"
   },
   {
    "duration": 3,
    "start_time": "2022-04-16T16:10:50.007Z"
   },
   {
    "duration": 3,
    "start_time": "2022-04-16T16:10:58.215Z"
   },
   {
    "duration": 3,
    "start_time": "2022-04-16T16:11:04.408Z"
   },
   {
    "duration": 3,
    "start_time": "2022-04-16T16:11:22.791Z"
   },
   {
    "duration": 2,
    "start_time": "2022-04-16T16:11:23.327Z"
   },
   {
    "duration": 145,
    "start_time": "2022-04-17T06:51:40.288Z"
   },
   {
    "duration": 574,
    "start_time": "2022-04-17T06:51:43.385Z"
   },
   {
    "duration": 20,
    "start_time": "2022-04-17T06:51:43.961Z"
   },
   {
    "duration": 15,
    "start_time": "2022-04-17T06:51:43.983Z"
   },
   {
    "duration": 14,
    "start_time": "2022-04-17T06:51:44.000Z"
   },
   {
    "duration": 7,
    "start_time": "2022-04-17T06:51:44.016Z"
   },
   {
    "duration": 42,
    "start_time": "2022-04-17T06:51:44.024Z"
   },
   {
    "duration": 6,
    "start_time": "2022-04-17T06:51:44.067Z"
   },
   {
    "duration": 20,
    "start_time": "2022-04-17T06:51:44.075Z"
   },
   {
    "duration": 11,
    "start_time": "2022-04-17T06:51:44.097Z"
   },
   {
    "duration": 6,
    "start_time": "2022-04-17T06:51:44.111Z"
   },
   {
    "duration": 7,
    "start_time": "2022-04-17T06:51:44.118Z"
   },
   {
    "duration": 6,
    "start_time": "2022-04-17T06:51:44.127Z"
   },
   {
    "duration": 5,
    "start_time": "2022-04-17T06:51:44.154Z"
   },
   {
    "duration": 15,
    "start_time": "2022-04-17T06:51:44.161Z"
   },
   {
    "duration": 5,
    "start_time": "2022-04-17T06:51:44.177Z"
   },
   {
    "duration": 9,
    "start_time": "2022-04-17T06:51:44.183Z"
   },
   {
    "duration": 8,
    "start_time": "2022-04-17T06:51:44.193Z"
   },
   {
    "duration": 14,
    "start_time": "2022-04-17T06:51:44.202Z"
   },
   {
    "duration": 5,
    "start_time": "2022-04-17T06:51:44.218Z"
   },
   {
    "duration": 33,
    "start_time": "2022-04-17T06:51:44.225Z"
   },
   {
    "duration": 8,
    "start_time": "2022-04-17T06:51:44.259Z"
   },
   {
    "duration": 8,
    "start_time": "2022-04-17T06:51:44.269Z"
   },
   {
    "duration": 12,
    "start_time": "2022-04-17T06:51:44.279Z"
   },
   {
    "duration": 5,
    "start_time": "2022-04-17T06:51:44.292Z"
   },
   {
    "duration": 11,
    "start_time": "2022-04-17T06:51:44.299Z"
   },
   {
    "duration": 48,
    "start_time": "2022-04-17T06:51:44.312Z"
   },
   {
    "duration": 19,
    "start_time": "2022-04-17T06:51:44.361Z"
   },
   {
    "duration": 17,
    "start_time": "2022-04-17T06:51:44.383Z"
   },
   {
    "duration": 6,
    "start_time": "2022-04-17T06:51:44.402Z"
   },
   {
    "duration": 16,
    "start_time": "2022-04-17T06:51:44.410Z"
   },
   {
    "duration": 33,
    "start_time": "2022-04-17T06:51:44.428Z"
   },
   {
    "duration": 9,
    "start_time": "2022-04-17T06:51:44.463Z"
   },
   {
    "duration": 7,
    "start_time": "2022-04-17T06:51:44.473Z"
   },
   {
    "duration": 12,
    "start_time": "2022-04-17T06:51:44.482Z"
   },
   {
    "duration": 5,
    "start_time": "2022-04-17T06:51:44.495Z"
   },
   {
    "duration": 5,
    "start_time": "2022-04-17T06:51:44.501Z"
   },
   {
    "duration": 15,
    "start_time": "2022-04-17T06:51:44.508Z"
   },
   {
    "duration": 35,
    "start_time": "2022-04-17T06:51:44.525Z"
   },
   {
    "duration": 12,
    "start_time": "2022-04-17T06:51:44.562Z"
   },
   {
    "duration": 122,
    "start_time": "2022-04-17T06:51:44.575Z"
   },
   {
    "duration": 0,
    "start_time": "2022-04-17T06:51:44.698Z"
   },
   {
    "duration": 108,
    "start_time": "2022-04-17T06:52:06.701Z"
   },
   {
    "duration": 60,
    "start_time": "2022-04-17T06:52:27.133Z"
   },
   {
    "duration": 230,
    "start_time": "2022-04-17T06:52:31.720Z"
   },
   {
    "duration": 13,
    "start_time": "2022-04-17T06:52:31.953Z"
   },
   {
    "duration": 28,
    "start_time": "2022-04-17T06:52:31.968Z"
   },
   {
    "duration": 14,
    "start_time": "2022-04-17T06:52:31.998Z"
   },
   {
    "duration": 7,
    "start_time": "2022-04-17T06:52:32.015Z"
   },
   {
    "duration": 17,
    "start_time": "2022-04-17T06:52:32.023Z"
   },
   {
    "duration": 17,
    "start_time": "2022-04-17T06:52:32.041Z"
   },
   {
    "duration": 12,
    "start_time": "2022-04-17T06:52:32.059Z"
   },
   {
    "duration": 11,
    "start_time": "2022-04-17T06:52:32.073Z"
   },
   {
    "duration": 10,
    "start_time": "2022-04-17T06:52:32.085Z"
   },
   {
    "duration": 6,
    "start_time": "2022-04-17T06:52:32.097Z"
   },
   {
    "duration": 8,
    "start_time": "2022-04-17T06:52:32.104Z"
   },
   {
    "duration": 11,
    "start_time": "2022-04-17T06:52:32.113Z"
   },
   {
    "duration": 27,
    "start_time": "2022-04-17T06:52:32.127Z"
   },
   {
    "duration": 6,
    "start_time": "2022-04-17T06:52:32.156Z"
   },
   {
    "duration": 5,
    "start_time": "2022-04-17T06:52:32.164Z"
   },
   {
    "duration": 5,
    "start_time": "2022-04-17T06:52:32.171Z"
   },
   {
    "duration": 19,
    "start_time": "2022-04-17T06:52:32.178Z"
   },
   {
    "duration": 6,
    "start_time": "2022-04-17T06:52:32.199Z"
   },
   {
    "duration": 5,
    "start_time": "2022-04-17T06:52:32.207Z"
   },
   {
    "duration": 41,
    "start_time": "2022-04-17T06:52:32.214Z"
   },
   {
    "duration": 9,
    "start_time": "2022-04-17T06:52:32.257Z"
   },
   {
    "duration": 12,
    "start_time": "2022-04-17T06:52:32.267Z"
   },
   {
    "duration": 6,
    "start_time": "2022-04-17T06:52:32.280Z"
   },
   {
    "duration": 12,
    "start_time": "2022-04-17T06:52:32.287Z"
   },
   {
    "duration": 19,
    "start_time": "2022-04-17T06:52:32.300Z"
   },
   {
    "duration": 43,
    "start_time": "2022-04-17T06:52:32.320Z"
   },
   {
    "duration": 16,
    "start_time": "2022-04-17T06:52:32.365Z"
   },
   {
    "duration": 6,
    "start_time": "2022-04-17T06:52:32.382Z"
   },
   {
    "duration": 14,
    "start_time": "2022-04-17T06:52:32.390Z"
   },
   {
    "duration": 7,
    "start_time": "2022-04-17T06:52:32.406Z"
   },
   {
    "duration": 7,
    "start_time": "2022-04-17T06:52:32.416Z"
   },
   {
    "duration": 31,
    "start_time": "2022-04-17T06:52:32.424Z"
   },
   {
    "duration": 10,
    "start_time": "2022-04-17T06:52:32.457Z"
   },
   {
    "duration": 4,
    "start_time": "2022-04-17T06:52:32.469Z"
   },
   {
    "duration": 5,
    "start_time": "2022-04-17T06:52:32.475Z"
   },
   {
    "duration": 14,
    "start_time": "2022-04-17T06:52:32.482Z"
   },
   {
    "duration": 10,
    "start_time": "2022-04-17T06:52:32.497Z"
   },
   {
    "duration": 7,
    "start_time": "2022-04-17T06:52:32.509Z"
   },
   {
    "duration": 118,
    "start_time": "2022-04-17T06:52:32.517Z"
   },
   {
    "duration": 0,
    "start_time": "2022-04-17T06:52:32.636Z"
   },
   {
    "duration": 113,
    "start_time": "2022-04-17T06:52:50.356Z"
   },
   {
    "duration": 7,
    "start_time": "2022-04-17T06:52:51.460Z"
   },
   {
    "duration": 164,
    "start_time": "2022-04-17T06:52:54.312Z"
   },
   {
    "duration": 13,
    "start_time": "2022-04-17T06:52:54.478Z"
   },
   {
    "duration": 16,
    "start_time": "2022-04-17T06:52:54.493Z"
   },
   {
    "duration": 13,
    "start_time": "2022-04-17T06:52:54.512Z"
   },
   {
    "duration": 5,
    "start_time": "2022-04-17T06:52:54.527Z"
   },
   {
    "duration": 32,
    "start_time": "2022-04-17T06:52:54.533Z"
   },
   {
    "duration": 5,
    "start_time": "2022-04-17T06:52:54.567Z"
   },
   {
    "duration": 7,
    "start_time": "2022-04-17T06:52:54.573Z"
   },
   {
    "duration": 4,
    "start_time": "2022-04-17T06:52:54.581Z"
   },
   {
    "duration": 4,
    "start_time": "2022-04-17T06:52:54.587Z"
   },
   {
    "duration": 5,
    "start_time": "2022-04-17T06:52:54.592Z"
   },
   {
    "duration": 5,
    "start_time": "2022-04-17T06:52:54.599Z"
   },
   {
    "duration": 7,
    "start_time": "2022-04-17T06:52:54.605Z"
   },
   {
    "duration": 53,
    "start_time": "2022-04-17T06:52:54.613Z"
   },
   {
    "duration": 5,
    "start_time": "2022-04-17T06:52:54.668Z"
   },
   {
    "duration": 7,
    "start_time": "2022-04-17T06:52:54.674Z"
   },
   {
    "duration": 4,
    "start_time": "2022-04-17T06:52:54.683Z"
   },
   {
    "duration": 11,
    "start_time": "2022-04-17T06:52:54.689Z"
   },
   {
    "duration": 5,
    "start_time": "2022-04-17T06:52:54.702Z"
   },
   {
    "duration": 45,
    "start_time": "2022-04-17T06:52:54.709Z"
   },
   {
    "duration": 6,
    "start_time": "2022-04-17T06:52:54.756Z"
   },
   {
    "duration": 8,
    "start_time": "2022-04-17T06:52:54.763Z"
   },
   {
    "duration": 12,
    "start_time": "2022-04-17T06:52:54.772Z"
   },
   {
    "duration": 4,
    "start_time": "2022-04-17T06:52:54.786Z"
   },
   {
    "duration": 13,
    "start_time": "2022-04-17T06:52:54.791Z"
   },
   {
    "duration": 19,
    "start_time": "2022-04-17T06:52:54.805Z"
   },
   {
    "duration": 18,
    "start_time": "2022-04-17T06:52:54.854Z"
   },
   {
    "duration": 17,
    "start_time": "2022-04-17T06:52:54.876Z"
   },
   {
    "duration": 8,
    "start_time": "2022-04-17T06:52:54.894Z"
   },
   {
    "duration": 15,
    "start_time": "2022-04-17T06:52:54.903Z"
   },
   {
    "duration": 36,
    "start_time": "2022-04-17T06:52:54.920Z"
   },
   {
    "duration": 8,
    "start_time": "2022-04-17T06:52:54.958Z"
   },
   {
    "duration": 7,
    "start_time": "2022-04-17T06:52:54.967Z"
   },
   {
    "duration": 10,
    "start_time": "2022-04-17T06:52:54.976Z"
   },
   {
    "duration": 4,
    "start_time": "2022-04-17T06:52:54.988Z"
   },
   {
    "duration": 4,
    "start_time": "2022-04-17T06:52:54.993Z"
   },
   {
    "duration": 10,
    "start_time": "2022-04-17T06:52:54.999Z"
   },
   {
    "duration": 48,
    "start_time": "2022-04-17T06:52:55.011Z"
   },
   {
    "duration": 8,
    "start_time": "2022-04-17T06:52:55.061Z"
   },
   {
    "duration": 114,
    "start_time": "2022-04-17T06:52:55.071Z"
   },
   {
    "duration": 0,
    "start_time": "2022-04-17T06:52:55.187Z"
   },
   {
    "duration": 116,
    "start_time": "2022-04-17T06:53:02.228Z"
   },
   {
    "duration": 7,
    "start_time": "2022-04-17T06:53:03.364Z"
   },
   {
    "duration": 4,
    "start_time": "2022-04-17T06:54:32.260Z"
   },
   {
    "duration": 4,
    "start_time": "2022-04-17T06:54:32.988Z"
   },
   {
    "duration": 3,
    "start_time": "2022-04-17T06:54:41.124Z"
   },
   {
    "duration": 3,
    "start_time": "2022-04-17T06:54:53.308Z"
   },
   {
    "duration": 4,
    "start_time": "2022-04-17T06:54:55.828Z"
   },
   {
    "duration": 3,
    "start_time": "2022-04-17T06:54:56.012Z"
   },
   {
    "duration": 3,
    "start_time": "2022-04-17T06:55:16.364Z"
   },
   {
    "duration": 121,
    "start_time": "2022-04-17T06:57:45.514Z"
   },
   {
    "duration": 3,
    "start_time": "2022-04-17T06:57:45.682Z"
   },
   {
    "duration": 4,
    "start_time": "2022-04-17T06:57:52.203Z"
   },
   {
    "duration": 3,
    "start_time": "2022-04-17T06:57:52.955Z"
   },
   {
    "duration": 3,
    "start_time": "2022-04-17T06:58:00.619Z"
   },
   {
    "duration": 3,
    "start_time": "2022-04-17T06:58:06.971Z"
   },
   {
    "duration": 3,
    "start_time": "2022-04-17T06:58:16.995Z"
   },
   {
    "duration": 3,
    "start_time": "2022-04-17T06:58:24.755Z"
   },
   {
    "duration": 3,
    "start_time": "2022-04-17T07:09:57.038Z"
   },
   {
    "duration": 3,
    "start_time": "2022-04-17T07:10:07.504Z"
   },
   {
    "duration": 166,
    "start_time": "2022-04-17T07:10:25.875Z"
   },
   {
    "duration": 13,
    "start_time": "2022-04-17T07:10:26.043Z"
   },
   {
    "duration": 17,
    "start_time": "2022-04-17T07:10:26.057Z"
   },
   {
    "duration": 13,
    "start_time": "2022-04-17T07:10:26.076Z"
   },
   {
    "duration": 4,
    "start_time": "2022-04-17T07:10:26.091Z"
   },
   {
    "duration": 22,
    "start_time": "2022-04-17T07:10:26.097Z"
   },
   {
    "duration": 5,
    "start_time": "2022-04-17T07:10:26.121Z"
   },
   {
    "duration": 31,
    "start_time": "2022-04-17T07:10:26.127Z"
   },
   {
    "duration": 5,
    "start_time": "2022-04-17T07:10:26.160Z"
   },
   {
    "duration": 4,
    "start_time": "2022-04-17T07:10:26.168Z"
   },
   {
    "duration": 6,
    "start_time": "2022-04-17T07:10:26.173Z"
   },
   {
    "duration": 5,
    "start_time": "2022-04-17T07:10:26.180Z"
   },
   {
    "duration": 4,
    "start_time": "2022-04-17T07:10:26.186Z"
   },
   {
    "duration": 13,
    "start_time": "2022-04-17T07:10:26.192Z"
   },
   {
    "duration": 5,
    "start_time": "2022-04-17T07:10:26.207Z"
   },
   {
    "duration": 45,
    "start_time": "2022-04-17T07:10:26.214Z"
   },
   {
    "duration": 6,
    "start_time": "2022-04-17T07:10:26.261Z"
   },
   {
    "duration": 14,
    "start_time": "2022-04-17T07:10:26.268Z"
   },
   {
    "duration": 7,
    "start_time": "2022-04-17T07:10:26.284Z"
   },
   {
    "duration": 6,
    "start_time": "2022-04-17T07:10:26.293Z"
   },
   {
    "duration": 9,
    "start_time": "2022-04-17T07:10:26.300Z"
   },
   {
    "duration": 47,
    "start_time": "2022-04-17T07:10:26.311Z"
   },
   {
    "duration": 12,
    "start_time": "2022-04-17T07:10:26.360Z"
   },
   {
    "duration": 13,
    "start_time": "2022-04-17T07:10:26.374Z"
   },
   {
    "duration": 14,
    "start_time": "2022-04-17T07:10:26.388Z"
   },
   {
    "duration": 18,
    "start_time": "2022-04-17T07:10:26.403Z"
   },
   {
    "duration": 44,
    "start_time": "2022-04-17T07:10:26.423Z"
   },
   {
    "duration": 17,
    "start_time": "2022-04-17T07:10:26.472Z"
   },
   {
    "duration": 7,
    "start_time": "2022-04-17T07:10:26.491Z"
   },
   {
    "duration": 16,
    "start_time": "2022-04-17T07:10:26.499Z"
   },
   {
    "duration": 7,
    "start_time": "2022-04-17T07:10:26.517Z"
   },
   {
    "duration": 29,
    "start_time": "2022-04-17T07:10:26.526Z"
   },
   {
    "duration": 10,
    "start_time": "2022-04-17T07:10:26.557Z"
   },
   {
    "duration": 15,
    "start_time": "2022-04-17T07:10:26.568Z"
   },
   {
    "duration": 11,
    "start_time": "2022-04-17T07:10:26.585Z"
   },
   {
    "duration": 14,
    "start_time": "2022-04-17T07:10:26.598Z"
   },
   {
    "duration": 22,
    "start_time": "2022-04-17T07:10:26.613Z"
   },
   {
    "duration": 21,
    "start_time": "2022-04-17T07:10:26.636Z"
   },
   {
    "duration": 18,
    "start_time": "2022-04-17T07:10:26.658Z"
   },
   {
    "duration": 11,
    "start_time": "2022-04-17T07:10:26.678Z"
   },
   {
    "duration": 22,
    "start_time": "2022-04-17T07:10:26.690Z"
   },
   {
    "duration": 12,
    "start_time": "2022-04-17T07:12:02.910Z"
   },
   {
    "duration": 10,
    "start_time": "2022-04-17T07:12:13.705Z"
   },
   {
    "duration": 1751,
    "start_time": "2022-04-17T07:16:19.864Z"
   },
   {
    "duration": 6,
    "start_time": "2022-04-17T07:16:24.927Z"
   },
   {
    "duration": 1822,
    "start_time": "2022-04-17T07:18:14.064Z"
   },
   {
    "duration": 1777,
    "start_time": "2022-04-17T07:18:41.320Z"
   },
   {
    "duration": 7,
    "start_time": "2022-04-17T07:18:55.896Z"
   },
   {
    "duration": 22,
    "start_time": "2022-04-17T07:26:12.978Z"
   },
   {
    "duration": 4,
    "start_time": "2022-04-17T07:26:37.294Z"
   },
   {
    "duration": 7,
    "start_time": "2022-04-17T07:26:41.854Z"
   },
   {
    "duration": 18,
    "start_time": "2022-04-17T07:28:43.566Z"
   },
   {
    "duration": 8,
    "start_time": "2022-04-17T07:29:15.150Z"
   },
   {
    "duration": 7,
    "start_time": "2022-04-17T07:29:34.892Z"
   },
   {
    "duration": 7,
    "start_time": "2022-04-17T07:29:41.373Z"
   },
   {
    "duration": 9,
    "start_time": "2022-04-17T07:32:29.229Z"
   },
   {
    "duration": 120,
    "start_time": "2022-04-17T07:32:34.940Z"
   },
   {
    "duration": 11,
    "start_time": "2022-04-17T07:33:36.597Z"
   },
   {
    "duration": 113,
    "start_time": "2022-04-17T07:34:22.252Z"
   },
   {
    "duration": 8,
    "start_time": "2022-04-17T07:34:26.508Z"
   },
   {
    "duration": 8,
    "start_time": "2022-04-17T07:35:25.268Z"
   },
   {
    "duration": 8,
    "start_time": "2022-04-17T07:35:30.276Z"
   },
   {
    "duration": 7,
    "start_time": "2022-04-17T07:35:41.259Z"
   },
   {
    "duration": 6,
    "start_time": "2022-04-17T07:36:48.100Z"
   },
   {
    "duration": 225,
    "start_time": "2022-04-17T07:37:16.086Z"
   },
   {
    "duration": 14,
    "start_time": "2022-04-17T07:37:16.313Z"
   },
   {
    "duration": 25,
    "start_time": "2022-04-17T07:37:16.329Z"
   },
   {
    "duration": 19,
    "start_time": "2022-04-17T07:37:16.357Z"
   },
   {
    "duration": 7,
    "start_time": "2022-04-17T07:37:16.378Z"
   },
   {
    "duration": 23,
    "start_time": "2022-04-17T07:37:16.387Z"
   },
   {
    "duration": 7,
    "start_time": "2022-04-17T07:37:16.411Z"
   },
   {
    "duration": 10,
    "start_time": "2022-04-17T07:37:16.419Z"
   },
   {
    "duration": 6,
    "start_time": "2022-04-17T07:37:16.455Z"
   },
   {
    "duration": 5,
    "start_time": "2022-04-17T07:37:16.464Z"
   },
   {
    "duration": 5,
    "start_time": "2022-04-17T07:37:16.471Z"
   },
   {
    "duration": 10,
    "start_time": "2022-04-17T07:37:16.478Z"
   },
   {
    "duration": 6,
    "start_time": "2022-04-17T07:37:16.490Z"
   },
   {
    "duration": 18,
    "start_time": "2022-04-17T07:37:16.498Z"
   },
   {
    "duration": 39,
    "start_time": "2022-04-17T07:37:16.518Z"
   },
   {
    "duration": 6,
    "start_time": "2022-04-17T07:37:16.559Z"
   },
   {
    "duration": 6,
    "start_time": "2022-04-17T07:37:16.567Z"
   },
   {
    "duration": 13,
    "start_time": "2022-04-17T07:37:16.575Z"
   },
   {
    "duration": 7,
    "start_time": "2022-04-17T07:37:16.589Z"
   },
   {
    "duration": 7,
    "start_time": "2022-04-17T07:37:16.597Z"
   },
   {
    "duration": 7,
    "start_time": "2022-04-17T07:37:16.605Z"
   },
   {
    "duration": 43,
    "start_time": "2022-04-17T07:37:16.613Z"
   },
   {
    "duration": 17,
    "start_time": "2022-04-17T07:37:16.658Z"
   },
   {
    "duration": 7,
    "start_time": "2022-04-17T07:37:16.676Z"
   },
   {
    "duration": 11,
    "start_time": "2022-04-17T07:37:16.685Z"
   },
   {
    "duration": 21,
    "start_time": "2022-04-17T07:37:16.697Z"
   },
   {
    "duration": 40,
    "start_time": "2022-04-17T07:37:16.720Z"
   },
   {
    "duration": 17,
    "start_time": "2022-04-17T07:37:16.764Z"
   },
   {
    "duration": 7,
    "start_time": "2022-04-17T07:37:16.783Z"
   },
   {
    "duration": 18,
    "start_time": "2022-04-17T07:37:16.791Z"
   },
   {
    "duration": 8,
    "start_time": "2022-04-17T07:37:16.811Z"
   },
   {
    "duration": 44,
    "start_time": "2022-04-17T07:37:16.821Z"
   },
   {
    "duration": 8,
    "start_time": "2022-04-17T07:37:16.866Z"
   },
   {
    "duration": 11,
    "start_time": "2022-04-17T07:37:16.876Z"
   },
   {
    "duration": 5,
    "start_time": "2022-04-17T07:37:16.889Z"
   },
   {
    "duration": 7,
    "start_time": "2022-04-17T07:37:16.895Z"
   },
   {
    "duration": 16,
    "start_time": "2022-04-17T07:37:16.903Z"
   },
   {
    "duration": 9,
    "start_time": "2022-04-17T07:37:16.921Z"
   },
   {
    "duration": 25,
    "start_time": "2022-04-17T07:37:16.932Z"
   },
   {
    "duration": 8,
    "start_time": "2022-04-17T07:37:16.959Z"
   },
   {
    "duration": 7,
    "start_time": "2022-04-17T07:37:16.969Z"
   },
   {
    "duration": 14,
    "start_time": "2022-04-17T07:37:16.978Z"
   },
   {
    "duration": 75,
    "start_time": "2022-04-17T07:37:16.994Z"
   },
   {
    "duration": 10,
    "start_time": "2022-04-17T07:37:17.071Z"
   },
   {
    "duration": 11,
    "start_time": "2022-04-17T07:37:17.083Z"
   },
   {
    "duration": 315,
    "start_time": "2022-04-17T08:03:39.345Z"
   },
   {
    "duration": 19,
    "start_time": "2022-04-17T08:03:39.663Z"
   },
   {
    "duration": 35,
    "start_time": "2022-04-17T08:03:39.684Z"
   },
   {
    "duration": 18,
    "start_time": "2022-04-17T08:03:39.722Z"
   },
   {
    "duration": 14,
    "start_time": "2022-04-17T08:03:39.742Z"
   },
   {
    "duration": 28,
    "start_time": "2022-04-17T08:03:39.758Z"
   },
   {
    "duration": 13,
    "start_time": "2022-04-17T08:03:39.788Z"
   },
   {
    "duration": 8,
    "start_time": "2022-04-17T08:03:39.802Z"
   },
   {
    "duration": 7,
    "start_time": "2022-04-17T08:03:39.811Z"
   },
   {
    "duration": 7,
    "start_time": "2022-04-17T08:03:39.821Z"
   },
   {
    "duration": 7,
    "start_time": "2022-04-17T08:03:39.830Z"
   },
   {
    "duration": 24,
    "start_time": "2022-04-17T08:03:39.838Z"
   },
   {
    "duration": 8,
    "start_time": "2022-04-17T08:03:39.864Z"
   },
   {
    "duration": 36,
    "start_time": "2022-04-17T08:03:39.874Z"
   },
   {
    "duration": 5,
    "start_time": "2022-04-17T08:03:39.912Z"
   },
   {
    "duration": 5,
    "start_time": "2022-04-17T08:03:39.919Z"
   },
   {
    "duration": 5,
    "start_time": "2022-04-17T08:03:39.925Z"
   },
   {
    "duration": 30,
    "start_time": "2022-04-17T08:03:39.931Z"
   },
   {
    "duration": 10,
    "start_time": "2022-04-17T08:03:39.963Z"
   },
   {
    "duration": 25,
    "start_time": "2022-04-17T08:03:39.975Z"
   },
   {
    "duration": 9,
    "start_time": "2022-04-17T08:03:40.002Z"
   },
   {
    "duration": 15,
    "start_time": "2022-04-17T08:03:40.013Z"
   },
   {
    "duration": 36,
    "start_time": "2022-04-17T08:03:40.030Z"
   },
   {
    "duration": 32,
    "start_time": "2022-04-17T08:03:40.068Z"
   },
   {
    "duration": 19,
    "start_time": "2022-04-17T08:03:40.103Z"
   },
   {
    "duration": 20,
    "start_time": "2022-04-17T08:03:40.124Z"
   },
   {
    "duration": 23,
    "start_time": "2022-04-17T08:03:40.146Z"
   },
   {
    "duration": 26,
    "start_time": "2022-04-17T08:03:40.176Z"
   },
   {
    "duration": 9,
    "start_time": "2022-04-17T08:03:40.206Z"
   },
   {
    "duration": 18,
    "start_time": "2022-04-17T08:03:40.216Z"
   },
   {
    "duration": 40,
    "start_time": "2022-04-17T08:03:40.236Z"
   },
   {
    "duration": 31,
    "start_time": "2022-04-17T08:03:40.278Z"
   },
   {
    "duration": 8,
    "start_time": "2022-04-17T08:03:40.311Z"
   },
   {
    "duration": 15,
    "start_time": "2022-04-17T08:03:40.321Z"
   },
   {
    "duration": 10,
    "start_time": "2022-04-17T08:03:40.338Z"
   },
   {
    "duration": 43,
    "start_time": "2022-04-17T08:03:40.349Z"
   },
   {
    "duration": 41,
    "start_time": "2022-04-17T08:03:40.394Z"
   },
   {
    "duration": 16,
    "start_time": "2022-04-17T08:03:40.437Z"
   },
   {
    "duration": 42,
    "start_time": "2022-04-17T08:03:40.455Z"
   },
   {
    "duration": 5,
    "start_time": "2022-04-17T08:03:40.499Z"
   },
   {
    "duration": 6,
    "start_time": "2022-04-17T08:03:40.506Z"
   },
   {
    "duration": 16,
    "start_time": "2022-04-17T08:03:40.514Z"
   },
   {
    "duration": 20,
    "start_time": "2022-04-17T08:03:40.532Z"
   },
   {
    "duration": 19,
    "start_time": "2022-04-17T08:03:40.554Z"
   },
   {
    "duration": 28,
    "start_time": "2022-04-17T08:03:40.576Z"
   },
   {
    "duration": 13,
    "start_time": "2022-04-17T08:04:05.634Z"
   },
   {
    "duration": 12,
    "start_time": "2022-04-17T08:04:06.509Z"
   },
   {
    "duration": 140,
    "start_time": "2022-04-17T08:08:59.245Z"
   },
   {
    "duration": 12,
    "start_time": "2022-04-17T08:09:04.252Z"
   },
   {
    "duration": 12,
    "start_time": "2022-04-17T08:09:05.604Z"
   },
   {
    "duration": 6,
    "start_time": "2022-04-17T08:09:06.707Z"
   },
   {
    "duration": 3,
    "start_time": "2022-04-17T09:52:19.516Z"
   },
   {
    "duration": 3,
    "start_time": "2022-04-17T09:52:20.492Z"
   },
   {
    "duration": 12,
    "start_time": "2022-04-17T09:52:20.995Z"
   },
   {
    "duration": 11,
    "start_time": "2022-04-17T09:52:21.611Z"
   },
   {
    "duration": 6,
    "start_time": "2022-04-17T09:52:24.283Z"
   },
   {
    "duration": 6,
    "start_time": "2022-04-17T09:52:24.748Z"
   },
   {
    "duration": 4,
    "start_time": "2022-04-17T09:53:05.116Z"
   },
   {
    "duration": 3,
    "start_time": "2022-04-17T09:53:05.468Z"
   },
   {
    "duration": 12,
    "start_time": "2022-04-17T09:53:05.812Z"
   },
   {
    "duration": 12,
    "start_time": "2022-04-17T09:53:06.036Z"
   },
   {
    "duration": 7,
    "start_time": "2022-04-17T09:53:07.436Z"
   },
   {
    "duration": 6,
    "start_time": "2022-04-17T09:53:08.476Z"
   },
   {
    "duration": 390,
    "start_time": "2022-04-20T08:27:31.371Z"
   },
   {
    "duration": 20,
    "start_time": "2022-04-20T08:27:31.764Z"
   },
   {
    "duration": 19,
    "start_time": "2022-04-20T08:27:31.786Z"
   },
   {
    "duration": 29,
    "start_time": "2022-04-20T08:27:31.807Z"
   },
   {
    "duration": 7,
    "start_time": "2022-04-20T08:27:31.838Z"
   },
   {
    "duration": 27,
    "start_time": "2022-04-20T08:27:31.847Z"
   },
   {
    "duration": 6,
    "start_time": "2022-04-20T08:27:31.876Z"
   },
   {
    "duration": 6,
    "start_time": "2022-04-20T08:27:31.884Z"
   },
   {
    "duration": 7,
    "start_time": "2022-04-20T08:27:31.892Z"
   },
   {
    "duration": 5,
    "start_time": "2022-04-20T08:27:31.924Z"
   },
   {
    "duration": 9,
    "start_time": "2022-04-20T08:27:31.931Z"
   },
   {
    "duration": 8,
    "start_time": "2022-04-20T08:27:31.941Z"
   },
   {
    "duration": 5,
    "start_time": "2022-04-20T08:27:31.951Z"
   },
   {
    "duration": 18,
    "start_time": "2022-04-20T08:27:31.958Z"
   },
   {
    "duration": 5,
    "start_time": "2022-04-20T08:27:31.978Z"
   },
   {
    "duration": 38,
    "start_time": "2022-04-20T08:27:31.985Z"
   },
   {
    "duration": 6,
    "start_time": "2022-04-20T08:27:32.025Z"
   },
   {
    "duration": 20,
    "start_time": "2022-04-20T08:27:32.032Z"
   },
   {
    "duration": 8,
    "start_time": "2022-04-20T08:27:32.053Z"
   },
   {
    "duration": 6,
    "start_time": "2022-04-20T08:27:32.063Z"
   },
   {
    "duration": 9,
    "start_time": "2022-04-20T08:27:32.071Z"
   },
   {
    "duration": 8,
    "start_time": "2022-04-20T08:27:32.082Z"
   },
   {
    "duration": 40,
    "start_time": "2022-04-20T08:27:32.091Z"
   },
   {
    "duration": 4,
    "start_time": "2022-04-20T08:27:32.132Z"
   },
   {
    "duration": 17,
    "start_time": "2022-04-20T08:27:32.138Z"
   },
   {
    "duration": 25,
    "start_time": "2022-04-20T08:27:32.157Z"
   },
   {
    "duration": 43,
    "start_time": "2022-04-20T08:27:32.184Z"
   },
   {
    "duration": 15,
    "start_time": "2022-04-20T08:27:32.231Z"
   },
   {
    "duration": 8,
    "start_time": "2022-04-20T08:27:32.248Z"
   },
   {
    "duration": 15,
    "start_time": "2022-04-20T08:27:32.258Z"
   },
   {
    "duration": 7,
    "start_time": "2022-04-20T08:27:32.275Z"
   },
   {
    "duration": 7,
    "start_time": "2022-04-20T08:27:32.284Z"
   },
   {
    "duration": 7,
    "start_time": "2022-04-20T08:27:32.324Z"
   },
   {
    "duration": 20,
    "start_time": "2022-04-20T08:27:32.333Z"
   },
   {
    "duration": 7,
    "start_time": "2022-04-20T08:27:32.355Z"
   },
   {
    "duration": 7,
    "start_time": "2022-04-20T08:27:32.364Z"
   },
   {
    "duration": 11,
    "start_time": "2022-04-20T08:27:32.373Z"
   },
   {
    "duration": 13,
    "start_time": "2022-04-20T08:27:32.385Z"
   },
   {
    "duration": 24,
    "start_time": "2022-04-20T08:27:32.400Z"
   },
   {
    "duration": 7,
    "start_time": "2022-04-20T08:27:32.426Z"
   },
   {
    "duration": 7,
    "start_time": "2022-04-20T08:27:32.435Z"
   },
   {
    "duration": 20,
    "start_time": "2022-04-20T08:27:32.443Z"
   },
   {
    "duration": 15,
    "start_time": "2022-04-20T08:27:32.465Z"
   },
   {
    "duration": 9,
    "start_time": "2022-04-20T08:27:32.482Z"
   },
   {
    "duration": 63,
    "start_time": "2022-04-20T09:22:21.703Z"
   },
   {
    "duration": 52,
    "start_time": "2022-04-20T09:22:24.908Z"
   },
   {
    "duration": 12,
    "start_time": "2022-04-20T09:22:24.962Z"
   },
   {
    "duration": 14,
    "start_time": "2022-04-20T09:22:24.975Z"
   },
   {
    "duration": 33,
    "start_time": "2022-04-20T09:22:24.991Z"
   },
   {
    "duration": 5,
    "start_time": "2022-04-20T09:22:25.026Z"
   },
   {
    "duration": 13,
    "start_time": "2022-04-20T09:22:25.033Z"
   },
   {
    "duration": 5,
    "start_time": "2022-04-20T09:22:25.047Z"
   },
   {
    "duration": 9,
    "start_time": "2022-04-20T09:22:25.053Z"
   },
   {
    "duration": 4,
    "start_time": "2022-04-20T09:22:25.063Z"
   },
   {
    "duration": 5,
    "start_time": "2022-04-20T09:22:25.070Z"
   },
   {
    "duration": 5,
    "start_time": "2022-04-20T09:22:25.076Z"
   },
   {
    "duration": 5,
    "start_time": "2022-04-20T09:22:25.082Z"
   },
   {
    "duration": 4,
    "start_time": "2022-04-20T09:22:25.123Z"
   },
   {
    "duration": 12,
    "start_time": "2022-04-20T09:22:25.128Z"
   },
   {
    "duration": 4,
    "start_time": "2022-04-20T09:22:25.141Z"
   },
   {
    "duration": 8,
    "start_time": "2022-04-20T09:22:25.146Z"
   },
   {
    "duration": 5,
    "start_time": "2022-04-20T09:22:25.155Z"
   },
   {
    "duration": 12,
    "start_time": "2022-04-20T09:22:25.161Z"
   },
   {
    "duration": 5,
    "start_time": "2022-04-20T09:22:25.174Z"
   },
   {
    "duration": 7,
    "start_time": "2022-04-20T09:22:25.180Z"
   },
   {
    "duration": 6,
    "start_time": "2022-04-20T09:22:25.188Z"
   },
   {
    "duration": 7,
    "start_time": "2022-04-20T09:22:25.223Z"
   },
   {
    "duration": 13,
    "start_time": "2022-04-20T09:22:25.232Z"
   },
   {
    "duration": 8,
    "start_time": "2022-04-20T09:22:25.246Z"
   },
   {
    "duration": 12,
    "start_time": "2022-04-20T09:22:25.255Z"
   },
   {
    "duration": 18,
    "start_time": "2022-04-20T09:22:25.268Z"
   },
   {
    "duration": 43,
    "start_time": "2022-04-20T09:22:25.288Z"
   },
   {
    "duration": 15,
    "start_time": "2022-04-20T09:22:25.334Z"
   },
   {
    "duration": 6,
    "start_time": "2022-04-20T09:22:25.350Z"
   },
   {
    "duration": 17,
    "start_time": "2022-04-20T09:22:25.357Z"
   },
   {
    "duration": 7,
    "start_time": "2022-04-20T09:22:25.375Z"
   },
   {
    "duration": 8,
    "start_time": "2022-04-20T09:22:25.384Z"
   },
   {
    "duration": 31,
    "start_time": "2022-04-20T09:22:25.393Z"
   },
   {
    "duration": 11,
    "start_time": "2022-04-20T09:22:25.425Z"
   },
   {
    "duration": 4,
    "start_time": "2022-04-20T09:22:25.438Z"
   },
   {
    "duration": 4,
    "start_time": "2022-04-20T09:22:25.444Z"
   },
   {
    "duration": 10,
    "start_time": "2022-04-20T09:22:25.449Z"
   },
   {
    "duration": 9,
    "start_time": "2022-04-20T09:22:25.460Z"
   },
   {
    "duration": 7,
    "start_time": "2022-04-20T09:22:25.470Z"
   },
   {
    "duration": 4,
    "start_time": "2022-04-20T09:22:25.479Z"
   },
   {
    "duration": 8,
    "start_time": "2022-04-20T09:22:25.484Z"
   },
   {
    "duration": 38,
    "start_time": "2022-04-20T09:22:25.493Z"
   },
   {
    "duration": 10,
    "start_time": "2022-04-20T09:22:25.532Z"
   },
   {
    "duration": 5,
    "start_time": "2022-04-20T09:22:25.544Z"
   },
   {
    "duration": 15,
    "start_time": "2022-04-20T09:22:25.551Z"
   },
   {
    "duration": 8,
    "start_time": "2022-04-20T09:28:14.599Z"
   },
   {
    "duration": 12,
    "start_time": "2022-04-20T09:30:09.958Z"
   },
   {
    "duration": 49,
    "start_time": "2022-04-20T09:33:55.201Z"
   },
   {
    "duration": 13,
    "start_time": "2022-04-20T09:33:55.252Z"
   },
   {
    "duration": 16,
    "start_time": "2022-04-20T09:33:55.266Z"
   },
   {
    "duration": 25,
    "start_time": "2022-04-20T09:33:55.284Z"
   },
   {
    "duration": 17,
    "start_time": "2022-04-20T09:33:55.310Z"
   },
   {
    "duration": 30,
    "start_time": "2022-04-20T09:33:55.328Z"
   },
   {
    "duration": 5,
    "start_time": "2022-04-20T09:33:55.359Z"
   },
   {
    "duration": 15,
    "start_time": "2022-04-20T09:33:55.366Z"
   },
   {
    "duration": 13,
    "start_time": "2022-04-20T09:33:55.383Z"
   },
   {
    "duration": 11,
    "start_time": "2022-04-20T09:33:55.399Z"
   },
   {
    "duration": 15,
    "start_time": "2022-04-20T09:33:55.412Z"
   },
   {
    "duration": 14,
    "start_time": "2022-04-20T09:33:55.428Z"
   },
   {
    "duration": 19,
    "start_time": "2022-04-20T09:33:55.443Z"
   },
   {
    "duration": 20,
    "start_time": "2022-04-20T09:33:55.464Z"
   },
   {
    "duration": 4,
    "start_time": "2022-04-20T09:33:55.486Z"
   },
   {
    "duration": 18,
    "start_time": "2022-04-20T09:33:55.491Z"
   },
   {
    "duration": 15,
    "start_time": "2022-04-20T09:33:55.510Z"
   },
   {
    "duration": 25,
    "start_time": "2022-04-20T09:33:55.526Z"
   },
   {
    "duration": 7,
    "start_time": "2022-04-20T09:33:55.552Z"
   },
   {
    "duration": 12,
    "start_time": "2022-04-20T09:33:55.561Z"
   },
   {
    "duration": 6,
    "start_time": "2022-04-20T09:33:55.575Z"
   },
   {
    "duration": 27,
    "start_time": "2022-04-20T09:33:55.582Z"
   },
   {
    "duration": 20,
    "start_time": "2022-04-20T09:33:55.610Z"
   },
   {
    "duration": 19,
    "start_time": "2022-04-20T09:33:55.631Z"
   },
   {
    "duration": 24,
    "start_time": "2022-04-20T09:33:55.651Z"
   },
   {
    "duration": 44,
    "start_time": "2022-04-20T09:33:55.676Z"
   },
   {
    "duration": 19,
    "start_time": "2022-04-20T09:33:55.721Z"
   },
   {
    "duration": 16,
    "start_time": "2022-04-20T09:33:55.743Z"
   },
   {
    "duration": 6,
    "start_time": "2022-04-20T09:33:55.760Z"
   },
   {
    "duration": 14,
    "start_time": "2022-04-20T09:33:55.768Z"
   },
   {
    "duration": 7,
    "start_time": "2022-04-20T09:33:55.784Z"
   },
   {
    "duration": 32,
    "start_time": "2022-04-20T09:33:55.792Z"
   },
   {
    "duration": 6,
    "start_time": "2022-04-20T09:33:55.826Z"
   },
   {
    "duration": 12,
    "start_time": "2022-04-20T09:33:55.833Z"
   },
   {
    "duration": 4,
    "start_time": "2022-04-20T09:33:55.847Z"
   },
   {
    "duration": 8,
    "start_time": "2022-04-20T09:33:55.853Z"
   },
   {
    "duration": 12,
    "start_time": "2022-04-20T09:33:55.863Z"
   },
   {
    "duration": 9,
    "start_time": "2022-04-20T09:33:55.876Z"
   },
   {
    "duration": 7,
    "start_time": "2022-04-20T09:33:55.887Z"
   },
   {
    "duration": 4,
    "start_time": "2022-04-20T09:33:55.895Z"
   },
   {
    "duration": 25,
    "start_time": "2022-04-20T09:33:55.900Z"
   },
   {
    "duration": 13,
    "start_time": "2022-04-20T09:33:55.926Z"
   },
   {
    "duration": 10,
    "start_time": "2022-04-20T09:33:55.940Z"
   },
   {
    "duration": 7,
    "start_time": "2022-04-20T09:33:55.951Z"
   },
   {
    "duration": 14,
    "start_time": "2022-04-20T09:33:55.959Z"
   },
   {
    "duration": 11,
    "start_time": "2022-04-20T09:35:26.755Z"
   },
   {
    "duration": 12,
    "start_time": "2022-04-20T09:35:31.766Z"
   },
   {
    "duration": 15,
    "start_time": "2022-04-20T09:43:44.420Z"
   },
   {
    "duration": 15,
    "start_time": "2022-04-20T09:47:29.204Z"
   },
   {
    "duration": 14,
    "start_time": "2022-04-20T09:53:53.843Z"
   },
   {
    "duration": 7,
    "start_time": "2022-04-20T09:55:12.144Z"
   },
   {
    "duration": 9,
    "start_time": "2022-04-20T09:55:17.201Z"
   },
   {
    "duration": 6,
    "start_time": "2022-04-20T09:55:44.769Z"
   },
   {
    "duration": 49,
    "start_time": "2022-04-20T09:58:14.220Z"
   },
   {
    "duration": 12,
    "start_time": "2022-04-20T09:58:14.271Z"
   },
   {
    "duration": 37,
    "start_time": "2022-04-20T09:58:14.285Z"
   },
   {
    "duration": 19,
    "start_time": "2022-04-20T09:58:14.324Z"
   },
   {
    "duration": 18,
    "start_time": "2022-04-20T09:58:14.344Z"
   },
   {
    "duration": 21,
    "start_time": "2022-04-20T09:58:14.363Z"
   },
   {
    "duration": 9,
    "start_time": "2022-04-20T09:58:14.386Z"
   },
   {
    "duration": 9,
    "start_time": "2022-04-20T09:58:14.396Z"
   },
   {
    "duration": 10,
    "start_time": "2022-04-20T09:58:14.407Z"
   },
   {
    "duration": 12,
    "start_time": "2022-04-20T09:58:14.420Z"
   },
   {
    "duration": 17,
    "start_time": "2022-04-20T09:58:14.433Z"
   },
   {
    "duration": 15,
    "start_time": "2022-04-20T09:58:14.451Z"
   },
   {
    "duration": 7,
    "start_time": "2022-04-20T09:58:14.467Z"
   },
   {
    "duration": 17,
    "start_time": "2022-04-20T09:58:14.475Z"
   },
   {
    "duration": 6,
    "start_time": "2022-04-20T09:58:14.494Z"
   },
   {
    "duration": 8,
    "start_time": "2022-04-20T09:58:14.501Z"
   },
   {
    "duration": 17,
    "start_time": "2022-04-20T09:58:14.510Z"
   },
   {
    "duration": 15,
    "start_time": "2022-04-20T09:58:14.529Z"
   },
   {
    "duration": 10,
    "start_time": "2022-04-20T09:58:14.545Z"
   },
   {
    "duration": 6,
    "start_time": "2022-04-20T09:58:14.556Z"
   },
   {
    "duration": 19,
    "start_time": "2022-04-20T09:58:14.563Z"
   },
   {
    "duration": 29,
    "start_time": "2022-04-20T09:58:14.584Z"
   },
   {
    "duration": 27,
    "start_time": "2022-04-20T09:58:14.615Z"
   },
   {
    "duration": 16,
    "start_time": "2022-04-20T09:58:14.644Z"
   },
   {
    "duration": 40,
    "start_time": "2022-04-20T09:58:14.662Z"
   },
   {
    "duration": 27,
    "start_time": "2022-04-20T09:58:14.704Z"
   },
   {
    "duration": 29,
    "start_time": "2022-04-20T09:58:14.732Z"
   },
   {
    "duration": 23,
    "start_time": "2022-04-20T09:58:14.764Z"
   },
   {
    "duration": 6,
    "start_time": "2022-04-20T09:58:14.789Z"
   },
   {
    "duration": 39,
    "start_time": "2022-04-20T09:58:14.796Z"
   },
   {
    "duration": 23,
    "start_time": "2022-04-20T09:58:14.837Z"
   },
   {
    "duration": 22,
    "start_time": "2022-04-20T09:58:14.861Z"
   },
   {
    "duration": 31,
    "start_time": "2022-04-20T09:58:14.884Z"
   },
   {
    "duration": 23,
    "start_time": "2022-04-20T09:58:14.917Z"
   },
   {
    "duration": 22,
    "start_time": "2022-04-20T09:58:14.941Z"
   },
   {
    "duration": 29,
    "start_time": "2022-04-20T09:58:14.965Z"
   },
   {
    "duration": 28,
    "start_time": "2022-04-20T09:58:14.995Z"
   },
   {
    "duration": 28,
    "start_time": "2022-04-20T09:58:15.024Z"
   },
   {
    "duration": 24,
    "start_time": "2022-04-20T09:58:15.053Z"
   },
   {
    "duration": 28,
    "start_time": "2022-04-20T09:58:15.079Z"
   },
   {
    "duration": 36,
    "start_time": "2022-04-20T09:58:15.108Z"
   },
   {
    "duration": 21,
    "start_time": "2022-04-20T09:58:15.146Z"
   },
   {
    "duration": 27,
    "start_time": "2022-04-20T09:58:15.169Z"
   },
   {
    "duration": 36,
    "start_time": "2022-04-20T09:58:15.198Z"
   },
   {
    "duration": 49,
    "start_time": "2022-04-20T09:58:15.236Z"
   },
   {
    "duration": 7,
    "start_time": "2022-04-20T09:58:15.286Z"
   },
   {
    "duration": 17,
    "start_time": "2022-04-20T10:00:56.862Z"
   },
   {
    "duration": 18,
    "start_time": "2022-04-20T10:02:51.327Z"
   },
   {
    "duration": 17,
    "start_time": "2022-04-20T10:03:16.967Z"
   },
   {
    "duration": 5,
    "start_time": "2022-04-20T10:04:04.783Z"
   },
   {
    "duration": 15,
    "start_time": "2022-04-20T10:05:30.071Z"
   },
   {
    "duration": 16,
    "start_time": "2022-04-20T10:07:45.231Z"
   },
   {
    "duration": 15,
    "start_time": "2022-04-20T10:09:43.006Z"
   },
   {
    "duration": 16,
    "start_time": "2022-04-20T10:10:21.782Z"
   },
   {
    "duration": 18,
    "start_time": "2022-04-20T10:12:03.294Z"
   },
   {
    "duration": 6,
    "start_time": "2022-04-20T10:15:58.620Z"
   },
   {
    "duration": 18,
    "start_time": "2022-04-20T10:16:08.803Z"
   },
   {
    "duration": 16,
    "start_time": "2022-04-20T10:17:42.802Z"
   },
   {
    "duration": 53,
    "start_time": "2022-04-20T10:18:08.752Z"
   },
   {
    "duration": 15,
    "start_time": "2022-04-20T10:18:08.807Z"
   },
   {
    "duration": 19,
    "start_time": "2022-04-20T10:18:08.824Z"
   },
   {
    "duration": 15,
    "start_time": "2022-04-20T10:18:08.846Z"
   },
   {
    "duration": 8,
    "start_time": "2022-04-20T10:18:08.862Z"
   },
   {
    "duration": 15,
    "start_time": "2022-04-20T10:18:08.872Z"
   },
   {
    "duration": 37,
    "start_time": "2022-04-20T10:18:08.888Z"
   },
   {
    "duration": 7,
    "start_time": "2022-04-20T10:18:08.926Z"
   },
   {
    "duration": 6,
    "start_time": "2022-04-20T10:18:08.934Z"
   },
   {
    "duration": 5,
    "start_time": "2022-04-20T10:18:08.980Z"
   },
   {
    "duration": 7,
    "start_time": "2022-04-20T10:18:08.988Z"
   },
   {
    "duration": 5,
    "start_time": "2022-04-20T10:18:09.025Z"
   },
   {
    "duration": 6,
    "start_time": "2022-04-20T10:18:09.032Z"
   },
   {
    "duration": 19,
    "start_time": "2022-04-20T10:18:09.040Z"
   },
   {
    "duration": 6,
    "start_time": "2022-04-20T10:18:09.060Z"
   },
   {
    "duration": 11,
    "start_time": "2022-04-20T10:18:09.068Z"
   },
   {
    "duration": 9,
    "start_time": "2022-04-20T10:18:09.080Z"
   },
   {
    "duration": 37,
    "start_time": "2022-04-20T10:18:09.091Z"
   },
   {
    "duration": 6,
    "start_time": "2022-04-20T10:18:09.130Z"
   },
   {
    "duration": 9,
    "start_time": "2022-04-20T10:18:09.138Z"
   },
   {
    "duration": 11,
    "start_time": "2022-04-20T10:18:09.149Z"
   },
   {
    "duration": 12,
    "start_time": "2022-04-20T10:18:09.162Z"
   },
   {
    "duration": 14,
    "start_time": "2022-04-20T10:18:09.176Z"
   },
   {
    "duration": 9,
    "start_time": "2022-04-20T10:18:09.192Z"
   },
   {
    "duration": 12,
    "start_time": "2022-04-20T10:18:09.224Z"
   },
   {
    "duration": 19,
    "start_time": "2022-04-20T10:18:09.238Z"
   },
   {
    "duration": 19,
    "start_time": "2022-04-20T10:18:09.258Z"
   },
   {
    "duration": 52,
    "start_time": "2022-04-20T10:18:09.280Z"
   },
   {
    "duration": 7,
    "start_time": "2022-04-20T10:18:09.333Z"
   },
   {
    "duration": 16,
    "start_time": "2022-04-20T10:18:09.342Z"
   },
   {
    "duration": 10,
    "start_time": "2022-04-20T10:18:09.360Z"
   },
   {
    "duration": 8,
    "start_time": "2022-04-20T10:18:09.372Z"
   },
   {
    "duration": 42,
    "start_time": "2022-04-20T10:18:09.382Z"
   },
   {
    "duration": 14,
    "start_time": "2022-04-20T10:18:09.426Z"
   },
   {
    "duration": 6,
    "start_time": "2022-04-20T10:18:09.442Z"
   },
   {
    "duration": 4,
    "start_time": "2022-04-20T10:18:09.450Z"
   },
   {
    "duration": 11,
    "start_time": "2022-04-20T10:18:09.456Z"
   },
   {
    "duration": 14,
    "start_time": "2022-04-20T10:18:09.469Z"
   },
   {
    "duration": 44,
    "start_time": "2022-04-20T10:18:09.484Z"
   },
   {
    "duration": 5,
    "start_time": "2022-04-20T10:18:09.530Z"
   },
   {
    "duration": 9,
    "start_time": "2022-04-20T10:18:09.536Z"
   },
   {
    "duration": 21,
    "start_time": "2022-04-20T10:18:09.547Z"
   },
   {
    "duration": 15,
    "start_time": "2022-04-20T10:18:09.570Z"
   },
   {
    "duration": 8,
    "start_time": "2022-04-20T10:18:09.586Z"
   },
   {
    "duration": 20,
    "start_time": "2022-04-20T10:18:09.624Z"
   },
   {
    "duration": 5,
    "start_time": "2022-04-20T10:18:09.645Z"
   },
   {
    "duration": 18,
    "start_time": "2022-04-20T10:18:09.652Z"
   },
   {
    "duration": 20,
    "start_time": "2022-04-20T10:18:25.123Z"
   },
   {
    "duration": 24,
    "start_time": "2022-04-20T10:18:32.420Z"
   },
   {
    "duration": 22,
    "start_time": "2022-04-20T10:21:58.379Z"
   },
   {
    "duration": 10,
    "start_time": "2022-04-20T10:22:41.828Z"
   },
   {
    "duration": 10,
    "start_time": "2022-04-20T10:22:53.178Z"
   },
   {
    "duration": 17,
    "start_time": "2022-04-20T10:22:53.675Z"
   },
   {
    "duration": 14,
    "start_time": "2022-04-20T10:24:13.146Z"
   },
   {
    "duration": 3,
    "start_time": "2022-04-20T10:32:44.192Z"
   },
   {
    "duration": 9,
    "start_time": "2022-04-20T10:32:44.648Z"
   },
   {
    "duration": 17,
    "start_time": "2022-04-20T10:32:45.113Z"
   },
   {
    "duration": 17,
    "start_time": "2022-04-20T10:37:00.104Z"
   },
   {
    "duration": 49,
    "start_time": "2022-04-20T10:37:30.683Z"
   },
   {
    "duration": 14,
    "start_time": "2022-04-20T10:37:30.734Z"
   },
   {
    "duration": 43,
    "start_time": "2022-04-20T10:37:30.750Z"
   },
   {
    "duration": 23,
    "start_time": "2022-04-20T10:37:30.795Z"
   },
   {
    "duration": 29,
    "start_time": "2022-04-20T10:37:30.820Z"
   },
   {
    "duration": 20,
    "start_time": "2022-04-20T10:37:30.852Z"
   },
   {
    "duration": 20,
    "start_time": "2022-04-20T10:37:30.874Z"
   },
   {
    "duration": 21,
    "start_time": "2022-04-20T10:37:30.897Z"
   },
   {
    "duration": 10,
    "start_time": "2022-04-20T10:37:30.920Z"
   },
   {
    "duration": 16,
    "start_time": "2022-04-20T10:37:30.934Z"
   },
   {
    "duration": 28,
    "start_time": "2022-04-20T10:37:30.953Z"
   },
   {
    "duration": 10,
    "start_time": "2022-04-20T10:37:30.983Z"
   },
   {
    "duration": 39,
    "start_time": "2022-04-20T10:37:30.995Z"
   },
   {
    "duration": 25,
    "start_time": "2022-04-20T10:37:31.036Z"
   },
   {
    "duration": 11,
    "start_time": "2022-04-20T10:37:31.062Z"
   },
   {
    "duration": 10,
    "start_time": "2022-04-20T10:37:31.074Z"
   },
   {
    "duration": 21,
    "start_time": "2022-04-20T10:37:31.086Z"
   },
   {
    "duration": 15,
    "start_time": "2022-04-20T10:37:31.108Z"
   },
   {
    "duration": 8,
    "start_time": "2022-04-20T10:37:31.125Z"
   },
   {
    "duration": 11,
    "start_time": "2022-04-20T10:37:31.135Z"
   },
   {
    "duration": 10,
    "start_time": "2022-04-20T10:37:31.148Z"
   },
   {
    "duration": 29,
    "start_time": "2022-04-20T10:37:31.160Z"
   },
   {
    "duration": 26,
    "start_time": "2022-04-20T10:37:31.191Z"
   },
   {
    "duration": 42,
    "start_time": "2022-04-20T10:37:31.223Z"
   },
   {
    "duration": 15,
    "start_time": "2022-04-20T10:37:31.267Z"
   },
   {
    "duration": 34,
    "start_time": "2022-04-20T10:37:31.283Z"
   },
   {
    "duration": 19,
    "start_time": "2022-04-20T10:37:31.318Z"
   },
   {
    "duration": 18,
    "start_time": "2022-04-20T10:37:31.340Z"
   },
   {
    "duration": 8,
    "start_time": "2022-04-20T10:37:31.359Z"
   },
   {
    "duration": 35,
    "start_time": "2022-04-20T10:37:31.370Z"
   },
   {
    "duration": 15,
    "start_time": "2022-04-20T10:37:31.423Z"
   },
   {
    "duration": 14,
    "start_time": "2022-04-20T10:37:31.439Z"
   },
   {
    "duration": 7,
    "start_time": "2022-04-20T10:37:31.455Z"
   },
   {
    "duration": 19,
    "start_time": "2022-04-20T10:37:31.464Z"
   },
   {
    "duration": 20,
    "start_time": "2022-04-20T10:37:31.485Z"
   },
   {
    "duration": 11,
    "start_time": "2022-04-20T10:37:31.507Z"
   },
   {
    "duration": 20,
    "start_time": "2022-04-20T10:37:31.520Z"
   },
   {
    "duration": 19,
    "start_time": "2022-04-20T10:37:31.542Z"
   },
   {
    "duration": 17,
    "start_time": "2022-04-20T10:37:31.563Z"
   },
   {
    "duration": 14,
    "start_time": "2022-04-20T10:37:31.582Z"
   },
   {
    "duration": 13,
    "start_time": "2022-04-20T10:37:31.597Z"
   },
   {
    "duration": 16,
    "start_time": "2022-04-20T10:37:31.612Z"
   },
   {
    "duration": 30,
    "start_time": "2022-04-20T10:37:31.630Z"
   },
   {
    "duration": 12,
    "start_time": "2022-04-20T10:37:31.661Z"
   },
   {
    "duration": 9,
    "start_time": "2022-04-20T10:37:31.675Z"
   },
   {
    "duration": 28,
    "start_time": "2022-04-20T10:37:31.686Z"
   },
   {
    "duration": 6,
    "start_time": "2022-04-20T10:37:31.716Z"
   },
   {
    "duration": 27,
    "start_time": "2022-04-20T10:37:31.724Z"
   },
   {
    "duration": 15,
    "start_time": "2022-04-20T10:37:31.753Z"
   },
   {
    "duration": 24,
    "start_time": "2022-04-20T10:38:38.230Z"
   },
   {
    "duration": 28,
    "start_time": "2022-04-20T10:38:56.294Z"
   },
   {
    "duration": 14,
    "start_time": "2022-04-20T10:50:23.485Z"
   },
   {
    "duration": 49,
    "start_time": "2022-04-20T11:03:32.655Z"
   },
   {
    "duration": 13,
    "start_time": "2022-04-20T11:03:32.706Z"
   },
   {
    "duration": 22,
    "start_time": "2022-04-20T11:03:32.721Z"
   },
   {
    "duration": 22,
    "start_time": "2022-04-20T11:03:32.746Z"
   },
   {
    "duration": 21,
    "start_time": "2022-04-20T11:03:32.769Z"
   },
   {
    "duration": 11,
    "start_time": "2022-04-20T11:03:32.791Z"
   },
   {
    "duration": 25,
    "start_time": "2022-04-20T11:03:32.804Z"
   },
   {
    "duration": 22,
    "start_time": "2022-04-20T11:03:32.831Z"
   },
   {
    "duration": 11,
    "start_time": "2022-04-20T11:03:32.854Z"
   },
   {
    "duration": 18,
    "start_time": "2022-04-20T11:03:32.868Z"
   },
   {
    "duration": 18,
    "start_time": "2022-04-20T11:03:32.887Z"
   },
   {
    "duration": 18,
    "start_time": "2022-04-20T11:03:32.907Z"
   },
   {
    "duration": 32,
    "start_time": "2022-04-20T11:03:32.927Z"
   },
   {
    "duration": 17,
    "start_time": "2022-04-20T11:03:32.961Z"
   },
   {
    "duration": 21,
    "start_time": "2022-04-20T11:03:32.980Z"
   },
   {
    "duration": 9,
    "start_time": "2022-04-20T11:03:33.003Z"
   },
   {
    "duration": 20,
    "start_time": "2022-04-20T11:03:33.013Z"
   },
   {
    "duration": 20,
    "start_time": "2022-04-20T11:03:33.035Z"
   },
   {
    "duration": 20,
    "start_time": "2022-04-20T11:03:33.057Z"
   },
   {
    "duration": 10,
    "start_time": "2022-04-20T11:03:33.079Z"
   },
   {
    "duration": 15,
    "start_time": "2022-04-20T11:03:33.092Z"
   },
   {
    "duration": 26,
    "start_time": "2022-04-20T11:03:33.108Z"
   },
   {
    "duration": 18,
    "start_time": "2022-04-20T11:03:33.136Z"
   },
   {
    "duration": 18,
    "start_time": "2022-04-20T11:03:33.156Z"
   },
   {
    "duration": 13,
    "start_time": "2022-04-20T11:03:33.176Z"
   },
   {
    "duration": 21,
    "start_time": "2022-04-20T11:03:33.191Z"
   },
   {
    "duration": 27,
    "start_time": "2022-04-20T11:03:33.213Z"
   },
   {
    "duration": 24,
    "start_time": "2022-04-20T11:03:33.244Z"
   },
   {
    "duration": 29,
    "start_time": "2022-04-20T11:03:33.269Z"
   },
   {
    "duration": 7,
    "start_time": "2022-04-20T11:03:33.300Z"
   },
   {
    "duration": 30,
    "start_time": "2022-04-20T11:03:33.309Z"
   },
   {
    "duration": 17,
    "start_time": "2022-04-20T11:03:33.340Z"
   },
   {
    "duration": 19,
    "start_time": "2022-04-20T11:03:33.359Z"
   },
   {
    "duration": 22,
    "start_time": "2022-04-20T11:03:33.380Z"
   },
   {
    "duration": 22,
    "start_time": "2022-04-20T11:03:33.404Z"
   },
   {
    "duration": 15,
    "start_time": "2022-04-20T11:03:33.428Z"
   },
   {
    "duration": 19,
    "start_time": "2022-04-20T11:03:33.445Z"
   },
   {
    "duration": 15,
    "start_time": "2022-04-20T11:03:33.465Z"
   },
   {
    "duration": 27,
    "start_time": "2022-04-20T11:03:33.481Z"
   },
   {
    "duration": 25,
    "start_time": "2022-04-20T11:03:33.510Z"
   },
   {
    "duration": 7,
    "start_time": "2022-04-20T11:03:33.536Z"
   },
   {
    "duration": 22,
    "start_time": "2022-04-20T11:03:33.545Z"
   },
   {
    "duration": 27,
    "start_time": "2022-04-20T11:03:33.569Z"
   },
   {
    "duration": 15,
    "start_time": "2022-04-20T11:03:33.598Z"
   },
   {
    "duration": 9,
    "start_time": "2022-04-20T11:03:33.614Z"
   },
   {
    "duration": 24,
    "start_time": "2022-04-20T11:03:33.625Z"
   },
   {
    "duration": 6,
    "start_time": "2022-04-20T11:03:33.651Z"
   },
   {
    "duration": 23,
    "start_time": "2022-04-20T11:03:33.659Z"
   },
   {
    "duration": 41,
    "start_time": "2022-04-20T11:03:33.684Z"
   },
   {
    "duration": 20,
    "start_time": "2022-04-20T11:03:33.727Z"
   },
   {
    "duration": 48,
    "start_time": "2022-04-20T11:10:46.457Z"
   },
   {
    "duration": 48,
    "start_time": "2022-04-20T11:10:50.364Z"
   },
   {
    "duration": 14,
    "start_time": "2022-04-20T11:10:50.413Z"
   },
   {
    "duration": 16,
    "start_time": "2022-04-20T11:10:50.429Z"
   },
   {
    "duration": 13,
    "start_time": "2022-04-20T11:10:50.447Z"
   },
   {
    "duration": 6,
    "start_time": "2022-04-20T11:10:50.461Z"
   },
   {
    "duration": 14,
    "start_time": "2022-04-20T11:10:50.469Z"
   },
   {
    "duration": 5,
    "start_time": "2022-04-20T11:10:50.485Z"
   },
   {
    "duration": 36,
    "start_time": "2022-04-20T11:10:50.492Z"
   },
   {
    "duration": 5,
    "start_time": "2022-04-20T11:10:50.530Z"
   },
   {
    "duration": 5,
    "start_time": "2022-04-20T11:10:50.538Z"
   },
   {
    "duration": 9,
    "start_time": "2022-04-20T11:10:50.545Z"
   },
   {
    "duration": 7,
    "start_time": "2022-04-20T11:10:50.556Z"
   },
   {
    "duration": 5,
    "start_time": "2022-04-20T11:10:50.564Z"
   },
   {
    "duration": 54,
    "start_time": "2022-04-20T11:10:50.571Z"
   },
   {
    "duration": 5,
    "start_time": "2022-04-20T11:10:50.627Z"
   },
   {
    "duration": 6,
    "start_time": "2022-04-20T11:10:50.634Z"
   },
   {
    "duration": 7,
    "start_time": "2022-04-20T11:10:50.641Z"
   },
   {
    "duration": 14,
    "start_time": "2022-04-20T11:10:50.650Z"
   },
   {
    "duration": 7,
    "start_time": "2022-04-20T11:10:50.665Z"
   },
   {
    "duration": 53,
    "start_time": "2022-04-20T11:10:50.673Z"
   },
   {
    "duration": 5,
    "start_time": "2022-04-20T11:10:50.728Z"
   },
   {
    "duration": 29,
    "start_time": "2022-04-20T11:10:50.735Z"
   },
   {
    "duration": 14,
    "start_time": "2022-04-20T11:10:50.766Z"
   },
   {
    "duration": 5,
    "start_time": "2022-04-20T11:10:50.782Z"
   },
   {
    "duration": 38,
    "start_time": "2022-04-20T11:10:50.789Z"
   },
   {
    "duration": 22,
    "start_time": "2022-04-20T11:10:50.829Z"
   },
   {
    "duration": 18,
    "start_time": "2022-04-20T11:10:50.853Z"
   },
   {
    "duration": 16,
    "start_time": "2022-04-20T11:10:50.874Z"
   },
   {
    "duration": 7,
    "start_time": "2022-04-20T11:10:50.891Z"
   },
   {
    "duration": 19,
    "start_time": "2022-04-20T11:10:50.924Z"
   },
   {
    "duration": 11,
    "start_time": "2022-04-20T11:10:50.945Z"
   },
   {
    "duration": 9,
    "start_time": "2022-04-20T11:10:50.958Z"
   },
   {
    "duration": 4,
    "start_time": "2022-04-20T11:10:50.969Z"
   },
   {
    "duration": 21,
    "start_time": "2022-04-20T11:10:50.975Z"
   },
   {
    "duration": 13,
    "start_time": "2022-04-20T11:10:50.998Z"
   },
   {
    "duration": 13,
    "start_time": "2022-04-20T11:10:51.013Z"
   },
   {
    "duration": 12,
    "start_time": "2022-04-20T11:10:51.028Z"
   },
   {
    "duration": 15,
    "start_time": "2022-04-20T11:10:51.042Z"
   },
   {
    "duration": 8,
    "start_time": "2022-04-20T11:10:51.059Z"
   },
   {
    "duration": 4,
    "start_time": "2022-04-20T11:10:51.069Z"
   },
   {
    "duration": 7,
    "start_time": "2022-04-20T11:10:51.075Z"
   },
   {
    "duration": 46,
    "start_time": "2022-04-20T11:10:51.083Z"
   },
   {
    "duration": 15,
    "start_time": "2022-04-20T11:10:51.131Z"
   },
   {
    "duration": 7,
    "start_time": "2022-04-20T11:10:51.148Z"
   },
   {
    "duration": 20,
    "start_time": "2022-04-20T11:10:51.157Z"
   },
   {
    "duration": 5,
    "start_time": "2022-04-20T11:10:51.178Z"
   },
   {
    "duration": 17,
    "start_time": "2022-04-20T11:10:51.223Z"
   },
   {
    "duration": 22,
    "start_time": "2022-04-20T11:10:51.242Z"
   },
   {
    "duration": 15,
    "start_time": "2022-04-20T11:10:51.266Z"
   },
   {
    "duration": 49,
    "start_time": "2022-04-20T11:12:37.217Z"
   },
   {
    "duration": 13,
    "start_time": "2022-04-20T11:13:30.682Z"
   },
   {
    "duration": 14,
    "start_time": "2022-04-20T11:14:00.321Z"
   },
   {
    "duration": 55,
    "start_time": "2022-04-20T11:21:41.231Z"
   },
   {
    "duration": 14,
    "start_time": "2022-04-20T11:21:51.655Z"
   },
   {
    "duration": 5,
    "start_time": "2022-04-20T11:30:26.773Z"
   },
   {
    "duration": 8,
    "start_time": "2022-04-20T12:02:15.614Z"
   },
   {
    "duration": 23,
    "start_time": "2022-04-20T12:02:32.118Z"
   },
   {
    "duration": 57,
    "start_time": "2022-04-20T12:03:13.411Z"
   },
   {
    "duration": 12,
    "start_time": "2022-04-20T12:03:13.470Z"
   },
   {
    "duration": 28,
    "start_time": "2022-04-20T12:03:13.484Z"
   },
   {
    "duration": 22,
    "start_time": "2022-04-20T12:03:13.526Z"
   },
   {
    "duration": 8,
    "start_time": "2022-04-20T12:03:13.550Z"
   },
   {
    "duration": 22,
    "start_time": "2022-04-20T12:03:13.560Z"
   },
   {
    "duration": 8,
    "start_time": "2022-04-20T12:03:13.584Z"
   },
   {
    "duration": 6,
    "start_time": "2022-04-20T12:03:13.594Z"
   },
   {
    "duration": 26,
    "start_time": "2022-04-20T12:03:13.602Z"
   },
   {
    "duration": 20,
    "start_time": "2022-04-20T12:03:13.632Z"
   },
   {
    "duration": 6,
    "start_time": "2022-04-20T12:03:13.654Z"
   },
   {
    "duration": 7,
    "start_time": "2022-04-20T12:03:13.661Z"
   },
   {
    "duration": 8,
    "start_time": "2022-04-20T12:03:13.670Z"
   },
   {
    "duration": 28,
    "start_time": "2022-04-20T12:03:13.680Z"
   },
   {
    "duration": 6,
    "start_time": "2022-04-20T12:03:13.709Z"
   },
   {
    "duration": 32,
    "start_time": "2022-04-20T12:03:13.716Z"
   },
   {
    "duration": 13,
    "start_time": "2022-04-20T12:03:13.749Z"
   },
   {
    "duration": 22,
    "start_time": "2022-04-20T12:03:13.763Z"
   },
   {
    "duration": 6,
    "start_time": "2022-04-20T12:03:13.787Z"
   },
   {
    "duration": 14,
    "start_time": "2022-04-20T12:03:13.794Z"
   },
   {
    "duration": 21,
    "start_time": "2022-04-20T12:03:13.810Z"
   },
   {
    "duration": 22,
    "start_time": "2022-04-20T12:03:13.834Z"
   },
   {
    "duration": 25,
    "start_time": "2022-04-20T12:03:13.857Z"
   },
   {
    "duration": 19,
    "start_time": "2022-04-20T12:03:13.883Z"
   },
   {
    "duration": 16,
    "start_time": "2022-04-20T12:03:13.904Z"
   },
   {
    "duration": 36,
    "start_time": "2022-04-20T12:03:13.922Z"
   },
   {
    "duration": 19,
    "start_time": "2022-04-20T12:03:13.959Z"
   },
   {
    "duration": 17,
    "start_time": "2022-04-20T12:03:13.981Z"
   },
   {
    "duration": 7,
    "start_time": "2022-04-20T12:03:14.000Z"
   },
   {
    "duration": 31,
    "start_time": "2022-04-20T12:03:14.009Z"
   },
   {
    "duration": 9,
    "start_time": "2022-04-20T12:03:14.042Z"
   },
   {
    "duration": 11,
    "start_time": "2022-04-20T12:03:14.053Z"
   },
   {
    "duration": 5,
    "start_time": "2022-04-20T12:03:14.065Z"
   },
   {
    "duration": 16,
    "start_time": "2022-04-20T12:03:14.072Z"
   },
   {
    "duration": 8,
    "start_time": "2022-04-20T12:03:14.090Z"
   },
   {
    "duration": 24,
    "start_time": "2022-04-20T12:03:14.100Z"
   },
   {
    "duration": 24,
    "start_time": "2022-04-20T12:03:14.127Z"
   },
   {
    "duration": 13,
    "start_time": "2022-04-20T12:03:14.153Z"
   },
   {
    "duration": 10,
    "start_time": "2022-04-20T12:03:14.168Z"
   },
   {
    "duration": 5,
    "start_time": "2022-04-20T12:03:14.180Z"
   },
   {
    "duration": 5,
    "start_time": "2022-04-20T12:03:14.187Z"
   },
   {
    "duration": 13,
    "start_time": "2022-04-20T12:03:14.194Z"
   },
   {
    "duration": 35,
    "start_time": "2022-04-20T12:03:14.209Z"
   },
   {
    "duration": 8,
    "start_time": "2022-04-20T12:03:14.245Z"
   },
   {
    "duration": 19,
    "start_time": "2022-04-20T12:03:14.255Z"
   },
   {
    "duration": 4,
    "start_time": "2022-04-20T12:03:14.276Z"
   },
   {
    "duration": 52,
    "start_time": "2022-04-20T12:03:14.282Z"
   },
   {
    "duration": 27,
    "start_time": "2022-04-20T12:03:14.336Z"
   },
   {
    "duration": 19,
    "start_time": "2022-04-20T12:03:14.364Z"
   },
   {
    "duration": 12,
    "start_time": "2022-04-20T12:03:14.385Z"
   },
   {
    "duration": 8,
    "start_time": "2022-04-20T12:22:17.850Z"
   },
   {
    "duration": 8,
    "start_time": "2022-04-20T12:22:28.946Z"
   },
   {
    "duration": 75,
    "start_time": "2022-04-20T12:22:33.462Z"
   },
   {
    "duration": 14,
    "start_time": "2022-04-20T12:22:33.541Z"
   },
   {
    "duration": 21,
    "start_time": "2022-04-20T12:22:33.557Z"
   },
   {
    "duration": 16,
    "start_time": "2022-04-20T12:22:33.581Z"
   },
   {
    "duration": 6,
    "start_time": "2022-04-20T12:22:33.598Z"
   },
   {
    "duration": 37,
    "start_time": "2022-04-20T12:22:33.606Z"
   },
   {
    "duration": 12,
    "start_time": "2022-04-20T12:22:33.644Z"
   },
   {
    "duration": 12,
    "start_time": "2022-04-20T12:22:33.657Z"
   },
   {
    "duration": 6,
    "start_time": "2022-04-20T12:22:33.671Z"
   },
   {
    "duration": 6,
    "start_time": "2022-04-20T12:22:33.679Z"
   },
   {
    "duration": 7,
    "start_time": "2022-04-20T12:22:33.686Z"
   },
   {
    "duration": 6,
    "start_time": "2022-04-20T12:22:33.695Z"
   },
   {
    "duration": 12,
    "start_time": "2022-04-20T12:22:33.728Z"
   },
   {
    "duration": 14,
    "start_time": "2022-04-20T12:22:33.742Z"
   },
   {
    "duration": 6,
    "start_time": "2022-04-20T12:22:33.758Z"
   },
   {
    "duration": 8,
    "start_time": "2022-04-20T12:22:33.766Z"
   },
   {
    "duration": 8,
    "start_time": "2022-04-20T12:22:33.776Z"
   },
   {
    "duration": 41,
    "start_time": "2022-04-20T12:22:33.785Z"
   },
   {
    "duration": 17,
    "start_time": "2022-04-20T12:22:33.828Z"
   },
   {
    "duration": 12,
    "start_time": "2022-04-20T12:22:33.847Z"
   },
   {
    "duration": 13,
    "start_time": "2022-04-20T12:22:33.861Z"
   },
   {
    "duration": 8,
    "start_time": "2022-04-20T12:22:33.876Z"
   },
   {
    "duration": 12,
    "start_time": "2022-04-20T12:22:33.886Z"
   },
   {
    "duration": 4,
    "start_time": "2022-04-20T12:22:33.936Z"
   },
   {
    "duration": 16,
    "start_time": "2022-04-20T12:22:33.941Z"
   },
   {
    "duration": 20,
    "start_time": "2022-04-20T12:22:33.959Z"
   },
   {
    "duration": 25,
    "start_time": "2022-04-20T12:22:33.981Z"
   },
   {
    "duration": 37,
    "start_time": "2022-04-20T12:22:34.010Z"
   },
   {
    "duration": 13,
    "start_time": "2022-04-20T12:22:34.050Z"
   },
   {
    "duration": 23,
    "start_time": "2022-04-20T12:22:34.066Z"
   },
   {
    "duration": 10,
    "start_time": "2022-04-20T12:22:34.091Z"
   },
   {
    "duration": 12,
    "start_time": "2022-04-20T12:22:34.128Z"
   },
   {
    "duration": 8,
    "start_time": "2022-04-20T12:22:34.142Z"
   },
   {
    "duration": 15,
    "start_time": "2022-04-20T12:22:34.152Z"
   },
   {
    "duration": 7,
    "start_time": "2022-04-20T12:22:34.169Z"
   },
   {
    "duration": 4,
    "start_time": "2022-04-20T12:22:34.178Z"
   },
   {
    "duration": 14,
    "start_time": "2022-04-20T12:22:34.183Z"
   },
   {
    "duration": 38,
    "start_time": "2022-04-20T12:22:34.198Z"
   },
   {
    "duration": 10,
    "start_time": "2022-04-20T12:22:34.238Z"
   },
   {
    "duration": 6,
    "start_time": "2022-04-20T12:22:34.249Z"
   },
   {
    "duration": 6,
    "start_time": "2022-04-20T12:22:34.257Z"
   },
   {
    "duration": 14,
    "start_time": "2022-04-20T12:22:34.265Z"
   },
   {
    "duration": 11,
    "start_time": "2022-04-20T12:22:34.281Z"
   },
   {
    "duration": 10,
    "start_time": "2022-04-20T12:22:34.293Z"
   },
   {
    "duration": 45,
    "start_time": "2022-04-20T12:22:34.304Z"
   },
   {
    "duration": 5,
    "start_time": "2022-04-20T12:22:34.351Z"
   },
   {
    "duration": 16,
    "start_time": "2022-04-20T12:22:34.357Z"
   },
   {
    "duration": 21,
    "start_time": "2022-04-20T12:22:34.374Z"
   },
   {
    "duration": 38,
    "start_time": "2022-04-20T12:22:34.397Z"
   },
   {
    "duration": 15,
    "start_time": "2022-04-20T12:22:34.437Z"
   },
   {
    "duration": 73,
    "start_time": "2022-04-20T12:22:52.381Z"
   },
   {
    "duration": 17,
    "start_time": "2022-04-20T12:22:52.457Z"
   },
   {
    "duration": 14,
    "start_time": "2022-04-20T12:22:52.475Z"
   },
   {
    "duration": 34,
    "start_time": "2022-04-20T12:22:52.491Z"
   },
   {
    "duration": 7,
    "start_time": "2022-04-20T12:22:52.527Z"
   },
   {
    "duration": 17,
    "start_time": "2022-04-20T12:22:52.536Z"
   },
   {
    "duration": 9,
    "start_time": "2022-04-20T12:22:52.555Z"
   },
   {
    "duration": 10,
    "start_time": "2022-04-20T12:22:52.565Z"
   },
   {
    "duration": 4,
    "start_time": "2022-04-20T12:22:52.576Z"
   },
   {
    "duration": 6,
    "start_time": "2022-04-20T12:22:52.582Z"
   },
   {
    "duration": 11,
    "start_time": "2022-04-20T12:22:52.623Z"
   },
   {
    "duration": 11,
    "start_time": "2022-04-20T12:22:52.638Z"
   },
   {
    "duration": 7,
    "start_time": "2022-04-20T12:22:52.651Z"
   },
   {
    "duration": 13,
    "start_time": "2022-04-20T12:22:52.660Z"
   },
   {
    "duration": 4,
    "start_time": "2022-04-20T12:22:52.675Z"
   },
   {
    "duration": 5,
    "start_time": "2022-04-20T12:22:52.680Z"
   },
   {
    "duration": 5,
    "start_time": "2022-04-20T12:22:52.686Z"
   },
   {
    "duration": 16,
    "start_time": "2022-04-20T12:22:52.733Z"
   },
   {
    "duration": 6,
    "start_time": "2022-04-20T12:22:52.752Z"
   },
   {
    "duration": 8,
    "start_time": "2022-04-20T12:22:52.760Z"
   },
   {
    "duration": 8,
    "start_time": "2022-04-20T12:22:52.769Z"
   },
   {
    "duration": 10,
    "start_time": "2022-04-20T12:22:52.778Z"
   },
   {
    "duration": 41,
    "start_time": "2022-04-20T12:22:52.789Z"
   },
   {
    "duration": 14,
    "start_time": "2022-04-20T12:22:52.832Z"
   },
   {
    "duration": 15,
    "start_time": "2022-04-20T12:22:52.848Z"
   },
   {
    "duration": 21,
    "start_time": "2022-04-20T12:22:52.865Z"
   },
   {
    "duration": 17,
    "start_time": "2022-04-20T12:22:52.887Z"
   },
   {
    "duration": 42,
    "start_time": "2022-04-20T12:22:52.908Z"
   },
   {
    "duration": 11,
    "start_time": "2022-04-20T12:22:52.952Z"
   },
   {
    "duration": 14,
    "start_time": "2022-04-20T12:22:52.965Z"
   },
   {
    "duration": 7,
    "start_time": "2022-04-20T12:22:52.980Z"
   },
   {
    "duration": 16,
    "start_time": "2022-04-20T12:22:52.989Z"
   },
   {
    "duration": 3,
    "start_time": "2022-04-20T12:22:53.027Z"
   },
   {
    "duration": 23,
    "start_time": "2022-04-20T12:22:53.033Z"
   },
   {
    "duration": 7,
    "start_time": "2022-04-20T12:22:53.057Z"
   },
   {
    "duration": 7,
    "start_time": "2022-04-20T12:22:53.066Z"
   },
   {
    "duration": 14,
    "start_time": "2022-04-20T12:22:53.075Z"
   },
   {
    "duration": 16,
    "start_time": "2022-04-20T12:22:53.091Z"
   },
   {
    "duration": 31,
    "start_time": "2022-04-20T12:22:53.109Z"
   },
   {
    "duration": 6,
    "start_time": "2022-04-20T12:22:53.143Z"
   },
   {
    "duration": 7,
    "start_time": "2022-04-20T12:22:53.152Z"
   },
   {
    "duration": 18,
    "start_time": "2022-04-20T12:22:53.160Z"
   },
   {
    "duration": 14,
    "start_time": "2022-04-20T12:22:53.180Z"
   },
   {
    "duration": 34,
    "start_time": "2022-04-20T12:22:53.195Z"
   },
   {
    "duration": 23,
    "start_time": "2022-04-20T12:22:53.231Z"
   },
   {
    "duration": 5,
    "start_time": "2022-04-20T12:22:53.255Z"
   },
   {
    "duration": 16,
    "start_time": "2022-04-20T12:22:53.262Z"
   },
   {
    "duration": 20,
    "start_time": "2022-04-20T12:22:53.280Z"
   },
   {
    "duration": 37,
    "start_time": "2022-04-20T12:22:53.301Z"
   },
   {
    "duration": 22,
    "start_time": "2022-04-20T12:22:53.341Z"
   },
   {
    "duration": 9,
    "start_time": "2022-04-20T12:23:44.149Z"
   },
   {
    "duration": 446,
    "start_time": "2022-04-20T12:23:55.113Z"
   },
   {
    "duration": 20,
    "start_time": "2022-04-20T12:23:55.561Z"
   },
   {
    "duration": 13,
    "start_time": "2022-04-20T12:23:55.582Z"
   },
   {
    "duration": 27,
    "start_time": "2022-04-20T12:23:55.597Z"
   },
   {
    "duration": 5,
    "start_time": "2022-04-20T12:23:55.626Z"
   },
   {
    "duration": 27,
    "start_time": "2022-04-20T12:23:55.632Z"
   },
   {
    "duration": 6,
    "start_time": "2022-04-20T12:23:55.660Z"
   },
   {
    "duration": 8,
    "start_time": "2022-04-20T12:23:55.667Z"
   },
   {
    "duration": 5,
    "start_time": "2022-04-20T12:23:55.676Z"
   },
   {
    "duration": 5,
    "start_time": "2022-04-20T12:23:55.683Z"
   },
   {
    "duration": 5,
    "start_time": "2022-04-20T12:23:55.689Z"
   },
   {
    "duration": 41,
    "start_time": "2022-04-20T12:23:55.695Z"
   },
   {
    "duration": 6,
    "start_time": "2022-04-20T12:23:55.738Z"
   },
   {
    "duration": 13,
    "start_time": "2022-04-20T12:23:55.745Z"
   },
   {
    "duration": 4,
    "start_time": "2022-04-20T12:23:55.759Z"
   },
   {
    "duration": 4,
    "start_time": "2022-04-20T12:23:55.765Z"
   },
   {
    "duration": 10,
    "start_time": "2022-04-20T12:23:55.770Z"
   },
   {
    "duration": 19,
    "start_time": "2022-04-20T12:23:55.781Z"
   },
   {
    "duration": 5,
    "start_time": "2022-04-20T12:23:55.802Z"
   },
   {
    "duration": 7,
    "start_time": "2022-04-20T12:23:55.828Z"
   },
   {
    "duration": 11,
    "start_time": "2022-04-20T12:23:55.837Z"
   },
   {
    "duration": 10,
    "start_time": "2022-04-20T12:23:55.849Z"
   },
   {
    "duration": 11,
    "start_time": "2022-04-20T12:23:55.860Z"
   },
   {
    "duration": 6,
    "start_time": "2022-04-20T12:23:55.872Z"
   },
   {
    "duration": 12,
    "start_time": "2022-04-20T12:23:55.879Z"
   },
   {
    "duration": 46,
    "start_time": "2022-04-20T12:23:55.893Z"
   },
   {
    "duration": 16,
    "start_time": "2022-04-20T12:23:55.941Z"
   },
   {
    "duration": 15,
    "start_time": "2022-04-20T12:23:55.960Z"
   },
   {
    "duration": 6,
    "start_time": "2022-04-20T12:23:55.976Z"
   },
   {
    "duration": 13,
    "start_time": "2022-04-20T12:23:55.983Z"
   },
   {
    "duration": 27,
    "start_time": "2022-04-20T12:23:55.998Z"
   },
   {
    "duration": 11,
    "start_time": "2022-04-20T12:23:56.027Z"
   },
   {
    "duration": 8,
    "start_time": "2022-04-20T12:23:56.041Z"
   },
   {
    "duration": 13,
    "start_time": "2022-04-20T12:23:56.050Z"
   },
   {
    "duration": 4,
    "start_time": "2022-04-20T12:23:56.065Z"
   },
   {
    "duration": 5,
    "start_time": "2022-04-20T12:23:56.071Z"
   },
   {
    "duration": 9,
    "start_time": "2022-04-20T12:23:56.077Z"
   },
   {
    "duration": 11,
    "start_time": "2022-04-20T12:23:56.087Z"
   },
   {
    "duration": 15,
    "start_time": "2022-04-20T12:23:56.126Z"
   },
   {
    "duration": 11,
    "start_time": "2022-04-20T12:23:56.143Z"
   },
   {
    "duration": 9,
    "start_time": "2022-04-20T12:23:56.155Z"
   },
   {
    "duration": 14,
    "start_time": "2022-04-20T12:23:56.166Z"
   },
   {
    "duration": 15,
    "start_time": "2022-04-20T12:23:56.182Z"
   },
   {
    "duration": 7,
    "start_time": "2022-04-20T12:23:56.198Z"
   },
   {
    "duration": 34,
    "start_time": "2022-04-20T12:23:56.207Z"
   },
   {
    "duration": 6,
    "start_time": "2022-04-20T12:23:56.243Z"
   },
   {
    "duration": 16,
    "start_time": "2022-04-20T12:23:56.251Z"
   },
   {
    "duration": 22,
    "start_time": "2022-04-20T12:23:56.268Z"
   },
   {
    "duration": 41,
    "start_time": "2022-04-20T12:23:56.291Z"
   },
   {
    "duration": 14,
    "start_time": "2022-04-20T12:23:56.335Z"
   },
   {
    "duration": 5,
    "start_time": "2022-04-20T12:40:09.566Z"
   },
   {
    "duration": 6,
    "start_time": "2022-04-20T12:40:25.964Z"
   },
   {
    "duration": 6,
    "start_time": "2022-04-20T12:41:19.269Z"
   },
   {
    "duration": 7,
    "start_time": "2022-04-20T12:41:23.870Z"
   },
   {
    "duration": 6,
    "start_time": "2022-04-20T12:46:14.307Z"
   },
   {
    "duration": 5,
    "start_time": "2022-04-20T12:51:58.179Z"
   },
   {
    "duration": 7,
    "start_time": "2022-04-20T13:16:27.653Z"
   },
   {
    "duration": 8,
    "start_time": "2022-04-20T13:17:04.052Z"
   },
   {
    "duration": 13,
    "start_time": "2022-04-20T13:17:33.404Z"
   },
   {
    "duration": 47,
    "start_time": "2022-04-20T13:17:41.377Z"
   },
   {
    "duration": 12,
    "start_time": "2022-04-20T13:17:41.426Z"
   },
   {
    "duration": 16,
    "start_time": "2022-04-20T13:17:41.439Z"
   },
   {
    "duration": 12,
    "start_time": "2022-04-20T13:17:41.457Z"
   },
   {
    "duration": 5,
    "start_time": "2022-04-20T13:17:41.470Z"
   },
   {
    "duration": 12,
    "start_time": "2022-04-20T13:17:41.476Z"
   },
   {
    "duration": 5,
    "start_time": "2022-04-20T13:17:41.524Z"
   },
   {
    "duration": 8,
    "start_time": "2022-04-20T13:17:41.530Z"
   },
   {
    "duration": 4,
    "start_time": "2022-04-20T13:17:41.539Z"
   },
   {
    "duration": 3,
    "start_time": "2022-04-20T13:17:41.545Z"
   },
   {
    "duration": 8,
    "start_time": "2022-04-20T13:17:41.550Z"
   },
   {
    "duration": 6,
    "start_time": "2022-04-20T13:17:41.559Z"
   },
   {
    "duration": 6,
    "start_time": "2022-04-20T13:17:41.566Z"
   },
   {
    "duration": 12,
    "start_time": "2022-04-20T13:17:41.573Z"
   },
   {
    "duration": 38,
    "start_time": "2022-04-20T13:17:41.586Z"
   },
   {
    "duration": 4,
    "start_time": "2022-04-20T13:17:41.626Z"
   },
   {
    "duration": 8,
    "start_time": "2022-04-20T13:17:41.632Z"
   },
   {
    "duration": 12,
    "start_time": "2022-04-20T13:17:41.642Z"
   },
   {
    "duration": 6,
    "start_time": "2022-04-20T13:17:41.655Z"
   },
   {
    "duration": 7,
    "start_time": "2022-04-20T13:17:41.662Z"
   },
   {
    "duration": 13,
    "start_time": "2022-04-20T13:17:41.670Z"
   },
   {
    "duration": 8,
    "start_time": "2022-04-20T13:17:41.684Z"
   },
   {
    "duration": 31,
    "start_time": "2022-04-20T13:17:41.693Z"
   },
   {
    "duration": 6,
    "start_time": "2022-04-20T13:17:41.726Z"
   },
   {
    "duration": 13,
    "start_time": "2022-04-20T13:17:41.733Z"
   },
   {
    "duration": 18,
    "start_time": "2022-04-20T13:17:41.747Z"
   },
   {
    "duration": 15,
    "start_time": "2022-04-20T13:17:41.766Z"
   },
   {
    "duration": 15,
    "start_time": "2022-04-20T13:17:41.784Z"
   },
   {
    "duration": 7,
    "start_time": "2022-04-20T13:17:41.823Z"
   },
   {
    "duration": 17,
    "start_time": "2022-04-20T13:17:41.831Z"
   },
   {
    "duration": 7,
    "start_time": "2022-04-20T13:17:41.850Z"
   },
   {
    "duration": 8,
    "start_time": "2022-04-20T13:17:41.858Z"
   },
   {
    "duration": 4,
    "start_time": "2022-04-20T13:17:41.867Z"
   },
   {
    "duration": 13,
    "start_time": "2022-04-20T13:17:41.873Z"
   },
   {
    "duration": 14,
    "start_time": "2022-04-20T13:17:41.888Z"
   },
   {
    "duration": 9,
    "start_time": "2022-04-20T13:17:41.903Z"
   },
   {
    "duration": 11,
    "start_time": "2022-04-20T13:17:41.924Z"
   },
   {
    "duration": 11,
    "start_time": "2022-04-20T13:17:41.936Z"
   },
   {
    "duration": 10,
    "start_time": "2022-04-20T13:17:41.948Z"
   },
   {
    "duration": 5,
    "start_time": "2022-04-20T13:17:41.959Z"
   },
   {
    "duration": 8,
    "start_time": "2022-04-20T13:17:41.966Z"
   },
   {
    "duration": 14,
    "start_time": "2022-04-20T13:17:41.975Z"
   },
   {
    "duration": 39,
    "start_time": "2022-04-20T13:17:41.990Z"
   },
   {
    "duration": 10,
    "start_time": "2022-04-20T13:17:42.031Z"
   },
   {
    "duration": 20,
    "start_time": "2022-04-20T13:17:42.042Z"
   },
   {
    "duration": 5,
    "start_time": "2022-04-20T13:17:42.064Z"
   },
   {
    "duration": 16,
    "start_time": "2022-04-20T13:17:42.070Z"
   },
   {
    "duration": 38,
    "start_time": "2022-04-20T13:17:42.087Z"
   },
   {
    "duration": 15,
    "start_time": "2022-04-20T13:17:42.126Z"
   },
   {
    "duration": 10,
    "start_time": "2022-04-20T13:17:42.143Z"
   },
   {
    "duration": 66,
    "start_time": "2022-04-20T13:18:32.141Z"
   },
   {
    "duration": 8,
    "start_time": "2022-04-20T13:18:40.029Z"
   },
   {
    "duration": 9,
    "start_time": "2022-04-20T13:18:44.492Z"
   },
   {
    "duration": 13,
    "start_time": "2022-04-20T13:18:45.492Z"
   },
   {
    "duration": 48,
    "start_time": "2022-04-20T13:18:48.415Z"
   },
   {
    "duration": 15,
    "start_time": "2022-04-20T13:18:48.465Z"
   },
   {
    "duration": 47,
    "start_time": "2022-04-20T13:18:48.481Z"
   },
   {
    "duration": 14,
    "start_time": "2022-04-20T13:18:48.530Z"
   },
   {
    "duration": 11,
    "start_time": "2022-04-20T13:18:48.546Z"
   },
   {
    "duration": 16,
    "start_time": "2022-04-20T13:18:48.559Z"
   },
   {
    "duration": 6,
    "start_time": "2022-04-20T13:18:48.576Z"
   },
   {
    "duration": 6,
    "start_time": "2022-04-20T13:18:48.583Z"
   },
   {
    "duration": 33,
    "start_time": "2022-04-20T13:18:48.590Z"
   },
   {
    "duration": 4,
    "start_time": "2022-04-20T13:18:48.627Z"
   },
   {
    "duration": 8,
    "start_time": "2022-04-20T13:18:48.633Z"
   },
   {
    "duration": 8,
    "start_time": "2022-04-20T13:18:48.643Z"
   },
   {
    "duration": 7,
    "start_time": "2022-04-20T13:18:48.653Z"
   },
   {
    "duration": 13,
    "start_time": "2022-04-20T13:18:48.661Z"
   },
   {
    "duration": 5,
    "start_time": "2022-04-20T13:18:48.675Z"
   },
   {
    "duration": 5,
    "start_time": "2022-04-20T13:18:48.681Z"
   },
   {
    "duration": 40,
    "start_time": "2022-04-20T13:18:48.687Z"
   },
   {
    "duration": 18,
    "start_time": "2022-04-20T13:18:48.729Z"
   },
   {
    "duration": 10,
    "start_time": "2022-04-20T13:18:48.749Z"
   },
   {
    "duration": 5,
    "start_time": "2022-04-20T13:18:48.761Z"
   },
   {
    "duration": 12,
    "start_time": "2022-04-20T13:18:48.767Z"
   },
   {
    "duration": 8,
    "start_time": "2022-04-20T13:18:48.780Z"
   },
   {
    "duration": 0,
    "start_time": "2022-04-20T13:18:48.790Z"
   },
   {
    "duration": 1,
    "start_time": "2022-04-20T13:18:48.822Z"
   },
   {
    "duration": 0,
    "start_time": "2022-04-20T13:18:48.824Z"
   },
   {
    "duration": 0,
    "start_time": "2022-04-20T13:18:48.825Z"
   },
   {
    "duration": 0,
    "start_time": "2022-04-20T13:18:48.826Z"
   },
   {
    "duration": 0,
    "start_time": "2022-04-20T13:18:48.827Z"
   },
   {
    "duration": 0,
    "start_time": "2022-04-20T13:18:48.828Z"
   },
   {
    "duration": 0,
    "start_time": "2022-04-20T13:18:48.829Z"
   },
   {
    "duration": 0,
    "start_time": "2022-04-20T13:18:48.830Z"
   },
   {
    "duration": 0,
    "start_time": "2022-04-20T13:18:48.831Z"
   },
   {
    "duration": 0,
    "start_time": "2022-04-20T13:18:48.832Z"
   },
   {
    "duration": 0,
    "start_time": "2022-04-20T13:18:48.833Z"
   },
   {
    "duration": 0,
    "start_time": "2022-04-20T13:18:48.834Z"
   },
   {
    "duration": 0,
    "start_time": "2022-04-20T13:18:48.835Z"
   },
   {
    "duration": 0,
    "start_time": "2022-04-20T13:18:48.836Z"
   },
   {
    "duration": 0,
    "start_time": "2022-04-20T13:18:48.837Z"
   },
   {
    "duration": 0,
    "start_time": "2022-04-20T13:18:48.838Z"
   },
   {
    "duration": 0,
    "start_time": "2022-04-20T13:18:48.839Z"
   },
   {
    "duration": 0,
    "start_time": "2022-04-20T13:18:48.840Z"
   },
   {
    "duration": 0,
    "start_time": "2022-04-20T13:18:48.841Z"
   },
   {
    "duration": 0,
    "start_time": "2022-04-20T13:18:48.842Z"
   },
   {
    "duration": 0,
    "start_time": "2022-04-20T13:18:48.843Z"
   },
   {
    "duration": 0,
    "start_time": "2022-04-20T13:18:48.844Z"
   },
   {
    "duration": 0,
    "start_time": "2022-04-20T13:18:48.845Z"
   },
   {
    "duration": 0,
    "start_time": "2022-04-20T13:18:48.846Z"
   },
   {
    "duration": 0,
    "start_time": "2022-04-20T13:18:48.847Z"
   },
   {
    "duration": 0,
    "start_time": "2022-04-20T13:18:48.848Z"
   },
   {
    "duration": 0,
    "start_time": "2022-04-20T13:18:48.849Z"
   },
   {
    "duration": 9,
    "start_time": "2022-04-20T13:20:33.244Z"
   },
   {
    "duration": 12,
    "start_time": "2022-04-20T13:20:34.724Z"
   },
   {
    "duration": 5,
    "start_time": "2022-04-20T13:21:04.956Z"
   },
   {
    "duration": 13,
    "start_time": "2022-04-20T13:21:07.460Z"
   },
   {
    "duration": 49,
    "start_time": "2022-04-20T13:21:11.409Z"
   },
   {
    "duration": 13,
    "start_time": "2022-04-20T13:21:11.460Z"
   },
   {
    "duration": 20,
    "start_time": "2022-04-20T13:21:11.474Z"
   },
   {
    "duration": 39,
    "start_time": "2022-04-20T13:21:11.496Z"
   },
   {
    "duration": 5,
    "start_time": "2022-04-20T13:21:11.536Z"
   },
   {
    "duration": 14,
    "start_time": "2022-04-20T13:21:11.542Z"
   },
   {
    "duration": 5,
    "start_time": "2022-04-20T13:21:11.558Z"
   },
   {
    "duration": 6,
    "start_time": "2022-04-20T13:21:11.564Z"
   },
   {
    "duration": 5,
    "start_time": "2022-04-20T13:21:11.572Z"
   },
   {
    "duration": 5,
    "start_time": "2022-04-20T13:21:11.580Z"
   },
   {
    "duration": 39,
    "start_time": "2022-04-20T13:21:11.587Z"
   },
   {
    "duration": 5,
    "start_time": "2022-04-20T13:21:11.628Z"
   },
   {
    "duration": 7,
    "start_time": "2022-04-20T13:21:11.634Z"
   },
   {
    "duration": 13,
    "start_time": "2022-04-20T13:21:11.642Z"
   },
   {
    "duration": 5,
    "start_time": "2022-04-20T13:21:11.657Z"
   },
   {
    "duration": 4,
    "start_time": "2022-04-20T13:21:11.663Z"
   },
   {
    "duration": 6,
    "start_time": "2022-04-20T13:21:11.668Z"
   },
   {
    "duration": 53,
    "start_time": "2022-04-20T13:21:11.675Z"
   },
   {
    "duration": 6,
    "start_time": "2022-04-20T13:21:11.729Z"
   },
   {
    "duration": 5,
    "start_time": "2022-04-20T13:21:11.737Z"
   },
   {
    "duration": 6,
    "start_time": "2022-04-20T13:21:11.744Z"
   },
   {
    "duration": 5,
    "start_time": "2022-04-20T13:21:11.752Z"
   },
   {
    "duration": 12,
    "start_time": "2022-04-20T13:21:11.758Z"
   },
   {
    "duration": 9,
    "start_time": "2022-04-20T13:21:11.771Z"
   },
   {
    "duration": 12,
    "start_time": "2022-04-20T13:21:11.781Z"
   },
   {
    "duration": 41,
    "start_time": "2022-04-20T13:21:11.795Z"
   },
   {
    "duration": 15,
    "start_time": "2022-04-20T13:21:11.838Z"
   },
   {
    "duration": 14,
    "start_time": "2022-04-20T13:21:11.856Z"
   },
   {
    "duration": 6,
    "start_time": "2022-04-20T13:21:11.872Z"
   },
   {
    "duration": 14,
    "start_time": "2022-04-20T13:21:11.879Z"
   },
   {
    "duration": 30,
    "start_time": "2022-04-20T13:21:11.895Z"
   },
   {
    "duration": 12,
    "start_time": "2022-04-20T13:21:11.926Z"
   },
   {
    "duration": 5,
    "start_time": "2022-04-20T13:21:11.939Z"
   },
   {
    "duration": 12,
    "start_time": "2022-04-20T13:21:11.945Z"
   },
   {
    "duration": 4,
    "start_time": "2022-04-20T13:21:11.959Z"
   },
   {
    "duration": 6,
    "start_time": "2022-04-20T13:21:11.965Z"
   },
   {
    "duration": 16,
    "start_time": "2022-04-20T13:21:11.972Z"
   },
   {
    "duration": 16,
    "start_time": "2022-04-20T13:21:11.990Z"
   },
   {
    "duration": 21,
    "start_time": "2022-04-20T13:21:12.007Z"
   },
   {
    "duration": 5,
    "start_time": "2022-04-20T13:21:12.030Z"
   },
   {
    "duration": 8,
    "start_time": "2022-04-20T13:21:12.036Z"
   },
   {
    "duration": 13,
    "start_time": "2022-04-20T13:21:12.045Z"
   },
   {
    "duration": 43,
    "start_time": "2022-04-20T13:21:12.060Z"
   },
   {
    "duration": 23,
    "start_time": "2022-04-20T13:21:12.105Z"
   },
   {
    "duration": 19,
    "start_time": "2022-04-20T13:21:12.130Z"
   },
   {
    "duration": 5,
    "start_time": "2022-04-20T13:21:12.150Z"
   },
   {
    "duration": 15,
    "start_time": "2022-04-20T13:21:12.156Z"
   },
   {
    "duration": 53,
    "start_time": "2022-04-20T13:21:12.172Z"
   },
   {
    "duration": 17,
    "start_time": "2022-04-20T13:21:12.227Z"
   },
   {
    "duration": 13,
    "start_time": "2022-04-20T13:21:12.245Z"
   },
   {
    "duration": 6,
    "start_time": "2022-04-20T13:25:26.500Z"
   },
   {
    "duration": 13,
    "start_time": "2022-04-20T13:25:28.235Z"
   },
   {
    "duration": 5,
    "start_time": "2022-04-20T13:25:49.698Z"
   },
   {
    "duration": 5,
    "start_time": "2022-04-20T13:25:50.523Z"
   },
   {
    "duration": 1223,
    "start_time": "2022-04-20T13:26:19.114Z"
   },
   {
    "duration": 5,
    "start_time": "2022-04-20T13:26:20.450Z"
   },
   {
    "duration": 4,
    "start_time": "2022-04-20T13:26:28.675Z"
   },
   {
    "duration": 52,
    "start_time": "2022-04-20T13:26:31.103Z"
   },
   {
    "duration": 13,
    "start_time": "2022-04-20T13:26:31.157Z"
   },
   {
    "duration": 15,
    "start_time": "2022-04-20T13:26:31.172Z"
   },
   {
    "duration": 42,
    "start_time": "2022-04-20T13:26:31.189Z"
   },
   {
    "duration": 5,
    "start_time": "2022-04-20T13:26:31.233Z"
   },
   {
    "duration": 17,
    "start_time": "2022-04-20T13:26:31.240Z"
   },
   {
    "duration": 5,
    "start_time": "2022-04-20T13:26:31.258Z"
   },
   {
    "duration": 8,
    "start_time": "2022-04-20T13:26:31.264Z"
   },
   {
    "duration": 8,
    "start_time": "2022-04-20T13:26:31.274Z"
   },
   {
    "duration": 5,
    "start_time": "2022-04-20T13:26:31.285Z"
   },
   {
    "duration": 34,
    "start_time": "2022-04-20T13:26:31.291Z"
   },
   {
    "duration": 4,
    "start_time": "2022-04-20T13:26:31.327Z"
   },
   {
    "duration": 24,
    "start_time": "2022-04-20T13:26:31.333Z"
   },
   {
    "duration": 24,
    "start_time": "2022-04-20T13:26:31.359Z"
   },
   {
    "duration": 7,
    "start_time": "2022-04-20T13:26:31.384Z"
   },
   {
    "duration": 11,
    "start_time": "2022-04-20T13:26:31.392Z"
   },
   {
    "duration": 10,
    "start_time": "2022-04-20T13:26:31.405Z"
   },
   {
    "duration": 22,
    "start_time": "2022-04-20T13:26:31.416Z"
   },
   {
    "duration": 6,
    "start_time": "2022-04-20T13:26:31.439Z"
   },
   {
    "duration": 12,
    "start_time": "2022-04-20T13:26:31.446Z"
   },
   {
    "duration": 13,
    "start_time": "2022-04-20T13:26:31.460Z"
   },
   {
    "duration": 9,
    "start_time": "2022-04-20T13:26:31.475Z"
   },
   {
    "duration": 20,
    "start_time": "2022-04-20T13:26:31.485Z"
   },
   {
    "duration": 27,
    "start_time": "2022-04-20T13:26:31.506Z"
   },
   {
    "duration": 61,
    "start_time": "2022-04-20T13:26:31.535Z"
   },
   {
    "duration": 26,
    "start_time": "2022-04-20T13:26:31.598Z"
   },
   {
    "duration": 18,
    "start_time": "2022-04-20T13:26:31.625Z"
   },
   {
    "duration": 16,
    "start_time": "2022-04-20T13:26:31.647Z"
   },
   {
    "duration": 6,
    "start_time": "2022-04-20T13:26:31.664Z"
   },
   {
    "duration": 44,
    "start_time": "2022-04-20T13:26:31.672Z"
   },
   {
    "duration": 17,
    "start_time": "2022-04-20T13:26:31.717Z"
   },
   {
    "duration": 57,
    "start_time": "2022-04-20T13:26:31.736Z"
   },
   {
    "duration": 9,
    "start_time": "2022-04-20T13:26:31.795Z"
   },
   {
    "duration": 22,
    "start_time": "2022-04-20T13:26:31.805Z"
   },
   {
    "duration": 5,
    "start_time": "2022-04-20T13:26:31.828Z"
   },
   {
    "duration": 7,
    "start_time": "2022-04-20T13:26:31.834Z"
   },
   {
    "duration": 10,
    "start_time": "2022-04-20T13:26:31.843Z"
   },
   {
    "duration": 11,
    "start_time": "2022-04-20T13:26:31.854Z"
   },
   {
    "duration": 9,
    "start_time": "2022-04-20T13:26:31.866Z"
   },
   {
    "duration": 6,
    "start_time": "2022-04-20T13:26:31.877Z"
   },
   {
    "duration": 8,
    "start_time": "2022-04-20T13:26:31.884Z"
   },
   {
    "duration": 34,
    "start_time": "2022-04-20T13:26:31.893Z"
   },
   {
    "duration": 11,
    "start_time": "2022-04-20T13:26:31.928Z"
   },
   {
    "duration": 8,
    "start_time": "2022-04-20T13:26:31.940Z"
   },
   {
    "duration": 18,
    "start_time": "2022-04-20T13:26:31.949Z"
   },
   {
    "duration": 5,
    "start_time": "2022-04-20T13:26:31.968Z"
   },
   {
    "duration": 16,
    "start_time": "2022-04-20T13:26:31.974Z"
   },
   {
    "duration": 41,
    "start_time": "2022-04-20T13:26:31.991Z"
   },
   {
    "duration": 17,
    "start_time": "2022-04-20T13:26:32.033Z"
   },
   {
    "duration": 11,
    "start_time": "2022-04-20T13:26:32.052Z"
   },
   {
    "duration": 5,
    "start_time": "2022-04-20T13:27:57.011Z"
   },
   {
    "duration": 6,
    "start_time": "2022-04-20T13:34:35.738Z"
   },
   {
    "duration": 48,
    "start_time": "2022-04-20T13:34:52.174Z"
   },
   {
    "duration": 13,
    "start_time": "2022-04-20T13:34:52.225Z"
   },
   {
    "duration": 16,
    "start_time": "2022-04-20T13:34:52.240Z"
   },
   {
    "duration": 13,
    "start_time": "2022-04-20T13:34:52.258Z"
   },
   {
    "duration": 5,
    "start_time": "2022-04-20T13:34:52.272Z"
   },
   {
    "duration": 46,
    "start_time": "2022-04-20T13:34:52.279Z"
   },
   {
    "duration": 7,
    "start_time": "2022-04-20T13:34:52.327Z"
   },
   {
    "duration": 13,
    "start_time": "2022-04-20T13:34:52.335Z"
   },
   {
    "duration": 9,
    "start_time": "2022-04-20T13:34:52.350Z"
   },
   {
    "duration": 4,
    "start_time": "2022-04-20T13:34:52.362Z"
   },
   {
    "duration": 7,
    "start_time": "2022-04-20T13:34:52.367Z"
   },
   {
    "duration": 7,
    "start_time": "2022-04-20T13:34:52.376Z"
   },
   {
    "duration": 7,
    "start_time": "2022-04-20T13:34:52.384Z"
   },
   {
    "duration": 42,
    "start_time": "2022-04-20T13:34:52.392Z"
   },
   {
    "duration": 14,
    "start_time": "2022-04-20T13:34:52.436Z"
   },
   {
    "duration": 8,
    "start_time": "2022-04-20T13:34:52.452Z"
   },
   {
    "duration": 12,
    "start_time": "2022-04-20T13:34:52.461Z"
   },
   {
    "duration": 13,
    "start_time": "2022-04-20T13:34:52.474Z"
   },
   {
    "duration": 5,
    "start_time": "2022-04-20T13:34:52.489Z"
   },
   {
    "duration": 8,
    "start_time": "2022-04-20T13:34:52.496Z"
   },
   {
    "duration": 19,
    "start_time": "2022-04-20T13:34:52.505Z"
   },
   {
    "duration": 9,
    "start_time": "2022-04-20T13:34:52.526Z"
   },
   {
    "duration": 6,
    "start_time": "2022-04-20T13:34:52.536Z"
   },
   {
    "duration": 5,
    "start_time": "2022-04-20T13:34:52.544Z"
   },
   {
    "duration": 13,
    "start_time": "2022-04-20T13:34:52.550Z"
   },
   {
    "duration": 21,
    "start_time": "2022-04-20T13:34:52.564Z"
   },
   {
    "duration": 41,
    "start_time": "2022-04-20T13:34:52.586Z"
   },
   {
    "duration": 18,
    "start_time": "2022-04-20T13:34:52.630Z"
   },
   {
    "duration": 7,
    "start_time": "2022-04-20T13:34:52.649Z"
   },
   {
    "duration": 20,
    "start_time": "2022-04-20T13:34:52.657Z"
   },
   {
    "duration": 11,
    "start_time": "2022-04-20T13:34:52.678Z"
   },
   {
    "duration": 9,
    "start_time": "2022-04-20T13:34:52.690Z"
   },
   {
    "duration": 5,
    "start_time": "2022-04-20T13:34:52.701Z"
   },
   {
    "duration": 15,
    "start_time": "2022-04-20T13:34:52.723Z"
   },
   {
    "duration": 8,
    "start_time": "2022-04-20T13:34:52.740Z"
   },
   {
    "duration": 15,
    "start_time": "2022-04-20T13:34:52.749Z"
   },
   {
    "duration": 14,
    "start_time": "2022-04-20T13:34:52.766Z"
   },
   {
    "duration": 14,
    "start_time": "2022-04-20T13:34:52.782Z"
   },
   {
    "duration": 9,
    "start_time": "2022-04-20T13:34:52.798Z"
   },
   {
    "duration": 10,
    "start_time": "2022-04-20T13:34:52.809Z"
   },
   {
    "duration": 27,
    "start_time": "2022-04-20T13:34:52.820Z"
   },
   {
    "duration": 16,
    "start_time": "2022-04-20T13:34:52.849Z"
   },
   {
    "duration": 17,
    "start_time": "2022-04-20T13:34:52.866Z"
   },
   {
    "duration": 7,
    "start_time": "2022-04-20T13:34:52.884Z"
   },
   {
    "duration": 19,
    "start_time": "2022-04-20T13:34:52.892Z"
   },
   {
    "duration": 5,
    "start_time": "2022-04-20T13:34:52.913Z"
   },
   {
    "duration": 35,
    "start_time": "2022-04-20T13:34:52.920Z"
   },
   {
    "duration": 20,
    "start_time": "2022-04-20T13:34:52.956Z"
   },
   {
    "duration": 15,
    "start_time": "2022-04-20T13:34:52.978Z"
   },
   {
    "duration": 12,
    "start_time": "2022-04-20T13:34:52.994Z"
   },
   {
    "duration": 400,
    "start_time": "2022-04-20T13:36:08.475Z"
   },
   {
    "duration": 19,
    "start_time": "2022-04-20T13:36:08.877Z"
   },
   {
    "duration": 23,
    "start_time": "2022-04-20T13:36:08.897Z"
   },
   {
    "duration": 13,
    "start_time": "2022-04-20T13:36:08.922Z"
   },
   {
    "duration": 14,
    "start_time": "2022-04-20T13:36:08.937Z"
   },
   {
    "duration": 23,
    "start_time": "2022-04-20T13:36:08.952Z"
   },
   {
    "duration": 5,
    "start_time": "2022-04-20T13:36:08.976Z"
   },
   {
    "duration": 17,
    "start_time": "2022-04-20T13:36:08.982Z"
   },
   {
    "duration": 9,
    "start_time": "2022-04-20T13:36:09.000Z"
   },
   {
    "duration": 5,
    "start_time": "2022-04-20T13:36:09.011Z"
   },
   {
    "duration": 13,
    "start_time": "2022-04-20T13:36:09.017Z"
   },
   {
    "duration": 6,
    "start_time": "2022-04-20T13:36:09.031Z"
   },
   {
    "duration": 7,
    "start_time": "2022-04-20T13:36:09.038Z"
   },
   {
    "duration": 17,
    "start_time": "2022-04-20T13:36:09.047Z"
   },
   {
    "duration": 5,
    "start_time": "2022-04-20T13:36:09.066Z"
   },
   {
    "duration": 23,
    "start_time": "2022-04-20T13:36:09.072Z"
   },
   {
    "duration": 19,
    "start_time": "2022-04-20T13:36:09.096Z"
   },
   {
    "duration": 24,
    "start_time": "2022-04-20T13:36:09.117Z"
   },
   {
    "duration": 13,
    "start_time": "2022-04-20T13:36:09.142Z"
   },
   {
    "duration": 5,
    "start_time": "2022-04-20T13:36:09.157Z"
   },
   {
    "duration": 8,
    "start_time": "2022-04-20T13:36:09.163Z"
   },
   {
    "duration": 8,
    "start_time": "2022-04-20T13:36:09.172Z"
   },
   {
    "duration": 4,
    "start_time": "2022-04-20T13:36:09.181Z"
   },
   {
    "duration": 12,
    "start_time": "2022-04-20T13:36:09.187Z"
   },
   {
    "duration": 19,
    "start_time": "2022-04-20T13:36:09.201Z"
   },
   {
    "duration": 26,
    "start_time": "2022-04-20T13:36:09.222Z"
   },
   {
    "duration": 18,
    "start_time": "2022-04-20T13:36:09.250Z"
   },
   {
    "duration": 18,
    "start_time": "2022-04-20T13:36:09.272Z"
   },
   {
    "duration": 7,
    "start_time": "2022-04-20T13:36:09.292Z"
   },
   {
    "duration": 17,
    "start_time": "2022-04-20T13:36:09.324Z"
   },
   {
    "duration": 10,
    "start_time": "2022-04-20T13:36:09.342Z"
   },
   {
    "duration": 15,
    "start_time": "2022-04-20T13:36:09.354Z"
   },
   {
    "duration": 13,
    "start_time": "2022-04-20T13:36:09.371Z"
   },
   {
    "duration": 18,
    "start_time": "2022-04-20T13:36:09.385Z"
   },
   {
    "duration": 6,
    "start_time": "2022-04-20T13:36:09.404Z"
   },
   {
    "duration": 7,
    "start_time": "2022-04-20T13:36:09.412Z"
   },
   {
    "duration": 17,
    "start_time": "2022-04-20T13:36:09.424Z"
   },
   {
    "duration": 20,
    "start_time": "2022-04-20T13:36:09.443Z"
   },
   {
    "duration": 28,
    "start_time": "2022-04-20T13:36:09.465Z"
   },
   {
    "duration": 8,
    "start_time": "2022-04-20T13:36:09.494Z"
   },
   {
    "duration": 10,
    "start_time": "2022-04-20T13:36:09.503Z"
   },
   {
    "duration": 25,
    "start_time": "2022-04-20T13:36:09.515Z"
   },
   {
    "duration": 15,
    "start_time": "2022-04-20T13:36:09.541Z"
   },
   {
    "duration": 8,
    "start_time": "2022-04-20T13:36:09.558Z"
   },
   {
    "duration": 22,
    "start_time": "2022-04-20T13:36:09.567Z"
   },
   {
    "duration": 4,
    "start_time": "2022-04-20T13:36:09.590Z"
   },
   {
    "duration": 20,
    "start_time": "2022-04-20T13:36:09.596Z"
   },
   {
    "duration": 28,
    "start_time": "2022-04-20T13:36:09.617Z"
   },
   {
    "duration": 19,
    "start_time": "2022-04-20T13:36:09.646Z"
   },
   {
    "duration": 11,
    "start_time": "2022-04-20T13:36:09.666Z"
   },
   {
    "duration": 5,
    "start_time": "2022-04-20T13:36:35.819Z"
   },
   {
    "duration": 8,
    "start_time": "2022-04-20T13:36:45.742Z"
   },
   {
    "duration": 5,
    "start_time": "2022-04-20T13:36:45.752Z"
   },
   {
    "duration": 8,
    "start_time": "2022-04-20T13:36:45.759Z"
   },
   {
    "duration": 4,
    "start_time": "2022-04-20T13:36:45.769Z"
   },
   {
    "duration": 13,
    "start_time": "2022-04-20T13:36:45.775Z"
   },
   {
    "duration": 18,
    "start_time": "2022-04-20T13:36:45.790Z"
   },
   {
    "duration": 18,
    "start_time": "2022-04-20T13:36:45.809Z"
   },
   {
    "duration": 6,
    "start_time": "2022-04-20T13:36:45.829Z"
   },
   {
    "duration": 13,
    "start_time": "2022-04-20T13:36:45.837Z"
   },
   {
    "duration": 7,
    "start_time": "2022-04-20T13:36:45.851Z"
   },
   {
    "duration": 5,
    "start_time": "2022-04-20T13:36:45.859Z"
   },
   {
    "duration": 17,
    "start_time": "2022-04-20T13:36:45.865Z"
   },
   {
    "duration": 40,
    "start_time": "2022-04-20T13:36:45.884Z"
   },
   {
    "duration": 21,
    "start_time": "2022-04-20T13:36:45.929Z"
   },
   {
    "duration": 18,
    "start_time": "2022-04-20T13:36:45.952Z"
   },
   {
    "duration": 6,
    "start_time": "2022-04-20T13:36:45.972Z"
   },
   {
    "duration": 28,
    "start_time": "2022-04-20T13:36:45.980Z"
   },
   {
    "duration": 20,
    "start_time": "2022-04-20T13:36:46.009Z"
   },
   {
    "duration": 10,
    "start_time": "2022-04-20T13:36:46.031Z"
   },
   {
    "duration": 5,
    "start_time": "2022-04-20T13:36:46.043Z"
   },
   {
    "duration": 14,
    "start_time": "2022-04-20T13:36:46.049Z"
   },
   {
    "duration": 5,
    "start_time": "2022-04-20T13:36:46.065Z"
   },
   {
    "duration": 6,
    "start_time": "2022-04-20T13:36:46.071Z"
   },
   {
    "duration": 11,
    "start_time": "2022-04-20T13:36:46.078Z"
   },
   {
    "duration": 11,
    "start_time": "2022-04-20T13:36:46.090Z"
   },
   {
    "duration": 26,
    "start_time": "2022-04-20T13:36:46.102Z"
   },
   {
    "duration": 11,
    "start_time": "2022-04-20T13:36:46.130Z"
   },
   {
    "duration": 9,
    "start_time": "2022-04-20T13:36:46.142Z"
   },
   {
    "duration": 17,
    "start_time": "2022-04-20T13:36:46.152Z"
   },
   {
    "duration": 14,
    "start_time": "2022-04-20T13:36:46.170Z"
   },
   {
    "duration": 7,
    "start_time": "2022-04-20T13:36:46.185Z"
   },
   {
    "duration": 31,
    "start_time": "2022-04-20T13:36:46.193Z"
   },
   {
    "duration": 5,
    "start_time": "2022-04-20T13:36:46.226Z"
   },
   {
    "duration": 17,
    "start_time": "2022-04-20T13:36:46.233Z"
   },
   {
    "duration": 20,
    "start_time": "2022-04-20T13:36:46.252Z"
   },
   {
    "duration": 19,
    "start_time": "2022-04-20T13:36:46.274Z"
   },
   {
    "duration": 32,
    "start_time": "2022-04-20T13:36:46.295Z"
   },
   {
    "duration": 2,
    "start_time": "2022-04-20T13:37:33.596Z"
   },
   {
    "duration": 8,
    "start_time": "2022-04-20T13:37:34.851Z"
   },
   {
    "duration": 49,
    "start_time": "2022-04-20T13:37:37.884Z"
   },
   {
    "duration": 12,
    "start_time": "2022-04-20T13:37:37.935Z"
   },
   {
    "duration": 14,
    "start_time": "2022-04-20T13:37:37.949Z"
   },
   {
    "duration": 12,
    "start_time": "2022-04-20T13:37:37.965Z"
   },
   {
    "duration": 6,
    "start_time": "2022-04-20T13:37:37.978Z"
   },
   {
    "duration": 39,
    "start_time": "2022-04-20T13:37:37.985Z"
   },
   {
    "duration": 6,
    "start_time": "2022-04-20T13:37:38.026Z"
   },
   {
    "duration": 6,
    "start_time": "2022-04-20T13:37:38.034Z"
   },
   {
    "duration": 4,
    "start_time": "2022-04-20T13:37:38.041Z"
   },
   {
    "duration": 5,
    "start_time": "2022-04-20T13:37:38.049Z"
   },
   {
    "duration": 8,
    "start_time": "2022-04-20T13:37:38.056Z"
   },
   {
    "duration": 7,
    "start_time": "2022-04-20T13:37:38.066Z"
   },
   {
    "duration": 3,
    "start_time": "2022-04-20T13:37:38.075Z"
   },
   {
    "duration": 53,
    "start_time": "2022-04-20T13:37:38.080Z"
   },
   {
    "duration": 6,
    "start_time": "2022-04-20T13:37:38.135Z"
   },
   {
    "duration": 5,
    "start_time": "2022-04-20T13:37:38.143Z"
   },
   {
    "duration": 4,
    "start_time": "2022-04-20T13:37:38.150Z"
   },
   {
    "duration": 12,
    "start_time": "2022-04-20T13:37:38.156Z"
   },
   {
    "duration": 5,
    "start_time": "2022-04-20T13:37:38.169Z"
   },
   {
    "duration": 6,
    "start_time": "2022-04-20T13:37:38.176Z"
   },
   {
    "duration": 6,
    "start_time": "2022-04-20T13:37:38.223Z"
   },
   {
    "duration": 7,
    "start_time": "2022-04-20T13:37:38.231Z"
   },
   {
    "duration": 6,
    "start_time": "2022-04-20T13:37:38.240Z"
   },
   {
    "duration": 4,
    "start_time": "2022-04-20T13:37:38.247Z"
   },
   {
    "duration": 11,
    "start_time": "2022-04-20T13:37:38.253Z"
   },
   {
    "duration": 19,
    "start_time": "2022-04-20T13:37:38.266Z"
   },
   {
    "duration": 46,
    "start_time": "2022-04-20T13:37:38.286Z"
   },
   {
    "duration": 15,
    "start_time": "2022-04-20T13:37:38.336Z"
   },
   {
    "duration": 6,
    "start_time": "2022-04-20T13:37:38.353Z"
   },
   {
    "duration": 14,
    "start_time": "2022-04-20T13:37:38.361Z"
   },
   {
    "duration": 8,
    "start_time": "2022-04-20T13:37:38.376Z"
   },
   {
    "duration": 8,
    "start_time": "2022-04-20T13:37:38.385Z"
   },
   {
    "duration": 29,
    "start_time": "2022-04-20T13:37:38.395Z"
   },
   {
    "duration": 15,
    "start_time": "2022-04-20T13:37:38.425Z"
   },
   {
    "duration": 4,
    "start_time": "2022-04-20T13:37:38.442Z"
   },
   {
    "duration": 5,
    "start_time": "2022-04-20T13:37:38.447Z"
   },
   {
    "duration": 9,
    "start_time": "2022-04-20T13:37:38.453Z"
   },
   {
    "duration": 10,
    "start_time": "2022-04-20T13:37:38.464Z"
   },
   {
    "duration": 8,
    "start_time": "2022-04-20T13:37:38.475Z"
   },
   {
    "duration": 4,
    "start_time": "2022-04-20T13:37:38.484Z"
   },
   {
    "duration": 5,
    "start_time": "2022-04-20T13:37:38.490Z"
   },
   {
    "duration": 10,
    "start_time": "2022-04-20T13:37:38.524Z"
   },
   {
    "duration": 14,
    "start_time": "2022-04-20T13:37:38.536Z"
   },
   {
    "duration": 6,
    "start_time": "2022-04-20T13:37:38.551Z"
   },
   {
    "duration": 16,
    "start_time": "2022-04-20T13:37:38.559Z"
   },
   {
    "duration": 4,
    "start_time": "2022-04-20T13:37:38.577Z"
   },
   {
    "duration": 26,
    "start_time": "2022-04-20T13:37:38.582Z"
   },
   {
    "duration": 34,
    "start_time": "2022-04-20T13:37:38.609Z"
   },
   {
    "duration": 16,
    "start_time": "2022-04-20T13:37:38.644Z"
   },
   {
    "duration": 12,
    "start_time": "2022-04-20T13:37:38.661Z"
   },
   {
    "duration": 6,
    "start_time": "2022-04-20T13:38:28.435Z"
   },
   {
    "duration": 55,
    "start_time": "2022-04-20T13:38:59.975Z"
   },
   {
    "duration": 15,
    "start_time": "2022-04-20T13:39:00.032Z"
   },
   {
    "duration": 16,
    "start_time": "2022-04-20T13:39:00.049Z"
   },
   {
    "duration": 14,
    "start_time": "2022-04-20T13:39:00.068Z"
   },
   {
    "duration": 5,
    "start_time": "2022-04-20T13:39:00.084Z"
   },
   {
    "duration": 16,
    "start_time": "2022-04-20T13:39:00.124Z"
   },
   {
    "duration": 6,
    "start_time": "2022-04-20T13:39:00.142Z"
   },
   {
    "duration": 8,
    "start_time": "2022-04-20T13:39:00.150Z"
   },
   {
    "duration": 6,
    "start_time": "2022-04-20T13:39:00.159Z"
   },
   {
    "duration": 8,
    "start_time": "2022-04-20T13:39:00.168Z"
   },
   {
    "duration": 7,
    "start_time": "2022-04-20T13:39:00.178Z"
   },
   {
    "duration": 3,
    "start_time": "2022-04-20T13:39:00.187Z"
   },
   {
    "duration": 5,
    "start_time": "2022-04-20T13:39:00.223Z"
   },
   {
    "duration": 12,
    "start_time": "2022-04-20T13:39:00.230Z"
   },
   {
    "duration": 14,
    "start_time": "2022-04-20T13:39:00.244Z"
   },
   {
    "duration": 10,
    "start_time": "2022-04-20T13:39:00.260Z"
   },
   {
    "duration": 8,
    "start_time": "2022-04-20T13:39:00.271Z"
   },
   {
    "duration": 9,
    "start_time": "2022-04-20T13:39:00.280Z"
   },
   {
    "duration": 16,
    "start_time": "2022-04-20T13:39:00.290Z"
   },
   {
    "duration": 22,
    "start_time": "2022-04-20T13:39:00.307Z"
   },
   {
    "duration": 10,
    "start_time": "2022-04-20T13:39:00.331Z"
   },
   {
    "duration": 14,
    "start_time": "2022-04-20T13:39:00.343Z"
   },
   {
    "duration": 8,
    "start_time": "2022-04-20T13:39:00.359Z"
   },
   {
    "duration": 6,
    "start_time": "2022-04-20T13:39:00.369Z"
   },
   {
    "duration": 11,
    "start_time": "2022-04-20T13:39:00.376Z"
   },
   {
    "duration": 14,
    "start_time": "2022-04-20T13:39:00.388Z"
   },
   {
    "duration": 34,
    "start_time": "2022-04-20T13:39:00.403Z"
   },
   {
    "duration": 19,
    "start_time": "2022-04-20T13:39:00.441Z"
   },
   {
    "duration": 15,
    "start_time": "2022-04-20T13:39:00.461Z"
   },
   {
    "duration": 6,
    "start_time": "2022-04-20T13:39:00.478Z"
   },
   {
    "duration": 20,
    "start_time": "2022-04-20T13:39:00.485Z"
   },
   {
    "duration": 9,
    "start_time": "2022-04-20T13:39:00.523Z"
   },
   {
    "duration": 28,
    "start_time": "2022-04-20T13:39:00.533Z"
   },
   {
    "duration": 5,
    "start_time": "2022-04-20T13:39:00.563Z"
   },
   {
    "duration": 19,
    "start_time": "2022-04-20T13:39:00.569Z"
   },
   {
    "duration": 17,
    "start_time": "2022-04-20T13:39:00.589Z"
   },
   {
    "duration": 16,
    "start_time": "2022-04-20T13:39:00.607Z"
   },
   {
    "duration": 16,
    "start_time": "2022-04-20T13:39:00.625Z"
   },
   {
    "duration": 26,
    "start_time": "2022-04-20T13:39:00.643Z"
   },
   {
    "duration": 18,
    "start_time": "2022-04-20T13:39:00.671Z"
   },
   {
    "duration": 7,
    "start_time": "2022-04-20T13:39:00.691Z"
   },
   {
    "duration": 26,
    "start_time": "2022-04-20T13:39:00.700Z"
   },
   {
    "duration": 21,
    "start_time": "2022-04-20T13:39:00.728Z"
   },
   {
    "duration": 22,
    "start_time": "2022-04-20T13:39:00.751Z"
   },
   {
    "duration": 13,
    "start_time": "2022-04-20T13:39:00.774Z"
   },
   {
    "duration": 26,
    "start_time": "2022-04-20T13:39:00.788Z"
   },
   {
    "duration": 5,
    "start_time": "2022-04-20T13:39:00.816Z"
   },
   {
    "duration": 20,
    "start_time": "2022-04-20T13:39:00.822Z"
   },
   {
    "duration": 20,
    "start_time": "2022-04-20T13:39:00.844Z"
   },
   {
    "duration": 22,
    "start_time": "2022-04-20T13:39:00.866Z"
   },
   {
    "duration": 19,
    "start_time": "2022-04-20T13:39:00.889Z"
   },
   {
    "duration": 4,
    "start_time": "2022-04-20T13:40:40.140Z"
   },
   {
    "duration": 2,
    "start_time": "2022-04-20T13:40:57.335Z"
   },
   {
    "duration": 5,
    "start_time": "2022-04-20T13:40:57.867Z"
   },
   {
    "duration": 49,
    "start_time": "2022-04-20T13:41:01.256Z"
   },
   {
    "duration": 14,
    "start_time": "2022-04-20T13:41:01.307Z"
   },
   {
    "duration": 19,
    "start_time": "2022-04-20T13:41:01.322Z"
   },
   {
    "duration": 14,
    "start_time": "2022-04-20T13:41:01.343Z"
   },
   {
    "duration": 6,
    "start_time": "2022-04-20T13:41:01.358Z"
   },
   {
    "duration": 15,
    "start_time": "2022-04-20T13:41:01.365Z"
   },
   {
    "duration": 8,
    "start_time": "2022-04-20T13:41:01.382Z"
   },
   {
    "duration": 32,
    "start_time": "2022-04-20T13:41:01.392Z"
   },
   {
    "duration": 12,
    "start_time": "2022-04-20T13:41:01.426Z"
   },
   {
    "duration": 17,
    "start_time": "2022-04-20T13:41:01.440Z"
   },
   {
    "duration": 11,
    "start_time": "2022-04-20T13:41:01.458Z"
   },
   {
    "duration": 13,
    "start_time": "2022-04-20T13:41:01.470Z"
   },
   {
    "duration": 19,
    "start_time": "2022-04-20T13:41:01.484Z"
   },
   {
    "duration": 24,
    "start_time": "2022-04-20T13:41:01.505Z"
   },
   {
    "duration": 26,
    "start_time": "2022-04-20T13:41:01.530Z"
   },
   {
    "duration": 5,
    "start_time": "2022-04-20T13:41:01.558Z"
   },
   {
    "duration": 58,
    "start_time": "2022-04-20T13:41:01.565Z"
   },
   {
    "duration": 28,
    "start_time": "2022-04-20T13:41:01.625Z"
   },
   {
    "duration": 44,
    "start_time": "2022-04-20T13:41:01.654Z"
   },
   {
    "duration": 42,
    "start_time": "2022-04-20T13:41:01.700Z"
   },
   {
    "duration": 18,
    "start_time": "2022-04-20T13:41:01.744Z"
   },
   {
    "duration": 18,
    "start_time": "2022-04-20T13:41:01.764Z"
   },
   {
    "duration": 21,
    "start_time": "2022-04-20T13:41:01.783Z"
   },
   {
    "duration": 43,
    "start_time": "2022-04-20T13:41:01.806Z"
   },
   {
    "duration": 40,
    "start_time": "2022-04-20T13:41:01.851Z"
   },
   {
    "duration": 48,
    "start_time": "2022-04-20T13:41:01.893Z"
   },
   {
    "duration": 96,
    "start_time": "2022-04-20T13:41:01.943Z"
   },
   {
    "duration": 25,
    "start_time": "2022-04-20T13:41:02.042Z"
   },
   {
    "duration": 18,
    "start_time": "2022-04-20T13:41:02.069Z"
   },
   {
    "duration": 16,
    "start_time": "2022-04-20T13:41:02.089Z"
   },
   {
    "duration": 7,
    "start_time": "2022-04-20T13:41:02.107Z"
   },
   {
    "duration": 15,
    "start_time": "2022-04-20T13:41:02.124Z"
   },
   {
    "duration": 10,
    "start_time": "2022-04-20T13:41:02.140Z"
   },
   {
    "duration": 13,
    "start_time": "2022-04-20T13:41:02.152Z"
   },
   {
    "duration": 15,
    "start_time": "2022-04-20T13:41:02.166Z"
   },
   {
    "duration": 31,
    "start_time": "2022-04-20T13:41:02.183Z"
   },
   {
    "duration": 17,
    "start_time": "2022-04-20T13:41:02.216Z"
   },
   {
    "duration": 11,
    "start_time": "2022-04-20T13:41:02.235Z"
   },
   {
    "duration": 12,
    "start_time": "2022-04-20T13:41:02.248Z"
   },
   {
    "duration": 15,
    "start_time": "2022-04-20T13:41:02.261Z"
   },
   {
    "duration": 12,
    "start_time": "2022-04-20T13:41:02.278Z"
   },
   {
    "duration": 7,
    "start_time": "2022-04-20T13:41:02.292Z"
   },
   {
    "duration": 41,
    "start_time": "2022-04-20T13:41:02.301Z"
   },
   {
    "duration": 20,
    "start_time": "2022-04-20T13:41:02.344Z"
   },
   {
    "duration": 20,
    "start_time": "2022-04-20T13:41:02.366Z"
   },
   {
    "duration": 20,
    "start_time": "2022-04-20T13:41:02.387Z"
   },
   {
    "duration": 37,
    "start_time": "2022-04-20T13:41:02.408Z"
   },
   {
    "duration": 11,
    "start_time": "2022-04-20T13:41:02.446Z"
   },
   {
    "duration": 17,
    "start_time": "2022-04-20T13:41:02.458Z"
   },
   {
    "duration": 31,
    "start_time": "2022-04-20T13:41:02.476Z"
   },
   {
    "duration": 22,
    "start_time": "2022-04-20T13:41:02.509Z"
   },
   {
    "duration": 19,
    "start_time": "2022-04-20T13:41:02.532Z"
   },
   {
    "duration": 5,
    "start_time": "2022-04-20T13:45:00.835Z"
   },
   {
    "duration": 4,
    "start_time": "2022-04-20T13:45:03.939Z"
   },
   {
    "duration": 52,
    "start_time": "2022-04-20T13:45:14.351Z"
   },
   {
    "duration": 20,
    "start_time": "2022-04-20T13:45:14.406Z"
   },
   {
    "duration": 19,
    "start_time": "2022-04-20T13:45:14.428Z"
   },
   {
    "duration": 21,
    "start_time": "2022-04-20T13:45:14.449Z"
   },
   {
    "duration": 5,
    "start_time": "2022-04-20T13:45:14.472Z"
   },
   {
    "duration": 16,
    "start_time": "2022-04-20T13:45:14.479Z"
   },
   {
    "duration": 5,
    "start_time": "2022-04-20T13:45:14.496Z"
   },
   {
    "duration": 6,
    "start_time": "2022-04-20T13:45:14.523Z"
   },
   {
    "duration": 8,
    "start_time": "2022-04-20T13:45:14.530Z"
   },
   {
    "duration": 5,
    "start_time": "2022-04-20T13:45:14.541Z"
   },
   {
    "duration": 7,
    "start_time": "2022-04-20T13:45:14.548Z"
   },
   {
    "duration": 10,
    "start_time": "2022-04-20T13:45:14.556Z"
   },
   {
    "duration": 7,
    "start_time": "2022-04-20T13:45:14.568Z"
   },
   {
    "duration": 5,
    "start_time": "2022-04-20T13:45:14.577Z"
   },
   {
    "duration": 43,
    "start_time": "2022-04-20T13:45:14.583Z"
   },
   {
    "duration": 1,
    "start_time": "2022-04-20T13:45:14.628Z"
   },
   {
    "duration": 3,
    "start_time": "2022-04-20T13:45:14.631Z"
   },
   {
    "duration": 4,
    "start_time": "2022-04-20T13:45:14.636Z"
   },
   {
    "duration": 8,
    "start_time": "2022-04-20T13:45:14.641Z"
   },
   {
    "duration": 16,
    "start_time": "2022-04-20T13:45:14.651Z"
   },
   {
    "duration": 5,
    "start_time": "2022-04-20T13:45:14.669Z"
   },
   {
    "duration": 6,
    "start_time": "2022-04-20T13:45:14.676Z"
   },
   {
    "duration": 42,
    "start_time": "2022-04-20T13:45:14.684Z"
   },
   {
    "duration": 18,
    "start_time": "2022-04-20T13:45:14.728Z"
   },
   {
    "duration": 7,
    "start_time": "2022-04-20T13:45:14.748Z"
   },
   {
    "duration": 10,
    "start_time": "2022-04-20T13:45:14.757Z"
   },
   {
    "duration": 15,
    "start_time": "2022-04-20T13:45:14.768Z"
   },
   {
    "duration": 17,
    "start_time": "2022-04-20T13:45:14.788Z"
   },
   {
    "duration": 32,
    "start_time": "2022-04-20T13:45:14.807Z"
   },
   {
    "duration": 16,
    "start_time": "2022-04-20T13:45:14.841Z"
   },
   {
    "duration": 14,
    "start_time": "2022-04-20T13:45:14.859Z"
   },
   {
    "duration": 27,
    "start_time": "2022-04-20T13:45:14.875Z"
   },
   {
    "duration": 28,
    "start_time": "2022-04-20T13:45:14.904Z"
   },
   {
    "duration": 11,
    "start_time": "2022-04-20T13:45:14.934Z"
   },
   {
    "duration": 3,
    "start_time": "2022-04-20T13:45:14.947Z"
   },
   {
    "duration": 17,
    "start_time": "2022-04-20T13:45:14.951Z"
   },
   {
    "duration": 4,
    "start_time": "2022-04-20T13:45:14.970Z"
   },
   {
    "duration": 7,
    "start_time": "2022-04-20T13:45:14.976Z"
   },
   {
    "duration": 39,
    "start_time": "2022-04-20T13:45:14.985Z"
   },
   {
    "duration": 13,
    "start_time": "2022-04-20T13:45:15.026Z"
   },
   {
    "duration": 13,
    "start_time": "2022-04-20T13:45:15.040Z"
   },
   {
    "duration": 11,
    "start_time": "2022-04-20T13:45:15.055Z"
   },
   {
    "duration": 15,
    "start_time": "2022-04-20T13:45:15.067Z"
   },
   {
    "duration": 16,
    "start_time": "2022-04-20T13:45:15.084Z"
   },
   {
    "duration": 21,
    "start_time": "2022-04-20T13:45:15.102Z"
   },
   {
    "duration": 5,
    "start_time": "2022-04-20T13:45:15.125Z"
   },
   {
    "duration": 20,
    "start_time": "2022-04-20T13:45:15.132Z"
   },
   {
    "duration": 6,
    "start_time": "2022-04-20T13:45:15.154Z"
   },
   {
    "duration": 17,
    "start_time": "2022-04-20T13:45:15.161Z"
   },
   {
    "duration": 53,
    "start_time": "2022-04-20T13:45:15.179Z"
   },
   {
    "duration": 41,
    "start_time": "2022-04-20T13:45:15.234Z"
   },
   {
    "duration": 14,
    "start_time": "2022-04-20T13:45:15.277Z"
   },
   {
    "duration": 4,
    "start_time": "2022-04-20T13:46:09.131Z"
   },
   {
    "duration": 5,
    "start_time": "2022-04-20T13:46:20.603Z"
   },
   {
    "duration": 54,
    "start_time": "2022-04-20T13:46:26.440Z"
   },
   {
    "duration": 30,
    "start_time": "2022-04-20T13:46:26.496Z"
   },
   {
    "duration": 14,
    "start_time": "2022-04-20T13:46:26.528Z"
   },
   {
    "duration": 14,
    "start_time": "2022-04-20T13:46:26.545Z"
   },
   {
    "duration": 6,
    "start_time": "2022-04-20T13:46:26.561Z"
   },
   {
    "duration": 14,
    "start_time": "2022-04-20T13:46:26.569Z"
   },
   {
    "duration": 39,
    "start_time": "2022-04-20T13:46:26.585Z"
   },
   {
    "duration": 4,
    "start_time": "2022-04-20T13:46:26.626Z"
   },
   {
    "duration": 7,
    "start_time": "2022-04-20T13:46:26.632Z"
   },
   {
    "duration": 4,
    "start_time": "2022-04-20T13:46:26.641Z"
   },
   {
    "duration": 6,
    "start_time": "2022-04-20T13:46:26.646Z"
   },
   {
    "duration": 6,
    "start_time": "2022-04-20T13:46:26.654Z"
   },
   {
    "duration": 5,
    "start_time": "2022-04-20T13:46:26.661Z"
   },
   {
    "duration": 3,
    "start_time": "2022-04-20T13:46:26.668Z"
   },
   {
    "duration": 16,
    "start_time": "2022-04-20T13:46:26.672Z"
   },
   {
    "duration": 2,
    "start_time": "2022-04-20T13:46:26.723Z"
   },
   {
    "duration": 7,
    "start_time": "2022-04-20T13:46:26.726Z"
   },
   {
    "duration": 5,
    "start_time": "2022-04-20T13:46:26.735Z"
   },
   {
    "duration": 6,
    "start_time": "2022-04-20T13:46:26.741Z"
   },
   {
    "duration": 13,
    "start_time": "2022-04-20T13:46:26.748Z"
   },
   {
    "duration": 6,
    "start_time": "2022-04-20T13:46:26.762Z"
   },
   {
    "duration": 6,
    "start_time": "2022-04-20T13:46:26.769Z"
   },
   {
    "duration": 7,
    "start_time": "2022-04-20T13:46:26.777Z"
   },
   {
    "duration": 41,
    "start_time": "2022-04-20T13:46:26.786Z"
   },
   {
    "duration": 5,
    "start_time": "2022-04-20T13:46:26.828Z"
   },
   {
    "duration": 8,
    "start_time": "2022-04-20T13:46:26.835Z"
   },
   {
    "duration": 14,
    "start_time": "2022-04-20T13:46:26.844Z"
   },
   {
    "duration": 17,
    "start_time": "2022-04-20T13:46:26.861Z"
   },
   {
    "duration": 44,
    "start_time": "2022-04-20T13:46:26.880Z"
   },
   {
    "duration": 18,
    "start_time": "2022-04-20T13:46:26.926Z"
   },
   {
    "duration": 13,
    "start_time": "2022-04-20T13:46:26.946Z"
   },
   {
    "duration": 26,
    "start_time": "2022-04-20T13:46:26.961Z"
   },
   {
    "duration": 22,
    "start_time": "2022-04-20T13:46:26.989Z"
   },
   {
    "duration": 26,
    "start_time": "2022-04-20T13:46:27.012Z"
   },
   {
    "duration": 16,
    "start_time": "2022-04-20T13:46:27.040Z"
   },
   {
    "duration": 33,
    "start_time": "2022-04-20T13:46:27.058Z"
   },
   {
    "duration": 11,
    "start_time": "2022-04-20T13:46:27.093Z"
   },
   {
    "duration": 17,
    "start_time": "2022-04-20T13:46:27.106Z"
   },
   {
    "duration": 23,
    "start_time": "2022-04-20T13:46:27.124Z"
   },
   {
    "duration": 12,
    "start_time": "2022-04-20T13:46:27.149Z"
   },
   {
    "duration": 26,
    "start_time": "2022-04-20T13:46:27.163Z"
   },
   {
    "duration": 20,
    "start_time": "2022-04-20T13:46:27.191Z"
   },
   {
    "duration": 16,
    "start_time": "2022-04-20T13:46:27.212Z"
   },
   {
    "duration": 22,
    "start_time": "2022-04-20T13:46:27.230Z"
   },
   {
    "duration": 20,
    "start_time": "2022-04-20T13:46:27.254Z"
   },
   {
    "duration": 22,
    "start_time": "2022-04-20T13:46:27.276Z"
   },
   {
    "duration": 22,
    "start_time": "2022-04-20T13:46:27.299Z"
   },
   {
    "duration": 5,
    "start_time": "2022-04-20T13:46:27.322Z"
   },
   {
    "duration": 33,
    "start_time": "2022-04-20T13:46:27.329Z"
   },
   {
    "duration": 27,
    "start_time": "2022-04-20T13:46:27.363Z"
   },
   {
    "duration": 16,
    "start_time": "2022-04-20T13:46:27.391Z"
   },
   {
    "duration": 13,
    "start_time": "2022-04-20T13:46:27.408Z"
   },
   {
    "duration": 407,
    "start_time": "2022-04-20T13:49:39.177Z"
   },
   {
    "duration": 21,
    "start_time": "2022-04-20T13:49:39.586Z"
   },
   {
    "duration": 22,
    "start_time": "2022-04-20T13:49:39.608Z"
   },
   {
    "duration": 13,
    "start_time": "2022-04-20T13:49:39.633Z"
   },
   {
    "duration": 6,
    "start_time": "2022-04-20T13:49:39.647Z"
   },
   {
    "duration": 14,
    "start_time": "2022-04-20T13:49:39.655Z"
   },
   {
    "duration": 4,
    "start_time": "2022-04-20T13:49:39.671Z"
   },
   {
    "duration": 6,
    "start_time": "2022-04-20T13:49:39.677Z"
   },
   {
    "duration": 11,
    "start_time": "2022-04-20T13:49:39.685Z"
   },
   {
    "duration": 5,
    "start_time": "2022-04-20T13:49:39.725Z"
   },
   {
    "duration": 11,
    "start_time": "2022-04-20T13:49:39.731Z"
   },
   {
    "duration": 7,
    "start_time": "2022-04-20T13:49:39.743Z"
   },
   {
    "duration": 5,
    "start_time": "2022-04-20T13:49:39.751Z"
   },
   {
    "duration": 7,
    "start_time": "2022-04-20T13:49:39.757Z"
   },
   {
    "duration": 20,
    "start_time": "2022-04-20T13:49:39.765Z"
   },
   {
    "duration": 2,
    "start_time": "2022-04-20T13:49:39.787Z"
   },
   {
    "duration": 7,
    "start_time": "2022-04-20T13:49:39.790Z"
   },
   {
    "duration": 8,
    "start_time": "2022-04-20T13:49:39.798Z"
   },
   {
    "duration": 17,
    "start_time": "2022-04-20T13:49:39.808Z"
   },
   {
    "duration": 15,
    "start_time": "2022-04-20T13:49:39.827Z"
   },
   {
    "duration": 5,
    "start_time": "2022-04-20T13:49:39.843Z"
   },
   {
    "duration": 8,
    "start_time": "2022-04-20T13:49:39.850Z"
   },
   {
    "duration": 6,
    "start_time": "2022-04-20T13:49:39.859Z"
   },
   {
    "duration": 8,
    "start_time": "2022-04-20T13:49:39.866Z"
   },
   {
    "duration": 4,
    "start_time": "2022-04-20T13:49:39.875Z"
   },
   {
    "duration": 6,
    "start_time": "2022-04-20T13:49:39.880Z"
   },
   {
    "duration": 40,
    "start_time": "2022-04-20T13:49:39.887Z"
   },
   {
    "duration": 19,
    "start_time": "2022-04-20T13:49:39.930Z"
   },
   {
    "duration": 16,
    "start_time": "2022-04-20T13:49:39.950Z"
   },
   {
    "duration": 14,
    "start_time": "2022-04-20T13:49:39.967Z"
   },
   {
    "duration": 6,
    "start_time": "2022-04-20T13:49:39.982Z"
   },
   {
    "duration": 36,
    "start_time": "2022-04-20T13:49:39.989Z"
   },
   {
    "duration": 7,
    "start_time": "2022-04-20T13:49:40.026Z"
   },
   {
    "duration": 10,
    "start_time": "2022-04-20T13:49:40.034Z"
   },
   {
    "duration": 4,
    "start_time": "2022-04-20T13:49:40.045Z"
   },
   {
    "duration": 13,
    "start_time": "2022-04-20T13:49:40.051Z"
   },
   {
    "duration": 7,
    "start_time": "2022-04-20T13:49:40.065Z"
   },
   {
    "duration": 10,
    "start_time": "2022-04-20T13:49:40.073Z"
   },
   {
    "duration": 10,
    "start_time": "2022-04-20T13:49:40.084Z"
   },
   {
    "duration": 10,
    "start_time": "2022-04-20T13:49:40.095Z"
   },
   {
    "duration": 6,
    "start_time": "2022-04-20T13:49:40.124Z"
   },
   {
    "duration": 6,
    "start_time": "2022-04-20T13:49:40.132Z"
   },
   {
    "duration": 7,
    "start_time": "2022-04-20T13:49:40.139Z"
   },
   {
    "duration": 12,
    "start_time": "2022-04-20T13:49:40.148Z"
   },
   {
    "duration": 12,
    "start_time": "2022-04-20T13:49:40.162Z"
   },
   {
    "duration": 6,
    "start_time": "2022-04-20T13:49:40.175Z"
   },
   {
    "duration": 51,
    "start_time": "2022-04-20T13:49:40.183Z"
   },
   {
    "duration": 5,
    "start_time": "2022-04-20T13:49:40.236Z"
   },
   {
    "duration": 13,
    "start_time": "2022-04-20T13:49:40.243Z"
   },
   {
    "duration": 21,
    "start_time": "2022-04-20T13:49:40.258Z"
   },
   {
    "duration": 46,
    "start_time": "2022-04-20T13:49:40.281Z"
   },
   {
    "duration": 12,
    "start_time": "2022-04-20T13:49:40.329Z"
   },
   {
    "duration": 50,
    "start_time": "2022-04-20T13:51:08.577Z"
   },
   {
    "duration": 14,
    "start_time": "2022-04-20T13:51:08.629Z"
   },
   {
    "duration": 14,
    "start_time": "2022-04-20T13:51:08.645Z"
   },
   {
    "duration": 13,
    "start_time": "2022-04-20T13:51:08.661Z"
   },
   {
    "duration": 8,
    "start_time": "2022-04-20T13:51:08.676Z"
   },
   {
    "duration": 47,
    "start_time": "2022-04-20T13:51:08.686Z"
   },
   {
    "duration": 5,
    "start_time": "2022-04-20T13:51:08.735Z"
   },
   {
    "duration": 9,
    "start_time": "2022-04-20T13:51:08.741Z"
   },
   {
    "duration": 6,
    "start_time": "2022-04-20T13:51:08.752Z"
   },
   {
    "duration": 4,
    "start_time": "2022-04-20T13:51:08.761Z"
   },
   {
    "duration": 6,
    "start_time": "2022-04-20T13:51:08.766Z"
   },
   {
    "duration": 6,
    "start_time": "2022-04-20T13:51:08.773Z"
   },
   {
    "duration": 5,
    "start_time": "2022-04-20T13:51:08.781Z"
   },
   {
    "duration": 6,
    "start_time": "2022-04-20T13:51:08.787Z"
   },
   {
    "duration": 13,
    "start_time": "2022-04-20T13:51:08.823Z"
   },
   {
    "duration": 2,
    "start_time": "2022-04-20T13:51:08.838Z"
   },
   {
    "duration": 12,
    "start_time": "2022-04-20T13:51:08.841Z"
   },
   {
    "duration": 7,
    "start_time": "2022-04-20T13:51:08.854Z"
   },
   {
    "duration": 11,
    "start_time": "2022-04-20T13:51:08.863Z"
   },
   {
    "duration": 20,
    "start_time": "2022-04-20T13:51:08.875Z"
   },
   {
    "duration": 6,
    "start_time": "2022-04-20T13:51:08.896Z"
   },
   {
    "duration": 21,
    "start_time": "2022-04-20T13:51:08.903Z"
   },
   {
    "duration": 6,
    "start_time": "2022-04-20T13:51:08.925Z"
   },
   {
    "duration": 6,
    "start_time": "2022-04-20T13:51:08.932Z"
   },
   {
    "duration": 7,
    "start_time": "2022-04-20T13:51:08.939Z"
   },
   {
    "duration": 9,
    "start_time": "2022-04-20T13:51:08.948Z"
   },
   {
    "duration": 14,
    "start_time": "2022-04-20T13:51:08.958Z"
   },
   {
    "duration": 16,
    "start_time": "2022-04-20T13:51:08.975Z"
   },
   {
    "duration": 32,
    "start_time": "2022-04-20T13:51:08.993Z"
   },
   {
    "duration": 16,
    "start_time": "2022-04-20T13:51:09.026Z"
   },
   {
    "duration": 6,
    "start_time": "2022-04-20T13:51:09.043Z"
   },
   {
    "duration": 18,
    "start_time": "2022-04-20T13:51:09.050Z"
   },
   {
    "duration": 8,
    "start_time": "2022-04-20T13:51:09.070Z"
   },
   {
    "duration": 8,
    "start_time": "2022-04-20T13:51:09.080Z"
   },
   {
    "duration": 4,
    "start_time": "2022-04-20T13:51:09.090Z"
   },
   {
    "duration": 30,
    "start_time": "2022-04-20T13:51:09.095Z"
   },
   {
    "duration": 5,
    "start_time": "2022-04-20T13:51:09.126Z"
   },
   {
    "duration": 7,
    "start_time": "2022-04-20T13:51:09.132Z"
   },
   {
    "duration": 13,
    "start_time": "2022-04-20T13:51:09.140Z"
   },
   {
    "duration": 10,
    "start_time": "2022-04-20T13:51:09.154Z"
   },
   {
    "duration": 16,
    "start_time": "2022-04-20T13:51:09.165Z"
   },
   {
    "duration": 6,
    "start_time": "2022-04-20T13:51:09.183Z"
   },
   {
    "duration": 6,
    "start_time": "2022-04-20T13:51:09.190Z"
   },
   {
    "duration": 29,
    "start_time": "2022-04-20T13:51:09.198Z"
   },
   {
    "duration": 12,
    "start_time": "2022-04-20T13:51:09.228Z"
   },
   {
    "duration": 10,
    "start_time": "2022-04-20T13:51:09.241Z"
   },
   {
    "duration": 19,
    "start_time": "2022-04-20T13:51:09.253Z"
   },
   {
    "duration": 4,
    "start_time": "2022-04-20T13:51:09.274Z"
   },
   {
    "duration": 14,
    "start_time": "2022-04-20T13:51:09.280Z"
   },
   {
    "duration": 43,
    "start_time": "2022-04-20T13:51:09.296Z"
   },
   {
    "duration": 20,
    "start_time": "2022-04-20T13:51:09.341Z"
   },
   {
    "duration": 12,
    "start_time": "2022-04-20T13:51:09.362Z"
   },
   {
    "duration": 8,
    "start_time": "2022-04-20T13:52:28.027Z"
   },
   {
    "duration": 6,
    "start_time": "2022-04-20T13:52:28.659Z"
   },
   {
    "duration": 74,
    "start_time": "2022-04-20T13:52:37.152Z"
   },
   {
    "duration": 14,
    "start_time": "2022-04-20T13:52:37.229Z"
   },
   {
    "duration": 17,
    "start_time": "2022-04-20T13:52:37.244Z"
   },
   {
    "duration": 18,
    "start_time": "2022-04-20T13:52:37.263Z"
   },
   {
    "duration": 6,
    "start_time": "2022-04-20T13:52:37.282Z"
   },
   {
    "duration": 43,
    "start_time": "2022-04-20T13:52:37.289Z"
   },
   {
    "duration": 6,
    "start_time": "2022-04-20T13:52:37.334Z"
   },
   {
    "duration": 6,
    "start_time": "2022-04-20T13:52:37.341Z"
   },
   {
    "duration": 4,
    "start_time": "2022-04-20T13:52:37.349Z"
   },
   {
    "duration": 4,
    "start_time": "2022-04-20T13:52:37.356Z"
   },
   {
    "duration": 9,
    "start_time": "2022-04-20T13:52:37.362Z"
   },
   {
    "duration": 9,
    "start_time": "2022-04-20T13:52:37.373Z"
   },
   {
    "duration": 4,
    "start_time": "2022-04-20T13:52:37.384Z"
   },
   {
    "duration": 34,
    "start_time": "2022-04-20T13:52:37.390Z"
   },
   {
    "duration": 16,
    "start_time": "2022-04-20T13:52:37.426Z"
   },
   {
    "duration": 3,
    "start_time": "2022-04-20T13:52:37.444Z"
   },
   {
    "duration": 6,
    "start_time": "2022-04-20T13:52:37.448Z"
   },
   {
    "duration": 6,
    "start_time": "2022-04-20T13:52:37.456Z"
   },
   {
    "duration": 5,
    "start_time": "2022-04-20T13:52:37.464Z"
   },
   {
    "duration": 12,
    "start_time": "2022-04-20T13:52:37.470Z"
   },
   {
    "duration": 41,
    "start_time": "2022-04-20T13:52:37.483Z"
   },
   {
    "duration": 5,
    "start_time": "2022-04-20T13:52:37.526Z"
   },
   {
    "duration": 7,
    "start_time": "2022-04-20T13:52:37.533Z"
   },
   {
    "duration": 7,
    "start_time": "2022-04-20T13:52:37.542Z"
   },
   {
    "duration": 6,
    "start_time": "2022-04-20T13:52:37.551Z"
   },
   {
    "duration": 5,
    "start_time": "2022-04-20T13:52:37.559Z"
   },
   {
    "duration": 13,
    "start_time": "2022-04-20T13:52:37.565Z"
   },
   {
    "duration": 55,
    "start_time": "2022-04-20T13:52:37.582Z"
   },
   {
    "duration": 21,
    "start_time": "2022-04-20T13:52:37.639Z"
   },
   {
    "duration": 15,
    "start_time": "2022-04-20T13:52:37.662Z"
   },
   {
    "duration": 6,
    "start_time": "2022-04-20T13:52:37.679Z"
   },
   {
    "duration": 40,
    "start_time": "2022-04-20T13:52:37.686Z"
   },
   {
    "duration": 9,
    "start_time": "2022-04-20T13:52:37.728Z"
   },
   {
    "duration": 16,
    "start_time": "2022-04-20T13:52:37.739Z"
   },
   {
    "duration": 6,
    "start_time": "2022-04-20T13:52:37.756Z"
   },
   {
    "duration": 13,
    "start_time": "2022-04-20T13:52:37.764Z"
   },
   {
    "duration": 4,
    "start_time": "2022-04-20T13:52:37.779Z"
   },
   {
    "duration": 5,
    "start_time": "2022-04-20T13:52:37.785Z"
   },
   {
    "duration": 10,
    "start_time": "2022-04-20T13:52:37.791Z"
   },
   {
    "duration": 27,
    "start_time": "2022-04-20T13:52:37.802Z"
   },
   {
    "duration": 9,
    "start_time": "2022-04-20T13:52:37.830Z"
   },
   {
    "duration": 6,
    "start_time": "2022-04-20T13:52:37.841Z"
   },
   {
    "duration": 12,
    "start_time": "2022-04-20T13:52:37.848Z"
   },
   {
    "duration": 21,
    "start_time": "2022-04-20T13:52:37.861Z"
   },
   {
    "duration": 13,
    "start_time": "2022-04-20T13:52:37.884Z"
   },
   {
    "duration": 25,
    "start_time": "2022-04-20T13:52:37.899Z"
   },
   {
    "duration": 21,
    "start_time": "2022-04-20T13:52:37.925Z"
   },
   {
    "duration": 5,
    "start_time": "2022-04-20T13:52:37.947Z"
   },
   {
    "duration": 23,
    "start_time": "2022-04-20T13:52:37.954Z"
   },
   {
    "duration": 21,
    "start_time": "2022-04-20T13:52:37.979Z"
   },
   {
    "duration": 32,
    "start_time": "2022-04-20T13:52:38.002Z"
   },
   {
    "duration": 12,
    "start_time": "2022-04-20T13:52:38.035Z"
   },
   {
    "duration": 49,
    "start_time": "2022-04-20T13:52:50.775Z"
   },
   {
    "duration": 15,
    "start_time": "2022-04-20T13:52:50.826Z"
   },
   {
    "duration": 17,
    "start_time": "2022-04-20T13:52:50.842Z"
   },
   {
    "duration": 13,
    "start_time": "2022-04-20T13:52:50.860Z"
   },
   {
    "duration": 4,
    "start_time": "2022-04-20T13:52:50.874Z"
   },
   {
    "duration": 45,
    "start_time": "2022-04-20T13:52:50.880Z"
   },
   {
    "duration": 6,
    "start_time": "2022-04-20T13:52:50.926Z"
   },
   {
    "duration": 11,
    "start_time": "2022-04-20T13:52:50.933Z"
   },
   {
    "duration": 7,
    "start_time": "2022-04-20T13:52:50.946Z"
   },
   {
    "duration": 4,
    "start_time": "2022-04-20T13:52:50.956Z"
   },
   {
    "duration": 5,
    "start_time": "2022-04-20T13:52:50.961Z"
   },
   {
    "duration": 5,
    "start_time": "2022-04-20T13:52:50.968Z"
   },
   {
    "duration": 5,
    "start_time": "2022-04-20T13:52:50.974Z"
   },
   {
    "duration": 5,
    "start_time": "2022-04-20T13:52:50.980Z"
   },
   {
    "duration": 43,
    "start_time": "2022-04-20T13:52:50.987Z"
   },
   {
    "duration": 5,
    "start_time": "2022-04-20T13:52:51.032Z"
   },
   {
    "duration": 7,
    "start_time": "2022-04-20T13:52:51.039Z"
   },
   {
    "duration": 6,
    "start_time": "2022-04-20T13:52:51.048Z"
   },
   {
    "duration": 5,
    "start_time": "2022-04-20T13:52:51.056Z"
   },
   {
    "duration": 15,
    "start_time": "2022-04-20T13:52:51.062Z"
   },
   {
    "duration": 6,
    "start_time": "2022-04-20T13:52:51.078Z"
   },
   {
    "duration": 43,
    "start_time": "2022-04-20T13:52:51.085Z"
   },
   {
    "duration": 8,
    "start_time": "2022-04-20T13:52:51.129Z"
   },
   {
    "duration": 8,
    "start_time": "2022-04-20T13:52:51.139Z"
   },
   {
    "duration": 11,
    "start_time": "2022-04-20T13:52:51.149Z"
   },
   {
    "duration": 9,
    "start_time": "2022-04-20T13:52:51.161Z"
   },
   {
    "duration": 13,
    "start_time": "2022-04-20T13:52:51.172Z"
   },
   {
    "duration": 36,
    "start_time": "2022-04-20T13:52:51.189Z"
   },
   {
    "duration": 20,
    "start_time": "2022-04-20T13:52:51.227Z"
   },
   {
    "duration": 19,
    "start_time": "2022-04-20T13:52:51.248Z"
   },
   {
    "duration": 7,
    "start_time": "2022-04-20T13:52:51.268Z"
   },
   {
    "duration": 15,
    "start_time": "2022-04-20T13:52:51.276Z"
   },
   {
    "duration": 34,
    "start_time": "2022-04-20T13:52:51.293Z"
   },
   {
    "duration": 10,
    "start_time": "2022-04-20T13:52:51.329Z"
   },
   {
    "duration": 5,
    "start_time": "2022-04-20T13:52:51.341Z"
   },
   {
    "duration": 18,
    "start_time": "2022-04-20T13:52:51.348Z"
   },
   {
    "duration": 11,
    "start_time": "2022-04-20T13:52:51.368Z"
   },
   {
    "duration": 11,
    "start_time": "2022-04-20T13:52:51.381Z"
   },
   {
    "duration": 34,
    "start_time": "2022-04-20T13:52:51.393Z"
   },
   {
    "duration": 15,
    "start_time": "2022-04-20T13:52:51.429Z"
   },
   {
    "duration": 8,
    "start_time": "2022-04-20T13:52:51.447Z"
   },
   {
    "duration": 5,
    "start_time": "2022-04-20T13:52:51.457Z"
   },
   {
    "duration": 6,
    "start_time": "2022-04-20T13:52:51.464Z"
   },
   {
    "duration": 13,
    "start_time": "2022-04-20T13:52:51.471Z"
   },
   {
    "duration": 40,
    "start_time": "2022-04-20T13:52:51.485Z"
   },
   {
    "duration": 8,
    "start_time": "2022-04-20T13:52:51.527Z"
   },
   {
    "duration": 27,
    "start_time": "2022-04-20T13:52:51.537Z"
   },
   {
    "duration": 5,
    "start_time": "2022-04-20T13:52:51.566Z"
   },
   {
    "duration": 21,
    "start_time": "2022-04-20T13:52:51.573Z"
   },
   {
    "duration": 26,
    "start_time": "2022-04-20T13:52:51.624Z"
   },
   {
    "duration": 19,
    "start_time": "2022-04-20T13:52:51.651Z"
   },
   {
    "duration": 11,
    "start_time": "2022-04-20T13:52:51.672Z"
   },
   {
    "duration": 5,
    "start_time": "2022-04-20T14:08:01.808Z"
   },
   {
    "duration": 6,
    "start_time": "2022-04-20T14:08:02.479Z"
   },
   {
    "duration": 4,
    "start_time": "2022-04-20T14:08:14.688Z"
   },
   {
    "duration": 7,
    "start_time": "2022-04-20T14:08:15.376Z"
   },
   {
    "duration": 6,
    "start_time": "2022-04-20T14:08:55.848Z"
   },
   {
    "duration": 10,
    "start_time": "2022-04-20T14:09:11.104Z"
   },
   {
    "duration": 12,
    "start_time": "2022-04-20T14:09:19.903Z"
   },
   {
    "duration": 59,
    "start_time": "2022-04-20T14:09:50.175Z"
   },
   {
    "duration": 57,
    "start_time": "2022-04-20T14:15:02.620Z"
   },
   {
    "duration": 13,
    "start_time": "2022-04-20T14:15:02.679Z"
   },
   {
    "duration": 39,
    "start_time": "2022-04-20T14:15:02.694Z"
   },
   {
    "duration": 61,
    "start_time": "2022-04-20T14:15:02.735Z"
   },
   {
    "duration": 28,
    "start_time": "2022-04-20T14:15:02.800Z"
   },
   {
    "duration": 16,
    "start_time": "2022-04-20T14:15:02.829Z"
   },
   {
    "duration": 6,
    "start_time": "2022-04-20T14:15:02.846Z"
   },
   {
    "duration": 7,
    "start_time": "2022-04-20T14:15:02.853Z"
   },
   {
    "duration": 5,
    "start_time": "2022-04-20T14:15:02.861Z"
   },
   {
    "duration": 9,
    "start_time": "2022-04-20T14:15:02.867Z"
   },
   {
    "duration": 7,
    "start_time": "2022-04-20T14:15:02.877Z"
   },
   {
    "duration": 6,
    "start_time": "2022-04-20T14:15:02.923Z"
   },
   {
    "duration": 8,
    "start_time": "2022-04-20T14:15:02.931Z"
   },
   {
    "duration": 2,
    "start_time": "2022-04-20T14:15:02.944Z"
   },
   {
    "duration": 14,
    "start_time": "2022-04-20T14:15:02.948Z"
   },
   {
    "duration": 6,
    "start_time": "2022-04-20T14:15:02.963Z"
   },
   {
    "duration": 7,
    "start_time": "2022-04-20T14:15:02.970Z"
   },
   {
    "duration": 7,
    "start_time": "2022-04-20T14:15:02.979Z"
   },
   {
    "duration": 43,
    "start_time": "2022-04-20T14:15:02.987Z"
   },
   {
    "duration": 6,
    "start_time": "2022-04-20T14:15:03.032Z"
   },
   {
    "duration": 6,
    "start_time": "2022-04-20T14:15:03.039Z"
   },
   {
    "duration": 9,
    "start_time": "2022-04-20T14:15:03.047Z"
   },
   {
    "duration": 4,
    "start_time": "2022-04-20T14:15:03.058Z"
   },
   {
    "duration": 16,
    "start_time": "2022-04-20T14:15:03.064Z"
   },
   {
    "duration": 7,
    "start_time": "2022-04-20T14:15:03.082Z"
   },
   {
    "duration": 41,
    "start_time": "2022-04-20T14:15:03.090Z"
   },
   {
    "duration": 17,
    "start_time": "2022-04-20T14:15:03.133Z"
   },
   {
    "duration": 19,
    "start_time": "2022-04-20T14:15:03.152Z"
   },
   {
    "duration": 17,
    "start_time": "2022-04-20T14:15:03.172Z"
   },
   {
    "duration": 34,
    "start_time": "2022-04-20T14:15:03.190Z"
   },
   {
    "duration": 13,
    "start_time": "2022-04-20T14:15:03.226Z"
   },
   {
    "duration": 13,
    "start_time": "2022-04-20T14:15:03.241Z"
   },
   {
    "duration": 19,
    "start_time": "2022-04-20T14:15:03.256Z"
   },
   {
    "duration": 7,
    "start_time": "2022-04-20T14:15:03.277Z"
   },
   {
    "duration": 16,
    "start_time": "2022-04-20T14:15:03.285Z"
   },
   {
    "duration": 5,
    "start_time": "2022-04-20T14:15:03.303Z"
   },
   {
    "duration": 7,
    "start_time": "2022-04-20T14:15:03.309Z"
   },
   {
    "duration": 8,
    "start_time": "2022-04-20T14:15:03.324Z"
   },
   {
    "duration": 13,
    "start_time": "2022-04-20T14:15:03.334Z"
   },
   {
    "duration": 11,
    "start_time": "2022-04-20T14:15:03.348Z"
   },
   {
    "duration": 3,
    "start_time": "2022-04-20T14:15:03.363Z"
   },
   {
    "duration": 6,
    "start_time": "2022-04-20T14:15:03.368Z"
   },
   {
    "duration": 14,
    "start_time": "2022-04-20T14:15:03.375Z"
   },
   {
    "duration": 11,
    "start_time": "2022-04-20T14:15:03.390Z"
   },
   {
    "duration": 5,
    "start_time": "2022-04-20T14:15:03.423Z"
   },
   {
    "duration": 18,
    "start_time": "2022-04-20T14:15:03.430Z"
   },
   {
    "duration": 4,
    "start_time": "2022-04-20T14:15:03.450Z"
   },
   {
    "duration": 14,
    "start_time": "2022-04-20T14:15:03.455Z"
   },
   {
    "duration": 21,
    "start_time": "2022-04-20T14:15:03.471Z"
   },
   {
    "duration": 15,
    "start_time": "2022-04-20T14:15:03.524Z"
   },
   {
    "duration": 13,
    "start_time": "2022-04-20T14:15:03.541Z"
   },
   {
    "duration": 560,
    "start_time": "2022-04-20T14:16:15.204Z"
   },
   {
    "duration": 27,
    "start_time": "2022-04-20T14:16:15.766Z"
   },
   {
    "duration": 35,
    "start_time": "2022-04-20T14:16:15.795Z"
   },
   {
    "duration": 13,
    "start_time": "2022-04-20T14:16:15.832Z"
   },
   {
    "duration": 5,
    "start_time": "2022-04-20T14:16:15.847Z"
   },
   {
    "duration": 13,
    "start_time": "2022-04-20T14:16:15.853Z"
   },
   {
    "duration": 5,
    "start_time": "2022-04-20T14:16:15.867Z"
   },
   {
    "duration": 7,
    "start_time": "2022-04-20T14:16:15.873Z"
   },
   {
    "duration": 10,
    "start_time": "2022-04-20T14:16:15.881Z"
   },
   {
    "duration": 5,
    "start_time": "2022-04-20T14:16:15.923Z"
   },
   {
    "duration": 5,
    "start_time": "2022-04-20T14:16:15.930Z"
   },
   {
    "duration": 6,
    "start_time": "2022-04-20T14:16:15.936Z"
   },
   {
    "duration": 3,
    "start_time": "2022-04-20T14:16:15.944Z"
   },
   {
    "duration": 3,
    "start_time": "2022-04-20T14:16:15.949Z"
   },
   {
    "duration": 14,
    "start_time": "2022-04-20T14:16:15.953Z"
   },
   {
    "duration": 5,
    "start_time": "2022-04-20T14:16:15.969Z"
   },
   {
    "duration": 5,
    "start_time": "2022-04-20T14:16:15.975Z"
   },
   {
    "duration": 5,
    "start_time": "2022-04-20T14:16:15.982Z"
   },
   {
    "duration": 49,
    "start_time": "2022-04-20T14:16:15.989Z"
   },
   {
    "duration": 6,
    "start_time": "2022-04-20T14:16:16.040Z"
   },
   {
    "duration": 5,
    "start_time": "2022-04-20T14:16:16.048Z"
   },
   {
    "duration": 5,
    "start_time": "2022-04-20T14:16:16.055Z"
   },
   {
    "duration": 104,
    "start_time": "2022-04-20T14:16:16.061Z"
   },
   {
    "duration": 0,
    "start_time": "2022-04-20T14:16:16.168Z"
   },
   {
    "duration": 0,
    "start_time": "2022-04-20T14:16:16.169Z"
   },
   {
    "duration": 0,
    "start_time": "2022-04-20T14:16:16.170Z"
   },
   {
    "duration": 0,
    "start_time": "2022-04-20T14:16:16.171Z"
   },
   {
    "duration": 0,
    "start_time": "2022-04-20T14:16:16.173Z"
   },
   {
    "duration": 1,
    "start_time": "2022-04-20T14:16:16.173Z"
   },
   {
    "duration": 0,
    "start_time": "2022-04-20T14:16:16.175Z"
   },
   {
    "duration": 0,
    "start_time": "2022-04-20T14:16:16.175Z"
   },
   {
    "duration": 0,
    "start_time": "2022-04-20T14:16:16.176Z"
   },
   {
    "duration": 0,
    "start_time": "2022-04-20T14:16:16.178Z"
   },
   {
    "duration": 0,
    "start_time": "2022-04-20T14:16:16.178Z"
   },
   {
    "duration": 0,
    "start_time": "2022-04-20T14:16:16.179Z"
   },
   {
    "duration": 0,
    "start_time": "2022-04-20T14:16:16.180Z"
   },
   {
    "duration": 0,
    "start_time": "2022-04-20T14:16:16.181Z"
   },
   {
    "duration": 0,
    "start_time": "2022-04-20T14:16:16.182Z"
   },
   {
    "duration": 0,
    "start_time": "2022-04-20T14:16:16.183Z"
   },
   {
    "duration": 0,
    "start_time": "2022-04-20T14:16:16.184Z"
   },
   {
    "duration": 0,
    "start_time": "2022-04-20T14:16:16.185Z"
   },
   {
    "duration": 0,
    "start_time": "2022-04-20T14:16:16.186Z"
   },
   {
    "duration": 0,
    "start_time": "2022-04-20T14:16:16.187Z"
   },
   {
    "duration": 0,
    "start_time": "2022-04-20T14:16:16.224Z"
   },
   {
    "duration": 0,
    "start_time": "2022-04-20T14:16:16.226Z"
   },
   {
    "duration": 0,
    "start_time": "2022-04-20T14:16:16.226Z"
   },
   {
    "duration": 0,
    "start_time": "2022-04-20T14:16:16.227Z"
   },
   {
    "duration": 0,
    "start_time": "2022-04-20T14:16:16.228Z"
   },
   {
    "duration": 0,
    "start_time": "2022-04-20T14:16:16.230Z"
   },
   {
    "duration": 0,
    "start_time": "2022-04-20T14:16:16.230Z"
   },
   {
    "duration": 0,
    "start_time": "2022-04-20T14:16:16.232Z"
   },
   {
    "duration": 0,
    "start_time": "2022-04-20T14:16:16.232Z"
   },
   {
    "duration": 124,
    "start_time": "2022-04-20T14:19:15.245Z"
   },
   {
    "duration": 129,
    "start_time": "2022-04-20T14:19:39.013Z"
   },
   {
    "duration": 103,
    "start_time": "2022-04-20T14:19:49.981Z"
   },
   {
    "duration": 109,
    "start_time": "2022-04-20T14:19:58.645Z"
   },
   {
    "duration": 154,
    "start_time": "2022-04-20T14:20:01.492Z"
   },
   {
    "duration": 6,
    "start_time": "2022-04-20T14:21:16.919Z"
   },
   {
    "duration": 10,
    "start_time": "2022-04-20T14:21:17.749Z"
   },
   {
    "duration": 17,
    "start_time": "2022-04-20T14:21:18.429Z"
   },
   {
    "duration": 462,
    "start_time": "2022-04-20T14:21:29.395Z"
   },
   {
    "duration": 399,
    "start_time": "2022-04-20T14:21:41.748Z"
   },
   {
    "duration": 445,
    "start_time": "2022-04-20T14:22:06.876Z"
   },
   {
    "duration": 97,
    "start_time": "2022-04-20T14:22:22.372Z"
   },
   {
    "duration": 104,
    "start_time": "2022-04-20T14:22:29.228Z"
   },
   {
    "duration": 417,
    "start_time": "2022-04-20T14:22:35.979Z"
   },
   {
    "duration": 402,
    "start_time": "2022-04-20T14:24:15.420Z"
   },
   {
    "duration": 441,
    "start_time": "2022-04-20T14:24:25.460Z"
   },
   {
    "duration": 403,
    "start_time": "2022-04-20T14:27:51.939Z"
   },
   {
    "duration": 424,
    "start_time": "2022-04-20T14:28:40.403Z"
   },
   {
    "duration": 5,
    "start_time": "2022-04-20T14:30:37.218Z"
   },
   {
    "duration": 5,
    "start_time": "2022-04-20T14:31:16.651Z"
   },
   {
    "duration": 6,
    "start_time": "2022-04-20T14:31:19.387Z"
   },
   {
    "duration": 54,
    "start_time": "2022-04-20T14:31:24.974Z"
   },
   {
    "duration": 15,
    "start_time": "2022-04-20T14:31:25.029Z"
   },
   {
    "duration": 19,
    "start_time": "2022-04-20T14:31:25.046Z"
   },
   {
    "duration": 17,
    "start_time": "2022-04-20T14:31:25.067Z"
   },
   {
    "duration": 5,
    "start_time": "2022-04-20T14:31:25.086Z"
   },
   {
    "duration": 18,
    "start_time": "2022-04-20T14:31:25.123Z"
   },
   {
    "duration": 6,
    "start_time": "2022-04-20T14:31:25.142Z"
   },
   {
    "duration": 8,
    "start_time": "2022-04-20T14:31:25.150Z"
   },
   {
    "duration": 4,
    "start_time": "2022-04-20T14:31:25.160Z"
   },
   {
    "duration": 5,
    "start_time": "2022-04-20T14:31:25.167Z"
   },
   {
    "duration": 6,
    "start_time": "2022-04-20T14:31:25.174Z"
   },
   {
    "duration": 44,
    "start_time": "2022-04-20T14:31:25.181Z"
   },
   {
    "duration": 5,
    "start_time": "2022-04-20T14:31:25.226Z"
   },
   {
    "duration": 5,
    "start_time": "2022-04-20T14:31:25.233Z"
   },
   {
    "duration": 18,
    "start_time": "2022-04-20T14:31:25.239Z"
   },
   {
    "duration": 6,
    "start_time": "2022-04-20T14:31:25.259Z"
   },
   {
    "duration": 6,
    "start_time": "2022-04-20T14:31:25.266Z"
   },
   {
    "duration": 5,
    "start_time": "2022-04-20T14:31:25.273Z"
   },
   {
    "duration": 50,
    "start_time": "2022-04-20T14:31:25.279Z"
   },
   {
    "duration": 8,
    "start_time": "2022-04-20T14:31:25.330Z"
   },
   {
    "duration": 10,
    "start_time": "2022-04-20T14:31:25.339Z"
   },
   {
    "duration": 10,
    "start_time": "2022-04-20T14:31:25.351Z"
   },
   {
    "duration": 4,
    "start_time": "2022-04-20T14:31:25.363Z"
   },
   {
    "duration": 6,
    "start_time": "2022-04-20T14:31:25.368Z"
   },
   {
    "duration": 9,
    "start_time": "2022-04-20T14:31:25.376Z"
   },
   {
    "duration": 36,
    "start_time": "2022-04-20T14:31:25.387Z"
   },
   {
    "duration": 5,
    "start_time": "2022-04-20T14:31:25.424Z"
   },
   {
    "duration": 10,
    "start_time": "2022-04-20T14:31:25.432Z"
   },
   {
    "duration": 18,
    "start_time": "2022-04-20T14:31:25.443Z"
   },
   {
    "duration": 17,
    "start_time": "2022-04-20T14:31:25.462Z"
   },
   {
    "duration": 45,
    "start_time": "2022-04-20T14:31:25.481Z"
   },
   {
    "duration": 7,
    "start_time": "2022-04-20T14:31:25.527Z"
   },
   {
    "duration": 17,
    "start_time": "2022-04-20T14:31:25.536Z"
   },
   {
    "duration": 7,
    "start_time": "2022-04-20T14:31:25.555Z"
   },
   {
    "duration": 12,
    "start_time": "2022-04-20T14:31:25.563Z"
   },
   {
    "duration": 5,
    "start_time": "2022-04-20T14:31:25.577Z"
   },
   {
    "duration": 12,
    "start_time": "2022-04-20T14:31:25.584Z"
   },
   {
    "duration": 27,
    "start_time": "2022-04-20T14:31:25.598Z"
   },
   {
    "duration": 4,
    "start_time": "2022-04-20T14:31:25.627Z"
   },
   {
    "duration": 14,
    "start_time": "2022-04-20T14:31:25.633Z"
   },
   {
    "duration": 11,
    "start_time": "2022-04-20T14:31:25.648Z"
   },
   {
    "duration": 8,
    "start_time": "2022-04-20T14:31:25.661Z"
   },
   {
    "duration": 5,
    "start_time": "2022-04-20T14:31:25.671Z"
   },
   {
    "duration": 8,
    "start_time": "2022-04-20T14:31:25.678Z"
   },
   {
    "duration": 37,
    "start_time": "2022-04-20T14:31:25.688Z"
   },
   {
    "duration": 10,
    "start_time": "2022-04-20T14:31:25.727Z"
   },
   {
    "duration": 7,
    "start_time": "2022-04-20T14:31:25.739Z"
   },
   {
    "duration": 19,
    "start_time": "2022-04-20T14:31:25.748Z"
   },
   {
    "duration": 5,
    "start_time": "2022-04-20T14:31:25.769Z"
   },
   {
    "duration": 15,
    "start_time": "2022-04-20T14:31:25.776Z"
   },
   {
    "duration": 48,
    "start_time": "2022-04-20T14:31:25.792Z"
   },
   {
    "duration": 17,
    "start_time": "2022-04-20T14:31:25.842Z"
   },
   {
    "duration": 11,
    "start_time": "2022-04-20T14:31:25.860Z"
   },
   {
    "duration": 108,
    "start_time": "2022-04-20T14:33:07.786Z"
   },
   {
    "duration": 114,
    "start_time": "2022-04-20T14:35:17.722Z"
   },
   {
    "duration": 5,
    "start_time": "2022-04-20T14:35:27.745Z"
   },
   {
    "duration": 4,
    "start_time": "2022-04-20T14:35:32.057Z"
   },
   {
    "duration": 4,
    "start_time": "2022-04-20T14:35:32.457Z"
   },
   {
    "duration": 13,
    "start_time": "2022-04-20T14:35:34.145Z"
   },
   {
    "duration": 52,
    "start_time": "2022-04-20T14:35:40.173Z"
   },
   {
    "duration": 15,
    "start_time": "2022-04-20T14:35:40.227Z"
   },
   {
    "duration": 28,
    "start_time": "2022-04-20T14:35:40.244Z"
   },
   {
    "duration": 29,
    "start_time": "2022-04-20T14:35:40.274Z"
   },
   {
    "duration": 9,
    "start_time": "2022-04-20T14:35:40.305Z"
   },
   {
    "duration": 26,
    "start_time": "2022-04-20T14:35:40.316Z"
   },
   {
    "duration": 9,
    "start_time": "2022-04-20T14:35:40.344Z"
   },
   {
    "duration": 24,
    "start_time": "2022-04-20T14:35:40.356Z"
   },
   {
    "duration": 18,
    "start_time": "2022-04-20T14:35:40.381Z"
   },
   {
    "duration": 23,
    "start_time": "2022-04-20T14:35:40.402Z"
   },
   {
    "duration": 20,
    "start_time": "2022-04-20T14:35:40.427Z"
   },
   {
    "duration": 25,
    "start_time": "2022-04-20T14:35:40.449Z"
   },
   {
    "duration": 9,
    "start_time": "2022-04-20T14:35:40.476Z"
   },
   {
    "duration": 25,
    "start_time": "2022-04-20T14:35:40.487Z"
   },
   {
    "duration": 29,
    "start_time": "2022-04-20T14:35:40.513Z"
   },
   {
    "duration": 10,
    "start_time": "2022-04-20T14:35:40.544Z"
   },
   {
    "duration": 31,
    "start_time": "2022-04-20T14:35:40.555Z"
   },
   {
    "duration": 18,
    "start_time": "2022-04-20T14:35:40.588Z"
   },
   {
    "duration": 20,
    "start_time": "2022-04-20T14:35:40.607Z"
   },
   {
    "duration": 6,
    "start_time": "2022-04-20T14:35:40.629Z"
   },
   {
    "duration": 21,
    "start_time": "2022-04-20T14:35:40.636Z"
   },
   {
    "duration": 16,
    "start_time": "2022-04-20T14:35:40.658Z"
   },
   {
    "duration": 12,
    "start_time": "2022-04-20T14:35:40.676Z"
   },
   {
    "duration": 22,
    "start_time": "2022-04-20T14:35:40.690Z"
   },
   {
    "duration": 33,
    "start_time": "2022-04-20T14:35:40.715Z"
   },
   {
    "duration": 10,
    "start_time": "2022-04-20T14:35:40.750Z"
   },
   {
    "duration": 18,
    "start_time": "2022-04-20T14:35:40.764Z"
   },
   {
    "duration": 42,
    "start_time": "2022-04-20T14:35:40.787Z"
   },
   {
    "duration": 18,
    "start_time": "2022-04-20T14:35:40.831Z"
   },
   {
    "duration": 31,
    "start_time": "2022-04-20T14:35:40.850Z"
   },
   {
    "duration": 9,
    "start_time": "2022-04-20T14:35:40.883Z"
   },
   {
    "duration": 25,
    "start_time": "2022-04-20T14:35:40.894Z"
   },
   {
    "duration": 16,
    "start_time": "2022-04-20T14:35:40.923Z"
   },
   {
    "duration": 21,
    "start_time": "2022-04-20T14:35:40.941Z"
   },
   {
    "duration": 3,
    "start_time": "2022-04-20T14:35:40.964Z"
   },
   {
    "duration": 29,
    "start_time": "2022-04-20T14:35:40.969Z"
   },
   {
    "duration": 15,
    "start_time": "2022-04-20T14:35:41.001Z"
   },
   {
    "duration": 13,
    "start_time": "2022-04-20T14:35:41.018Z"
   },
   {
    "duration": 22,
    "start_time": "2022-04-20T14:35:41.033Z"
   },
   {
    "duration": 17,
    "start_time": "2022-04-20T14:35:41.057Z"
   },
   {
    "duration": 16,
    "start_time": "2022-04-20T14:35:41.076Z"
   },
   {
    "duration": 20,
    "start_time": "2022-04-20T14:35:41.094Z"
   },
   {
    "duration": 10,
    "start_time": "2022-04-20T14:35:41.117Z"
   },
   {
    "duration": 19,
    "start_time": "2022-04-20T14:35:41.129Z"
   },
   {
    "duration": 25,
    "start_time": "2022-04-20T14:35:41.150Z"
   },
   {
    "duration": 18,
    "start_time": "2022-04-20T14:35:41.177Z"
   },
   {
    "duration": 30,
    "start_time": "2022-04-20T14:35:41.196Z"
   },
   {
    "duration": 7,
    "start_time": "2022-04-20T14:35:41.228Z"
   },
   {
    "duration": 24,
    "start_time": "2022-04-20T14:35:41.237Z"
   },
   {
    "duration": 37,
    "start_time": "2022-04-20T14:35:41.263Z"
   },
   {
    "duration": 27,
    "start_time": "2022-04-20T14:35:41.302Z"
   },
   {
    "duration": 14,
    "start_time": "2022-04-20T14:35:41.331Z"
   },
   {
    "duration": 5,
    "start_time": "2022-04-20T14:36:15.113Z"
   },
   {
    "duration": 6,
    "start_time": "2022-04-20T14:36:21.713Z"
   },
   {
    "duration": 59,
    "start_time": "2022-04-20T14:36:38.317Z"
   },
   {
    "duration": 50,
    "start_time": "2022-04-20T14:36:38.378Z"
   },
   {
    "duration": 15,
    "start_time": "2022-04-20T14:36:38.430Z"
   },
   {
    "duration": 24,
    "start_time": "2022-04-20T14:36:38.447Z"
   },
   {
    "duration": 6,
    "start_time": "2022-04-20T14:36:38.473Z"
   },
   {
    "duration": 21,
    "start_time": "2022-04-20T14:36:38.480Z"
   },
   {
    "duration": 5,
    "start_time": "2022-04-20T14:36:38.502Z"
   },
   {
    "duration": 11,
    "start_time": "2022-04-20T14:36:38.524Z"
   },
   {
    "duration": 4,
    "start_time": "2022-04-20T14:36:38.537Z"
   },
   {
    "duration": 12,
    "start_time": "2022-04-20T14:36:38.545Z"
   },
   {
    "duration": 9,
    "start_time": "2022-04-20T14:36:38.558Z"
   },
   {
    "duration": 8,
    "start_time": "2022-04-20T14:36:38.569Z"
   },
   {
    "duration": 11,
    "start_time": "2022-04-20T14:36:38.579Z"
   },
   {
    "duration": 7,
    "start_time": "2022-04-20T14:36:38.592Z"
   },
   {
    "duration": 29,
    "start_time": "2022-04-20T14:36:38.600Z"
   },
   {
    "duration": 7,
    "start_time": "2022-04-20T14:36:38.631Z"
   },
   {
    "duration": 6,
    "start_time": "2022-04-20T14:36:38.640Z"
   },
   {
    "duration": 10,
    "start_time": "2022-04-20T14:36:38.648Z"
   },
   {
    "duration": 13,
    "start_time": "2022-04-20T14:36:38.659Z"
   },
   {
    "duration": 8,
    "start_time": "2022-04-20T14:36:38.674Z"
   },
   {
    "duration": 39,
    "start_time": "2022-04-20T14:36:38.685Z"
   },
   {
    "duration": 5,
    "start_time": "2022-04-20T14:36:38.726Z"
   },
   {
    "duration": 9,
    "start_time": "2022-04-20T14:36:38.732Z"
   },
   {
    "duration": 7,
    "start_time": "2022-04-20T14:36:38.743Z"
   },
   {
    "duration": 15,
    "start_time": "2022-04-20T14:36:38.751Z"
   },
   {
    "duration": 7,
    "start_time": "2022-04-20T14:36:38.767Z"
   },
   {
    "duration": 15,
    "start_time": "2022-04-20T14:36:38.775Z"
   },
   {
    "duration": 41,
    "start_time": "2022-04-20T14:36:38.794Z"
   },
   {
    "duration": 49,
    "start_time": "2022-04-20T14:36:38.837Z"
   },
   {
    "duration": 17,
    "start_time": "2022-04-20T14:36:38.888Z"
   },
   {
    "duration": 21,
    "start_time": "2022-04-20T14:36:38.907Z"
   },
   {
    "duration": 16,
    "start_time": "2022-04-20T14:36:38.929Z"
   },
   {
    "duration": 9,
    "start_time": "2022-04-20T14:36:38.947Z"
   },
   {
    "duration": 9,
    "start_time": "2022-04-20T14:36:38.957Z"
   },
   {
    "duration": 7,
    "start_time": "2022-04-20T14:36:38.968Z"
   },
   {
    "duration": 19,
    "start_time": "2022-04-20T14:36:38.976Z"
   },
   {
    "duration": 28,
    "start_time": "2022-04-20T14:36:38.997Z"
   },
   {
    "duration": 8,
    "start_time": "2022-04-20T14:36:39.026Z"
   },
   {
    "duration": 11,
    "start_time": "2022-04-20T14:36:39.036Z"
   },
   {
    "duration": 12,
    "start_time": "2022-04-20T14:36:39.049Z"
   },
   {
    "duration": 16,
    "start_time": "2022-04-20T14:36:39.063Z"
   },
   {
    "duration": 7,
    "start_time": "2022-04-20T14:36:39.080Z"
   },
   {
    "duration": 7,
    "start_time": "2022-04-20T14:36:39.088Z"
   },
   {
    "duration": 36,
    "start_time": "2022-04-20T14:36:39.096Z"
   },
   {
    "duration": 20,
    "start_time": "2022-04-20T14:36:39.134Z"
   },
   {
    "duration": 7,
    "start_time": "2022-04-20T14:36:39.156Z"
   },
   {
    "duration": 21,
    "start_time": "2022-04-20T14:36:39.164Z"
   },
   {
    "duration": 5,
    "start_time": "2022-04-20T14:36:39.187Z"
   },
   {
    "duration": 45,
    "start_time": "2022-04-20T14:36:39.194Z"
   },
   {
    "duration": 34,
    "start_time": "2022-04-20T14:36:39.241Z"
   },
   {
    "duration": 18,
    "start_time": "2022-04-20T14:36:39.277Z"
   },
   {
    "duration": 39,
    "start_time": "2022-04-20T14:36:39.297Z"
   },
   {
    "duration": 5,
    "start_time": "2022-04-20T14:38:32.257Z"
   },
   {
    "duration": 4,
    "start_time": "2022-04-20T14:38:33.025Z"
   },
   {
    "duration": 14,
    "start_time": "2022-04-20T14:38:33.817Z"
   },
   {
    "duration": 7,
    "start_time": "2022-04-20T14:42:03.304Z"
   },
   {
    "duration": 4,
    "start_time": "2022-04-20T14:42:03.904Z"
   },
   {
    "duration": 15,
    "start_time": "2022-04-20T14:42:04.408Z"
   },
   {
    "duration": 6,
    "start_time": "2022-04-20T14:42:13.648Z"
   },
   {
    "duration": 4,
    "start_time": "2022-04-20T14:42:14.136Z"
   },
   {
    "duration": 13,
    "start_time": "2022-04-20T14:42:14.857Z"
   },
   {
    "duration": 48,
    "start_time": "2022-04-20T14:42:18.869Z"
   },
   {
    "duration": 13,
    "start_time": "2022-04-20T14:42:18.919Z"
   },
   {
    "duration": 15,
    "start_time": "2022-04-20T14:42:18.934Z"
   },
   {
    "duration": 12,
    "start_time": "2022-04-20T14:42:18.951Z"
   },
   {
    "duration": 5,
    "start_time": "2022-04-20T14:42:18.964Z"
   },
   {
    "duration": 13,
    "start_time": "2022-04-20T14:42:18.970Z"
   },
   {
    "duration": 39,
    "start_time": "2022-04-20T14:42:18.985Z"
   },
   {
    "duration": 5,
    "start_time": "2022-04-20T14:42:19.026Z"
   },
   {
    "duration": 4,
    "start_time": "2022-04-20T14:42:19.033Z"
   },
   {
    "duration": 5,
    "start_time": "2022-04-20T14:42:19.039Z"
   },
   {
    "duration": 9,
    "start_time": "2022-04-20T14:42:19.045Z"
   },
   {
    "duration": 6,
    "start_time": "2022-04-20T14:42:19.055Z"
   },
   {
    "duration": 4,
    "start_time": "2022-04-20T14:42:19.062Z"
   },
   {
    "duration": 7,
    "start_time": "2022-04-20T14:42:19.067Z"
   },
   {
    "duration": 12,
    "start_time": "2022-04-20T14:42:19.075Z"
   },
   {
    "duration": 38,
    "start_time": "2022-04-20T14:42:19.088Z"
   },
   {
    "duration": 5,
    "start_time": "2022-04-20T14:42:19.128Z"
   },
   {
    "duration": 7,
    "start_time": "2022-04-20T14:42:19.134Z"
   },
   {
    "duration": 13,
    "start_time": "2022-04-20T14:42:19.142Z"
   },
   {
    "duration": 5,
    "start_time": "2022-04-20T14:42:19.157Z"
   },
   {
    "duration": 6,
    "start_time": "2022-04-20T14:42:19.163Z"
   },
   {
    "duration": 6,
    "start_time": "2022-04-20T14:42:19.170Z"
   },
   {
    "duration": 8,
    "start_time": "2022-04-20T14:42:19.177Z"
   },
   {
    "duration": 3,
    "start_time": "2022-04-20T14:42:19.187Z"
   },
   {
    "duration": 43,
    "start_time": "2022-04-20T14:42:19.191Z"
   },
   {
    "duration": 5,
    "start_time": "2022-04-20T14:42:19.236Z"
   },
   {
    "duration": 12,
    "start_time": "2022-04-20T14:42:19.242Z"
   },
   {
    "duration": 16,
    "start_time": "2022-04-20T14:42:19.258Z"
   },
   {
    "duration": 48,
    "start_time": "2022-04-20T14:42:19.275Z"
   },
   {
    "duration": 17,
    "start_time": "2022-04-20T14:42:19.325Z"
   },
   {
    "duration": 6,
    "start_time": "2022-04-20T14:42:19.343Z"
   },
   {
    "duration": 16,
    "start_time": "2022-04-20T14:42:19.350Z"
   },
   {
    "duration": 8,
    "start_time": "2022-04-20T14:42:19.367Z"
   },
   {
    "duration": 9,
    "start_time": "2022-04-20T14:42:19.376Z"
   },
   {
    "duration": 6,
    "start_time": "2022-04-20T14:42:19.386Z"
   },
   {
    "duration": 33,
    "start_time": "2022-04-20T14:42:19.394Z"
   },
   {
    "duration": 5,
    "start_time": "2022-04-20T14:42:19.428Z"
   },
   {
    "duration": 6,
    "start_time": "2022-04-20T14:42:19.434Z"
   },
   {
    "duration": 11,
    "start_time": "2022-04-20T14:42:19.441Z"
   },
   {
    "duration": 11,
    "start_time": "2022-04-20T14:42:19.454Z"
   },
   {
    "duration": 8,
    "start_time": "2022-04-20T14:42:19.466Z"
   },
   {
    "duration": 5,
    "start_time": "2022-04-20T14:42:19.475Z"
   },
   {
    "duration": 7,
    "start_time": "2022-04-20T14:42:19.481Z"
   },
   {
    "duration": 38,
    "start_time": "2022-04-20T14:42:19.490Z"
   },
   {
    "duration": 14,
    "start_time": "2022-04-20T14:42:19.530Z"
   },
   {
    "duration": 7,
    "start_time": "2022-04-20T14:42:19.546Z"
   },
   {
    "duration": 22,
    "start_time": "2022-04-20T14:42:19.554Z"
   },
   {
    "duration": 5,
    "start_time": "2022-04-20T14:42:19.578Z"
   },
   {
    "duration": 38,
    "start_time": "2022-04-20T14:42:19.585Z"
   },
   {
    "duration": 22,
    "start_time": "2022-04-20T14:42:19.625Z"
   },
   {
    "duration": 16,
    "start_time": "2022-04-20T14:42:19.649Z"
   },
   {
    "duration": 12,
    "start_time": "2022-04-20T14:42:19.667Z"
   },
   {
    "duration": 5,
    "start_time": "2022-04-20T14:42:37.041Z"
   },
   {
    "duration": 5,
    "start_time": "2022-04-20T14:42:44.376Z"
   },
   {
    "duration": 59,
    "start_time": "2022-04-20T14:42:50.518Z"
   },
   {
    "duration": 49,
    "start_time": "2022-04-20T14:42:50.579Z"
   },
   {
    "duration": 14,
    "start_time": "2022-04-20T14:42:50.631Z"
   },
   {
    "duration": 15,
    "start_time": "2022-04-20T14:42:50.648Z"
   },
   {
    "duration": 6,
    "start_time": "2022-04-20T14:42:50.665Z"
   },
   {
    "duration": 51,
    "start_time": "2022-04-20T14:42:50.673Z"
   },
   {
    "duration": 7,
    "start_time": "2022-04-20T14:42:50.726Z"
   },
   {
    "duration": 18,
    "start_time": "2022-04-20T14:42:50.735Z"
   },
   {
    "duration": 6,
    "start_time": "2022-04-20T14:42:50.755Z"
   },
   {
    "duration": 6,
    "start_time": "2022-04-20T14:42:50.765Z"
   },
   {
    "duration": 7,
    "start_time": "2022-04-20T14:42:50.772Z"
   },
   {
    "duration": 11,
    "start_time": "2022-04-20T14:42:50.781Z"
   },
   {
    "duration": 30,
    "start_time": "2022-04-20T14:42:50.794Z"
   },
   {
    "duration": 5,
    "start_time": "2022-04-20T14:42:50.827Z"
   },
   {
    "duration": 16,
    "start_time": "2022-04-20T14:42:50.834Z"
   },
   {
    "duration": 4,
    "start_time": "2022-04-20T14:42:50.852Z"
   },
   {
    "duration": 6,
    "start_time": "2022-04-20T14:42:50.858Z"
   },
   {
    "duration": 6,
    "start_time": "2022-04-20T14:42:50.865Z"
   },
   {
    "duration": 21,
    "start_time": "2022-04-20T14:42:50.872Z"
   },
   {
    "duration": 33,
    "start_time": "2022-04-20T14:42:50.894Z"
   },
   {
    "duration": 15,
    "start_time": "2022-04-20T14:42:50.928Z"
   },
   {
    "duration": 6,
    "start_time": "2022-04-20T14:42:50.945Z"
   },
   {
    "duration": 6,
    "start_time": "2022-04-20T14:42:50.953Z"
   },
   {
    "duration": 6,
    "start_time": "2022-04-20T14:42:50.960Z"
   },
   {
    "duration": 4,
    "start_time": "2022-04-20T14:42:50.967Z"
   },
   {
    "duration": 15,
    "start_time": "2022-04-20T14:42:50.973Z"
   },
   {
    "duration": 4,
    "start_time": "2022-04-20T14:42:50.990Z"
   },
   {
    "duration": 31,
    "start_time": "2022-04-20T14:42:50.998Z"
   },
   {
    "duration": 19,
    "start_time": "2022-04-20T14:42:51.031Z"
   },
   {
    "duration": 16,
    "start_time": "2022-04-20T14:42:51.052Z"
   },
   {
    "duration": 16,
    "start_time": "2022-04-20T14:42:51.070Z"
   },
   {
    "duration": 6,
    "start_time": "2022-04-20T14:42:51.087Z"
   },
   {
    "duration": 41,
    "start_time": "2022-04-20T14:42:51.095Z"
   },
   {
    "duration": 9,
    "start_time": "2022-04-20T14:42:51.137Z"
   },
   {
    "duration": 7,
    "start_time": "2022-04-20T14:42:51.148Z"
   },
   {
    "duration": 3,
    "start_time": "2022-04-20T14:42:51.157Z"
   },
   {
    "duration": 13,
    "start_time": "2022-04-20T14:42:51.162Z"
   },
   {
    "duration": 7,
    "start_time": "2022-04-20T14:42:51.176Z"
   },
   {
    "duration": 7,
    "start_time": "2022-04-20T14:42:51.185Z"
   },
   {
    "duration": 39,
    "start_time": "2022-04-20T14:42:51.193Z"
   },
   {
    "duration": 15,
    "start_time": "2022-04-20T14:42:51.234Z"
   },
   {
    "duration": 8,
    "start_time": "2022-04-20T14:42:51.251Z"
   },
   {
    "duration": 4,
    "start_time": "2022-04-20T14:42:51.261Z"
   },
   {
    "duration": 8,
    "start_time": "2022-04-20T14:42:51.266Z"
   },
   {
    "duration": 14,
    "start_time": "2022-04-20T14:42:51.276Z"
   },
   {
    "duration": 11,
    "start_time": "2022-04-20T14:42:51.292Z"
   },
   {
    "duration": 22,
    "start_time": "2022-04-20T14:42:51.305Z"
   },
   {
    "duration": 27,
    "start_time": "2022-04-20T14:42:51.328Z"
   },
   {
    "duration": 5,
    "start_time": "2022-04-20T14:42:51.356Z"
   },
   {
    "duration": 21,
    "start_time": "2022-04-20T14:42:51.363Z"
   },
   {
    "duration": 42,
    "start_time": "2022-04-20T14:42:51.385Z"
   },
   {
    "duration": 16,
    "start_time": "2022-04-20T14:42:51.429Z"
   },
   {
    "duration": 12,
    "start_time": "2022-04-20T14:42:51.447Z"
   },
   {
    "duration": 59,
    "start_time": "2022-04-20T14:43:49.374Z"
   },
   {
    "duration": 18,
    "start_time": "2022-04-20T14:43:49.435Z"
   },
   {
    "duration": 16,
    "start_time": "2022-04-20T14:43:49.455Z"
   },
   {
    "duration": 13,
    "start_time": "2022-04-20T14:43:49.473Z"
   },
   {
    "duration": 36,
    "start_time": "2022-04-20T14:43:49.488Z"
   },
   {
    "duration": 14,
    "start_time": "2022-04-20T14:43:49.526Z"
   },
   {
    "duration": 6,
    "start_time": "2022-04-20T14:43:49.541Z"
   },
   {
    "duration": 7,
    "start_time": "2022-04-20T14:43:49.548Z"
   },
   {
    "duration": 4,
    "start_time": "2022-04-20T14:43:49.557Z"
   },
   {
    "duration": 4,
    "start_time": "2022-04-20T14:43:49.564Z"
   },
   {
    "duration": 6,
    "start_time": "2022-04-20T14:43:49.569Z"
   },
   {
    "duration": 5,
    "start_time": "2022-04-20T14:43:49.577Z"
   },
   {
    "duration": 40,
    "start_time": "2022-04-20T14:43:49.584Z"
   },
   {
    "duration": 7,
    "start_time": "2022-04-20T14:43:49.626Z"
   },
   {
    "duration": 16,
    "start_time": "2022-04-20T14:43:49.634Z"
   },
   {
    "duration": 5,
    "start_time": "2022-04-20T14:43:49.651Z"
   },
   {
    "duration": 5,
    "start_time": "2022-04-20T14:43:49.657Z"
   },
   {
    "duration": 5,
    "start_time": "2022-04-20T14:43:49.663Z"
   },
   {
    "duration": 14,
    "start_time": "2022-04-20T14:43:49.669Z"
   },
   {
    "duration": 5,
    "start_time": "2022-04-20T14:43:49.684Z"
   },
   {
    "duration": 4,
    "start_time": "2022-04-20T14:43:49.723Z"
   },
   {
    "duration": 9,
    "start_time": "2022-04-20T14:43:49.729Z"
   },
   {
    "duration": 7,
    "start_time": "2022-04-20T14:43:49.740Z"
   },
   {
    "duration": 6,
    "start_time": "2022-04-20T14:43:49.748Z"
   },
   {
    "duration": 4,
    "start_time": "2022-04-20T14:43:49.755Z"
   },
   {
    "duration": 13,
    "start_time": "2022-04-20T14:43:49.760Z"
   },
   {
    "duration": 6,
    "start_time": "2022-04-20T14:43:49.774Z"
   },
   {
    "duration": 9,
    "start_time": "2022-04-20T14:43:49.784Z"
   },
   {
    "duration": 17,
    "start_time": "2022-04-20T14:43:49.824Z"
   },
   {
    "duration": 17,
    "start_time": "2022-04-20T14:43:49.842Z"
   },
   {
    "duration": 16,
    "start_time": "2022-04-20T14:43:49.861Z"
   },
   {
    "duration": 6,
    "start_time": "2022-04-20T14:43:49.878Z"
   },
   {
    "duration": 41,
    "start_time": "2022-04-20T14:43:49.886Z"
   },
   {
    "duration": 8,
    "start_time": "2022-04-20T14:43:49.928Z"
   },
   {
    "duration": 9,
    "start_time": "2022-04-20T14:43:49.937Z"
   },
   {
    "duration": 4,
    "start_time": "2022-04-20T14:43:49.947Z"
   },
   {
    "duration": 14,
    "start_time": "2022-04-20T14:43:49.952Z"
   },
   {
    "duration": 5,
    "start_time": "2022-04-20T14:43:49.967Z"
   },
   {
    "duration": 6,
    "start_time": "2022-04-20T14:43:49.973Z"
   },
   {
    "duration": 10,
    "start_time": "2022-04-20T14:43:49.980Z"
   },
   {
    "duration": 42,
    "start_time": "2022-04-20T14:43:49.991Z"
   },
   {
    "duration": 7,
    "start_time": "2022-04-20T14:43:50.035Z"
   },
   {
    "duration": 10,
    "start_time": "2022-04-20T14:43:50.044Z"
   },
   {
    "duration": 5,
    "start_time": "2022-04-20T14:43:50.056Z"
   },
   {
    "duration": 18,
    "start_time": "2022-04-20T14:43:50.063Z"
   },
   {
    "duration": 13,
    "start_time": "2022-04-20T14:43:50.082Z"
   },
   {
    "duration": 32,
    "start_time": "2022-04-20T14:43:50.096Z"
   },
   {
    "duration": 21,
    "start_time": "2022-04-20T14:43:50.130Z"
   },
   {
    "duration": 5,
    "start_time": "2022-04-20T14:43:50.153Z"
   },
   {
    "duration": 16,
    "start_time": "2022-04-20T14:43:50.160Z"
   },
   {
    "duration": 54,
    "start_time": "2022-04-20T14:43:50.178Z"
   },
   {
    "duration": 16,
    "start_time": "2022-04-20T14:43:50.234Z"
   },
   {
    "duration": 12,
    "start_time": "2022-04-20T14:43:50.252Z"
   },
   {
    "duration": 50,
    "start_time": "2022-04-20T14:48:47.961Z"
   },
   {
    "duration": 13,
    "start_time": "2022-04-20T14:48:48.013Z"
   },
   {
    "duration": 16,
    "start_time": "2022-04-20T14:48:48.028Z"
   },
   {
    "duration": 13,
    "start_time": "2022-04-20T14:48:48.046Z"
   },
   {
    "duration": 5,
    "start_time": "2022-04-20T14:48:48.061Z"
   },
   {
    "duration": 12,
    "start_time": "2022-04-20T14:48:48.068Z"
   },
   {
    "duration": 5,
    "start_time": "2022-04-20T14:48:48.082Z"
   },
   {
    "duration": 6,
    "start_time": "2022-04-20T14:48:48.124Z"
   },
   {
    "duration": 5,
    "start_time": "2022-04-20T14:48:48.132Z"
   },
   {
    "duration": 7,
    "start_time": "2022-04-20T14:48:48.140Z"
   },
   {
    "duration": 6,
    "start_time": "2022-04-20T14:48:48.148Z"
   },
   {
    "duration": 6,
    "start_time": "2022-04-20T14:48:48.156Z"
   },
   {
    "duration": 4,
    "start_time": "2022-04-20T14:48:48.163Z"
   },
   {
    "duration": 7,
    "start_time": "2022-04-20T14:48:48.168Z"
   },
   {
    "duration": 13,
    "start_time": "2022-04-20T14:48:48.177Z"
   },
   {
    "duration": 5,
    "start_time": "2022-04-20T14:48:48.223Z"
   },
   {
    "duration": 5,
    "start_time": "2022-04-20T14:48:48.230Z"
   },
   {
    "duration": 6,
    "start_time": "2022-04-20T14:48:48.236Z"
   },
   {
    "duration": 16,
    "start_time": "2022-04-20T14:48:48.244Z"
   },
   {
    "duration": 5,
    "start_time": "2022-04-20T14:48:48.261Z"
   },
   {
    "duration": 5,
    "start_time": "2022-04-20T14:48:48.267Z"
   },
   {
    "duration": 8,
    "start_time": "2022-04-20T14:48:48.273Z"
   },
   {
    "duration": 6,
    "start_time": "2022-04-20T14:48:48.282Z"
   },
   {
    "duration": 35,
    "start_time": "2022-04-20T14:48:48.289Z"
   },
   {
    "duration": 4,
    "start_time": "2022-04-20T14:48:48.325Z"
   },
   {
    "duration": 14,
    "start_time": "2022-04-20T14:48:48.331Z"
   },
   {
    "duration": 11,
    "start_time": "2022-04-20T14:48:48.347Z"
   },
   {
    "duration": 13,
    "start_time": "2022-04-20T14:48:48.361Z"
   },
   {
    "duration": 21,
    "start_time": "2022-04-20T14:48:48.375Z"
   },
   {
    "duration": 37,
    "start_time": "2022-04-20T14:48:48.397Z"
   },
   {
    "duration": 15,
    "start_time": "2022-04-20T14:48:48.436Z"
   },
   {
    "duration": 6,
    "start_time": "2022-04-20T14:48:48.453Z"
   },
   {
    "duration": 16,
    "start_time": "2022-04-20T14:48:48.460Z"
   },
   {
    "duration": 8,
    "start_time": "2022-04-20T14:48:48.477Z"
   },
   {
    "duration": 37,
    "start_time": "2022-04-20T14:48:48.486Z"
   },
   {
    "duration": 3,
    "start_time": "2022-04-20T14:48:48.525Z"
   },
   {
    "duration": 17,
    "start_time": "2022-04-20T14:48:48.529Z"
   },
   {
    "duration": 6,
    "start_time": "2022-04-20T14:48:48.548Z"
   },
   {
    "duration": 6,
    "start_time": "2022-04-20T14:48:48.555Z"
   },
   {
    "duration": 12,
    "start_time": "2022-04-20T14:48:48.563Z"
   },
   {
    "duration": 13,
    "start_time": "2022-04-20T14:48:48.576Z"
   },
   {
    "duration": 37,
    "start_time": "2022-04-20T14:48:48.591Z"
   },
   {
    "duration": 6,
    "start_time": "2022-04-20T14:48:48.630Z"
   },
   {
    "duration": 7,
    "start_time": "2022-04-20T14:48:48.638Z"
   },
   {
    "duration": 14,
    "start_time": "2022-04-20T14:48:48.647Z"
   },
   {
    "duration": 13,
    "start_time": "2022-04-20T14:48:48.663Z"
   },
   {
    "duration": 7,
    "start_time": "2022-04-20T14:48:48.678Z"
   },
   {
    "duration": 50,
    "start_time": "2022-04-20T14:48:48.687Z"
   },
   {
    "duration": 10,
    "start_time": "2022-04-20T14:48:48.739Z"
   },
   {
    "duration": 22,
    "start_time": "2022-04-20T14:48:48.751Z"
   },
   {
    "duration": 23,
    "start_time": "2022-04-20T14:48:48.776Z"
   },
   {
    "duration": 17,
    "start_time": "2022-04-20T14:48:48.824Z"
   },
   {
    "duration": 13,
    "start_time": "2022-04-20T14:48:48.843Z"
   },
   {
    "duration": 12,
    "start_time": "2022-04-20T14:49:14.280Z"
   },
   {
    "duration": 5,
    "start_time": "2022-04-20T14:50:30.751Z"
   },
   {
    "duration": 4,
    "start_time": "2022-04-20T14:52:24.158Z"
   },
   {
    "duration": 5,
    "start_time": "2022-04-20T14:53:11.629Z"
   },
   {
    "duration": 105,
    "start_time": "2022-04-20T14:53:39.174Z"
   },
   {
    "duration": 50,
    "start_time": "2022-04-20T14:54:06.706Z"
   },
   {
    "duration": 14,
    "start_time": "2022-04-20T14:54:06.758Z"
   },
   {
    "duration": 14,
    "start_time": "2022-04-20T14:54:06.773Z"
   },
   {
    "duration": 42,
    "start_time": "2022-04-20T14:54:06.789Z"
   },
   {
    "duration": 5,
    "start_time": "2022-04-20T14:54:06.833Z"
   },
   {
    "duration": 16,
    "start_time": "2022-04-20T14:54:06.839Z"
   },
   {
    "duration": 5,
    "start_time": "2022-04-20T14:54:06.856Z"
   },
   {
    "duration": 9,
    "start_time": "2022-04-20T14:54:06.863Z"
   },
   {
    "duration": 7,
    "start_time": "2022-04-20T14:54:06.874Z"
   },
   {
    "duration": 4,
    "start_time": "2022-04-20T14:54:06.883Z"
   },
   {
    "duration": 38,
    "start_time": "2022-04-20T14:54:06.888Z"
   },
   {
    "duration": 9,
    "start_time": "2022-04-20T14:54:06.927Z"
   },
   {
    "duration": 5,
    "start_time": "2022-04-20T14:54:06.937Z"
   },
   {
    "duration": 6,
    "start_time": "2022-04-20T14:54:06.943Z"
   },
   {
    "duration": 15,
    "start_time": "2022-04-20T14:54:06.950Z"
   },
   {
    "duration": 4,
    "start_time": "2022-04-20T14:54:06.967Z"
   },
   {
    "duration": 5,
    "start_time": "2022-04-20T14:54:06.973Z"
   },
   {
    "duration": 4,
    "start_time": "2022-04-20T14:54:06.979Z"
   },
   {
    "duration": 45,
    "start_time": "2022-04-20T14:54:06.985Z"
   },
   {
    "duration": 6,
    "start_time": "2022-04-20T14:54:07.031Z"
   },
   {
    "duration": 7,
    "start_time": "2022-04-20T14:54:07.039Z"
   },
   {
    "duration": 5,
    "start_time": "2022-04-20T14:54:07.048Z"
   },
   {
    "duration": 6,
    "start_time": "2022-04-20T14:54:07.055Z"
   },
   {
    "duration": 12,
    "start_time": "2022-04-20T14:54:07.062Z"
   },
   {
    "duration": 10,
    "start_time": "2022-04-20T14:54:07.076Z"
   },
   {
    "duration": 5,
    "start_time": "2022-04-20T14:54:07.088Z"
   },
   {
    "duration": 38,
    "start_time": "2022-04-20T14:54:07.094Z"
   },
   {
    "duration": 17,
    "start_time": "2022-04-20T14:54:07.136Z"
   },
   {
    "duration": 18,
    "start_time": "2022-04-20T14:54:07.155Z"
   },
   {
    "duration": 16,
    "start_time": "2022-04-20T14:54:07.175Z"
   },
   {
    "duration": 37,
    "start_time": "2022-04-20T14:54:07.193Z"
   },
   {
    "duration": 15,
    "start_time": "2022-04-20T14:54:07.231Z"
   },
   {
    "duration": 9,
    "start_time": "2022-04-20T14:54:07.248Z"
   },
   {
    "duration": 8,
    "start_time": "2022-04-20T14:54:07.259Z"
   },
   {
    "duration": 7,
    "start_time": "2022-04-20T14:54:07.269Z"
   },
   {
    "duration": 46,
    "start_time": "2022-04-20T14:54:07.278Z"
   },
   {
    "duration": 4,
    "start_time": "2022-04-20T14:54:07.325Z"
   },
   {
    "duration": 5,
    "start_time": "2022-04-20T14:54:07.331Z"
   },
   {
    "duration": 24,
    "start_time": "2022-04-20T14:54:07.338Z"
   },
   {
    "duration": 11,
    "start_time": "2022-04-20T14:54:07.363Z"
   },
   {
    "duration": 8,
    "start_time": "2022-04-20T14:54:07.376Z"
   },
   {
    "duration": 5,
    "start_time": "2022-04-20T14:54:07.385Z"
   },
   {
    "duration": 6,
    "start_time": "2022-04-20T14:54:07.392Z"
   },
   {
    "duration": 29,
    "start_time": "2022-04-20T14:54:07.400Z"
   },
   {
    "duration": 13,
    "start_time": "2022-04-20T14:54:07.430Z"
   },
   {
    "duration": 8,
    "start_time": "2022-04-20T14:54:07.445Z"
   },
   {
    "duration": 18,
    "start_time": "2022-04-20T14:54:07.455Z"
   },
   {
    "duration": 5,
    "start_time": "2022-04-20T14:54:07.475Z"
   },
   {
    "duration": 14,
    "start_time": "2022-04-20T14:54:07.481Z"
   },
   {
    "duration": 21,
    "start_time": "2022-04-20T14:54:07.523Z"
   },
   {
    "duration": 16,
    "start_time": "2022-04-20T14:54:07.546Z"
   },
   {
    "duration": 13,
    "start_time": "2022-04-20T14:54:07.563Z"
   },
   {
    "duration": 4,
    "start_time": "2022-04-20T14:56:37.709Z"
   },
   {
    "duration": 11,
    "start_time": "2022-04-20T14:56:38.549Z"
   },
   {
    "duration": 14,
    "start_time": "2022-04-20T15:05:07.978Z"
   },
   {
    "duration": 3,
    "start_time": "2022-04-20T15:07:35.075Z"
   },
   {
    "duration": 116,
    "start_time": "2022-04-20T15:24:28.140Z"
   },
   {
    "duration": 6,
    "start_time": "2022-04-20T15:25:15.942Z"
   },
   {
    "duration": 6,
    "start_time": "2022-04-20T15:25:43.150Z"
   },
   {
    "duration": 7,
    "start_time": "2022-04-20T15:29:34.037Z"
   },
   {
    "duration": 7,
    "start_time": "2022-04-20T15:31:26.950Z"
   },
   {
    "duration": 111,
    "start_time": "2022-04-20T15:43:33.362Z"
   },
   {
    "duration": 18,
    "start_time": "2022-04-20T15:43:46.002Z"
   },
   {
    "duration": 15,
    "start_time": "2022-04-20T15:45:03.889Z"
   },
   {
    "duration": 101,
    "start_time": "2022-04-20T15:54:04.087Z"
   },
   {
    "duration": 5,
    "start_time": "2022-04-20T15:54:10.943Z"
   },
   {
    "duration": 5,
    "start_time": "2022-04-20T15:54:18.233Z"
   },
   {
    "duration": 6,
    "start_time": "2022-04-20T15:54:30.975Z"
   },
   {
    "duration": 5,
    "start_time": "2022-04-20T15:57:48.382Z"
   },
   {
    "duration": 6,
    "start_time": "2022-04-20T15:57:49.005Z"
   },
   {
    "duration": 7,
    "start_time": "2022-04-20T16:07:00.787Z"
   },
   {
    "duration": 5,
    "start_time": "2022-04-20T16:07:01.269Z"
   },
   {
    "duration": 6,
    "start_time": "2022-04-20T16:07:32.612Z"
   },
   {
    "duration": 6,
    "start_time": "2022-04-20T16:07:43.012Z"
   },
   {
    "duration": 64,
    "start_time": "2022-04-20T16:17:19.128Z"
   },
   {
    "duration": 14,
    "start_time": "2022-04-20T16:17:19.193Z"
   },
   {
    "duration": 29,
    "start_time": "2022-04-20T16:17:19.208Z"
   },
   {
    "duration": 17,
    "start_time": "2022-04-20T16:17:19.239Z"
   },
   {
    "duration": 9,
    "start_time": "2022-04-20T16:17:19.258Z"
   },
   {
    "duration": 19,
    "start_time": "2022-04-20T16:17:19.269Z"
   },
   {
    "duration": 6,
    "start_time": "2022-04-20T16:17:19.290Z"
   },
   {
    "duration": 30,
    "start_time": "2022-04-20T16:17:19.297Z"
   },
   {
    "duration": 9,
    "start_time": "2022-04-20T16:17:19.331Z"
   },
   {
    "duration": 11,
    "start_time": "2022-04-20T16:17:19.345Z"
   },
   {
    "duration": 6,
    "start_time": "2022-04-20T16:17:19.358Z"
   },
   {
    "duration": 7,
    "start_time": "2022-04-20T16:17:19.365Z"
   },
   {
    "duration": 4,
    "start_time": "2022-04-20T16:17:19.373Z"
   },
   {
    "duration": 6,
    "start_time": "2022-04-20T16:17:19.379Z"
   },
   {
    "duration": 12,
    "start_time": "2022-04-20T16:17:19.387Z"
   },
   {
    "duration": 28,
    "start_time": "2022-04-20T16:17:19.400Z"
   },
   {
    "duration": 4,
    "start_time": "2022-04-20T16:17:19.430Z"
   },
   {
    "duration": 23,
    "start_time": "2022-04-20T16:17:19.435Z"
   },
   {
    "duration": 12,
    "start_time": "2022-04-20T16:17:19.460Z"
   },
   {
    "duration": 6,
    "start_time": "2022-04-20T16:17:19.473Z"
   },
   {
    "duration": 8,
    "start_time": "2022-04-20T16:17:19.480Z"
   },
   {
    "duration": 9,
    "start_time": "2022-04-20T16:17:19.489Z"
   },
   {
    "duration": 6,
    "start_time": "2022-04-20T16:17:19.499Z"
   },
   {
    "duration": 4,
    "start_time": "2022-04-20T16:17:19.506Z"
   },
   {
    "duration": 30,
    "start_time": "2022-04-20T16:17:19.512Z"
   },
   {
    "duration": 9,
    "start_time": "2022-04-20T16:17:19.543Z"
   },
   {
    "duration": 6,
    "start_time": "2022-04-20T16:17:19.553Z"
   },
   {
    "duration": 4,
    "start_time": "2022-04-20T16:17:19.563Z"
   },
   {
    "duration": 4,
    "start_time": "2022-04-20T16:17:19.569Z"
   },
   {
    "duration": 10,
    "start_time": "2022-04-20T16:17:19.574Z"
   },
   {
    "duration": 16,
    "start_time": "2022-04-20T16:17:19.585Z"
   },
   {
    "duration": 50,
    "start_time": "2022-04-20T16:17:19.602Z"
   },
   {
    "duration": 17,
    "start_time": "2022-04-20T16:17:19.654Z"
   },
   {
    "duration": 6,
    "start_time": "2022-04-20T16:17:19.672Z"
   },
   {
    "duration": 16,
    "start_time": "2022-04-20T16:17:19.680Z"
   },
   {
    "duration": 9,
    "start_time": "2022-04-20T16:17:19.697Z"
   },
   {
    "duration": 32,
    "start_time": "2022-04-20T16:17:19.707Z"
   },
   {
    "duration": 17,
    "start_time": "2022-04-20T16:17:19.740Z"
   },
   {
    "duration": 15,
    "start_time": "2022-04-20T16:17:19.759Z"
   },
   {
    "duration": 5,
    "start_time": "2022-04-20T16:17:19.776Z"
   },
   {
    "duration": 5,
    "start_time": "2022-04-20T16:17:19.783Z"
   },
   {
    "duration": 10,
    "start_time": "2022-04-20T16:17:19.789Z"
   },
   {
    "duration": 10,
    "start_time": "2022-04-20T16:17:19.801Z"
   },
   {
    "duration": 18,
    "start_time": "2022-04-20T16:17:19.813Z"
   },
   {
    "duration": 7,
    "start_time": "2022-04-20T16:17:19.839Z"
   },
   {
    "duration": 6,
    "start_time": "2022-04-20T16:17:19.849Z"
   },
   {
    "duration": 14,
    "start_time": "2022-04-20T16:17:19.857Z"
   },
   {
    "duration": 11,
    "start_time": "2022-04-20T16:17:19.873Z"
   },
   {
    "duration": 7,
    "start_time": "2022-04-20T16:17:19.886Z"
   },
   {
    "duration": 18,
    "start_time": "2022-04-20T16:17:19.894Z"
   },
   {
    "duration": 23,
    "start_time": "2022-04-20T16:17:19.914Z"
   },
   {
    "duration": 23,
    "start_time": "2022-04-20T16:17:19.939Z"
   },
   {
    "duration": 7,
    "start_time": "2022-04-20T16:17:19.964Z"
   },
   {
    "duration": 17,
    "start_time": "2022-04-20T16:17:19.972Z"
   },
   {
    "duration": 11,
    "start_time": "2022-04-20T16:17:19.990Z"
   },
   {
    "duration": 5,
    "start_time": "2022-04-20T16:19:56.538Z"
   },
   {
    "duration": 6,
    "start_time": "2022-04-20T16:20:08.305Z"
   },
   {
    "duration": 52,
    "start_time": "2022-04-20T16:20:11.046Z"
   },
   {
    "duration": 27,
    "start_time": "2022-04-20T16:20:11.100Z"
   },
   {
    "duration": 16,
    "start_time": "2022-04-20T16:20:11.129Z"
   },
   {
    "duration": 13,
    "start_time": "2022-04-20T16:20:11.147Z"
   },
   {
    "duration": 6,
    "start_time": "2022-04-20T16:20:11.162Z"
   },
   {
    "duration": 13,
    "start_time": "2022-04-20T16:20:11.169Z"
   },
   {
    "duration": 41,
    "start_time": "2022-04-20T16:20:11.184Z"
   },
   {
    "duration": 8,
    "start_time": "2022-04-20T16:20:11.229Z"
   },
   {
    "duration": 5,
    "start_time": "2022-04-20T16:20:11.244Z"
   },
   {
    "duration": 3,
    "start_time": "2022-04-20T16:20:11.252Z"
   },
   {
    "duration": 6,
    "start_time": "2022-04-20T16:20:11.257Z"
   },
   {
    "duration": 6,
    "start_time": "2022-04-20T16:20:11.265Z"
   },
   {
    "duration": 6,
    "start_time": "2022-04-20T16:20:11.272Z"
   },
   {
    "duration": 12,
    "start_time": "2022-04-20T16:20:11.280Z"
   },
   {
    "duration": 32,
    "start_time": "2022-04-20T16:20:11.294Z"
   },
   {
    "duration": 5,
    "start_time": "2022-04-20T16:20:11.327Z"
   },
   {
    "duration": 15,
    "start_time": "2022-04-20T16:20:11.333Z"
   },
   {
    "duration": 13,
    "start_time": "2022-04-20T16:20:11.350Z"
   },
   {
    "duration": 5,
    "start_time": "2022-04-20T16:20:11.365Z"
   },
   {
    "duration": 9,
    "start_time": "2022-04-20T16:20:11.371Z"
   },
   {
    "duration": 4,
    "start_time": "2022-04-20T16:20:11.382Z"
   },
   {
    "duration": 43,
    "start_time": "2022-04-20T16:20:11.388Z"
   },
   {
    "duration": 6,
    "start_time": "2022-04-20T16:20:11.433Z"
   },
   {
    "duration": 13,
    "start_time": "2022-04-20T16:20:11.441Z"
   },
   {
    "duration": 8,
    "start_time": "2022-04-20T16:20:11.456Z"
   },
   {
    "duration": 7,
    "start_time": "2022-04-20T16:20:11.465Z"
   },
   {
    "duration": 6,
    "start_time": "2022-04-20T16:20:11.473Z"
   },
   {
    "duration": 6,
    "start_time": "2022-04-20T16:20:11.483Z"
   },
   {
    "duration": 14,
    "start_time": "2022-04-20T16:20:11.491Z"
   },
   {
    "duration": 17,
    "start_time": "2022-04-20T16:20:11.532Z"
   },
   {
    "duration": 17,
    "start_time": "2022-04-20T16:20:11.551Z"
   },
   {
    "duration": 15,
    "start_time": "2022-04-20T16:20:11.570Z"
   },
   {
    "duration": 6,
    "start_time": "2022-04-20T16:20:11.586Z"
   },
   {
    "duration": 45,
    "start_time": "2022-04-20T16:20:11.595Z"
   },
   {
    "duration": 7,
    "start_time": "2022-04-20T16:20:11.642Z"
   },
   {
    "duration": 9,
    "start_time": "2022-04-20T16:20:11.651Z"
   },
   {
    "duration": 3,
    "start_time": "2022-04-20T16:20:11.662Z"
   },
   {
    "duration": 19,
    "start_time": "2022-04-20T16:20:11.667Z"
   },
   {
    "duration": 5,
    "start_time": "2022-04-20T16:20:11.688Z"
   },
   {
    "duration": 29,
    "start_time": "2022-04-20T16:20:11.695Z"
   },
   {
    "duration": 14,
    "start_time": "2022-04-20T16:20:11.735Z"
   },
   {
    "duration": 16,
    "start_time": "2022-04-20T16:20:11.751Z"
   },
   {
    "duration": 9,
    "start_time": "2022-04-20T16:20:11.769Z"
   },
   {
    "duration": 6,
    "start_time": "2022-04-20T16:20:11.780Z"
   },
   {
    "duration": 4,
    "start_time": "2022-04-20T16:20:11.788Z"
   },
   {
    "duration": 43,
    "start_time": "2022-04-20T16:20:11.794Z"
   },
   {
    "duration": 16,
    "start_time": "2022-04-20T16:20:11.840Z"
   },
   {
    "duration": 8,
    "start_time": "2022-04-20T16:20:11.858Z"
   },
   {
    "duration": 18,
    "start_time": "2022-04-20T16:20:11.867Z"
   },
   {
    "duration": 4,
    "start_time": "2022-04-20T16:20:11.887Z"
   },
   {
    "duration": 44,
    "start_time": "2022-04-20T16:20:11.893Z"
   },
   {
    "duration": 9,
    "start_time": "2022-04-20T16:20:11.942Z"
   },
   {
    "duration": 26,
    "start_time": "2022-04-20T16:20:11.952Z"
   },
   {
    "duration": 13,
    "start_time": "2022-04-20T16:20:11.979Z"
   },
   {
    "duration": 427,
    "start_time": "2022-04-20T16:23:25.639Z"
   },
   {
    "duration": 19,
    "start_time": "2022-04-20T16:23:26.068Z"
   },
   {
    "duration": 14,
    "start_time": "2022-04-20T16:23:26.088Z"
   },
   {
    "duration": 36,
    "start_time": "2022-04-20T16:23:26.104Z"
   },
   {
    "duration": 5,
    "start_time": "2022-04-20T16:23:26.142Z"
   },
   {
    "duration": 15,
    "start_time": "2022-04-20T16:23:26.148Z"
   },
   {
    "duration": 5,
    "start_time": "2022-04-20T16:23:26.164Z"
   },
   {
    "duration": 5,
    "start_time": "2022-04-20T16:23:26.170Z"
   },
   {
    "duration": 5,
    "start_time": "2022-04-20T16:23:26.176Z"
   },
   {
    "duration": 5,
    "start_time": "2022-04-20T16:23:26.183Z"
   },
   {
    "duration": 42,
    "start_time": "2022-04-20T16:23:26.189Z"
   },
   {
    "duration": 6,
    "start_time": "2022-04-20T16:23:26.234Z"
   },
   {
    "duration": 6,
    "start_time": "2022-04-20T16:23:26.241Z"
   },
   {
    "duration": 15,
    "start_time": "2022-04-20T16:23:26.248Z"
   },
   {
    "duration": 5,
    "start_time": "2022-04-20T16:23:26.264Z"
   },
   {
    "duration": 3,
    "start_time": "2022-04-20T16:23:26.271Z"
   },
   {
    "duration": 4,
    "start_time": "2022-04-20T16:23:26.276Z"
   },
   {
    "duration": 48,
    "start_time": "2022-04-20T16:23:26.282Z"
   },
   {
    "duration": 9,
    "start_time": "2022-04-20T16:23:26.331Z"
   },
   {
    "duration": 8,
    "start_time": "2022-04-20T16:23:26.341Z"
   },
   {
    "duration": 6,
    "start_time": "2022-04-20T16:23:26.350Z"
   },
   {
    "duration": 4,
    "start_time": "2022-04-20T16:23:26.357Z"
   },
   {
    "duration": 7,
    "start_time": "2022-04-20T16:23:26.363Z"
   },
   {
    "duration": 11,
    "start_time": "2022-04-20T16:23:26.372Z"
   },
   {
    "duration": 7,
    "start_time": "2022-04-20T16:23:26.384Z"
   },
   {
    "duration": 7,
    "start_time": "2022-04-20T16:23:26.392Z"
   },
   {
    "duration": 36,
    "start_time": "2022-04-20T16:23:26.401Z"
   },
   {
    "duration": 4,
    "start_time": "2022-04-20T16:23:26.441Z"
   },
   {
    "duration": 11,
    "start_time": "2022-04-20T16:23:26.447Z"
   },
   {
    "duration": 16,
    "start_time": "2022-04-20T16:23:26.460Z"
   },
   {
    "duration": 15,
    "start_time": "2022-04-20T16:23:26.478Z"
   },
   {
    "duration": 47,
    "start_time": "2022-04-20T16:23:26.495Z"
   },
   {
    "duration": 7,
    "start_time": "2022-04-20T16:23:26.544Z"
   },
   {
    "duration": 17,
    "start_time": "2022-04-20T16:23:26.553Z"
   },
   {
    "duration": 8,
    "start_time": "2022-04-20T16:23:26.572Z"
   },
   {
    "duration": 7,
    "start_time": "2022-04-20T16:23:26.581Z"
   },
   {
    "duration": 6,
    "start_time": "2022-04-20T16:23:26.589Z"
   },
   {
    "duration": 37,
    "start_time": "2022-04-20T16:23:26.596Z"
   },
   {
    "duration": 6,
    "start_time": "2022-04-20T16:23:26.635Z"
   },
   {
    "duration": 4,
    "start_time": "2022-04-20T16:23:26.643Z"
   },
   {
    "duration": 12,
    "start_time": "2022-04-20T16:23:26.648Z"
   },
   {
    "duration": 9,
    "start_time": "2022-04-20T16:23:26.662Z"
   },
   {
    "duration": 8,
    "start_time": "2022-04-20T16:23:26.673Z"
   },
   {
    "duration": 10,
    "start_time": "2022-04-20T16:23:26.682Z"
   },
   {
    "duration": 10,
    "start_time": "2022-04-20T16:23:26.693Z"
   },
   {
    "duration": 31,
    "start_time": "2022-04-20T16:23:26.704Z"
   },
   {
    "duration": 20,
    "start_time": "2022-04-20T16:23:26.737Z"
   },
   {
    "duration": 7,
    "start_time": "2022-04-20T16:23:26.759Z"
   },
   {
    "duration": 19,
    "start_time": "2022-04-20T16:23:26.768Z"
   },
   {
    "duration": 5,
    "start_time": "2022-04-20T16:23:26.788Z"
   },
   {
    "duration": 29,
    "start_time": "2022-04-20T16:23:26.794Z"
   },
   {
    "duration": 9,
    "start_time": "2022-04-20T16:23:26.827Z"
   },
   {
    "duration": 20,
    "start_time": "2022-04-20T16:23:26.838Z"
   },
   {
    "duration": 11,
    "start_time": "2022-04-20T16:23:26.860Z"
   },
   {
    "duration": 4,
    "start_time": "2022-04-20T16:51:16.690Z"
   },
   {
    "duration": 414,
    "start_time": "2022-04-20T16:56:52.442Z"
   },
   {
    "duration": 19,
    "start_time": "2022-04-20T16:56:52.858Z"
   },
   {
    "duration": 12,
    "start_time": "2022-04-20T16:56:52.878Z"
   },
   {
    "duration": 12,
    "start_time": "2022-04-20T16:56:52.892Z"
   },
   {
    "duration": 21,
    "start_time": "2022-04-20T16:56:52.906Z"
   },
   {
    "duration": 12,
    "start_time": "2022-04-20T16:56:52.928Z"
   },
   {
    "duration": 5,
    "start_time": "2022-04-20T16:56:52.941Z"
   },
   {
    "duration": 5,
    "start_time": "2022-04-20T16:56:52.947Z"
   },
   {
    "duration": 4,
    "start_time": "2022-04-20T16:56:52.953Z"
   },
   {
    "duration": 7,
    "start_time": "2022-04-20T16:56:52.959Z"
   },
   {
    "duration": 5,
    "start_time": "2022-04-20T16:56:52.967Z"
   },
   {
    "duration": 6,
    "start_time": "2022-04-20T16:56:52.973Z"
   },
   {
    "duration": 43,
    "start_time": "2022-04-20T16:56:52.981Z"
   },
   {
    "duration": 13,
    "start_time": "2022-04-20T16:56:53.026Z"
   },
   {
    "duration": 4,
    "start_time": "2022-04-20T16:56:53.041Z"
   },
   {
    "duration": 5,
    "start_time": "2022-04-20T16:56:53.046Z"
   },
   {
    "duration": 5,
    "start_time": "2022-04-20T16:56:53.052Z"
   },
   {
    "duration": 13,
    "start_time": "2022-04-20T16:56:53.058Z"
   },
   {
    "duration": 5,
    "start_time": "2022-04-20T16:56:53.072Z"
   },
   {
    "duration": 4,
    "start_time": "2022-04-20T16:56:53.079Z"
   },
   {
    "duration": 40,
    "start_time": "2022-04-20T16:56:53.084Z"
   },
   {
    "duration": 4,
    "start_time": "2022-04-20T16:56:53.125Z"
   },
   {
    "duration": 6,
    "start_time": "2022-04-20T16:56:53.130Z"
   },
   {
    "duration": 11,
    "start_time": "2022-04-20T16:56:53.137Z"
   },
   {
    "duration": 5,
    "start_time": "2022-04-20T16:56:53.149Z"
   },
   {
    "duration": 7,
    "start_time": "2022-04-20T16:56:53.156Z"
   },
   {
    "duration": 6,
    "start_time": "2022-04-20T16:56:53.165Z"
   },
   {
    "duration": 6,
    "start_time": "2022-04-20T16:56:53.174Z"
   },
   {
    "duration": 12,
    "start_time": "2022-04-20T16:56:53.181Z"
   },
   {
    "duration": 40,
    "start_time": "2022-04-20T16:56:53.195Z"
   },
   {
    "duration": 18,
    "start_time": "2022-04-20T16:56:53.237Z"
   },
   {
    "duration": 15,
    "start_time": "2022-04-20T16:56:53.256Z"
   },
   {
    "duration": 6,
    "start_time": "2022-04-20T16:56:53.272Z"
   },
   {
    "duration": 16,
    "start_time": "2022-04-20T16:56:53.279Z"
   },
   {
    "duration": 33,
    "start_time": "2022-04-20T16:56:53.296Z"
   },
   {
    "duration": 11,
    "start_time": "2022-04-20T16:56:53.330Z"
   },
   {
    "duration": 3,
    "start_time": "2022-04-20T16:56:53.342Z"
   },
   {
    "duration": 12,
    "start_time": "2022-04-20T16:56:53.347Z"
   },
   {
    "duration": 4,
    "start_time": "2022-04-20T16:56:53.360Z"
   },
   {
    "duration": 5,
    "start_time": "2022-04-20T16:56:53.366Z"
   },
   {
    "duration": 9,
    "start_time": "2022-04-20T16:56:53.372Z"
   },
   {
    "duration": 12,
    "start_time": "2022-04-20T16:56:53.383Z"
   },
   {
    "duration": 31,
    "start_time": "2022-04-20T16:56:53.397Z"
   },
   {
    "duration": 5,
    "start_time": "2022-04-20T16:56:53.429Z"
   },
   {
    "duration": 7,
    "start_time": "2022-04-20T16:56:53.436Z"
   },
   {
    "duration": 11,
    "start_time": "2022-04-20T16:56:53.444Z"
   },
   {
    "duration": 10,
    "start_time": "2022-04-20T16:56:53.457Z"
   },
   {
    "duration": 7,
    "start_time": "2022-04-20T16:56:53.468Z"
   },
   {
    "duration": 17,
    "start_time": "2022-04-20T16:56:53.476Z"
   },
   {
    "duration": 31,
    "start_time": "2022-04-20T16:56:53.495Z"
   },
   {
    "duration": 14,
    "start_time": "2022-04-20T16:56:53.528Z"
   },
   {
    "duration": 7,
    "start_time": "2022-04-20T16:56:53.543Z"
   },
   {
    "duration": 14,
    "start_time": "2022-04-20T16:56:53.551Z"
   },
   {
    "duration": 10,
    "start_time": "2022-04-20T16:56:53.567Z"
   },
   {
    "duration": 438,
    "start_time": "2022-04-20T20:11:26.027Z"
   },
   {
    "duration": 20,
    "start_time": "2022-04-20T20:11:26.466Z"
   },
   {
    "duration": 12,
    "start_time": "2022-04-20T20:11:26.487Z"
   },
   {
    "duration": 25,
    "start_time": "2022-04-20T20:11:26.501Z"
   },
   {
    "duration": 6,
    "start_time": "2022-04-20T20:11:26.528Z"
   },
   {
    "duration": 12,
    "start_time": "2022-04-20T20:11:26.535Z"
   },
   {
    "duration": 7,
    "start_time": "2022-04-20T20:11:26.548Z"
   },
   {
    "duration": 4,
    "start_time": "2022-04-20T20:11:26.557Z"
   },
   {
    "duration": 8,
    "start_time": "2022-04-20T20:11:26.563Z"
   },
   {
    "duration": 8,
    "start_time": "2022-04-20T20:11:26.574Z"
   },
   {
    "duration": 14,
    "start_time": "2022-04-20T20:11:26.583Z"
   },
   {
    "duration": 27,
    "start_time": "2022-04-20T20:11:26.598Z"
   },
   {
    "duration": 7,
    "start_time": "2022-04-20T20:11:26.626Z"
   },
   {
    "duration": 13,
    "start_time": "2022-04-20T20:11:26.634Z"
   },
   {
    "duration": 4,
    "start_time": "2022-04-20T20:11:26.648Z"
   },
   {
    "duration": 5,
    "start_time": "2022-04-20T20:11:26.654Z"
   },
   {
    "duration": 7,
    "start_time": "2022-04-20T20:11:26.660Z"
   },
   {
    "duration": 13,
    "start_time": "2022-04-20T20:11:26.668Z"
   },
   {
    "duration": 5,
    "start_time": "2022-04-20T20:11:26.682Z"
   },
   {
    "duration": 36,
    "start_time": "2022-04-20T20:11:26.688Z"
   },
   {
    "duration": 6,
    "start_time": "2022-04-20T20:11:26.726Z"
   },
   {
    "duration": 3,
    "start_time": "2022-04-20T20:11:26.734Z"
   },
   {
    "duration": 7,
    "start_time": "2022-04-20T20:11:26.739Z"
   },
   {
    "duration": 10,
    "start_time": "2022-04-20T20:11:26.747Z"
   },
   {
    "duration": 5,
    "start_time": "2022-04-20T20:11:26.759Z"
   },
   {
    "duration": 5,
    "start_time": "2022-04-20T20:11:26.766Z"
   },
   {
    "duration": 5,
    "start_time": "2022-04-20T20:11:26.772Z"
   },
   {
    "duration": 4,
    "start_time": "2022-04-20T20:11:26.780Z"
   },
   {
    "duration": 43,
    "start_time": "2022-04-20T20:11:26.785Z"
   },
   {
    "duration": 16,
    "start_time": "2022-04-20T20:11:26.830Z"
   },
   {
    "duration": 17,
    "start_time": "2022-04-20T20:11:26.847Z"
   },
   {
    "duration": 15,
    "start_time": "2022-04-20T20:11:26.865Z"
   },
   {
    "duration": 6,
    "start_time": "2022-04-20T20:11:26.881Z"
   },
   {
    "duration": 44,
    "start_time": "2022-04-20T20:11:26.889Z"
   },
   {
    "duration": 6,
    "start_time": "2022-04-20T20:11:26.935Z"
   },
   {
    "duration": 15,
    "start_time": "2022-04-20T20:11:26.942Z"
   },
   {
    "duration": 7,
    "start_time": "2022-04-20T20:11:26.959Z"
   },
   {
    "duration": 32,
    "start_time": "2022-04-20T20:11:26.968Z"
   },
   {
    "duration": 8,
    "start_time": "2022-04-20T20:11:27.002Z"
   },
   {
    "duration": 16,
    "start_time": "2022-04-20T20:11:27.011Z"
   },
   {
    "duration": 31,
    "start_time": "2022-04-20T20:11:27.029Z"
   },
   {
    "duration": 12,
    "start_time": "2022-04-20T20:11:27.061Z"
   },
   {
    "duration": 8,
    "start_time": "2022-04-20T20:11:27.074Z"
   },
   {
    "duration": 27,
    "start_time": "2022-04-20T20:11:27.083Z"
   },
   {
    "duration": 16,
    "start_time": "2022-04-20T20:11:27.112Z"
   },
   {
    "duration": 17,
    "start_time": "2022-04-20T20:11:27.129Z"
   },
   {
    "duration": 11,
    "start_time": "2022-04-20T20:11:27.148Z"
   },
   {
    "duration": 15,
    "start_time": "2022-04-20T20:11:27.161Z"
   },
   {
    "duration": 21,
    "start_time": "2022-04-20T20:11:27.178Z"
   },
   {
    "duration": 5,
    "start_time": "2022-04-20T20:11:27.201Z"
   },
   {
    "duration": 22,
    "start_time": "2022-04-20T20:11:27.207Z"
   },
   {
    "duration": 13,
    "start_time": "2022-04-20T20:11:27.231Z"
   },
   {
    "duration": 18,
    "start_time": "2022-04-20T20:11:27.245Z"
   },
   {
    "duration": 13,
    "start_time": "2022-04-20T20:11:27.265Z"
   },
   {
    "duration": 8,
    "start_time": "2022-04-20T20:14:03.253Z"
   },
   {
    "duration": 46,
    "start_time": "2022-04-20T20:14:25.346Z"
   },
   {
    "duration": 12,
    "start_time": "2022-04-20T20:14:25.394Z"
   },
   {
    "duration": 15,
    "start_time": "2022-04-20T20:14:25.407Z"
   },
   {
    "duration": 47,
    "start_time": "2022-04-20T20:14:53.810Z"
   },
   {
    "duration": 13,
    "start_time": "2022-04-20T20:14:53.859Z"
   },
   {
    "duration": 15,
    "start_time": "2022-04-20T20:14:53.873Z"
   },
   {
    "duration": 34,
    "start_time": "2022-04-20T20:14:53.890Z"
   },
   {
    "duration": 5,
    "start_time": "2022-04-20T20:14:53.926Z"
   },
   {
    "duration": 20,
    "start_time": "2022-04-20T20:14:53.933Z"
   },
   {
    "duration": 5,
    "start_time": "2022-04-20T20:14:53.955Z"
   },
   {
    "duration": 5,
    "start_time": "2022-04-20T20:14:53.961Z"
   },
   {
    "duration": 8,
    "start_time": "2022-04-20T20:14:53.968Z"
   },
   {
    "duration": 5,
    "start_time": "2022-04-20T20:14:53.978Z"
   },
   {
    "duration": 6,
    "start_time": "2022-04-20T20:14:53.984Z"
   },
   {
    "duration": 35,
    "start_time": "2022-04-20T20:14:53.991Z"
   },
   {
    "duration": 6,
    "start_time": "2022-04-20T20:14:54.028Z"
   },
   {
    "duration": 13,
    "start_time": "2022-04-20T20:14:54.035Z"
   },
   {
    "duration": 4,
    "start_time": "2022-04-20T20:14:54.050Z"
   },
   {
    "duration": 7,
    "start_time": "2022-04-20T20:14:54.055Z"
   },
   {
    "duration": 10,
    "start_time": "2022-04-20T20:14:54.063Z"
   },
   {
    "duration": 13,
    "start_time": "2022-04-20T20:14:54.074Z"
   },
   {
    "duration": 5,
    "start_time": "2022-04-20T20:14:54.088Z"
   },
   {
    "duration": 32,
    "start_time": "2022-04-20T20:14:54.094Z"
   },
   {
    "duration": 4,
    "start_time": "2022-04-20T20:14:54.128Z"
   },
   {
    "duration": 9,
    "start_time": "2022-04-20T20:14:54.134Z"
   },
   {
    "duration": 6,
    "start_time": "2022-04-20T20:14:54.144Z"
   },
   {
    "duration": 14,
    "start_time": "2022-04-20T20:14:54.152Z"
   },
   {
    "duration": 6,
    "start_time": "2022-04-20T20:14:54.167Z"
   },
   {
    "duration": 4,
    "start_time": "2022-04-20T20:14:54.175Z"
   },
   {
    "duration": 6,
    "start_time": "2022-04-20T20:14:54.181Z"
   },
   {
    "duration": 4,
    "start_time": "2022-04-20T20:14:54.190Z"
   },
   {
    "duration": 37,
    "start_time": "2022-04-20T20:14:54.196Z"
   },
   {
    "duration": 19,
    "start_time": "2022-04-20T20:14:54.234Z"
   },
   {
    "duration": 16,
    "start_time": "2022-04-20T20:14:54.254Z"
   },
   {
    "duration": 15,
    "start_time": "2022-04-20T20:14:54.271Z"
   },
   {
    "duration": 6,
    "start_time": "2022-04-20T20:14:54.287Z"
   },
   {
    "duration": 41,
    "start_time": "2022-04-20T20:14:54.294Z"
   },
   {
    "duration": 8,
    "start_time": "2022-04-20T20:14:54.336Z"
   },
   {
    "duration": 10,
    "start_time": "2022-04-20T20:14:54.346Z"
   },
   {
    "duration": 8,
    "start_time": "2022-04-20T20:14:54.357Z"
   },
   {
    "duration": 15,
    "start_time": "2022-04-20T20:14:54.366Z"
   },
   {
    "duration": 9,
    "start_time": "2022-04-20T20:14:54.383Z"
   },
   {
    "duration": 6,
    "start_time": "2022-04-20T20:14:54.393Z"
   },
   {
    "duration": 10,
    "start_time": "2022-04-20T20:14:54.400Z"
   },
   {
    "duration": 19,
    "start_time": "2022-04-20T20:14:54.412Z"
   },
   {
    "duration": 9,
    "start_time": "2022-04-20T20:14:54.432Z"
   },
   {
    "duration": 5,
    "start_time": "2022-04-20T20:14:54.442Z"
   },
   {
    "duration": 7,
    "start_time": "2022-04-20T20:14:54.449Z"
   },
   {
    "duration": 13,
    "start_time": "2022-04-20T20:14:54.457Z"
   },
   {
    "duration": 11,
    "start_time": "2022-04-20T20:14:54.471Z"
   },
   {
    "duration": 6,
    "start_time": "2022-04-20T20:14:54.484Z"
   },
   {
    "duration": 47,
    "start_time": "2022-04-20T20:14:54.491Z"
   },
   {
    "duration": 5,
    "start_time": "2022-04-20T20:14:54.539Z"
   },
   {
    "duration": 15,
    "start_time": "2022-04-20T20:14:54.546Z"
   },
   {
    "duration": 7,
    "start_time": "2022-04-20T20:14:54.562Z"
   },
   {
    "duration": 16,
    "start_time": "2022-04-20T20:14:54.571Z"
   },
   {
    "duration": 35,
    "start_time": "2022-04-20T20:14:54.589Z"
   },
   {
    "duration": 7,
    "start_time": "2022-04-20T20:22:50.408Z"
   },
   {
    "duration": 4,
    "start_time": "2022-04-20T20:23:07.490Z"
   },
   {
    "duration": 15,
    "start_time": "2022-04-20T20:23:13.086Z"
   },
   {
    "duration": 8,
    "start_time": "2022-04-20T20:38:06.624Z"
   },
   {
    "duration": 8,
    "start_time": "2022-04-20T20:39:12.971Z"
   },
   {
    "duration": 8,
    "start_time": "2022-04-20T20:39:26.802Z"
   },
   {
    "duration": 7,
    "start_time": "2022-04-20T20:39:27.579Z"
   },
   {
    "duration": 6,
    "start_time": "2022-04-20T20:49:12.376Z"
   },
   {
    "duration": 10,
    "start_time": "2022-04-20T20:49:14.970Z"
   },
   {
    "duration": 59,
    "start_time": "2022-04-20T20:53:22.831Z"
   },
   {
    "duration": 41,
    "start_time": "2022-04-20T20:53:56.246Z"
   },
   {
    "duration": 453,
    "start_time": "2022-04-20T20:54:17.235Z"
   },
   {
    "duration": 19,
    "start_time": "2022-04-20T20:54:17.690Z"
   },
   {
    "duration": 18,
    "start_time": "2022-04-20T20:54:17.710Z"
   },
   {
    "duration": 13,
    "start_time": "2022-04-20T20:54:17.735Z"
   },
   {
    "duration": 8,
    "start_time": "2022-04-20T20:54:17.749Z"
   },
   {
    "duration": 13,
    "start_time": "2022-04-20T20:54:17.759Z"
   },
   {
    "duration": 6,
    "start_time": "2022-04-20T20:54:17.773Z"
   },
   {
    "duration": 5,
    "start_time": "2022-04-20T20:54:17.780Z"
   },
   {
    "duration": 3,
    "start_time": "2022-04-20T20:54:17.787Z"
   },
   {
    "duration": 6,
    "start_time": "2022-04-20T20:54:17.824Z"
   },
   {
    "duration": 14,
    "start_time": "2022-04-20T20:54:17.832Z"
   },
   {
    "duration": 9,
    "start_time": "2022-04-20T20:54:17.848Z"
   },
   {
    "duration": 5,
    "start_time": "2022-04-20T20:54:17.858Z"
   },
   {
    "duration": 14,
    "start_time": "2022-04-20T20:54:17.864Z"
   },
   {
    "duration": 4,
    "start_time": "2022-04-20T20:54:17.879Z"
   },
   {
    "duration": 4,
    "start_time": "2022-04-20T20:54:17.885Z"
   },
   {
    "duration": 5,
    "start_time": "2022-04-20T20:54:17.890Z"
   },
   {
    "duration": 42,
    "start_time": "2022-04-20T20:54:17.896Z"
   },
   {
    "duration": 7,
    "start_time": "2022-04-20T20:54:17.940Z"
   },
   {
    "duration": 6,
    "start_time": "2022-04-20T20:54:17.949Z"
   },
   {
    "duration": 6,
    "start_time": "2022-04-20T20:54:17.956Z"
   },
   {
    "duration": 5,
    "start_time": "2022-04-20T20:54:17.963Z"
   },
   {
    "duration": 6,
    "start_time": "2022-04-20T20:54:17.969Z"
   },
   {
    "duration": 11,
    "start_time": "2022-04-20T20:54:17.976Z"
   },
   {
    "duration": 44,
    "start_time": "2022-04-20T20:54:17.988Z"
   },
   {
    "duration": 5,
    "start_time": "2022-04-20T20:54:18.034Z"
   },
   {
    "duration": 5,
    "start_time": "2022-04-20T20:54:18.041Z"
   },
   {
    "duration": 4,
    "start_time": "2022-04-20T20:54:18.049Z"
   },
   {
    "duration": 10,
    "start_time": "2022-04-20T20:54:18.054Z"
   },
   {
    "duration": 16,
    "start_time": "2022-04-20T20:54:18.065Z"
   },
   {
    "duration": 15,
    "start_time": "2022-04-20T20:54:18.083Z"
   },
   {
    "duration": 47,
    "start_time": "2022-04-20T20:54:18.099Z"
   },
   {
    "duration": 5,
    "start_time": "2022-04-20T20:54:18.148Z"
   },
   {
    "duration": 17,
    "start_time": "2022-04-20T20:54:18.154Z"
   },
   {
    "duration": 6,
    "start_time": "2022-04-20T20:54:18.172Z"
   },
   {
    "duration": 8,
    "start_time": "2022-04-20T20:54:18.180Z"
   },
   {
    "duration": 12,
    "start_time": "2022-04-20T20:54:18.189Z"
   },
   {
    "duration": 48,
    "start_time": "2022-04-20T21:15:35.451Z"
   },
   {
    "duration": 13,
    "start_time": "2022-04-20T21:15:35.503Z"
   },
   {
    "duration": 13,
    "start_time": "2022-04-20T21:15:35.518Z"
   },
   {
    "duration": 11,
    "start_time": "2022-04-20T21:15:35.533Z"
   },
   {
    "duration": 5,
    "start_time": "2022-04-20T21:15:35.545Z"
   },
   {
    "duration": 17,
    "start_time": "2022-04-20T21:15:35.552Z"
   },
   {
    "duration": 6,
    "start_time": "2022-04-20T21:15:35.570Z"
   },
   {
    "duration": 6,
    "start_time": "2022-04-20T21:15:35.578Z"
   },
   {
    "duration": 5,
    "start_time": "2022-04-20T21:15:35.624Z"
   },
   {
    "duration": 6,
    "start_time": "2022-04-20T21:15:35.631Z"
   },
   {
    "duration": 5,
    "start_time": "2022-04-20T21:15:35.638Z"
   },
   {
    "duration": 9,
    "start_time": "2022-04-20T21:15:35.644Z"
   },
   {
    "duration": 4,
    "start_time": "2022-04-20T21:15:35.654Z"
   },
   {
    "duration": 12,
    "start_time": "2022-04-20T21:15:35.660Z"
   },
   {
    "duration": 5,
    "start_time": "2022-04-20T21:15:35.674Z"
   },
   {
    "duration": 8,
    "start_time": "2022-04-20T21:15:35.680Z"
   },
   {
    "duration": 5,
    "start_time": "2022-04-20T21:15:35.724Z"
   },
   {
    "duration": 12,
    "start_time": "2022-04-20T21:15:35.731Z"
   },
   {
    "duration": 7,
    "start_time": "2022-04-20T21:15:35.745Z"
   },
   {
    "duration": 5,
    "start_time": "2022-04-20T21:15:35.754Z"
   },
   {
    "duration": 5,
    "start_time": "2022-04-20T21:15:35.761Z"
   },
   {
    "duration": 5,
    "start_time": "2022-04-20T21:15:35.768Z"
   },
   {
    "duration": 49,
    "start_time": "2022-04-20T21:15:35.775Z"
   },
   {
    "duration": 12,
    "start_time": "2022-04-20T21:15:35.826Z"
   },
   {
    "duration": 5,
    "start_time": "2022-04-20T21:15:35.840Z"
   },
   {
    "duration": 5,
    "start_time": "2022-04-20T21:15:35.847Z"
   },
   {
    "duration": 8,
    "start_time": "2022-04-20T21:15:35.853Z"
   },
   {
    "duration": 7,
    "start_time": "2022-04-20T21:15:35.865Z"
   },
   {
    "duration": 14,
    "start_time": "2022-04-20T21:15:35.874Z"
   },
   {
    "duration": 42,
    "start_time": "2022-04-20T21:15:35.890Z"
   },
   {
    "duration": 18,
    "start_time": "2022-04-20T21:15:35.934Z"
   },
   {
    "duration": 17,
    "start_time": "2022-04-20T21:15:35.954Z"
   },
   {
    "duration": 6,
    "start_time": "2022-04-20T21:15:35.972Z"
   },
   {
    "duration": 19,
    "start_time": "2022-04-20T21:15:35.979Z"
   },
   {
    "duration": 7,
    "start_time": "2022-04-20T21:15:36.024Z"
   },
   {
    "duration": 9,
    "start_time": "2022-04-20T21:15:36.033Z"
   },
   {
    "duration": 5,
    "start_time": "2022-04-20T21:15:36.043Z"
   },
   {
    "duration": 13,
    "start_time": "2022-04-20T21:15:36.050Z"
   },
   {
    "duration": 5,
    "start_time": "2022-04-20T21:15:36.064Z"
   },
   {
    "duration": 5,
    "start_time": "2022-04-20T21:15:36.070Z"
   },
   {
    "duration": 11,
    "start_time": "2022-04-20T21:15:36.076Z"
   },
   {
    "duration": 35,
    "start_time": "2022-04-20T21:15:36.089Z"
   },
   {
    "duration": 8,
    "start_time": "2022-04-20T21:15:36.125Z"
   },
   {
    "duration": 5,
    "start_time": "2022-04-20T21:15:36.135Z"
   },
   {
    "duration": 6,
    "start_time": "2022-04-20T21:15:36.141Z"
   },
   {
    "duration": 11,
    "start_time": "2022-04-20T21:15:36.149Z"
   },
   {
    "duration": 11,
    "start_time": "2022-04-20T21:15:36.162Z"
   },
   {
    "duration": 6,
    "start_time": "2022-04-20T21:15:36.174Z"
   },
   {
    "duration": 53,
    "start_time": "2022-04-20T21:15:36.182Z"
   },
   {
    "duration": 5,
    "start_time": "2022-04-20T21:15:36.237Z"
   },
   {
    "duration": 15,
    "start_time": "2022-04-20T21:15:36.243Z"
   },
   {
    "duration": 7,
    "start_time": "2022-04-20T21:15:36.260Z"
   },
   {
    "duration": 21,
    "start_time": "2022-04-20T21:15:36.268Z"
   },
   {
    "duration": 11,
    "start_time": "2022-04-20T21:15:36.290Z"
   },
   {
    "duration": 16,
    "start_time": "2022-04-20T21:15:53.972Z"
   },
   {
    "duration": 56,
    "start_time": "2022-04-20T21:20:37.599Z"
   },
   {
    "duration": 13,
    "start_time": "2022-04-20T21:20:37.656Z"
   },
   {
    "duration": 14,
    "start_time": "2022-04-20T21:20:37.670Z"
   },
   {
    "duration": 40,
    "start_time": "2022-04-20T21:20:37.685Z"
   },
   {
    "duration": 5,
    "start_time": "2022-04-20T21:20:37.728Z"
   },
   {
    "duration": 18,
    "start_time": "2022-04-20T21:20:37.738Z"
   },
   {
    "duration": 6,
    "start_time": "2022-04-20T21:20:37.758Z"
   },
   {
    "duration": 6,
    "start_time": "2022-04-20T21:20:37.766Z"
   },
   {
    "duration": 5,
    "start_time": "2022-04-20T21:20:37.774Z"
   },
   {
    "duration": 4,
    "start_time": "2022-04-20T21:20:37.781Z"
   },
   {
    "duration": 44,
    "start_time": "2022-04-20T21:20:37.786Z"
   },
   {
    "duration": 7,
    "start_time": "2022-04-20T21:20:37.832Z"
   },
   {
    "duration": 8,
    "start_time": "2022-04-20T21:20:37.840Z"
   },
   {
    "duration": 13,
    "start_time": "2022-04-20T21:20:37.849Z"
   },
   {
    "duration": 5,
    "start_time": "2022-04-20T21:20:37.863Z"
   },
   {
    "duration": 4,
    "start_time": "2022-04-20T21:20:37.870Z"
   },
   {
    "duration": 5,
    "start_time": "2022-04-20T21:20:37.875Z"
   },
   {
    "duration": 12,
    "start_time": "2022-04-20T21:20:37.881Z"
   },
   {
    "duration": 40,
    "start_time": "2022-04-20T21:20:37.895Z"
   },
   {
    "duration": 7,
    "start_time": "2022-04-20T21:20:37.936Z"
   },
   {
    "duration": 5,
    "start_time": "2022-04-20T21:20:37.945Z"
   },
   {
    "duration": 6,
    "start_time": "2022-04-20T21:20:37.951Z"
   },
   {
    "duration": 6,
    "start_time": "2022-04-20T21:20:37.958Z"
   },
   {
    "duration": 11,
    "start_time": "2022-04-20T21:20:37.965Z"
   },
   {
    "duration": 8,
    "start_time": "2022-04-20T21:20:37.977Z"
   },
   {
    "duration": 7,
    "start_time": "2022-04-20T21:20:37.986Z"
   },
   {
    "duration": 6,
    "start_time": "2022-04-20T21:20:37.994Z"
   },
   {
    "duration": 8,
    "start_time": "2022-04-20T21:20:38.026Z"
   },
   {
    "duration": 14,
    "start_time": "2022-04-20T21:20:38.037Z"
   },
   {
    "duration": 19,
    "start_time": "2022-04-20T21:20:38.052Z"
   },
   {
    "duration": 15,
    "start_time": "2022-04-20T21:20:38.073Z"
   },
   {
    "duration": 14,
    "start_time": "2022-04-20T21:20:38.090Z"
   },
   {
    "duration": 20,
    "start_time": "2022-04-20T21:20:38.105Z"
   },
   {
    "duration": 23,
    "start_time": "2022-04-20T21:20:38.126Z"
   },
   {
    "duration": 8,
    "start_time": "2022-04-20T21:20:38.152Z"
   },
   {
    "duration": 10,
    "start_time": "2022-04-20T21:20:38.162Z"
   },
   {
    "duration": 22,
    "start_time": "2022-04-20T21:20:38.174Z"
   },
   {
    "duration": 24,
    "start_time": "2022-04-20T21:20:38.197Z"
   },
   {
    "duration": 30,
    "start_time": "2022-04-20T21:20:38.222Z"
   },
   {
    "duration": 20,
    "start_time": "2022-04-20T21:20:38.253Z"
   },
   {
    "duration": 24,
    "start_time": "2022-04-20T21:20:38.274Z"
   },
   {
    "duration": 50,
    "start_time": "2022-04-20T21:20:38.300Z"
   },
   {
    "duration": 26,
    "start_time": "2022-04-20T21:20:38.352Z"
   },
   {
    "duration": 36,
    "start_time": "2022-04-20T21:20:38.379Z"
   },
   {
    "duration": 47,
    "start_time": "2022-04-20T21:20:38.417Z"
   },
   {
    "duration": 24,
    "start_time": "2022-04-20T21:20:38.466Z"
   },
   {
    "duration": 42,
    "start_time": "2022-04-20T21:20:38.491Z"
   },
   {
    "duration": 18,
    "start_time": "2022-04-20T21:20:38.535Z"
   },
   {
    "duration": 27,
    "start_time": "2022-04-20T21:20:38.555Z"
   },
   {
    "duration": 6,
    "start_time": "2022-04-20T21:20:38.584Z"
   },
   {
    "duration": 19,
    "start_time": "2022-04-20T21:20:38.592Z"
   },
   {
    "duration": 37,
    "start_time": "2022-04-20T21:20:38.613Z"
   },
   {
    "duration": 44,
    "start_time": "2022-04-20T21:20:38.652Z"
   },
   {
    "duration": 14,
    "start_time": "2022-04-20T21:20:38.698Z"
   },
   {
    "duration": 448,
    "start_time": "2022-04-20T21:21:35.084Z"
   },
   {
    "duration": 21,
    "start_time": "2022-04-20T21:21:35.534Z"
   },
   {
    "duration": 15,
    "start_time": "2022-04-20T21:21:35.559Z"
   },
   {
    "duration": 14,
    "start_time": "2022-04-20T21:21:35.576Z"
   },
   {
    "duration": 5,
    "start_time": "2022-04-20T21:21:35.592Z"
   },
   {
    "duration": 14,
    "start_time": "2022-04-20T21:21:35.624Z"
   },
   {
    "duration": 4,
    "start_time": "2022-04-20T21:21:35.640Z"
   },
   {
    "duration": 9,
    "start_time": "2022-04-20T21:21:35.646Z"
   },
   {
    "duration": 4,
    "start_time": "2022-04-20T21:21:35.657Z"
   },
   {
    "duration": 6,
    "start_time": "2022-04-20T21:21:35.663Z"
   },
   {
    "duration": 5,
    "start_time": "2022-04-20T21:21:35.671Z"
   },
   {
    "duration": 11,
    "start_time": "2022-04-20T21:21:35.678Z"
   },
   {
    "duration": 36,
    "start_time": "2022-04-20T21:21:35.690Z"
   },
   {
    "duration": 13,
    "start_time": "2022-04-20T21:21:35.728Z"
   },
   {
    "duration": 11,
    "start_time": "2022-04-20T21:21:35.743Z"
   },
   {
    "duration": 11,
    "start_time": "2022-04-20T21:21:35.755Z"
   },
   {
    "duration": 8,
    "start_time": "2022-04-20T21:21:35.768Z"
   },
   {
    "duration": 15,
    "start_time": "2022-04-20T21:21:35.777Z"
   },
   {
    "duration": 5,
    "start_time": "2022-04-20T21:21:35.794Z"
   },
   {
    "duration": 23,
    "start_time": "2022-04-20T21:21:35.801Z"
   },
   {
    "duration": 5,
    "start_time": "2022-04-20T21:21:35.826Z"
   },
   {
    "duration": 6,
    "start_time": "2022-04-20T21:21:35.833Z"
   },
   {
    "duration": 5,
    "start_time": "2022-04-20T21:21:35.840Z"
   },
   {
    "duration": 11,
    "start_time": "2022-04-20T21:21:35.847Z"
   },
   {
    "duration": 6,
    "start_time": "2022-04-20T21:21:35.859Z"
   },
   {
    "duration": 13,
    "start_time": "2022-04-20T21:21:35.866Z"
   },
   {
    "duration": 5,
    "start_time": "2022-04-20T21:21:35.883Z"
   },
   {
    "duration": 5,
    "start_time": "2022-04-20T21:21:35.889Z"
   },
   {
    "duration": 40,
    "start_time": "2022-04-20T21:21:35.895Z"
   },
   {
    "duration": 18,
    "start_time": "2022-04-20T21:21:35.936Z"
   },
   {
    "duration": 17,
    "start_time": "2022-04-20T21:21:35.956Z"
   },
   {
    "duration": 15,
    "start_time": "2022-04-20T21:21:35.974Z"
   },
   {
    "duration": 6,
    "start_time": "2022-04-20T21:21:35.991Z"
   },
   {
    "duration": 38,
    "start_time": "2022-04-20T21:21:35.998Z"
   },
   {
    "duration": 7,
    "start_time": "2022-04-20T21:21:36.038Z"
   },
   {
    "duration": 9,
    "start_time": "2022-04-20T21:21:36.047Z"
   },
   {
    "duration": 9,
    "start_time": "2022-04-20T21:21:36.057Z"
   },
   {
    "duration": 11,
    "start_time": "2022-04-20T21:21:36.067Z"
   },
   {
    "duration": 7,
    "start_time": "2022-04-20T21:21:36.079Z"
   },
   {
    "duration": 5,
    "start_time": "2022-04-20T21:21:36.087Z"
   },
   {
    "duration": 34,
    "start_time": "2022-04-20T21:21:36.094Z"
   },
   {
    "duration": 9,
    "start_time": "2022-04-20T21:21:36.130Z"
   },
   {
    "duration": 8,
    "start_time": "2022-04-20T21:21:36.141Z"
   },
   {
    "duration": 5,
    "start_time": "2022-04-20T21:21:36.151Z"
   },
   {
    "duration": 6,
    "start_time": "2022-04-20T21:21:36.157Z"
   },
   {
    "duration": 17,
    "start_time": "2022-04-20T21:21:36.164Z"
   },
   {
    "duration": 10,
    "start_time": "2022-04-20T21:21:36.182Z"
   },
   {
    "duration": 8,
    "start_time": "2022-04-20T21:21:36.194Z"
   },
   {
    "duration": 35,
    "start_time": "2022-04-20T21:21:36.203Z"
   },
   {
    "duration": 4,
    "start_time": "2022-04-20T21:21:36.239Z"
   },
   {
    "duration": 13,
    "start_time": "2022-04-20T21:21:36.245Z"
   },
   {
    "duration": 6,
    "start_time": "2022-04-20T21:21:36.259Z"
   },
   {
    "duration": 20,
    "start_time": "2022-04-20T21:21:36.266Z"
   },
   {
    "duration": 36,
    "start_time": "2022-04-20T21:21:36.287Z"
   },
   {
    "duration": 54,
    "start_time": "2022-04-20T21:26:47.858Z"
   },
   {
    "duration": 54,
    "start_time": "2022-04-20T21:29:46.630Z"
   },
   {
    "duration": 12,
    "start_time": "2022-04-20T21:29:46.686Z"
   },
   {
    "duration": 32,
    "start_time": "2022-04-20T21:29:46.699Z"
   },
   {
    "duration": 14,
    "start_time": "2022-04-20T21:29:46.733Z"
   },
   {
    "duration": 5,
    "start_time": "2022-04-20T21:29:46.748Z"
   },
   {
    "duration": 15,
    "start_time": "2022-04-20T21:29:46.755Z"
   },
   {
    "duration": 4,
    "start_time": "2022-04-20T21:29:46.772Z"
   },
   {
    "duration": 6,
    "start_time": "2022-04-20T21:29:46.777Z"
   },
   {
    "duration": 41,
    "start_time": "2022-04-20T21:29:46.784Z"
   },
   {
    "duration": 4,
    "start_time": "2022-04-20T21:29:46.828Z"
   },
   {
    "duration": 6,
    "start_time": "2022-04-20T21:29:46.833Z"
   },
   {
    "duration": 5,
    "start_time": "2022-04-20T21:29:46.841Z"
   },
   {
    "duration": 5,
    "start_time": "2022-04-20T21:29:46.847Z"
   },
   {
    "duration": 14,
    "start_time": "2022-04-20T21:29:46.854Z"
   },
   {
    "duration": 5,
    "start_time": "2022-04-20T21:29:46.870Z"
   },
   {
    "duration": 6,
    "start_time": "2022-04-20T21:29:46.876Z"
   },
   {
    "duration": 42,
    "start_time": "2022-04-20T21:29:46.884Z"
   },
   {
    "duration": 15,
    "start_time": "2022-04-20T21:29:46.927Z"
   },
   {
    "duration": 6,
    "start_time": "2022-04-20T21:29:46.943Z"
   },
   {
    "duration": 5,
    "start_time": "2022-04-20T21:29:46.950Z"
   },
   {
    "duration": 5,
    "start_time": "2022-04-20T21:29:46.956Z"
   },
   {
    "duration": 6,
    "start_time": "2022-04-20T21:29:46.962Z"
   },
   {
    "duration": 5,
    "start_time": "2022-04-20T21:29:46.970Z"
   },
   {
    "duration": 11,
    "start_time": "2022-04-20T21:29:46.976Z"
   },
   {
    "duration": 5,
    "start_time": "2022-04-20T21:29:47.024Z"
   },
   {
    "duration": 7,
    "start_time": "2022-04-20T21:29:47.031Z"
   },
   {
    "duration": 5,
    "start_time": "2022-04-20T21:29:47.039Z"
   },
   {
    "duration": 4,
    "start_time": "2022-04-20T21:29:47.047Z"
   },
   {
    "duration": 10,
    "start_time": "2022-04-20T21:29:47.052Z"
   },
   {
    "duration": 17,
    "start_time": "2022-04-20T21:29:47.063Z"
   },
   {
    "duration": 47,
    "start_time": "2022-04-20T21:29:47.082Z"
   },
   {
    "duration": 17,
    "start_time": "2022-04-20T21:29:47.131Z"
   },
   {
    "duration": 7,
    "start_time": "2022-04-20T21:29:47.149Z"
   },
   {
    "duration": 15,
    "start_time": "2022-04-20T21:29:47.158Z"
   },
   {
    "duration": 7,
    "start_time": "2022-04-20T21:29:47.175Z"
   },
   {
    "duration": 41,
    "start_time": "2022-04-20T21:29:47.184Z"
   },
   {
    "duration": 7,
    "start_time": "2022-04-20T21:29:47.227Z"
   },
   {
    "duration": 42,
    "start_time": "2022-04-20T21:30:17.100Z"
   },
   {
    "duration": 433,
    "start_time": "2022-04-20T21:30:21.947Z"
   },
   {
    "duration": 19,
    "start_time": "2022-04-20T21:30:22.382Z"
   },
   {
    "duration": 22,
    "start_time": "2022-04-20T21:30:22.402Z"
   },
   {
    "duration": 14,
    "start_time": "2022-04-20T21:30:22.426Z"
   },
   {
    "duration": 5,
    "start_time": "2022-04-20T21:30:22.442Z"
   },
   {
    "duration": 13,
    "start_time": "2022-04-20T21:30:22.449Z"
   },
   {
    "duration": 5,
    "start_time": "2022-04-20T21:30:22.464Z"
   },
   {
    "duration": 6,
    "start_time": "2022-04-20T21:30:22.470Z"
   },
   {
    "duration": 4,
    "start_time": "2022-04-20T21:30:22.477Z"
   },
   {
    "duration": 5,
    "start_time": "2022-04-20T21:30:22.523Z"
   },
   {
    "duration": 6,
    "start_time": "2022-04-20T21:30:22.530Z"
   },
   {
    "duration": 7,
    "start_time": "2022-04-20T21:30:22.538Z"
   },
   {
    "duration": 5,
    "start_time": "2022-04-20T21:30:22.546Z"
   },
   {
    "duration": 13,
    "start_time": "2022-04-20T21:30:22.553Z"
   },
   {
    "duration": 4,
    "start_time": "2022-04-20T21:30:22.567Z"
   },
   {
    "duration": 4,
    "start_time": "2022-04-20T21:30:22.573Z"
   },
   {
    "duration": 8,
    "start_time": "2022-04-20T21:30:22.578Z"
   },
   {
    "duration": 44,
    "start_time": "2022-04-20T21:30:22.587Z"
   },
   {
    "duration": 7,
    "start_time": "2022-04-20T21:30:22.633Z"
   },
   {
    "duration": 10,
    "start_time": "2022-04-20T21:30:22.641Z"
   },
   {
    "duration": 6,
    "start_time": "2022-04-20T21:30:22.652Z"
   },
   {
    "duration": 5,
    "start_time": "2022-04-20T21:30:22.659Z"
   },
   {
    "duration": 4,
    "start_time": "2022-04-20T21:30:22.666Z"
   },
   {
    "duration": 9,
    "start_time": "2022-04-20T21:30:22.672Z"
   },
   {
    "duration": 5,
    "start_time": "2022-04-20T21:30:22.683Z"
   },
   {
    "duration": 38,
    "start_time": "2022-04-20T21:30:22.690Z"
   },
   {
    "duration": 8,
    "start_time": "2022-04-20T21:30:22.729Z"
   },
   {
    "duration": 5,
    "start_time": "2022-04-20T21:30:22.741Z"
   },
   {
    "duration": 12,
    "start_time": "2022-04-20T21:30:22.748Z"
   },
   {
    "duration": 16,
    "start_time": "2022-04-20T21:30:22.762Z"
   },
   {
    "duration": 16,
    "start_time": "2022-04-20T21:30:22.779Z"
   },
   {
    "duration": 17,
    "start_time": "2022-04-20T21:30:22.823Z"
   },
   {
    "duration": 7,
    "start_time": "2022-04-20T21:30:22.842Z"
   },
   {
    "duration": 16,
    "start_time": "2022-04-20T21:30:22.851Z"
   },
   {
    "duration": 8,
    "start_time": "2022-04-20T21:30:22.868Z"
   },
   {
    "duration": 8,
    "start_time": "2022-04-20T21:30:22.877Z"
   },
   {
    "duration": 41,
    "start_time": "2022-04-20T21:30:22.887Z"
   },
   {
    "duration": 433,
    "start_time": "2022-04-20T21:32:48.081Z"
   },
   {
    "duration": 24,
    "start_time": "2022-04-20T21:32:48.516Z"
   },
   {
    "duration": 14,
    "start_time": "2022-04-20T21:32:48.542Z"
   },
   {
    "duration": 13,
    "start_time": "2022-04-20T21:32:48.559Z"
   },
   {
    "duration": 5,
    "start_time": "2022-04-20T21:32:48.575Z"
   },
   {
    "duration": 19,
    "start_time": "2022-04-20T21:32:48.581Z"
   },
   {
    "duration": 27,
    "start_time": "2022-04-20T21:32:48.602Z"
   },
   {
    "duration": 12,
    "start_time": "2022-04-20T21:32:48.632Z"
   },
   {
    "duration": 8,
    "start_time": "2022-04-20T21:32:48.645Z"
   },
   {
    "duration": 30,
    "start_time": "2022-04-20T21:32:48.656Z"
   },
   {
    "duration": 6,
    "start_time": "2022-04-20T21:32:48.687Z"
   },
   {
    "duration": 7,
    "start_time": "2022-04-20T21:32:48.694Z"
   },
   {
    "duration": 6,
    "start_time": "2022-04-20T21:32:48.702Z"
   },
   {
    "duration": 19,
    "start_time": "2022-04-20T21:32:48.710Z"
   },
   {
    "duration": 6,
    "start_time": "2022-04-20T21:32:48.731Z"
   },
   {
    "duration": 9,
    "start_time": "2022-04-20T21:32:48.739Z"
   },
   {
    "duration": 5,
    "start_time": "2022-04-20T21:32:48.750Z"
   },
   {
    "duration": 19,
    "start_time": "2022-04-20T21:32:48.757Z"
   },
   {
    "duration": 8,
    "start_time": "2022-04-20T21:32:48.778Z"
   },
   {
    "duration": 37,
    "start_time": "2022-04-20T21:32:48.788Z"
   },
   {
    "duration": 7,
    "start_time": "2022-04-20T21:32:48.830Z"
   },
   {
    "duration": 11,
    "start_time": "2022-04-20T21:32:48.839Z"
   },
   {
    "duration": 7,
    "start_time": "2022-04-20T21:32:48.852Z"
   },
   {
    "duration": 16,
    "start_time": "2022-04-20T21:32:48.860Z"
   },
   {
    "duration": 8,
    "start_time": "2022-04-20T21:32:48.878Z"
   },
   {
    "duration": 6,
    "start_time": "2022-04-20T21:32:48.887Z"
   },
   {
    "duration": 34,
    "start_time": "2022-04-20T21:32:48.895Z"
   },
   {
    "duration": 5,
    "start_time": "2022-04-20T21:32:48.939Z"
   },
   {
    "duration": 13,
    "start_time": "2022-04-20T21:32:48.945Z"
   },
   {
    "duration": 19,
    "start_time": "2022-04-20T21:32:48.960Z"
   },
   {
    "duration": 17,
    "start_time": "2022-04-20T21:32:48.981Z"
   },
   {
    "duration": 42,
    "start_time": "2022-04-20T21:32:49.000Z"
   },
   {
    "duration": 7,
    "start_time": "2022-04-20T21:32:49.043Z"
   },
   {
    "duration": 16,
    "start_time": "2022-04-20T21:32:49.052Z"
   },
   {
    "duration": 8,
    "start_time": "2022-04-20T21:32:49.070Z"
   },
   {
    "duration": 8,
    "start_time": "2022-04-20T21:32:49.080Z"
   },
   {
    "duration": 8,
    "start_time": "2022-04-20T21:32:49.089Z"
   },
   {
    "duration": 7,
    "start_time": "2022-04-20T21:32:49.098Z"
   },
   {
    "duration": 22,
    "start_time": "2022-04-20T21:32:49.106Z"
   },
   {
    "duration": 21,
    "start_time": "2022-04-20T21:32:49.130Z"
   },
   {
    "duration": 10,
    "start_time": "2022-04-20T21:32:49.153Z"
   },
   {
    "duration": 8,
    "start_time": "2022-04-20T21:32:49.165Z"
   },
   {
    "duration": 6,
    "start_time": "2022-04-20T21:32:49.174Z"
   },
   {
    "duration": 22,
    "start_time": "2022-04-20T21:32:49.182Z"
   },
   {
    "duration": 22,
    "start_time": "2022-04-20T21:32:49.206Z"
   },
   {
    "duration": 27,
    "start_time": "2022-04-20T21:32:49.229Z"
   },
   {
    "duration": 8,
    "start_time": "2022-04-20T21:32:49.258Z"
   },
   {
    "duration": 20,
    "start_time": "2022-04-20T21:32:49.267Z"
   },
   {
    "duration": 15,
    "start_time": "2022-04-20T21:32:49.289Z"
   },
   {
    "duration": 52,
    "start_time": "2022-04-20T21:36:05.322Z"
   },
   {
    "duration": 13,
    "start_time": "2022-04-20T21:36:05.376Z"
   },
   {
    "duration": 36,
    "start_time": "2022-04-20T21:36:05.390Z"
   },
   {
    "duration": 17,
    "start_time": "2022-04-20T21:36:05.428Z"
   },
   {
    "duration": 4,
    "start_time": "2022-04-20T21:36:05.447Z"
   },
   {
    "duration": 15,
    "start_time": "2022-04-20T21:36:05.453Z"
   },
   {
    "duration": 5,
    "start_time": "2022-04-20T21:36:05.469Z"
   },
   {
    "duration": 52,
    "start_time": "2022-04-20T21:36:05.475Z"
   },
   {
    "duration": 7,
    "start_time": "2022-04-20T21:36:05.529Z"
   },
   {
    "duration": 14,
    "start_time": "2022-04-20T21:36:05.540Z"
   },
   {
    "duration": 14,
    "start_time": "2022-04-20T21:36:05.556Z"
   },
   {
    "duration": 5,
    "start_time": "2022-04-20T21:36:05.572Z"
   },
   {
    "duration": 5,
    "start_time": "2022-04-20T21:36:05.579Z"
   },
   {
    "duration": 15,
    "start_time": "2022-04-20T21:36:05.586Z"
   },
   {
    "duration": 24,
    "start_time": "2022-04-20T21:36:05.603Z"
   },
   {
    "duration": 5,
    "start_time": "2022-04-20T21:36:05.631Z"
   },
   {
    "duration": 13,
    "start_time": "2022-04-20T21:36:05.638Z"
   },
   {
    "duration": 32,
    "start_time": "2022-04-20T21:36:05.653Z"
   },
   {
    "duration": 9,
    "start_time": "2022-04-20T21:36:05.686Z"
   },
   {
    "duration": 13,
    "start_time": "2022-04-20T21:36:05.697Z"
   },
   {
    "duration": 21,
    "start_time": "2022-04-20T21:36:05.712Z"
   },
   {
    "duration": 16,
    "start_time": "2022-04-20T21:36:05.735Z"
   },
   {
    "duration": 22,
    "start_time": "2022-04-20T21:36:05.753Z"
   },
   {
    "duration": 22,
    "start_time": "2022-04-20T21:36:05.778Z"
   },
   {
    "duration": 18,
    "start_time": "2022-04-20T21:36:05.802Z"
   },
   {
    "duration": 24,
    "start_time": "2022-04-20T21:36:05.822Z"
   },
   {
    "duration": 20,
    "start_time": "2022-04-20T21:36:05.848Z"
   },
   {
    "duration": 22,
    "start_time": "2022-04-20T21:36:05.872Z"
   },
   {
    "duration": 43,
    "start_time": "2022-04-20T21:36:05.895Z"
   },
   {
    "duration": 23,
    "start_time": "2022-04-20T21:36:05.940Z"
   },
   {
    "duration": 21,
    "start_time": "2022-04-20T21:36:05.964Z"
   },
   {
    "duration": 16,
    "start_time": "2022-04-20T21:36:05.987Z"
   },
   {
    "duration": 9,
    "start_time": "2022-04-20T21:36:06.004Z"
   },
   {
    "duration": 36,
    "start_time": "2022-04-20T21:36:06.014Z"
   },
   {
    "duration": 20,
    "start_time": "2022-04-20T21:36:06.052Z"
   },
   {
    "duration": 14,
    "start_time": "2022-04-20T21:36:06.073Z"
   },
   {
    "duration": 16,
    "start_time": "2022-04-20T21:36:06.089Z"
   },
   {
    "duration": 470,
    "start_time": "2022-04-20T21:40:50.322Z"
   },
   {
    "duration": 19,
    "start_time": "2022-04-20T21:40:50.793Z"
   },
   {
    "duration": 21,
    "start_time": "2022-04-20T21:40:50.813Z"
   },
   {
    "duration": 22,
    "start_time": "2022-04-20T21:40:50.838Z"
   },
   {
    "duration": 5,
    "start_time": "2022-04-20T21:40:50.862Z"
   },
   {
    "duration": 12,
    "start_time": "2022-04-20T21:40:50.868Z"
   },
   {
    "duration": 5,
    "start_time": "2022-04-20T21:40:50.882Z"
   },
   {
    "duration": 6,
    "start_time": "2022-04-20T21:40:50.888Z"
   },
   {
    "duration": 33,
    "start_time": "2022-04-20T21:40:50.895Z"
   },
   {
    "duration": 18,
    "start_time": "2022-04-20T21:40:50.932Z"
   },
   {
    "duration": 5,
    "start_time": "2022-04-20T21:40:50.952Z"
   },
   {
    "duration": 10,
    "start_time": "2022-04-20T21:40:50.959Z"
   },
   {
    "duration": 6,
    "start_time": "2022-04-20T21:40:50.971Z"
   },
   {
    "duration": 15,
    "start_time": "2022-04-20T21:40:50.979Z"
   },
   {
    "duration": 31,
    "start_time": "2022-04-20T21:40:50.996Z"
   },
   {
    "duration": 17,
    "start_time": "2022-04-20T21:40:51.029Z"
   },
   {
    "duration": 7,
    "start_time": "2022-04-20T21:40:51.048Z"
   },
   {
    "duration": 13,
    "start_time": "2022-04-20T21:40:51.057Z"
   },
   {
    "duration": 7,
    "start_time": "2022-04-20T21:40:51.072Z"
   },
   {
    "duration": 6,
    "start_time": "2022-04-20T21:40:51.081Z"
   },
   {
    "duration": 7,
    "start_time": "2022-04-20T21:40:51.088Z"
   },
   {
    "duration": 6,
    "start_time": "2022-04-20T21:40:51.128Z"
   },
   {
    "duration": 13,
    "start_time": "2022-04-20T21:40:51.137Z"
   },
   {
    "duration": 15,
    "start_time": "2022-04-20T21:40:51.152Z"
   },
   {
    "duration": 7,
    "start_time": "2022-04-20T21:40:51.168Z"
   },
   {
    "duration": 7,
    "start_time": "2022-04-20T21:40:51.177Z"
   },
   {
    "duration": 7,
    "start_time": "2022-04-20T21:40:51.185Z"
   },
   {
    "duration": 7,
    "start_time": "2022-04-20T21:40:51.195Z"
   },
   {
    "duration": 28,
    "start_time": "2022-04-20T21:40:51.203Z"
   },
   {
    "duration": 22,
    "start_time": "2022-04-20T21:40:51.233Z"
   },
   {
    "duration": 18,
    "start_time": "2022-04-20T21:40:51.256Z"
   },
   {
    "duration": 15,
    "start_time": "2022-04-20T21:40:51.276Z"
   },
   {
    "duration": 6,
    "start_time": "2022-04-20T21:40:51.292Z"
   },
   {
    "duration": 49,
    "start_time": "2022-04-20T21:40:51.300Z"
   },
   {
    "duration": 10,
    "start_time": "2022-04-20T21:40:51.350Z"
   },
   {
    "duration": 8,
    "start_time": "2022-04-20T21:40:51.362Z"
   },
   {
    "duration": 7,
    "start_time": "2022-04-20T21:40:51.371Z"
   },
   {
    "duration": 82,
    "start_time": "2022-04-20T21:40:51.380Z"
   },
   {
    "duration": 0,
    "start_time": "2022-04-20T21:40:51.464Z"
   },
   {
    "duration": 0,
    "start_time": "2022-04-20T21:40:51.464Z"
   },
   {
    "duration": 0,
    "start_time": "2022-04-20T21:40:51.466Z"
   },
   {
    "duration": 0,
    "start_time": "2022-04-20T21:40:51.467Z"
   },
   {
    "duration": 0,
    "start_time": "2022-04-20T21:40:51.467Z"
   },
   {
    "duration": 0,
    "start_time": "2022-04-20T21:40:51.469Z"
   },
   {
    "duration": 0,
    "start_time": "2022-04-20T21:40:51.469Z"
   },
   {
    "duration": 0,
    "start_time": "2022-04-20T21:40:51.470Z"
   },
   {
    "duration": 0,
    "start_time": "2022-04-20T21:40:51.471Z"
   },
   {
    "duration": 0,
    "start_time": "2022-04-20T21:40:51.472Z"
   },
   {
    "duration": 0,
    "start_time": "2022-04-20T21:40:51.473Z"
   },
   {
    "duration": 0,
    "start_time": "2022-04-20T21:40:51.474Z"
   },
   {
    "duration": 417,
    "start_time": "2022-04-21T07:05:49.792Z"
   },
   {
    "duration": 19,
    "start_time": "2022-04-21T07:05:50.211Z"
   },
   {
    "duration": 20,
    "start_time": "2022-04-21T07:05:50.231Z"
   },
   {
    "duration": 13,
    "start_time": "2022-04-21T07:05:50.253Z"
   },
   {
    "duration": 7,
    "start_time": "2022-04-21T07:05:50.267Z"
   },
   {
    "duration": 14,
    "start_time": "2022-04-21T07:05:50.275Z"
   },
   {
    "duration": 7,
    "start_time": "2022-04-21T07:05:50.290Z"
   },
   {
    "duration": 7,
    "start_time": "2022-04-21T07:05:50.298Z"
   },
   {
    "duration": 45,
    "start_time": "2022-04-21T07:05:50.306Z"
   },
   {
    "duration": 7,
    "start_time": "2022-04-21T07:05:50.354Z"
   },
   {
    "duration": 7,
    "start_time": "2022-04-21T07:05:50.362Z"
   },
   {
    "duration": 9,
    "start_time": "2022-04-21T07:05:50.371Z"
   },
   {
    "duration": 5,
    "start_time": "2022-04-21T07:05:50.383Z"
   },
   {
    "duration": 14,
    "start_time": "2022-04-21T07:05:50.390Z"
   },
   {
    "duration": 43,
    "start_time": "2022-04-21T07:05:50.406Z"
   },
   {
    "duration": 5,
    "start_time": "2022-04-21T07:05:50.451Z"
   },
   {
    "duration": 6,
    "start_time": "2022-04-21T07:05:50.457Z"
   },
   {
    "duration": 14,
    "start_time": "2022-04-21T07:05:50.465Z"
   },
   {
    "duration": 6,
    "start_time": "2022-04-21T07:05:50.480Z"
   },
   {
    "duration": 9,
    "start_time": "2022-04-21T07:05:50.488Z"
   },
   {
    "duration": 6,
    "start_time": "2022-04-21T07:05:50.499Z"
   },
   {
    "duration": 6,
    "start_time": "2022-04-21T07:05:50.547Z"
   },
   {
    "duration": 7,
    "start_time": "2022-04-21T07:05:50.555Z"
   },
   {
    "duration": 12,
    "start_time": "2022-04-21T07:05:50.564Z"
   },
   {
    "duration": 9,
    "start_time": "2022-04-21T07:05:50.577Z"
   },
   {
    "duration": 7,
    "start_time": "2022-04-21T07:05:50.588Z"
   },
   {
    "duration": 9,
    "start_time": "2022-04-21T07:05:50.597Z"
   },
   {
    "duration": 39,
    "start_time": "2022-04-21T07:05:50.612Z"
   },
   {
    "duration": 17,
    "start_time": "2022-04-21T07:05:50.653Z"
   },
   {
    "duration": 21,
    "start_time": "2022-04-21T07:05:50.673Z"
   },
   {
    "duration": 26,
    "start_time": "2022-04-21T07:05:50.696Z"
   },
   {
    "duration": 38,
    "start_time": "2022-04-21T07:05:50.724Z"
   },
   {
    "duration": 7,
    "start_time": "2022-04-21T07:05:50.763Z"
   },
   {
    "duration": 18,
    "start_time": "2022-04-21T07:05:50.772Z"
   },
   {
    "duration": 9,
    "start_time": "2022-04-21T07:05:50.791Z"
   },
   {
    "duration": 10,
    "start_time": "2022-04-21T07:05:50.802Z"
   },
   {
    "duration": 40,
    "start_time": "2022-04-21T07:05:50.814Z"
   },
   {
    "duration": 5,
    "start_time": "2022-04-21T07:05:50.856Z"
   },
   {
    "duration": 9,
    "start_time": "2022-04-21T07:05:50.863Z"
   },
   {
    "duration": 17,
    "start_time": "2022-04-21T07:05:50.873Z"
   },
   {
    "duration": 13,
    "start_time": "2022-04-21T07:05:50.892Z"
   },
   {
    "duration": 12,
    "start_time": "2022-04-21T07:05:50.906Z"
   },
   {
    "duration": 5,
    "start_time": "2022-04-21T07:05:50.920Z"
   },
   {
    "duration": 22,
    "start_time": "2022-04-21T07:05:50.926Z"
   },
   {
    "duration": 12,
    "start_time": "2022-04-21T07:05:50.950Z"
   },
   {
    "duration": 12,
    "start_time": "2022-04-21T07:05:50.963Z"
   },
   {
    "duration": 6,
    "start_time": "2022-04-21T07:05:50.977Z"
   },
   {
    "duration": 22,
    "start_time": "2022-04-21T07:05:50.985Z"
   },
   {
    "duration": 52,
    "start_time": "2022-04-21T07:05:51.008Z"
   },
   {
    "duration": 1474,
    "start_time": "2022-04-21T09:33:29.060Z"
   },
   {
    "duration": 52,
    "start_time": "2022-04-21T09:33:40.158Z"
   },
   {
    "duration": 12,
    "start_time": "2022-04-21T09:33:40.212Z"
   },
   {
    "duration": 28,
    "start_time": "2022-04-21T09:33:40.226Z"
   },
   {
    "duration": 17,
    "start_time": "2022-04-21T09:33:40.256Z"
   },
   {
    "duration": 5,
    "start_time": "2022-04-21T09:33:40.275Z"
   },
   {
    "duration": 17,
    "start_time": "2022-04-21T09:33:40.282Z"
   },
   {
    "duration": 5,
    "start_time": "2022-04-21T09:33:40.301Z"
   },
   {
    "duration": 8,
    "start_time": "2022-04-21T09:33:40.307Z"
   },
   {
    "duration": 33,
    "start_time": "2022-04-21T09:33:40.316Z"
   },
   {
    "duration": 4,
    "start_time": "2022-04-21T09:33:40.352Z"
   },
   {
    "duration": 6,
    "start_time": "2022-04-21T09:33:40.357Z"
   },
   {
    "duration": 5,
    "start_time": "2022-04-21T09:33:40.364Z"
   },
   {
    "duration": 4,
    "start_time": "2022-04-21T09:33:40.370Z"
   },
   {
    "duration": 11,
    "start_time": "2022-04-21T09:33:40.376Z"
   },
   {
    "duration": 5,
    "start_time": "2022-04-21T09:33:40.389Z"
   },
   {
    "duration": 4,
    "start_time": "2022-04-21T09:33:40.395Z"
   },
   {
    "duration": 47,
    "start_time": "2022-04-21T09:33:40.401Z"
   },
   {
    "duration": 13,
    "start_time": "2022-04-21T09:33:40.450Z"
   },
   {
    "duration": 6,
    "start_time": "2022-04-21T09:33:40.465Z"
   },
   {
    "duration": 5,
    "start_time": "2022-04-21T09:33:40.473Z"
   },
   {
    "duration": 5,
    "start_time": "2022-04-21T09:33:40.480Z"
   },
   {
    "duration": 4,
    "start_time": "2022-04-21T09:33:40.487Z"
   },
   {
    "duration": 5,
    "start_time": "2022-04-21T09:33:40.493Z"
   },
   {
    "duration": 52,
    "start_time": "2022-04-21T09:33:40.499Z"
   },
   {
    "duration": 7,
    "start_time": "2022-04-21T09:33:40.553Z"
   },
   {
    "duration": 6,
    "start_time": "2022-04-21T09:33:40.562Z"
   },
   {
    "duration": 6,
    "start_time": "2022-04-21T09:33:40.569Z"
   },
   {
    "duration": 4,
    "start_time": "2022-04-21T09:33:40.579Z"
   },
   {
    "duration": 11,
    "start_time": "2022-04-21T09:33:40.584Z"
   },
   {
    "duration": 58,
    "start_time": "2022-04-21T09:33:40.596Z"
   },
   {
    "duration": 19,
    "start_time": "2022-04-21T09:33:40.656Z"
   },
   {
    "duration": 17,
    "start_time": "2022-04-21T09:33:40.677Z"
   },
   {
    "duration": 6,
    "start_time": "2022-04-21T09:33:40.695Z"
   },
   {
    "duration": 18,
    "start_time": "2022-04-21T09:33:40.703Z"
   },
   {
    "duration": 26,
    "start_time": "2022-04-21T09:33:40.723Z"
   },
   {
    "duration": 0,
    "start_time": "2022-04-21T09:33:40.751Z"
   },
   {
    "duration": 0,
    "start_time": "2022-04-21T09:33:40.752Z"
   },
   {
    "duration": 0,
    "start_time": "2022-04-21T09:33:40.753Z"
   },
   {
    "duration": 0,
    "start_time": "2022-04-21T09:33:40.754Z"
   },
   {
    "duration": 0,
    "start_time": "2022-04-21T09:33:40.755Z"
   },
   {
    "duration": 0,
    "start_time": "2022-04-21T09:33:40.755Z"
   },
   {
    "duration": 0,
    "start_time": "2022-04-21T09:33:40.756Z"
   },
   {
    "duration": 0,
    "start_time": "2022-04-21T09:33:40.757Z"
   },
   {
    "duration": 0,
    "start_time": "2022-04-21T09:33:40.758Z"
   },
   {
    "duration": 0,
    "start_time": "2022-04-21T09:33:40.759Z"
   },
   {
    "duration": 0,
    "start_time": "2022-04-21T09:33:40.760Z"
   },
   {
    "duration": 0,
    "start_time": "2022-04-21T09:33:40.761Z"
   },
   {
    "duration": 0,
    "start_time": "2022-04-21T09:33:40.762Z"
   },
   {
    "duration": 0,
    "start_time": "2022-04-21T09:33:40.763Z"
   },
   {
    "duration": 0,
    "start_time": "2022-04-21T09:33:40.764Z"
   },
   {
    "duration": 6,
    "start_time": "2022-04-21T09:33:54.923Z"
   },
   {
    "duration": 9,
    "start_time": "2022-04-21T09:37:07.569Z"
   },
   {
    "duration": 8,
    "start_time": "2022-04-21T09:39:52.568Z"
   },
   {
    "duration": 8,
    "start_time": "2022-04-21T09:40:00.904Z"
   },
   {
    "duration": 10,
    "start_time": "2022-04-21T09:46:34.415Z"
   },
   {
    "duration": 8,
    "start_time": "2022-04-21T09:46:44.920Z"
   },
   {
    "duration": 10,
    "start_time": "2022-04-21T09:47:18.055Z"
   },
   {
    "duration": 9,
    "start_time": "2022-04-21T09:48:25.839Z"
   },
   {
    "duration": 9,
    "start_time": "2022-04-21T09:48:31.918Z"
   },
   {
    "duration": 4,
    "start_time": "2022-04-21T09:49:06.719Z"
   },
   {
    "duration": 8,
    "start_time": "2022-04-21T09:49:21.462Z"
   },
   {
    "duration": 9,
    "start_time": "2022-04-21T09:49:47.582Z"
   },
   {
    "duration": 8,
    "start_time": "2022-04-21T09:49:48.374Z"
   },
   {
    "duration": 7,
    "start_time": "2022-04-21T09:52:01.605Z"
   },
   {
    "duration": 7,
    "start_time": "2022-04-21T09:57:54.540Z"
   },
   {
    "duration": 7,
    "start_time": "2022-04-21T09:57:55.524Z"
   },
   {
    "duration": 91,
    "start_time": "2022-04-21T10:00:59.963Z"
   },
   {
    "duration": 17,
    "start_time": "2022-04-21T10:05:00.660Z"
   },
   {
    "duration": 57,
    "start_time": "2022-04-21T10:05:31.263Z"
   },
   {
    "duration": 13,
    "start_time": "2022-04-21T10:05:31.322Z"
   },
   {
    "duration": 13,
    "start_time": "2022-04-21T10:05:31.348Z"
   },
   {
    "duration": 12,
    "start_time": "2022-04-21T10:05:31.363Z"
   },
   {
    "duration": 5,
    "start_time": "2022-04-21T10:05:31.376Z"
   },
   {
    "duration": 14,
    "start_time": "2022-04-21T10:05:31.382Z"
   },
   {
    "duration": 5,
    "start_time": "2022-04-21T10:05:31.397Z"
   },
   {
    "duration": 7,
    "start_time": "2022-04-21T10:05:31.403Z"
   },
   {
    "duration": 36,
    "start_time": "2022-04-21T10:05:31.412Z"
   },
   {
    "duration": 7,
    "start_time": "2022-04-21T10:05:31.451Z"
   },
   {
    "duration": 8,
    "start_time": "2022-04-21T10:05:31.459Z"
   },
   {
    "duration": 15,
    "start_time": "2022-04-21T10:05:31.469Z"
   },
   {
    "duration": 8,
    "start_time": "2022-04-21T10:05:31.486Z"
   },
   {
    "duration": 13,
    "start_time": "2022-04-21T10:05:31.496Z"
   },
   {
    "duration": 5,
    "start_time": "2022-04-21T10:05:31.511Z"
   },
   {
    "duration": 31,
    "start_time": "2022-04-21T10:05:31.518Z"
   },
   {
    "duration": 5,
    "start_time": "2022-04-21T10:05:31.551Z"
   },
   {
    "duration": 16,
    "start_time": "2022-04-21T10:05:31.557Z"
   },
   {
    "duration": 6,
    "start_time": "2022-04-21T10:05:31.574Z"
   },
   {
    "duration": 9,
    "start_time": "2022-04-21T10:05:31.581Z"
   },
   {
    "duration": 5,
    "start_time": "2022-04-21T10:05:31.591Z"
   },
   {
    "duration": 4,
    "start_time": "2022-04-21T10:05:31.597Z"
   },
   {
    "duration": 5,
    "start_time": "2022-04-21T10:05:31.602Z"
   },
   {
    "duration": 44,
    "start_time": "2022-04-21T10:05:31.609Z"
   },
   {
    "duration": 7,
    "start_time": "2022-04-21T10:05:31.654Z"
   },
   {
    "duration": 6,
    "start_time": "2022-04-21T10:05:31.662Z"
   },
   {
    "duration": 5,
    "start_time": "2022-04-21T10:05:31.669Z"
   },
   {
    "duration": 6,
    "start_time": "2022-04-21T10:05:31.677Z"
   },
   {
    "duration": 11,
    "start_time": "2022-04-21T10:05:31.684Z"
   },
   {
    "duration": 19,
    "start_time": "2022-04-21T10:05:31.696Z"
   },
   {
    "duration": 45,
    "start_time": "2022-04-21T10:05:31.717Z"
   },
   {
    "duration": 14,
    "start_time": "2022-04-21T10:05:31.764Z"
   },
   {
    "duration": 6,
    "start_time": "2022-04-21T10:05:31.779Z"
   },
   {
    "duration": 16,
    "start_time": "2022-04-21T10:05:31.787Z"
   },
   {
    "duration": 7,
    "start_time": "2022-04-21T10:05:31.804Z"
   },
   {
    "duration": 37,
    "start_time": "2022-04-21T10:05:31.812Z"
   },
   {
    "duration": 12,
    "start_time": "2022-04-21T10:05:31.850Z"
   },
   {
    "duration": 8,
    "start_time": "2022-04-21T10:05:31.864Z"
   },
   {
    "duration": 6,
    "start_time": "2022-04-21T10:05:31.873Z"
   },
   {
    "duration": 21,
    "start_time": "2022-04-21T10:05:31.880Z"
   },
   {
    "duration": 3,
    "start_time": "2022-04-21T10:05:31.903Z"
   },
   {
    "duration": 8,
    "start_time": "2022-04-21T10:05:31.907Z"
   },
   {
    "duration": 33,
    "start_time": "2022-04-21T10:05:31.916Z"
   },
   {
    "duration": 12,
    "start_time": "2022-04-21T10:05:31.951Z"
   },
   {
    "duration": 9,
    "start_time": "2022-04-21T10:05:31.965Z"
   },
   {
    "duration": 4,
    "start_time": "2022-04-21T10:05:31.975Z"
   },
   {
    "duration": 6,
    "start_time": "2022-04-21T10:05:31.981Z"
   },
   {
    "duration": 12,
    "start_time": "2022-04-21T10:05:31.988Z"
   },
   {
    "duration": 9,
    "start_time": "2022-04-21T10:05:32.002Z"
   },
   {
    "duration": 7,
    "start_time": "2022-04-21T10:05:32.012Z"
   },
   {
    "duration": 41,
    "start_time": "2022-04-21T10:05:32.020Z"
   },
   {
    "duration": 14,
    "start_time": "2022-04-21T10:05:32.062Z"
   },
   {
    "duration": 24,
    "start_time": "2022-04-21T10:07:14.147Z"
   },
   {
    "duration": 48,
    "start_time": "2022-04-21T10:07:25.320Z"
   },
   {
    "duration": 13,
    "start_time": "2022-04-21T10:07:25.370Z"
   },
   {
    "duration": 18,
    "start_time": "2022-04-21T10:07:25.384Z"
   },
   {
    "duration": 12,
    "start_time": "2022-04-21T10:07:25.404Z"
   },
   {
    "duration": 6,
    "start_time": "2022-04-21T10:07:25.447Z"
   },
   {
    "duration": 14,
    "start_time": "2022-04-21T10:07:25.454Z"
   },
   {
    "duration": 5,
    "start_time": "2022-04-21T10:07:25.469Z"
   },
   {
    "duration": 6,
    "start_time": "2022-04-21T10:07:25.475Z"
   },
   {
    "duration": 5,
    "start_time": "2022-04-21T10:07:25.482Z"
   },
   {
    "duration": 6,
    "start_time": "2022-04-21T10:07:25.488Z"
   },
   {
    "duration": 9,
    "start_time": "2022-04-21T10:07:25.495Z"
   },
   {
    "duration": 6,
    "start_time": "2022-04-21T10:07:25.506Z"
   },
   {
    "duration": 38,
    "start_time": "2022-04-21T10:07:25.513Z"
   },
   {
    "duration": 12,
    "start_time": "2022-04-21T10:07:25.553Z"
   },
   {
    "duration": 5,
    "start_time": "2022-04-21T10:07:25.566Z"
   },
   {
    "duration": 5,
    "start_time": "2022-04-21T10:07:25.572Z"
   },
   {
    "duration": 4,
    "start_time": "2022-04-21T10:07:25.579Z"
   },
   {
    "duration": 14,
    "start_time": "2022-04-21T10:07:25.584Z"
   },
   {
    "duration": 6,
    "start_time": "2022-04-21T10:07:25.599Z"
   },
   {
    "duration": 41,
    "start_time": "2022-04-21T10:07:25.606Z"
   },
   {
    "duration": 7,
    "start_time": "2022-04-21T10:07:25.649Z"
   },
   {
    "duration": 7,
    "start_time": "2022-04-21T10:07:25.657Z"
   },
   {
    "duration": 6,
    "start_time": "2022-04-21T10:07:25.666Z"
   },
   {
    "duration": 13,
    "start_time": "2022-04-21T10:07:25.673Z"
   },
   {
    "duration": 9,
    "start_time": "2022-04-21T10:07:25.688Z"
   },
   {
    "duration": 6,
    "start_time": "2022-04-21T10:07:25.699Z"
   },
   {
    "duration": 7,
    "start_time": "2022-04-21T10:07:25.707Z"
   },
   {
    "duration": 5,
    "start_time": "2022-04-21T10:07:25.715Z"
   },
   {
    "duration": 32,
    "start_time": "2022-04-21T10:07:25.721Z"
   },
   {
    "duration": 19,
    "start_time": "2022-04-21T10:07:25.754Z"
   },
   {
    "duration": 18,
    "start_time": "2022-04-21T10:07:25.774Z"
   },
   {
    "duration": 16,
    "start_time": "2022-04-21T10:07:25.793Z"
   },
   {
    "duration": 7,
    "start_time": "2022-04-21T10:07:25.810Z"
   },
   {
    "duration": 42,
    "start_time": "2022-04-21T10:07:25.818Z"
   },
   {
    "duration": 8,
    "start_time": "2022-04-21T10:07:25.862Z"
   },
   {
    "duration": 49,
    "start_time": "2022-04-21T10:07:25.872Z"
   },
   {
    "duration": 29,
    "start_time": "2022-04-21T10:07:25.923Z"
   },
   {
    "duration": 10,
    "start_time": "2022-04-21T10:07:25.953Z"
   },
   {
    "duration": 6,
    "start_time": "2022-04-21T10:07:25.964Z"
   },
   {
    "duration": 26,
    "start_time": "2022-04-21T10:07:25.971Z"
   },
   {
    "duration": 3,
    "start_time": "2022-04-21T10:07:26.000Z"
   },
   {
    "duration": 6,
    "start_time": "2022-04-21T10:07:26.005Z"
   },
   {
    "duration": 36,
    "start_time": "2022-04-21T10:07:26.012Z"
   },
   {
    "duration": 10,
    "start_time": "2022-04-21T10:07:26.049Z"
   },
   {
    "duration": 9,
    "start_time": "2022-04-21T10:07:26.061Z"
   },
   {
    "duration": 5,
    "start_time": "2022-04-21T10:07:26.072Z"
   },
   {
    "duration": 6,
    "start_time": "2022-04-21T10:07:26.078Z"
   },
   {
    "duration": 13,
    "start_time": "2022-04-21T10:07:26.085Z"
   },
   {
    "duration": 11,
    "start_time": "2022-04-21T10:07:26.099Z"
   },
   {
    "duration": 6,
    "start_time": "2022-04-21T10:07:26.111Z"
   },
   {
    "duration": 140,
    "start_time": "2022-04-21T10:07:26.148Z"
   },
   {
    "duration": 14,
    "start_time": "2022-04-21T10:07:26.289Z"
   },
   {
    "duration": 16,
    "start_time": "2022-04-21T10:08:41.859Z"
   },
   {
    "duration": 50,
    "start_time": "2022-04-21T10:08:47.703Z"
   },
   {
    "duration": 12,
    "start_time": "2022-04-21T10:08:47.755Z"
   },
   {
    "duration": 15,
    "start_time": "2022-04-21T10:08:47.769Z"
   },
   {
    "duration": 16,
    "start_time": "2022-04-21T10:08:47.786Z"
   },
   {
    "duration": 6,
    "start_time": "2022-04-21T10:08:47.804Z"
   },
   {
    "duration": 13,
    "start_time": "2022-04-21T10:08:47.848Z"
   },
   {
    "duration": 5,
    "start_time": "2022-04-21T10:08:47.863Z"
   },
   {
    "duration": 5,
    "start_time": "2022-04-21T10:08:47.869Z"
   },
   {
    "duration": 4,
    "start_time": "2022-04-21T10:08:47.876Z"
   },
   {
    "duration": 8,
    "start_time": "2022-04-21T10:08:47.882Z"
   },
   {
    "duration": 6,
    "start_time": "2022-04-21T10:08:47.891Z"
   },
   {
    "duration": 12,
    "start_time": "2022-04-21T10:08:47.899Z"
   },
   {
    "duration": 5,
    "start_time": "2022-04-21T10:08:47.912Z"
   },
   {
    "duration": 42,
    "start_time": "2022-04-21T10:08:47.918Z"
   },
   {
    "duration": 8,
    "start_time": "2022-04-21T10:08:47.961Z"
   },
   {
    "duration": 5,
    "start_time": "2022-04-21T10:08:47.971Z"
   },
   {
    "duration": 8,
    "start_time": "2022-04-21T10:08:47.977Z"
   },
   {
    "duration": 12,
    "start_time": "2022-04-21T10:08:47.986Z"
   },
   {
    "duration": 6,
    "start_time": "2022-04-21T10:08:48.000Z"
   },
   {
    "duration": 5,
    "start_time": "2022-04-21T10:08:48.007Z"
   },
   {
    "duration": 6,
    "start_time": "2022-04-21T10:08:48.048Z"
   },
   {
    "duration": 5,
    "start_time": "2022-04-21T10:08:48.056Z"
   },
   {
    "duration": 5,
    "start_time": "2022-04-21T10:08:48.062Z"
   },
   {
    "duration": 10,
    "start_time": "2022-04-21T10:08:48.068Z"
   },
   {
    "duration": 8,
    "start_time": "2022-04-21T10:08:48.080Z"
   },
   {
    "duration": 6,
    "start_time": "2022-04-21T10:08:48.089Z"
   },
   {
    "duration": 4,
    "start_time": "2022-04-21T10:08:48.096Z"
   },
   {
    "duration": 4,
    "start_time": "2022-04-21T10:08:48.103Z"
   },
   {
    "duration": 42,
    "start_time": "2022-04-21T10:08:48.109Z"
   },
   {
    "duration": 17,
    "start_time": "2022-04-21T10:08:48.153Z"
   },
   {
    "duration": 17,
    "start_time": "2022-04-21T10:08:48.171Z"
   },
   {
    "duration": 15,
    "start_time": "2022-04-21T10:08:48.190Z"
   },
   {
    "duration": 6,
    "start_time": "2022-04-21T10:08:48.206Z"
   },
   {
    "duration": 45,
    "start_time": "2022-04-21T10:08:48.214Z"
   },
   {
    "duration": 7,
    "start_time": "2022-04-21T10:08:48.261Z"
   },
   {
    "duration": 14,
    "start_time": "2022-04-21T10:08:48.269Z"
   },
   {
    "duration": 14,
    "start_time": "2022-04-21T10:08:48.284Z"
   },
   {
    "duration": 9,
    "start_time": "2022-04-21T10:08:48.299Z"
   },
   {
    "duration": 6,
    "start_time": "2022-04-21T10:08:48.310Z"
   },
   {
    "duration": 46,
    "start_time": "2022-04-21T10:08:48.317Z"
   },
   {
    "duration": 3,
    "start_time": "2022-04-21T10:08:48.364Z"
   },
   {
    "duration": 7,
    "start_time": "2022-04-21T10:08:48.369Z"
   },
   {
    "duration": 11,
    "start_time": "2022-04-21T10:08:48.377Z"
   },
   {
    "duration": 9,
    "start_time": "2022-04-21T10:08:48.390Z"
   },
   {
    "duration": 7,
    "start_time": "2022-04-21T10:08:48.401Z"
   },
   {
    "duration": 4,
    "start_time": "2022-04-21T10:08:48.410Z"
   },
   {
    "duration": 32,
    "start_time": "2022-04-21T10:08:48.415Z"
   },
   {
    "duration": 12,
    "start_time": "2022-04-21T10:08:48.448Z"
   },
   {
    "duration": 13,
    "start_time": "2022-04-21T10:08:48.462Z"
   },
   {
    "duration": 7,
    "start_time": "2022-04-21T10:08:48.476Z"
   },
   {
    "duration": 20,
    "start_time": "2022-04-21T10:08:48.484Z"
   },
   {
    "duration": 14,
    "start_time": "2022-04-21T10:08:48.505Z"
   },
   {
    "duration": 16,
    "start_time": "2022-04-21T10:20:35.168Z"
   },
   {
    "duration": 53,
    "start_time": "2022-04-21T10:20:54.446Z"
   },
   {
    "duration": 14,
    "start_time": "2022-04-21T10:20:54.501Z"
   },
   {
    "duration": 42,
    "start_time": "2022-04-21T10:20:54.517Z"
   },
   {
    "duration": 12,
    "start_time": "2022-04-21T10:20:54.562Z"
   },
   {
    "duration": 6,
    "start_time": "2022-04-21T10:20:54.576Z"
   },
   {
    "duration": 14,
    "start_time": "2022-04-21T10:20:54.583Z"
   },
   {
    "duration": 6,
    "start_time": "2022-04-21T10:20:54.598Z"
   },
   {
    "duration": 46,
    "start_time": "2022-04-21T10:20:54.606Z"
   },
   {
    "duration": 4,
    "start_time": "2022-04-21T10:20:54.654Z"
   },
   {
    "duration": 5,
    "start_time": "2022-04-21T10:20:54.660Z"
   },
   {
    "duration": 6,
    "start_time": "2022-04-21T10:20:54.666Z"
   },
   {
    "duration": 7,
    "start_time": "2022-04-21T10:20:54.674Z"
   },
   {
    "duration": 5,
    "start_time": "2022-04-21T10:20:54.683Z"
   },
   {
    "duration": 13,
    "start_time": "2022-04-21T10:20:54.690Z"
   },
   {
    "duration": 43,
    "start_time": "2022-04-21T10:20:54.705Z"
   },
   {
    "duration": 3,
    "start_time": "2022-04-21T10:20:54.750Z"
   },
   {
    "duration": 5,
    "start_time": "2022-04-21T10:20:54.755Z"
   },
   {
    "duration": 12,
    "start_time": "2022-04-21T10:20:54.762Z"
   },
   {
    "duration": 5,
    "start_time": "2022-04-21T10:20:54.776Z"
   },
   {
    "duration": 4,
    "start_time": "2022-04-21T10:20:54.783Z"
   },
   {
    "duration": 5,
    "start_time": "2022-04-21T10:20:54.789Z"
   },
   {
    "duration": 4,
    "start_time": "2022-04-21T10:20:54.796Z"
   },
   {
    "duration": 4,
    "start_time": "2022-04-21T10:20:54.801Z"
   },
   {
    "duration": 47,
    "start_time": "2022-04-21T10:20:54.807Z"
   },
   {
    "duration": 15,
    "start_time": "2022-04-21T10:20:54.856Z"
   },
   {
    "duration": 10,
    "start_time": "2022-04-21T10:20:54.873Z"
   },
   {
    "duration": 18,
    "start_time": "2022-04-21T10:20:54.885Z"
   },
   {
    "duration": 4,
    "start_time": "2022-04-21T10:20:54.907Z"
   },
   {
    "duration": 11,
    "start_time": "2022-04-21T10:20:54.913Z"
   },
   {
    "duration": 28,
    "start_time": "2022-04-21T10:20:54.926Z"
   },
   {
    "duration": 18,
    "start_time": "2022-04-21T10:20:54.956Z"
   },
   {
    "duration": 16,
    "start_time": "2022-04-21T10:20:54.975Z"
   },
   {
    "duration": 6,
    "start_time": "2022-04-21T10:20:54.993Z"
   },
   {
    "duration": 18,
    "start_time": "2022-04-21T10:20:55.001Z"
   },
   {
    "duration": 32,
    "start_time": "2022-04-21T10:20:55.021Z"
   },
   {
    "duration": 9,
    "start_time": "2022-04-21T10:20:55.055Z"
   },
   {
    "duration": 13,
    "start_time": "2022-04-21T10:20:55.066Z"
   },
   {
    "duration": 9,
    "start_time": "2022-04-21T10:20:55.080Z"
   },
   {
    "duration": 6,
    "start_time": "2022-04-21T10:20:55.091Z"
   },
   {
    "duration": 52,
    "start_time": "2022-04-21T10:20:55.098Z"
   },
   {
    "duration": 14,
    "start_time": "2022-04-21T10:20:55.152Z"
   },
   {
    "duration": 3,
    "start_time": "2022-04-21T10:20:55.168Z"
   },
   {
    "duration": 6,
    "start_time": "2022-04-21T10:20:55.172Z"
   },
   {
    "duration": 11,
    "start_time": "2022-04-21T10:20:55.179Z"
   },
   {
    "duration": 11,
    "start_time": "2022-04-21T10:20:55.191Z"
   },
   {
    "duration": 10,
    "start_time": "2022-04-21T10:20:55.203Z"
   },
   {
    "duration": 4,
    "start_time": "2022-04-21T10:20:55.214Z"
   },
   {
    "duration": 13,
    "start_time": "2022-04-21T10:20:55.248Z"
   },
   {
    "duration": 14,
    "start_time": "2022-04-21T10:20:55.263Z"
   },
   {
    "duration": 11,
    "start_time": "2022-04-21T10:20:55.278Z"
   },
   {
    "duration": 8,
    "start_time": "2022-04-21T10:20:55.291Z"
   },
   {
    "duration": 20,
    "start_time": "2022-04-21T10:20:55.301Z"
   },
   {
    "duration": 37,
    "start_time": "2022-04-21T10:20:55.322Z"
   },
   {
    "duration": 14,
    "start_time": "2022-04-21T10:21:39.712Z"
   },
   {
    "duration": 4,
    "start_time": "2022-04-21T10:41:36.220Z"
   },
   {
    "duration": 102,
    "start_time": "2022-04-21T10:44:31.540Z"
   },
   {
    "duration": 3,
    "start_time": "2022-04-21T10:44:40.307Z"
   },
   {
    "duration": 3,
    "start_time": "2022-04-21T12:36:48.112Z"
   },
   {
    "duration": 3,
    "start_time": "2022-04-21T12:36:59.606Z"
   },
   {
    "duration": 3,
    "start_time": "2022-04-21T12:37:14.742Z"
   },
   {
    "duration": 4,
    "start_time": "2022-04-21T12:37:57.144Z"
   },
   {
    "duration": 4,
    "start_time": "2022-04-21T12:38:39.622Z"
   },
   {
    "duration": 3,
    "start_time": "2022-04-21T12:38:58.783Z"
   },
   {
    "duration": 4,
    "start_time": "2022-04-21T13:03:10.670Z"
   },
   {
    "duration": 4,
    "start_time": "2022-04-21T13:04:44.438Z"
   },
   {
    "duration": 82,
    "start_time": "2022-04-21T13:06:17.852Z"
   },
   {
    "duration": 6,
    "start_time": "2022-04-21T13:06:36.495Z"
   },
   {
    "duration": 4,
    "start_time": "2022-04-21T13:06:39.134Z"
   },
   {
    "duration": 78,
    "start_time": "2022-04-21T13:08:28.199Z"
   },
   {
    "duration": 57,
    "start_time": "2022-04-21T13:10:55.655Z"
   },
   {
    "duration": 12,
    "start_time": "2022-04-21T13:10:55.714Z"
   },
   {
    "duration": 27,
    "start_time": "2022-04-21T13:10:55.728Z"
   },
   {
    "duration": 13,
    "start_time": "2022-04-21T13:10:55.757Z"
   },
   {
    "duration": 5,
    "start_time": "2022-04-21T13:10:55.771Z"
   },
   {
    "duration": 16,
    "start_time": "2022-04-21T13:10:55.777Z"
   },
   {
    "duration": 8,
    "start_time": "2022-04-21T13:10:55.795Z"
   },
   {
    "duration": 6,
    "start_time": "2022-04-21T13:10:55.805Z"
   },
   {
    "duration": 38,
    "start_time": "2022-04-21T13:10:55.813Z"
   },
   {
    "duration": 5,
    "start_time": "2022-04-21T13:10:55.855Z"
   },
   {
    "duration": 9,
    "start_time": "2022-04-21T13:10:55.862Z"
   },
   {
    "duration": 7,
    "start_time": "2022-04-21T13:10:55.873Z"
   },
   {
    "duration": 6,
    "start_time": "2022-04-21T13:10:55.882Z"
   },
   {
    "duration": 58,
    "start_time": "2022-04-21T13:10:55.890Z"
   },
   {
    "duration": 7,
    "start_time": "2022-04-21T13:10:55.951Z"
   },
   {
    "duration": 7,
    "start_time": "2022-04-21T13:10:55.960Z"
   },
   {
    "duration": 9,
    "start_time": "2022-04-21T13:10:55.969Z"
   },
   {
    "duration": 20,
    "start_time": "2022-04-21T13:10:55.980Z"
   },
   {
    "duration": 9,
    "start_time": "2022-04-21T13:10:56.002Z"
   },
   {
    "duration": 35,
    "start_time": "2022-04-21T13:10:56.013Z"
   },
   {
    "duration": 7,
    "start_time": "2022-04-21T13:10:56.050Z"
   },
   {
    "duration": 5,
    "start_time": "2022-04-21T13:10:56.059Z"
   },
   {
    "duration": 9,
    "start_time": "2022-04-21T13:10:56.066Z"
   },
   {
    "duration": 13,
    "start_time": "2022-04-21T13:10:56.077Z"
   },
   {
    "duration": 8,
    "start_time": "2022-04-21T13:10:56.092Z"
   },
   {
    "duration": 7,
    "start_time": "2022-04-21T13:10:56.101Z"
   },
   {
    "duration": 39,
    "start_time": "2022-04-21T13:10:56.109Z"
   },
   {
    "duration": 4,
    "start_time": "2022-04-21T13:10:56.152Z"
   },
   {
    "duration": 12,
    "start_time": "2022-04-21T13:10:56.157Z"
   },
   {
    "duration": 17,
    "start_time": "2022-04-21T13:10:56.170Z"
   },
   {
    "duration": 17,
    "start_time": "2022-04-21T13:10:56.189Z"
   },
   {
    "duration": 54,
    "start_time": "2022-04-21T13:10:56.207Z"
   },
   {
    "duration": 7,
    "start_time": "2022-04-21T13:10:56.262Z"
   },
   {
    "duration": 18,
    "start_time": "2022-04-21T13:10:56.270Z"
   },
   {
    "duration": 8,
    "start_time": "2022-04-21T13:10:56.289Z"
   },
   {
    "duration": 9,
    "start_time": "2022-04-21T13:10:56.298Z"
   },
   {
    "duration": 46,
    "start_time": "2022-04-21T13:10:56.308Z"
   },
   {
    "duration": 10,
    "start_time": "2022-04-21T13:10:56.356Z"
   },
   {
    "duration": 6,
    "start_time": "2022-04-21T13:10:56.369Z"
   },
   {
    "duration": 23,
    "start_time": "2022-04-21T13:10:56.377Z"
   },
   {
    "duration": 47,
    "start_time": "2022-04-21T13:10:56.402Z"
   },
   {
    "duration": 4,
    "start_time": "2022-04-21T13:10:56.451Z"
   },
   {
    "duration": 104,
    "start_time": "2022-04-21T13:10:56.456Z"
   },
   {
    "duration": 0,
    "start_time": "2022-04-21T13:10:56.562Z"
   },
   {
    "duration": 0,
    "start_time": "2022-04-21T13:10:56.563Z"
   },
   {
    "duration": 0,
    "start_time": "2022-04-21T13:10:56.564Z"
   },
   {
    "duration": 0,
    "start_time": "2022-04-21T13:10:56.565Z"
   },
   {
    "duration": 0,
    "start_time": "2022-04-21T13:10:56.566Z"
   },
   {
    "duration": 0,
    "start_time": "2022-04-21T13:10:56.567Z"
   },
   {
    "duration": 0,
    "start_time": "2022-04-21T13:10:56.568Z"
   },
   {
    "duration": 0,
    "start_time": "2022-04-21T13:10:56.569Z"
   },
   {
    "duration": 0,
    "start_time": "2022-04-21T13:10:56.570Z"
   },
   {
    "duration": 0,
    "start_time": "2022-04-21T13:10:56.571Z"
   },
   {
    "duration": 0,
    "start_time": "2022-04-21T13:10:56.572Z"
   },
   {
    "duration": 51,
    "start_time": "2022-04-21T13:11:20.235Z"
   },
   {
    "duration": 16,
    "start_time": "2022-04-21T13:11:20.288Z"
   },
   {
    "duration": 53,
    "start_time": "2022-04-21T13:11:20.306Z"
   },
   {
    "duration": 21,
    "start_time": "2022-04-21T13:11:20.362Z"
   },
   {
    "duration": 7,
    "start_time": "2022-04-21T13:11:20.385Z"
   },
   {
    "duration": 15,
    "start_time": "2022-04-21T13:11:20.393Z"
   },
   {
    "duration": 5,
    "start_time": "2022-04-21T13:11:20.409Z"
   },
   {
    "duration": 33,
    "start_time": "2022-04-21T13:11:20.416Z"
   },
   {
    "duration": 5,
    "start_time": "2022-04-21T13:11:20.451Z"
   },
   {
    "duration": 4,
    "start_time": "2022-04-21T13:11:20.459Z"
   },
   {
    "duration": 9,
    "start_time": "2022-04-21T13:11:20.465Z"
   },
   {
    "duration": 5,
    "start_time": "2022-04-21T13:11:20.476Z"
   },
   {
    "duration": 5,
    "start_time": "2022-04-21T13:11:20.483Z"
   },
   {
    "duration": 14,
    "start_time": "2022-04-21T13:11:20.489Z"
   },
   {
    "duration": 45,
    "start_time": "2022-04-21T13:11:20.505Z"
   },
   {
    "duration": 5,
    "start_time": "2022-04-21T13:11:20.552Z"
   },
   {
    "duration": 6,
    "start_time": "2022-04-21T13:11:20.559Z"
   },
   {
    "duration": 17,
    "start_time": "2022-04-21T13:11:20.567Z"
   },
   {
    "duration": 5,
    "start_time": "2022-04-21T13:11:20.585Z"
   },
   {
    "duration": 7,
    "start_time": "2022-04-21T13:11:20.592Z"
   },
   {
    "duration": 46,
    "start_time": "2022-04-21T13:11:20.601Z"
   },
   {
    "duration": 5,
    "start_time": "2022-04-21T13:11:20.649Z"
   },
   {
    "duration": 5,
    "start_time": "2022-04-21T13:11:20.656Z"
   },
   {
    "duration": 13,
    "start_time": "2022-04-21T13:11:20.662Z"
   },
   {
    "duration": 9,
    "start_time": "2022-04-21T13:11:20.676Z"
   },
   {
    "duration": 9,
    "start_time": "2022-04-21T13:11:20.687Z"
   },
   {
    "duration": 8,
    "start_time": "2022-04-21T13:11:20.697Z"
   },
   {
    "duration": 4,
    "start_time": "2022-04-21T13:11:20.709Z"
   },
   {
    "duration": 11,
    "start_time": "2022-04-21T13:11:20.747Z"
   },
   {
    "duration": 20,
    "start_time": "2022-04-21T13:11:20.760Z"
   },
   {
    "duration": 18,
    "start_time": "2022-04-21T13:11:20.782Z"
   },
   {
    "duration": 16,
    "start_time": "2022-04-21T13:11:20.802Z"
   },
   {
    "duration": 7,
    "start_time": "2022-04-21T13:11:20.847Z"
   },
   {
    "duration": 20,
    "start_time": "2022-04-21T13:11:20.855Z"
   },
   {
    "duration": 10,
    "start_time": "2022-04-21T13:11:20.876Z"
   },
   {
    "duration": 9,
    "start_time": "2022-04-21T13:11:20.888Z"
   },
   {
    "duration": 12,
    "start_time": "2022-04-21T13:11:20.898Z"
   },
   {
    "duration": 43,
    "start_time": "2022-04-21T13:11:20.912Z"
   },
   {
    "duration": 5,
    "start_time": "2022-04-21T13:11:20.957Z"
   },
   {
    "duration": 22,
    "start_time": "2022-04-21T13:11:20.963Z"
   },
   {
    "duration": 16,
    "start_time": "2022-04-21T13:11:20.986Z"
   },
   {
    "duration": 3,
    "start_time": "2022-04-21T13:11:21.003Z"
   },
   {
    "duration": 42,
    "start_time": "2022-04-21T13:11:21.008Z"
   },
   {
    "duration": 12,
    "start_time": "2022-04-21T13:11:21.051Z"
   },
   {
    "duration": 11,
    "start_time": "2022-04-21T13:11:21.065Z"
   },
   {
    "duration": 7,
    "start_time": "2022-04-21T13:11:21.078Z"
   },
   {
    "duration": 4,
    "start_time": "2022-04-21T13:11:21.087Z"
   },
   {
    "duration": 7,
    "start_time": "2022-04-21T13:11:21.092Z"
   },
   {
    "duration": 53,
    "start_time": "2022-04-21T13:11:21.101Z"
   },
   {
    "duration": 7,
    "start_time": "2022-04-21T13:11:21.156Z"
   },
   {
    "duration": 13,
    "start_time": "2022-04-21T13:11:21.164Z"
   },
   {
    "duration": 19,
    "start_time": "2022-04-21T13:11:21.179Z"
   },
   {
    "duration": 15,
    "start_time": "2022-04-21T13:11:21.199Z"
   },
   {
    "duration": 6,
    "start_time": "2022-04-21T13:12:28.455Z"
   },
   {
    "duration": 6,
    "start_time": "2022-04-21T13:16:38.834Z"
   },
   {
    "duration": 10,
    "start_time": "2022-04-21T13:17:03.613Z"
   },
   {
    "duration": 6,
    "start_time": "2022-04-21T13:17:28.221Z"
   },
   {
    "duration": 1320,
    "start_time": "2022-04-21T14:08:42.161Z"
   },
   {
    "duration": 1205,
    "start_time": "2022-04-21T14:09:43.080Z"
   },
   {
    "duration": 13,
    "start_time": "2022-04-21T14:09:51.777Z"
   },
   {
    "duration": 19,
    "start_time": "2022-04-21T14:10:05.272Z"
   },
   {
    "duration": 17,
    "start_time": "2022-04-21T14:12:07.720Z"
   },
   {
    "duration": 17,
    "start_time": "2022-04-21T14:12:17.920Z"
   },
   {
    "duration": 15,
    "start_time": "2022-04-21T14:16:20.367Z"
   },
   {
    "duration": 4,
    "start_time": "2022-04-21T14:22:36.235Z"
   },
   {
    "duration": 15,
    "start_time": "2022-04-21T14:23:19.613Z"
   },
   {
    "duration": 15,
    "start_time": "2022-04-21T14:23:27.461Z"
   },
   {
    "duration": 15,
    "start_time": "2022-04-21T14:23:33.309Z"
   },
   {
    "duration": 18,
    "start_time": "2022-04-21T14:30:52.858Z"
   },
   {
    "duration": 28,
    "start_time": "2022-04-21T14:33:05.503Z"
   },
   {
    "duration": 26,
    "start_time": "2022-04-21T14:33:27.548Z"
   },
   {
    "duration": 31,
    "start_time": "2022-04-21T14:33:40.900Z"
   },
   {
    "duration": 28,
    "start_time": "2022-04-21T14:33:55.246Z"
   },
   {
    "duration": 18,
    "start_time": "2022-04-21T14:34:41.989Z"
   },
   {
    "duration": 16,
    "start_time": "2022-04-21T14:34:45.723Z"
   },
   {
    "duration": 15,
    "start_time": "2022-04-21T14:35:25.595Z"
   },
   {
    "duration": 20,
    "start_time": "2022-04-21T14:35:29.595Z"
   },
   {
    "duration": 18,
    "start_time": "2022-04-21T14:36:08.155Z"
   },
   {
    "duration": 3,
    "start_time": "2022-04-21T14:44:51.966Z"
   },
   {
    "duration": 16,
    "start_time": "2022-04-21T14:45:37.737Z"
   },
   {
    "duration": 17,
    "start_time": "2022-04-21T14:45:58.024Z"
   },
   {
    "duration": 17,
    "start_time": "2022-04-21T14:46:06.616Z"
   },
   {
    "duration": 16,
    "start_time": "2022-04-21T14:46:18.481Z"
   },
   {
    "duration": 17,
    "start_time": "2022-04-21T14:46:20.824Z"
   },
   {
    "duration": 24,
    "start_time": "2022-04-21T14:47:41.340Z"
   },
   {
    "duration": 14,
    "start_time": "2022-04-21T14:48:09.817Z"
   },
   {
    "duration": 64,
    "start_time": "2022-04-21T14:48:18.437Z"
   },
   {
    "duration": 13,
    "start_time": "2022-04-21T14:48:18.503Z"
   },
   {
    "duration": 42,
    "start_time": "2022-04-21T14:48:18.518Z"
   },
   {
    "duration": 18,
    "start_time": "2022-04-21T14:48:18.563Z"
   },
   {
    "duration": 8,
    "start_time": "2022-04-21T14:48:18.583Z"
   },
   {
    "duration": 13,
    "start_time": "2022-04-21T14:48:18.593Z"
   },
   {
    "duration": 41,
    "start_time": "2022-04-21T14:48:18.608Z"
   },
   {
    "duration": 20,
    "start_time": "2022-04-21T14:48:18.651Z"
   },
   {
    "duration": 5,
    "start_time": "2022-04-21T14:48:18.673Z"
   },
   {
    "duration": 4,
    "start_time": "2022-04-21T14:48:18.681Z"
   },
   {
    "duration": 6,
    "start_time": "2022-04-21T14:48:18.686Z"
   },
   {
    "duration": 10,
    "start_time": "2022-04-21T14:48:18.693Z"
   },
   {
    "duration": 13,
    "start_time": "2022-04-21T14:48:18.704Z"
   },
   {
    "duration": 43,
    "start_time": "2022-04-21T14:48:18.719Z"
   },
   {
    "duration": 5,
    "start_time": "2022-04-21T14:48:18.764Z"
   },
   {
    "duration": 9,
    "start_time": "2022-04-21T14:48:18.770Z"
   },
   {
    "duration": 6,
    "start_time": "2022-04-21T14:48:18.780Z"
   },
   {
    "duration": 13,
    "start_time": "2022-04-21T14:48:18.787Z"
   },
   {
    "duration": 5,
    "start_time": "2022-04-21T14:48:18.801Z"
   },
   {
    "duration": 7,
    "start_time": "2022-04-21T14:48:18.808Z"
   },
   {
    "duration": 35,
    "start_time": "2022-04-21T14:48:18.817Z"
   },
   {
    "duration": 6,
    "start_time": "2022-04-21T14:48:18.854Z"
   },
   {
    "duration": 9,
    "start_time": "2022-04-21T14:48:18.862Z"
   },
   {
    "duration": 11,
    "start_time": "2022-04-21T14:48:18.873Z"
   },
   {
    "duration": 8,
    "start_time": "2022-04-21T14:48:18.886Z"
   },
   {
    "duration": 7,
    "start_time": "2022-04-21T14:48:18.895Z"
   },
   {
    "duration": 5,
    "start_time": "2022-04-21T14:48:18.903Z"
   },
   {
    "duration": 37,
    "start_time": "2022-04-21T14:48:18.911Z"
   },
   {
    "duration": 15,
    "start_time": "2022-04-21T14:48:18.950Z"
   },
   {
    "duration": 20,
    "start_time": "2022-04-21T14:48:18.966Z"
   },
   {
    "duration": 20,
    "start_time": "2022-04-21T14:48:18.988Z"
   },
   {
    "duration": 16,
    "start_time": "2022-04-21T14:48:19.009Z"
   },
   {
    "duration": 27,
    "start_time": "2022-04-21T14:48:19.026Z"
   },
   {
    "duration": 26,
    "start_time": "2022-04-21T14:48:19.054Z"
   },
   {
    "duration": 9,
    "start_time": "2022-04-21T14:48:19.082Z"
   },
   {
    "duration": 8,
    "start_time": "2022-04-21T14:48:19.092Z"
   },
   {
    "duration": 12,
    "start_time": "2022-04-21T14:48:19.101Z"
   },
   {
    "duration": 9,
    "start_time": "2022-04-21T14:48:19.114Z"
   },
   {
    "duration": 10,
    "start_time": "2022-04-21T14:48:19.148Z"
   },
   {
    "duration": 28,
    "start_time": "2022-04-21T14:48:19.159Z"
   },
   {
    "duration": 15,
    "start_time": "2022-04-21T14:48:19.189Z"
   },
   {
    "duration": 4,
    "start_time": "2022-04-21T14:48:19.205Z"
   },
   {
    "duration": 8,
    "start_time": "2022-04-21T14:48:19.210Z"
   },
   {
    "duration": 45,
    "start_time": "2022-04-21T14:48:19.219Z"
   },
   {
    "duration": 17,
    "start_time": "2022-04-21T14:48:19.266Z"
   },
   {
    "duration": 11,
    "start_time": "2022-04-21T14:48:19.284Z"
   },
   {
    "duration": 6,
    "start_time": "2022-04-21T14:48:19.297Z"
   },
   {
    "duration": 8,
    "start_time": "2022-04-21T14:48:19.304Z"
   },
   {
    "duration": 15,
    "start_time": "2022-04-21T14:48:19.313Z"
   },
   {
    "duration": 20,
    "start_time": "2022-04-21T14:48:19.330Z"
   },
   {
    "duration": 18,
    "start_time": "2022-04-21T14:48:19.352Z"
   },
   {
    "duration": 19,
    "start_time": "2022-04-21T14:48:19.371Z"
   },
   {
    "duration": 17,
    "start_time": "2022-04-21T14:48:19.392Z"
   },
   {
    "duration": 48,
    "start_time": "2022-04-21T14:48:19.410Z"
   },
   {
    "duration": 28,
    "start_time": "2022-04-21T14:48:34.305Z"
   },
   {
    "duration": 30,
    "start_time": "2022-04-21T14:49:12.713Z"
   },
   {
    "duration": 27,
    "start_time": "2022-04-21T14:49:43.912Z"
   },
   {
    "duration": 25,
    "start_time": "2022-04-21T15:22:44.847Z"
   },
   {
    "duration": 63,
    "start_time": "2022-04-21T15:22:48.125Z"
   },
   {
    "duration": 13,
    "start_time": "2022-04-21T15:22:48.190Z"
   },
   {
    "duration": 45,
    "start_time": "2022-04-21T15:22:48.204Z"
   },
   {
    "duration": 19,
    "start_time": "2022-04-21T15:22:48.252Z"
   },
   {
    "duration": 6,
    "start_time": "2022-04-21T15:22:48.272Z"
   },
   {
    "duration": 13,
    "start_time": "2022-04-21T15:22:48.279Z"
   },
   {
    "duration": 5,
    "start_time": "2022-04-21T15:22:48.294Z"
   },
   {
    "duration": 7,
    "start_time": "2022-04-21T15:22:48.300Z"
   },
   {
    "duration": 41,
    "start_time": "2022-04-21T15:22:48.308Z"
   },
   {
    "duration": 13,
    "start_time": "2022-04-21T15:22:48.355Z"
   },
   {
    "duration": 8,
    "start_time": "2022-04-21T15:22:48.369Z"
   },
   {
    "duration": 6,
    "start_time": "2022-04-21T15:22:48.379Z"
   },
   {
    "duration": 5,
    "start_time": "2022-04-21T15:22:48.386Z"
   },
   {
    "duration": 13,
    "start_time": "2022-04-21T15:22:48.393Z"
   },
   {
    "duration": 4,
    "start_time": "2022-04-21T15:22:48.408Z"
   },
   {
    "duration": 36,
    "start_time": "2022-04-21T15:22:48.414Z"
   },
   {
    "duration": 15,
    "start_time": "2022-04-21T15:22:48.452Z"
   },
   {
    "duration": 13,
    "start_time": "2022-04-21T15:22:48.468Z"
   },
   {
    "duration": 5,
    "start_time": "2022-04-21T15:22:48.483Z"
   },
   {
    "duration": 5,
    "start_time": "2022-04-21T15:22:48.490Z"
   },
   {
    "duration": 6,
    "start_time": "2022-04-21T15:22:48.497Z"
   },
   {
    "duration": 7,
    "start_time": "2022-04-21T15:22:48.504Z"
   },
   {
    "duration": 5,
    "start_time": "2022-04-21T15:22:48.512Z"
   },
   {
    "duration": 33,
    "start_time": "2022-04-21T15:22:48.518Z"
   },
   {
    "duration": 15,
    "start_time": "2022-04-21T15:22:48.553Z"
   },
   {
    "duration": 9,
    "start_time": "2022-04-21T15:22:48.569Z"
   },
   {
    "duration": 5,
    "start_time": "2022-04-21T15:22:48.580Z"
   },
   {
    "duration": 4,
    "start_time": "2022-04-21T15:22:48.588Z"
   },
   {
    "duration": 11,
    "start_time": "2022-04-21T15:22:48.593Z"
   },
   {
    "duration": 17,
    "start_time": "2022-04-21T15:22:48.606Z"
   },
   {
    "duration": 28,
    "start_time": "2022-04-21T15:22:48.648Z"
   },
   {
    "duration": 15,
    "start_time": "2022-04-21T15:22:48.677Z"
   },
   {
    "duration": 6,
    "start_time": "2022-04-21T15:22:48.694Z"
   },
   {
    "duration": 17,
    "start_time": "2022-04-21T15:22:48.702Z"
   },
   {
    "duration": 31,
    "start_time": "2022-04-21T15:22:48.720Z"
   },
   {
    "duration": 17,
    "start_time": "2022-04-21T15:22:48.753Z"
   },
   {
    "duration": 12,
    "start_time": "2022-04-21T15:22:48.771Z"
   },
   {
    "duration": 9,
    "start_time": "2022-04-21T15:22:48.784Z"
   },
   {
    "duration": 6,
    "start_time": "2022-04-21T15:22:48.794Z"
   },
   {
    "duration": 50,
    "start_time": "2022-04-21T15:22:48.801Z"
   },
   {
    "duration": 20,
    "start_time": "2022-04-21T15:22:48.854Z"
   },
   {
    "duration": 4,
    "start_time": "2022-04-21T15:22:48.876Z"
   },
   {
    "duration": 7,
    "start_time": "2022-04-21T15:22:48.881Z"
   },
   {
    "duration": 10,
    "start_time": "2022-04-21T15:22:48.889Z"
   },
   {
    "duration": 9,
    "start_time": "2022-04-21T15:22:48.901Z"
   },
   {
    "duration": 38,
    "start_time": "2022-04-21T15:22:48.912Z"
   },
   {
    "duration": 14,
    "start_time": "2022-04-21T15:22:48.954Z"
   },
   {
    "duration": 8,
    "start_time": "2022-04-21T15:22:48.969Z"
   },
   {
    "duration": 14,
    "start_time": "2022-04-21T15:22:48.978Z"
   },
   {
    "duration": 6,
    "start_time": "2022-04-21T15:22:48.993Z"
   },
   {
    "duration": 12,
    "start_time": "2022-04-21T15:22:49.000Z"
   },
   {
    "duration": 50,
    "start_time": "2022-04-21T15:22:49.013Z"
   },
   {
    "duration": 19,
    "start_time": "2022-04-21T15:22:49.065Z"
   },
   {
    "duration": 17,
    "start_time": "2022-04-21T15:22:49.086Z"
   },
   {
    "duration": 46,
    "start_time": "2022-04-21T15:22:49.104Z"
   },
   {
    "duration": 452,
    "start_time": "2022-04-21T16:56:55.639Z"
   },
   {
    "duration": 19,
    "start_time": "2022-04-21T16:56:56.093Z"
   },
   {
    "duration": 14,
    "start_time": "2022-04-21T16:56:56.113Z"
   },
   {
    "duration": 29,
    "start_time": "2022-04-21T16:56:56.129Z"
   },
   {
    "duration": 5,
    "start_time": "2022-04-21T16:56:56.160Z"
   },
   {
    "duration": 16,
    "start_time": "2022-04-21T16:56:56.166Z"
   },
   {
    "duration": 5,
    "start_time": "2022-04-21T16:56:56.184Z"
   },
   {
    "duration": 5,
    "start_time": "2022-04-21T16:56:56.190Z"
   },
   {
    "duration": 4,
    "start_time": "2022-04-21T16:56:56.196Z"
   },
   {
    "duration": 5,
    "start_time": "2022-04-21T16:56:56.202Z"
   },
   {
    "duration": 42,
    "start_time": "2022-04-21T16:56:56.208Z"
   },
   {
    "duration": 6,
    "start_time": "2022-04-21T16:56:56.251Z"
   },
   {
    "duration": 6,
    "start_time": "2022-04-21T16:56:56.258Z"
   },
   {
    "duration": 13,
    "start_time": "2022-04-21T16:56:56.265Z"
   },
   {
    "duration": 5,
    "start_time": "2022-04-21T16:56:56.279Z"
   },
   {
    "duration": 7,
    "start_time": "2022-04-21T16:56:56.285Z"
   },
   {
    "duration": 8,
    "start_time": "2022-04-21T16:56:56.293Z"
   },
   {
    "duration": 13,
    "start_time": "2022-04-21T16:56:56.302Z"
   },
   {
    "duration": 37,
    "start_time": "2022-04-21T16:56:56.316Z"
   },
   {
    "duration": 10,
    "start_time": "2022-04-21T16:56:56.356Z"
   },
   {
    "duration": 5,
    "start_time": "2022-04-21T16:56:56.368Z"
   },
   {
    "duration": 5,
    "start_time": "2022-04-21T16:56:56.374Z"
   },
   {
    "duration": 5,
    "start_time": "2022-04-21T16:56:56.380Z"
   },
   {
    "duration": 11,
    "start_time": "2022-04-21T16:56:56.386Z"
   },
   {
    "duration": 5,
    "start_time": "2022-04-21T16:56:56.399Z"
   },
   {
    "duration": 7,
    "start_time": "2022-04-21T16:56:56.405Z"
   },
   {
    "duration": 5,
    "start_time": "2022-04-21T16:56:56.448Z"
   },
   {
    "duration": 4,
    "start_time": "2022-04-21T16:56:56.456Z"
   },
   {
    "duration": 10,
    "start_time": "2022-04-21T16:56:56.461Z"
   },
   {
    "duration": 17,
    "start_time": "2022-04-21T16:56:56.472Z"
   },
   {
    "duration": 18,
    "start_time": "2022-04-21T16:56:56.490Z"
   },
   {
    "duration": 44,
    "start_time": "2022-04-21T16:56:56.510Z"
   },
   {
    "duration": 6,
    "start_time": "2022-04-21T16:56:56.556Z"
   },
   {
    "duration": 20,
    "start_time": "2022-04-21T16:56:56.564Z"
   },
   {
    "duration": 7,
    "start_time": "2022-04-21T16:56:56.585Z"
   },
   {
    "duration": 11,
    "start_time": "2022-04-21T16:56:56.593Z"
   },
   {
    "duration": 12,
    "start_time": "2022-04-21T16:56:56.606Z"
   },
   {
    "duration": 29,
    "start_time": "2022-04-21T16:56:56.619Z"
   },
   {
    "duration": 6,
    "start_time": "2022-04-21T16:56:56.650Z"
   },
   {
    "duration": 24,
    "start_time": "2022-04-21T16:56:56.657Z"
   },
   {
    "duration": 14,
    "start_time": "2022-04-21T16:56:56.682Z"
   },
   {
    "duration": 3,
    "start_time": "2022-04-21T16:56:56.697Z"
   },
   {
    "duration": 5,
    "start_time": "2022-04-21T16:56:56.702Z"
   },
   {
    "duration": 41,
    "start_time": "2022-04-21T16:56:56.708Z"
   },
   {
    "duration": 10,
    "start_time": "2022-04-21T16:56:56.750Z"
   },
   {
    "duration": 7,
    "start_time": "2022-04-21T16:56:56.762Z"
   },
   {
    "duration": 5,
    "start_time": "2022-04-21T16:56:56.770Z"
   },
   {
    "duration": 9,
    "start_time": "2022-04-21T16:56:56.776Z"
   },
   {
    "duration": 16,
    "start_time": "2022-04-21T16:56:56.786Z"
   },
   {
    "duration": 5,
    "start_time": "2022-04-21T16:56:56.803Z"
   },
   {
    "duration": 13,
    "start_time": "2022-04-21T16:56:56.810Z"
   },
   {
    "duration": 20,
    "start_time": "2022-04-21T16:56:56.847Z"
   },
   {
    "duration": 16,
    "start_time": "2022-04-21T16:56:56.868Z"
   },
   {
    "duration": 15,
    "start_time": "2022-04-21T16:56:56.886Z"
   },
   {
    "duration": 45,
    "start_time": "2022-04-21T16:56:56.903Z"
   },
   {
    "duration": 79,
    "start_time": "2022-04-21T17:05:32.086Z"
   },
   {
    "duration": 16,
    "start_time": "2022-04-21T17:06:36.333Z"
   },
   {
    "duration": 17,
    "start_time": "2022-04-21T17:06:38.005Z"
   },
   {
    "duration": 49,
    "start_time": "2022-04-21T17:06:43.947Z"
   },
   {
    "duration": 13,
    "start_time": "2022-04-21T17:06:43.998Z"
   },
   {
    "duration": 43,
    "start_time": "2022-04-21T17:06:44.012Z"
   },
   {
    "duration": 14,
    "start_time": "2022-04-21T17:06:44.057Z"
   },
   {
    "duration": 7,
    "start_time": "2022-04-21T17:06:44.072Z"
   },
   {
    "duration": 12,
    "start_time": "2022-04-21T17:06:44.081Z"
   },
   {
    "duration": 8,
    "start_time": "2022-04-21T17:06:44.095Z"
   },
   {
    "duration": 8,
    "start_time": "2022-04-21T17:06:44.104Z"
   },
   {
    "duration": 36,
    "start_time": "2022-04-21T17:06:44.114Z"
   },
   {
    "duration": 4,
    "start_time": "2022-04-21T17:06:44.153Z"
   },
   {
    "duration": 5,
    "start_time": "2022-04-21T17:06:44.159Z"
   },
   {
    "duration": 7,
    "start_time": "2022-04-21T17:06:44.165Z"
   },
   {
    "duration": 5,
    "start_time": "2022-04-21T17:06:44.174Z"
   },
   {
    "duration": 19,
    "start_time": "2022-04-21T17:06:44.180Z"
   },
   {
    "duration": 5,
    "start_time": "2022-04-21T17:06:44.201Z"
   },
   {
    "duration": 5,
    "start_time": "2022-04-21T17:06:44.207Z"
   },
   {
    "duration": 34,
    "start_time": "2022-04-21T17:06:44.213Z"
   },
   {
    "duration": 13,
    "start_time": "2022-04-21T17:06:44.249Z"
   },
   {
    "duration": 6,
    "start_time": "2022-04-21T17:06:44.263Z"
   },
   {
    "duration": 6,
    "start_time": "2022-04-21T17:06:44.270Z"
   },
   {
    "duration": 5,
    "start_time": "2022-04-21T17:06:44.278Z"
   },
   {
    "duration": 4,
    "start_time": "2022-04-21T17:06:44.285Z"
   },
   {
    "duration": 5,
    "start_time": "2022-04-21T17:06:44.290Z"
   },
   {
    "duration": 11,
    "start_time": "2022-04-21T17:06:44.296Z"
   },
   {
    "duration": 43,
    "start_time": "2022-04-21T17:06:44.308Z"
   },
   {
    "duration": 6,
    "start_time": "2022-04-21T17:06:44.353Z"
   },
   {
    "duration": 6,
    "start_time": "2022-04-21T17:06:44.361Z"
   },
   {
    "duration": 4,
    "start_time": "2022-04-21T17:06:44.371Z"
   },
   {
    "duration": 10,
    "start_time": "2022-04-21T17:06:44.376Z"
   },
   {
    "duration": 17,
    "start_time": "2022-04-21T17:06:44.387Z"
   },
   {
    "duration": 48,
    "start_time": "2022-04-21T17:06:44.405Z"
   },
   {
    "duration": 16,
    "start_time": "2022-04-21T17:06:44.454Z"
   },
   {
    "duration": 7,
    "start_time": "2022-04-21T17:06:44.471Z"
   },
   {
    "duration": 16,
    "start_time": "2022-04-21T17:06:44.479Z"
   },
   {
    "duration": 17,
    "start_time": "2022-04-21T17:06:44.496Z"
   },
   {
    "duration": 37,
    "start_time": "2022-04-21T17:06:44.514Z"
   },
   {
    "duration": 8,
    "start_time": "2022-04-21T17:06:44.553Z"
   },
   {
    "duration": 11,
    "start_time": "2022-04-21T17:06:44.563Z"
   },
   {
    "duration": 10,
    "start_time": "2022-04-21T17:06:44.576Z"
   },
   {
    "duration": 6,
    "start_time": "2022-04-21T17:06:44.588Z"
   },
   {
    "duration": 24,
    "start_time": "2022-04-21T17:06:44.596Z"
   },
   {
    "duration": 39,
    "start_time": "2022-04-21T17:06:44.622Z"
   },
   {
    "duration": 3,
    "start_time": "2022-04-21T17:06:44.663Z"
   },
   {
    "duration": 6,
    "start_time": "2022-04-21T17:06:44.667Z"
   },
   {
    "duration": 11,
    "start_time": "2022-04-21T17:06:44.675Z"
   },
   {
    "duration": 10,
    "start_time": "2022-04-21T17:06:44.688Z"
   },
   {
    "duration": 8,
    "start_time": "2022-04-21T17:06:44.700Z"
   },
   {
    "duration": 4,
    "start_time": "2022-04-21T17:06:44.709Z"
   },
   {
    "duration": 34,
    "start_time": "2022-04-21T17:06:44.715Z"
   },
   {
    "duration": 15,
    "start_time": "2022-04-21T17:06:44.751Z"
   },
   {
    "duration": 6,
    "start_time": "2022-04-21T17:06:44.768Z"
   },
   {
    "duration": 12,
    "start_time": "2022-04-21T17:06:44.775Z"
   },
   {
    "duration": 20,
    "start_time": "2022-04-21T17:06:44.788Z"
   },
   {
    "duration": 49,
    "start_time": "2022-04-21T17:06:44.810Z"
   },
   {
    "duration": 16,
    "start_time": "2022-04-21T17:06:44.860Z"
   },
   {
    "duration": 17,
    "start_time": "2022-04-21T17:06:44.877Z"
   },
   {
    "duration": 841,
    "start_time": "2022-04-21T17:22:41.271Z"
   },
   {
    "duration": 5,
    "start_time": "2022-04-21T17:22:49.880Z"
   },
   {
    "duration": 3,
    "start_time": "2022-04-21T17:22:54.321Z"
   },
   {
    "duration": 22,
    "start_time": "2022-04-21T17:23:01.176Z"
   },
   {
    "duration": 79,
    "start_time": "2022-04-21T17:25:05.954Z"
   },
   {
    "duration": 92,
    "start_time": "2022-04-21T17:25:11.321Z"
   },
   {
    "duration": 60,
    "start_time": "2022-04-21T17:29:53.611Z"
   },
   {
    "duration": 13,
    "start_time": "2022-04-21T17:29:53.673Z"
   },
   {
    "duration": 15,
    "start_time": "2022-04-21T17:29:53.688Z"
   },
   {
    "duration": 45,
    "start_time": "2022-04-21T17:29:53.705Z"
   },
   {
    "duration": 6,
    "start_time": "2022-04-21T17:29:53.751Z"
   },
   {
    "duration": 14,
    "start_time": "2022-04-21T17:29:53.758Z"
   },
   {
    "duration": 4,
    "start_time": "2022-04-21T17:29:53.774Z"
   },
   {
    "duration": 5,
    "start_time": "2022-04-21T17:29:53.780Z"
   },
   {
    "duration": 3,
    "start_time": "2022-04-21T17:29:53.787Z"
   },
   {
    "duration": 5,
    "start_time": "2022-04-21T17:29:53.793Z"
   },
   {
    "duration": 7,
    "start_time": "2022-04-21T17:29:53.799Z"
   },
   {
    "duration": 42,
    "start_time": "2022-04-21T17:29:53.808Z"
   },
   {
    "duration": 6,
    "start_time": "2022-04-21T17:29:53.851Z"
   },
   {
    "duration": 15,
    "start_time": "2022-04-21T17:29:53.858Z"
   },
   {
    "duration": 5,
    "start_time": "2022-04-21T17:29:53.874Z"
   },
   {
    "duration": 4,
    "start_time": "2022-04-21T17:29:53.881Z"
   },
   {
    "duration": 5,
    "start_time": "2022-04-21T17:29:53.886Z"
   },
   {
    "duration": 12,
    "start_time": "2022-04-21T17:29:53.892Z"
   },
   {
    "duration": 6,
    "start_time": "2022-04-21T17:29:53.905Z"
   },
   {
    "duration": 6,
    "start_time": "2022-04-21T17:29:53.948Z"
   },
   {
    "duration": 5,
    "start_time": "2022-04-21T17:29:53.955Z"
   },
   {
    "duration": 4,
    "start_time": "2022-04-21T17:29:53.962Z"
   },
   {
    "duration": 7,
    "start_time": "2022-04-21T17:29:53.967Z"
   },
   {
    "duration": 10,
    "start_time": "2022-04-21T17:29:53.975Z"
   },
   {
    "duration": 5,
    "start_time": "2022-04-21T17:29:53.987Z"
   },
   {
    "duration": 5,
    "start_time": "2022-04-21T17:29:53.993Z"
   },
   {
    "duration": 5,
    "start_time": "2022-04-21T17:29:54.000Z"
   },
   {
    "duration": 5,
    "start_time": "2022-04-21T17:29:54.047Z"
   },
   {
    "duration": 11,
    "start_time": "2022-04-21T17:29:54.053Z"
   },
   {
    "duration": 17,
    "start_time": "2022-04-21T17:29:54.065Z"
   },
   {
    "duration": 18,
    "start_time": "2022-04-21T17:29:54.083Z"
   },
   {
    "duration": 14,
    "start_time": "2022-04-21T17:29:54.102Z"
   },
   {
    "duration": 33,
    "start_time": "2022-04-21T17:29:54.118Z"
   },
   {
    "duration": 16,
    "start_time": "2022-04-21T17:29:54.153Z"
   },
   {
    "duration": 21,
    "start_time": "2022-04-21T17:29:54.170Z"
   },
   {
    "duration": 8,
    "start_time": "2022-04-21T17:29:54.192Z"
   },
   {
    "duration": 9,
    "start_time": "2022-04-21T17:29:54.201Z"
   },
   {
    "duration": 41,
    "start_time": "2022-04-21T17:29:54.211Z"
   },
   {
    "duration": 12,
    "start_time": "2022-04-21T17:29:54.253Z"
   },
   {
    "duration": 6,
    "start_time": "2022-04-21T17:29:54.266Z"
   },
   {
    "duration": 20,
    "start_time": "2022-04-21T17:29:54.274Z"
   },
   {
    "duration": 14,
    "start_time": "2022-04-21T17:29:54.295Z"
   },
   {
    "duration": 3,
    "start_time": "2022-04-21T17:29:54.311Z"
   },
   {
    "duration": 35,
    "start_time": "2022-04-21T17:29:54.315Z"
   },
   {
    "duration": 10,
    "start_time": "2022-04-21T17:29:54.352Z"
   },
   {
    "duration": 12,
    "start_time": "2022-04-21T17:29:54.363Z"
   },
   {
    "duration": 15,
    "start_time": "2022-04-21T17:29:54.376Z"
   },
   {
    "duration": 12,
    "start_time": "2022-04-21T17:29:54.393Z"
   },
   {
    "duration": 11,
    "start_time": "2022-04-21T17:29:54.406Z"
   },
   {
    "duration": 13,
    "start_time": "2022-04-21T17:29:54.418Z"
   },
   {
    "duration": 17,
    "start_time": "2022-04-21T17:29:54.433Z"
   },
   {
    "duration": 12,
    "start_time": "2022-04-21T17:29:54.452Z"
   },
   {
    "duration": 19,
    "start_time": "2022-04-21T17:29:54.466Z"
   },
   {
    "duration": 17,
    "start_time": "2022-04-21T17:29:54.486Z"
   },
   {
    "duration": 15,
    "start_time": "2022-04-21T17:29:54.504Z"
   },
   {
    "duration": 41,
    "start_time": "2022-04-21T17:29:54.521Z"
   },
   {
    "duration": 87,
    "start_time": "2022-04-21T17:57:27.322Z"
   },
   {
    "duration": 412,
    "start_time": "2022-04-21T19:10:17.404Z"
   },
   {
    "duration": 20,
    "start_time": "2022-04-21T19:10:17.818Z"
   },
   {
    "duration": 15,
    "start_time": "2022-04-21T19:10:17.839Z"
   },
   {
    "duration": 13,
    "start_time": "2022-04-21T19:10:17.856Z"
   },
   {
    "duration": 7,
    "start_time": "2022-04-21T19:10:17.870Z"
   },
   {
    "duration": 14,
    "start_time": "2022-04-21T19:10:17.878Z"
   },
   {
    "duration": 7,
    "start_time": "2022-04-21T19:10:17.894Z"
   },
   {
    "duration": 7,
    "start_time": "2022-04-21T19:10:17.902Z"
   },
   {
    "duration": 38,
    "start_time": "2022-04-21T19:10:17.910Z"
   },
   {
    "duration": 5,
    "start_time": "2022-04-21T19:10:17.951Z"
   },
   {
    "duration": 13,
    "start_time": "2022-04-21T19:10:17.957Z"
   },
   {
    "duration": 10,
    "start_time": "2022-04-21T19:10:17.972Z"
   },
   {
    "duration": 10,
    "start_time": "2022-04-21T19:10:17.984Z"
   },
   {
    "duration": 23,
    "start_time": "2022-04-21T19:10:17.995Z"
   },
   {
    "duration": 5,
    "start_time": "2022-04-21T19:10:18.019Z"
   },
   {
    "duration": 7,
    "start_time": "2022-04-21T19:10:18.026Z"
   },
   {
    "duration": 5,
    "start_time": "2022-04-21T19:10:18.048Z"
   },
   {
    "duration": 33,
    "start_time": "2022-04-21T19:10:18.054Z"
   },
   {
    "duration": 8,
    "start_time": "2022-04-21T19:10:18.088Z"
   },
   {
    "duration": 34,
    "start_time": "2022-04-21T19:10:18.097Z"
   },
   {
    "duration": 7,
    "start_time": "2022-04-21T19:10:18.133Z"
   },
   {
    "duration": 10,
    "start_time": "2022-04-21T19:10:18.141Z"
   },
   {
    "duration": 8,
    "start_time": "2022-04-21T19:10:18.152Z"
   },
   {
    "duration": 18,
    "start_time": "2022-04-21T19:10:18.161Z"
   },
   {
    "duration": 13,
    "start_time": "2022-04-21T19:10:18.181Z"
   },
   {
    "duration": 9,
    "start_time": "2022-04-21T19:10:18.196Z"
   },
   {
    "duration": 7,
    "start_time": "2022-04-21T19:10:18.206Z"
   },
   {
    "duration": 6,
    "start_time": "2022-04-21T19:10:18.217Z"
   },
   {
    "duration": 24,
    "start_time": "2022-04-21T19:10:18.224Z"
   },
   {
    "duration": 34,
    "start_time": "2022-04-21T19:10:18.249Z"
   },
   {
    "duration": 30,
    "start_time": "2022-04-21T19:10:18.284Z"
   },
   {
    "duration": 15,
    "start_time": "2022-04-21T19:10:18.315Z"
   },
   {
    "duration": 6,
    "start_time": "2022-04-21T19:10:18.332Z"
   },
   {
    "duration": 17,
    "start_time": "2022-04-21T19:10:18.339Z"
   },
   {
    "duration": 16,
    "start_time": "2022-04-21T19:10:18.358Z"
   },
   {
    "duration": 9,
    "start_time": "2022-04-21T19:10:18.376Z"
   },
   {
    "duration": 10,
    "start_time": "2022-04-21T19:10:18.387Z"
   },
   {
    "duration": 11,
    "start_time": "2022-04-21T19:10:18.398Z"
   },
   {
    "duration": 11,
    "start_time": "2022-04-21T19:10:18.411Z"
   },
   {
    "duration": 8,
    "start_time": "2022-04-21T19:10:18.447Z"
   },
   {
    "duration": 21,
    "start_time": "2022-04-21T19:10:18.457Z"
   },
   {
    "duration": 15,
    "start_time": "2022-04-21T19:10:18.480Z"
   },
   {
    "duration": 4,
    "start_time": "2022-04-21T19:10:18.496Z"
   },
   {
    "duration": 5,
    "start_time": "2022-04-21T19:10:18.502Z"
   },
   {
    "duration": 43,
    "start_time": "2022-04-21T19:10:18.509Z"
   },
   {
    "duration": 11,
    "start_time": "2022-04-21T19:10:18.554Z"
   },
   {
    "duration": 8,
    "start_time": "2022-04-21T19:10:18.567Z"
   },
   {
    "duration": 4,
    "start_time": "2022-04-21T19:10:18.577Z"
   },
   {
    "duration": 8,
    "start_time": "2022-04-21T19:10:18.583Z"
   },
   {
    "duration": 15,
    "start_time": "2022-04-21T19:10:18.593Z"
   },
   {
    "duration": 6,
    "start_time": "2022-04-21T19:10:18.610Z"
   },
   {
    "duration": 35,
    "start_time": "2022-04-21T19:10:18.617Z"
   },
   {
    "duration": 22,
    "start_time": "2022-04-21T19:10:18.654Z"
   },
   {
    "duration": 17,
    "start_time": "2022-04-21T19:10:18.677Z"
   },
   {
    "duration": 18,
    "start_time": "2022-04-21T19:10:18.695Z"
   },
   {
    "duration": 42,
    "start_time": "2022-04-21T19:10:18.715Z"
   },
   {
    "duration": 473,
    "start_time": "2022-04-21T19:54:48.018Z"
   },
   {
    "duration": 20,
    "start_time": "2022-04-21T19:54:48.493Z"
   },
   {
    "duration": 17,
    "start_time": "2022-04-21T19:54:48.514Z"
   },
   {
    "duration": 13,
    "start_time": "2022-04-21T19:54:48.547Z"
   },
   {
    "duration": 8,
    "start_time": "2022-04-21T19:54:48.562Z"
   },
   {
    "duration": 13,
    "start_time": "2022-04-21T19:54:48.571Z"
   },
   {
    "duration": 4,
    "start_time": "2022-04-21T19:54:48.586Z"
   },
   {
    "duration": 6,
    "start_time": "2022-04-21T19:54:48.591Z"
   },
   {
    "duration": 4,
    "start_time": "2022-04-21T19:54:48.599Z"
   },
   {
    "duration": 5,
    "start_time": "2022-04-21T19:54:48.605Z"
   },
   {
    "duration": 5,
    "start_time": "2022-04-21T19:54:48.647Z"
   },
   {
    "duration": 9,
    "start_time": "2022-04-21T19:54:48.654Z"
   },
   {
    "duration": 5,
    "start_time": "2022-04-21T19:54:48.664Z"
   },
   {
    "duration": 13,
    "start_time": "2022-04-21T19:54:48.670Z"
   },
   {
    "duration": 4,
    "start_time": "2022-04-21T19:54:48.684Z"
   },
   {
    "duration": 5,
    "start_time": "2022-04-21T19:54:48.690Z"
   },
   {
    "duration": 8,
    "start_time": "2022-04-21T19:54:48.697Z"
   },
   {
    "duration": 41,
    "start_time": "2022-04-21T19:54:48.707Z"
   },
   {
    "duration": 7,
    "start_time": "2022-04-21T19:54:48.749Z"
   },
   {
    "duration": 5,
    "start_time": "2022-04-21T19:54:48.757Z"
   },
   {
    "duration": 4,
    "start_time": "2022-04-21T19:54:48.764Z"
   },
   {
    "duration": 5,
    "start_time": "2022-04-21T19:54:48.769Z"
   },
   {
    "duration": 5,
    "start_time": "2022-04-21T19:54:48.775Z"
   },
   {
    "duration": 10,
    "start_time": "2022-04-21T19:54:48.782Z"
   },
   {
    "duration": 5,
    "start_time": "2022-04-21T19:54:48.793Z"
   },
   {
    "duration": 5,
    "start_time": "2022-04-21T19:54:48.800Z"
   },
   {
    "duration": 41,
    "start_time": "2022-04-21T19:54:48.807Z"
   },
   {
    "duration": 5,
    "start_time": "2022-04-21T19:54:48.851Z"
   },
   {
    "duration": 11,
    "start_time": "2022-04-21T19:54:48.857Z"
   },
   {
    "duration": 17,
    "start_time": "2022-04-21T19:54:48.870Z"
   },
   {
    "duration": 17,
    "start_time": "2022-04-21T19:54:48.888Z"
   },
   {
    "duration": 41,
    "start_time": "2022-04-21T19:54:48.906Z"
   },
   {
    "duration": 6,
    "start_time": "2022-04-21T19:54:48.949Z"
   },
   {
    "duration": 15,
    "start_time": "2022-04-21T19:54:48.957Z"
   },
   {
    "duration": 17,
    "start_time": "2022-04-21T19:54:48.974Z"
   },
   {
    "duration": 7,
    "start_time": "2022-04-21T19:54:48.992Z"
   },
   {
    "duration": 8,
    "start_time": "2022-04-21T19:54:49.001Z"
   },
   {
    "duration": 39,
    "start_time": "2022-04-21T19:54:49.010Z"
   },
   {
    "duration": 11,
    "start_time": "2022-04-21T19:54:49.051Z"
   },
   {
    "duration": 5,
    "start_time": "2022-04-21T19:54:49.064Z"
   },
   {
    "duration": 20,
    "start_time": "2022-04-21T19:54:49.071Z"
   },
   {
    "duration": 13,
    "start_time": "2022-04-21T19:54:49.093Z"
   },
   {
    "duration": 3,
    "start_time": "2022-04-21T19:54:49.108Z"
   },
   {
    "duration": 37,
    "start_time": "2022-04-21T19:54:49.112Z"
   },
   {
    "duration": 10,
    "start_time": "2022-04-21T19:54:49.151Z"
   },
   {
    "duration": 10,
    "start_time": "2022-04-21T19:54:49.163Z"
   },
   {
    "duration": 6,
    "start_time": "2022-04-21T19:54:49.174Z"
   },
   {
    "duration": 5,
    "start_time": "2022-04-21T19:54:49.182Z"
   },
   {
    "duration": 7,
    "start_time": "2022-04-21T19:54:49.188Z"
   },
   {
    "duration": 14,
    "start_time": "2022-04-21T19:54:49.197Z"
   },
   {
    "duration": 36,
    "start_time": "2022-04-21T19:54:49.212Z"
   },
   {
    "duration": 12,
    "start_time": "2022-04-21T19:54:49.250Z"
   },
   {
    "duration": 20,
    "start_time": "2022-04-21T19:54:49.263Z"
   },
   {
    "duration": 16,
    "start_time": "2022-04-21T19:54:49.284Z"
   },
   {
    "duration": 16,
    "start_time": "2022-04-21T19:54:49.301Z"
   },
   {
    "duration": 43,
    "start_time": "2022-04-21T19:54:49.318Z"
   },
   {
    "duration": 480,
    "start_time": "2022-04-21T20:28:36.933Z"
   },
   {
    "duration": 19,
    "start_time": "2022-04-21T20:28:37.415Z"
   },
   {
    "duration": 19,
    "start_time": "2022-04-21T20:28:37.436Z"
   },
   {
    "duration": 13,
    "start_time": "2022-04-21T20:28:37.457Z"
   },
   {
    "duration": 5,
    "start_time": "2022-04-21T20:28:37.472Z"
   },
   {
    "duration": 14,
    "start_time": "2022-04-21T20:28:37.478Z"
   },
   {
    "duration": 5,
    "start_time": "2022-04-21T20:28:37.493Z"
   },
   {
    "duration": 7,
    "start_time": "2022-04-21T20:28:37.499Z"
   },
   {
    "duration": 41,
    "start_time": "2022-04-21T20:28:37.507Z"
   },
   {
    "duration": 5,
    "start_time": "2022-04-21T20:28:37.551Z"
   },
   {
    "duration": 9,
    "start_time": "2022-04-21T20:28:37.557Z"
   },
   {
    "duration": 11,
    "start_time": "2022-04-21T20:28:37.568Z"
   },
   {
    "duration": 5,
    "start_time": "2022-04-21T20:28:37.580Z"
   },
   {
    "duration": 13,
    "start_time": "2022-04-21T20:28:37.587Z"
   },
   {
    "duration": 5,
    "start_time": "2022-04-21T20:28:37.602Z"
   },
   {
    "duration": 39,
    "start_time": "2022-04-21T20:28:37.609Z"
   },
   {
    "duration": 5,
    "start_time": "2022-04-21T20:28:37.650Z"
   },
   {
    "duration": 13,
    "start_time": "2022-04-21T20:28:37.657Z"
   },
   {
    "duration": 6,
    "start_time": "2022-04-21T20:28:37.671Z"
   },
   {
    "duration": 6,
    "start_time": "2022-04-21T20:28:37.679Z"
   },
   {
    "duration": 6,
    "start_time": "2022-04-21T20:28:37.686Z"
   },
   {
    "duration": 5,
    "start_time": "2022-04-21T20:28:37.693Z"
   },
   {
    "duration": 5,
    "start_time": "2022-04-21T20:28:37.699Z"
   },
   {
    "duration": 51,
    "start_time": "2022-04-21T20:28:37.705Z"
   },
   {
    "duration": 6,
    "start_time": "2022-04-21T20:28:37.758Z"
   },
   {
    "duration": 5,
    "start_time": "2022-04-21T20:28:37.766Z"
   },
   {
    "duration": 5,
    "start_time": "2022-04-21T20:28:37.772Z"
   },
   {
    "duration": 4,
    "start_time": "2022-04-21T20:28:37.780Z"
   },
   {
    "duration": 10,
    "start_time": "2022-04-21T20:28:37.786Z"
   },
   {
    "duration": 51,
    "start_time": "2022-04-21T20:28:37.797Z"
   },
   {
    "duration": 19,
    "start_time": "2022-04-21T20:28:37.850Z"
   },
   {
    "duration": 17,
    "start_time": "2022-04-21T20:28:37.871Z"
   },
   {
    "duration": 7,
    "start_time": "2022-04-21T20:28:37.889Z"
   },
   {
    "duration": 19,
    "start_time": "2022-04-21T20:28:37.898Z"
   },
   {
    "duration": 43,
    "start_time": "2022-04-21T20:28:37.919Z"
   },
   {
    "duration": 8,
    "start_time": "2022-04-21T20:28:37.964Z"
   },
   {
    "duration": 8,
    "start_time": "2022-04-21T20:28:37.973Z"
   },
   {
    "duration": 12,
    "start_time": "2022-04-21T20:28:37.983Z"
   },
   {
    "duration": 12,
    "start_time": "2022-04-21T20:28:37.996Z"
   },
   {
    "duration": 42,
    "start_time": "2022-04-21T20:28:38.010Z"
   },
   {
    "duration": 25,
    "start_time": "2022-04-21T20:28:38.054Z"
   },
   {
    "duration": 14,
    "start_time": "2022-04-21T20:28:38.081Z"
   },
   {
    "duration": 3,
    "start_time": "2022-04-21T20:28:38.097Z"
   },
   {
    "duration": 6,
    "start_time": "2022-04-21T20:28:38.102Z"
   },
   {
    "duration": 10,
    "start_time": "2022-04-21T20:28:38.110Z"
   },
   {
    "duration": 11,
    "start_time": "2022-04-21T20:28:38.148Z"
   },
   {
    "duration": 7,
    "start_time": "2022-04-21T20:28:38.161Z"
   },
   {
    "duration": 4,
    "start_time": "2022-04-21T20:28:38.169Z"
   },
   {
    "duration": 6,
    "start_time": "2022-04-21T20:28:38.175Z"
   },
   {
    "duration": 13,
    "start_time": "2022-04-21T20:28:38.183Z"
   },
   {
    "duration": 6,
    "start_time": "2022-04-21T20:28:38.198Z"
   },
   {
    "duration": 45,
    "start_time": "2022-04-21T20:28:38.205Z"
   },
   {
    "duration": 21,
    "start_time": "2022-04-21T20:28:38.252Z"
   },
   {
    "duration": 16,
    "start_time": "2022-04-21T20:28:38.275Z"
   },
   {
    "duration": 17,
    "start_time": "2022-04-21T20:28:38.293Z"
   },
   {
    "duration": 47,
    "start_time": "2022-04-21T20:28:38.311Z"
   },
   {
    "duration": 479,
    "start_time": "2022-04-21T20:40:59.627Z"
   },
   {
    "duration": 20,
    "start_time": "2022-04-21T20:41:00.108Z"
   },
   {
    "duration": 23,
    "start_time": "2022-04-21T20:41:00.130Z"
   },
   {
    "duration": 14,
    "start_time": "2022-04-21T20:41:00.155Z"
   },
   {
    "duration": 11,
    "start_time": "2022-04-21T20:41:00.171Z"
   },
   {
    "duration": 20,
    "start_time": "2022-04-21T20:41:00.184Z"
   },
   {
    "duration": 18,
    "start_time": "2022-04-21T20:41:00.205Z"
   },
   {
    "duration": 13,
    "start_time": "2022-04-21T20:41:00.225Z"
   },
   {
    "duration": 8,
    "start_time": "2022-04-21T20:41:00.240Z"
   },
   {
    "duration": 7,
    "start_time": "2022-04-21T20:41:00.251Z"
   },
   {
    "duration": 6,
    "start_time": "2022-04-21T20:41:00.260Z"
   },
   {
    "duration": 8,
    "start_time": "2022-04-21T20:41:00.268Z"
   },
   {
    "duration": 8,
    "start_time": "2022-04-21T20:41:00.277Z"
   },
   {
    "duration": 20,
    "start_time": "2022-04-21T20:41:00.286Z"
   },
   {
    "duration": 6,
    "start_time": "2022-04-21T20:41:00.307Z"
   },
   {
    "duration": 35,
    "start_time": "2022-04-21T20:41:00.315Z"
   },
   {
    "duration": 5,
    "start_time": "2022-04-21T20:41:00.352Z"
   },
   {
    "duration": 14,
    "start_time": "2022-04-21T20:41:00.359Z"
   },
   {
    "duration": 6,
    "start_time": "2022-04-21T20:41:00.375Z"
   },
   {
    "duration": 5,
    "start_time": "2022-04-21T20:41:00.383Z"
   },
   {
    "duration": 6,
    "start_time": "2022-04-21T20:41:00.390Z"
   },
   {
    "duration": 5,
    "start_time": "2022-04-21T20:41:00.398Z"
   },
   {
    "duration": 46,
    "start_time": "2022-04-21T20:41:00.405Z"
   },
   {
    "duration": 18,
    "start_time": "2022-04-21T20:41:00.453Z"
   },
   {
    "duration": 25,
    "start_time": "2022-04-21T20:41:00.473Z"
   },
   {
    "duration": 22,
    "start_time": "2022-04-21T20:41:00.500Z"
   },
   {
    "duration": 12,
    "start_time": "2022-04-21T20:41:00.523Z"
   },
   {
    "duration": 7,
    "start_time": "2022-04-21T20:41:00.539Z"
   },
   {
    "duration": 20,
    "start_time": "2022-04-21T20:41:00.548Z"
   },
   {
    "duration": 24,
    "start_time": "2022-04-21T20:41:00.570Z"
   },
   {
    "duration": 19,
    "start_time": "2022-04-21T20:41:00.596Z"
   },
   {
    "duration": 16,
    "start_time": "2022-04-21T20:41:00.617Z"
   },
   {
    "duration": 6,
    "start_time": "2022-04-21T20:41:00.634Z"
   },
   {
    "duration": 16,
    "start_time": "2022-04-21T20:41:00.647Z"
   },
   {
    "duration": 18,
    "start_time": "2022-04-21T20:41:00.665Z"
   },
   {
    "duration": 9,
    "start_time": "2022-04-21T20:41:00.685Z"
   },
   {
    "duration": 10,
    "start_time": "2022-04-21T20:41:00.696Z"
   },
   {
    "duration": 41,
    "start_time": "2022-04-21T20:41:00.708Z"
   },
   {
    "duration": 13,
    "start_time": "2022-04-21T20:41:00.750Z"
   },
   {
    "duration": 6,
    "start_time": "2022-04-21T20:41:00.765Z"
   },
   {
    "duration": 23,
    "start_time": "2022-04-21T20:41:00.773Z"
   },
   {
    "duration": 15,
    "start_time": "2022-04-21T20:41:00.798Z"
   },
   {
    "duration": 33,
    "start_time": "2022-04-21T20:41:00.815Z"
   },
   {
    "duration": 8,
    "start_time": "2022-04-21T20:41:00.850Z"
   },
   {
    "duration": 11,
    "start_time": "2022-04-21T20:41:00.860Z"
   },
   {
    "duration": 11,
    "start_time": "2022-04-21T20:41:00.873Z"
   },
   {
    "duration": 10,
    "start_time": "2022-04-21T20:41:00.886Z"
   },
   {
    "duration": 5,
    "start_time": "2022-04-21T20:41:00.898Z"
   },
   {
    "duration": 9,
    "start_time": "2022-04-21T20:41:00.905Z"
   },
   {
    "duration": 38,
    "start_time": "2022-04-21T20:41:00.915Z"
   },
   {
    "duration": 7,
    "start_time": "2022-04-21T20:41:00.954Z"
   },
   {
    "duration": 13,
    "start_time": "2022-04-21T20:41:00.962Z"
   },
   {
    "duration": 24,
    "start_time": "2022-04-21T20:41:00.977Z"
   },
   {
    "duration": 18,
    "start_time": "2022-04-21T20:41:01.003Z"
   },
   {
    "duration": 18,
    "start_time": "2022-04-21T20:41:01.047Z"
   },
   {
    "duration": 18,
    "start_time": "2022-04-21T20:41:01.067Z"
   },
   {
    "duration": 9,
    "start_time": "2022-04-21T20:46:16.969Z"
   },
   {
    "duration": 63,
    "start_time": "2022-04-21T20:47:59.319Z"
   },
   {
    "duration": 4,
    "start_time": "2022-04-21T20:51:26.660Z"
   },
   {
    "duration": 7,
    "start_time": "2022-04-21T20:51:31.063Z"
   },
   {
    "duration": 11,
    "start_time": "2022-04-21T20:51:46.585Z"
   },
   {
    "duration": 17,
    "start_time": "2022-04-21T21:14:38.880Z"
   },
   {
    "duration": 19,
    "start_time": "2022-04-21T21:17:33.990Z"
   },
   {
    "duration": 480,
    "start_time": "2022-04-21T21:17:41.039Z"
   },
   {
    "duration": 20,
    "start_time": "2022-04-21T21:17:41.520Z"
   },
   {
    "duration": 19,
    "start_time": "2022-04-21T21:17:41.541Z"
   },
   {
    "duration": 13,
    "start_time": "2022-04-21T21:17:41.562Z"
   },
   {
    "duration": 7,
    "start_time": "2022-04-21T21:17:41.576Z"
   },
   {
    "duration": 11,
    "start_time": "2022-04-21T21:17:41.585Z"
   },
   {
    "duration": 5,
    "start_time": "2022-04-21T21:17:41.598Z"
   },
   {
    "duration": 4,
    "start_time": "2022-04-21T21:17:41.605Z"
   },
   {
    "duration": 5,
    "start_time": "2022-04-21T21:17:41.647Z"
   },
   {
    "duration": 6,
    "start_time": "2022-04-21T21:17:41.654Z"
   },
   {
    "duration": 5,
    "start_time": "2022-04-21T21:17:41.661Z"
   },
   {
    "duration": 5,
    "start_time": "2022-04-21T21:17:41.667Z"
   },
   {
    "duration": 4,
    "start_time": "2022-04-21T21:17:41.674Z"
   },
   {
    "duration": 13,
    "start_time": "2022-04-21T21:17:41.680Z"
   },
   {
    "duration": 8,
    "start_time": "2022-04-21T21:17:41.695Z"
   },
   {
    "duration": 43,
    "start_time": "2022-04-21T21:17:41.704Z"
   },
   {
    "duration": 4,
    "start_time": "2022-04-21T21:17:41.749Z"
   },
   {
    "duration": 14,
    "start_time": "2022-04-21T21:17:41.754Z"
   },
   {
    "duration": 6,
    "start_time": "2022-04-21T21:17:41.769Z"
   },
   {
    "duration": 5,
    "start_time": "2022-04-21T21:17:41.776Z"
   },
   {
    "duration": 5,
    "start_time": "2022-04-21T21:17:41.782Z"
   },
   {
    "duration": 4,
    "start_time": "2022-04-21T21:17:41.788Z"
   },
   {
    "duration": 4,
    "start_time": "2022-04-21T21:17:41.793Z"
   },
   {
    "duration": 55,
    "start_time": "2022-04-21T21:17:41.799Z"
   },
   {
    "duration": 6,
    "start_time": "2022-04-21T21:17:41.856Z"
   },
   {
    "duration": 7,
    "start_time": "2022-04-21T21:17:41.863Z"
   },
   {
    "duration": 6,
    "start_time": "2022-04-21T21:17:41.871Z"
   },
   {
    "duration": 4,
    "start_time": "2022-04-21T21:17:41.880Z"
   },
   {
    "duration": 11,
    "start_time": "2022-04-21T21:17:41.885Z"
   },
   {
    "duration": 17,
    "start_time": "2022-04-21T21:17:41.898Z"
   },
   {
    "duration": 48,
    "start_time": "2022-04-21T21:17:41.916Z"
   },
   {
    "duration": 16,
    "start_time": "2022-04-21T21:17:41.965Z"
   },
   {
    "duration": 7,
    "start_time": "2022-04-21T21:17:41.982Z"
   },
   {
    "duration": 17,
    "start_time": "2022-04-21T21:17:41.990Z"
   },
   {
    "duration": 43,
    "start_time": "2022-04-21T21:17:42.009Z"
   },
   {
    "duration": 7,
    "start_time": "2022-04-21T21:17:42.054Z"
   },
   {
    "duration": 9,
    "start_time": "2022-04-21T21:17:42.063Z"
   },
   {
    "duration": 12,
    "start_time": "2022-04-21T21:17:42.074Z"
   },
   {
    "duration": 15,
    "start_time": "2022-04-21T21:17:42.088Z"
   },
   {
    "duration": 6,
    "start_time": "2022-04-21T21:17:42.105Z"
   },
   {
    "duration": 58,
    "start_time": "2022-04-21T21:17:42.113Z"
   },
   {
    "duration": 19,
    "start_time": "2022-04-21T21:17:42.173Z"
   },
   {
    "duration": 4,
    "start_time": "2022-04-21T21:17:42.194Z"
   },
   {
    "duration": 6,
    "start_time": "2022-04-21T21:17:42.200Z"
   },
   {
    "duration": 39,
    "start_time": "2022-04-21T21:17:42.208Z"
   },
   {
    "duration": 15,
    "start_time": "2022-04-21T21:17:42.249Z"
   },
   {
    "duration": 10,
    "start_time": "2022-04-21T21:17:42.266Z"
   },
   {
    "duration": 5,
    "start_time": "2022-04-21T21:17:42.277Z"
   },
   {
    "duration": 8,
    "start_time": "2022-04-21T21:17:42.284Z"
   },
   {
    "duration": 22,
    "start_time": "2022-04-21T21:17:42.293Z"
   },
   {
    "duration": 32,
    "start_time": "2022-04-21T21:17:42.317Z"
   },
   {
    "duration": 17,
    "start_time": "2022-04-21T21:17:42.351Z"
   },
   {
    "duration": 21,
    "start_time": "2022-04-21T21:17:42.370Z"
   },
   {
    "duration": 18,
    "start_time": "2022-04-21T21:17:42.393Z"
   },
   {
    "duration": 48,
    "start_time": "2022-04-21T21:17:42.413Z"
   },
   {
    "duration": 18,
    "start_time": "2022-04-21T21:17:42.464Z"
   },
   {
    "duration": 51,
    "start_time": "2022-04-21T21:19:20.836Z"
   },
   {
    "duration": 13,
    "start_time": "2022-04-21T21:19:20.889Z"
   },
   {
    "duration": 44,
    "start_time": "2022-04-21T21:19:20.904Z"
   },
   {
    "duration": 13,
    "start_time": "2022-04-21T21:19:20.950Z"
   },
   {
    "duration": 5,
    "start_time": "2022-04-21T21:19:20.964Z"
   },
   {
    "duration": 12,
    "start_time": "2022-04-21T21:19:20.970Z"
   },
   {
    "duration": 5,
    "start_time": "2022-04-21T21:19:20.983Z"
   },
   {
    "duration": 5,
    "start_time": "2022-04-21T21:19:20.989Z"
   },
   {
    "duration": 8,
    "start_time": "2022-04-21T21:19:20.996Z"
   },
   {
    "duration": 5,
    "start_time": "2022-04-21T21:19:21.048Z"
   },
   {
    "duration": 7,
    "start_time": "2022-04-21T21:19:21.055Z"
   },
   {
    "duration": 6,
    "start_time": "2022-04-21T21:19:21.064Z"
   },
   {
    "duration": 6,
    "start_time": "2022-04-21T21:19:21.072Z"
   },
   {
    "duration": 12,
    "start_time": "2022-04-21T21:19:21.080Z"
   },
   {
    "duration": 5,
    "start_time": "2022-04-21T21:19:21.094Z"
   },
   {
    "duration": 5,
    "start_time": "2022-04-21T21:19:21.100Z"
   },
   {
    "duration": 46,
    "start_time": "2022-04-21T21:19:21.106Z"
   },
   {
    "duration": 15,
    "start_time": "2022-04-21T21:19:21.153Z"
   },
   {
    "duration": 6,
    "start_time": "2022-04-21T21:19:21.169Z"
   },
   {
    "duration": 8,
    "start_time": "2022-04-21T21:19:21.176Z"
   },
   {
    "duration": 6,
    "start_time": "2022-04-21T21:19:21.185Z"
   },
   {
    "duration": 5,
    "start_time": "2022-04-21T21:19:21.193Z"
   },
   {
    "duration": 8,
    "start_time": "2022-04-21T21:19:21.200Z"
   },
   {
    "duration": 44,
    "start_time": "2022-04-21T21:19:21.210Z"
   },
   {
    "duration": 6,
    "start_time": "2022-04-21T21:19:21.256Z"
   },
   {
    "duration": 7,
    "start_time": "2022-04-21T21:19:21.264Z"
   },
   {
    "duration": 6,
    "start_time": "2022-04-21T21:19:21.274Z"
   },
   {
    "duration": 6,
    "start_time": "2022-04-21T21:19:21.284Z"
   },
   {
    "duration": 17,
    "start_time": "2022-04-21T21:19:21.292Z"
   },
   {
    "duration": 53,
    "start_time": "2022-04-21T21:19:21.311Z"
   },
   {
    "duration": 17,
    "start_time": "2022-04-21T21:19:21.365Z"
   },
   {
    "duration": 16,
    "start_time": "2022-04-21T21:19:21.384Z"
   },
   {
    "duration": 7,
    "start_time": "2022-04-21T21:19:21.401Z"
   },
   {
    "duration": 48,
    "start_time": "2022-04-21T21:19:21.409Z"
   },
   {
    "duration": 17,
    "start_time": "2022-04-21T21:19:21.458Z"
   },
   {
    "duration": 7,
    "start_time": "2022-04-21T21:19:21.477Z"
   },
   {
    "duration": 9,
    "start_time": "2022-04-21T21:19:21.485Z"
   },
   {
    "duration": 13,
    "start_time": "2022-04-21T21:19:21.495Z"
   },
   {
    "duration": 38,
    "start_time": "2022-04-21T21:19:21.510Z"
   },
   {
    "duration": 7,
    "start_time": "2022-04-21T21:19:21.550Z"
   },
   {
    "duration": 23,
    "start_time": "2022-04-21T21:19:21.558Z"
   },
   {
    "duration": 15,
    "start_time": "2022-04-21T21:19:21.582Z"
   },
   {
    "duration": 4,
    "start_time": "2022-04-21T21:19:21.598Z"
   },
   {
    "duration": 7,
    "start_time": "2022-04-21T21:19:21.604Z"
   },
   {
    "duration": 36,
    "start_time": "2022-04-21T21:19:21.613Z"
   },
   {
    "duration": 12,
    "start_time": "2022-04-21T21:19:21.650Z"
   },
   {
    "duration": 10,
    "start_time": "2022-04-21T21:19:21.664Z"
   },
   {
    "duration": 9,
    "start_time": "2022-04-21T21:19:21.675Z"
   },
   {
    "duration": 9,
    "start_time": "2022-04-21T21:19:21.685Z"
   },
   {
    "duration": 14,
    "start_time": "2022-04-21T21:19:21.695Z"
   },
   {
    "duration": 10,
    "start_time": "2022-04-21T21:19:21.710Z"
   },
   {
    "duration": 35,
    "start_time": "2022-04-21T21:19:21.722Z"
   },
   {
    "duration": 21,
    "start_time": "2022-04-21T21:19:21.759Z"
   },
   {
    "duration": 18,
    "start_time": "2022-04-21T21:19:21.782Z"
   },
   {
    "duration": 46,
    "start_time": "2022-04-21T21:19:21.802Z"
   },
   {
    "duration": 18,
    "start_time": "2022-04-21T21:19:21.849Z"
   },
   {
    "duration": 6,
    "start_time": "2022-04-21T21:25:21.980Z"
   },
   {
    "duration": 52,
    "start_time": "2022-04-21T21:25:24.903Z"
   },
   {
    "duration": 13,
    "start_time": "2022-04-21T21:25:24.957Z"
   },
   {
    "duration": 17,
    "start_time": "2022-04-21T21:25:24.971Z"
   },
   {
    "duration": 15,
    "start_time": "2022-04-21T21:25:24.990Z"
   },
   {
    "duration": 5,
    "start_time": "2022-04-21T21:25:25.007Z"
   },
   {
    "duration": 43,
    "start_time": "2022-04-21T21:25:25.013Z"
   },
   {
    "duration": 9,
    "start_time": "2022-04-21T21:25:25.058Z"
   },
   {
    "duration": 6,
    "start_time": "2022-04-21T21:25:25.068Z"
   },
   {
    "duration": 4,
    "start_time": "2022-04-21T21:25:25.075Z"
   },
   {
    "duration": 3,
    "start_time": "2022-04-21T21:25:25.082Z"
   },
   {
    "duration": 8,
    "start_time": "2022-04-21T21:25:25.087Z"
   },
   {
    "duration": 7,
    "start_time": "2022-04-21T21:25:25.097Z"
   },
   {
    "duration": 5,
    "start_time": "2022-04-21T21:25:25.106Z"
   },
   {
    "duration": 42,
    "start_time": "2022-04-21T21:25:25.112Z"
   },
   {
    "duration": 5,
    "start_time": "2022-04-21T21:25:25.155Z"
   },
   {
    "duration": 4,
    "start_time": "2022-04-21T21:25:25.162Z"
   },
   {
    "duration": 5,
    "start_time": "2022-04-21T21:25:25.167Z"
   },
   {
    "duration": 11,
    "start_time": "2022-04-21T21:25:25.173Z"
   },
   {
    "duration": 5,
    "start_time": "2022-04-21T21:25:25.186Z"
   },
   {
    "duration": 6,
    "start_time": "2022-04-21T21:25:25.192Z"
   },
   {
    "duration": 5,
    "start_time": "2022-04-21T21:25:25.200Z"
   },
   {
    "duration": 5,
    "start_time": "2022-04-21T21:25:25.247Z"
   },
   {
    "duration": 8,
    "start_time": "2022-04-21T21:25:25.253Z"
   },
   {
    "duration": 11,
    "start_time": "2022-04-21T21:25:25.262Z"
   },
   {
    "duration": 5,
    "start_time": "2022-04-21T21:25:25.274Z"
   },
   {
    "duration": 6,
    "start_time": "2022-04-21T21:25:25.281Z"
   },
   {
    "duration": 5,
    "start_time": "2022-04-21T21:25:25.288Z"
   },
   {
    "duration": 4,
    "start_time": "2022-04-21T21:25:25.296Z"
   },
   {
    "duration": 9,
    "start_time": "2022-04-21T21:25:25.302Z"
   },
   {
    "duration": 17,
    "start_time": "2022-04-21T21:25:25.348Z"
   },
   {
    "duration": 17,
    "start_time": "2022-04-21T21:25:25.366Z"
   },
   {
    "duration": 16,
    "start_time": "2022-04-21T21:25:25.385Z"
   },
   {
    "duration": 6,
    "start_time": "2022-04-21T21:25:25.403Z"
   },
   {
    "duration": 45,
    "start_time": "2022-04-21T21:25:25.411Z"
   },
   {
    "duration": 18,
    "start_time": "2022-04-21T21:25:25.458Z"
   },
   {
    "duration": 9,
    "start_time": "2022-04-21T21:25:25.477Z"
   },
   {
    "duration": 11,
    "start_time": "2022-04-21T21:25:25.487Z"
   },
   {
    "duration": 11,
    "start_time": "2022-04-21T21:25:25.500Z"
   },
   {
    "duration": 39,
    "start_time": "2022-04-21T21:25:25.513Z"
   },
   {
    "duration": 6,
    "start_time": "2022-04-21T21:25:25.554Z"
   },
   {
    "duration": 23,
    "start_time": "2022-04-21T21:25:25.562Z"
   },
   {
    "duration": 14,
    "start_time": "2022-04-21T21:25:25.586Z"
   },
   {
    "duration": 3,
    "start_time": "2022-04-21T21:25:25.601Z"
   },
   {
    "duration": 11,
    "start_time": "2022-04-21T21:25:25.606Z"
   },
   {
    "duration": 30,
    "start_time": "2022-04-21T21:25:25.619Z"
   },
   {
    "duration": 13,
    "start_time": "2022-04-21T21:25:25.650Z"
   },
   {
    "duration": 8,
    "start_time": "2022-04-21T21:25:25.665Z"
   },
   {
    "duration": 11,
    "start_time": "2022-04-21T21:25:25.674Z"
   },
   {
    "duration": 8,
    "start_time": "2022-04-21T21:25:25.686Z"
   },
   {
    "duration": 14,
    "start_time": "2022-04-21T21:25:25.695Z"
   },
   {
    "duration": 6,
    "start_time": "2022-04-21T21:25:25.710Z"
   },
   {
    "duration": 32,
    "start_time": "2022-04-21T21:25:25.717Z"
   },
   {
    "duration": 21,
    "start_time": "2022-04-21T21:25:25.750Z"
   },
   {
    "duration": 16,
    "start_time": "2022-04-21T21:25:25.772Z"
   },
   {
    "duration": 17,
    "start_time": "2022-04-21T21:25:25.789Z"
   },
   {
    "duration": 47,
    "start_time": "2022-04-21T21:25:25.807Z"
   },
   {
    "duration": 58,
    "start_time": "2022-04-21T21:25:48.474Z"
   },
   {
    "duration": 15,
    "start_time": "2022-04-21T21:26:08.061Z"
   },
   {
    "duration": 54,
    "start_time": "2022-04-21T21:27:23.797Z"
   },
   {
    "duration": 13,
    "start_time": "2022-04-21T21:27:23.853Z"
   },
   {
    "duration": 15,
    "start_time": "2022-04-21T21:27:23.867Z"
   },
   {
    "duration": 13,
    "start_time": "2022-04-21T21:27:23.884Z"
   },
   {
    "duration": 5,
    "start_time": "2022-04-21T21:27:23.898Z"
   },
   {
    "duration": 46,
    "start_time": "2022-04-21T21:27:23.904Z"
   },
   {
    "duration": 6,
    "start_time": "2022-04-21T21:27:23.951Z"
   },
   {
    "duration": 39,
    "start_time": "2022-04-21T21:27:23.958Z"
   },
   {
    "duration": 4,
    "start_time": "2022-04-21T21:27:23.998Z"
   },
   {
    "duration": 4,
    "start_time": "2022-04-21T21:27:24.004Z"
   },
   {
    "duration": 5,
    "start_time": "2022-04-21T21:27:24.010Z"
   },
   {
    "duration": 31,
    "start_time": "2022-04-21T21:27:24.017Z"
   },
   {
    "duration": 5,
    "start_time": "2022-04-21T21:27:24.049Z"
   },
   {
    "duration": 14,
    "start_time": "2022-04-21T21:27:24.055Z"
   },
   {
    "duration": 4,
    "start_time": "2022-04-21T21:27:24.070Z"
   },
   {
    "duration": 8,
    "start_time": "2022-04-21T21:27:24.076Z"
   },
   {
    "duration": 7,
    "start_time": "2022-04-21T21:27:24.085Z"
   },
   {
    "duration": 12,
    "start_time": "2022-04-21T21:27:24.094Z"
   },
   {
    "duration": 5,
    "start_time": "2022-04-21T21:27:24.108Z"
   },
   {
    "duration": 6,
    "start_time": "2022-04-21T21:27:24.147Z"
   },
   {
    "duration": 6,
    "start_time": "2022-04-21T21:27:24.154Z"
   },
   {
    "duration": 6,
    "start_time": "2022-04-21T21:27:24.161Z"
   },
   {
    "duration": 5,
    "start_time": "2022-04-21T21:27:24.168Z"
   },
   {
    "duration": 12,
    "start_time": "2022-04-21T21:27:24.175Z"
   },
   {
    "duration": 6,
    "start_time": "2022-04-21T21:27:24.189Z"
   },
   {
    "duration": 5,
    "start_time": "2022-04-21T21:27:24.197Z"
   },
   {
    "duration": 4,
    "start_time": "2022-04-21T21:27:24.204Z"
   },
   {
    "duration": 39,
    "start_time": "2022-04-21T21:27:24.211Z"
   },
   {
    "duration": 11,
    "start_time": "2022-04-21T21:27:24.252Z"
   },
   {
    "duration": 18,
    "start_time": "2022-04-21T21:27:24.264Z"
   },
   {
    "duration": 18,
    "start_time": "2022-04-21T21:27:24.283Z"
   },
   {
    "duration": 15,
    "start_time": "2022-04-21T21:27:24.302Z"
   },
   {
    "duration": 30,
    "start_time": "2022-04-21T21:27:24.318Z"
   },
   {
    "duration": 19,
    "start_time": "2022-04-21T21:27:24.350Z"
   },
   {
    "duration": 17,
    "start_time": "2022-04-21T21:27:24.371Z"
   },
   {
    "duration": 8,
    "start_time": "2022-04-21T21:27:24.389Z"
   },
   {
    "duration": 8,
    "start_time": "2022-04-21T21:27:24.399Z"
   },
   {
    "duration": 13,
    "start_time": "2022-04-21T21:27:24.409Z"
   },
   {
    "duration": 33,
    "start_time": "2022-04-21T21:27:24.424Z"
   },
   {
    "duration": 7,
    "start_time": "2022-04-21T21:27:24.458Z"
   },
   {
    "duration": 23,
    "start_time": "2022-04-21T21:27:24.466Z"
   },
   {
    "duration": 14,
    "start_time": "2022-04-21T21:27:24.491Z"
   },
   {
    "duration": 3,
    "start_time": "2022-04-21T21:27:24.506Z"
   },
   {
    "duration": 7,
    "start_time": "2022-04-21T21:27:24.510Z"
   },
   {
    "duration": 35,
    "start_time": "2022-04-21T21:27:24.519Z"
   },
   {
    "duration": 18,
    "start_time": "2022-04-21T21:27:24.556Z"
   },
   {
    "duration": 11,
    "start_time": "2022-04-21T21:27:24.575Z"
   },
   {
    "duration": 4,
    "start_time": "2022-04-21T21:27:24.588Z"
   },
   {
    "duration": 6,
    "start_time": "2022-04-21T21:27:24.594Z"
   },
   {
    "duration": 15,
    "start_time": "2022-04-21T21:27:24.602Z"
   },
   {
    "duration": 5,
    "start_time": "2022-04-21T21:27:24.618Z"
   },
   {
    "duration": 30,
    "start_time": "2022-04-21T21:27:24.625Z"
   },
   {
    "duration": 20,
    "start_time": "2022-04-21T21:27:24.657Z"
   },
   {
    "duration": 17,
    "start_time": "2022-04-21T21:27:24.679Z"
   },
   {
    "duration": 16,
    "start_time": "2022-04-21T21:27:24.698Z"
   },
   {
    "duration": 42,
    "start_time": "2022-04-21T21:27:24.716Z"
   },
   {
    "duration": 15,
    "start_time": "2022-04-21T21:27:24.760Z"
   },
   {
    "duration": 60,
    "start_time": "2022-04-21T21:41:01.814Z"
   },
   {
    "duration": 14,
    "start_time": "2022-04-21T21:41:01.876Z"
   },
   {
    "duration": 18,
    "start_time": "2022-04-21T21:41:01.892Z"
   },
   {
    "duration": 48,
    "start_time": "2022-04-21T21:41:01.912Z"
   },
   {
    "duration": 7,
    "start_time": "2022-04-21T21:41:01.961Z"
   },
   {
    "duration": 13,
    "start_time": "2022-04-21T21:41:01.970Z"
   },
   {
    "duration": 6,
    "start_time": "2022-04-21T21:41:01.985Z"
   },
   {
    "duration": 12,
    "start_time": "2022-04-21T21:41:01.993Z"
   },
   {
    "duration": 41,
    "start_time": "2022-04-21T21:41:02.007Z"
   },
   {
    "duration": 5,
    "start_time": "2022-04-21T21:41:02.052Z"
   },
   {
    "duration": 8,
    "start_time": "2022-04-21T21:41:02.058Z"
   },
   {
    "duration": 6,
    "start_time": "2022-04-21T21:41:02.068Z"
   },
   {
    "duration": 6,
    "start_time": "2022-04-21T21:41:02.076Z"
   },
   {
    "duration": 13,
    "start_time": "2022-04-21T21:41:02.083Z"
   },
   {
    "duration": 5,
    "start_time": "2022-04-21T21:41:02.097Z"
   },
   {
    "duration": 45,
    "start_time": "2022-04-21T21:41:02.103Z"
   },
   {
    "duration": 5,
    "start_time": "2022-04-21T21:41:02.149Z"
   },
   {
    "duration": 17,
    "start_time": "2022-04-21T21:41:02.156Z"
   },
   {
    "duration": 6,
    "start_time": "2022-04-21T21:41:02.174Z"
   },
   {
    "duration": 6,
    "start_time": "2022-04-21T21:41:02.182Z"
   },
   {
    "duration": 9,
    "start_time": "2022-04-21T21:41:02.190Z"
   },
   {
    "duration": 14,
    "start_time": "2022-04-21T21:41:02.201Z"
   },
   {
    "duration": 8,
    "start_time": "2022-04-21T21:41:02.216Z"
   },
   {
    "duration": 12,
    "start_time": "2022-04-21T21:41:02.248Z"
   },
   {
    "duration": 7,
    "start_time": "2022-04-21T21:41:02.262Z"
   },
   {
    "duration": 14,
    "start_time": "2022-04-21T21:41:02.271Z"
   },
   {
    "duration": 7,
    "start_time": "2022-04-21T21:41:02.286Z"
   },
   {
    "duration": 4,
    "start_time": "2022-04-21T21:41:02.296Z"
   },
   {
    "duration": 5,
    "start_time": "2022-04-21T21:41:02.301Z"
   },
   {
    "duration": 10,
    "start_time": "2022-04-21T21:41:02.308Z"
   },
   {
    "duration": 38,
    "start_time": "2022-04-21T21:41:02.320Z"
   },
   {
    "duration": 17,
    "start_time": "2022-04-21T21:41:02.359Z"
   },
   {
    "duration": 16,
    "start_time": "2022-04-21T21:41:02.378Z"
   },
   {
    "duration": 7,
    "start_time": "2022-04-21T21:41:02.395Z"
   },
   {
    "duration": 44,
    "start_time": "2022-04-21T21:41:02.403Z"
   },
   {
    "duration": 18,
    "start_time": "2022-04-21T21:41:02.449Z"
   },
   {
    "duration": 8,
    "start_time": "2022-04-21T21:41:02.468Z"
   },
   {
    "duration": 8,
    "start_time": "2022-04-21T21:41:02.478Z"
   },
   {
    "duration": 13,
    "start_time": "2022-04-21T21:41:02.488Z"
   },
   {
    "duration": 11,
    "start_time": "2022-04-21T21:41:02.502Z"
   },
   {
    "duration": 35,
    "start_time": "2022-04-21T21:41:02.514Z"
   },
   {
    "duration": 23,
    "start_time": "2022-04-21T21:41:02.551Z"
   },
   {
    "duration": 14,
    "start_time": "2022-04-21T21:41:02.576Z"
   },
   {
    "duration": 3,
    "start_time": "2022-04-21T21:41:02.591Z"
   },
   {
    "duration": 6,
    "start_time": "2022-04-21T21:41:02.596Z"
   },
   {
    "duration": 10,
    "start_time": "2022-04-21T21:41:02.604Z"
   },
   {
    "duration": 35,
    "start_time": "2022-04-21T21:41:02.616Z"
   },
   {
    "duration": 8,
    "start_time": "2022-04-21T21:41:02.653Z"
   },
   {
    "duration": 4,
    "start_time": "2022-04-21T21:41:02.663Z"
   },
   {
    "duration": 8,
    "start_time": "2022-04-21T21:41:02.668Z"
   },
   {
    "duration": 14,
    "start_time": "2022-04-21T21:41:02.677Z"
   },
   {
    "duration": 6,
    "start_time": "2022-04-21T21:41:02.692Z"
   },
   {
    "duration": 12,
    "start_time": "2022-04-21T21:41:02.700Z"
   },
   {
    "duration": 55,
    "start_time": "2022-04-21T21:41:02.713Z"
   },
   {
    "duration": 17,
    "start_time": "2022-04-21T21:41:02.770Z"
   },
   {
    "duration": 15,
    "start_time": "2022-04-21T21:41:02.789Z"
   },
   {
    "duration": 42,
    "start_time": "2022-04-21T21:41:02.806Z"
   },
   {
    "duration": 454,
    "start_time": "2022-04-21T21:41:10.046Z"
   },
   {
    "duration": 19,
    "start_time": "2022-04-21T21:41:10.502Z"
   },
   {
    "duration": 14,
    "start_time": "2022-04-21T21:41:10.523Z"
   },
   {
    "duration": 13,
    "start_time": "2022-04-21T21:41:10.547Z"
   },
   {
    "duration": 5,
    "start_time": "2022-04-21T21:41:10.562Z"
   },
   {
    "duration": 13,
    "start_time": "2022-04-21T21:41:10.569Z"
   },
   {
    "duration": 4,
    "start_time": "2022-04-21T21:41:10.584Z"
   },
   {
    "duration": 4,
    "start_time": "2022-04-21T21:41:10.590Z"
   },
   {
    "duration": 6,
    "start_time": "2022-04-21T21:41:10.596Z"
   },
   {
    "duration": 5,
    "start_time": "2022-04-21T21:41:10.604Z"
   },
   {
    "duration": 39,
    "start_time": "2022-04-21T21:41:10.610Z"
   },
   {
    "duration": 12,
    "start_time": "2022-04-21T21:41:10.651Z"
   },
   {
    "duration": 5,
    "start_time": "2022-04-21T21:41:10.664Z"
   },
   {
    "duration": 14,
    "start_time": "2022-04-21T21:41:10.672Z"
   },
   {
    "duration": 4,
    "start_time": "2022-04-21T21:41:10.688Z"
   },
   {
    "duration": 4,
    "start_time": "2022-04-21T21:41:10.694Z"
   },
   {
    "duration": 5,
    "start_time": "2022-04-21T21:41:10.699Z"
   },
   {
    "duration": 45,
    "start_time": "2022-04-21T21:41:10.706Z"
   },
   {
    "duration": 7,
    "start_time": "2022-04-21T21:41:10.753Z"
   },
   {
    "duration": 5,
    "start_time": "2022-04-21T21:41:10.762Z"
   },
   {
    "duration": 5,
    "start_time": "2022-04-21T21:41:10.769Z"
   },
   {
    "duration": 5,
    "start_time": "2022-04-21T21:41:10.775Z"
   },
   {
    "duration": 5,
    "start_time": "2022-04-21T21:41:10.782Z"
   },
   {
    "duration": 13,
    "start_time": "2022-04-21T21:41:10.788Z"
   },
   {
    "duration": 46,
    "start_time": "2022-04-21T21:41:10.803Z"
   },
   {
    "duration": 9,
    "start_time": "2022-04-21T21:41:10.850Z"
   },
   {
    "duration": 5,
    "start_time": "2022-04-21T21:41:10.861Z"
   },
   {
    "duration": 4,
    "start_time": "2022-04-21T21:41:10.868Z"
   },
   {
    "duration": 3,
    "start_time": "2022-04-21T21:41:10.874Z"
   },
   {
    "duration": 11,
    "start_time": "2022-04-21T21:41:10.879Z"
   },
   {
    "duration": 17,
    "start_time": "2022-04-21T21:41:10.892Z"
   },
   {
    "duration": 55,
    "start_time": "2022-04-21T21:41:10.911Z"
   },
   {
    "duration": 17,
    "start_time": "2022-04-21T21:41:10.967Z"
   },
   {
    "duration": 7,
    "start_time": "2022-04-21T21:41:10.985Z"
   },
   {
    "duration": 17,
    "start_time": "2022-04-21T21:41:10.994Z"
   },
   {
    "duration": 47,
    "start_time": "2022-04-21T21:41:11.012Z"
   },
   {
    "duration": 10,
    "start_time": "2022-04-21T21:41:11.060Z"
   },
   {
    "duration": 9,
    "start_time": "2022-04-21T21:41:11.071Z"
   },
   {
    "duration": 12,
    "start_time": "2022-04-21T21:41:11.082Z"
   },
   {
    "duration": 13,
    "start_time": "2022-04-21T21:41:11.096Z"
   },
   {
    "duration": 7,
    "start_time": "2022-04-21T21:41:11.147Z"
   },
   {
    "duration": 25,
    "start_time": "2022-04-21T21:41:11.156Z"
   },
   {
    "duration": 15,
    "start_time": "2022-04-21T21:41:11.183Z"
   },
   {
    "duration": 4,
    "start_time": "2022-04-21T21:41:11.200Z"
   },
   {
    "duration": 7,
    "start_time": "2022-04-21T21:41:11.205Z"
   },
   {
    "duration": 35,
    "start_time": "2022-04-21T21:41:11.213Z"
   },
   {
    "duration": 11,
    "start_time": "2022-04-21T21:41:11.249Z"
   },
   {
    "duration": 11,
    "start_time": "2022-04-21T21:41:11.262Z"
   },
   {
    "duration": 4,
    "start_time": "2022-04-21T21:41:11.274Z"
   },
   {
    "duration": 7,
    "start_time": "2022-04-21T21:41:11.280Z"
   },
   {
    "duration": 15,
    "start_time": "2022-04-21T21:41:11.289Z"
   },
   {
    "duration": 5,
    "start_time": "2022-04-21T21:41:11.306Z"
   },
   {
    "duration": 37,
    "start_time": "2022-04-21T21:41:11.313Z"
   },
   {
    "duration": 27,
    "start_time": "2022-04-21T21:41:11.351Z"
   },
   {
    "duration": 17,
    "start_time": "2022-04-21T21:41:11.380Z"
   },
   {
    "duration": 17,
    "start_time": "2022-04-21T21:41:11.399Z"
   },
   {
    "duration": 42,
    "start_time": "2022-04-21T21:41:11.417Z"
   },
   {
    "duration": 462,
    "start_time": "2022-04-21T21:43:38.233Z"
   },
   {
    "duration": 19,
    "start_time": "2022-04-21T21:43:38.697Z"
   },
   {
    "duration": 15,
    "start_time": "2022-04-21T21:43:38.717Z"
   },
   {
    "duration": 24,
    "start_time": "2022-04-21T21:43:38.734Z"
   },
   {
    "duration": 5,
    "start_time": "2022-04-21T21:43:38.759Z"
   },
   {
    "duration": 12,
    "start_time": "2022-04-21T21:43:38.765Z"
   },
   {
    "duration": 5,
    "start_time": "2022-04-21T21:43:38.779Z"
   },
   {
    "duration": 5,
    "start_time": "2022-04-21T21:43:38.785Z"
   },
   {
    "duration": 5,
    "start_time": "2022-04-21T21:43:38.791Z"
   },
   {
    "duration": 5,
    "start_time": "2022-04-21T21:43:38.799Z"
   },
   {
    "duration": 4,
    "start_time": "2022-04-21T21:43:38.805Z"
   },
   {
    "duration": 6,
    "start_time": "2022-04-21T21:43:38.848Z"
   },
   {
    "duration": 5,
    "start_time": "2022-04-21T21:43:38.855Z"
   },
   {
    "duration": 13,
    "start_time": "2022-04-21T21:43:38.861Z"
   },
   {
    "duration": 5,
    "start_time": "2022-04-21T21:43:38.875Z"
   },
   {
    "duration": 4,
    "start_time": "2022-04-21T21:43:38.881Z"
   },
   {
    "duration": 5,
    "start_time": "2022-04-21T21:43:38.886Z"
   },
   {
    "duration": 11,
    "start_time": "2022-04-21T21:43:38.892Z"
   },
   {
    "duration": 48,
    "start_time": "2022-04-21T21:43:38.904Z"
   },
   {
    "duration": 5,
    "start_time": "2022-04-21T21:43:38.953Z"
   },
   {
    "duration": 4,
    "start_time": "2022-04-21T21:43:38.960Z"
   },
   {
    "duration": 5,
    "start_time": "2022-04-21T21:43:38.966Z"
   },
   {
    "duration": 6,
    "start_time": "2022-04-21T21:43:38.972Z"
   },
   {
    "duration": 12,
    "start_time": "2022-04-21T21:43:38.980Z"
   },
   {
    "duration": 6,
    "start_time": "2022-04-21T21:43:38.993Z"
   },
   {
    "duration": 6,
    "start_time": "2022-04-21T21:43:39.000Z"
   },
   {
    "duration": 42,
    "start_time": "2022-04-21T21:43:39.007Z"
   },
   {
    "duration": 4,
    "start_time": "2022-04-21T21:43:39.052Z"
   },
   {
    "duration": 4,
    "start_time": "2022-04-21T21:43:39.058Z"
   },
   {
    "duration": 11,
    "start_time": "2022-04-21T21:43:39.063Z"
   },
   {
    "duration": 18,
    "start_time": "2022-04-21T21:43:39.075Z"
   },
   {
    "duration": 19,
    "start_time": "2022-04-21T21:43:39.094Z"
   },
   {
    "duration": 44,
    "start_time": "2022-04-21T21:43:39.114Z"
   },
   {
    "duration": 6,
    "start_time": "2022-04-21T21:43:39.160Z"
   },
   {
    "duration": 17,
    "start_time": "2022-04-21T21:43:39.168Z"
   },
   {
    "duration": 17,
    "start_time": "2022-04-21T21:43:39.187Z"
   },
   {
    "duration": 7,
    "start_time": "2022-04-21T21:43:39.206Z"
   },
   {
    "duration": 33,
    "start_time": "2022-04-21T21:43:39.215Z"
   },
   {
    "duration": 17,
    "start_time": "2022-04-21T21:43:39.250Z"
   },
   {
    "duration": 10,
    "start_time": "2022-04-21T21:43:39.269Z"
   },
   {
    "duration": 5,
    "start_time": "2022-04-21T21:43:39.281Z"
   },
   {
    "duration": 23,
    "start_time": "2022-04-21T21:43:39.287Z"
   },
   {
    "duration": 37,
    "start_time": "2022-04-21T21:43:39.311Z"
   },
   {
    "duration": 3,
    "start_time": "2022-04-21T21:43:39.350Z"
   },
   {
    "duration": 5,
    "start_time": "2022-04-21T21:43:39.354Z"
   },
   {
    "duration": 10,
    "start_time": "2022-04-21T21:43:39.361Z"
   },
   {
    "duration": 10,
    "start_time": "2022-04-21T21:43:39.372Z"
   },
   {
    "duration": 7,
    "start_time": "2022-04-21T21:43:39.383Z"
   },
   {
    "duration": 4,
    "start_time": "2022-04-21T21:43:39.391Z"
   },
   {
    "duration": 7,
    "start_time": "2022-04-21T21:43:39.396Z"
   },
   {
    "duration": 44,
    "start_time": "2022-04-21T21:43:39.404Z"
   },
   {
    "duration": 6,
    "start_time": "2022-04-21T21:43:39.449Z"
   },
   {
    "duration": 12,
    "start_time": "2022-04-21T21:43:39.456Z"
   },
   {
    "duration": 21,
    "start_time": "2022-04-21T21:43:39.470Z"
   },
   {
    "duration": 16,
    "start_time": "2022-04-21T21:43:39.492Z"
   },
   {
    "duration": 49,
    "start_time": "2022-04-21T21:43:39.509Z"
   },
   {
    "duration": 16,
    "start_time": "2022-04-21T21:43:39.559Z"
   },
   {
    "duration": 454,
    "start_time": "2022-04-21T21:44:34.447Z"
   },
   {
    "duration": 20,
    "start_time": "2022-04-21T21:44:34.903Z"
   },
   {
    "duration": 14,
    "start_time": "2022-04-21T21:44:34.924Z"
   },
   {
    "duration": 12,
    "start_time": "2022-04-21T21:44:34.949Z"
   },
   {
    "duration": 5,
    "start_time": "2022-04-21T21:44:34.963Z"
   },
   {
    "duration": 12,
    "start_time": "2022-04-21T21:44:34.970Z"
   },
   {
    "duration": 5,
    "start_time": "2022-04-21T21:44:34.984Z"
   },
   {
    "duration": 6,
    "start_time": "2022-04-21T21:44:34.990Z"
   },
   {
    "duration": 5,
    "start_time": "2022-04-21T21:44:34.997Z"
   },
   {
    "duration": 5,
    "start_time": "2022-04-21T21:44:35.050Z"
   },
   {
    "duration": 7,
    "start_time": "2022-04-21T21:44:35.057Z"
   },
   {
    "duration": 8,
    "start_time": "2022-04-21T21:44:35.065Z"
   },
   {
    "duration": 4,
    "start_time": "2022-04-21T21:44:35.075Z"
   },
   {
    "duration": 12,
    "start_time": "2022-04-21T21:44:35.081Z"
   },
   {
    "duration": 4,
    "start_time": "2022-04-21T21:44:35.095Z"
   },
   {
    "duration": 4,
    "start_time": "2022-04-21T21:44:35.101Z"
   },
   {
    "duration": 41,
    "start_time": "2022-04-21T21:44:35.106Z"
   },
   {
    "duration": 12,
    "start_time": "2022-04-21T21:44:35.149Z"
   },
   {
    "duration": 7,
    "start_time": "2022-04-21T21:44:35.162Z"
   },
   {
    "duration": 4,
    "start_time": "2022-04-21T21:44:35.170Z"
   },
   {
    "duration": 6,
    "start_time": "2022-04-21T21:44:35.176Z"
   },
   {
    "duration": 4,
    "start_time": "2022-04-21T21:44:35.183Z"
   },
   {
    "duration": 4,
    "start_time": "2022-04-21T21:44:35.188Z"
   },
   {
    "duration": 14,
    "start_time": "2022-04-21T21:44:35.194Z"
   },
   {
    "duration": 7,
    "start_time": "2022-04-21T21:44:35.209Z"
   },
   {
    "duration": 5,
    "start_time": "2022-04-21T21:44:35.248Z"
   },
   {
    "duration": 6,
    "start_time": "2022-04-21T21:44:35.255Z"
   },
   {
    "duration": 4,
    "start_time": "2022-04-21T21:44:35.266Z"
   },
   {
    "duration": 4,
    "start_time": "2022-04-21T21:44:35.271Z"
   },
   {
    "duration": 10,
    "start_time": "2022-04-21T21:44:35.277Z"
   },
   {
    "duration": 17,
    "start_time": "2022-04-21T21:44:35.289Z"
   },
   {
    "duration": 57,
    "start_time": "2022-04-21T21:44:35.308Z"
   },
   {
    "duration": 17,
    "start_time": "2022-04-21T21:44:35.366Z"
   },
   {
    "duration": 7,
    "start_time": "2022-04-21T21:44:35.385Z"
   },
   {
    "duration": 17,
    "start_time": "2022-04-21T21:44:35.393Z"
   },
   {
    "duration": 43,
    "start_time": "2022-04-21T21:44:35.412Z"
   },
   {
    "duration": 8,
    "start_time": "2022-04-21T21:44:35.456Z"
   },
   {
    "duration": 8,
    "start_time": "2022-04-21T21:44:35.466Z"
   },
   {
    "duration": 13,
    "start_time": "2022-04-21T21:44:35.475Z"
   },
   {
    "duration": 12,
    "start_time": "2022-04-21T21:44:35.489Z"
   },
   {
    "duration": 6,
    "start_time": "2022-04-21T21:44:35.503Z"
   },
   {
    "duration": 25,
    "start_time": "2022-04-21T21:44:35.547Z"
   },
   {
    "duration": 15,
    "start_time": "2022-04-21T21:44:35.573Z"
   },
   {
    "duration": 4,
    "start_time": "2022-04-21T21:44:35.590Z"
   },
   {
    "duration": 5,
    "start_time": "2022-04-21T21:44:35.596Z"
   },
   {
    "duration": 9,
    "start_time": "2022-04-21T21:44:35.603Z"
   },
   {
    "duration": 39,
    "start_time": "2022-04-21T21:44:35.614Z"
   },
   {
    "duration": 8,
    "start_time": "2022-04-21T21:44:35.654Z"
   },
   {
    "duration": 4,
    "start_time": "2022-04-21T21:44:35.663Z"
   },
   {
    "duration": 7,
    "start_time": "2022-04-21T21:44:35.669Z"
   },
   {
    "duration": 15,
    "start_time": "2022-04-21T21:44:35.677Z"
   },
   {
    "duration": 5,
    "start_time": "2022-04-21T21:44:35.693Z"
   },
   {
    "duration": 12,
    "start_time": "2022-04-21T21:44:35.699Z"
   },
   {
    "duration": 47,
    "start_time": "2022-04-21T21:44:35.713Z"
   },
   {
    "duration": 17,
    "start_time": "2022-04-21T21:44:35.761Z"
   },
   {
    "duration": 15,
    "start_time": "2022-04-21T21:44:35.780Z"
   },
   {
    "duration": 17,
    "start_time": "2022-04-21T21:44:35.797Z"
   },
   {
    "duration": 534,
    "start_time": "2022-04-29T09:45:46.185Z"
   },
   {
    "duration": 35,
    "start_time": "2022-04-29T09:45:46.722Z"
   },
   {
    "duration": 20,
    "start_time": "2022-04-29T09:45:46.760Z"
   },
   {
    "duration": 20,
    "start_time": "2022-04-29T09:45:46.783Z"
   },
   {
    "duration": 7,
    "start_time": "2022-04-29T09:45:46.805Z"
   },
   {
    "duration": 57,
    "start_time": "2022-04-29T09:45:46.814Z"
   },
   {
    "duration": 9,
    "start_time": "2022-04-29T09:45:46.873Z"
   },
   {
    "duration": 8,
    "start_time": "2022-04-29T09:45:46.884Z"
   },
   {
    "duration": 6,
    "start_time": "2022-04-29T09:45:46.894Z"
   },
   {
    "duration": 7,
    "start_time": "2022-04-29T09:45:46.904Z"
   },
   {
    "duration": 44,
    "start_time": "2022-04-29T09:45:46.912Z"
   },
   {
    "duration": 9,
    "start_time": "2022-04-29T09:45:46.958Z"
   },
   {
    "duration": 6,
    "start_time": "2022-04-29T09:45:46.969Z"
   },
   {
    "duration": 21,
    "start_time": "2022-04-29T09:45:46.977Z"
   },
   {
    "duration": 6,
    "start_time": "2022-04-29T09:45:47.000Z"
   },
   {
    "duration": 6,
    "start_time": "2022-04-29T09:45:47.052Z"
   },
   {
    "duration": 7,
    "start_time": "2022-04-29T09:45:47.060Z"
   },
   {
    "duration": 19,
    "start_time": "2022-04-29T09:45:47.069Z"
   },
   {
    "duration": 9,
    "start_time": "2022-04-29T09:45:47.089Z"
   },
   {
    "duration": 54,
    "start_time": "2022-04-29T09:45:47.100Z"
   },
   {
    "duration": 12,
    "start_time": "2022-04-29T09:45:47.156Z"
   },
   {
    "duration": 8,
    "start_time": "2022-04-29T09:45:47.170Z"
   },
   {
    "duration": 11,
    "start_time": "2022-04-29T09:45:47.180Z"
   },
   {
    "duration": 18,
    "start_time": "2022-04-29T09:45:47.193Z"
   },
   {
    "duration": 8,
    "start_time": "2022-04-29T09:45:47.214Z"
   },
   {
    "duration": 8,
    "start_time": "2022-04-29T09:45:47.252Z"
   },
   {
    "duration": 12,
    "start_time": "2022-04-29T09:45:47.263Z"
   },
   {
    "duration": 6,
    "start_time": "2022-04-29T09:45:47.281Z"
   },
   {
    "duration": 6,
    "start_time": "2022-04-29T09:45:47.289Z"
   },
   {
    "duration": 55,
    "start_time": "2022-04-29T09:45:47.297Z"
   },
   {
    "duration": 31,
    "start_time": "2022-04-29T09:45:47.354Z"
   },
   {
    "duration": 28,
    "start_time": "2022-04-29T09:45:47.387Z"
   },
   {
    "duration": 48,
    "start_time": "2022-04-29T09:45:47.417Z"
   },
   {
    "duration": 9,
    "start_time": "2022-04-29T09:45:47.467Z"
   },
   {
    "duration": 23,
    "start_time": "2022-04-29T09:45:47.478Z"
   },
   {
    "duration": 50,
    "start_time": "2022-04-29T09:45:47.503Z"
   },
   {
    "duration": 13,
    "start_time": "2022-04-29T09:45:47.555Z"
   },
   {
    "duration": 14,
    "start_time": "2022-04-29T09:45:47.570Z"
   },
   {
    "duration": 16,
    "start_time": "2022-04-29T09:45:47.586Z"
   },
   {
    "duration": 49,
    "start_time": "2022-04-29T09:45:47.604Z"
   },
   {
    "duration": 9,
    "start_time": "2022-04-29T09:45:47.655Z"
   },
   {
    "duration": 38,
    "start_time": "2022-04-29T09:45:47.666Z"
   },
   {
    "duration": 49,
    "start_time": "2022-04-29T09:45:47.706Z"
   },
   {
    "duration": 5,
    "start_time": "2022-04-29T09:45:47.757Z"
   },
   {
    "duration": 12,
    "start_time": "2022-04-29T09:45:47.764Z"
   },
   {
    "duration": 19,
    "start_time": "2022-04-29T09:45:47.778Z"
   },
   {
    "duration": 24,
    "start_time": "2022-04-29T09:45:47.799Z"
   },
   {
    "duration": 32,
    "start_time": "2022-04-29T09:45:47.825Z"
   },
   {
    "duration": 7,
    "start_time": "2022-04-29T09:45:47.859Z"
   },
   {
    "duration": 10,
    "start_time": "2022-04-29T09:45:47.868Z"
   },
   {
    "duration": 24,
    "start_time": "2022-04-29T09:45:47.881Z"
   },
   {
    "duration": 8,
    "start_time": "2022-04-29T09:45:47.907Z"
   },
   {
    "duration": 49,
    "start_time": "2022-04-29T09:45:47.917Z"
   },
   {
    "duration": 32,
    "start_time": "2022-04-29T09:45:47.968Z"
   },
   {
    "duration": 56,
    "start_time": "2022-04-29T09:45:48.003Z"
   },
   {
    "duration": 28,
    "start_time": "2022-04-29T09:45:48.062Z"
   },
   {
    "duration": 60,
    "start_time": "2022-04-29T09:45:48.092Z"
   },
   {
    "duration": 33,
    "start_time": "2022-04-29T09:53:34.307Z"
   },
   {
    "duration": 29,
    "start_time": "2022-04-29T09:55:09.563Z"
   },
   {
    "duration": 639,
    "start_time": "2022-04-29T09:56:41.118Z"
   },
   {
    "duration": 32,
    "start_time": "2022-04-29T09:56:41.760Z"
   },
   {
    "duration": 23,
    "start_time": "2022-04-29T09:56:41.794Z"
   },
   {
    "duration": 51,
    "start_time": "2022-04-29T09:56:41.820Z"
   },
   {
    "duration": 10,
    "start_time": "2022-04-29T09:56:41.876Z"
   },
   {
    "duration": 23,
    "start_time": "2022-04-29T09:56:41.888Z"
   },
   {
    "duration": 9,
    "start_time": "2022-04-29T09:56:41.952Z"
   },
   {
    "duration": 9,
    "start_time": "2022-04-29T09:56:41.964Z"
   },
   {
    "duration": 6,
    "start_time": "2022-04-29T09:56:41.976Z"
   },
   {
    "duration": 5,
    "start_time": "2022-04-29T09:56:41.985Z"
   },
   {
    "duration": 8,
    "start_time": "2022-04-29T09:56:41.992Z"
   },
   {
    "duration": 57,
    "start_time": "2022-04-29T09:56:42.002Z"
   },
   {
    "duration": 10,
    "start_time": "2022-04-29T09:56:42.062Z"
   },
   {
    "duration": 21,
    "start_time": "2022-04-29T09:56:42.077Z"
   },
   {
    "duration": 8,
    "start_time": "2022-04-29T09:56:42.101Z"
   },
   {
    "duration": 8,
    "start_time": "2022-04-29T09:56:42.153Z"
   },
   {
    "duration": 19,
    "start_time": "2022-04-29T09:56:42.163Z"
   },
   {
    "duration": 29,
    "start_time": "2022-04-29T09:56:42.184Z"
   },
   {
    "duration": 20,
    "start_time": "2022-04-29T09:56:42.217Z"
   },
   {
    "duration": 18,
    "start_time": "2022-04-29T09:56:42.251Z"
   },
   {
    "duration": 19,
    "start_time": "2022-04-29T09:56:42.272Z"
   },
   {
    "duration": 23,
    "start_time": "2022-04-29T09:56:42.293Z"
   },
   {
    "duration": 24,
    "start_time": "2022-04-29T09:56:42.318Z"
   },
   {
    "duration": 34,
    "start_time": "2022-04-29T09:56:42.346Z"
   },
   {
    "duration": 20,
    "start_time": "2022-04-29T09:56:42.382Z"
   },
   {
    "duration": 17,
    "start_time": "2022-04-29T09:56:42.404Z"
   },
   {
    "duration": 17,
    "start_time": "2022-04-29T09:56:42.423Z"
   },
   {
    "duration": 8,
    "start_time": "2022-04-29T09:56:42.442Z"
   },
   {
    "duration": 5,
    "start_time": "2022-04-29T09:56:42.452Z"
   },
   {
    "duration": 23,
    "start_time": "2022-04-29T09:56:42.459Z"
   },
   {
    "duration": 32,
    "start_time": "2022-04-29T09:56:42.484Z"
   },
   {
    "duration": 51,
    "start_time": "2022-04-29T09:56:42.519Z"
   },
   {
    "duration": 25,
    "start_time": "2022-04-29T09:56:42.573Z"
   },
   {
    "duration": 11,
    "start_time": "2022-04-29T09:56:42.601Z"
   },
   {
    "duration": 56,
    "start_time": "2022-04-29T09:56:42.614Z"
   },
   {
    "duration": 27,
    "start_time": "2022-04-29T09:56:42.672Z"
   },
   {
    "duration": 13,
    "start_time": "2022-04-29T09:56:42.701Z"
   },
   {
    "duration": 13,
    "start_time": "2022-04-29T09:56:42.753Z"
   },
   {
    "duration": 18,
    "start_time": "2022-04-29T09:56:42.769Z"
   },
   {
    "duration": 16,
    "start_time": "2022-04-29T09:56:42.789Z"
   },
   {
    "duration": 48,
    "start_time": "2022-04-29T09:56:42.810Z"
   },
   {
    "duration": 44,
    "start_time": "2022-04-29T09:56:42.860Z"
   },
   {
    "duration": 44,
    "start_time": "2022-04-29T09:56:42.908Z"
   },
   {
    "duration": 6,
    "start_time": "2022-04-29T09:56:42.955Z"
   },
   {
    "duration": 12,
    "start_time": "2022-04-29T09:56:42.963Z"
   },
   {
    "duration": 17,
    "start_time": "2022-04-29T09:56:42.977Z"
   },
   {
    "duration": 18,
    "start_time": "2022-04-29T09:56:42.997Z"
   },
   {
    "duration": 10,
    "start_time": "2022-04-29T09:56:43.052Z"
   },
   {
    "duration": 9,
    "start_time": "2022-04-29T09:56:43.064Z"
   },
   {
    "duration": 9,
    "start_time": "2022-04-29T09:56:43.075Z"
   },
   {
    "duration": 21,
    "start_time": "2022-04-29T09:56:43.086Z"
   },
   {
    "duration": 8,
    "start_time": "2022-04-29T09:56:43.109Z"
   },
   {
    "duration": 52,
    "start_time": "2022-04-29T09:56:43.119Z"
   },
   {
    "duration": 37,
    "start_time": "2022-04-29T09:56:43.173Z"
   },
   {
    "duration": 53,
    "start_time": "2022-04-29T09:56:43.212Z"
   },
   {
    "duration": 28,
    "start_time": "2022-04-29T09:56:43.267Z"
   },
   {
    "duration": 56,
    "start_time": "2022-04-29T09:56:43.297Z"
   },
   {
    "duration": 27,
    "start_time": "2022-04-29T09:56:43.355Z"
   },
   {
    "duration": 287,
    "start_time": "2022-04-29T14:30:33.346Z"
   },
   {
    "duration": 147,
    "start_time": "2022-04-29T15:03:38.571Z"
   },
   {
    "duration": 4,
    "start_time": "2022-04-29T15:05:28.266Z"
   },
   {
    "duration": 67,
    "start_time": "2022-04-29T15:15:20.168Z"
   },
   {
    "duration": 604,
    "start_time": "2022-04-29T15:15:23.829Z"
   },
   {
    "duration": 32,
    "start_time": "2022-04-29T15:15:24.436Z"
   },
   {
    "duration": 22,
    "start_time": "2022-04-29T15:15:24.470Z"
   },
   {
    "duration": 44,
    "start_time": "2022-04-29T15:15:24.495Z"
   },
   {
    "duration": 17,
    "start_time": "2022-04-29T15:15:24.541Z"
   },
   {
    "duration": 39,
    "start_time": "2022-04-29T15:15:24.561Z"
   },
   {
    "duration": 28,
    "start_time": "2022-04-29T15:15:24.603Z"
   },
   {
    "duration": 7,
    "start_time": "2022-04-29T15:15:24.633Z"
   },
   {
    "duration": 8,
    "start_time": "2022-04-29T15:15:24.643Z"
   },
   {
    "duration": 7,
    "start_time": "2022-04-29T15:15:24.657Z"
   },
   {
    "duration": 58,
    "start_time": "2022-04-29T15:15:24.667Z"
   },
   {
    "duration": 9,
    "start_time": "2022-04-29T15:15:24.728Z"
   },
   {
    "duration": 8,
    "start_time": "2022-04-29T15:15:24.740Z"
   },
   {
    "duration": 45,
    "start_time": "2022-04-29T15:15:24.751Z"
   },
   {
    "duration": 31,
    "start_time": "2022-04-29T15:15:24.799Z"
   },
   {
    "duration": 16,
    "start_time": "2022-04-29T15:15:24.833Z"
   },
   {
    "duration": 8,
    "start_time": "2022-04-29T15:15:24.852Z"
   },
   {
    "duration": 21,
    "start_time": "2022-04-29T15:15:24.862Z"
   },
   {
    "duration": 44,
    "start_time": "2022-04-29T15:15:24.886Z"
   },
   {
    "duration": 12,
    "start_time": "2022-04-29T15:15:24.933Z"
   },
   {
    "duration": 11,
    "start_time": "2022-04-29T15:15:24.948Z"
   },
   {
    "duration": 12,
    "start_time": "2022-04-29T15:15:24.961Z"
   },
   {
    "duration": 8,
    "start_time": "2022-04-29T15:15:24.976Z"
   },
   {
    "duration": 27,
    "start_time": "2022-04-29T15:15:25.024Z"
   },
   {
    "duration": 11,
    "start_time": "2022-04-29T15:15:25.054Z"
   },
   {
    "duration": 11,
    "start_time": "2022-04-29T15:15:25.068Z"
   },
   {
    "duration": 47,
    "start_time": "2022-04-29T15:15:25.082Z"
   },
   {
    "duration": 13,
    "start_time": "2022-04-29T15:15:25.135Z"
   },
   {
    "duration": 12,
    "start_time": "2022-04-29T15:15:25.150Z"
   },
   {
    "duration": 7,
    "start_time": "2022-04-29T15:15:25.165Z"
   },
   {
    "duration": 21,
    "start_time": "2022-04-29T15:15:25.174Z"
   },
   {
    "duration": 28,
    "start_time": "2022-04-29T15:15:25.225Z"
   },
   {
    "duration": 33,
    "start_time": "2022-04-29T15:15:25.255Z"
   },
   {
    "duration": 55,
    "start_time": "2022-04-29T15:15:25.290Z"
   },
   {
    "duration": 14,
    "start_time": "2022-04-29T15:15:25.347Z"
   },
   {
    "duration": 64,
    "start_time": "2022-04-29T15:15:25.364Z"
   },
   {
    "duration": 42,
    "start_time": "2022-04-29T15:15:25.430Z"
   },
   {
    "duration": 17,
    "start_time": "2022-04-29T15:15:25.475Z"
   },
   {
    "duration": 46,
    "start_time": "2022-04-29T15:15:25.494Z"
   },
   {
    "duration": 25,
    "start_time": "2022-04-29T15:15:25.542Z"
   },
   {
    "duration": 17,
    "start_time": "2022-04-29T15:15:25.570Z"
   },
   {
    "duration": 43,
    "start_time": "2022-04-29T15:15:25.589Z"
   },
   {
    "duration": 43,
    "start_time": "2022-04-29T15:15:25.634Z"
   },
   {
    "duration": 54,
    "start_time": "2022-04-29T15:15:25.679Z"
   },
   {
    "duration": 5,
    "start_time": "2022-04-29T15:15:25.735Z"
   },
   {
    "duration": 18,
    "start_time": "2022-04-29T15:15:25.743Z"
   },
   {
    "duration": 19,
    "start_time": "2022-04-29T15:15:25.764Z"
   },
   {
    "duration": 40,
    "start_time": "2022-04-29T15:15:25.786Z"
   },
   {
    "duration": 15,
    "start_time": "2022-04-29T15:15:25.829Z"
   },
   {
    "duration": 9,
    "start_time": "2022-04-29T15:15:25.847Z"
   },
   {
    "duration": 12,
    "start_time": "2022-04-29T15:15:25.859Z"
   },
   {
    "duration": 55,
    "start_time": "2022-04-29T15:15:25.874Z"
   },
   {
    "duration": 9,
    "start_time": "2022-04-29T15:15:25.932Z"
   },
   {
    "duration": 24,
    "start_time": "2022-04-29T15:15:25.944Z"
   },
   {
    "duration": 62,
    "start_time": "2022-04-29T15:15:25.970Z"
   },
   {
    "duration": 28,
    "start_time": "2022-04-29T15:15:26.035Z"
   },
   {
    "duration": 59,
    "start_time": "2022-04-29T15:15:26.066Z"
   },
   {
    "duration": 27,
    "start_time": "2022-04-29T15:15:26.128Z"
   },
   {
    "duration": 72,
    "start_time": "2022-04-29T15:15:26.158Z"
   },
   {
    "duration": 53,
    "start_time": "2022-04-29T15:16:07.007Z"
   },
   {
    "duration": 19,
    "start_time": "2022-04-29T15:16:41.951Z"
   },
   {
    "duration": 18,
    "start_time": "2022-04-29T15:19:43.413Z"
   },
   {
    "duration": 55,
    "start_time": "2022-04-29T15:19:48.006Z"
   },
   {
    "duration": 12,
    "start_time": "2022-04-29T15:20:03.861Z"
   },
   {
    "duration": 40,
    "start_time": "2022-04-29T15:25:51.325Z"
   },
   {
    "duration": 9,
    "start_time": "2022-04-29T15:27:45.141Z"
   },
   {
    "duration": 30,
    "start_time": "2022-04-29T15:28:17.324Z"
   },
   {
    "duration": 28,
    "start_time": "2022-04-29T15:28:25.292Z"
   },
   {
    "duration": 30,
    "start_time": "2022-04-29T15:28:31.852Z"
   },
   {
    "duration": 23,
    "start_time": "2022-04-29T15:30:49.996Z"
   },
   {
    "duration": 9,
    "start_time": "2022-04-29T15:47:09.128Z"
   },
   {
    "duration": 27,
    "start_time": "2022-04-29T15:52:53.423Z"
   },
   {
    "duration": 37,
    "start_time": "2022-04-29T15:53:13.476Z"
   },
   {
    "duration": 80,
    "start_time": "2022-04-29T15:53:51.573Z"
   },
   {
    "duration": 25,
    "start_time": "2022-04-29T15:53:51.657Z"
   },
   {
    "duration": 67,
    "start_time": "2022-04-29T15:53:51.685Z"
   },
   {
    "duration": 22,
    "start_time": "2022-04-29T15:53:51.756Z"
   },
   {
    "duration": 20,
    "start_time": "2022-04-29T15:53:51.781Z"
   },
   {
    "duration": 28,
    "start_time": "2022-04-29T15:53:51.824Z"
   },
   {
    "duration": 16,
    "start_time": "2022-04-29T15:53:51.855Z"
   },
   {
    "duration": 9,
    "start_time": "2022-04-29T15:53:51.874Z"
   },
   {
    "duration": 7,
    "start_time": "2022-04-29T15:53:51.886Z"
   },
   {
    "duration": 7,
    "start_time": "2022-04-29T15:53:51.928Z"
   },
   {
    "duration": 10,
    "start_time": "2022-04-29T15:53:51.937Z"
   },
   {
    "duration": 9,
    "start_time": "2022-04-29T15:53:51.949Z"
   },
   {
    "duration": 10,
    "start_time": "2022-04-29T15:53:51.961Z"
   },
   {
    "duration": 69,
    "start_time": "2022-04-29T15:53:51.974Z"
   },
   {
    "duration": 8,
    "start_time": "2022-04-29T15:53:52.046Z"
   },
   {
    "duration": 6,
    "start_time": "2022-04-29T15:53:52.056Z"
   },
   {
    "duration": 14,
    "start_time": "2022-04-29T15:53:52.064Z"
   },
   {
    "duration": 56,
    "start_time": "2022-04-29T15:53:52.080Z"
   },
   {
    "duration": 10,
    "start_time": "2022-04-29T15:53:52.138Z"
   },
   {
    "duration": 13,
    "start_time": "2022-04-29T15:53:52.150Z"
   },
   {
    "duration": 13,
    "start_time": "2022-04-29T15:53:52.166Z"
   },
   {
    "duration": 10,
    "start_time": "2022-04-29T15:53:52.182Z"
   },
   {
    "duration": 43,
    "start_time": "2022-04-29T15:53:52.194Z"
   },
   {
    "duration": 21,
    "start_time": "2022-04-29T15:53:52.239Z"
   },
   {
    "duration": 21,
    "start_time": "2022-04-29T15:53:52.263Z"
   },
   {
    "duration": 13,
    "start_time": "2022-04-29T15:53:52.287Z"
   },
   {
    "duration": 28,
    "start_time": "2022-04-29T15:53:52.303Z"
   },
   {
    "duration": 14,
    "start_time": "2022-04-29T15:53:52.340Z"
   },
   {
    "duration": 8,
    "start_time": "2022-04-29T15:53:52.357Z"
   },
   {
    "duration": 57,
    "start_time": "2022-04-29T15:53:52.368Z"
   },
   {
    "duration": 6,
    "start_time": "2022-04-29T15:53:52.428Z"
   },
   {
    "duration": 9,
    "start_time": "2022-04-29T15:53:52.437Z"
   },
   {
    "duration": 18,
    "start_time": "2022-04-29T15:53:52.448Z"
   },
   {
    "duration": 60,
    "start_time": "2022-04-29T15:53:52.468Z"
   },
   {
    "duration": 29,
    "start_time": "2022-04-29T15:53:52.530Z"
   },
   {
    "duration": 25,
    "start_time": "2022-04-29T15:53:52.562Z"
   },
   {
    "duration": 42,
    "start_time": "2022-04-29T15:53:52.590Z"
   },
   {
    "duration": 25,
    "start_time": "2022-04-29T15:53:52.634Z"
   },
   {
    "duration": 30,
    "start_time": "2022-04-29T15:53:52.661Z"
   },
   {
    "duration": 37,
    "start_time": "2022-04-29T15:53:52.693Z"
   },
   {
    "duration": 33,
    "start_time": "2022-04-29T15:53:52.732Z"
   },
   {
    "duration": 20,
    "start_time": "2022-04-29T15:53:52.767Z"
   },
   {
    "duration": 36,
    "start_time": "2022-04-29T15:53:52.790Z"
   },
   {
    "duration": 10,
    "start_time": "2022-04-29T15:53:52.828Z"
   },
   {
    "duration": 38,
    "start_time": "2022-04-29T15:53:52.841Z"
   },
   {
    "duration": 53,
    "start_time": "2022-04-29T15:53:52.882Z"
   },
   {
    "duration": 5,
    "start_time": "2022-04-29T15:53:52.937Z"
   },
   {
    "duration": 10,
    "start_time": "2022-04-29T15:53:52.945Z"
   },
   {
    "duration": 17,
    "start_time": "2022-04-29T15:53:52.957Z"
   },
   {
    "duration": 48,
    "start_time": "2022-04-29T15:53:52.976Z"
   },
   {
    "duration": 11,
    "start_time": "2022-04-29T15:53:53.026Z"
   },
   {
    "duration": 8,
    "start_time": "2022-04-29T15:53:53.039Z"
   },
   {
    "duration": 13,
    "start_time": "2022-04-29T15:53:53.049Z"
   },
   {
    "duration": 22,
    "start_time": "2022-04-29T15:53:53.065Z"
   },
   {
    "duration": 43,
    "start_time": "2022-04-29T15:53:53.090Z"
   },
   {
    "duration": 22,
    "start_time": "2022-04-29T15:53:53.135Z"
   },
   {
    "duration": 72,
    "start_time": "2022-04-29T15:53:53.159Z"
   },
   {
    "duration": 38,
    "start_time": "2022-04-29T15:53:53.234Z"
   },
   {
    "duration": 66,
    "start_time": "2022-04-29T15:53:53.274Z"
   },
   {
    "duration": 37,
    "start_time": "2022-04-29T15:53:53.342Z"
   },
   {
    "duration": 61,
    "start_time": "2022-04-29T15:53:53.382Z"
   },
   {
    "duration": 3,
    "start_time": "2022-04-29T15:54:29.893Z"
   },
   {
    "duration": 35,
    "start_time": "2022-04-29T16:26:29.566Z"
   },
   {
    "duration": 36,
    "start_time": "2022-04-29T16:28:14.406Z"
   },
   {
    "duration": 35,
    "start_time": "2022-04-29T16:28:20.166Z"
   },
   {
    "duration": 35,
    "start_time": "2022-04-29T16:28:47.790Z"
   },
   {
    "duration": 11,
    "start_time": "2022-04-29T16:29:11.110Z"
   },
   {
    "duration": 16,
    "start_time": "2022-04-29T16:29:18.621Z"
   },
   {
    "duration": 12,
    "start_time": "2022-04-29T16:29:21.190Z"
   },
   {
    "duration": 10,
    "start_time": "2022-04-29T16:29:32.172Z"
   },
   {
    "duration": 10,
    "start_time": "2022-04-29T16:29:47.021Z"
   },
   {
    "duration": 12,
    "start_time": "2022-04-29T16:33:47.012Z"
   },
   {
    "duration": 12,
    "start_time": "2022-04-29T16:34:35.549Z"
   },
   {
    "duration": 11,
    "start_time": "2022-04-29T16:35:57.301Z"
   },
   {
    "duration": 31,
    "start_time": "2022-04-29T16:42:44.193Z"
   },
   {
    "duration": 19,
    "start_time": "2022-04-29T16:45:25.838Z"
   },
   {
    "duration": 17,
    "start_time": "2022-04-29T16:45:59.017Z"
   },
   {
    "duration": 29,
    "start_time": "2022-04-29T16:46:07.705Z"
   },
   {
    "duration": 13,
    "start_time": "2022-04-29T16:46:26.705Z"
   },
   {
    "duration": 15,
    "start_time": "2022-04-29T16:47:47.057Z"
   },
   {
    "duration": 7,
    "start_time": "2022-04-29T16:47:59.040Z"
   },
   {
    "duration": 28,
    "start_time": "2022-04-29T16:59:38.822Z"
   },
   {
    "duration": 82,
    "start_time": "2022-04-29T17:01:32.654Z"
   },
   {
    "duration": 23,
    "start_time": "2022-04-29T17:01:32.739Z"
   },
   {
    "duration": 23,
    "start_time": "2022-04-29T17:01:32.764Z"
   },
   {
    "duration": 55,
    "start_time": "2022-04-29T17:01:32.790Z"
   },
   {
    "duration": 9,
    "start_time": "2022-04-29T17:01:32.847Z"
   },
   {
    "duration": 32,
    "start_time": "2022-04-29T17:01:32.859Z"
   },
   {
    "duration": 34,
    "start_time": "2022-04-29T17:01:32.926Z"
   },
   {
    "duration": 14,
    "start_time": "2022-04-29T17:01:32.964Z"
   },
   {
    "duration": 8,
    "start_time": "2022-04-29T17:01:32.980Z"
   },
   {
    "duration": 60,
    "start_time": "2022-04-29T17:01:32.995Z"
   },
   {
    "duration": 9,
    "start_time": "2022-04-29T17:01:33.058Z"
   },
   {
    "duration": 9,
    "start_time": "2022-04-29T17:01:33.069Z"
   },
   {
    "duration": 50,
    "start_time": "2022-04-29T17:01:33.081Z"
   },
   {
    "duration": 28,
    "start_time": "2022-04-29T17:01:33.134Z"
   },
   {
    "duration": 10,
    "start_time": "2022-04-29T17:01:33.165Z"
   },
   {
    "duration": 9,
    "start_time": "2022-04-29T17:01:33.178Z"
   },
   {
    "duration": 38,
    "start_time": "2022-04-29T17:01:33.189Z"
   },
   {
    "duration": 21,
    "start_time": "2022-04-29T17:01:33.234Z"
   },
   {
    "duration": 10,
    "start_time": "2022-04-29T17:01:33.258Z"
   },
   {
    "duration": 19,
    "start_time": "2022-04-29T17:01:33.270Z"
   },
   {
    "duration": 41,
    "start_time": "2022-04-29T17:01:33.291Z"
   },
   {
    "duration": 15,
    "start_time": "2022-04-29T17:01:33.334Z"
   },
   {
    "duration": 9,
    "start_time": "2022-04-29T17:01:33.351Z"
   },
   {
    "duration": 23,
    "start_time": "2022-04-29T17:01:33.362Z"
   },
   {
    "duration": 15,
    "start_time": "2022-04-29T17:01:33.387Z"
   },
   {
    "duration": 22,
    "start_time": "2022-04-29T17:01:33.404Z"
   },
   {
    "duration": 33,
    "start_time": "2022-04-29T17:01:33.431Z"
   },
   {
    "duration": 12,
    "start_time": "2022-04-29T17:01:33.470Z"
   },
   {
    "duration": 8,
    "start_time": "2022-04-29T17:01:33.485Z"
   },
   {
    "duration": 7,
    "start_time": "2022-04-29T17:01:33.495Z"
   },
   {
    "duration": 47,
    "start_time": "2022-04-29T17:01:33.504Z"
   },
   {
    "duration": 27,
    "start_time": "2022-04-29T17:01:33.553Z"
   },
   {
    "duration": 145,
    "start_time": "2022-04-29T17:01:33.582Z"
   },
   {
    "duration": 0,
    "start_time": "2022-04-29T17:01:33.729Z"
   },
   {
    "duration": 0,
    "start_time": "2022-04-29T17:01:33.732Z"
   },
   {
    "duration": 0,
    "start_time": "2022-04-29T17:01:33.733Z"
   },
   {
    "duration": 0,
    "start_time": "2022-04-29T17:01:33.735Z"
   },
   {
    "duration": 0,
    "start_time": "2022-04-29T17:01:33.736Z"
   },
   {
    "duration": 0,
    "start_time": "2022-04-29T17:01:33.739Z"
   },
   {
    "duration": 0,
    "start_time": "2022-04-29T17:01:33.740Z"
   },
   {
    "duration": 0,
    "start_time": "2022-04-29T17:01:33.742Z"
   },
   {
    "duration": 0,
    "start_time": "2022-04-29T17:01:33.744Z"
   },
   {
    "duration": 0,
    "start_time": "2022-04-29T17:01:33.746Z"
   },
   {
    "duration": 0,
    "start_time": "2022-04-29T17:01:33.748Z"
   },
   {
    "duration": 0,
    "start_time": "2022-04-29T17:01:33.749Z"
   },
   {
    "duration": 0,
    "start_time": "2022-04-29T17:01:33.751Z"
   },
   {
    "duration": 0,
    "start_time": "2022-04-29T17:01:33.752Z"
   },
   {
    "duration": 0,
    "start_time": "2022-04-29T17:01:33.754Z"
   },
   {
    "duration": 0,
    "start_time": "2022-04-29T17:01:33.756Z"
   },
   {
    "duration": 0,
    "start_time": "2022-04-29T17:01:33.758Z"
   },
   {
    "duration": 0,
    "start_time": "2022-04-29T17:01:33.759Z"
   },
   {
    "duration": 0,
    "start_time": "2022-04-29T17:01:33.760Z"
   },
   {
    "duration": 0,
    "start_time": "2022-04-29T17:01:33.762Z"
   },
   {
    "duration": 0,
    "start_time": "2022-04-29T17:01:33.763Z"
   },
   {
    "duration": 0,
    "start_time": "2022-04-29T17:01:33.765Z"
   },
   {
    "duration": 0,
    "start_time": "2022-04-29T17:01:33.766Z"
   },
   {
    "duration": 0,
    "start_time": "2022-04-29T17:01:33.826Z"
   },
   {
    "duration": 0,
    "start_time": "2022-04-29T17:01:33.828Z"
   },
   {
    "duration": 0,
    "start_time": "2022-04-29T17:01:33.829Z"
   },
   {
    "duration": 0,
    "start_time": "2022-04-29T17:01:33.830Z"
   },
   {
    "duration": 0,
    "start_time": "2022-04-29T17:01:33.832Z"
   },
   {
    "duration": 0,
    "start_time": "2022-04-29T17:01:33.836Z"
   },
   {
    "duration": 0,
    "start_time": "2022-04-29T17:01:33.841Z"
   },
   {
    "duration": 0,
    "start_time": "2022-04-29T17:01:33.842Z"
   },
   {
    "duration": 0,
    "start_time": "2022-04-29T17:01:33.845Z"
   },
   {
    "duration": 92,
    "start_time": "2022-04-29T17:01:59.949Z"
   },
   {
    "duration": 23,
    "start_time": "2022-04-29T17:02:00.044Z"
   },
   {
    "duration": 63,
    "start_time": "2022-04-29T17:02:00.069Z"
   },
   {
    "duration": 26,
    "start_time": "2022-04-29T17:02:00.136Z"
   },
   {
    "duration": 10,
    "start_time": "2022-04-29T17:02:00.164Z"
   },
   {
    "duration": 66,
    "start_time": "2022-04-29T17:02:00.177Z"
   },
   {
    "duration": 18,
    "start_time": "2022-04-29T17:02:00.246Z"
   },
   {
    "duration": 13,
    "start_time": "2022-04-29T17:02:00.267Z"
   },
   {
    "duration": 17,
    "start_time": "2022-04-29T17:02:00.283Z"
   },
   {
    "duration": 30,
    "start_time": "2022-04-29T17:02:00.304Z"
   },
   {
    "duration": 18,
    "start_time": "2022-04-29T17:02:00.337Z"
   },
   {
    "duration": 24,
    "start_time": "2022-04-29T17:02:00.357Z"
   },
   {
    "duration": 91,
    "start_time": "2022-04-29T17:02:00.383Z"
   },
   {
    "duration": 29,
    "start_time": "2022-04-29T17:02:00.476Z"
   },
   {
    "duration": 14,
    "start_time": "2022-04-29T17:02:00.507Z"
   },
   {
    "duration": 25,
    "start_time": "2022-04-29T17:02:00.523Z"
   },
   {
    "duration": 10,
    "start_time": "2022-04-29T17:02:00.551Z"
   },
   {
    "duration": 27,
    "start_time": "2022-04-29T17:02:00.563Z"
   },
   {
    "duration": 11,
    "start_time": "2022-04-29T17:02:00.592Z"
   },
   {
    "duration": 43,
    "start_time": "2022-04-29T17:02:00.605Z"
   },
   {
    "duration": 22,
    "start_time": "2022-04-29T17:02:00.650Z"
   },
   {
    "duration": 29,
    "start_time": "2022-04-29T17:02:00.674Z"
   },
   {
    "duration": 40,
    "start_time": "2022-04-29T17:02:00.705Z"
   },
   {
    "duration": 37,
    "start_time": "2022-04-29T17:02:00.748Z"
   },
   {
    "duration": 37,
    "start_time": "2022-04-29T17:02:00.787Z"
   },
   {
    "duration": 26,
    "start_time": "2022-04-29T17:02:00.826Z"
   },
   {
    "duration": 18,
    "start_time": "2022-04-29T17:02:00.856Z"
   },
   {
    "duration": 31,
    "start_time": "2022-04-29T17:02:00.880Z"
   },
   {
    "duration": 22,
    "start_time": "2022-04-29T17:02:00.913Z"
   },
   {
    "duration": 11,
    "start_time": "2022-04-29T17:02:00.938Z"
   },
   {
    "duration": 25,
    "start_time": "2022-04-29T17:02:00.951Z"
   },
   {
    "duration": 25,
    "start_time": "2022-04-29T17:02:00.979Z"
   },
   {
    "duration": 9,
    "start_time": "2022-04-29T17:02:01.006Z"
   },
   {
    "duration": 10,
    "start_time": "2022-04-29T17:02:01.034Z"
   },
   {
    "duration": 31,
    "start_time": "2022-04-29T17:02:01.046Z"
   },
   {
    "duration": 27,
    "start_time": "2022-04-29T17:02:01.079Z"
   },
   {
    "duration": 46,
    "start_time": "2022-04-29T17:02:01.108Z"
   },
   {
    "duration": 25,
    "start_time": "2022-04-29T17:02:01.156Z"
   },
   {
    "duration": 23,
    "start_time": "2022-04-29T17:02:01.183Z"
   },
   {
    "duration": 15,
    "start_time": "2022-04-29T17:02:01.227Z"
   },
   {
    "duration": 42,
    "start_time": "2022-04-29T17:02:01.244Z"
   },
   {
    "duration": 42,
    "start_time": "2022-04-29T17:02:01.288Z"
   },
   {
    "duration": 17,
    "start_time": "2022-04-29T17:02:01.333Z"
   },
   {
    "duration": 23,
    "start_time": "2022-04-29T17:02:01.352Z"
   },
   {
    "duration": 20,
    "start_time": "2022-04-29T17:02:01.377Z"
   },
   {
    "duration": 39,
    "start_time": "2022-04-29T17:02:01.399Z"
   },
   {
    "duration": 10,
    "start_time": "2022-04-29T17:02:01.441Z"
   },
   {
    "duration": 48,
    "start_time": "2022-04-29T17:02:01.453Z"
   },
   {
    "duration": 49,
    "start_time": "2022-04-29T17:02:01.504Z"
   },
   {
    "duration": 5,
    "start_time": "2022-04-29T17:02:01.556Z"
   },
   {
    "duration": 21,
    "start_time": "2022-04-29T17:02:01.563Z"
   },
   {
    "duration": 21,
    "start_time": "2022-04-29T17:02:01.586Z"
   },
   {
    "duration": 47,
    "start_time": "2022-04-29T17:02:01.610Z"
   },
   {
    "duration": 19,
    "start_time": "2022-04-29T17:02:01.659Z"
   },
   {
    "duration": 8,
    "start_time": "2022-04-29T17:02:01.680Z"
   },
   {
    "duration": 24,
    "start_time": "2022-04-29T17:02:01.690Z"
   },
   {
    "duration": 543,
    "start_time": "2022-04-29T17:02:01.716Z"
   },
   {
    "duration": 0,
    "start_time": "2022-04-29T17:02:02.262Z"
   },
   {
    "duration": 0,
    "start_time": "2022-04-29T17:02:02.264Z"
   },
   {
    "duration": 0,
    "start_time": "2022-04-29T17:02:02.265Z"
   },
   {
    "duration": 0,
    "start_time": "2022-04-29T17:02:02.266Z"
   },
   {
    "duration": 0,
    "start_time": "2022-04-29T17:02:02.268Z"
   },
   {
    "duration": 0,
    "start_time": "2022-04-29T17:02:02.269Z"
   },
   {
    "duration": 0,
    "start_time": "2022-04-29T17:02:02.271Z"
   },
   {
    "duration": 77,
    "start_time": "2022-04-29T17:04:35.773Z"
   },
   {
    "duration": 21,
    "start_time": "2022-04-29T17:04:35.853Z"
   },
   {
    "duration": 60,
    "start_time": "2022-04-29T17:04:35.877Z"
   },
   {
    "duration": 23,
    "start_time": "2022-04-29T17:04:35.940Z"
   },
   {
    "duration": 7,
    "start_time": "2022-04-29T17:04:35.965Z"
   },
   {
    "duration": 66,
    "start_time": "2022-04-29T17:04:35.974Z"
   },
   {
    "duration": 8,
    "start_time": "2022-04-29T17:04:36.043Z"
   },
   {
    "duration": 17,
    "start_time": "2022-04-29T17:04:36.053Z"
   },
   {
    "duration": 6,
    "start_time": "2022-04-29T17:04:36.072Z"
   },
   {
    "duration": 6,
    "start_time": "2022-04-29T17:04:36.082Z"
   },
   {
    "duration": 40,
    "start_time": "2022-04-29T17:04:36.090Z"
   },
   {
    "duration": 16,
    "start_time": "2022-04-29T17:04:36.134Z"
   },
   {
    "duration": 8,
    "start_time": "2022-04-29T17:04:36.152Z"
   },
   {
    "duration": 28,
    "start_time": "2022-04-29T17:04:36.163Z"
   },
   {
    "duration": 37,
    "start_time": "2022-04-29T17:04:36.193Z"
   },
   {
    "duration": 19,
    "start_time": "2022-04-29T17:04:36.232Z"
   },
   {
    "duration": 13,
    "start_time": "2022-04-29T17:04:36.254Z"
   },
   {
    "duration": 24,
    "start_time": "2022-04-29T17:04:36.270Z"
   },
   {
    "duration": 35,
    "start_time": "2022-04-29T17:04:36.297Z"
   },
   {
    "duration": 16,
    "start_time": "2022-04-29T17:04:36.335Z"
   },
   {
    "duration": 11,
    "start_time": "2022-04-29T17:04:36.353Z"
   },
   {
    "duration": 8,
    "start_time": "2022-04-29T17:04:36.366Z"
   },
   {
    "duration": 9,
    "start_time": "2022-04-29T17:04:36.376Z"
   },
   {
    "duration": 47,
    "start_time": "2022-04-29T17:04:36.387Z"
   },
   {
    "duration": 11,
    "start_time": "2022-04-29T17:04:36.439Z"
   },
   {
    "duration": 8,
    "start_time": "2022-04-29T17:04:36.452Z"
   },
   {
    "duration": 10,
    "start_time": "2022-04-29T17:04:36.463Z"
   },
   {
    "duration": 11,
    "start_time": "2022-04-29T17:04:36.479Z"
   },
   {
    "duration": 48,
    "start_time": "2022-04-29T17:04:36.492Z"
   },
   {
    "duration": 5,
    "start_time": "2022-04-29T17:04:36.542Z"
   },
   {
    "duration": 17,
    "start_time": "2022-04-29T17:04:36.549Z"
   },
   {
    "duration": 4,
    "start_time": "2022-04-29T17:04:36.569Z"
   },
   {
    "duration": 10,
    "start_time": "2022-04-29T17:04:36.576Z"
   },
   {
    "duration": 43,
    "start_time": "2022-04-29T17:04:36.588Z"
   },
   {
    "duration": 16,
    "start_time": "2022-04-29T17:04:36.634Z"
   },
   {
    "duration": 17,
    "start_time": "2022-04-29T17:04:36.653Z"
   },
   {
    "duration": 60,
    "start_time": "2022-04-29T17:04:36.673Z"
   },
   {
    "duration": 28,
    "start_time": "2022-04-29T17:04:36.735Z"
   },
   {
    "duration": 25,
    "start_time": "2022-04-29T17:04:36.765Z"
   },
   {
    "duration": 35,
    "start_time": "2022-04-29T17:04:36.793Z"
   },
   {
    "duration": 69,
    "start_time": "2022-04-29T17:04:36.830Z"
   },
   {
    "duration": 53,
    "start_time": "2022-04-29T17:04:36.901Z"
   },
   {
    "duration": 11,
    "start_time": "2022-04-29T17:04:36.957Z"
   },
   {
    "duration": 38,
    "start_time": "2022-04-29T17:04:36.970Z"
   },
   {
    "duration": 31,
    "start_time": "2022-04-29T17:04:37.011Z"
   },
   {
    "duration": 26,
    "start_time": "2022-04-29T17:04:37.044Z"
   },
   {
    "duration": 10,
    "start_time": "2022-04-29T17:04:37.081Z"
   },
   {
    "duration": 55,
    "start_time": "2022-04-29T17:04:37.093Z"
   },
   {
    "duration": 25,
    "start_time": "2022-04-29T17:04:37.151Z"
   },
   {
    "duration": 13,
    "start_time": "2022-04-29T17:04:37.179Z"
   },
   {
    "duration": 32,
    "start_time": "2022-04-29T17:04:37.194Z"
   },
   {
    "duration": 43,
    "start_time": "2022-04-29T17:04:37.230Z"
   },
   {
    "duration": 36,
    "start_time": "2022-04-29T17:04:37.275Z"
   },
   {
    "duration": 25,
    "start_time": "2022-04-29T17:04:37.313Z"
   },
   {
    "duration": 35,
    "start_time": "2022-04-29T17:04:37.341Z"
   },
   {
    "duration": 42,
    "start_time": "2022-04-29T17:04:37.379Z"
   },
   {
    "duration": 39,
    "start_time": "2022-04-29T17:04:37.424Z"
   },
   {
    "duration": 20,
    "start_time": "2022-04-29T17:04:37.466Z"
   },
   {
    "duration": 32,
    "start_time": "2022-04-29T17:04:37.488Z"
   },
   {
    "duration": 62,
    "start_time": "2022-04-29T17:04:37.523Z"
   },
   {
    "duration": 31,
    "start_time": "2022-04-29T17:04:37.588Z"
   },
   {
    "duration": 32,
    "start_time": "2022-04-29T17:04:37.622Z"
   },
   {
    "duration": 34,
    "start_time": "2022-04-29T17:04:37.658Z"
   },
   {
    "duration": 53,
    "start_time": "2022-04-29T17:04:37.696Z"
   },
   {
    "duration": 70,
    "start_time": "2022-04-29T17:07:13.165Z"
   },
   {
    "duration": 20,
    "start_time": "2022-04-29T17:07:13.238Z"
   },
   {
    "duration": 23,
    "start_time": "2022-04-29T17:07:13.260Z"
   },
   {
    "duration": 49,
    "start_time": "2022-04-29T17:07:13.285Z"
   },
   {
    "duration": 7,
    "start_time": "2022-04-29T17:07:13.340Z"
   },
   {
    "duration": 23,
    "start_time": "2022-04-29T17:07:13.349Z"
   },
   {
    "duration": 9,
    "start_time": "2022-04-29T17:07:13.375Z"
   },
   {
    "duration": 43,
    "start_time": "2022-04-29T17:07:13.387Z"
   },
   {
    "duration": 11,
    "start_time": "2022-04-29T17:07:13.433Z"
   },
   {
    "duration": 11,
    "start_time": "2022-04-29T17:07:13.446Z"
   },
   {
    "duration": 7,
    "start_time": "2022-04-29T17:07:13.459Z"
   },
   {
    "duration": 9,
    "start_time": "2022-04-29T17:07:13.468Z"
   },
   {
    "duration": 7,
    "start_time": "2022-04-29T17:07:13.479Z"
   },
   {
    "duration": 24,
    "start_time": "2022-04-29T17:07:13.523Z"
   },
   {
    "duration": 9,
    "start_time": "2022-04-29T17:07:13.549Z"
   },
   {
    "duration": 7,
    "start_time": "2022-04-29T17:07:13.560Z"
   },
   {
    "duration": 10,
    "start_time": "2022-04-29T17:07:13.569Z"
   },
   {
    "duration": 57,
    "start_time": "2022-04-29T17:07:13.581Z"
   },
   {
    "duration": 9,
    "start_time": "2022-04-29T17:07:13.640Z"
   },
   {
    "duration": 7,
    "start_time": "2022-04-29T17:07:13.651Z"
   },
   {
    "duration": 8,
    "start_time": "2022-04-29T17:07:13.660Z"
   },
   {
    "duration": 8,
    "start_time": "2022-04-29T17:07:13.671Z"
   },
   {
    "duration": 50,
    "start_time": "2022-04-29T17:07:13.682Z"
   },
   {
    "duration": 18,
    "start_time": "2022-04-29T17:07:13.735Z"
   },
   {
    "duration": 9,
    "start_time": "2022-04-29T17:07:13.755Z"
   },
   {
    "duration": 8,
    "start_time": "2022-04-29T17:07:13.766Z"
   },
   {
    "duration": 9,
    "start_time": "2022-04-29T17:07:13.776Z"
   },
   {
    "duration": 51,
    "start_time": "2022-04-29T17:07:13.787Z"
   },
   {
    "duration": 7,
    "start_time": "2022-04-29T17:07:13.840Z"
   },
   {
    "duration": 7,
    "start_time": "2022-04-29T17:07:13.849Z"
   },
   {
    "duration": 17,
    "start_time": "2022-04-29T17:07:13.858Z"
   },
   {
    "duration": 19,
    "start_time": "2022-04-29T17:07:36.108Z"
   },
   {
    "duration": 16,
    "start_time": "2022-04-29T17:07:40.196Z"
   },
   {
    "duration": 67,
    "start_time": "2022-04-29T17:07:45.039Z"
   },
   {
    "duration": 43,
    "start_time": "2022-04-29T17:07:45.108Z"
   },
   {
    "duration": 22,
    "start_time": "2022-04-29T17:07:45.153Z"
   },
   {
    "duration": 65,
    "start_time": "2022-04-29T17:07:45.178Z"
   },
   {
    "duration": 9,
    "start_time": "2022-04-29T17:07:45.246Z"
   },
   {
    "duration": 23,
    "start_time": "2022-04-29T17:07:45.257Z"
   },
   {
    "duration": 7,
    "start_time": "2022-04-29T17:07:45.282Z"
   },
   {
    "duration": 45,
    "start_time": "2022-04-29T17:07:45.291Z"
   },
   {
    "duration": 14,
    "start_time": "2022-04-29T17:07:45.338Z"
   },
   {
    "duration": 7,
    "start_time": "2022-04-29T17:07:45.355Z"
   },
   {
    "duration": 12,
    "start_time": "2022-04-29T17:07:45.365Z"
   },
   {
    "duration": 45,
    "start_time": "2022-04-29T17:07:45.379Z"
   },
   {
    "duration": 11,
    "start_time": "2022-04-29T17:07:45.433Z"
   },
   {
    "duration": 24,
    "start_time": "2022-04-29T17:07:45.450Z"
   },
   {
    "duration": 7,
    "start_time": "2022-04-29T17:07:45.476Z"
   },
   {
    "duration": 12,
    "start_time": "2022-04-29T17:07:45.486Z"
   },
   {
    "duration": 8,
    "start_time": "2022-04-29T17:07:45.532Z"
   },
   {
    "duration": 32,
    "start_time": "2022-04-29T17:07:45.543Z"
   },
   {
    "duration": 54,
    "start_time": "2022-04-29T17:07:45.578Z"
   },
   {
    "duration": 16,
    "start_time": "2022-04-29T17:07:45.634Z"
   },
   {
    "duration": 10,
    "start_time": "2022-04-29T17:07:45.653Z"
   },
   {
    "duration": 7,
    "start_time": "2022-04-29T17:07:45.666Z"
   },
   {
    "duration": 10,
    "start_time": "2022-04-29T17:07:45.731Z"
   },
   {
    "duration": 26,
    "start_time": "2022-04-29T17:07:45.743Z"
   },
   {
    "duration": 10,
    "start_time": "2022-04-29T17:07:45.771Z"
   },
   {
    "duration": 8,
    "start_time": "2022-04-29T17:07:45.784Z"
   },
   {
    "duration": 31,
    "start_time": "2022-04-29T17:07:45.795Z"
   },
   {
    "duration": 16,
    "start_time": "2022-04-29T17:07:45.829Z"
   },
   {
    "duration": 7,
    "start_time": "2022-04-29T17:07:45.847Z"
   },
   {
    "duration": 7,
    "start_time": "2022-04-29T17:07:45.857Z"
   },
   {
    "duration": 14,
    "start_time": "2022-04-29T17:07:45.866Z"
   },
   {
    "duration": 26,
    "start_time": "2022-04-29T17:07:45.883Z"
   },
   {
    "duration": 11,
    "start_time": "2022-04-29T17:07:45.912Z"
   },
   {
    "duration": 30,
    "start_time": "2022-04-29T17:07:45.925Z"
   },
   {
    "duration": 6,
    "start_time": "2022-04-29T17:07:45.957Z"
   },
   {
    "duration": 19,
    "start_time": "2022-04-29T17:07:45.965Z"
   },
   {
    "duration": 30,
    "start_time": "2022-04-29T17:07:45.986Z"
   },
   {
    "duration": 34,
    "start_time": "2022-04-29T17:07:46.018Z"
   },
   {
    "duration": 26,
    "start_time": "2022-04-29T17:07:46.054Z"
   },
   {
    "duration": 10,
    "start_time": "2022-04-29T17:07:46.082Z"
   },
   {
    "duration": 26,
    "start_time": "2022-04-29T17:07:46.098Z"
   },
   {
    "duration": 28,
    "start_time": "2022-04-29T17:07:46.133Z"
   },
   {
    "duration": 14,
    "start_time": "2022-04-29T17:07:46.163Z"
   },
   {
    "duration": 13,
    "start_time": "2022-04-29T17:07:46.179Z"
   },
   {
    "duration": 21,
    "start_time": "2022-04-29T17:07:46.194Z"
   },
   {
    "duration": 19,
    "start_time": "2022-04-29T17:07:46.218Z"
   },
   {
    "duration": 11,
    "start_time": "2022-04-29T17:07:46.239Z"
   },
   {
    "duration": 39,
    "start_time": "2022-04-29T17:07:46.252Z"
   },
   {
    "duration": 20,
    "start_time": "2022-04-29T17:07:46.294Z"
   },
   {
    "duration": 6,
    "start_time": "2022-04-29T17:07:46.324Z"
   },
   {
    "duration": 31,
    "start_time": "2022-04-29T17:07:46.332Z"
   },
   {
    "duration": 22,
    "start_time": "2022-04-29T17:07:46.365Z"
   },
   {
    "duration": 20,
    "start_time": "2022-04-29T17:07:46.389Z"
   },
   {
    "duration": 41,
    "start_time": "2022-04-29T17:07:46.412Z"
   },
   {
    "duration": 7,
    "start_time": "2022-04-29T17:07:46.456Z"
   },
   {
    "duration": 9,
    "start_time": "2022-04-29T17:07:46.466Z"
   },
   {
    "duration": 29,
    "start_time": "2022-04-29T17:07:46.477Z"
   },
   {
    "duration": 9,
    "start_time": "2022-04-29T17:07:46.509Z"
   },
   {
    "duration": 25,
    "start_time": "2022-04-29T17:07:46.520Z"
   },
   {
    "duration": 38,
    "start_time": "2022-04-29T17:07:46.547Z"
   },
   {
    "duration": 30,
    "start_time": "2022-04-29T17:07:46.587Z"
   },
   {
    "duration": 30,
    "start_time": "2022-04-29T17:07:46.624Z"
   },
   {
    "duration": 29,
    "start_time": "2022-04-29T17:07:46.657Z"
   },
   {
    "duration": 43,
    "start_time": "2022-04-29T17:07:46.688Z"
   },
   {
    "duration": 11,
    "start_time": "2022-04-29T17:08:29.885Z"
   },
   {
    "duration": 9,
    "start_time": "2022-04-29T17:08:52.525Z"
   },
   {
    "duration": 9,
    "start_time": "2022-04-29T17:09:34.796Z"
   },
   {
    "duration": 149,
    "start_time": "2022-04-29T17:10:02.252Z"
   },
   {
    "duration": 8,
    "start_time": "2022-04-29T17:10:17.925Z"
   },
   {
    "duration": 13,
    "start_time": "2022-04-29T17:12:23.252Z"
   },
   {
    "duration": 69,
    "start_time": "2022-04-29T17:12:27.989Z"
   },
   {
    "duration": 21,
    "start_time": "2022-04-29T17:12:28.061Z"
   },
   {
    "duration": 57,
    "start_time": "2022-04-29T17:12:28.084Z"
   },
   {
    "duration": 21,
    "start_time": "2022-04-29T17:12:28.144Z"
   },
   {
    "duration": 7,
    "start_time": "2022-04-29T17:12:28.167Z"
   },
   {
    "duration": 63,
    "start_time": "2022-04-29T17:12:28.176Z"
   },
   {
    "duration": 6,
    "start_time": "2022-04-29T17:12:28.242Z"
   },
   {
    "duration": 10,
    "start_time": "2022-04-29T17:12:28.251Z"
   },
   {
    "duration": 8,
    "start_time": "2022-04-29T17:12:28.263Z"
   },
   {
    "duration": 6,
    "start_time": "2022-04-29T17:12:28.275Z"
   },
   {
    "duration": 46,
    "start_time": "2022-04-29T17:12:28.283Z"
   },
   {
    "duration": 14,
    "start_time": "2022-04-29T17:12:28.332Z"
   },
   {
    "duration": 7,
    "start_time": "2022-04-29T17:12:28.348Z"
   },
   {
    "duration": 23,
    "start_time": "2022-04-29T17:12:28.357Z"
   },
   {
    "duration": 7,
    "start_time": "2022-04-29T17:12:28.382Z"
   },
   {
    "duration": 6,
    "start_time": "2022-04-29T17:12:28.425Z"
   },
   {
    "duration": 10,
    "start_time": "2022-04-29T17:12:28.433Z"
   },
   {
    "duration": 28,
    "start_time": "2022-04-29T17:12:28.445Z"
   },
   {
    "duration": 9,
    "start_time": "2022-04-29T17:12:28.475Z"
   },
   {
    "duration": 40,
    "start_time": "2022-04-29T17:12:28.486Z"
   },
   {
    "duration": 11,
    "start_time": "2022-04-29T17:12:28.529Z"
   },
   {
    "duration": 6,
    "start_time": "2022-04-29T17:12:28.542Z"
   },
   {
    "duration": 7,
    "start_time": "2022-04-29T17:12:28.550Z"
   },
   {
    "duration": 22,
    "start_time": "2022-04-29T17:12:28.560Z"
   },
   {
    "duration": 41,
    "start_time": "2022-04-29T17:12:28.584Z"
   },
   {
    "duration": 7,
    "start_time": "2022-04-29T17:12:28.628Z"
   },
   {
    "duration": 13,
    "start_time": "2022-04-29T17:12:28.638Z"
   },
   {
    "duration": 11,
    "start_time": "2022-04-29T17:12:28.657Z"
   },
   {
    "duration": 7,
    "start_time": "2022-04-29T17:12:28.670Z"
   },
   {
    "duration": 5,
    "start_time": "2022-04-29T17:12:28.679Z"
   },
   {
    "duration": 49,
    "start_time": "2022-04-29T17:12:28.687Z"
   },
   {
    "duration": 25,
    "start_time": "2022-04-29T17:12:28.738Z"
   },
   {
    "duration": 7,
    "start_time": "2022-04-29T17:12:28.766Z"
   },
   {
    "duration": 11,
    "start_time": "2022-04-29T17:12:28.775Z"
   },
   {
    "duration": 8,
    "start_time": "2022-04-29T17:12:28.788Z"
   },
   {
    "duration": 41,
    "start_time": "2022-04-29T17:12:28.799Z"
   },
   {
    "duration": 31,
    "start_time": "2022-04-29T17:12:28.843Z"
   },
   {
    "duration": 50,
    "start_time": "2022-04-29T17:12:28.876Z"
   },
   {
    "duration": 26,
    "start_time": "2022-04-29T17:12:28.928Z"
   },
   {
    "duration": 9,
    "start_time": "2022-04-29T17:12:28.957Z"
   },
   {
    "duration": 27,
    "start_time": "2022-04-29T17:12:28.969Z"
   },
   {
    "duration": 25,
    "start_time": "2022-04-29T17:12:29.026Z"
   },
   {
    "duration": 31,
    "start_time": "2022-04-29T17:12:29.053Z"
   },
   {
    "duration": 14,
    "start_time": "2022-04-29T17:12:29.086Z"
   },
   {
    "duration": 26,
    "start_time": "2022-04-29T17:12:29.102Z"
   },
   {
    "duration": 17,
    "start_time": "2022-04-29T17:12:29.130Z"
   },
   {
    "duration": 11,
    "start_time": "2022-04-29T17:12:29.149Z"
   },
   {
    "duration": 75,
    "start_time": "2022-04-29T17:12:29.162Z"
   },
   {
    "duration": 21,
    "start_time": "2022-04-29T17:12:29.239Z"
   },
   {
    "duration": 10,
    "start_time": "2022-04-29T17:12:29.263Z"
   },
   {
    "duration": 12,
    "start_time": "2022-04-29T17:12:29.275Z"
   },
   {
    "duration": 41,
    "start_time": "2022-04-29T17:12:29.289Z"
   },
   {
    "duration": 26,
    "start_time": "2022-04-29T17:12:29.332Z"
   },
   {
    "duration": 12,
    "start_time": "2022-04-29T17:12:29.361Z"
   },
   {
    "duration": 15,
    "start_time": "2022-04-29T17:12:29.375Z"
   },
   {
    "duration": 11,
    "start_time": "2022-04-29T17:12:29.392Z"
   },
   {
    "duration": 33,
    "start_time": "2022-04-29T17:12:29.405Z"
   },
   {
    "duration": 9,
    "start_time": "2022-04-29T17:12:29.440Z"
   },
   {
    "duration": 21,
    "start_time": "2022-04-29T17:12:29.452Z"
   },
   {
    "duration": 65,
    "start_time": "2022-04-29T17:12:29.475Z"
   },
   {
    "duration": 27,
    "start_time": "2022-04-29T17:12:29.542Z"
   },
   {
    "duration": 26,
    "start_time": "2022-04-29T17:12:29.571Z"
   },
   {
    "duration": 27,
    "start_time": "2022-04-29T17:12:29.624Z"
   },
   {
    "duration": 27,
    "start_time": "2022-04-29T17:12:29.653Z"
   },
   {
    "duration": 3,
    "start_time": "2022-04-29T17:13:52.395Z"
   },
   {
    "duration": 140,
    "start_time": "2022-04-29T17:21:21.049Z"
   },
   {
    "duration": 9,
    "start_time": "2022-04-29T17:22:18.704Z"
   },
   {
    "duration": 196,
    "start_time": "2022-04-29T17:28:05.512Z"
   },
   {
    "duration": 21,
    "start_time": "2022-04-29T17:43:37.589Z"
   },
   {
    "duration": 44,
    "start_time": "2022-05-02T07:39:18.264Z"
   },
   {
    "duration": 485,
    "start_time": "2022-05-02T07:39:28.067Z"
   },
   {
    "duration": 20,
    "start_time": "2022-05-02T07:39:28.554Z"
   },
   {
    "duration": 20,
    "start_time": "2022-05-02T07:39:28.575Z"
   },
   {
    "duration": 13,
    "start_time": "2022-05-02T07:39:28.598Z"
   },
   {
    "duration": 35,
    "start_time": "2022-05-02T07:39:28.613Z"
   },
   {
    "duration": 12,
    "start_time": "2022-05-02T07:39:28.650Z"
   },
   {
    "duration": 10,
    "start_time": "2022-05-02T07:39:28.664Z"
   },
   {
    "duration": 8,
    "start_time": "2022-05-02T07:39:28.675Z"
   },
   {
    "duration": 9,
    "start_time": "2022-05-02T07:39:28.684Z"
   },
   {
    "duration": 5,
    "start_time": "2022-05-02T07:39:28.697Z"
   },
   {
    "duration": 8,
    "start_time": "2022-05-02T07:39:28.703Z"
   },
   {
    "duration": 38,
    "start_time": "2022-05-02T07:39:28.712Z"
   },
   {
    "duration": 5,
    "start_time": "2022-05-02T07:39:28.752Z"
   },
   {
    "duration": 15,
    "start_time": "2022-05-02T07:39:28.759Z"
   },
   {
    "duration": 5,
    "start_time": "2022-05-02T07:39:28.776Z"
   },
   {
    "duration": 9,
    "start_time": "2022-05-02T07:39:28.783Z"
   },
   {
    "duration": 6,
    "start_time": "2022-05-02T07:39:28.794Z"
   },
   {
    "duration": 50,
    "start_time": "2022-05-02T07:39:28.801Z"
   },
   {
    "duration": 7,
    "start_time": "2022-05-02T07:39:28.853Z"
   },
   {
    "duration": 7,
    "start_time": "2022-05-02T07:39:28.862Z"
   },
   {
    "duration": 7,
    "start_time": "2022-05-02T07:39:28.871Z"
   },
   {
    "duration": 7,
    "start_time": "2022-05-02T07:39:28.879Z"
   },
   {
    "duration": 6,
    "start_time": "2022-05-02T07:39:28.887Z"
   },
   {
    "duration": 14,
    "start_time": "2022-05-02T07:39:28.894Z"
   },
   {
    "duration": 39,
    "start_time": "2022-05-02T07:39:28.910Z"
   },
   {
    "duration": 7,
    "start_time": "2022-05-02T07:39:28.951Z"
   },
   {
    "duration": 8,
    "start_time": "2022-05-02T07:39:28.960Z"
   },
   {
    "duration": 10,
    "start_time": "2022-05-02T07:39:28.973Z"
   },
   {
    "duration": 7,
    "start_time": "2022-05-02T07:39:28.985Z"
   },
   {
    "duration": 3,
    "start_time": "2022-05-02T07:39:28.994Z"
   },
   {
    "duration": 11,
    "start_time": "2022-05-02T07:39:28.998Z"
   },
   {
    "duration": 12,
    "start_time": "2022-05-02T07:39:29.048Z"
   },
   {
    "duration": 7,
    "start_time": "2022-05-02T07:39:29.061Z"
   },
   {
    "duration": 8,
    "start_time": "2022-05-02T07:39:29.070Z"
   },
   {
    "duration": 18,
    "start_time": "2022-05-02T07:39:29.080Z"
   },
   {
    "duration": 8,
    "start_time": "2022-05-02T07:39:29.100Z"
   },
   {
    "duration": 4,
    "start_time": "2022-05-02T07:39:29.110Z"
   },
   {
    "duration": 4,
    "start_time": "2022-05-02T07:39:29.147Z"
   },
   {
    "duration": 13,
    "start_time": "2022-05-02T07:39:29.152Z"
   },
   {
    "duration": 19,
    "start_time": "2022-05-02T07:39:29.167Z"
   },
   {
    "duration": 18,
    "start_time": "2022-05-02T07:39:29.188Z"
   },
   {
    "duration": 45,
    "start_time": "2022-05-02T07:39:29.207Z"
   },
   {
    "duration": 10,
    "start_time": "2022-05-02T07:39:29.254Z"
   },
   {
    "duration": 17,
    "start_time": "2022-05-02T07:39:29.266Z"
   },
   {
    "duration": 32,
    "start_time": "2022-05-02T07:39:29.284Z"
   },
   {
    "duration": 35,
    "start_time": "2022-05-02T07:39:29.318Z"
   },
   {
    "duration": 10,
    "start_time": "2022-05-02T07:39:29.355Z"
   },
   {
    "duration": 11,
    "start_time": "2022-05-02T07:39:29.366Z"
   },
   {
    "duration": 11,
    "start_time": "2022-05-02T07:39:29.378Z"
   },
   {
    "duration": 6,
    "start_time": "2022-05-02T07:39:29.390Z"
   },
   {
    "duration": 61,
    "start_time": "2022-05-02T07:39:29.398Z"
   },
   {
    "duration": 15,
    "start_time": "2022-05-02T07:39:29.460Z"
   },
   {
    "duration": 4,
    "start_time": "2022-05-02T07:39:29.477Z"
   },
   {
    "duration": 9,
    "start_time": "2022-05-02T07:39:29.483Z"
   },
   {
    "duration": 10,
    "start_time": "2022-05-02T07:39:29.493Z"
   },
   {
    "duration": 44,
    "start_time": "2022-05-02T07:39:29.505Z"
   },
   {
    "duration": 9,
    "start_time": "2022-05-02T07:39:29.551Z"
   },
   {
    "duration": 5,
    "start_time": "2022-05-02T07:39:29.561Z"
   },
   {
    "duration": 7,
    "start_time": "2022-05-02T07:39:29.568Z"
   },
   {
    "duration": 13,
    "start_time": "2022-05-02T07:39:29.576Z"
   },
   {
    "duration": 6,
    "start_time": "2022-05-02T07:39:29.591Z"
   },
   {
    "duration": 50,
    "start_time": "2022-05-02T07:39:29.599Z"
   },
   {
    "duration": 21,
    "start_time": "2022-05-02T07:39:29.650Z"
   },
   {
    "duration": 17,
    "start_time": "2022-05-02T07:39:29.673Z"
   },
   {
    "duration": 18,
    "start_time": "2022-05-02T07:39:29.691Z"
   },
   {
    "duration": 46,
    "start_time": "2022-05-02T07:39:29.711Z"
   },
   {
    "duration": 19,
    "start_time": "2022-05-02T07:39:29.758Z"
   },
   {
    "duration": 13,
    "start_time": "2022-05-02T07:39:50.956Z"
   },
   {
    "duration": 36,
    "start_time": "2022-05-02T07:41:16.172Z"
   },
   {
    "duration": 55,
    "start_time": "2022-05-02T07:41:35.869Z"
   },
   {
    "duration": 14,
    "start_time": "2022-05-02T07:41:35.926Z"
   },
   {
    "duration": 20,
    "start_time": "2022-05-02T07:41:35.941Z"
   },
   {
    "duration": 14,
    "start_time": "2022-05-02T07:41:35.964Z"
   },
   {
    "duration": 17,
    "start_time": "2022-05-02T07:41:35.979Z"
   },
   {
    "duration": 16,
    "start_time": "2022-05-02T07:41:35.997Z"
   },
   {
    "duration": 34,
    "start_time": "2022-05-02T07:41:36.015Z"
   },
   {
    "duration": 7,
    "start_time": "2022-05-02T07:41:36.051Z"
   },
   {
    "duration": 10,
    "start_time": "2022-05-02T07:41:36.060Z"
   },
   {
    "duration": 5,
    "start_time": "2022-05-02T07:41:36.073Z"
   },
   {
    "duration": 6,
    "start_time": "2022-05-02T07:41:36.079Z"
   },
   {
    "duration": 7,
    "start_time": "2022-05-02T07:41:36.087Z"
   },
   {
    "duration": 10,
    "start_time": "2022-05-02T07:41:36.095Z"
   },
   {
    "duration": 51,
    "start_time": "2022-05-02T07:41:36.106Z"
   },
   {
    "duration": 7,
    "start_time": "2022-05-02T07:41:36.158Z"
   },
   {
    "duration": 5,
    "start_time": "2022-05-02T07:41:36.167Z"
   },
   {
    "duration": 5,
    "start_time": "2022-05-02T07:41:36.173Z"
   },
   {
    "duration": 14,
    "start_time": "2022-05-02T07:41:36.180Z"
   },
   {
    "duration": 7,
    "start_time": "2022-05-02T07:41:36.196Z"
   },
   {
    "duration": 44,
    "start_time": "2022-05-02T07:41:36.205Z"
   },
   {
    "duration": 7,
    "start_time": "2022-05-02T07:41:36.251Z"
   },
   {
    "duration": 10,
    "start_time": "2022-05-02T07:41:36.259Z"
   },
   {
    "duration": 5,
    "start_time": "2022-05-02T07:41:36.271Z"
   },
   {
    "duration": 16,
    "start_time": "2022-05-02T07:41:36.278Z"
   },
   {
    "duration": 13,
    "start_time": "2022-05-02T07:41:36.297Z"
   },
   {
    "duration": 38,
    "start_time": "2022-05-02T07:41:36.313Z"
   },
   {
    "duration": 6,
    "start_time": "2022-05-02T07:41:36.353Z"
   },
   {
    "duration": 10,
    "start_time": "2022-05-02T07:41:36.363Z"
   },
   {
    "duration": 6,
    "start_time": "2022-05-02T07:41:36.374Z"
   },
   {
    "duration": 5,
    "start_time": "2022-05-02T07:41:36.381Z"
   },
   {
    "duration": 12,
    "start_time": "2022-05-02T07:41:36.388Z"
   },
   {
    "duration": 13,
    "start_time": "2022-05-02T07:41:36.401Z"
   },
   {
    "duration": 33,
    "start_time": "2022-05-02T07:41:36.416Z"
   },
   {
    "duration": 10,
    "start_time": "2022-05-02T07:41:36.451Z"
   },
   {
    "duration": 18,
    "start_time": "2022-05-02T07:41:36.463Z"
   },
   {
    "duration": 19,
    "start_time": "2022-05-02T07:41:36.484Z"
   },
   {
    "duration": 0,
    "start_time": "2022-05-02T07:41:36.505Z"
   },
   {
    "duration": 0,
    "start_time": "2022-05-02T07:41:36.507Z"
   },
   {
    "duration": 0,
    "start_time": "2022-05-02T07:41:36.508Z"
   },
   {
    "duration": 0,
    "start_time": "2022-05-02T07:41:36.509Z"
   },
   {
    "duration": 0,
    "start_time": "2022-05-02T07:41:36.510Z"
   },
   {
    "duration": 0,
    "start_time": "2022-05-02T07:41:36.547Z"
   },
   {
    "duration": 0,
    "start_time": "2022-05-02T07:41:36.549Z"
   },
   {
    "duration": 0,
    "start_time": "2022-05-02T07:41:36.551Z"
   },
   {
    "duration": 0,
    "start_time": "2022-05-02T07:41:36.552Z"
   },
   {
    "duration": 0,
    "start_time": "2022-05-02T07:41:36.553Z"
   },
   {
    "duration": 0,
    "start_time": "2022-05-02T07:41:36.554Z"
   },
   {
    "duration": 1,
    "start_time": "2022-05-02T07:41:36.555Z"
   },
   {
    "duration": 0,
    "start_time": "2022-05-02T07:41:36.557Z"
   },
   {
    "duration": 0,
    "start_time": "2022-05-02T07:41:36.558Z"
   },
   {
    "duration": 0,
    "start_time": "2022-05-02T07:41:36.559Z"
   },
   {
    "duration": 0,
    "start_time": "2022-05-02T07:41:36.560Z"
   },
   {
    "duration": 0,
    "start_time": "2022-05-02T07:41:36.561Z"
   },
   {
    "duration": 0,
    "start_time": "2022-05-02T07:41:36.562Z"
   },
   {
    "duration": 0,
    "start_time": "2022-05-02T07:41:36.564Z"
   },
   {
    "duration": 0,
    "start_time": "2022-05-02T07:41:36.565Z"
   },
   {
    "duration": 0,
    "start_time": "2022-05-02T07:41:36.566Z"
   },
   {
    "duration": 0,
    "start_time": "2022-05-02T07:41:36.568Z"
   },
   {
    "duration": 0,
    "start_time": "2022-05-02T07:41:36.568Z"
   },
   {
    "duration": 0,
    "start_time": "2022-05-02T07:41:36.569Z"
   },
   {
    "duration": 0,
    "start_time": "2022-05-02T07:41:36.571Z"
   },
   {
    "duration": 0,
    "start_time": "2022-05-02T07:41:36.573Z"
   },
   {
    "duration": 0,
    "start_time": "2022-05-02T07:41:36.574Z"
   },
   {
    "duration": 0,
    "start_time": "2022-05-02T07:41:36.575Z"
   },
   {
    "duration": 0,
    "start_time": "2022-05-02T07:41:36.576Z"
   },
   {
    "duration": 0,
    "start_time": "2022-05-02T07:41:36.577Z"
   },
   {
    "duration": 0,
    "start_time": "2022-05-02T07:41:36.578Z"
   },
   {
    "duration": 0,
    "start_time": "2022-05-02T07:41:36.580Z"
   },
   {
    "duration": 13,
    "start_time": "2022-05-02T07:42:18.588Z"
   },
   {
    "duration": 6,
    "start_time": "2022-05-02T07:46:29.835Z"
   },
   {
    "duration": 9,
    "start_time": "2022-05-02T07:46:32.373Z"
   },
   {
    "duration": 6,
    "start_time": "2022-05-02T07:46:42.444Z"
   },
   {
    "duration": 511,
    "start_time": "2022-05-02T07:49:07.147Z"
   },
   {
    "duration": 20,
    "start_time": "2022-05-02T07:49:07.660Z"
   },
   {
    "duration": 15,
    "start_time": "2022-05-02T07:49:07.682Z"
   },
   {
    "duration": 14,
    "start_time": "2022-05-02T07:49:07.700Z"
   },
   {
    "duration": 32,
    "start_time": "2022-05-02T07:49:07.717Z"
   },
   {
    "duration": 14,
    "start_time": "2022-05-02T07:49:07.750Z"
   },
   {
    "duration": 6,
    "start_time": "2022-05-02T07:49:07.766Z"
   },
   {
    "duration": 15,
    "start_time": "2022-05-02T07:49:07.774Z"
   },
   {
    "duration": 7,
    "start_time": "2022-05-02T07:49:07.791Z"
   },
   {
    "duration": 10,
    "start_time": "2022-05-02T07:49:07.802Z"
   },
   {
    "duration": 35,
    "start_time": "2022-05-02T07:49:07.815Z"
   },
   {
    "duration": 8,
    "start_time": "2022-05-02T07:49:07.852Z"
   },
   {
    "duration": 6,
    "start_time": "2022-05-02T07:49:07.862Z"
   },
   {
    "duration": 24,
    "start_time": "2022-05-02T07:49:07.870Z"
   },
   {
    "duration": 14,
    "start_time": "2022-05-02T07:49:07.895Z"
   },
   {
    "duration": 10,
    "start_time": "2022-05-02T07:49:07.911Z"
   },
   {
    "duration": 33,
    "start_time": "2022-05-02T07:49:07.923Z"
   },
   {
    "duration": 30,
    "start_time": "2022-05-02T07:49:07.958Z"
   },
   {
    "duration": 9,
    "start_time": "2022-05-02T07:49:07.990Z"
   },
   {
    "duration": 10,
    "start_time": "2022-05-02T07:49:08.001Z"
   },
   {
    "duration": 12,
    "start_time": "2022-05-02T07:49:08.013Z"
   },
   {
    "duration": 7,
    "start_time": "2022-05-02T07:49:08.026Z"
   },
   {
    "duration": 18,
    "start_time": "2022-05-02T07:49:08.035Z"
   },
   {
    "duration": 11,
    "start_time": "2022-05-02T07:49:08.055Z"
   },
   {
    "duration": 8,
    "start_time": "2022-05-02T07:49:08.068Z"
   },
   {
    "duration": 7,
    "start_time": "2022-05-02T07:49:08.079Z"
   },
   {
    "duration": 8,
    "start_time": "2022-05-02T07:49:08.088Z"
   },
   {
    "duration": 23,
    "start_time": "2022-05-02T07:49:08.101Z"
   },
   {
    "duration": 26,
    "start_time": "2022-05-02T07:49:08.126Z"
   },
   {
    "duration": 7,
    "start_time": "2022-05-02T07:49:08.154Z"
   },
   {
    "duration": 14,
    "start_time": "2022-05-02T07:49:08.162Z"
   },
   {
    "duration": 17,
    "start_time": "2022-05-02T07:49:08.178Z"
   },
   {
    "duration": 29,
    "start_time": "2022-05-02T07:49:08.197Z"
   },
   {
    "duration": 7,
    "start_time": "2022-05-02T07:49:08.229Z"
   },
   {
    "duration": 26,
    "start_time": "2022-05-02T07:49:08.238Z"
   },
   {
    "duration": 16,
    "start_time": "2022-05-02T07:49:08.266Z"
   },
   {
    "duration": 8,
    "start_time": "2022-05-02T07:49:08.285Z"
   },
   {
    "duration": 11,
    "start_time": "2022-05-02T07:49:08.295Z"
   },
   {
    "duration": 4,
    "start_time": "2022-05-02T07:49:08.307Z"
   },
   {
    "duration": 20,
    "start_time": "2022-05-02T07:49:08.316Z"
   },
   {
    "duration": 29,
    "start_time": "2022-05-02T07:49:08.338Z"
   },
   {
    "duration": 20,
    "start_time": "2022-05-02T07:49:08.369Z"
   },
   {
    "duration": 18,
    "start_time": "2022-05-02T07:49:08.391Z"
   },
   {
    "duration": 10,
    "start_time": "2022-05-02T07:49:08.411Z"
   },
   {
    "duration": 26,
    "start_time": "2022-05-02T07:49:08.447Z"
   },
   {
    "duration": 29,
    "start_time": "2022-05-02T07:49:08.476Z"
   },
   {
    "duration": 64,
    "start_time": "2022-05-02T07:49:08.509Z"
   },
   {
    "duration": 9,
    "start_time": "2022-05-02T07:49:08.575Z"
   },
   {
    "duration": 15,
    "start_time": "2022-05-02T07:49:08.585Z"
   },
   {
    "duration": 16,
    "start_time": "2022-05-02T07:49:08.602Z"
   },
   {
    "duration": 10,
    "start_time": "2022-05-02T07:49:08.620Z"
   },
   {
    "duration": 44,
    "start_time": "2022-05-02T07:49:08.632Z"
   },
   {
    "duration": 23,
    "start_time": "2022-05-02T07:49:08.678Z"
   },
   {
    "duration": 4,
    "start_time": "2022-05-02T07:49:08.703Z"
   },
   {
    "duration": 7,
    "start_time": "2022-05-02T07:49:08.709Z"
   },
   {
    "duration": 31,
    "start_time": "2022-05-02T07:49:08.718Z"
   },
   {
    "duration": 15,
    "start_time": "2022-05-02T07:49:08.751Z"
   },
   {
    "duration": 13,
    "start_time": "2022-05-02T07:49:08.767Z"
   },
   {
    "duration": 6,
    "start_time": "2022-05-02T07:49:08.781Z"
   },
   {
    "duration": 13,
    "start_time": "2022-05-02T07:49:08.789Z"
   },
   {
    "duration": 17,
    "start_time": "2022-05-02T07:49:08.803Z"
   },
   {
    "duration": 10,
    "start_time": "2022-05-02T07:49:08.822Z"
   },
   {
    "duration": 13,
    "start_time": "2022-05-02T07:49:08.848Z"
   },
   {
    "duration": 27,
    "start_time": "2022-05-02T07:49:08.863Z"
   },
   {
    "duration": 20,
    "start_time": "2022-05-02T07:49:08.892Z"
   },
   {
    "duration": 45,
    "start_time": "2022-05-02T07:49:08.914Z"
   },
   {
    "duration": 20,
    "start_time": "2022-05-02T07:49:08.961Z"
   },
   {
    "duration": 21,
    "start_time": "2022-05-02T07:49:08.983Z"
   },
   {
    "duration": 5,
    "start_time": "2022-05-02T08:09:20.216Z"
   },
   {
    "duration": 78,
    "start_time": "2022-05-02T08:10:57.095Z"
   },
   {
    "duration": 21,
    "start_time": "2022-05-02T08:15:10.286Z"
   },
   {
    "duration": 18,
    "start_time": "2022-05-02T08:15:29.110Z"
   },
   {
    "duration": 51,
    "start_time": "2022-05-02T08:15:31.375Z"
   },
   {
    "duration": 14,
    "start_time": "2022-05-02T08:15:31.428Z"
   },
   {
    "duration": 18,
    "start_time": "2022-05-02T08:15:31.443Z"
   },
   {
    "duration": 13,
    "start_time": "2022-05-02T08:15:31.463Z"
   },
   {
    "duration": 6,
    "start_time": "2022-05-02T08:15:31.477Z"
   },
   {
    "duration": 14,
    "start_time": "2022-05-02T08:15:31.484Z"
   },
   {
    "duration": 7,
    "start_time": "2022-05-02T08:15:31.499Z"
   },
   {
    "duration": 41,
    "start_time": "2022-05-02T08:15:31.508Z"
   },
   {
    "duration": 5,
    "start_time": "2022-05-02T08:15:31.550Z"
   },
   {
    "duration": 5,
    "start_time": "2022-05-02T08:15:31.558Z"
   },
   {
    "duration": 7,
    "start_time": "2022-05-02T08:15:31.565Z"
   },
   {
    "duration": 7,
    "start_time": "2022-05-02T08:15:31.573Z"
   },
   {
    "duration": 4,
    "start_time": "2022-05-02T08:15:31.581Z"
   },
   {
    "duration": 14,
    "start_time": "2022-05-02T08:15:31.587Z"
   },
   {
    "duration": 46,
    "start_time": "2022-05-02T08:15:31.602Z"
   },
   {
    "duration": 4,
    "start_time": "2022-05-02T08:15:31.650Z"
   },
   {
    "duration": 6,
    "start_time": "2022-05-02T08:15:31.656Z"
   },
   {
    "duration": 13,
    "start_time": "2022-05-02T08:15:31.664Z"
   },
   {
    "duration": 6,
    "start_time": "2022-05-02T08:15:31.679Z"
   },
   {
    "duration": 7,
    "start_time": "2022-05-02T08:15:31.686Z"
   },
   {
    "duration": 54,
    "start_time": "2022-05-02T08:15:31.694Z"
   },
   {
    "duration": 4,
    "start_time": "2022-05-02T08:15:31.750Z"
   },
   {
    "duration": 5,
    "start_time": "2022-05-02T08:15:31.756Z"
   },
   {
    "duration": 10,
    "start_time": "2022-05-02T08:15:31.763Z"
   },
   {
    "duration": 6,
    "start_time": "2022-05-02T08:15:31.775Z"
   },
   {
    "duration": 6,
    "start_time": "2022-05-02T08:15:31.783Z"
   },
   {
    "duration": 6,
    "start_time": "2022-05-02T08:15:31.790Z"
   },
   {
    "duration": 8,
    "start_time": "2022-05-02T08:15:31.799Z"
   },
   {
    "duration": 7,
    "start_time": "2022-05-02T08:15:31.848Z"
   },
   {
    "duration": 3,
    "start_time": "2022-05-02T08:15:31.857Z"
   },
   {
    "duration": 12,
    "start_time": "2022-05-02T08:15:31.862Z"
   },
   {
    "duration": 11,
    "start_time": "2022-05-02T08:15:31.875Z"
   },
   {
    "duration": 5,
    "start_time": "2022-05-02T08:15:31.888Z"
   },
   {
    "duration": 9,
    "start_time": "2022-05-02T08:15:31.895Z"
   },
   {
    "duration": 44,
    "start_time": "2022-05-02T08:15:31.905Z"
   },
   {
    "duration": 6,
    "start_time": "2022-05-02T08:15:31.951Z"
   },
   {
    "duration": 7,
    "start_time": "2022-05-02T08:15:31.959Z"
   },
   {
    "duration": 7,
    "start_time": "2022-05-02T08:15:31.968Z"
   },
   {
    "duration": 5,
    "start_time": "2022-05-02T08:15:31.976Z"
   },
   {
    "duration": 8,
    "start_time": "2022-05-02T08:15:31.982Z"
   },
   {
    "duration": 18,
    "start_time": "2022-05-02T08:15:31.992Z"
   },
   {
    "duration": 48,
    "start_time": "2022-05-02T08:15:32.011Z"
   },
   {
    "duration": 16,
    "start_time": "2022-05-02T08:15:32.061Z"
   },
   {
    "duration": 7,
    "start_time": "2022-05-02T08:15:32.078Z"
   },
   {
    "duration": 18,
    "start_time": "2022-05-02T08:15:32.086Z"
   },
   {
    "duration": 43,
    "start_time": "2022-05-02T08:15:32.105Z"
   },
   {
    "duration": 22,
    "start_time": "2022-05-02T08:15:32.150Z"
   },
   {
    "duration": 8,
    "start_time": "2022-05-02T08:15:32.174Z"
   },
   {
    "duration": 9,
    "start_time": "2022-05-02T08:15:32.183Z"
   },
   {
    "duration": 12,
    "start_time": "2022-05-02T08:15:32.194Z"
   },
   {
    "duration": 40,
    "start_time": "2022-05-02T08:15:32.208Z"
   },
   {
    "duration": 8,
    "start_time": "2022-05-02T08:15:32.250Z"
   },
   {
    "duration": 24,
    "start_time": "2022-05-02T08:15:32.260Z"
   },
   {
    "duration": 15,
    "start_time": "2022-05-02T08:15:32.285Z"
   },
   {
    "duration": 4,
    "start_time": "2022-05-02T08:15:32.301Z"
   },
   {
    "duration": 8,
    "start_time": "2022-05-02T08:15:32.306Z"
   },
   {
    "duration": 36,
    "start_time": "2022-05-02T08:15:32.316Z"
   },
   {
    "duration": 13,
    "start_time": "2022-05-02T08:15:32.354Z"
   },
   {
    "duration": 8,
    "start_time": "2022-05-02T08:15:32.368Z"
   },
   {
    "duration": 5,
    "start_time": "2022-05-02T08:15:32.377Z"
   },
   {
    "duration": 8,
    "start_time": "2022-05-02T08:15:32.383Z"
   },
   {
    "duration": 17,
    "start_time": "2022-05-02T08:15:32.393Z"
   },
   {
    "duration": 10,
    "start_time": "2022-05-02T08:15:32.411Z"
   },
   {
    "duration": 38,
    "start_time": "2022-05-02T08:15:32.422Z"
   },
   {
    "duration": 22,
    "start_time": "2022-05-02T08:15:32.462Z"
   },
   {
    "duration": 22,
    "start_time": "2022-05-02T08:15:32.485Z"
   },
   {
    "duration": 49,
    "start_time": "2022-05-02T08:15:32.509Z"
   },
   {
    "duration": 26,
    "start_time": "2022-05-02T08:15:32.560Z"
   },
   {
    "duration": 26,
    "start_time": "2022-05-02T08:15:32.589Z"
   },
   {
    "duration": 74,
    "start_time": "2022-05-02T08:16:36.714Z"
   },
   {
    "duration": 18,
    "start_time": "2022-05-02T08:16:36.791Z"
   },
   {
    "duration": 45,
    "start_time": "2022-05-02T08:16:36.811Z"
   },
   {
    "duration": 14,
    "start_time": "2022-05-02T08:16:36.858Z"
   },
   {
    "duration": 7,
    "start_time": "2022-05-02T08:16:36.874Z"
   },
   {
    "duration": 16,
    "start_time": "2022-05-02T08:16:36.882Z"
   },
   {
    "duration": 49,
    "start_time": "2022-05-02T08:16:36.899Z"
   },
   {
    "duration": 7,
    "start_time": "2022-05-02T08:16:36.950Z"
   },
   {
    "duration": 4,
    "start_time": "2022-05-02T08:16:36.959Z"
   },
   {
    "duration": 4,
    "start_time": "2022-05-02T08:16:36.966Z"
   },
   {
    "duration": 7,
    "start_time": "2022-05-02T08:16:36.971Z"
   },
   {
    "duration": 6,
    "start_time": "2022-05-02T08:16:36.980Z"
   },
   {
    "duration": 5,
    "start_time": "2022-05-02T08:16:36.987Z"
   },
   {
    "duration": 14,
    "start_time": "2022-05-02T08:16:36.993Z"
   },
   {
    "duration": 5,
    "start_time": "2022-05-02T08:16:37.048Z"
   },
   {
    "duration": 4,
    "start_time": "2022-05-02T08:16:37.055Z"
   },
   {
    "duration": 6,
    "start_time": "2022-05-02T08:16:37.061Z"
   },
   {
    "duration": 13,
    "start_time": "2022-05-02T08:16:37.069Z"
   },
   {
    "duration": 7,
    "start_time": "2022-05-02T08:16:37.084Z"
   },
   {
    "duration": 6,
    "start_time": "2022-05-02T08:16:37.093Z"
   },
   {
    "duration": 47,
    "start_time": "2022-05-02T08:16:37.101Z"
   },
   {
    "duration": 6,
    "start_time": "2022-05-02T08:16:37.150Z"
   },
   {
    "duration": 5,
    "start_time": "2022-05-02T08:16:37.158Z"
   },
   {
    "duration": 12,
    "start_time": "2022-05-02T08:16:37.165Z"
   },
   {
    "duration": 9,
    "start_time": "2022-05-02T08:16:37.179Z"
   },
   {
    "duration": 75,
    "start_time": "2022-05-02T08:16:37.190Z"
   },
   {
    "duration": 7,
    "start_time": "2022-05-02T08:16:37.267Z"
   },
   {
    "duration": 9,
    "start_time": "2022-05-02T08:16:37.278Z"
   },
   {
    "duration": 6,
    "start_time": "2022-05-02T08:16:37.288Z"
   },
   {
    "duration": 6,
    "start_time": "2022-05-02T08:16:37.296Z"
   },
   {
    "duration": 12,
    "start_time": "2022-05-02T08:16:37.303Z"
   },
   {
    "duration": 36,
    "start_time": "2022-05-02T08:16:37.316Z"
   },
   {
    "duration": 6,
    "start_time": "2022-05-02T08:16:37.354Z"
   },
   {
    "duration": 13,
    "start_time": "2022-05-02T08:16:37.361Z"
   },
   {
    "duration": 19,
    "start_time": "2022-05-02T08:16:37.376Z"
   },
   {
    "duration": 10,
    "start_time": "2022-05-02T08:16:37.397Z"
   },
   {
    "duration": 10,
    "start_time": "2022-05-02T08:16:37.408Z"
   },
   {
    "duration": 6,
    "start_time": "2022-05-02T08:16:37.420Z"
   },
   {
    "duration": 22,
    "start_time": "2022-05-02T08:16:37.428Z"
   },
   {
    "duration": 7,
    "start_time": "2022-05-02T08:16:37.452Z"
   },
   {
    "duration": 24,
    "start_time": "2022-05-02T08:16:37.460Z"
   },
   {
    "duration": 2,
    "start_time": "2022-05-02T08:16:37.486Z"
   },
   {
    "duration": 16,
    "start_time": "2022-05-02T08:16:37.490Z"
   },
   {
    "duration": 42,
    "start_time": "2022-05-02T08:16:37.508Z"
   },
   {
    "duration": 28,
    "start_time": "2022-05-02T08:16:37.552Z"
   },
   {
    "duration": 28,
    "start_time": "2022-05-02T08:16:37.582Z"
   },
   {
    "duration": 54,
    "start_time": "2022-05-02T08:16:37.613Z"
   },
   {
    "duration": 24,
    "start_time": "2022-05-02T08:16:37.670Z"
   },
   {
    "duration": 10,
    "start_time": "2022-05-02T08:16:37.696Z"
   },
   {
    "duration": 12,
    "start_time": "2022-05-02T08:16:37.708Z"
   },
   {
    "duration": 38,
    "start_time": "2022-05-02T08:16:37.722Z"
   },
   {
    "duration": 11,
    "start_time": "2022-05-02T08:16:37.762Z"
   },
   {
    "duration": 8,
    "start_time": "2022-05-02T08:16:37.774Z"
   },
   {
    "duration": 27,
    "start_time": "2022-05-02T08:16:37.784Z"
   },
   {
    "duration": 45,
    "start_time": "2022-05-02T08:16:37.812Z"
   },
   {
    "duration": 3,
    "start_time": "2022-05-02T08:16:37.859Z"
   },
   {
    "duration": 8,
    "start_time": "2022-05-02T08:16:37.864Z"
   },
   {
    "duration": 17,
    "start_time": "2022-05-02T08:16:37.874Z"
   },
   {
    "duration": 16,
    "start_time": "2022-05-02T08:16:37.893Z"
   },
   {
    "duration": 12,
    "start_time": "2022-05-02T08:16:37.911Z"
   },
   {
    "duration": 25,
    "start_time": "2022-05-02T08:16:37.925Z"
   },
   {
    "duration": 6,
    "start_time": "2022-05-02T08:16:37.952Z"
   },
   {
    "duration": 16,
    "start_time": "2022-05-02T08:16:37.960Z"
   },
   {
    "duration": 8,
    "start_time": "2022-05-02T08:16:37.977Z"
   },
   {
    "duration": 14,
    "start_time": "2022-05-02T08:16:37.987Z"
   },
   {
    "duration": 56,
    "start_time": "2022-05-02T08:16:38.003Z"
   },
   {
    "duration": 19,
    "start_time": "2022-05-02T08:16:38.061Z"
   },
   {
    "duration": 19,
    "start_time": "2022-05-02T08:16:38.082Z"
   },
   {
    "duration": 17,
    "start_time": "2022-05-02T08:16:38.103Z"
   },
   {
    "duration": 19,
    "start_time": "2022-05-02T08:16:38.148Z"
   },
   {
    "duration": 80,
    "start_time": "2022-05-02T08:31:22.068Z"
   },
   {
    "duration": 52,
    "start_time": "2022-05-02T08:33:55.318Z"
   },
   {
    "duration": 12,
    "start_time": "2022-05-02T08:33:55.372Z"
   },
   {
    "duration": 15,
    "start_time": "2022-05-02T08:33:55.385Z"
   },
   {
    "duration": 54,
    "start_time": "2022-05-02T08:33:55.402Z"
   },
   {
    "duration": 5,
    "start_time": "2022-05-02T08:33:55.458Z"
   },
   {
    "duration": 14,
    "start_time": "2022-05-02T08:33:55.464Z"
   },
   {
    "duration": 5,
    "start_time": "2022-05-02T08:33:55.479Z"
   },
   {
    "duration": 5,
    "start_time": "2022-05-02T08:33:55.486Z"
   },
   {
    "duration": 4,
    "start_time": "2022-05-02T08:33:55.493Z"
   },
   {
    "duration": 48,
    "start_time": "2022-05-02T08:33:55.499Z"
   },
   {
    "duration": 6,
    "start_time": "2022-05-02T08:33:55.549Z"
   },
   {
    "duration": 8,
    "start_time": "2022-05-02T08:33:55.556Z"
   },
   {
    "duration": 5,
    "start_time": "2022-05-02T08:33:55.566Z"
   },
   {
    "duration": 12,
    "start_time": "2022-05-02T08:33:55.573Z"
   },
   {
    "duration": 4,
    "start_time": "2022-05-02T08:33:55.587Z"
   },
   {
    "duration": 5,
    "start_time": "2022-05-02T08:33:55.593Z"
   },
   {
    "duration": 50,
    "start_time": "2022-05-02T08:33:55.599Z"
   },
   {
    "duration": 12,
    "start_time": "2022-05-02T08:33:55.651Z"
   },
   {
    "duration": 5,
    "start_time": "2022-05-02T08:33:55.665Z"
   },
   {
    "duration": 7,
    "start_time": "2022-05-02T08:33:55.672Z"
   },
   {
    "duration": 8,
    "start_time": "2022-05-02T08:33:55.680Z"
   },
   {
    "duration": 4,
    "start_time": "2022-05-02T08:33:55.690Z"
   },
   {
    "duration": 6,
    "start_time": "2022-05-02T08:33:55.695Z"
   },
   {
    "duration": 46,
    "start_time": "2022-05-02T08:33:55.703Z"
   },
   {
    "duration": 5,
    "start_time": "2022-05-02T08:33:55.751Z"
   },
   {
    "duration": 7,
    "start_time": "2022-05-02T08:33:55.758Z"
   },
   {
    "duration": 5,
    "start_time": "2022-05-02T08:33:55.767Z"
   },
   {
    "duration": 6,
    "start_time": "2022-05-02T08:33:55.776Z"
   },
   {
    "duration": 6,
    "start_time": "2022-05-02T08:33:55.784Z"
   },
   {
    "duration": 7,
    "start_time": "2022-05-02T08:33:55.791Z"
   },
   {
    "duration": 11,
    "start_time": "2022-05-02T08:33:55.799Z"
   },
   {
    "duration": 41,
    "start_time": "2022-05-02T08:33:55.811Z"
   },
   {
    "duration": 7,
    "start_time": "2022-05-02T08:33:55.854Z"
   },
   {
    "duration": 12,
    "start_time": "2022-05-02T08:33:55.863Z"
   },
   {
    "duration": 20,
    "start_time": "2022-05-02T08:33:55.877Z"
   },
   {
    "duration": 8,
    "start_time": "2022-05-02T08:33:55.899Z"
   },
   {
    "duration": 9,
    "start_time": "2022-05-02T08:33:55.909Z"
   },
   {
    "duration": 31,
    "start_time": "2022-05-02T08:33:55.920Z"
   },
   {
    "duration": 4,
    "start_time": "2022-05-02T08:33:55.954Z"
   },
   {
    "duration": 7,
    "start_time": "2022-05-02T08:33:55.959Z"
   },
   {
    "duration": 18,
    "start_time": "2022-05-02T08:33:55.967Z"
   },
   {
    "duration": 8,
    "start_time": "2022-05-02T08:33:55.986Z"
   },
   {
    "duration": 17,
    "start_time": "2022-05-02T08:33:55.996Z"
   },
   {
    "duration": 9,
    "start_time": "2022-05-02T08:33:56.047Z"
   },
   {
    "duration": 29,
    "start_time": "2022-05-02T08:33:56.057Z"
   },
   {
    "duration": 32,
    "start_time": "2022-05-02T08:33:56.088Z"
   },
   {
    "duration": 50,
    "start_time": "2022-05-02T08:33:56.122Z"
   },
   {
    "duration": 10,
    "start_time": "2022-05-02T08:33:56.174Z"
   },
   {
    "duration": 8,
    "start_time": "2022-05-02T08:33:56.186Z"
   },
   {
    "duration": 12,
    "start_time": "2022-05-02T08:33:56.197Z"
   },
   {
    "duration": 40,
    "start_time": "2022-05-02T08:33:56.211Z"
   },
   {
    "duration": 7,
    "start_time": "2022-05-02T08:33:56.253Z"
   },
   {
    "duration": 23,
    "start_time": "2022-05-02T08:33:56.262Z"
   },
   {
    "duration": 14,
    "start_time": "2022-05-02T08:33:56.287Z"
   },
   {
    "duration": 4,
    "start_time": "2022-05-02T08:33:56.302Z"
   },
   {
    "duration": 9,
    "start_time": "2022-05-02T08:33:56.307Z"
   },
   {
    "duration": 37,
    "start_time": "2022-05-02T08:33:56.317Z"
   },
   {
    "duration": 16,
    "start_time": "2022-05-02T08:33:56.356Z"
   },
   {
    "duration": 10,
    "start_time": "2022-05-02T08:33:56.373Z"
   },
   {
    "duration": 8,
    "start_time": "2022-05-02T08:33:56.385Z"
   },
   {
    "duration": 6,
    "start_time": "2022-05-02T08:33:56.394Z"
   },
   {
    "duration": 15,
    "start_time": "2022-05-02T08:33:56.402Z"
   },
   {
    "duration": 30,
    "start_time": "2022-05-02T08:33:56.419Z"
   },
   {
    "duration": 15,
    "start_time": "2022-05-02T08:33:56.450Z"
   },
   {
    "duration": 27,
    "start_time": "2022-05-02T08:33:56.467Z"
   },
   {
    "duration": 19,
    "start_time": "2022-05-02T08:33:56.495Z"
   },
   {
    "duration": 42,
    "start_time": "2022-05-02T08:33:56.515Z"
   },
   {
    "duration": 18,
    "start_time": "2022-05-02T08:33:56.559Z"
   },
   {
    "duration": 17,
    "start_time": "2022-05-02T08:33:56.578Z"
   },
   {
    "duration": 112,
    "start_time": "2022-05-02T08:57:04.438Z"
   },
   {
    "duration": 21,
    "start_time": "2022-05-02T08:58:02.496Z"
   },
   {
    "duration": 52,
    "start_time": "2022-05-02T08:58:05.273Z"
   },
   {
    "duration": 13,
    "start_time": "2022-05-02T08:58:05.327Z"
   },
   {
    "duration": 18,
    "start_time": "2022-05-02T08:58:05.342Z"
   },
   {
    "duration": 13,
    "start_time": "2022-05-02T08:58:05.362Z"
   },
   {
    "duration": 5,
    "start_time": "2022-05-02T08:58:05.377Z"
   },
   {
    "duration": 13,
    "start_time": "2022-05-02T08:58:05.383Z"
   },
   {
    "duration": 5,
    "start_time": "2022-05-02T08:58:05.398Z"
   },
   {
    "duration": 7,
    "start_time": "2022-05-02T08:58:05.448Z"
   },
   {
    "duration": 5,
    "start_time": "2022-05-02T08:58:05.456Z"
   },
   {
    "duration": 4,
    "start_time": "2022-05-02T08:58:05.464Z"
   },
   {
    "duration": 5,
    "start_time": "2022-05-02T08:58:05.470Z"
   },
   {
    "duration": 9,
    "start_time": "2022-05-02T08:58:05.477Z"
   },
   {
    "duration": 10,
    "start_time": "2022-05-02T08:58:05.488Z"
   },
   {
    "duration": 14,
    "start_time": "2022-05-02T08:58:05.548Z"
   },
   {
    "duration": 6,
    "start_time": "2022-05-02T08:58:05.563Z"
   },
   {
    "duration": 5,
    "start_time": "2022-05-02T08:58:05.570Z"
   },
   {
    "duration": 14,
    "start_time": "2022-05-02T08:58:05.576Z"
   },
   {
    "duration": 12,
    "start_time": "2022-05-02T08:58:05.592Z"
   },
   {
    "duration": 7,
    "start_time": "2022-05-02T08:58:05.605Z"
   },
   {
    "duration": 5,
    "start_time": "2022-05-02T08:58:05.648Z"
   },
   {
    "duration": 8,
    "start_time": "2022-05-02T08:58:05.655Z"
   },
   {
    "duration": 7,
    "start_time": "2022-05-02T08:58:05.665Z"
   },
   {
    "duration": 6,
    "start_time": "2022-05-02T08:58:05.674Z"
   },
   {
    "duration": 12,
    "start_time": "2022-05-02T08:58:05.681Z"
   },
   {
    "duration": 6,
    "start_time": "2022-05-02T08:58:05.695Z"
   },
   {
    "duration": 8,
    "start_time": "2022-05-02T08:58:05.703Z"
   },
   {
    "duration": 36,
    "start_time": "2022-05-02T08:58:05.712Z"
   },
   {
    "duration": 9,
    "start_time": "2022-05-02T08:58:05.752Z"
   },
   {
    "duration": 6,
    "start_time": "2022-05-02T08:58:05.762Z"
   },
   {
    "duration": 6,
    "start_time": "2022-05-02T08:58:05.770Z"
   },
   {
    "duration": 10,
    "start_time": "2022-05-02T08:58:05.778Z"
   },
   {
    "duration": 9,
    "start_time": "2022-05-02T08:58:05.790Z"
   },
   {
    "duration": 9,
    "start_time": "2022-05-02T08:58:05.801Z"
   },
   {
    "duration": 40,
    "start_time": "2022-05-02T08:58:05.812Z"
   },
   {
    "duration": 13,
    "start_time": "2022-05-02T08:58:05.855Z"
   },
   {
    "duration": 6,
    "start_time": "2022-05-02T08:58:05.870Z"
   },
   {
    "duration": 7,
    "start_time": "2022-05-02T08:58:05.878Z"
   },
   {
    "duration": 9,
    "start_time": "2022-05-02T08:58:05.886Z"
   },
   {
    "duration": 7,
    "start_time": "2022-05-02T08:58:05.896Z"
   },
   {
    "duration": 6,
    "start_time": "2022-05-02T08:58:05.905Z"
   },
   {
    "duration": 47,
    "start_time": "2022-05-02T08:58:05.913Z"
   },
   {
    "duration": 6,
    "start_time": "2022-05-02T08:58:05.962Z"
   },
   {
    "duration": 19,
    "start_time": "2022-05-02T08:58:05.970Z"
   },
   {
    "duration": 23,
    "start_time": "2022-05-02T08:58:05.990Z"
   },
   {
    "duration": 7,
    "start_time": "2022-05-02T08:58:06.015Z"
   },
   {
    "duration": 19,
    "start_time": "2022-05-02T08:58:06.048Z"
   },
   {
    "duration": 27,
    "start_time": "2022-05-02T08:58:06.068Z"
   },
   {
    "duration": 17,
    "start_time": "2022-05-02T08:58:06.096Z"
   },
   {
    "duration": 8,
    "start_time": "2022-05-02T08:58:06.115Z"
   },
   {
    "duration": 9,
    "start_time": "2022-05-02T08:58:06.148Z"
   },
   {
    "duration": 11,
    "start_time": "2022-05-02T08:58:06.158Z"
   },
   {
    "duration": 10,
    "start_time": "2022-05-02T08:58:06.171Z"
   },
   {
    "duration": 6,
    "start_time": "2022-05-02T08:58:06.183Z"
   },
   {
    "duration": 60,
    "start_time": "2022-05-02T08:58:06.191Z"
   },
   {
    "duration": 23,
    "start_time": "2022-05-02T08:58:06.253Z"
   },
   {
    "duration": 5,
    "start_time": "2022-05-02T08:58:06.278Z"
   },
   {
    "duration": 11,
    "start_time": "2022-05-02T08:58:06.285Z"
   },
   {
    "duration": 11,
    "start_time": "2022-05-02T08:58:06.298Z"
   },
   {
    "duration": 12,
    "start_time": "2022-05-02T08:58:06.310Z"
   },
   {
    "duration": 8,
    "start_time": "2022-05-02T08:58:06.347Z"
   },
   {
    "duration": 5,
    "start_time": "2022-05-02T08:58:06.356Z"
   },
   {
    "duration": 7,
    "start_time": "2022-05-02T08:58:06.362Z"
   },
   {
    "duration": 17,
    "start_time": "2022-05-02T08:58:06.371Z"
   },
   {
    "duration": 6,
    "start_time": "2022-05-02T08:58:06.390Z"
   },
   {
    "duration": 13,
    "start_time": "2022-05-02T08:58:06.398Z"
   },
   {
    "duration": 53,
    "start_time": "2022-05-02T08:58:06.412Z"
   },
   {
    "duration": 18,
    "start_time": "2022-05-02T08:58:06.467Z"
   },
   {
    "duration": 19,
    "start_time": "2022-05-02T08:58:06.486Z"
   },
   {
    "duration": 42,
    "start_time": "2022-05-02T08:58:06.507Z"
   },
   {
    "duration": 18,
    "start_time": "2022-05-02T08:58:06.551Z"
   },
   {
    "duration": 20,
    "start_time": "2022-05-02T09:00:53.687Z"
   },
   {
    "duration": 7,
    "start_time": "2022-05-02T09:04:55.576Z"
   },
   {
    "duration": 49,
    "start_time": "2022-05-02T09:04:59.131Z"
   },
   {
    "duration": 13,
    "start_time": "2022-05-02T09:04:59.182Z"
   },
   {
    "duration": 16,
    "start_time": "2022-05-02T09:04:59.197Z"
   },
   {
    "duration": 37,
    "start_time": "2022-05-02T09:04:59.216Z"
   },
   {
    "duration": 5,
    "start_time": "2022-05-02T09:04:59.254Z"
   },
   {
    "duration": 13,
    "start_time": "2022-05-02T09:04:59.260Z"
   },
   {
    "duration": 5,
    "start_time": "2022-05-02T09:04:59.274Z"
   },
   {
    "duration": 6,
    "start_time": "2022-05-02T09:04:59.281Z"
   },
   {
    "duration": 4,
    "start_time": "2022-05-02T09:04:59.288Z"
   },
   {
    "duration": 4,
    "start_time": "2022-05-02T09:04:59.295Z"
   },
   {
    "duration": 7,
    "start_time": "2022-05-02T09:04:59.300Z"
   },
   {
    "duration": 5,
    "start_time": "2022-05-02T09:04:59.348Z"
   },
   {
    "duration": 7,
    "start_time": "2022-05-02T09:04:59.354Z"
   },
   {
    "duration": 12,
    "start_time": "2022-05-02T09:04:59.363Z"
   },
   {
    "duration": 5,
    "start_time": "2022-05-02T09:04:59.376Z"
   },
   {
    "duration": 5,
    "start_time": "2022-05-02T09:04:59.382Z"
   },
   {
    "duration": 4,
    "start_time": "2022-05-02T09:04:59.388Z"
   },
   {
    "duration": 55,
    "start_time": "2022-05-02T09:04:59.394Z"
   },
   {
    "duration": 6,
    "start_time": "2022-05-02T09:04:59.450Z"
   },
   {
    "duration": 7,
    "start_time": "2022-05-02T09:04:59.458Z"
   },
   {
    "duration": 4,
    "start_time": "2022-05-02T09:04:59.467Z"
   },
   {
    "duration": 4,
    "start_time": "2022-05-02T09:04:59.472Z"
   },
   {
    "duration": 4,
    "start_time": "2022-05-02T09:04:59.478Z"
   },
   {
    "duration": 11,
    "start_time": "2022-05-02T09:04:59.484Z"
   },
   {
    "duration": 6,
    "start_time": "2022-05-02T09:04:59.497Z"
   },
   {
    "duration": 5,
    "start_time": "2022-05-02T09:04:59.505Z"
   },
   {
    "duration": 5,
    "start_time": "2022-05-02T09:04:59.548Z"
   },
   {
    "duration": 7,
    "start_time": "2022-05-02T09:04:59.557Z"
   },
   {
    "duration": 5,
    "start_time": "2022-05-02T09:04:59.565Z"
   },
   {
    "duration": 3,
    "start_time": "2022-05-02T09:04:59.571Z"
   },
   {
    "duration": 9,
    "start_time": "2022-05-02T09:04:59.576Z"
   },
   {
    "duration": 9,
    "start_time": "2022-05-02T09:04:59.587Z"
   },
   {
    "duration": 6,
    "start_time": "2022-05-02T09:04:59.598Z"
   },
   {
    "duration": 44,
    "start_time": "2022-05-02T09:04:59.605Z"
   },
   {
    "duration": 12,
    "start_time": "2022-05-02T09:04:59.651Z"
   },
   {
    "duration": 5,
    "start_time": "2022-05-02T09:04:59.665Z"
   },
   {
    "duration": 7,
    "start_time": "2022-05-02T09:04:59.672Z"
   },
   {
    "duration": 6,
    "start_time": "2022-05-02T09:04:59.680Z"
   },
   {
    "duration": 3,
    "start_time": "2022-05-02T09:04:59.688Z"
   },
   {
    "duration": 7,
    "start_time": "2022-05-02T09:04:59.693Z"
   },
   {
    "duration": 8,
    "start_time": "2022-05-02T09:04:59.701Z"
   },
   {
    "duration": 49,
    "start_time": "2022-05-02T09:04:59.711Z"
   },
   {
    "duration": 6,
    "start_time": "2022-05-02T09:04:59.761Z"
   },
   {
    "duration": 19,
    "start_time": "2022-05-02T09:04:59.769Z"
   },
   {
    "duration": 19,
    "start_time": "2022-05-02T09:04:59.789Z"
   },
   {
    "duration": 39,
    "start_time": "2022-05-02T09:04:59.809Z"
   },
   {
    "duration": 7,
    "start_time": "2022-05-02T09:04:59.850Z"
   },
   {
    "duration": 9,
    "start_time": "2022-05-02T09:04:59.858Z"
   },
   {
    "duration": 10,
    "start_time": "2022-05-02T09:04:59.868Z"
   },
   {
    "duration": 8,
    "start_time": "2022-05-02T09:04:59.880Z"
   },
   {
    "duration": 11,
    "start_time": "2022-05-02T09:04:59.889Z"
   },
   {
    "duration": 50,
    "start_time": "2022-05-02T09:04:59.901Z"
   },
   {
    "duration": 15,
    "start_time": "2022-05-02T09:04:59.952Z"
   },
   {
    "duration": 3,
    "start_time": "2022-05-02T09:04:59.968Z"
   },
   {
    "duration": 8,
    "start_time": "2022-05-02T09:04:59.973Z"
   },
   {
    "duration": 9,
    "start_time": "2022-05-02T09:04:59.982Z"
   },
   {
    "duration": 11,
    "start_time": "2022-05-02T09:04:59.993Z"
   },
   {
    "duration": 11,
    "start_time": "2022-05-02T09:05:00.005Z"
   },
   {
    "duration": 10,
    "start_time": "2022-05-02T09:05:00.018Z"
   },
   {
    "duration": 24,
    "start_time": "2022-05-02T09:05:00.029Z"
   },
   {
    "duration": 16,
    "start_time": "2022-05-02T09:05:00.054Z"
   },
   {
    "duration": 7,
    "start_time": "2022-05-02T09:05:00.072Z"
   },
   {
    "duration": 17,
    "start_time": "2022-05-02T09:05:00.081Z"
   },
   {
    "duration": 23,
    "start_time": "2022-05-02T09:05:00.099Z"
   },
   {
    "duration": 39,
    "start_time": "2022-05-02T09:05:00.124Z"
   },
   {
    "duration": 20,
    "start_time": "2022-05-02T09:05:00.164Z"
   },
   {
    "duration": 17,
    "start_time": "2022-05-02T09:05:00.185Z"
   },
   {
    "duration": 45,
    "start_time": "2022-05-02T09:05:00.204Z"
   },
   {
    "duration": 96,
    "start_time": "2022-05-02T09:10:17.024Z"
   },
   {
    "duration": 18,
    "start_time": "2022-05-02T09:10:23.687Z"
   },
   {
    "duration": 454,
    "start_time": "2022-05-02T09:13:40.213Z"
   },
   {
    "duration": 28,
    "start_time": "2022-05-02T09:13:40.670Z"
   },
   {
    "duration": 22,
    "start_time": "2022-05-02T09:13:40.700Z"
   },
   {
    "duration": 35,
    "start_time": "2022-05-02T09:13:40.724Z"
   },
   {
    "duration": 6,
    "start_time": "2022-05-02T09:13:40.761Z"
   },
   {
    "duration": 17,
    "start_time": "2022-05-02T09:13:40.769Z"
   },
   {
    "duration": 5,
    "start_time": "2022-05-02T09:13:40.788Z"
   },
   {
    "duration": 6,
    "start_time": "2022-05-02T09:13:40.794Z"
   },
   {
    "duration": 6,
    "start_time": "2022-05-02T09:13:40.802Z"
   },
   {
    "duration": 43,
    "start_time": "2022-05-02T09:13:40.809Z"
   },
   {
    "duration": 11,
    "start_time": "2022-05-02T09:13:40.854Z"
   },
   {
    "duration": 9,
    "start_time": "2022-05-02T09:13:40.867Z"
   },
   {
    "duration": 6,
    "start_time": "2022-05-02T09:13:40.878Z"
   },
   {
    "duration": 13,
    "start_time": "2022-05-02T09:13:40.888Z"
   },
   {
    "duration": 5,
    "start_time": "2022-05-02T09:13:40.904Z"
   },
   {
    "duration": 37,
    "start_time": "2022-05-02T09:13:40.911Z"
   },
   {
    "duration": 9,
    "start_time": "2022-05-02T09:13:40.951Z"
   },
   {
    "duration": 13,
    "start_time": "2022-05-02T09:13:40.962Z"
   },
   {
    "duration": 9,
    "start_time": "2022-05-02T09:13:40.978Z"
   },
   {
    "duration": 7,
    "start_time": "2022-05-02T09:13:40.988Z"
   },
   {
    "duration": 7,
    "start_time": "2022-05-02T09:13:40.997Z"
   },
   {
    "duration": 7,
    "start_time": "2022-05-02T09:13:41.006Z"
   },
   {
    "duration": 33,
    "start_time": "2022-05-02T09:13:41.015Z"
   },
   {
    "duration": 19,
    "start_time": "2022-05-02T09:13:41.050Z"
   },
   {
    "duration": 7,
    "start_time": "2022-05-02T09:13:41.070Z"
   },
   {
    "duration": 6,
    "start_time": "2022-05-02T09:13:41.079Z"
   },
   {
    "duration": 5,
    "start_time": "2022-05-02T09:13:41.087Z"
   },
   {
    "duration": 8,
    "start_time": "2022-05-02T09:13:41.094Z"
   },
   {
    "duration": 48,
    "start_time": "2022-05-02T09:13:41.103Z"
   },
   {
    "duration": 3,
    "start_time": "2022-05-02T09:13:41.153Z"
   },
   {
    "duration": 11,
    "start_time": "2022-05-02T09:13:41.157Z"
   },
   {
    "duration": 10,
    "start_time": "2022-05-02T09:13:41.170Z"
   },
   {
    "duration": 9,
    "start_time": "2022-05-02T09:13:41.182Z"
   },
   {
    "duration": 9,
    "start_time": "2022-05-02T09:13:41.193Z"
   },
   {
    "duration": 49,
    "start_time": "2022-05-02T09:13:41.204Z"
   },
   {
    "duration": 9,
    "start_time": "2022-05-02T09:13:41.255Z"
   },
   {
    "duration": 7,
    "start_time": "2022-05-02T09:13:41.266Z"
   },
   {
    "duration": 8,
    "start_time": "2022-05-02T09:13:41.274Z"
   },
   {
    "duration": 5,
    "start_time": "2022-05-02T09:13:41.284Z"
   },
   {
    "duration": 7,
    "start_time": "2022-05-02T09:13:41.291Z"
   },
   {
    "duration": 7,
    "start_time": "2022-05-02T09:13:41.303Z"
   },
   {
    "duration": 49,
    "start_time": "2022-05-02T09:13:41.312Z"
   },
   {
    "duration": 9,
    "start_time": "2022-05-02T09:13:41.363Z"
   },
   {
    "duration": 17,
    "start_time": "2022-05-02T09:13:41.375Z"
   },
   {
    "duration": 21,
    "start_time": "2022-05-02T09:13:41.394Z"
   },
   {
    "duration": 44,
    "start_time": "2022-05-02T09:13:41.417Z"
   },
   {
    "duration": 17,
    "start_time": "2022-05-02T09:13:41.463Z"
   },
   {
    "duration": 8,
    "start_time": "2022-05-02T09:13:41.498Z"
   },
   {
    "duration": 13,
    "start_time": "2022-05-02T09:13:41.508Z"
   },
   {
    "duration": 26,
    "start_time": "2022-05-02T09:13:41.523Z"
   },
   {
    "duration": 10,
    "start_time": "2022-05-02T09:13:41.551Z"
   },
   {
    "duration": 7,
    "start_time": "2022-05-02T09:13:41.563Z"
   },
   {
    "duration": 24,
    "start_time": "2022-05-02T09:13:41.572Z"
   },
   {
    "duration": 17,
    "start_time": "2022-05-02T09:13:41.598Z"
   },
   {
    "duration": 3,
    "start_time": "2022-05-02T09:13:41.648Z"
   },
   {
    "duration": 9,
    "start_time": "2022-05-02T09:13:41.653Z"
   },
   {
    "duration": 11,
    "start_time": "2022-05-02T09:13:41.663Z"
   },
   {
    "duration": 13,
    "start_time": "2022-05-02T09:13:41.675Z"
   },
   {
    "duration": 9,
    "start_time": "2022-05-02T09:13:41.690Z"
   },
   {
    "duration": 5,
    "start_time": "2022-05-02T09:13:41.701Z"
   },
   {
    "duration": 8,
    "start_time": "2022-05-02T09:13:41.707Z"
   },
   {
    "duration": 43,
    "start_time": "2022-05-02T09:13:41.716Z"
   },
   {
    "duration": 17,
    "start_time": "2022-05-02T09:13:41.761Z"
   },
   {
    "duration": 24,
    "start_time": "2022-05-02T09:13:41.780Z"
   },
   {
    "duration": 31,
    "start_time": "2022-05-02T09:13:41.806Z"
   },
   {
    "duration": 23,
    "start_time": "2022-05-02T09:13:41.848Z"
   },
   {
    "duration": 18,
    "start_time": "2022-05-02T09:13:41.872Z"
   },
   {
    "duration": 18,
    "start_time": "2022-05-02T09:13:41.891Z"
   },
   {
    "duration": 46,
    "start_time": "2022-05-02T09:13:41.911Z"
   },
   {
    "duration": 85,
    "start_time": "2022-05-02T09:22:21.415Z"
   },
   {
    "duration": 4,
    "start_time": "2022-05-02T09:22:54.112Z"
   },
   {
    "duration": 64,
    "start_time": "2022-05-02T09:23:05.319Z"
   },
   {
    "duration": 15,
    "start_time": "2022-05-02T09:23:09.398Z"
   },
   {
    "duration": 51,
    "start_time": "2022-05-02T09:23:25.959Z"
   },
   {
    "duration": 35,
    "start_time": "2022-05-02T09:23:26.013Z"
   },
   {
    "duration": 24,
    "start_time": "2022-05-02T09:23:26.049Z"
   },
   {
    "duration": 21,
    "start_time": "2022-05-02T09:23:26.075Z"
   },
   {
    "duration": 6,
    "start_time": "2022-05-02T09:23:26.098Z"
   },
   {
    "duration": 16,
    "start_time": "2022-05-02T09:23:26.148Z"
   },
   {
    "duration": 6,
    "start_time": "2022-05-02T09:23:26.166Z"
   },
   {
    "duration": 8,
    "start_time": "2022-05-02T09:23:26.174Z"
   },
   {
    "duration": 13,
    "start_time": "2022-05-02T09:23:26.184Z"
   },
   {
    "duration": 5,
    "start_time": "2022-05-02T09:23:26.201Z"
   },
   {
    "duration": 6,
    "start_time": "2022-05-02T09:23:26.251Z"
   },
   {
    "duration": 11,
    "start_time": "2022-05-02T09:23:26.259Z"
   },
   {
    "duration": 10,
    "start_time": "2022-05-02T09:23:26.271Z"
   },
   {
    "duration": 16,
    "start_time": "2022-05-02T09:23:26.283Z"
   },
   {
    "duration": 6,
    "start_time": "2022-05-02T09:23:26.301Z"
   },
   {
    "duration": 7,
    "start_time": "2022-05-02T09:23:26.309Z"
   },
   {
    "duration": 33,
    "start_time": "2022-05-02T09:23:26.318Z"
   },
   {
    "duration": 14,
    "start_time": "2022-05-02T09:23:26.352Z"
   },
   {
    "duration": 9,
    "start_time": "2022-05-02T09:23:26.368Z"
   },
   {
    "duration": 6,
    "start_time": "2022-05-02T09:23:26.378Z"
   },
   {
    "duration": 5,
    "start_time": "2022-05-02T09:23:26.386Z"
   },
   {
    "duration": 5,
    "start_time": "2022-05-02T09:23:26.393Z"
   },
   {
    "duration": 5,
    "start_time": "2022-05-02T09:23:26.399Z"
   },
   {
    "duration": 51,
    "start_time": "2022-05-02T09:23:26.406Z"
   },
   {
    "duration": 6,
    "start_time": "2022-05-02T09:23:26.459Z"
   },
   {
    "duration": 6,
    "start_time": "2022-05-02T09:23:26.466Z"
   },
   {
    "duration": 5,
    "start_time": "2022-05-02T09:23:26.474Z"
   },
   {
    "duration": 10,
    "start_time": "2022-05-02T09:23:26.485Z"
   },
   {
    "duration": 7,
    "start_time": "2022-05-02T09:23:26.497Z"
   },
   {
    "duration": 44,
    "start_time": "2022-05-02T09:23:26.505Z"
   },
   {
    "duration": 14,
    "start_time": "2022-05-02T09:23:26.551Z"
   },
   {
    "duration": 12,
    "start_time": "2022-05-02T09:23:26.567Z"
   },
   {
    "duration": 6,
    "start_time": "2022-05-02T09:23:26.580Z"
   },
   {
    "duration": 7,
    "start_time": "2022-05-02T09:23:26.588Z"
   },
   {
    "duration": 14,
    "start_time": "2022-05-02T09:23:26.597Z"
   },
   {
    "duration": 35,
    "start_time": "2022-05-02T09:23:26.613Z"
   },
   {
    "duration": 9,
    "start_time": "2022-05-02T09:23:26.650Z"
   },
   {
    "duration": 6,
    "start_time": "2022-05-02T09:23:26.660Z"
   },
   {
    "duration": 4,
    "start_time": "2022-05-02T09:23:26.668Z"
   },
   {
    "duration": 6,
    "start_time": "2022-05-02T09:23:26.674Z"
   },
   {
    "duration": 8,
    "start_time": "2022-05-02T09:23:26.681Z"
   },
   {
    "duration": 21,
    "start_time": "2022-05-02T09:23:26.691Z"
   },
   {
    "duration": 7,
    "start_time": "2022-05-02T09:23:26.747Z"
   },
   {
    "duration": 27,
    "start_time": "2022-05-02T09:23:26.756Z"
   },
   {
    "duration": 33,
    "start_time": "2022-05-02T09:23:26.785Z"
   },
   {
    "duration": 22,
    "start_time": "2022-05-02T09:23:26.846Z"
   },
   {
    "duration": 17,
    "start_time": "2022-05-02T09:23:26.870Z"
   },
   {
    "duration": 8,
    "start_time": "2022-05-02T09:23:26.888Z"
   },
   {
    "duration": 9,
    "start_time": "2022-05-02T09:23:26.897Z"
   },
   {
    "duration": 41,
    "start_time": "2022-05-02T09:23:26.908Z"
   },
   {
    "duration": 11,
    "start_time": "2022-05-02T09:23:26.950Z"
   },
   {
    "duration": 7,
    "start_time": "2022-05-02T09:23:26.963Z"
   },
   {
    "duration": 15,
    "start_time": "2022-05-02T09:23:26.972Z"
   },
   {
    "duration": 4,
    "start_time": "2022-05-02T09:23:26.989Z"
   },
   {
    "duration": 6,
    "start_time": "2022-05-02T09:23:26.995Z"
   },
   {
    "duration": 50,
    "start_time": "2022-05-02T09:23:27.004Z"
   },
   {
    "duration": 16,
    "start_time": "2022-05-02T09:23:27.056Z"
   },
   {
    "duration": 13,
    "start_time": "2022-05-02T09:23:27.075Z"
   },
   {
    "duration": 5,
    "start_time": "2022-05-02T09:23:27.091Z"
   },
   {
    "duration": 5,
    "start_time": "2022-05-02T09:23:27.099Z"
   },
   {
    "duration": 48,
    "start_time": "2022-05-02T09:23:27.106Z"
   },
   {
    "duration": 9,
    "start_time": "2022-05-02T09:23:27.156Z"
   },
   {
    "duration": 19,
    "start_time": "2022-05-02T09:23:27.167Z"
   },
   {
    "duration": 29,
    "start_time": "2022-05-02T09:23:27.188Z"
   },
   {
    "duration": 50,
    "start_time": "2022-05-02T09:23:27.219Z"
   },
   {
    "duration": 20,
    "start_time": "2022-05-02T09:23:27.271Z"
   },
   {
    "duration": 0,
    "start_time": "2022-05-02T09:23:27.292Z"
   },
   {
    "duration": 0,
    "start_time": "2022-05-02T09:23:27.294Z"
   },
   {
    "duration": 18,
    "start_time": "2022-05-02T09:37:07.541Z"
   },
   {
    "duration": 8,
    "start_time": "2022-05-02T09:37:19.006Z"
   },
   {
    "duration": 10,
    "start_time": "2022-05-02T09:37:23.711Z"
   },
   {
    "duration": 12,
    "start_time": "2022-05-02T09:38:03.562Z"
   },
   {
    "duration": 483,
    "start_time": "2022-05-02T09:38:32.547Z"
   },
   {
    "duration": 25,
    "start_time": "2022-05-02T09:38:33.032Z"
   },
   {
    "duration": 15,
    "start_time": "2022-05-02T09:38:33.059Z"
   },
   {
    "duration": 14,
    "start_time": "2022-05-02T09:38:33.076Z"
   },
   {
    "duration": 5,
    "start_time": "2022-05-02T09:38:33.091Z"
   },
   {
    "duration": 14,
    "start_time": "2022-05-02T09:38:33.098Z"
   },
   {
    "duration": 36,
    "start_time": "2022-05-02T09:38:33.114Z"
   },
   {
    "duration": 14,
    "start_time": "2022-05-02T09:38:33.152Z"
   },
   {
    "duration": 9,
    "start_time": "2022-05-02T09:38:33.169Z"
   },
   {
    "duration": 7,
    "start_time": "2022-05-02T09:38:33.181Z"
   },
   {
    "duration": 5,
    "start_time": "2022-05-02T09:38:33.189Z"
   },
   {
    "duration": 14,
    "start_time": "2022-05-02T09:38:33.196Z"
   },
   {
    "duration": 14,
    "start_time": "2022-05-02T09:38:33.212Z"
   },
   {
    "duration": 30,
    "start_time": "2022-05-02T09:38:33.228Z"
   },
   {
    "duration": 5,
    "start_time": "2022-05-02T09:38:33.260Z"
   },
   {
    "duration": 7,
    "start_time": "2022-05-02T09:38:33.267Z"
   },
   {
    "duration": 6,
    "start_time": "2022-05-02T09:38:33.277Z"
   },
   {
    "duration": 13,
    "start_time": "2022-05-02T09:38:33.284Z"
   },
   {
    "duration": 5,
    "start_time": "2022-05-02T09:38:33.299Z"
   },
   {
    "duration": 9,
    "start_time": "2022-05-02T09:38:33.306Z"
   },
   {
    "duration": 8,
    "start_time": "2022-05-02T09:38:33.356Z"
   },
   {
    "duration": 7,
    "start_time": "2022-05-02T09:38:33.366Z"
   },
   {
    "duration": 4,
    "start_time": "2022-05-02T09:38:33.375Z"
   },
   {
    "duration": 11,
    "start_time": "2022-05-02T09:38:33.381Z"
   },
   {
    "duration": 6,
    "start_time": "2022-05-02T09:38:33.394Z"
   },
   {
    "duration": 6,
    "start_time": "2022-05-02T09:38:33.401Z"
   },
   {
    "duration": 5,
    "start_time": "2022-05-02T09:38:33.409Z"
   },
   {
    "duration": 37,
    "start_time": "2022-05-02T09:38:33.417Z"
   },
   {
    "duration": 8,
    "start_time": "2022-05-02T09:38:33.456Z"
   },
   {
    "duration": 3,
    "start_time": "2022-05-02T09:38:33.466Z"
   },
   {
    "duration": 12,
    "start_time": "2022-05-02T09:38:33.471Z"
   },
   {
    "duration": 9,
    "start_time": "2022-05-02T09:38:33.485Z"
   },
   {
    "duration": 6,
    "start_time": "2022-05-02T09:38:33.495Z"
   },
   {
    "duration": 7,
    "start_time": "2022-05-02T09:38:33.503Z"
   },
   {
    "duration": 57,
    "start_time": "2022-05-02T09:38:33.511Z"
   },
   {
    "duration": 5,
    "start_time": "2022-05-02T09:38:33.569Z"
   },
   {
    "duration": 9,
    "start_time": "2022-05-02T09:38:33.575Z"
   },
   {
    "duration": 8,
    "start_time": "2022-05-02T09:38:33.586Z"
   },
   {
    "duration": 5,
    "start_time": "2022-05-02T09:38:33.595Z"
   },
   {
    "duration": 7,
    "start_time": "2022-05-02T09:38:33.602Z"
   },
   {
    "duration": 10,
    "start_time": "2022-05-02T09:38:33.611Z"
   },
   {
    "duration": 45,
    "start_time": "2022-05-02T09:38:33.622Z"
   },
   {
    "duration": 11,
    "start_time": "2022-05-02T09:38:33.669Z"
   },
   {
    "duration": 19,
    "start_time": "2022-05-02T09:38:33.681Z"
   },
   {
    "duration": 19,
    "start_time": "2022-05-02T09:38:33.702Z"
   },
   {
    "duration": 43,
    "start_time": "2022-05-02T09:38:33.722Z"
   },
   {
    "duration": 18,
    "start_time": "2022-05-02T09:38:33.767Z"
   },
   {
    "duration": 9,
    "start_time": "2022-05-02T09:38:33.786Z"
   },
   {
    "duration": 10,
    "start_time": "2022-05-02T09:38:33.796Z"
   },
   {
    "duration": 11,
    "start_time": "2022-05-02T09:38:33.807Z"
   },
   {
    "duration": 45,
    "start_time": "2022-05-02T09:38:33.820Z"
   },
   {
    "duration": 9,
    "start_time": "2022-05-02T09:38:33.867Z"
   },
   {
    "duration": 15,
    "start_time": "2022-05-02T09:38:33.877Z"
   },
   {
    "duration": 10,
    "start_time": "2022-05-02T09:38:33.894Z"
   },
   {
    "duration": 5,
    "start_time": "2022-05-02T09:38:33.906Z"
   },
   {
    "duration": 5,
    "start_time": "2022-05-02T09:38:33.912Z"
   },
   {
    "duration": 44,
    "start_time": "2022-05-02T09:38:33.919Z"
   },
   {
    "duration": 10,
    "start_time": "2022-05-02T09:38:33.965Z"
   },
   {
    "duration": 7,
    "start_time": "2022-05-02T09:38:33.977Z"
   },
   {
    "duration": 7,
    "start_time": "2022-05-02T09:38:33.985Z"
   },
   {
    "duration": 10,
    "start_time": "2022-05-02T09:38:33.993Z"
   },
   {
    "duration": 14,
    "start_time": "2022-05-02T09:38:34.005Z"
   },
   {
    "duration": 6,
    "start_time": "2022-05-02T09:38:34.020Z"
   },
   {
    "duration": 33,
    "start_time": "2022-05-02T09:38:34.027Z"
   },
   {
    "duration": 25,
    "start_time": "2022-05-02T09:38:34.062Z"
   },
   {
    "duration": 17,
    "start_time": "2022-05-02T09:38:34.088Z"
   },
   {
    "duration": 94,
    "start_time": "2022-05-02T09:38:34.107Z"
   },
   {
    "duration": 0,
    "start_time": "2022-05-02T09:38:34.203Z"
   },
   {
    "duration": 0,
    "start_time": "2022-05-02T09:38:34.204Z"
   },
   {
    "duration": 19,
    "start_time": "2022-05-02T10:19:50.215Z"
   },
   {
    "duration": 24,
    "start_time": "2022-05-02T10:21:55.969Z"
   },
   {
    "duration": 19,
    "start_time": "2022-05-02T10:22:32.285Z"
   },
   {
    "duration": 7,
    "start_time": "2022-05-02T10:23:15.735Z"
   },
   {
    "duration": 17,
    "start_time": "2022-05-02T10:23:21.472Z"
   },
   {
    "duration": 26,
    "start_time": "2022-05-02T10:23:36.208Z"
   },
   {
    "duration": 21,
    "start_time": "2022-05-02T10:24:39.824Z"
   },
   {
    "duration": 23,
    "start_time": "2022-05-02T10:25:20.472Z"
   },
   {
    "duration": 12,
    "start_time": "2022-05-02T10:36:23.807Z"
   },
   {
    "duration": 17,
    "start_time": "2022-05-02T10:37:22.088Z"
   },
   {
    "duration": 18,
    "start_time": "2022-05-02T11:12:49.020Z"
   },
   {
    "duration": 23,
    "start_time": "2022-05-02T11:12:55.541Z"
   },
   {
    "duration": 19,
    "start_time": "2022-05-02T11:13:54.990Z"
   },
   {
    "duration": 18,
    "start_time": "2022-05-02T11:15:03.373Z"
   },
   {
    "duration": 17,
    "start_time": "2022-05-02T11:15:13.261Z"
   },
   {
    "duration": 16,
    "start_time": "2022-05-02T11:18:48.252Z"
   },
   {
    "duration": 22,
    "start_time": "2022-05-02T11:19:11.012Z"
   },
   {
    "duration": 26,
    "start_time": "2022-05-02T11:21:02.013Z"
   },
   {
    "duration": 19,
    "start_time": "2022-05-02T11:25:00.508Z"
   },
   {
    "duration": 20,
    "start_time": "2022-05-02T11:28:20.292Z"
   },
   {
    "duration": 17,
    "start_time": "2022-05-02T11:28:53.453Z"
   },
   {
    "duration": 20,
    "start_time": "2022-05-02T15:05:09.611Z"
   },
   {
    "duration": 21,
    "start_time": "2022-05-02T15:05:21.538Z"
   },
   {
    "duration": 17,
    "start_time": "2022-05-02T15:08:18.579Z"
   },
   {
    "duration": 71,
    "start_time": "2022-05-02T15:54:25.172Z"
   },
   {
    "duration": 10,
    "start_time": "2022-05-02T15:54:39.364Z"
   },
   {
    "duration": 588,
    "start_time": "2022-05-02T15:54:54.112Z"
   },
   {
    "duration": 33,
    "start_time": "2022-05-02T15:54:54.703Z"
   },
   {
    "duration": 23,
    "start_time": "2022-05-02T15:54:54.738Z"
   },
   {
    "duration": 21,
    "start_time": "2022-05-02T15:54:54.781Z"
   },
   {
    "duration": 10,
    "start_time": "2022-05-02T15:54:54.804Z"
   },
   {
    "duration": 22,
    "start_time": "2022-05-02T15:54:54.816Z"
   },
   {
    "duration": 7,
    "start_time": "2022-05-02T15:54:54.840Z"
   },
   {
    "duration": 7,
    "start_time": "2022-05-02T15:54:54.880Z"
   },
   {
    "duration": 7,
    "start_time": "2022-05-02T15:54:54.889Z"
   },
   {
    "duration": 7,
    "start_time": "2022-05-02T15:54:54.900Z"
   },
   {
    "duration": 8,
    "start_time": "2022-05-02T15:54:54.908Z"
   },
   {
    "duration": 13,
    "start_time": "2022-05-02T15:54:54.918Z"
   },
   {
    "duration": 8,
    "start_time": "2022-05-02T15:54:54.933Z"
   },
   {
    "duration": 23,
    "start_time": "2022-05-02T15:54:54.983Z"
   },
   {
    "duration": 9,
    "start_time": "2022-05-02T15:54:55.008Z"
   },
   {
    "duration": 7,
    "start_time": "2022-05-02T15:54:55.019Z"
   },
   {
    "duration": 54,
    "start_time": "2022-05-02T15:54:55.028Z"
   },
   {
    "duration": 20,
    "start_time": "2022-05-02T15:54:55.084Z"
   },
   {
    "duration": 8,
    "start_time": "2022-05-02T15:54:55.107Z"
   },
   {
    "duration": 17,
    "start_time": "2022-05-02T15:54:55.117Z"
   },
   {
    "duration": 10,
    "start_time": "2022-05-02T15:54:55.136Z"
   },
   {
    "duration": 36,
    "start_time": "2022-05-02T15:54:55.148Z"
   },
   {
    "duration": 6,
    "start_time": "2022-05-02T15:54:55.186Z"
   },
   {
    "duration": 22,
    "start_time": "2022-05-02T15:54:55.194Z"
   },
   {
    "duration": 10,
    "start_time": "2022-05-02T15:54:55.218Z"
   },
   {
    "duration": 8,
    "start_time": "2022-05-02T15:54:55.230Z"
   },
   {
    "duration": 45,
    "start_time": "2022-05-02T15:54:55.240Z"
   },
   {
    "duration": 10,
    "start_time": "2022-05-02T15:54:55.291Z"
   },
   {
    "duration": 7,
    "start_time": "2022-05-02T15:54:55.304Z"
   },
   {
    "duration": 10,
    "start_time": "2022-05-02T15:54:55.313Z"
   },
   {
    "duration": 13,
    "start_time": "2022-05-02T15:54:55.325Z"
   },
   {
    "duration": 49,
    "start_time": "2022-05-02T15:54:55.340Z"
   },
   {
    "duration": 7,
    "start_time": "2022-05-02T15:54:55.392Z"
   },
   {
    "duration": 9,
    "start_time": "2022-05-02T15:54:55.402Z"
   },
   {
    "duration": 23,
    "start_time": "2022-05-02T15:54:55.413Z"
   },
   {
    "duration": 14,
    "start_time": "2022-05-02T15:54:55.438Z"
   },
   {
    "duration": 9,
    "start_time": "2022-05-02T15:54:55.482Z"
   },
   {
    "duration": 8,
    "start_time": "2022-05-02T15:54:55.493Z"
   },
   {
    "duration": 14,
    "start_time": "2022-05-02T15:54:55.503Z"
   },
   {
    "duration": 13,
    "start_time": "2022-05-02T15:54:55.519Z"
   },
   {
    "duration": 13,
    "start_time": "2022-05-02T15:54:55.535Z"
   },
   {
    "duration": 45,
    "start_time": "2022-05-02T15:54:55.550Z"
   },
   {
    "duration": 10,
    "start_time": "2022-05-02T15:54:55.597Z"
   },
   {
    "duration": 41,
    "start_time": "2022-05-02T15:54:55.610Z"
   },
   {
    "duration": 54,
    "start_time": "2022-05-02T15:54:55.653Z"
   },
   {
    "duration": 29,
    "start_time": "2022-05-02T15:54:55.709Z"
   },
   {
    "duration": 50,
    "start_time": "2022-05-02T15:54:55.740Z"
   },
   {
    "duration": 12,
    "start_time": "2022-05-02T15:54:55.792Z"
   },
   {
    "duration": 14,
    "start_time": "2022-05-02T15:54:55.806Z"
   },
   {
    "duration": 15,
    "start_time": "2022-05-02T15:54:55.822Z"
   },
   {
    "duration": 44,
    "start_time": "2022-05-02T15:54:55.839Z"
   },
   {
    "duration": 10,
    "start_time": "2022-05-02T15:54:55.885Z"
   },
   {
    "duration": 29,
    "start_time": "2022-05-02T15:54:55.897Z"
   },
   {
    "duration": 15,
    "start_time": "2022-05-02T15:54:55.928Z"
   },
   {
    "duration": 6,
    "start_time": "2022-05-02T15:54:55.945Z"
   },
   {
    "duration": 31,
    "start_time": "2022-05-02T15:54:55.953Z"
   },
   {
    "duration": 21,
    "start_time": "2022-05-02T15:54:55.987Z"
   },
   {
    "duration": 19,
    "start_time": "2022-05-02T15:54:56.010Z"
   },
   {
    "duration": 11,
    "start_time": "2022-05-02T15:54:56.031Z"
   },
   {
    "duration": 7,
    "start_time": "2022-05-02T15:54:56.045Z"
   },
   {
    "duration": 9,
    "start_time": "2022-05-02T15:54:56.082Z"
   },
   {
    "duration": 25,
    "start_time": "2022-05-02T15:54:56.093Z"
   },
   {
    "duration": 8,
    "start_time": "2022-05-02T15:54:56.120Z"
   },
   {
    "duration": 52,
    "start_time": "2022-05-02T15:54:56.131Z"
   },
   {
    "duration": 30,
    "start_time": "2022-05-02T15:54:56.185Z"
   },
   {
    "duration": 28,
    "start_time": "2022-05-02T15:54:56.218Z"
   },
   {
    "duration": 65,
    "start_time": "2022-05-02T15:54:56.248Z"
   },
   {
    "duration": 30,
    "start_time": "2022-05-02T15:54:56.315Z"
   },
   {
    "duration": 56,
    "start_time": "2022-05-02T15:54:56.347Z"
   },
   {
    "duration": 29,
    "start_time": "2022-05-02T15:56:52.137Z"
   },
   {
    "duration": 30,
    "start_time": "2022-05-02T15:57:43.996Z"
   },
   {
    "duration": 30,
    "start_time": "2022-05-02T15:57:48.991Z"
   },
   {
    "duration": 64,
    "start_time": "2022-05-02T16:01:40.164Z"
   },
   {
    "duration": 23,
    "start_time": "2022-05-02T16:01:45.292Z"
   },
   {
    "duration": 24,
    "start_time": "2022-05-02T16:01:58.195Z"
   },
   {
    "duration": 31,
    "start_time": "2022-05-02T16:02:05.259Z"
   },
   {
    "duration": 30,
    "start_time": "2022-05-02T17:29:51.249Z"
   },
   {
    "duration": 30,
    "start_time": "2022-05-02T17:36:56.113Z"
   },
   {
    "duration": 75,
    "start_time": "2022-05-03T08:12:38.081Z"
   },
   {
    "duration": 630,
    "start_time": "2022-05-03T08:13:12.514Z"
   },
   {
    "duration": 34,
    "start_time": "2022-05-03T08:13:13.146Z"
   },
   {
    "duration": 22,
    "start_time": "2022-05-03T08:13:13.182Z"
   },
   {
    "duration": 41,
    "start_time": "2022-05-03T08:13:13.206Z"
   },
   {
    "duration": 7,
    "start_time": "2022-05-03T08:13:13.252Z"
   },
   {
    "duration": 23,
    "start_time": "2022-05-03T08:13:13.262Z"
   },
   {
    "duration": 43,
    "start_time": "2022-05-03T08:13:13.287Z"
   },
   {
    "duration": 7,
    "start_time": "2022-05-03T08:13:13.332Z"
   },
   {
    "duration": 5,
    "start_time": "2022-05-03T08:13:13.342Z"
   },
   {
    "duration": 10,
    "start_time": "2022-05-03T08:13:13.349Z"
   },
   {
    "duration": 7,
    "start_time": "2022-05-03T08:13:13.361Z"
   },
   {
    "duration": 58,
    "start_time": "2022-05-03T08:13:13.370Z"
   },
   {
    "duration": 6,
    "start_time": "2022-05-03T08:13:13.431Z"
   },
   {
    "duration": 21,
    "start_time": "2022-05-03T08:13:13.442Z"
   },
   {
    "duration": 7,
    "start_time": "2022-05-03T08:13:13.465Z"
   },
   {
    "duration": 7,
    "start_time": "2022-05-03T08:13:13.525Z"
   },
   {
    "duration": 7,
    "start_time": "2022-05-03T08:13:13.534Z"
   },
   {
    "duration": 20,
    "start_time": "2022-05-03T08:13:13.543Z"
   },
   {
    "duration": 10,
    "start_time": "2022-05-03T08:13:13.565Z"
   },
   {
    "duration": 8,
    "start_time": "2022-05-03T08:13:13.625Z"
   },
   {
    "duration": 9,
    "start_time": "2022-05-03T08:13:13.635Z"
   },
   {
    "duration": 8,
    "start_time": "2022-05-03T08:13:13.646Z"
   },
   {
    "duration": 7,
    "start_time": "2022-05-03T08:13:13.656Z"
   },
   {
    "duration": 63,
    "start_time": "2022-05-03T08:13:13.665Z"
   },
   {
    "duration": 8,
    "start_time": "2022-05-03T08:13:13.731Z"
   },
   {
    "duration": 8,
    "start_time": "2022-05-03T08:13:13.741Z"
   },
   {
    "duration": 7,
    "start_time": "2022-05-03T08:13:13.751Z"
   },
   {
    "duration": 13,
    "start_time": "2022-05-03T08:13:13.760Z"
   },
   {
    "duration": 7,
    "start_time": "2022-05-03T08:13:13.775Z"
   },
   {
    "duration": 51,
    "start_time": "2022-05-03T08:13:13.784Z"
   },
   {
    "duration": 13,
    "start_time": "2022-05-03T08:13:13.837Z"
   },
   {
    "duration": 12,
    "start_time": "2022-05-03T08:13:13.852Z"
   },
   {
    "duration": 7,
    "start_time": "2022-05-03T08:13:13.866Z"
   },
   {
    "duration": 9,
    "start_time": "2022-05-03T08:13:13.875Z"
   },
   {
    "duration": 55,
    "start_time": "2022-05-03T08:13:13.886Z"
   },
   {
    "duration": 9,
    "start_time": "2022-05-03T08:13:13.943Z"
   },
   {
    "duration": 8,
    "start_time": "2022-05-03T08:13:13.954Z"
   },
   {
    "duration": 16,
    "start_time": "2022-05-03T08:13:13.964Z"
   },
   {
    "duration": 5,
    "start_time": "2022-05-03T08:13:13.982Z"
   },
   {
    "duration": 38,
    "start_time": "2022-05-03T08:13:13.989Z"
   },
   {
    "duration": 10,
    "start_time": "2022-05-03T08:13:14.035Z"
   },
   {
    "duration": 24,
    "start_time": "2022-05-03T08:13:14.047Z"
   },
   {
    "duration": 8,
    "start_time": "2022-05-03T08:13:14.073Z"
   },
   {
    "duration": 60,
    "start_time": "2022-05-03T08:13:14.083Z"
   },
   {
    "duration": 29,
    "start_time": "2022-05-03T08:13:14.145Z"
   },
   {
    "duration": 54,
    "start_time": "2022-05-03T08:13:14.176Z"
   },
   {
    "duration": 25,
    "start_time": "2022-05-03T08:13:14.232Z"
   },
   {
    "duration": 11,
    "start_time": "2022-05-03T08:13:14.259Z"
   },
   {
    "duration": 13,
    "start_time": "2022-05-03T08:13:14.272Z"
   },
   {
    "duration": 45,
    "start_time": "2022-05-03T08:13:14.287Z"
   },
   {
    "duration": 15,
    "start_time": "2022-05-03T08:13:14.334Z"
   },
   {
    "duration": 11,
    "start_time": "2022-05-03T08:13:14.351Z"
   },
   {
    "duration": 20,
    "start_time": "2022-05-03T08:13:14.364Z"
   },
   {
    "duration": 52,
    "start_time": "2022-05-03T08:13:14.386Z"
   },
   {
    "duration": 5,
    "start_time": "2022-05-03T08:13:14.441Z"
   },
   {
    "duration": 9,
    "start_time": "2022-05-03T08:13:14.448Z"
   },
   {
    "duration": 21,
    "start_time": "2022-05-03T08:13:14.459Z"
   },
   {
    "duration": 42,
    "start_time": "2022-05-03T08:13:14.482Z"
   },
   {
    "duration": 10,
    "start_time": "2022-05-03T08:13:14.526Z"
   },
   {
    "duration": 6,
    "start_time": "2022-05-03T08:13:14.538Z"
   },
   {
    "duration": 11,
    "start_time": "2022-05-03T08:13:14.546Z"
   },
   {
    "duration": 33,
    "start_time": "2022-05-03T08:13:14.559Z"
   },
   {
    "duration": 8,
    "start_time": "2022-05-03T08:13:14.594Z"
   },
   {
    "duration": 17,
    "start_time": "2022-05-03T08:13:14.625Z"
   },
   {
    "duration": 34,
    "start_time": "2022-05-03T08:13:14.644Z"
   },
   {
    "duration": 56,
    "start_time": "2022-05-03T08:13:14.680Z"
   },
   {
    "duration": 36,
    "start_time": "2022-05-03T08:13:14.738Z"
   },
   {
    "duration": 61,
    "start_time": "2022-05-03T08:13:14.776Z"
   },
   {
    "duration": 32,
    "start_time": "2022-05-03T08:13:14.839Z"
   },
   {
    "duration": 39,
    "start_time": "2022-05-03T08:15:01.770Z"
   },
   {
    "duration": 115,
    "start_time": "2022-05-03T08:15:09.930Z"
   },
   {
    "duration": 79,
    "start_time": "2022-05-03T08:15:22.573Z"
   },
   {
    "duration": 22,
    "start_time": "2022-05-03T08:15:22.656Z"
   },
   {
    "duration": 58,
    "start_time": "2022-05-03T08:15:22.681Z"
   },
   {
    "duration": 22,
    "start_time": "2022-05-03T08:15:22.742Z"
   },
   {
    "duration": 10,
    "start_time": "2022-05-03T08:15:22.767Z"
   },
   {
    "duration": 66,
    "start_time": "2022-05-03T08:15:22.779Z"
   },
   {
    "duration": 8,
    "start_time": "2022-05-03T08:15:22.847Z"
   },
   {
    "duration": 8,
    "start_time": "2022-05-03T08:15:22.857Z"
   },
   {
    "duration": 9,
    "start_time": "2022-05-03T08:15:22.867Z"
   },
   {
    "duration": 45,
    "start_time": "2022-05-03T08:15:22.879Z"
   },
   {
    "duration": 7,
    "start_time": "2022-05-03T08:15:22.927Z"
   },
   {
    "duration": 12,
    "start_time": "2022-05-03T08:15:22.936Z"
   },
   {
    "duration": 21,
    "start_time": "2022-05-03T08:15:22.950Z"
   },
   {
    "duration": 28,
    "start_time": "2022-05-03T08:15:22.973Z"
   },
   {
    "duration": 26,
    "start_time": "2022-05-03T08:15:23.003Z"
   },
   {
    "duration": 13,
    "start_time": "2022-05-03T08:15:23.031Z"
   },
   {
    "duration": 10,
    "start_time": "2022-05-03T08:15:23.046Z"
   },
   {
    "duration": 29,
    "start_time": "2022-05-03T08:15:23.058Z"
   },
   {
    "duration": 9,
    "start_time": "2022-05-03T08:15:23.089Z"
   },
   {
    "duration": 30,
    "start_time": "2022-05-03T08:15:23.100Z"
   },
   {
    "duration": 20,
    "start_time": "2022-05-03T08:15:23.132Z"
   },
   {
    "duration": 13,
    "start_time": "2022-05-03T08:15:23.154Z"
   },
   {
    "duration": 34,
    "start_time": "2022-05-03T08:15:23.169Z"
   },
   {
    "duration": 36,
    "start_time": "2022-05-03T08:15:23.206Z"
   },
   {
    "duration": 23,
    "start_time": "2022-05-03T08:15:23.244Z"
   },
   {
    "duration": 13,
    "start_time": "2022-05-03T08:15:23.269Z"
   },
   {
    "duration": 19,
    "start_time": "2022-05-03T08:15:23.284Z"
   },
   {
    "duration": 15,
    "start_time": "2022-05-03T08:15:23.309Z"
   },
   {
    "duration": 12,
    "start_time": "2022-05-03T08:15:23.326Z"
   },
   {
    "duration": 5,
    "start_time": "2022-05-03T08:15:23.340Z"
   },
   {
    "duration": 17,
    "start_time": "2022-05-03T08:15:23.347Z"
   },
   {
    "duration": 20,
    "start_time": "2022-05-03T08:15:23.366Z"
   },
   {
    "duration": 37,
    "start_time": "2022-05-03T08:15:23.388Z"
   },
   {
    "duration": 19,
    "start_time": "2022-05-03T08:15:23.427Z"
   },
   {
    "duration": 28,
    "start_time": "2022-05-03T08:15:23.448Z"
   },
   {
    "duration": 13,
    "start_time": "2022-05-03T08:15:23.478Z"
   },
   {
    "duration": 15,
    "start_time": "2022-05-03T08:15:23.493Z"
   },
   {
    "duration": 19,
    "start_time": "2022-05-03T08:15:23.510Z"
   },
   {
    "duration": 14,
    "start_time": "2022-05-03T08:15:23.531Z"
   },
   {
    "duration": 13,
    "start_time": "2022-05-03T08:15:23.548Z"
   },
   {
    "duration": 13,
    "start_time": "2022-05-03T08:15:23.563Z"
   },
   {
    "duration": 54,
    "start_time": "2022-05-03T08:15:23.578Z"
   },
   {
    "duration": 10,
    "start_time": "2022-05-03T08:15:23.634Z"
   },
   {
    "duration": 33,
    "start_time": "2022-05-03T08:15:23.646Z"
   },
   {
    "duration": 56,
    "start_time": "2022-05-03T08:15:23.681Z"
   },
   {
    "duration": 32,
    "start_time": "2022-05-03T08:15:23.739Z"
   },
   {
    "duration": 28,
    "start_time": "2022-05-03T08:15:23.774Z"
   },
   {
    "duration": 12,
    "start_time": "2022-05-03T08:15:23.825Z"
   },
   {
    "duration": 16,
    "start_time": "2022-05-03T08:15:23.839Z"
   },
   {
    "duration": 24,
    "start_time": "2022-05-03T08:15:23.857Z"
   },
   {
    "duration": 15,
    "start_time": "2022-05-03T08:15:23.883Z"
   },
   {
    "duration": 11,
    "start_time": "2022-05-03T08:15:23.926Z"
   },
   {
    "duration": 23,
    "start_time": "2022-05-03T08:15:23.939Z"
   },
   {
    "duration": 17,
    "start_time": "2022-05-03T08:15:23.964Z"
   },
   {
    "duration": 42,
    "start_time": "2022-05-03T08:15:23.983Z"
   },
   {
    "duration": 8,
    "start_time": "2022-05-03T08:15:24.028Z"
   },
   {
    "duration": 17,
    "start_time": "2022-05-03T08:15:24.039Z"
   },
   {
    "duration": 21,
    "start_time": "2022-05-03T08:15:24.059Z"
   },
   {
    "duration": 46,
    "start_time": "2022-05-03T08:15:24.083Z"
   },
   {
    "duration": 8,
    "start_time": "2022-05-03T08:15:24.132Z"
   },
   {
    "duration": 12,
    "start_time": "2022-05-03T08:15:24.142Z"
   },
   {
    "duration": 26,
    "start_time": "2022-05-03T08:15:24.157Z"
   },
   {
    "duration": 9,
    "start_time": "2022-05-03T08:15:24.185Z"
   },
   {
    "duration": 19,
    "start_time": "2022-05-03T08:15:24.224Z"
   },
   {
    "duration": 37,
    "start_time": "2022-05-03T08:15:24.245Z"
   },
   {
    "duration": 54,
    "start_time": "2022-05-03T08:15:24.284Z"
   },
   {
    "duration": 36,
    "start_time": "2022-05-03T08:15:24.340Z"
   },
   {
    "duration": 56,
    "start_time": "2022-05-03T08:15:24.379Z"
   },
   {
    "duration": 35,
    "start_time": "2022-05-03T08:15:24.437Z"
   },
   {
    "duration": 131,
    "start_time": "2022-05-03T10:25:03.644Z"
   },
   {
    "duration": 211,
    "start_time": "2022-05-03T11:15:44.653Z"
   },
   {
    "duration": 626,
    "start_time": "2022-05-03T11:24:54.077Z"
   },
   {
    "duration": 34,
    "start_time": "2022-05-03T11:24:54.706Z"
   },
   {
    "duration": 22,
    "start_time": "2022-05-03T11:24:54.742Z"
   },
   {
    "duration": 23,
    "start_time": "2022-05-03T11:24:54.767Z"
   },
   {
    "duration": 8,
    "start_time": "2022-05-03T11:24:54.825Z"
   },
   {
    "duration": 26,
    "start_time": "2022-05-03T11:24:54.835Z"
   },
   {
    "duration": 10,
    "start_time": "2022-05-03T11:24:54.864Z"
   },
   {
    "duration": 9,
    "start_time": "2022-05-03T11:24:54.877Z"
   },
   {
    "duration": 8,
    "start_time": "2022-05-03T11:24:54.923Z"
   },
   {
    "duration": 6,
    "start_time": "2022-05-03T11:24:54.933Z"
   },
   {
    "duration": 10,
    "start_time": "2022-05-03T11:24:54.941Z"
   },
   {
    "duration": 12,
    "start_time": "2022-05-03T11:24:54.953Z"
   },
   {
    "duration": 8,
    "start_time": "2022-05-03T11:24:54.967Z"
   },
   {
    "duration": 66,
    "start_time": "2022-05-03T11:24:54.979Z"
   },
   {
    "duration": 12,
    "start_time": "2022-05-03T11:24:55.048Z"
   },
   {
    "duration": 14,
    "start_time": "2022-05-03T11:24:55.063Z"
   },
   {
    "duration": 19,
    "start_time": "2022-05-03T11:24:55.079Z"
   },
   {
    "duration": 21,
    "start_time": "2022-05-03T11:24:55.124Z"
   },
   {
    "duration": 35,
    "start_time": "2022-05-03T11:24:55.148Z"
   },
   {
    "duration": 28,
    "start_time": "2022-05-03T11:24:55.186Z"
   },
   {
    "duration": 15,
    "start_time": "2022-05-03T11:24:55.216Z"
   },
   {
    "duration": 16,
    "start_time": "2022-05-03T11:24:55.234Z"
   },
   {
    "duration": 33,
    "start_time": "2022-05-03T11:24:55.252Z"
   },
   {
    "duration": 30,
    "start_time": "2022-05-03T11:24:55.288Z"
   },
   {
    "duration": 23,
    "start_time": "2022-05-03T11:24:55.322Z"
   },
   {
    "duration": 14,
    "start_time": "2022-05-03T11:24:55.347Z"
   },
   {
    "duration": 21,
    "start_time": "2022-05-03T11:24:55.363Z"
   },
   {
    "duration": 19,
    "start_time": "2022-05-03T11:24:55.386Z"
   },
   {
    "duration": 11,
    "start_time": "2022-05-03T11:24:55.407Z"
   },
   {
    "duration": 38,
    "start_time": "2022-05-03T11:24:55.420Z"
   },
   {
    "duration": 43,
    "start_time": "2022-05-03T11:24:55.460Z"
   },
   {
    "duration": 16,
    "start_time": "2022-05-03T11:24:55.506Z"
   },
   {
    "duration": 21,
    "start_time": "2022-05-03T11:24:55.525Z"
   },
   {
    "duration": 13,
    "start_time": "2022-05-03T11:24:55.548Z"
   },
   {
    "duration": 41,
    "start_time": "2022-05-03T11:24:55.563Z"
   },
   {
    "duration": 16,
    "start_time": "2022-05-03T11:24:55.607Z"
   },
   {
    "duration": 18,
    "start_time": "2022-05-03T11:24:55.625Z"
   },
   {
    "duration": 13,
    "start_time": "2022-05-03T11:24:55.646Z"
   },
   {
    "duration": 8,
    "start_time": "2022-05-03T11:24:55.661Z"
   },
   {
    "duration": 12,
    "start_time": "2022-05-03T11:24:55.672Z"
   },
   {
    "duration": 10,
    "start_time": "2022-05-03T11:24:55.691Z"
   },
   {
    "duration": 23,
    "start_time": "2022-05-03T11:24:55.726Z"
   },
   {
    "duration": 11,
    "start_time": "2022-05-03T11:24:55.751Z"
   },
   {
    "duration": 34,
    "start_time": "2022-05-03T11:24:55.764Z"
   },
   {
    "duration": 52,
    "start_time": "2022-05-03T11:24:55.800Z"
   },
   {
    "duration": 31,
    "start_time": "2022-05-03T11:24:55.854Z"
   },
   {
    "duration": 50,
    "start_time": "2022-05-03T11:24:55.887Z"
   },
   {
    "duration": 11,
    "start_time": "2022-05-03T11:24:55.940Z"
   },
   {
    "duration": 19,
    "start_time": "2022-05-03T11:24:55.953Z"
   },
   {
    "duration": 21,
    "start_time": "2022-05-03T11:24:55.975Z"
   },
   {
    "duration": 36,
    "start_time": "2022-05-03T11:24:55.997Z"
   },
   {
    "duration": 16,
    "start_time": "2022-05-03T11:24:56.035Z"
   },
   {
    "duration": 31,
    "start_time": "2022-05-03T11:24:56.053Z"
   },
   {
    "duration": 16,
    "start_time": "2022-05-03T11:24:56.087Z"
   },
   {
    "duration": 5,
    "start_time": "2022-05-03T11:24:56.125Z"
   },
   {
    "duration": 16,
    "start_time": "2022-05-03T11:24:56.133Z"
   },
   {
    "duration": 21,
    "start_time": "2022-05-03T11:24:56.152Z"
   },
   {
    "duration": 20,
    "start_time": "2022-05-03T11:24:56.176Z"
   },
   {
    "duration": 30,
    "start_time": "2022-05-03T11:24:56.198Z"
   },
   {
    "duration": 6,
    "start_time": "2022-05-03T11:24:56.230Z"
   },
   {
    "duration": 14,
    "start_time": "2022-05-03T11:24:56.238Z"
   },
   {
    "duration": 28,
    "start_time": "2022-05-03T11:24:56.255Z"
   },
   {
    "duration": 15,
    "start_time": "2022-05-03T11:24:56.285Z"
   },
   {
    "duration": 36,
    "start_time": "2022-05-03T11:24:56.302Z"
   },
   {
    "duration": 32,
    "start_time": "2022-05-03T11:24:56.341Z"
   },
   {
    "duration": 57,
    "start_time": "2022-05-03T11:24:56.375Z"
   },
   {
    "duration": 38,
    "start_time": "2022-05-03T11:24:56.434Z"
   },
   {
    "duration": 59,
    "start_time": "2022-05-03T11:24:56.475Z"
   },
   {
    "duration": 34,
    "start_time": "2022-05-03T11:24:56.536Z"
   },
   {
    "duration": 621,
    "start_time": "2022-05-03T11:25:48.506Z"
   },
   {
    "duration": 34,
    "start_time": "2022-05-03T11:25:49.130Z"
   },
   {
    "duration": 22,
    "start_time": "2022-05-03T11:25:49.166Z"
   },
   {
    "duration": 47,
    "start_time": "2022-05-03T11:25:49.190Z"
   },
   {
    "duration": 7,
    "start_time": "2022-05-03T11:25:49.240Z"
   },
   {
    "duration": 37,
    "start_time": "2022-05-03T11:25:49.249Z"
   },
   {
    "duration": 7,
    "start_time": "2022-05-03T11:25:49.288Z"
   },
   {
    "duration": 33,
    "start_time": "2022-05-03T11:25:49.297Z"
   },
   {
    "duration": 15,
    "start_time": "2022-05-03T11:25:49.332Z"
   },
   {
    "duration": 23,
    "start_time": "2022-05-03T11:25:49.349Z"
   },
   {
    "duration": 22,
    "start_time": "2022-05-03T11:25:49.375Z"
   },
   {
    "duration": 15,
    "start_time": "2022-05-03T11:25:49.399Z"
   },
   {
    "duration": 7,
    "start_time": "2022-05-03T11:25:49.416Z"
   },
   {
    "duration": 26,
    "start_time": "2022-05-03T11:25:49.427Z"
   },
   {
    "duration": 7,
    "start_time": "2022-05-03T11:25:49.455Z"
   },
   {
    "duration": 16,
    "start_time": "2022-05-03T11:25:49.464Z"
   },
   {
    "duration": 14,
    "start_time": "2022-05-03T11:25:49.482Z"
   },
   {
    "duration": 37,
    "start_time": "2022-05-03T11:25:49.499Z"
   },
   {
    "duration": 9,
    "start_time": "2022-05-03T11:25:49.538Z"
   },
   {
    "duration": 11,
    "start_time": "2022-05-03T11:25:49.549Z"
   },
   {
    "duration": 6,
    "start_time": "2022-05-03T11:25:49.562Z"
   },
   {
    "duration": 7,
    "start_time": "2022-05-03T11:25:49.570Z"
   },
   {
    "duration": 45,
    "start_time": "2022-05-03T11:25:49.579Z"
   },
   {
    "duration": 18,
    "start_time": "2022-05-03T11:25:49.626Z"
   },
   {
    "duration": 9,
    "start_time": "2022-05-03T11:25:49.647Z"
   },
   {
    "duration": 12,
    "start_time": "2022-05-03T11:25:49.658Z"
   },
   {
    "duration": 15,
    "start_time": "2022-05-03T11:25:49.672Z"
   },
   {
    "duration": 37,
    "start_time": "2022-05-03T11:25:49.689Z"
   },
   {
    "duration": 8,
    "start_time": "2022-05-03T11:25:49.728Z"
   },
   {
    "duration": 7,
    "start_time": "2022-05-03T11:25:49.738Z"
   },
   {
    "duration": 14,
    "start_time": "2022-05-03T11:25:49.747Z"
   },
   {
    "duration": 12,
    "start_time": "2022-05-03T11:25:49.763Z"
   },
   {
    "duration": 7,
    "start_time": "2022-05-03T11:25:49.777Z"
   },
   {
    "duration": 10,
    "start_time": "2022-05-03T11:25:49.825Z"
   },
   {
    "duration": 22,
    "start_time": "2022-05-03T11:25:49.838Z"
   },
   {
    "duration": 14,
    "start_time": "2022-05-03T11:25:49.862Z"
   },
   {
    "duration": 13,
    "start_time": "2022-05-03T11:25:49.879Z"
   },
   {
    "duration": 6,
    "start_time": "2022-05-03T11:25:49.926Z"
   },
   {
    "duration": 39,
    "start_time": "2022-05-03T11:25:49.935Z"
   },
   {
    "duration": 21,
    "start_time": "2022-05-03T11:25:49.976Z"
   },
   {
    "duration": 16,
    "start_time": "2022-05-03T11:25:50.004Z"
   },
   {
    "duration": 43,
    "start_time": "2022-05-03T11:25:50.022Z"
   },
   {
    "duration": 20,
    "start_time": "2022-05-03T11:25:50.067Z"
   },
   {
    "duration": 44,
    "start_time": "2022-05-03T11:25:50.089Z"
   },
   {
    "duration": 40,
    "start_time": "2022-05-03T11:25:50.135Z"
   },
   {
    "duration": 30,
    "start_time": "2022-05-03T11:25:50.178Z"
   },
   {
    "duration": 34,
    "start_time": "2022-05-03T11:25:50.210Z"
   },
   {
    "duration": 11,
    "start_time": "2022-05-03T11:25:50.247Z"
   },
   {
    "duration": 14,
    "start_time": "2022-05-03T11:25:50.260Z"
   },
   {
    "duration": 48,
    "start_time": "2022-05-03T11:25:50.276Z"
   },
   {
    "duration": 15,
    "start_time": "2022-05-03T11:25:50.326Z"
   },
   {
    "duration": 11,
    "start_time": "2022-05-03T11:25:50.343Z"
   },
   {
    "duration": 20,
    "start_time": "2022-05-03T11:25:50.356Z"
   },
   {
    "duration": 48,
    "start_time": "2022-05-03T11:25:50.379Z"
   },
   {
    "duration": 6,
    "start_time": "2022-05-03T11:25:50.430Z"
   },
   {
    "duration": 12,
    "start_time": "2022-05-03T11:25:50.439Z"
   },
   {
    "duration": 17,
    "start_time": "2022-05-03T11:25:50.453Z"
   },
   {
    "duration": 17,
    "start_time": "2022-05-03T11:25:50.473Z"
   },
   {
    "duration": 39,
    "start_time": "2022-05-03T11:25:50.493Z"
   },
   {
    "duration": 7,
    "start_time": "2022-05-03T11:25:50.534Z"
   },
   {
    "duration": 13,
    "start_time": "2022-05-03T11:25:50.543Z"
   },
   {
    "duration": 22,
    "start_time": "2022-05-03T11:25:50.558Z"
   },
   {
    "duration": 42,
    "start_time": "2022-05-03T11:25:50.582Z"
   },
   {
    "duration": 19,
    "start_time": "2022-05-03T11:25:50.626Z"
   },
   {
    "duration": 33,
    "start_time": "2022-05-03T11:25:50.647Z"
   },
   {
    "duration": 58,
    "start_time": "2022-05-03T11:25:50.682Z"
   },
   {
    "duration": 37,
    "start_time": "2022-05-03T11:25:50.742Z"
   },
   {
    "duration": 58,
    "start_time": "2022-05-03T11:25:50.781Z"
   },
   {
    "duration": 33,
    "start_time": "2022-05-03T11:25:50.841Z"
   },
   {
    "duration": 590,
    "start_time": "2022-05-03T11:27:02.160Z"
   },
   {
    "duration": 35,
    "start_time": "2022-05-03T11:27:02.754Z"
   },
   {
    "duration": 45,
    "start_time": "2022-05-03T11:27:02.792Z"
   },
   {
    "duration": 23,
    "start_time": "2022-05-03T11:27:02.839Z"
   },
   {
    "duration": 9,
    "start_time": "2022-05-03T11:27:02.866Z"
   },
   {
    "duration": 61,
    "start_time": "2022-05-03T11:27:02.877Z"
   },
   {
    "duration": 10,
    "start_time": "2022-05-03T11:27:02.940Z"
   },
   {
    "duration": 10,
    "start_time": "2022-05-03T11:27:02.952Z"
   },
   {
    "duration": 6,
    "start_time": "2022-05-03T11:27:02.964Z"
   },
   {
    "duration": 19,
    "start_time": "2022-05-03T11:27:02.972Z"
   },
   {
    "duration": 8,
    "start_time": "2022-05-03T11:27:03.024Z"
   },
   {
    "duration": 10,
    "start_time": "2022-05-03T11:27:03.035Z"
   },
   {
    "duration": 12,
    "start_time": "2022-05-03T11:27:03.047Z"
   },
   {
    "duration": 62,
    "start_time": "2022-05-03T11:27:03.066Z"
   },
   {
    "duration": 9,
    "start_time": "2022-05-03T11:27:03.130Z"
   },
   {
    "duration": 22,
    "start_time": "2022-05-03T11:27:03.141Z"
   },
   {
    "duration": 12,
    "start_time": "2022-05-03T11:27:03.166Z"
   },
   {
    "duration": 45,
    "start_time": "2022-05-03T11:27:03.180Z"
   },
   {
    "duration": 12,
    "start_time": "2022-05-03T11:27:03.227Z"
   },
   {
    "duration": 10,
    "start_time": "2022-05-03T11:27:03.242Z"
   },
   {
    "duration": 24,
    "start_time": "2022-05-03T11:27:03.254Z"
   },
   {
    "duration": 29,
    "start_time": "2022-05-03T11:27:03.281Z"
   },
   {
    "duration": 36,
    "start_time": "2022-05-03T11:27:03.313Z"
   },
   {
    "duration": 40,
    "start_time": "2022-05-03T11:27:03.351Z"
   },
   {
    "duration": 26,
    "start_time": "2022-05-03T11:27:03.394Z"
   },
   {
    "duration": 21,
    "start_time": "2022-05-03T11:27:03.423Z"
   },
   {
    "duration": 38,
    "start_time": "2022-05-03T11:27:03.446Z"
   },
   {
    "duration": 23,
    "start_time": "2022-05-03T11:27:03.486Z"
   },
   {
    "duration": 8,
    "start_time": "2022-05-03T11:27:03.512Z"
   },
   {
    "duration": 21,
    "start_time": "2022-05-03T11:27:03.522Z"
   },
   {
    "duration": 18,
    "start_time": "2022-05-03T11:27:03.546Z"
   },
   {
    "duration": 23,
    "start_time": "2022-05-03T11:27:03.566Z"
   },
   {
    "duration": 27,
    "start_time": "2022-05-03T11:27:03.591Z"
   },
   {
    "duration": 16,
    "start_time": "2022-05-03T11:27:03.620Z"
   },
   {
    "duration": 23,
    "start_time": "2022-05-03T11:27:03.638Z"
   },
   {
    "duration": 17,
    "start_time": "2022-05-03T11:27:03.663Z"
   },
   {
    "duration": 14,
    "start_time": "2022-05-03T11:27:03.683Z"
   },
   {
    "duration": 25,
    "start_time": "2022-05-03T11:27:03.699Z"
   },
   {
    "duration": 11,
    "start_time": "2022-05-03T11:27:03.726Z"
   },
   {
    "duration": 13,
    "start_time": "2022-05-03T11:27:03.740Z"
   },
   {
    "duration": 10,
    "start_time": "2022-05-03T11:27:03.759Z"
   },
   {
    "duration": 27,
    "start_time": "2022-05-03T11:27:03.771Z"
   },
   {
    "duration": 30,
    "start_time": "2022-05-03T11:27:03.801Z"
   },
   {
    "duration": 26,
    "start_time": "2022-05-03T11:27:03.834Z"
   },
   {
    "duration": 32,
    "start_time": "2022-05-03T11:27:03.862Z"
   },
   {
    "duration": 31,
    "start_time": "2022-05-03T11:27:03.925Z"
   },
   {
    "duration": 27,
    "start_time": "2022-05-03T11:27:03.959Z"
   },
   {
    "duration": 37,
    "start_time": "2022-05-03T11:27:03.988Z"
   },
   {
    "duration": 14,
    "start_time": "2022-05-03T11:27:04.028Z"
   },
   {
    "duration": 32,
    "start_time": "2022-05-03T11:27:04.044Z"
   },
   {
    "duration": 27,
    "start_time": "2022-05-03T11:27:04.079Z"
   },
   {
    "duration": 21,
    "start_time": "2022-05-03T11:27:04.108Z"
   },
   {
    "duration": 35,
    "start_time": "2022-05-03T11:27:04.131Z"
   },
   {
    "duration": 33,
    "start_time": "2022-05-03T11:27:04.168Z"
   },
   {
    "duration": 19,
    "start_time": "2022-05-03T11:27:04.204Z"
   },
   {
    "duration": 23,
    "start_time": "2022-05-03T11:27:04.225Z"
   },
   {
    "duration": 20,
    "start_time": "2022-05-03T11:27:04.250Z"
   },
   {
    "duration": 24,
    "start_time": "2022-05-03T11:27:04.272Z"
   },
   {
    "duration": 14,
    "start_time": "2022-05-03T11:27:04.298Z"
   },
   {
    "duration": 15,
    "start_time": "2022-05-03T11:27:04.314Z"
   },
   {
    "duration": 38,
    "start_time": "2022-05-03T11:27:04.331Z"
   },
   {
    "duration": 41,
    "start_time": "2022-05-03T11:27:04.371Z"
   },
   {
    "duration": 17,
    "start_time": "2022-05-03T11:27:04.414Z"
   },
   {
    "duration": 34,
    "start_time": "2022-05-03T11:27:04.433Z"
   },
   {
    "duration": 46,
    "start_time": "2022-05-03T11:27:04.469Z"
   },
   {
    "duration": 28,
    "start_time": "2022-05-03T11:27:04.517Z"
   },
   {
    "duration": 52,
    "start_time": "2022-05-03T11:27:04.547Z"
   },
   {
    "duration": 44,
    "start_time": "2022-05-03T11:27:04.602Z"
   },
   {
    "duration": 34,
    "start_time": "2022-05-03T11:27:04.649Z"
   },
   {
    "duration": 645,
    "start_time": "2022-05-03T11:32:13.390Z"
   },
   {
    "duration": 36,
    "start_time": "2022-05-03T11:32:14.038Z"
   },
   {
    "duration": 21,
    "start_time": "2022-05-03T11:32:14.077Z"
   },
   {
    "duration": 25,
    "start_time": "2022-05-03T11:32:14.124Z"
   },
   {
    "duration": 8,
    "start_time": "2022-05-03T11:32:14.152Z"
   },
   {
    "duration": 21,
    "start_time": "2022-05-03T11:32:14.163Z"
   },
   {
    "duration": 44,
    "start_time": "2022-05-03T11:32:14.187Z"
   },
   {
    "duration": 9,
    "start_time": "2022-05-03T11:32:14.233Z"
   },
   {
    "duration": 8,
    "start_time": "2022-05-03T11:32:14.244Z"
   },
   {
    "duration": 7,
    "start_time": "2022-05-03T11:32:14.254Z"
   },
   {
    "duration": 8,
    "start_time": "2022-05-03T11:32:14.263Z"
   },
   {
    "duration": 53,
    "start_time": "2022-05-03T11:32:14.273Z"
   },
   {
    "duration": 9,
    "start_time": "2022-05-03T11:32:14.329Z"
   },
   {
    "duration": 26,
    "start_time": "2022-05-03T11:32:14.343Z"
   },
   {
    "duration": 7,
    "start_time": "2022-05-03T11:32:14.372Z"
   },
   {
    "duration": 46,
    "start_time": "2022-05-03T11:32:14.381Z"
   },
   {
    "duration": 6,
    "start_time": "2022-05-03T11:32:14.429Z"
   },
   {
    "duration": 27,
    "start_time": "2022-05-03T11:32:14.437Z"
   },
   {
    "duration": 10,
    "start_time": "2022-05-03T11:32:14.466Z"
   },
   {
    "duration": 8,
    "start_time": "2022-05-03T11:32:14.478Z"
   },
   {
    "duration": 42,
    "start_time": "2022-05-03T11:32:14.488Z"
   },
   {
    "duration": 16,
    "start_time": "2022-05-03T11:32:14.532Z"
   },
   {
    "duration": 11,
    "start_time": "2022-05-03T11:32:14.551Z"
   },
   {
    "duration": 23,
    "start_time": "2022-05-03T11:32:14.565Z"
   },
   {
    "duration": 36,
    "start_time": "2022-05-03T11:32:14.590Z"
   },
   {
    "duration": 13,
    "start_time": "2022-05-03T11:32:14.628Z"
   },
   {
    "duration": 12,
    "start_time": "2022-05-03T11:32:14.643Z"
   },
   {
    "duration": 14,
    "start_time": "2022-05-03T11:32:14.657Z"
   },
   {
    "duration": 8,
    "start_time": "2022-05-03T11:32:14.673Z"
   },
   {
    "duration": 41,
    "start_time": "2022-05-03T11:32:14.684Z"
   },
   {
    "duration": 18,
    "start_time": "2022-05-03T11:32:14.727Z"
   },
   {
    "duration": 14,
    "start_time": "2022-05-03T11:32:14.748Z"
   },
   {
    "duration": 9,
    "start_time": "2022-05-03T11:32:14.765Z"
   },
   {
    "duration": 18,
    "start_time": "2022-05-03T11:32:14.777Z"
   },
   {
    "duration": 21,
    "start_time": "2022-05-03T11:32:14.825Z"
   },
   {
    "duration": 10,
    "start_time": "2022-05-03T11:32:14.849Z"
   },
   {
    "duration": 12,
    "start_time": "2022-05-03T11:32:14.862Z"
   },
   {
    "duration": 13,
    "start_time": "2022-05-03T11:32:14.876Z"
   },
   {
    "duration": 13,
    "start_time": "2022-05-03T11:32:14.925Z"
   },
   {
    "duration": 20,
    "start_time": "2022-05-03T11:32:14.940Z"
   },
   {
    "duration": 10,
    "start_time": "2022-05-03T11:32:14.966Z"
   },
   {
    "duration": 30,
    "start_time": "2022-05-03T11:32:14.978Z"
   },
   {
    "duration": 30,
    "start_time": "2022-05-03T11:32:15.010Z"
   },
   {
    "duration": 42,
    "start_time": "2022-05-03T11:32:15.042Z"
   },
   {
    "duration": 152,
    "start_time": "2022-05-03T11:32:15.086Z"
   },
   {
    "duration": 36,
    "start_time": "2022-05-03T11:32:15.240Z"
   },
   {
    "duration": 46,
    "start_time": "2022-05-03T11:32:15.279Z"
   },
   {
    "duration": 12,
    "start_time": "2022-05-03T11:32:15.328Z"
   },
   {
    "duration": 17,
    "start_time": "2022-05-03T11:32:15.343Z"
   },
   {
    "duration": 17,
    "start_time": "2022-05-03T11:32:15.363Z"
   },
   {
    "duration": 44,
    "start_time": "2022-05-03T11:32:15.382Z"
   },
   {
    "duration": 12,
    "start_time": "2022-05-03T11:32:15.429Z"
   },
   {
    "duration": 28,
    "start_time": "2022-05-03T11:32:15.443Z"
   },
   {
    "duration": 18,
    "start_time": "2022-05-03T11:32:15.473Z"
   },
   {
    "duration": 33,
    "start_time": "2022-05-03T11:32:15.493Z"
   },
   {
    "duration": 25,
    "start_time": "2022-05-03T11:32:15.529Z"
   },
   {
    "duration": 17,
    "start_time": "2022-05-03T11:32:15.557Z"
   },
   {
    "duration": 18,
    "start_time": "2022-05-03T11:32:15.577Z"
   },
   {
    "duration": 33,
    "start_time": "2022-05-03T11:32:15.597Z"
   },
   {
    "duration": 11,
    "start_time": "2022-05-03T11:32:15.633Z"
   },
   {
    "duration": 13,
    "start_time": "2022-05-03T11:32:15.646Z"
   },
   {
    "duration": 24,
    "start_time": "2022-05-03T11:32:15.662Z"
   },
   {
    "duration": 10,
    "start_time": "2022-05-03T11:32:15.688Z"
   },
   {
    "duration": 19,
    "start_time": "2022-05-03T11:32:15.724Z"
   },
   {
    "duration": 42,
    "start_time": "2022-05-03T11:32:15.745Z"
   },
   {
    "duration": 52,
    "start_time": "2022-05-03T11:32:15.790Z"
   },
   {
    "duration": 36,
    "start_time": "2022-05-03T11:32:15.844Z"
   },
   {
    "duration": 56,
    "start_time": "2022-05-03T11:32:15.883Z"
   },
   {
    "duration": 263,
    "start_time": "2022-05-03T11:32:15.941Z"
   },
   {
    "duration": 627,
    "start_time": "2022-05-03T16:53:37.573Z"
   },
   {
    "duration": 32,
    "start_time": "2022-05-03T16:53:38.203Z"
   },
   {
    "duration": 21,
    "start_time": "2022-05-03T16:53:38.237Z"
   },
   {
    "duration": 46,
    "start_time": "2022-05-03T16:53:38.261Z"
   },
   {
    "duration": 8,
    "start_time": "2022-05-03T16:53:38.309Z"
   },
   {
    "duration": 40,
    "start_time": "2022-05-03T16:53:38.319Z"
   },
   {
    "duration": 9,
    "start_time": "2022-05-03T16:53:38.361Z"
   },
   {
    "duration": 8,
    "start_time": "2022-05-03T16:53:38.394Z"
   },
   {
    "duration": 23,
    "start_time": "2022-05-03T16:53:38.404Z"
   },
   {
    "duration": 14,
    "start_time": "2022-05-03T16:53:38.431Z"
   },
   {
    "duration": 8,
    "start_time": "2022-05-03T16:53:38.448Z"
   },
   {
    "duration": 16,
    "start_time": "2022-05-03T16:53:38.458Z"
   },
   {
    "duration": 22,
    "start_time": "2022-05-03T16:53:38.476Z"
   },
   {
    "duration": 29,
    "start_time": "2022-05-03T16:53:38.500Z"
   },
   {
    "duration": 8,
    "start_time": "2022-05-03T16:53:38.531Z"
   },
   {
    "duration": 8,
    "start_time": "2022-05-03T16:53:38.541Z"
   },
   {
    "duration": 46,
    "start_time": "2022-05-03T16:53:38.551Z"
   },
   {
    "duration": 22,
    "start_time": "2022-05-03T16:53:38.599Z"
   },
   {
    "duration": 9,
    "start_time": "2022-05-03T16:53:38.623Z"
   },
   {
    "duration": 9,
    "start_time": "2022-05-03T16:53:38.635Z"
   },
   {
    "duration": 9,
    "start_time": "2022-05-03T16:53:38.646Z"
   },
   {
    "duration": 7,
    "start_time": "2022-05-03T16:53:38.693Z"
   },
   {
    "duration": 9,
    "start_time": "2022-05-03T16:53:38.702Z"
   },
   {
    "duration": 19,
    "start_time": "2022-05-03T16:53:38.712Z"
   },
   {
    "duration": 10,
    "start_time": "2022-05-03T16:53:38.733Z"
   },
   {
    "duration": 8,
    "start_time": "2022-05-03T16:53:38.746Z"
   },
   {
    "duration": 43,
    "start_time": "2022-05-03T16:53:38.756Z"
   },
   {
    "duration": 15,
    "start_time": "2022-05-03T16:53:38.806Z"
   },
   {
    "duration": 8,
    "start_time": "2022-05-03T16:53:38.823Z"
   },
   {
    "duration": 23,
    "start_time": "2022-05-03T16:53:38.833Z"
   },
   {
    "duration": 41,
    "start_time": "2022-05-03T16:53:38.858Z"
   },
   {
    "duration": 18,
    "start_time": "2022-05-03T16:53:38.902Z"
   },
   {
    "duration": 7,
    "start_time": "2022-05-03T16:53:38.923Z"
   },
   {
    "duration": 10,
    "start_time": "2022-05-03T16:53:38.933Z"
   },
   {
    "duration": 50,
    "start_time": "2022-05-03T16:53:38.946Z"
   },
   {
    "duration": 13,
    "start_time": "2022-05-03T16:53:38.998Z"
   },
   {
    "duration": 10,
    "start_time": "2022-05-03T16:53:39.013Z"
   },
   {
    "duration": 7,
    "start_time": "2022-05-03T16:53:39.026Z"
   },
   {
    "duration": 6,
    "start_time": "2022-05-03T16:53:39.035Z"
   },
   {
    "duration": 10,
    "start_time": "2022-05-03T16:53:39.043Z"
   },
   {
    "duration": 48,
    "start_time": "2022-05-03T16:53:39.055Z"
   },
   {
    "duration": 27,
    "start_time": "2022-05-03T16:53:39.106Z"
   },
   {
    "duration": 12,
    "start_time": "2022-05-03T16:53:39.136Z"
   },
   {
    "duration": 63,
    "start_time": "2022-05-03T16:53:39.150Z"
   },
   {
    "duration": 32,
    "start_time": "2022-05-03T16:53:39.215Z"
   },
   {
    "duration": 60,
    "start_time": "2022-05-03T16:53:39.250Z"
   },
   {
    "duration": 29,
    "start_time": "2022-05-03T16:53:39.313Z"
   },
   {
    "duration": 13,
    "start_time": "2022-05-03T16:53:39.344Z"
   },
   {
    "duration": 44,
    "start_time": "2022-05-03T16:53:39.360Z"
   },
   {
    "duration": 19,
    "start_time": "2022-05-03T16:53:39.406Z"
   },
   {
    "duration": 17,
    "start_time": "2022-05-03T16:53:39.427Z"
   },
   {
    "duration": 10,
    "start_time": "2022-05-03T16:53:39.446Z"
   },
   {
    "duration": 23,
    "start_time": "2022-05-03T16:53:39.494Z"
   },
   {
    "duration": 17,
    "start_time": "2022-05-03T16:53:39.519Z"
   },
   {
    "duration": 6,
    "start_time": "2022-05-03T16:53:39.539Z"
   },
   {
    "duration": 7,
    "start_time": "2022-05-03T16:53:39.549Z"
   },
   {
    "duration": 17,
    "start_time": "2022-05-03T16:53:39.595Z"
   },
   {
    "duration": 19,
    "start_time": "2022-05-03T16:53:39.614Z"
   },
   {
    "duration": 14,
    "start_time": "2022-05-03T16:53:39.636Z"
   },
   {
    "duration": 44,
    "start_time": "2022-05-03T16:53:39.653Z"
   },
   {
    "duration": 8,
    "start_time": "2022-05-03T16:53:39.700Z"
   },
   {
    "duration": 22,
    "start_time": "2022-05-03T16:53:39.710Z"
   },
   {
    "duration": 9,
    "start_time": "2022-05-03T16:53:39.735Z"
   },
   {
    "duration": 61,
    "start_time": "2022-05-03T16:53:39.747Z"
   },
   {
    "duration": 31,
    "start_time": "2022-05-03T16:53:39.811Z"
   },
   {
    "duration": 58,
    "start_time": "2022-05-03T16:53:39.845Z"
   },
   {
    "duration": 38,
    "start_time": "2022-05-03T16:53:39.905Z"
   },
   {
    "duration": 59,
    "start_time": "2022-05-03T16:53:39.945Z"
   },
   {
    "duration": 33,
    "start_time": "2022-05-03T16:53:40.006Z"
   },
   {
    "duration": 760,
    "start_time": "2022-05-03T16:59:25.351Z"
   },
   {
    "duration": 37,
    "start_time": "2022-05-03T16:59:26.114Z"
   },
   {
    "duration": 43,
    "start_time": "2022-05-03T16:59:26.153Z"
   },
   {
    "duration": 21,
    "start_time": "2022-05-03T16:59:26.198Z"
   },
   {
    "duration": 8,
    "start_time": "2022-05-03T16:59:26.223Z"
   },
   {
    "duration": 23,
    "start_time": "2022-05-03T16:59:26.233Z"
   },
   {
    "duration": 8,
    "start_time": "2022-05-03T16:59:26.294Z"
   },
   {
    "duration": 10,
    "start_time": "2022-05-03T16:59:26.304Z"
   },
   {
    "duration": 6,
    "start_time": "2022-05-03T16:59:26.317Z"
   },
   {
    "duration": 10,
    "start_time": "2022-05-03T16:59:26.324Z"
   },
   {
    "duration": 7,
    "start_time": "2022-05-03T16:59:26.336Z"
   },
   {
    "duration": 9,
    "start_time": "2022-05-03T16:59:26.394Z"
   },
   {
    "duration": 9,
    "start_time": "2022-05-03T16:59:26.405Z"
   },
   {
    "duration": 21,
    "start_time": "2022-05-03T16:59:26.418Z"
   },
   {
    "duration": 53,
    "start_time": "2022-05-03T16:59:26.441Z"
   },
   {
    "duration": 9,
    "start_time": "2022-05-03T16:59:26.496Z"
   },
   {
    "duration": 9,
    "start_time": "2022-05-03T16:59:26.508Z"
   },
   {
    "duration": 28,
    "start_time": "2022-05-03T16:59:26.520Z"
   },
   {
    "duration": 43,
    "start_time": "2022-05-03T16:59:26.550Z"
   },
   {
    "duration": 8,
    "start_time": "2022-05-03T16:59:26.595Z"
   },
   {
    "duration": 10,
    "start_time": "2022-05-03T16:59:26.605Z"
   },
   {
    "duration": 11,
    "start_time": "2022-05-03T16:59:26.618Z"
   },
   {
    "duration": 8,
    "start_time": "2022-05-03T16:59:26.632Z"
   },
   {
    "duration": 61,
    "start_time": "2022-05-03T16:59:26.643Z"
   },
   {
    "duration": 11,
    "start_time": "2022-05-03T16:59:26.707Z"
   },
   {
    "duration": 10,
    "start_time": "2022-05-03T16:59:26.720Z"
   },
   {
    "duration": 15,
    "start_time": "2022-05-03T16:59:26.733Z"
   },
   {
    "duration": 47,
    "start_time": "2022-05-03T16:59:26.751Z"
   },
   {
    "duration": 9,
    "start_time": "2022-05-03T16:59:26.801Z"
   },
   {
    "duration": 8,
    "start_time": "2022-05-03T16:59:26.813Z"
   },
   {
    "duration": 20,
    "start_time": "2022-05-03T16:59:26.824Z"
   },
   {
    "duration": 49,
    "start_time": "2022-05-03T16:59:26.848Z"
   },
   {
    "duration": 10,
    "start_time": "2022-05-03T16:59:26.900Z"
   },
   {
    "duration": 15,
    "start_time": "2022-05-03T16:59:26.913Z"
   },
   {
    "duration": 63,
    "start_time": "2022-05-03T16:59:26.931Z"
   },
   {
    "duration": 10,
    "start_time": "2022-05-03T16:59:26.997Z"
   },
   {
    "duration": 11,
    "start_time": "2022-05-03T16:59:27.009Z"
   },
   {
    "duration": 8,
    "start_time": "2022-05-03T16:59:27.022Z"
   },
   {
    "duration": 8,
    "start_time": "2022-05-03T16:59:27.033Z"
   },
   {
    "duration": 10,
    "start_time": "2022-05-03T16:59:27.043Z"
   },
   {
    "duration": 10,
    "start_time": "2022-05-03T16:59:27.096Z"
   },
   {
    "duration": 39,
    "start_time": "2022-05-03T16:59:27.109Z"
   },
   {
    "duration": 10,
    "start_time": "2022-05-03T16:59:27.150Z"
   },
   {
    "duration": 25,
    "start_time": "2022-05-03T16:59:27.194Z"
   },
   {
    "duration": 39,
    "start_time": "2022-05-03T16:59:27.221Z"
   },
   {
    "duration": 54,
    "start_time": "2022-05-03T16:59:27.262Z"
   },
   {
    "duration": 36,
    "start_time": "2022-05-03T16:59:27.319Z"
   },
   {
    "duration": 16,
    "start_time": "2022-05-03T16:59:27.358Z"
   },
   {
    "duration": 12,
    "start_time": "2022-05-03T16:59:27.394Z"
   },
   {
    "duration": 18,
    "start_time": "2022-05-03T16:59:27.408Z"
   },
   {
    "duration": 16,
    "start_time": "2022-05-03T16:59:27.428Z"
   },
   {
    "duration": 53,
    "start_time": "2022-05-03T16:59:27.446Z"
   },
   {
    "duration": 20,
    "start_time": "2022-05-03T16:59:27.502Z"
   },
   {
    "duration": 17,
    "start_time": "2022-05-03T16:59:27.524Z"
   },
   {
    "duration": 10,
    "start_time": "2022-05-03T16:59:27.543Z"
   },
   {
    "duration": 38,
    "start_time": "2022-05-03T16:59:27.555Z"
   },
   {
    "duration": 19,
    "start_time": "2022-05-03T16:59:27.595Z"
   },
   {
    "duration": 21,
    "start_time": "2022-05-03T16:59:27.616Z"
   },
   {
    "duration": 14,
    "start_time": "2022-05-03T16:59:27.639Z"
   },
   {
    "duration": 38,
    "start_time": "2022-05-03T16:59:27.655Z"
   },
   {
    "duration": 17,
    "start_time": "2022-05-03T16:59:27.697Z"
   },
   {
    "duration": 21,
    "start_time": "2022-05-03T16:59:27.716Z"
   },
   {
    "duration": 8,
    "start_time": "2022-05-03T16:59:27.740Z"
   },
   {
    "duration": 44,
    "start_time": "2022-05-03T16:59:27.751Z"
   },
   {
    "duration": 33,
    "start_time": "2022-05-03T16:59:27.797Z"
   },
   {
    "duration": 29,
    "start_time": "2022-05-03T16:59:27.832Z"
   },
   {
    "duration": 36,
    "start_time": "2022-05-03T16:59:27.892Z"
   },
   {
    "duration": 33,
    "start_time": "2022-05-03T16:59:27.930Z"
   },
   {
    "duration": 58,
    "start_time": "2022-05-03T16:59:27.965Z"
   }
  ],
  "kernelspec": {
   "display_name": "Python 3 (ipykernel)",
   "language": "python",
   "name": "python3"
  },
  "language_info": {
   "codemirror_mode": {
    "name": "ipython",
    "version": 3
   },
   "file_extension": ".py",
   "mimetype": "text/x-python",
   "name": "python",
   "nbconvert_exporter": "python",
   "pygments_lexer": "ipython3",
   "version": "3.9.5"
  },
  "toc": {
   "base_numbering": 1,
   "nav_menu": {},
   "number_sections": true,
   "sideBar": true,
   "skip_h1_title": true,
   "title_cell": "Table of Contents",
   "title_sidebar": "Contents",
   "toc_cell": false,
   "toc_position": {},
   "toc_section_display": true,
   "toc_window_display": false
  }
 },
 "nbformat": 4,
 "nbformat_minor": 5
}
